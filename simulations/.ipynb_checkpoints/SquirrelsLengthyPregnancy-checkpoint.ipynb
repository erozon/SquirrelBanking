{
 "cells": [
  {
   "cell_type": "markdown",
   "metadata": {},
   "source": [
    "#### The original squirrel banking setup assumes the decision to produce offspring yields an immediate payout: you get pregnant, and immediately have an offspring. We now extend to insist that suirrels are pregnant for a day before giving birth; if your food runs below zero while pregnant, both you and your offspring die."
   ]
  },
  {
   "cell_type": "code",
   "execution_count": 1,
   "metadata": {},
   "outputs": [],
   "source": [
    "import plotly.express as px\n",
    "import pandas as pd"
   ]
  },
  {
   "cell_type": "code",
   "execution_count": 2,
   "metadata": {},
   "outputs": [],
   "source": [
    "p0, p1, p2 = var('p0, p1, p2')"
   ]
  },
  {
   "cell_type": "code",
   "execution_count": 3,
   "metadata": {},
   "outputs": [],
   "source": [
    "def normalize(P0, P1, P2):\n",
    "    p0 = P0/(P0 + P1 + P2)\n",
    "    p1 = P1/(P0 + P1 + P2)\n",
    "    p2 = 1 - p0 - p1\n",
    "    return([p0, p1, p2])\n",
    "\n",
    "def Lnow(p0, p1, p2, double_pregnancy = False):\n",
    "    L = zero_matrix(QQ, 2)\n",
    "    L[0,0] = p1\n",
    "    L[1, 0] = p2\n",
    "    if double_pregnancy == False:\n",
    "        L[0, 1] = 2*(p1+p2)\n",
    "        L[1, 1] = 0\n",
    "    else:\n",
    "        L[0, 1] = 2*p1 + p2\n",
    "        L[1, 1] = p2\n",
    "    return L\n",
    "\n",
    "def Lpatient(p0, p1, p2, double_pregnancy = False):\n",
    "    L = zero_matrix(QQ, 3)\n",
    "    L[0,0] = p1\n",
    "    L[1,0] = p2\n",
    "    L[2, 0] = 0\n",
    "    L[0, 1] = p0\n",
    "    L[1, 1] = p1\n",
    "    L[2, 1] = p2 \n",
    "    L[0, 2] = 1 + p0\n",
    "    if double_pregnancy == False:\n",
    "        L[1, 2] = p1 + p2\n",
    "        L[2, 2] = 0\n",
    "    else:\n",
    "        L[1, 2] = p1\n",
    "        L[2, 2] = p2\n",
    "    return L\n",
    "\n",
    "def L_betahat(p0, p1, p2, betahat, double_pregnancy = False):\n",
    "    normalized = normalize(p0, p1, p2)\n",
    "    p0 = normalized[0]\n",
    "    p1 = normalized[1]    \n",
    "    p2 = normalized[2]\n",
    "    if betahat == 0:\n",
    "        L = Lnow(p0, p1, p2, double_pregnancy)\n",
    "    elif betahat == 1:\n",
    "        L = Lpatient(p0, p1, p2, double_pregnancy)\n",
    "    else:\n",
    "        L = zero_matrix(QQ, betahat + 2)\n",
    "        for i in range(betahat+1):\n",
    "            L[i, i] = p1\n",
    "            if i < betahat+1:\n",
    "                L[i + 1, i] = p2\n",
    "                if i > 0:\n",
    "                    L[i-1, i] = p0\n",
    "        L[0, betahat+1] = 1\n",
    "        L[betahat - 1, betahat+1] = p0\n",
    "        if double_pregnancy == False:\n",
    "            L[betahat, betahat+1] = p1 + p2\n",
    "            L[betahat+1, betahat+1] = 0\n",
    "        else:\n",
    "            L[betahat, betahat + 1] = p1\n",
    "            L[betahat+1, betahat+1] = p2           \n",
    "    return(L)\n",
    "\n",
    "def is_essentially_real(x):\n",
    "    if x.imag() == 0:\n",
    "        return(True)\n",
    "    else:\n",
    "        return(False)\n",
    "    \n",
    "#Use of \"if is_essentiallY_real(e)\" rather than \"if e in RR\" is required since some computational errors\n",
    "#    seem to come up in the eigenvalue computation, giving us things like x + 0.?e-80*I.\n",
    "\n",
    "def get_leading_eigenvalue(L):\n",
    "    evals = L.eigenvalues()\n",
    "    moduli = [e.n() for e in evals if is_essentially_real(e)]\n",
    "    moduli = [e for e in moduli if e >= 0]\n",
    "    r = max(moduli)\n",
    "    return(r)\n",
    "\n",
    "def patient_or_hasty(p0, p1, p2):\n",
    "    normalized = normalize(p0, p1, p2)\n",
    "    print([m.n(digits = 3) for m in normalized])\n",
    "    p0 = normalized[0]\n",
    "    p1 = normalized[1]\n",
    "    p2 = normalized[2]\n",
    "    Ln = Lnow(p0, p1, p2)\n",
    "    Lp = Lpatient(p0, p1, p2)\n",
    "    rn = get_leading_eigenvalue(Ln)\n",
    "    rp = get_leading_eigenvalue(Lp)\n",
    "    if rn < rp:\n",
    "        phrase = \"Patience is a virtue.\"\n",
    "    elif rn == rp:\n",
    "        phrase = \"It doesn't matter!\"\n",
    "    else:\n",
    "        phrase = \"Strike while the iron is hot.\"\n",
    "    numerics = \"r_now = {}, r_patient = {}\".format(rn.n(digits = 3), rp.n(digits = 3))\n",
    "    print(numerics)\n",
    "    return(phrase)\n",
    "\n",
    "def fitness(p0, p1, p2, betahat, double_pregnancy = False):\n",
    "    normalized = normalize(p0, p1, p2)\n",
    "    p0 = normalized[0]\n",
    "    p1 = normalized[1]\n",
    "    p2 = normalized[2]\n",
    "    L = L_betahat(p0, p1, p2, betahat, double_pregnancy)\n",
    "    r = get_leading_eigenvalue(L)\n",
    "    return(r)\n",
    "\n",
    "def first_n_fitness(p0, p1, p2, double_pregnancy = False, n = 5):\n",
    "    fitnesses = []\n",
    "    for i in range(n):\n",
    "        fitnesses.append(fitness(p0, p1, p2, i, double_pregnancy))\n",
    "    return(fitnesses)\n",
    "        "
   ]
  },
  {
   "cell_type": "code",
   "execution_count": 4,
   "metadata": {},
   "outputs": [],
   "source": [
    "def normalize(vec):\n",
    "    tot = sum(vec)\n",
    "    vec = vec/tot\n",
    "    return(vec)\n",
    "\n",
    "def get_leading_evec(p0, p1, p2, betahat):\n",
    "    L = L_betahat(p0, p1, p2, betahat)\n",
    "    r = get_leading_eigenvalue(L)\n",
    "    evecs = L.eigenvectors_right()\n",
    "    arrs = [e[0].n() for e in evecs]\n",
    "    i = arrs.index(r)\n",
    "    leading_evec = evecs[i][1][0]\n",
    "    leading_evec = get_stable_age_distn(leading_evec).n()\n",
    "    return(leading_evec)\n",
    "def get_optimal_betahat(p0, p1, p2, double_pregancy = False, up_to = 10):\n",
    "    fnf = first_n_fitness(p0, p1, p2,double_pregancy, up_to)\n",
    "    betahat = fnf.index(max(fnf))\n",
    "    return(betahat)\n",
    "    \n"
   ]
  },
  {
   "cell_type": "code",
   "execution_count": 5,
   "metadata": {},
   "outputs": [
    {
     "data": {
      "text/plain": [
       "[1.26119095748622, 1.26119812516915]"
      ]
     },
     "execution_count": 5,
     "metadata": {},
     "output_type": "execute_result"
    }
   ],
   "source": [
    "first_n_fitness(107.5, 0, 886, n = 2)"
   ]
  },
  {
   "cell_type": "code",
   "execution_count": 15,
   "metadata": {},
   "outputs": [
    {
     "data": {
      "text/plain": [
       "[0.939567612507440,\n",
       " 1.00830335327835,\n",
       " 1.01115571579274,\n",
       " 1.01094889786515,\n",
       " 1.01014493373333,\n",
       " 1.00928323152343,\n",
       " 1.00849415828651,\n",
       " 1.00780216127526,\n",
       " 1.00720243242407,\n",
       " 1.00668300222784,\n",
       " 1.00623142726464,\n",
       " 1.00583669095620,\n",
       " 1.00548955534009,\n",
       " 1.00518242795107,\n",
       " 1.00490910615004]"
      ]
     },
     "execution_count": 15,
     "metadata": {},
     "output_type": "execute_result"
    }
   ],
   "source": [
    "first_n_fitness(1, 2, 1.2, n = 15)"
   ]
  },
  {
   "cell_type": "code",
   "execution_count": 14,
   "metadata": {},
   "outputs": [
    {
     "data": {
      "text/plain": [
       "[1.13171105365228, 1.13171449050811]"
      ]
     },
     "execution_count": 14,
     "metadata": {},
     "output_type": "execute_result"
    }
   ],
   "source": [
    "first_n_fitness(230.49,1000,886, n = 2)"
   ]
  },
  {
   "cell_type": "code",
   "execution_count": 137,
   "metadata": {},
   "outputs": [
    {
     "data": {
      "text/plain": [
       "231"
      ]
     },
     "execution_count": 137,
     "metadata": {},
     "output_type": "execute_result"
    }
   ],
   "source": [
    "n = 20\n",
    "triples = []\n",
    "for i in range(n + 1):\n",
    "    first = n - i\n",
    "    for j in range(n - first + 1):\n",
    "        second = j\n",
    "        third = i - j\n",
    "        trip = [first, second, third]\n",
    "        triples.append(trip)\n",
    "\n",
    "first = []\n",
    "second = []\n",
    "third = []\n",
    "for i in range(n + 1):\n",
    "    for j in range(i + 1):\n",
    "        first.append(n - i)\n",
    "        second.append(j)\n",
    "        third.append(i - j)\n",
    "len(first)"
   ]
  },
  {
   "cell_type": "code",
   "execution_count": 156,
   "metadata": {
    "collapsed": true
   },
   "outputs": [],
   "source": [
    "L = L_betahat(0, 19, 1, 2)\n",
    "evecs = L.eigenvectors_right()"
   ]
  },
  {
   "cell_type": "code",
   "execution_count": 157,
   "metadata": {},
   "outputs": [
    {
     "data": {
      "text/plain": [
       "1.0223003840704707"
      ]
     },
     "execution_count": 157,
     "metadata": {},
     "output_type": "execute_result"
    }
   ],
   "source": [
    "get_leading_eigenvalue(L)"
   ]
  },
  {
   "cell_type": "code",
   "execution_count": 161,
   "metadata": {},
   "outputs": [
    {
     "data": {
      "text/plain": [
       "False"
      ]
     },
     "execution_count": 161,
     "metadata": {},
     "output_type": "execute_result"
    }
   ],
   "source": [
    "float(evecs[1][0]) == get_leading_eigenvalue(L)"
   ]
  },
  {
   "cell_type": "code",
   "execution_count": 165,
   "metadata": {},
   "outputs": [
    {
     "ename": "ValueError",
     "evalue": "1.02230038407047 is not in list",
     "output_type": "error",
     "traceback": [
      "\u001b[1;31m---------------------------------------------------------------------------\u001b[0m",
      "\u001b[1;31mValueError\u001b[0m                                Traceback (most recent call last)",
      "\u001b[1;32m<ipython-input-165-8b8a1378cd7b>\u001b[0m in \u001b[0;36m<module>\u001b[1;34m()\u001b[0m\n\u001b[1;32m----> 1\u001b[1;33m \u001b[0mget_leading_evec\u001b[0m\u001b[1;33m(\u001b[0m\u001b[0mInteger\u001b[0m\u001b[1;33m(\u001b[0m\u001b[1;36m0\u001b[0m\u001b[1;33m)\u001b[0m\u001b[1;33m,\u001b[0m \u001b[0mInteger\u001b[0m\u001b[1;33m(\u001b[0m\u001b[1;36m19\u001b[0m\u001b[1;33m)\u001b[0m\u001b[1;33m,\u001b[0m \u001b[0mInteger\u001b[0m\u001b[1;33m(\u001b[0m\u001b[1;36m1\u001b[0m\u001b[1;33m)\u001b[0m\u001b[1;33m,\u001b[0m \u001b[0mInteger\u001b[0m\u001b[1;33m(\u001b[0m\u001b[1;36m2\u001b[0m\u001b[1;33m)\u001b[0m\u001b[1;33m)\u001b[0m\u001b[1;33m\u001b[0m\u001b[0m\n\u001b[0m",
      "\u001b[1;32m<ipython-input-164-042d300974b1>\u001b[0m in \u001b[0;36mget_leading_evec\u001b[1;34m(p0, p1, p2, betahat)\u001b[0m\n\u001b[0;32m      8\u001b[0m     \u001b[0mevecs\u001b[0m \u001b[1;33m=\u001b[0m \u001b[0mL\u001b[0m\u001b[1;33m.\u001b[0m\u001b[0meigenvectors_right\u001b[0m\u001b[1;33m(\u001b[0m\u001b[1;33m)\u001b[0m\u001b[1;33m\u001b[0m\u001b[0m\n\u001b[0;32m      9\u001b[0m     \u001b[0marrs\u001b[0m \u001b[1;33m=\u001b[0m \u001b[1;33m[\u001b[0m\u001b[0me\u001b[0m\u001b[1;33m[\u001b[0m\u001b[0mInteger\u001b[0m\u001b[1;33m(\u001b[0m\u001b[1;36m0\u001b[0m\u001b[1;33m)\u001b[0m\u001b[1;33m]\u001b[0m\u001b[1;33m.\u001b[0m\u001b[0mn\u001b[0m\u001b[1;33m(\u001b[0m\u001b[1;33m)\u001b[0m \u001b[1;32mfor\u001b[0m \u001b[0me\u001b[0m \u001b[1;32min\u001b[0m \u001b[0mevecs\u001b[0m\u001b[1;33m]\u001b[0m\u001b[1;33m\u001b[0m\u001b[0m\n\u001b[1;32m---> 10\u001b[1;33m     \u001b[0mi\u001b[0m \u001b[1;33m=\u001b[0m \u001b[0marrs\u001b[0m\u001b[1;33m.\u001b[0m\u001b[0mindex\u001b[0m\u001b[1;33m(\u001b[0m\u001b[0mr\u001b[0m\u001b[1;33m)\u001b[0m\u001b[1;33m\u001b[0m\u001b[0m\n\u001b[0m\u001b[0;32m     11\u001b[0m     \u001b[0mleading_evec\u001b[0m \u001b[1;33m=\u001b[0m \u001b[0mevecs\u001b[0m\u001b[1;33m[\u001b[0m\u001b[0mi\u001b[0m\u001b[1;33m]\u001b[0m\u001b[1;33m[\u001b[0m\u001b[0mInteger\u001b[0m\u001b[1;33m(\u001b[0m\u001b[1;36m1\u001b[0m\u001b[1;33m)\u001b[0m\u001b[1;33m]\u001b[0m\u001b[1;33m[\u001b[0m\u001b[0mInteger\u001b[0m\u001b[1;33m(\u001b[0m\u001b[1;36m0\u001b[0m\u001b[1;33m)\u001b[0m\u001b[1;33m]\u001b[0m\u001b[1;33m\u001b[0m\u001b[0m\n\u001b[0;32m     12\u001b[0m     \u001b[0mleading_evec\u001b[0m \u001b[1;33m=\u001b[0m \u001b[0mget_stable_age_distn\u001b[0m\u001b[1;33m(\u001b[0m\u001b[0mleading_evec\u001b[0m\u001b[1;33m)\u001b[0m\u001b[1;33m.\u001b[0m\u001b[0mn\u001b[0m\u001b[1;33m(\u001b[0m\u001b[1;33m)\u001b[0m\u001b[1;33m\u001b[0m\u001b[0m\n",
      "\u001b[1;31mValueError\u001b[0m: 1.02230038407047 is not in list"
     ]
    }
   ],
   "source": [
    "get_leading_evec(0, 19, 1, 2)"
   ]
  },
  {
   "cell_type": "code",
   "execution_count": 118,
   "metadata": {},
   "outputs": [
    {
     "data": {
      "text/plain": [
       "(0, 19, 1)"
      ]
     },
     "execution_count": 118,
     "metadata": {},
     "output_type": "execute_result"
    }
   ],
   "source": [
    "first[k], second[k], third[k]"
   ]
  },
  {
   "cell_type": "code",
   "execution_count": 116,
   "metadata": {},
   "outputs": [
    {
     "name": "stdout",
     "output_type": "stream",
     "text": [
      "(1.00000000000000, 0.000000000000000)\n",
      "(0.717846293925489, 0.0377340497613420)\n",
      "(1.00000000000000, 0.000000000000000)\n",
      "(0.618369403568888, 0.0683462809662520)\n",
      "(0.711008396922708, 0.0402761609358561)\n",
      "(1.00000000000000, 0.000000000000000)\n",
      "(0.548091425880116, 0.0955114988868822)\n",
      "(0.609589405596708, 0.0727784947674140)\n",
      "(0.703703188708457, 0.0429605939776824)\n",
      "(1.00000000000000, 0.000000000000000)\n",
      "(0.492843462747318, 0.120302372616402)\n",
      "(0.538222354457530, 0.101503576007617)\n",
      "(0.600223941444094, 0.0775336390205008)\n",
      "(0.695853136567601, 0.0458460840077637)\n",
      "(1.00000000000000, 0.000000000000000)\n",
      "(0.447266372422824, 0.143245715353895)\n",
      "(0.482359711338408, 0.127623936974028)\n",
      "(0.527729980928786, 0.107971970304973)\n",
      "(0.590191021605662, 0.0826918281526240)\n",
      "(0.687369959075294, 0.0489943043362569)\n",
      "(1.00000000000000, 0.000000000000000)\n",
      "(0.408682347540972, 0.164643037605478)\n",
      "(0.436502853803649, 0.151711954034877)\n",
      "(0.471267762971968, 0.135546553522320)\n",
      "(0.516539774035427, 0.115014037347785)\n",
      "(0.579395944748365, 0.0883460877606621)\n",
      "(0.678149881530586, 0.0524751273966787)\n",
      "(1.00000000000000, 0.000000000000000)\n",
      "(0.375544950821604, 0.184679707133466)\n",
      "(0.397906485223535, 0.174092515577757)\n",
      "(0.425187839971918, 0.160876091413882)\n",
      "(0.459509651596847, 0.144179548186043)\n",
      "(0.504567616475393, 0.122745519659198)\n",
      "(0.567727859713720, 0.0946080041047298)\n",
      "(0.668067999145608, 0.0563722225669099)\n",
      "(1.00000000000000, 0.000000000000000)\n",
      "(0.346875536384850, 0.203473577659880)\n",
      "(0.364985728467097, 0.194963417655468)\n",
      "(0.386670970168512, 0.184309350723372)\n",
      "(0.413287590737797, 0.170853341262964)\n",
      "(0.447024103571696, 0.153652966380655)\n",
      "(0.491718502171039, 0.131306651695242)\n",
      "(0.555055583898437, 0.101615093311019)\n",
      "(0.656970997125457, 0.0607900328755474)\n",
      "(1.00000000000000, 0.000000000000000)\n",
      "(0.322012685208605, 0.221100475634057)\n",
      "(0.336736616868991, 0.214449154695272)\n",
      "(0.354089008215010, 0.206056828313468)\n",
      "(0.374972605989692, 0.195408133763732)\n",
      "(0.400773552947990, 0.181779196146736)\n",
      "(0.433748226924669, 0.164123299424094)\n",
      "(0.477885561956510, 0.140870235574214)\n",
      "(0.541222467369013, 0.109540892846409)\n",
      "(0.644667258528133, 0.0658633994337793)\n",
      "(1.00000000000000, 0.000000000000000)\n",
      "(0.300484970977214, 0.237609231729017)\n",
      "(0.312478238555841, 0.232629250768677)\n",
      "(0.326408123276382, 0.226249999119474)\n",
      "(0.342886911975424, 0.218067307157698)\n",
      "(0.362823257902822, 0.207520740551686)\n",
      "(0.387627564304206, 0.193813782152103)\n",
      "(0.419621017426714, 0.175780729716698)\n",
      "(0.462949969596901, 0.151652528030876)\n",
      "(0.526040139221871, 0.118609289237675)\n",
      "(0.630912942140360, 0.0717717437778442)\n",
      "(1.00000000000000, 0.000000000000000)\n",
      "(0.281939840434319, 0.253031418989584)\n",
      "(0.291721684844925, 0.249555084486837)\n",
      "(0.302923014113809, 0.244972778557279)\n",
      "(0.315960421062317, 0.238969927964065)\n",
      "(0.331436954551351, 0.231114263699145)\n",
      "(0.350258624048975, 0.220798405282534)\n",
      "(0.373850433560860, 0.207146716651914)\n",
      "(0.404590105766153, 0.188858222527394)\n",
      "(0.446782881924765, 0.163928104355100)\n",
      "(0.509281171595796, 0.129115471798212)\n",
      "(0.615391823615881, 0.0787610280071378)\n",
      "(1.00000000000000, 0.000000000000000)\n",
      "(0.266100886876877, 0.267388154854233)\n",
      "(0.274096787604626, 0.265260863475370)\n",
      "(0.283121756918807, 0.262280370456676)\n",
      "(0.293456392500411, 0.258205658334702)\n",
      "(0.305499032187693, 0.252707773497188)\n",
      "(0.319833891320353, 0.245328280140825)\n",
      "(0.337351649317917, 0.235412908020321)\n",
      "(0.359476041311180, 0.222002014714857)\n",
      "(0.388624313316678, 0.203642637865203)\n",
      "(0.429251806658671, 0.178050263718074)\n",
      "(0.490671319216485, 0.141457395149014)\n",
      "(0.597685348188270, 0.0871793133940089)\n",
      "(1.00000000000000, 0.000000000000000)\n",
      "(0.252740777783110, 0.280695121637208)\n",
      "(0.259308210625048, 0.279771308474870)\n",
      "(0.266610352420060, 0.278211631410542)\n",
      "(0.274831985167418, 0.275835861999976)\n",
      "(0.284231048112078, 0.272399342138226)\n",
      "(0.295178523921695, 0.267563293033982)\n",
      "(0.308226831910006, 0.260847868350567)\n",
      "(0.324233020517470, 0.251555569278609)\n",
      "(0.344594505322093, 0.238641839492659)\n",
      "(0.371736694280242, 0.220487466128184)\n",
      "(0.410236398107899, 0.194478871357096)\n",
      "(0.469883765192647, 0.156184171884406)\n",
      "(0.577227088758614, 0.0975370694211845)\n",
      "(1.00000000000000, 0.000000000000000)\n",
      "(0.241663489012565, 0.292966389348368)\n",
      "(0.247107844704281, 0.293107281207586)\n",
      "(0.253067773190180, 0.292797699399091)\n",
      "(0.259660730597497, 0.291907471919217)\n",
      "(0.267047997027719, 0.290260673781420)\n",
      "(0.275457397885196, 0.287615004608452)\n",
      "(0.285221390772005, 0.283629436352103)\n",
      "(0.296843737070582, 0.277811876329380)\n",
      "(0.311122352397170, 0.269431524453370)\n",
      "(0.329390226878352, 0.257366283046553)\n",
      "(0.354026656475543, 0.239825155869491)\n",
      "(0.389664283673357, 0.213817232193775)\n",
      "(0.446542740862877, 0.174072027079691)\n",
      "(0.553232228742057, 0.110614904583042)\n",
      "(1.00000000000000, 0.000000000000000)\n",
      "(0.232692471316695, 0.304217335750549)\n",
      "(0.237277003534172, 0.305289966813797)\n",
      "(0.242218113199325, 0.306068190360709)\n",
      "(0.247586891309046, 0.306462532173914)\n",
      "(0.253479130973325, 0.306352469297297)\n",
      "(0.260027532275638, 0.305572738202158)\n",
      "(0.267421799334017, 0.303892021017619)\n",
      "(0.275943086423396, 0.300978739991472)\n",
      "(0.286025845101589, 0.296344231109720)\n",
      "(0.298375115389470, 0.289244548877396)\n",
      "(0.314204132892279, 0.278503008912468)\n",
      "(0.335756944743768, 0.262172722625661)\n",
      "(0.367589811392763, 0.236856727498459)\n",
      "(0.420257822444624, 0.196244741970294)\n",
      "(0.524588251363332, 0.127667925304548)\n",
      "(1.00000000000000, 0.000000000000000)\n",
      "(0.225662845539816, 0.314466810101397)\n",
      "(0.229614944597426, 0.316343915423921)\n",
      "(0.233813138169270, 0.318055600433471)\n",
      "(0.238297888566636, 0.319544782227910)\n",
      "(0.243122332277363, 0.320734647971667)\n",
      "(0.248358200652301, 0.321520145803457)\n",
      "(0.254105414965165, 0.321754854166504)\n",
      "(0.260508244573886, 0.321230103466798)\n",
      "(0.267783738758061, 0.319640620807925)\n",
      "(0.276274367615820, 0.316525721634682)\n",
      "(0.286551509310251, 0.311163931656536)\n",
      "(0.299634116318443, 0.302373839294381)\n",
      "(0.317493918378177, 0.288113672551412)\n",
      "(0.344365820124087, 0.264616273802014)\n",
      "(0.390750903299776, 0.224361150423037)\n",
      "(0.489695066680691, 0.150841501285045)\n",
      "(1.00000000000000, 0.000000000000000)\n",
      "(0.220416478138470, 0.323738616237653)\n",
      "(0.223931718696135, 0.326299101608050)\n",
      "(0.227621603625054, 0.328798241923464)\n",
      "(0.231507813386110, 0.331203966148143)\n",
      "(0.235617665585364, 0.333472881128279)\n",
      "(0.239986523667155, 0.335545484329714)\n",
      "(0.244661632516517, 0.337338850074458)\n",
      "(0.249708464663464, 0.338735129686344)\n",
      "(0.255221683606439, 0.339562859617183)\n",
      "(0.261345040242776, 0.339565384855107)\n",
      "(0.268309604606193, 0.338345046080390)\n",
      "(0.276512358311605, 0.335259091867102)\n",
      "(0.286691476927702, 0.329212682246811)\n",
      "(0.300358930099436, 0.318214007727706)\n",
      "(0.321017455737972, 0.298323613872998)\n",
      "(0.358261817319662, 0.260874944730640)\n",
      "(0.446303712684349, 0.184085667541742)\n",
      "(1.00000000000000, 0.000000000000000)\n",
      "(0.216799182788427, 0.332062365933798)\n",
      "(0.220044098448012, 0.335192103027575)\n",
      "(0.223423186800361, 0.338341912123242)\n",
      "(0.226948131250503, 0.341498259948773)\n",
      "(0.230632680391494, 0.344642228143205)\n",
      "(0.234493347865509, 0.347747241685568)\n",
      "(0.238550490648633, 0.350775633106642)\n",
      "(0.242830043774065, 0.353673305700546)\n",
      "(0.247366446740135, 0.356361183985126)\n",
      "(0.252207845966672, 0.358721013115988)\n",
      "(0.257425902527105, 0.360570741141859)\n",
      "(0.263135562804656, 0.361619597888935)\n",
      "(0.269538165414553, 0.361380853178653)\n",
      "(0.277024779281627, 0.358988792140722)\n",
      "(0.286455255871610, 0.352775412555978)\n",
      "(0.300039582691425, 0.339159713742027)\n",
      "(0.324805558521526, 0.309203882503408)\n",
      "(0.391888021308238, 0.235300599468501)\n",
      "(1.00000000000000, 0.000000000000000)\n",
      "(0.214659500536561, 0.339473756014088)\n",
      "(0.217773720603465, 0.343066491839008)\n",
      "(0.221005617619512, 0.346740460656847)\n",
      "(0.224363172220293, 0.350495115757581)\n",
      "(0.227855165501904, 0.354328426364741)\n",
      "(0.231491289515007, 0.358236162802593)\n",
      "(0.235282283242694, 0.362210814287613)\n",
      "(0.239240108516206, 0.366239914767803)\n",
      "(0.243378195633987, 0.370303385404896)\n",
      "(0.247711824243204, 0.374369184108129)\n",
      "(0.252258793003302, 0.378385914870371)\n",
      "(0.257040760438819, 0.382269694946534)\n",
      "(0.262086277425371, 0.385879491472458)\n",
      "(0.267438469251253, 0.388967481618876)\n",
      "(0.273176890376562, 0.391069858533906)\n",
      "(0.279488796656346, 0.391236622679416)\n",
      "(0.286948323376236, 0.387244404696916)\n",
      "(0.297959079830789, 0.372676489672270)\n",
      "(0.328895559007336, 0.320839453673358)\n",
      "(1.00000000000000, 0.000000000000000)\n",
      "(0.213848622242577, 0.346014339235826)\n",
      "(0.216946782751859, 0.349972549413490)\n",
      "(0.220163981812819, 0.354055433761341)\n",
      "(0.223508750961273, 0.358270817726972)\n",
      "(0.226990576737255, 0.362627335966039)\n",
      "(0.230620051210889, 0.367134554026125)\n",
      "(0.234409053860691, 0.371803114647879)\n",
      "(0.238370973087208, 0.376644915064456)\n",
      "(0.242520978344306, 0.381673323732909)\n",
      "(0.246876357634081, 0.386903447785612)\n",
      "(0.251456940439718, 0.392352466520471)\n",
      "(0.256285633842087, 0.398040052036802)\n",
      "(0.261389110817480, 0.403988906591821)\n",
      "(0.266798706559924, 0.410225458899205)\n",
      "(0.272551604479795, 0.416780780918185)\n",
      "(0.278692434104076, 0.423691816992139)\n",
      "(0.285275468784480, 0.431003066145520)\n",
      "(0.292367721061482, 0.438768940092726)\n",
      "(0.300053424810450, 0.447057161407702)\n"
     ]
    },
    {
     "ename": "ValueError",
     "evalue": "1.0223003840704707 is not in list",
     "output_type": "error",
     "traceback": [
      "\u001b[1;31m---------------------------------------------------------------------------\u001b[0m",
      "\u001b[1;31mValueError\u001b[0m                                Traceback (most recent call last)",
      "\u001b[1;32m<ipython-input-116-6df8399ad3f3>\u001b[0m in \u001b[0;36m<module>\u001b[1;34m()\u001b[0m\n\u001b[0;32m      1\u001b[0m \u001b[0mbetahat\u001b[0m \u001b[1;33m=\u001b[0m \u001b[0mInteger\u001b[0m\u001b[1;33m(\u001b[0m\u001b[1;36m2\u001b[0m\u001b[1;33m)\u001b[0m\u001b[1;33m\u001b[0m\u001b[0m\n\u001b[0;32m      2\u001b[0m \u001b[1;32mfor\u001b[0m \u001b[0mk\u001b[0m \u001b[1;32min\u001b[0m \u001b[0mrange\u001b[0m\u001b[1;33m(\u001b[0m\u001b[0mlen\u001b[0m\u001b[1;33m(\u001b[0m\u001b[0mfirst\u001b[0m\u001b[1;33m)\u001b[0m\u001b[1;33m)\u001b[0m\u001b[1;33m:\u001b[0m\u001b[1;33m\u001b[0m\u001b[0m\n\u001b[1;32m----> 3\u001b[1;33m     \u001b[0mn\u001b[0m \u001b[1;33m=\u001b[0m \u001b[0mget_leading_evec\u001b[0m\u001b[1;33m(\u001b[0m\u001b[0mfirst\u001b[0m\u001b[1;33m[\u001b[0m\u001b[0mk\u001b[0m\u001b[1;33m]\u001b[0m\u001b[1;33m,\u001b[0m \u001b[0msecond\u001b[0m\u001b[1;33m[\u001b[0m\u001b[0mk\u001b[0m\u001b[1;33m]\u001b[0m\u001b[1;33m,\u001b[0m \u001b[0mthird\u001b[0m\u001b[1;33m[\u001b[0m\u001b[0mk\u001b[0m\u001b[1;33m]\u001b[0m\u001b[1;33m,\u001b[0m \u001b[0mbetahat\u001b[0m\u001b[1;33m)\u001b[0m\u001b[1;33m\u001b[0m\u001b[0m\n\u001b[0m\u001b[0;32m      4\u001b[0m     \u001b[1;32mprint\u001b[0m\u001b[1;33m(\u001b[0m\u001b[0mn\u001b[0m\u001b[1;33m[\u001b[0m\u001b[0mInteger\u001b[0m\u001b[1;33m(\u001b[0m\u001b[1;36m0\u001b[0m\u001b[1;33m)\u001b[0m\u001b[1;33m]\u001b[0m\u001b[1;33m,\u001b[0m \u001b[0mn\u001b[0m\u001b[1;33m[\u001b[0m\u001b[1;33m-\u001b[0m\u001b[0mInteger\u001b[0m\u001b[1;33m(\u001b[0m\u001b[1;36m2\u001b[0m\u001b[1;33m)\u001b[0m\u001b[1;33m]\u001b[0m\u001b[1;33m)\u001b[0m\u001b[1;33m\u001b[0m\u001b[0m\n",
      "\u001b[1;32m<ipython-input-61-042d300974b1>\u001b[0m in \u001b[0;36mget_leading_evec\u001b[1;34m(p0, p1, p2, betahat)\u001b[0m\n\u001b[0;32m      8\u001b[0m     \u001b[0mevecs\u001b[0m \u001b[1;33m=\u001b[0m \u001b[0mL\u001b[0m\u001b[1;33m.\u001b[0m\u001b[0meigenvectors_right\u001b[0m\u001b[1;33m(\u001b[0m\u001b[1;33m)\u001b[0m\u001b[1;33m\u001b[0m\u001b[0m\n\u001b[0;32m      9\u001b[0m     \u001b[0marrs\u001b[0m \u001b[1;33m=\u001b[0m \u001b[1;33m[\u001b[0m\u001b[0me\u001b[0m\u001b[1;33m[\u001b[0m\u001b[0mInteger\u001b[0m\u001b[1;33m(\u001b[0m\u001b[1;36m0\u001b[0m\u001b[1;33m)\u001b[0m\u001b[1;33m]\u001b[0m\u001b[1;33m.\u001b[0m\u001b[0mn\u001b[0m\u001b[1;33m(\u001b[0m\u001b[1;33m)\u001b[0m \u001b[1;32mfor\u001b[0m \u001b[0me\u001b[0m \u001b[1;32min\u001b[0m \u001b[0mevecs\u001b[0m\u001b[1;33m]\u001b[0m\u001b[1;33m\u001b[0m\u001b[0m\n\u001b[1;32m---> 10\u001b[1;33m     \u001b[0mi\u001b[0m \u001b[1;33m=\u001b[0m \u001b[0marrs\u001b[0m\u001b[1;33m.\u001b[0m\u001b[0mindex\u001b[0m\u001b[1;33m(\u001b[0m\u001b[0mr\u001b[0m\u001b[1;33m)\u001b[0m\u001b[1;33m\u001b[0m\u001b[0m\n\u001b[0m\u001b[0;32m     11\u001b[0m     \u001b[0mleading_evec\u001b[0m \u001b[1;33m=\u001b[0m \u001b[0mevecs\u001b[0m\u001b[1;33m[\u001b[0m\u001b[0mi\u001b[0m\u001b[1;33m]\u001b[0m\u001b[1;33m[\u001b[0m\u001b[0mInteger\u001b[0m\u001b[1;33m(\u001b[0m\u001b[1;36m1\u001b[0m\u001b[1;33m)\u001b[0m\u001b[1;33m]\u001b[0m\u001b[1;33m[\u001b[0m\u001b[0mInteger\u001b[0m\u001b[1;33m(\u001b[0m\u001b[1;36m0\u001b[0m\u001b[1;33m)\u001b[0m\u001b[1;33m]\u001b[0m\u001b[1;33m\u001b[0m\u001b[0m\n\u001b[0;32m     12\u001b[0m     \u001b[0mleading_evec\u001b[0m \u001b[1;33m=\u001b[0m \u001b[0mget_stable_age_distn\u001b[0m\u001b[1;33m(\u001b[0m\u001b[0mleading_evec\u001b[0m\u001b[1;33m)\u001b[0m\u001b[1;33m.\u001b[0m\u001b[0mn\u001b[0m\u001b[1;33m(\u001b[0m\u001b[1;33m)\u001b[0m\u001b[1;33m\u001b[0m\u001b[0m\n",
      "\u001b[1;31mValueError\u001b[0m: 1.0223003840704707 is not in list"
     ]
    }
   ],
   "source": [
    "betahat = 2\n",
    "for k in range(len(first)):\n",
    "    n = get_leading_evec(first[k], second[k], third[k], betahat)\n",
    "    print(n[0], n[-2])"
   ]
  },
  {
   "cell_type": "code",
   "execution_count": 92,
   "metadata": {},
   "outputs": [
    {
     "data": {
      "text/plain": [
       "(0.756601886794340, 0.243398113205660)"
      ]
     },
     "execution_count": 92,
     "metadata": {},
     "output_type": "execute_result"
    }
   ],
   "source": [
    "n = get_leading_evec(1, 3, 2, 0)\n",
    "n"
   ]
  },
  {
   "cell_type": "code",
   "execution_count": null,
   "metadata": {},
   "outputs": [],
   "source": []
  },
  {
   "cell_type": "code",
   "execution_count": null,
   "metadata": {},
   "outputs": [],
   "source": []
  },
  {
   "cell_type": "code",
   "execution_count": 84,
   "metadata": {},
   "outputs": [
    {
     "data": {
      "text/plain": [
       "(0.299674859113913, 0.331160977626351, 0.274435180552712, 0.0947289827070235)"
      ]
     },
     "execution_count": 84,
     "metadata": {},
     "output_type": "execute_result"
    }
   ],
   "source": [
    "n = get_leading_evec(1.78, 2, 2, 2)\n",
    "n"
   ]
  },
  {
   "cell_type": "code",
   "execution_count": 85,
   "metadata": {},
   "outputs": [
    {
     "data": {
      "text/plain": [
       "0.0949602700874435"
      ]
     },
     "execution_count": 85,
     "metadata": {},
     "output_type": "execute_result"
    }
   ],
   "source": [
    "n[-2]*normalize(1.78, 2, 2)[2]"
   ]
  },
  {
   "cell_type": "markdown",
   "metadata": {},
   "source": [
    "### There is what looks to be a serious problem. The computation of first_five_fitness(31, 38, 31) gives us the list:\n",
    "[0.871102048154313,\n",
    " 0.9763953680972295,\n",
    " 0.9877454676425148,\n",
    " 0.9925330163760127,\n",
    " 0.9949830556127044,\n",
    " 0.9964003778575083,\n",
    " 0.8314419583831054,\n",
    " 0.9978903560054913,"
   ]
  },
  {
   "cell_type": "markdown",
   "metadata": {},
   "source": [
    "### and it is unclear why the second last entry is so abarrent. Look into it!"
   ]
  },
  {
   "cell_type": "markdown",
   "metadata": {},
   "source": [
    "#### I have found the answer to the above riddle. What I figure really ought to be the leading eigenvalue is listed as \"0.997292687532750? + 0.?e-49*I\"  which I am going to assume is a computational error. I'll have to define a function along the lines of \"really_ought_to_be_real\" to sort out this issue."
   ]
  },
  {
   "cell_type": "code",
   "execution_count": 21,
   "metadata": {},
   "outputs": [
    {
     "data": {
      "text/plain": [
       "4"
      ]
     },
     "execution_count": 21,
     "metadata": {},
     "output_type": "execute_result"
    }
   ],
   "source": [
    "get_optimal_betahat(4, 0, 6)"
   ]
  },
  {
   "cell_type": "code",
   "execution_count": 28,
   "metadata": {},
   "outputs": [
    {
     "data": {
      "text/plain": [
       "1.22222222222222"
      ]
     },
     "execution_count": 28,
     "metadata": {},
     "output_type": "execute_result"
    }
   ],
   "source": [
    "55/45.n()"
   ]
  },
  {
   "cell_type": "code",
   "execution_count": 22,
   "metadata": {
    "collapsed": true
   },
   "outputs": [],
   "source": [
    "enns = [get_leading_evec(45, 0, 55, i) for i in range(10)]"
   ]
  },
  {
   "cell_type": "code",
   "execution_count": 25,
   "metadata": {},
   "outputs": [],
   "source": [
    "delta0 = [enns[k][0] - enns[k+1][0] for k in range(9)]\n",
    "delta_betahat = [enns[k][-2] - enns[k+1][-2] for k in range(9)]"
   ]
  },
  {
   "cell_type": "code",
   "execution_count": 29,
   "metadata": {
    "collapsed": true
   },
   "outputs": [],
   "source": [
    "ratio = [delta0[k]/delta_betahat[k] for k in range(len(delta0))]"
   ]
  },
  {
   "cell_type": "code",
   "execution_count": 31,
   "metadata": {},
   "outputs": [
    {
     "data": {
      "text/plain": [
       "[1.66134974597242,\n",
       " 0.621704015280882,\n",
       " 0.722060042090105,\n",
       " 0.800077652875833,\n",
       " 0.862027718943695,\n",
       " 0.911948894528958,\n",
       " 0.952544702482119,\n",
       " 0.985708666018279,\n",
       " 1.01282544353536]"
      ]
     },
     "execution_count": 31,
     "metadata": {},
     "output_type": "execute_result"
    }
   ],
   "source": [
    "[1/k for k in ratio]"
   ]
  },
  {
   "cell_type": "code",
   "execution_count": 26,
   "metadata": {},
   "outputs": [
    {
     "data": {
      "text/plain": [
       "[0.138366719437758,\n",
       " 0.165479877754828,\n",
       " 0.0749494431957915,\n",
       " 0.0416744284081150,\n",
       " 0.0262266687551141,\n",
       " 0.0179339292916103,\n",
       " 0.0130167459824685,\n",
       " 0.00988209436361911,\n",
       " 0.00777046622457300]"
      ]
     },
     "execution_count": 26,
     "metadata": {},
     "output_type": "execute_result"
    }
   ],
   "source": [
    "delta0"
   ]
  },
  {
   "cell_type": "code",
   "execution_count": 27,
   "metadata": {},
   "outputs": [
    {
     "data": {
      "text/plain": [
       "[0.229875514188955,\n",
       " 0.102879504448366,\n",
       " 0.0541179981085831,\n",
       " 0.0333427788657066,\n",
       " 0.0226081154424629,\n",
       " 0.0163548269920445,\n",
       " 0.0123990324291557,\n",
       " 0.00974086605262975,\n",
       " 0.00787012590037969]"
      ]
     },
     "execution_count": 27,
     "metadata": {},
     "output_type": "execute_result"
    }
   ],
   "source": [
    "delta_betahat"
   ]
  },
  {
   "cell_type": "code",
   "execution_count": 20,
   "metadata": {},
   "outputs": [
    {
     "name": "stdout",
     "output_type": "stream",
     "text": [
      "(0.585786437626905, 0.585786437626905)\n",
      "(0.423733018758950, 0.365589705360278)\n",
      "(0.266100886876877, 0.267388154854233)\n",
      "(0.199244094936239, 0.215356291489826)\n",
      "(0.163615981762535, 0.183014379302378)\n",
      "(0.141678937363756, 0.160825630340308)\n",
      "(0.126742786912180, 0.144539634397173)\n",
      "(0.115797810081109, 0.131986078273828)\n",
      "(0.107324417405556, 0.121945791056943)\n",
      "(0.100486258948454, 0.113683227647284)\n"
     ]
    }
   ],
   "source": [
    "for i in range(10):\n",
    "    n = get_leading_evec(40, 0, 60, i)\n",
    "    print(n[0],n[-2])"
   ]
  },
  {
   "cell_type": "markdown",
   "metadata": {},
   "source": [
    "#### Just for checking to see if I have my matrix form correct:"
   ]
  },
  {
   "cell_type": "code",
   "execution_count": 68,
   "metadata": {
    "collapsed": true
   },
   "outputs": [],
   "source": [
    "def sym_Lnow(p0, p1, p2, double_pregnancy = False):\n",
    "    L = zero_matrix(SR, 2)\n",
    "    L[0,0] = p1\n",
    "    L[1, 0] = p2\n",
    "    if double_pregnancy == False:\n",
    "        L[0, 1] = 2*(p1+p2)\n",
    "        L[1, 1] = 0\n",
    "    else:\n",
    "        L[0, 1] = 2*p1 + p2\n",
    "        L[1, 1] = p2\n",
    "    return L\n",
    "\n",
    "def sym_Lpatient(p0, p1, p2, double_pregnancy = False):\n",
    "    L = zero_matrix(SR, 3)\n",
    "    L[0,0] = p1\n",
    "    L[1,0] = p2\n",
    "    L[2, 0] = 0\n",
    "    L[0, 1] = p0\n",
    "    L[1, 1] = p1\n",
    "    L[2, 1] = p2 \n",
    "    L[0, 2] = 1 + p0\n",
    "    if double_pregnancy == False:\n",
    "        L[1, 2] = p1 + p2\n",
    "        L[2, 2] = 0\n",
    "    else:\n",
    "        L[1, 2] = p1\n",
    "        L[2, 2] = p2\n",
    "    return L\n",
    "\n",
    "def sym_L_betahat(p0, p1, p2, betahat, double_pregnancy = False):\n",
    "    if betahat == 0:\n",
    "        L = sym_Lnow(p0, p1, p2, double_pregnancy)\n",
    "    elif betahat == 1:\n",
    "        L = sym_Lpatient(p0, p1, p2, double_pregnancy)\n",
    "    else:\n",
    "        L = zero_matrix(SR, betahat + 2)\n",
    "        for i in range(betahat+1):\n",
    "            L[i, i] = p1\n",
    "            if i < betahat+1:\n",
    "                L[i + 1, i] = p2\n",
    "                if i > 0:\n",
    "                    L[i-1, i] = p0\n",
    "        L[0, betahat+1] = 1\n",
    "        L[betahat - 1, betahat+1] = p0\n",
    "        if double_pregnancy == False:\n",
    "            L[betahat, betahat+1] = p1 + p2\n",
    "            L[betahat+1, betahat+1] = 0\n",
    "        else:\n",
    "            L[betahat, betahat + 1] = p1\n",
    "            L[betahat+1, betahat+1] = p2           \n",
    "    return(L)"
   ]
  },
  {
   "cell_type": "code",
   "execution_count": 70,
   "metadata": {},
   "outputs": [
    {
     "data": {
      "text/plain": [
       "[     p1      p0       0       1]\n",
       "[     p2      p1      p0      p0]\n",
       "[      0      p2      p1 p1 + p2]\n",
       "[      0       0      p2       0]"
      ]
     },
     "execution_count": 70,
     "metadata": {},
     "output_type": "execute_result"
    }
   ],
   "source": [
    "sym_L_betahat(p0, p1, p2, 2)"
   ]
  },
  {
   "cell_type": "code",
   "execution_count": null,
   "metadata": {
    "collapsed": true
   },
   "outputs": [],
   "source": []
  }
 ],
 "metadata": {
  "kernelspec": {
   "display_name": "SageMath 9.2",
   "language": "sage",
   "name": "sagemath"
  },
  "language_info": {
   "codemirror_mode": {
    "name": "ipython",
    "version": 3
   },
   "file_extension": ".py",
   "mimetype": "text/x-python",
   "name": "python",
   "nbconvert_exporter": "python",
   "pygments_lexer": "ipython3",
   "version": "3.9.1"
  }
 },
 "nbformat": 4,
 "nbformat_minor": 1
}
