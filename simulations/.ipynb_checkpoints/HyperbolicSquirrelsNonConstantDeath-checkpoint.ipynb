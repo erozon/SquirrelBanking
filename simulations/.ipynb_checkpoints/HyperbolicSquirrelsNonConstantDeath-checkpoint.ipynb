{
 "cells": [
  {
   "cell_type": "markdown",
   "metadata": {},
   "source": [
    "### The model which produces hyperbolically discounting squirrels is extremly simple. We take a constant (age independent) death rate, offer squirrels $F$ nuts at a delay of expectation $t$, and compute the fitness of each population to find that $P$ nuts immediately gives the same fitness outcome the future option precisely when $P = \\frac{F}{1 + t}$. "
   ]
  },
  {
   "cell_type": "markdown",
   "metadata": {},
   "source": [
    "### The assumption that the death rate is age independent is unlikely to hold in reality. We will therefore now assume a (finite length) survival probability tuple $(s_0, s_1, \\ldots, s_\\omega)$ and look at the fitness of squirrels receiving $P$ immediately as compared with those that receive $F$ at a delay of expectation $t$."
   ]
  },
  {
   "cell_type": "code",
   "execution_count": 49,
   "metadata": {
    "collapsed": true
   },
   "outputs": [],
   "source": [
    "def leslie(survival, F, t = 0):\n",
    "    daily_payout = F/(1 + t)\n",
    "    n = len(survival) + 1\n",
    "    L = zero_matrix(QQ, n)\n",
    "    for i in range(n):\n",
    "        L[0, i] = daily_payout\n",
    "    for i in range(n-1):\n",
    "        L[i + 1, i] = survival[i]\n",
    "    return(L)\n",
    "\n",
    "def get_leading_eigenvalue(L):\n",
    "    evals = L.eigenvalues()\n",
    "    moduli = [abs(e) for e in evals]\n",
    "    r = max(moduli).n()\n",
    "    return(r)"
   ]
  },
  {
   "cell_type": "code",
   "execution_count": 56,
   "metadata": {
    "collapsed": false
   },
   "outputs": [],
   "source": [
    "s = [1, 1, 1, 1, 1]\n",
    "L = leslie(s, 1, 5)\n"
   ]
  },
  {
   "cell_type": "code",
   "execution_count": 57,
   "metadata": {
    "collapsed": false
   },
   "outputs": [
    {
     "data": {
      "text/plain": [
       "1.00000000000000"
      ]
     },
     "execution_count": 57,
     "metadata": {},
     "output_type": "execute_result"
    }
   ],
   "source": [
    "get_leading_eigenvalue(L)"
   ]
  },
  {
   "cell_type": "code",
   "execution_count": 58,
   "metadata": {
    "collapsed": false
   },
   "outputs": [
    {
     "data": {
      "text/plain": [
       "[1/6 1/6 1/6 1/6 1/6 1/6]\n",
       "[  1   0   0   0   0   0]\n",
       "[  0   1   0   0   0   0]\n",
       "[  0   0   1   0   0   0]\n",
       "[  0   0   0   1   0   0]\n",
       "[  0   0   0   0   1   0]"
      ]
     },
     "execution_count": 58,
     "metadata": {},
     "output_type": "execute_result"
    }
   ],
   "source": [
    "L"
   ]
  },
  {
   "cell_type": "code",
   "execution_count": null,
   "metadata": {
    "collapsed": false
   },
   "outputs": [],
   "source": []
  },
  {
   "cell_type": "code",
   "execution_count": null,
   "metadata": {
    "collapsed": true
   },
   "outputs": [],
   "source": []
  }
 ],
 "metadata": {
  "kernelspec": {
   "display_name": "SageMath 7.5.1",
   "language": "",
   "name": "sagemath"
  },
  "language_info": {
   "codemirror_mode": {
    "name": "ipython",
    "version": 2
   },
   "file_extension": ".py",
   "mimetype": "text/x-python",
   "name": "python",
   "nbconvert_exporter": "python",
   "pygments_lexer": "ipython2",
   "version": "2.7.13"
  }
 },
 "nbformat": 4,
 "nbformat_minor": 0
}
