{
 "cells": [
  {
   "cell_type": "code",
   "execution_count": 2,
   "metadata": {
    "collapsed": true
   },
   "outputs": [],
   "source": [
    "U = RealDistribution('uniform', [0, 1])"
   ]
  },
  {
   "cell_type": "code",
   "execution_count": 178,
   "metadata": {
    "collapsed": false
   },
   "outputs": [],
   "source": [
    "#I think this should work for arbitrary matrices. Just make sure the birth_distn and survival parameters\n",
    "#    have the same length. survival = [s_0, s_1, s_2, . . ., s_\\betahat], while \n",
    "#    birth_distn = [b_0, b_1, . . ., b_\\betahat] (where it ends is actually something I should think about more).\n",
    "\n",
    "def arbitrary_L(survival, birth_distn):\n",
    "    if len(survival) != len(birth_distn):\n",
    "        return('Gimme survival and birth_distn of same length')\n",
    "    else:\n",
    "        n = len(survival)\n",
    "    L = zero_matrix(QQ, n)\n",
    "    L[0, 0] = 2*survival[0]*birth_distn[0]\n",
    "    for i in range(1, n):\n",
    "        L[0, i] = survival[i]*birth_distn[i]\n",
    "        L[i, i] = survival[i]*birth_distn[i]\n",
    "    for i in range(n-1):\n",
    "        L[i+1, i] = survival[i]*(1-birth_distn[i])\n",
    "    return(L)\n",
    "\n",
    "def get_leading_eigenvalue(survival, birth_distn = None):\n",
    "    if birth_distn == None:\n",
    "        birth_distn = [0]*len(survival)\n",
    "        birth_distn[-1] = 1\n",
    "    l = arbitrary_L(survival, birth_distn)\n",
    "    evals = l.eigenvalues()\n",
    "    moduli = [abs(e) for e in evals]\n",
    "    r = max(moduli).n()\n",
    "#    pos_real = [e for e in evals if e in RR and e>0]\n",
    "#    if len(pos_real)>1:\n",
    "#        return \"Error: more than one positive, real eigenvalue\"\n",
    "#    else:\n",
    "#        return pos_real[0]\n",
    "    return r\n",
    "get_leading_eigenvalue([1/2, 1/2, 5/6])\n",
    "\n",
    "#We need a function which returns the optimal \\betahat. \n",
    "def get_optimal_betahat(survival):\n",
    "    growth_rates = [0]*len(survival)\n",
    "    growth_rates[0] = survival[0]*2\n",
    "    for i in range(1, len(survival)):\n",
    "        truncated_survival = survival[:i+1]\n",
    "        ri = get_leading_eigenvalue(truncated_survival)\n",
    "        growth_rates[i] = ri\n",
    "    betahat = growth_rates.index(max(growth_rates))\n",
    "    return(betahat)\n",
    "\n",
    "def get_rbetahat(survival):\n",
    "    betahat = get_optimal_betahat(survival)\n",
    "    rbetahat = get_leading_eigenvalue(survival[:betahat + 1])\n",
    "    return(rbetahat)\n",
    "\n",
    "def make_random_survival(n = 5):\n",
    "    survival = [0]*n\n",
    "    for i in range(n):\n",
    "        si = U.get_random_element()\n",
    "        survival[i] = si\n",
    "    return(survival)\n",
    "\n",
    "def make_random_birth_distn(n = 5):\n",
    "    birth_distn = make_random_survival(n)\n",
    "    birth_distn[-1] = 1\n",
    "    return(birth_distn)\n",
    "\n",
    "def test_single_survival(n = 5, num_tests = 10):\n",
    "    exceptions = []\n",
    "    survival = make_random_survival(n)\n",
    "    rbetahat = get_rbetahat(survival)\n",
    "    for _ in range(num_tests):\n",
    "        birth_distn = make_random_birth_distn(n)\n",
    "        rb = get_leading_eigenvalue(survival, birth_distn)\n",
    "        if rb > rbetahat:\n",
    "            exceptions.append(tuple(survival, birth_distn))\n",
    "    if exceptions == []:\n",
    "        return('All good; no exceptions :-)')\n",
    "    else:\n",
    "        return(exceptions)\n",
    "    \n",
    "\n",
    "\n",
    "\n",
    "    "
   ]
  },
  {
   "cell_type": "code",
   "execution_count": 139,
   "metadata": {
    "collapsed": false
   },
   "outputs": [
    {
     "data": {
      "text/plain": [
       "2"
      ]
     },
     "execution_count": 139,
     "metadata": {},
     "output_type": "execute_result"
    }
   ],
   "source": [
    "get_optimal_betahat([1/2, 1/2, 5/6, 5/6])"
   ]
  },
  {
   "cell_type": "code",
   "execution_count": 140,
   "metadata": {
    "collapsed": false
   },
   "outputs": [
    {
     "name": "stdout",
     "output_type": "stream",
     "text": [
      "0\n",
      "1\n",
      "2\n",
      "3\n",
      "4\n",
      "5\n",
      "6\n",
      "7\n",
      "8\n",
      "9\n",
      "10\n",
      "11\n",
      "12\n",
      "13\n",
      "14\n",
      "15\n",
      "16\n",
      "17\n",
      "18\n",
      "19\n",
      "20\n",
      "21\n",
      "22\n",
      "23\n",
      "24\n",
      "25\n",
      "26\n",
      "27\n",
      "28\n",
      "29\n",
      "30\n",
      "31\n",
      "32\n",
      "33\n",
      "34\n",
      "35\n",
      "36\n",
      "37\n",
      "38\n",
      "39\n",
      "40\n",
      "41\n",
      "42\n",
      "43\n",
      "44\n",
      "45\n",
      "46\n",
      "47\n",
      "48\n",
      "49\n",
      "50\n",
      "51\n",
      "52\n",
      "53\n",
      "54\n",
      "55\n",
      "56\n",
      "57\n",
      "58\n",
      "59\n",
      "60\n",
      "61\n",
      "62\n",
      "63\n",
      "64\n",
      "65\n",
      "66\n",
      "67\n",
      "68\n",
      "69\n"
     ]
    },
    {
     "ename": "KeyboardInterrupt",
     "evalue": "",
     "output_type": "error",
     "traceback": [
      "\u001b[1;31m---------------------------------------------------------------------------\u001b[0m",
      "\u001b[1;31mKeyboardInterrupt\u001b[0m                         Traceback (most recent call last)",
      "\u001b[1;32m<ipython-input-140-2078ac80e369>\u001b[0m in \u001b[0;36m<module>\u001b[1;34m()\u001b[0m\n\u001b[0;32m      6\u001b[0m     \u001b[1;32mprint\u001b[0m\u001b[1;33m(\u001b[0m\u001b[0m_\u001b[0m\u001b[1;33m)\u001b[0m\u001b[1;33m\u001b[0m\u001b[0m\n\u001b[0;32m      7\u001b[0m     \u001b[0mbirth_distn\u001b[0m \u001b[1;33m=\u001b[0m \u001b[0mmake_random_birth_distn\u001b[0m\u001b[1;33m(\u001b[0m\u001b[1;33m)\u001b[0m\u001b[1;33m\u001b[0m\u001b[0m\n\u001b[1;32m----> 8\u001b[1;33m     \u001b[0mrb\u001b[0m \u001b[1;33m=\u001b[0m \u001b[0mget_leading_eigenvalue\u001b[0m\u001b[1;33m(\u001b[0m\u001b[0msurvival\u001b[0m\u001b[1;33m,\u001b[0m \u001b[0mbirth_distn\u001b[0m\u001b[1;33m)\u001b[0m\u001b[1;33m\u001b[0m\u001b[0m\n\u001b[0m\u001b[0;32m      9\u001b[0m     \u001b[1;32mif\u001b[0m \u001b[0mrb\u001b[0m \u001b[1;33m>\u001b[0m \u001b[0mrbetahat\u001b[0m\u001b[1;33m:\u001b[0m\u001b[1;33m\u001b[0m\u001b[0m\n\u001b[0;32m     10\u001b[0m         \u001b[1;32mprint\u001b[0m\u001b[1;33m(\u001b[0m\u001b[1;34m'got one!'\u001b[0m\u001b[1;33m)\u001b[0m\u001b[1;33m\u001b[0m\u001b[0m\n",
      "\u001b[1;32m<ipython-input-138-06add7d9a6c0>\u001b[0m in \u001b[0;36mget_leading_eigenvalue\u001b[1;34m(survival, birth_distn)\u001b[0m\n\u001b[0;32m     24\u001b[0m     \u001b[0mevals\u001b[0m \u001b[1;33m=\u001b[0m \u001b[0ml\u001b[0m\u001b[1;33m.\u001b[0m\u001b[0meigenvalues\u001b[0m\u001b[1;33m(\u001b[0m\u001b[1;33m)\u001b[0m\u001b[1;33m\u001b[0m\u001b[0m\n\u001b[0;32m     25\u001b[0m     \u001b[0mmoduli\u001b[0m \u001b[1;33m=\u001b[0m \u001b[1;33m[\u001b[0m\u001b[0mabs\u001b[0m\u001b[1;33m(\u001b[0m\u001b[0me\u001b[0m\u001b[1;33m)\u001b[0m \u001b[1;32mfor\u001b[0m \u001b[0me\u001b[0m \u001b[1;32min\u001b[0m \u001b[0mevals\u001b[0m\u001b[1;33m]\u001b[0m\u001b[1;33m\u001b[0m\u001b[0m\n\u001b[1;32m---> 26\u001b[1;33m     \u001b[0mr\u001b[0m \u001b[1;33m=\u001b[0m \u001b[0mmax\u001b[0m\u001b[1;33m(\u001b[0m\u001b[0mmoduli\u001b[0m\u001b[1;33m)\u001b[0m\u001b[1;33m.\u001b[0m\u001b[0mn\u001b[0m\u001b[1;33m(\u001b[0m\u001b[1;33m)\u001b[0m\u001b[1;33m\u001b[0m\u001b[0m\n\u001b[0m\u001b[0;32m     27\u001b[0m \u001b[1;31m#    pos_real = [e for e in evals if e in RR and e>0]\u001b[0m\u001b[1;33m\u001b[0m\u001b[1;33m\u001b[0m\u001b[0m\n\u001b[0;32m     28\u001b[0m \u001b[1;31m#    if len(pos_real)>1:\u001b[0m\u001b[1;33m\u001b[0m\u001b[1;33m\u001b[0m\u001b[0m\n",
      "\u001b[1;32msage/structure/element.pyx\u001b[0m in \u001b[0;36msage.structure.element.Element.__richcmp__ (/usr/lib/sagemath//src/build/cythonized/sage/structure/element.c:10359)\u001b[1;34m()\u001b[0m\n",
      "\u001b[1;32msage/structure/element.pyx\u001b[0m in \u001b[0;36msage.structure.element.Element._richcmp_ (/usr/lib/sagemath//src/build/cythonized/sage/structure/element.c:10558)\u001b[1;34m()\u001b[0m\n",
      "\u001b[1;32msage/structure/element.pyx\u001b[0m in \u001b[0;36msage.structure.element.Element._cmp_ (/usr/lib/sagemath//src/build/cythonized/sage/structure/element.c:10947)\u001b[1;34m()\u001b[0m\n",
      "\u001b[1;32m/usr/lib/sagemath/local/lib/python2.7/site-packages/sage/rings/qqbar.py\u001b[0m in \u001b[0;36m__cmp__\u001b[1;34m(self, other)\u001b[0m\n\u001b[0;32m   4394\u001b[0m             \u001b[1;32mreturn\u001b[0m \u001b[1;33m-\u001b[0m\u001b[0mother\u001b[0m\u001b[1;33m.\u001b[0m\u001b[0msign\u001b[0m\u001b[1;33m(\u001b[0m\u001b[1;33m)\u001b[0m\u001b[1;33m\u001b[0m\u001b[0m\n\u001b[0;32m   4395\u001b[0m         \u001b[1;32melse\u001b[0m\u001b[1;33m:\u001b[0m\u001b[1;33m\u001b[0m\u001b[0m\n\u001b[1;32m-> 4396\u001b[1;33m             \u001b[1;32mreturn\u001b[0m \u001b[0mself\u001b[0m\u001b[1;33m.\u001b[0m\u001b[0m_sub_\u001b[0m\u001b[1;33m(\u001b[0m\u001b[0mother\u001b[0m\u001b[1;33m)\u001b[0m\u001b[1;33m.\u001b[0m\u001b[0msign\u001b[0m\u001b[1;33m(\u001b[0m\u001b[1;33m)\u001b[0m\u001b[1;33m\u001b[0m\u001b[0m\n\u001b[0m\u001b[0;32m   4397\u001b[0m \u001b[1;33m\u001b[0m\u001b[0m\n\u001b[0;32m   4398\u001b[0m     \u001b[1;32mdef\u001b[0m \u001b[0m__pow__\u001b[0m\u001b[1;33m(\u001b[0m\u001b[0mself\u001b[0m\u001b[1;33m,\u001b[0m \u001b[0me\u001b[0m\u001b[1;33m)\u001b[0m\u001b[1;33m:\u001b[0m\u001b[1;33m\u001b[0m\u001b[0m\n",
      "\u001b[1;32m/usr/lib/sagemath/local/lib/python2.7/site-packages/sage/rings/qqbar.py\u001b[0m in \u001b[0;36msign\u001b[1;34m(self)\u001b[0m\n\u001b[0;32m   4723\u001b[0m             \u001b[1;31m# OK, we'll try adding precision one more time\u001b[0m\u001b[1;33m\u001b[0m\u001b[1;33m\u001b[0m\u001b[0m\n\u001b[0;32m   4724\u001b[0m             \u001b[0mself\u001b[0m\u001b[1;33m.\u001b[0m\u001b[0m_more_precision\u001b[0m\u001b[1;33m(\u001b[0m\u001b[1;33m)\u001b[0m\u001b[1;33m\u001b[0m\u001b[0m\n\u001b[1;32m-> 4725\u001b[1;33m             \u001b[1;32mreturn\u001b[0m \u001b[0mself\u001b[0m\u001b[1;33m.\u001b[0m\u001b[0msign\u001b[0m\u001b[1;33m(\u001b[0m\u001b[1;33m)\u001b[0m\u001b[1;33m\u001b[0m\u001b[0m\n\u001b[0m\u001b[0;32m   4726\u001b[0m         \u001b[1;32melse\u001b[0m\u001b[1;33m:\u001b[0m\u001b[1;33m\u001b[0m\u001b[0m\n\u001b[0;32m   4727\u001b[0m             \u001b[1;31m# Sigh...\u001b[0m\u001b[1;33m\u001b[0m\u001b[1;33m\u001b[0m\u001b[0m\n",
      "\u001b[1;32m/usr/lib/sagemath/local/lib/python2.7/site-packages/sage/rings/qqbar.py\u001b[0m in \u001b[0;36msign\u001b[1;34m(self)\u001b[0m\n\u001b[0;32m   4726\u001b[0m         \u001b[1;32melse\u001b[0m\u001b[1;33m:\u001b[0m\u001b[1;33m\u001b[0m\u001b[0m\n\u001b[0;32m   4727\u001b[0m             \u001b[1;31m# Sigh...\u001b[0m\u001b[1;33m\u001b[0m\u001b[1;33m\u001b[0m\u001b[0m\n\u001b[1;32m-> 4728\u001b[1;33m             \u001b[0mself\u001b[0m\u001b[1;33m.\u001b[0m\u001b[0mexactify\u001b[0m\u001b[1;33m(\u001b[0m\u001b[1;33m)\u001b[0m\u001b[1;33m\u001b[0m\u001b[0m\n\u001b[0m\u001b[0;32m   4729\u001b[0m             \u001b[1;32mreturn\u001b[0m \u001b[0mself\u001b[0m\u001b[1;33m.\u001b[0m\u001b[0msign\u001b[0m\u001b[1;33m(\u001b[0m\u001b[1;33m)\u001b[0m\u001b[1;33m\u001b[0m\u001b[0m\n\u001b[0;32m   4730\u001b[0m \u001b[1;33m\u001b[0m\u001b[0m\n",
      "\u001b[1;32m/usr/lib/sagemath/local/lib/python2.7/site-packages/sage/rings/qqbar.py\u001b[0m in \u001b[0;36mexactify\u001b[1;34m(self)\u001b[0m\n\u001b[0;32m   3269\u001b[0m         \u001b[0mod\u001b[0m \u001b[1;33m=\u001b[0m \u001b[0mself\u001b[0m\u001b[1;33m.\u001b[0m\u001b[0m_descr\u001b[0m\u001b[1;33m\u001b[0m\u001b[0m\n\u001b[0;32m   3270\u001b[0m         \u001b[1;32mif\u001b[0m \u001b[0misinstance\u001b[0m\u001b[1;33m(\u001b[0m\u001b[0mod\u001b[0m\u001b[1;33m,\u001b[0m \u001b[1;33m(\u001b[0m\u001b[0mANRational\u001b[0m\u001b[1;33m,\u001b[0m \u001b[0mANExtensionElement\u001b[0m\u001b[1;33m)\u001b[0m\u001b[1;33m)\u001b[0m\u001b[1;33m:\u001b[0m \u001b[1;32mreturn\u001b[0m\u001b[1;33m\u001b[0m\u001b[0m\n\u001b[1;32m-> 3271\u001b[1;33m         \u001b[0mself\u001b[0m\u001b[1;33m.\u001b[0m\u001b[0m_set_descr\u001b[0m\u001b[1;33m(\u001b[0m\u001b[0mself\u001b[0m\u001b[1;33m.\u001b[0m\u001b[0m_descr\u001b[0m\u001b[1;33m.\u001b[0m\u001b[0mexactify\u001b[0m\u001b[1;33m(\u001b[0m\u001b[1;33m)\u001b[0m\u001b[1;33m)\u001b[0m\u001b[1;33m\u001b[0m\u001b[0m\n\u001b[0m\u001b[0;32m   3272\u001b[0m \u001b[1;33m\u001b[0m\u001b[0m\n\u001b[0;32m   3273\u001b[0m     \u001b[1;32mdef\u001b[0m \u001b[0m_set_descr\u001b[0m\u001b[1;33m(\u001b[0m\u001b[0mself\u001b[0m\u001b[1;33m,\u001b[0m \u001b[0mnew_descr\u001b[0m\u001b[1;33m)\u001b[0m\u001b[1;33m:\u001b[0m\u001b[1;33m\u001b[0m\u001b[0m\n",
      "\u001b[1;32m/usr/lib/sagemath/local/lib/python2.7/site-packages/sage/rings/qqbar.py\u001b[0m in \u001b[0;36mexactify\u001b[1;34m(self)\u001b[0m\n\u001b[0;32m   7063\u001b[0m             \u001b[0mleft\u001b[0m \u001b[1;33m=\u001b[0m \u001b[0mself\u001b[0m\u001b[1;33m.\u001b[0m\u001b[0m_left\u001b[0m\u001b[1;33m\u001b[0m\u001b[0m\n\u001b[0;32m   7064\u001b[0m             \u001b[0mright\u001b[0m \u001b[1;33m=\u001b[0m \u001b[0mself\u001b[0m\u001b[1;33m.\u001b[0m\u001b[0m_right\u001b[0m\u001b[1;33m\u001b[0m\u001b[0m\n\u001b[1;32m-> 7065\u001b[1;33m             \u001b[0mleft\u001b[0m\u001b[1;33m.\u001b[0m\u001b[0mexactify\u001b[0m\u001b[1;33m(\u001b[0m\u001b[1;33m)\u001b[0m\u001b[1;33m\u001b[0m\u001b[0m\n\u001b[0m\u001b[0;32m   7066\u001b[0m             \u001b[0mright\u001b[0m\u001b[1;33m.\u001b[0m\u001b[0mexactify\u001b[0m\u001b[1;33m(\u001b[0m\u001b[1;33m)\u001b[0m\u001b[1;33m\u001b[0m\u001b[0m\n\u001b[0;32m   7067\u001b[0m             \u001b[0mgen\u001b[0m \u001b[1;33m=\u001b[0m \u001b[0mleft\u001b[0m\u001b[1;33m.\u001b[0m\u001b[0m_exact_field\u001b[0m\u001b[1;33m(\u001b[0m\u001b[1;33m)\u001b[0m\u001b[1;33m.\u001b[0m\u001b[0munion\u001b[0m\u001b[1;33m(\u001b[0m\u001b[0mright\u001b[0m\u001b[1;33m.\u001b[0m\u001b[0m_exact_field\u001b[0m\u001b[1;33m(\u001b[0m\u001b[1;33m)\u001b[0m\u001b[1;33m)\u001b[0m\u001b[1;33m\u001b[0m\u001b[0m\n",
      "\u001b[1;32m/usr/lib/sagemath/local/lib/python2.7/site-packages/sage/rings/qqbar.py\u001b[0m in \u001b[0;36mexactify\u001b[1;34m(self)\u001b[0m\n\u001b[0;32m   3269\u001b[0m         \u001b[0mod\u001b[0m \u001b[1;33m=\u001b[0m \u001b[0mself\u001b[0m\u001b[1;33m.\u001b[0m\u001b[0m_descr\u001b[0m\u001b[1;33m\u001b[0m\u001b[0m\n\u001b[0;32m   3270\u001b[0m         \u001b[1;32mif\u001b[0m \u001b[0misinstance\u001b[0m\u001b[1;33m(\u001b[0m\u001b[0mod\u001b[0m\u001b[1;33m,\u001b[0m \u001b[1;33m(\u001b[0m\u001b[0mANRational\u001b[0m\u001b[1;33m,\u001b[0m \u001b[0mANExtensionElement\u001b[0m\u001b[1;33m)\u001b[0m\u001b[1;33m)\u001b[0m\u001b[1;33m:\u001b[0m \u001b[1;32mreturn\u001b[0m\u001b[1;33m\u001b[0m\u001b[0m\n\u001b[1;32m-> 3271\u001b[1;33m         \u001b[0mself\u001b[0m\u001b[1;33m.\u001b[0m\u001b[0m_set_descr\u001b[0m\u001b[1;33m(\u001b[0m\u001b[0mself\u001b[0m\u001b[1;33m.\u001b[0m\u001b[0m_descr\u001b[0m\u001b[1;33m.\u001b[0m\u001b[0mexactify\u001b[0m\u001b[1;33m(\u001b[0m\u001b[1;33m)\u001b[0m\u001b[1;33m)\u001b[0m\u001b[1;33m\u001b[0m\u001b[0m\n\u001b[0m\u001b[0;32m   3272\u001b[0m \u001b[1;33m\u001b[0m\u001b[0m\n\u001b[0;32m   3273\u001b[0m     \u001b[1;32mdef\u001b[0m \u001b[0m_set_descr\u001b[0m\u001b[1;33m(\u001b[0m\u001b[0mself\u001b[0m\u001b[1;33m,\u001b[0m \u001b[0mnew_descr\u001b[0m\u001b[1;33m)\u001b[0m\u001b[1;33m:\u001b[0m\u001b[1;33m\u001b[0m\u001b[0m\n",
      "\u001b[1;32m/usr/lib/sagemath/local/lib/python2.7/site-packages/sage/rings/qqbar.py\u001b[0m in \u001b[0;36mexactify\u001b[1;34m(self)\u001b[0m\n\u001b[0;32m   6846\u001b[0m \u001b[1;33m\u001b[0m\u001b[0m\n\u001b[0;32m   6847\u001b[0m             \u001b[0mv\u001b[0m \u001b[1;33m=\u001b[0m \u001b[1;33m(\u001b[0m\u001b[0marg\u001b[0m \u001b[1;33m*\u001b[0m \u001b[0marg\u001b[0m\u001b[1;33m.\u001b[0m\u001b[0mconjugate\u001b[0m\u001b[1;33m(\u001b[0m\u001b[1;33m)\u001b[0m\u001b[1;33m)\u001b[0m\u001b[1;33m.\u001b[0m\u001b[0msqrt\u001b[0m\u001b[1;33m(\u001b[0m\u001b[1;33m)\u001b[0m\u001b[1;33m\u001b[0m\u001b[0m\n\u001b[1;32m-> 6848\u001b[1;33m             \u001b[0mv\u001b[0m\u001b[1;33m.\u001b[0m\u001b[0mexactify\u001b[0m\u001b[1;33m(\u001b[0m\u001b[1;33m)\u001b[0m\u001b[1;33m\u001b[0m\u001b[0m\n\u001b[0m\u001b[0;32m   6849\u001b[0m             \u001b[0mvd\u001b[0m \u001b[1;33m=\u001b[0m \u001b[0mv\u001b[0m\u001b[1;33m.\u001b[0m\u001b[0m_descr\u001b[0m\u001b[1;33m\u001b[0m\u001b[0m\n\u001b[0;32m   6850\u001b[0m             \u001b[0mvd\u001b[0m\u001b[1;33m.\u001b[0m\u001b[0m_exactly_real\u001b[0m \u001b[1;33m=\u001b[0m \u001b[0mTrue\u001b[0m\u001b[1;33m\u001b[0m\u001b[0m\n",
      "\u001b[1;32m/usr/lib/sagemath/local/lib/python2.7/site-packages/sage/rings/qqbar.py\u001b[0m in \u001b[0;36mexactify\u001b[1;34m(self)\u001b[0m\n\u001b[0;32m   3269\u001b[0m         \u001b[0mod\u001b[0m \u001b[1;33m=\u001b[0m \u001b[0mself\u001b[0m\u001b[1;33m.\u001b[0m\u001b[0m_descr\u001b[0m\u001b[1;33m\u001b[0m\u001b[0m\n\u001b[0;32m   3270\u001b[0m         \u001b[1;32mif\u001b[0m \u001b[0misinstance\u001b[0m\u001b[1;33m(\u001b[0m\u001b[0mod\u001b[0m\u001b[1;33m,\u001b[0m \u001b[1;33m(\u001b[0m\u001b[0mANRational\u001b[0m\u001b[1;33m,\u001b[0m \u001b[0mANExtensionElement\u001b[0m\u001b[1;33m)\u001b[0m\u001b[1;33m)\u001b[0m\u001b[1;33m:\u001b[0m \u001b[1;32mreturn\u001b[0m\u001b[1;33m\u001b[0m\u001b[0m\n\u001b[1;32m-> 3271\u001b[1;33m         \u001b[0mself\u001b[0m\u001b[1;33m.\u001b[0m\u001b[0m_set_descr\u001b[0m\u001b[1;33m(\u001b[0m\u001b[0mself\u001b[0m\u001b[1;33m.\u001b[0m\u001b[0m_descr\u001b[0m\u001b[1;33m.\u001b[0m\u001b[0mexactify\u001b[0m\u001b[1;33m(\u001b[0m\u001b[1;33m)\u001b[0m\u001b[1;33m)\u001b[0m\u001b[1;33m\u001b[0m\u001b[0m\n\u001b[0m\u001b[0;32m   3272\u001b[0m \u001b[1;33m\u001b[0m\u001b[0m\n\u001b[0;32m   3273\u001b[0m     \u001b[1;32mdef\u001b[0m \u001b[0m_set_descr\u001b[0m\u001b[1;33m(\u001b[0m\u001b[0mself\u001b[0m\u001b[1;33m,\u001b[0m \u001b[0mnew_descr\u001b[0m\u001b[1;33m)\u001b[0m\u001b[1;33m:\u001b[0m\u001b[1;33m\u001b[0m\u001b[0m\n",
      "\u001b[1;32m/usr/lib/sagemath/local/lib/python2.7/site-packages/sage/rings/qqbar.py\u001b[0m in \u001b[0;36mexactify\u001b[1;34m(self)\u001b[0m\n\u001b[0;32m   6049\u001b[0m             \u001b[0mx\u001b[0m\u001b[1;33m^\u001b[0m\u001b[1;36m8\u001b[0m \u001b[1;33m-\u001b[0m \u001b[1;36m5\u001b[0m\u001b[1;33m/\u001b[0m\u001b[1;36m4\u001b[0m\u001b[1;33m*\u001b[0m\u001b[0mx\u001b[0m\u001b[1;33m^\u001b[0m\u001b[1;36m4\u001b[0m \u001b[1;33m+\u001b[0m \u001b[1;36m5\u001b[0m\u001b[1;33m/\u001b[0m\u001b[1;36m16\u001b[0m\u001b[1;33m\u001b[0m\u001b[0m\n\u001b[0;32m   6050\u001b[0m         \"\"\"\n\u001b[1;32m-> 6051\u001b[1;33m         \u001b[0mgen\u001b[0m \u001b[1;33m=\u001b[0m \u001b[0mself\u001b[0m\u001b[1;33m.\u001b[0m\u001b[0m_poly\u001b[0m\u001b[1;33m.\u001b[0m\u001b[0mgenerator\u001b[0m\u001b[1;33m(\u001b[0m\u001b[1;33m)\u001b[0m\u001b[1;33m\u001b[0m\u001b[0m\n\u001b[0m\u001b[0;32m   6052\u001b[0m \u001b[1;33m\u001b[0m\u001b[0m\n\u001b[0;32m   6053\u001b[0m         \u001b[1;32mif\u001b[0m \u001b[0mgen\u001b[0m\u001b[1;33m.\u001b[0m\u001b[0mis_trivial\u001b[0m\u001b[1;33m(\u001b[0m\u001b[1;33m)\u001b[0m\u001b[1;33m:\u001b[0m\u001b[1;33m\u001b[0m\u001b[0m\n",
      "\u001b[1;32m/usr/lib/sagemath/local/lib/python2.7/site-packages/sage/rings/qqbar.py\u001b[0m in \u001b[0;36mgenerator\u001b[1;34m(self)\u001b[0m\n\u001b[0;32m   5485\u001b[0m             \u001b[0mNumber\u001b[0m \u001b[0mField\u001b[0m \u001b[1;32min\u001b[0m \u001b[0ma\u001b[0m \u001b[1;32mwith\u001b[0m \u001b[0mdefining\u001b[0m \u001b[0mpolynomial\u001b[0m \u001b[0my\u001b[0m\u001b[1;33m^\u001b[0m\u001b[1;36m4\u001b[0m \u001b[1;33m-\u001b[0m \u001b[1;36m4\u001b[0m\u001b[1;33m*\u001b[0m\u001b[0my\u001b[0m\u001b[1;33m^\u001b[0m\u001b[1;36m2\u001b[0m \u001b[1;33m+\u001b[0m \u001b[1;36m1\u001b[0m \u001b[1;32mwith\u001b[0m \u001b[0ma\u001b[0m \u001b[1;32min\u001b[0m \u001b[1;36m1.931851652578137\u001b[0m\u001b[0;31m?\u001b[0m\u001b[1;33m\u001b[0m\u001b[0m\n\u001b[0;32m   5486\u001b[0m         \"\"\"\n\u001b[1;32m-> 5487\u001b[1;33m         \u001b[0mself\u001b[0m\u001b[1;33m.\u001b[0m\u001b[0mexactify\u001b[0m\u001b[1;33m(\u001b[0m\u001b[1;33m)\u001b[0m\u001b[1;33m\u001b[0m\u001b[0m\n\u001b[0m\u001b[0;32m   5488\u001b[0m         \u001b[1;32mreturn\u001b[0m \u001b[0mself\u001b[0m\u001b[1;33m.\u001b[0m\u001b[0m_gen\u001b[0m\u001b[1;33m\u001b[0m\u001b[0m\n\u001b[0;32m   5489\u001b[0m \u001b[1;33m\u001b[0m\u001b[0m\n",
      "\u001b[1;32m/usr/lib/sagemath/local/lib/python2.7/site-packages/sage/rings/qqbar.py\u001b[0m in \u001b[0;36mexactify\u001b[1;34m(self)\u001b[0m\n\u001b[0;32m   5443\u001b[0m \u001b[1;33m\u001b[0m\u001b[0m\n\u001b[0;32m   5444\u001b[0m         \u001b[1;32mfor\u001b[0m \u001b[0mc\u001b[0m \u001b[1;32min\u001b[0m \u001b[0mself\u001b[0m\u001b[1;33m.\u001b[0m\u001b[0m_poly\u001b[0m\u001b[1;33m.\u001b[0m\u001b[0mlist\u001b[0m\u001b[1;33m(\u001b[0m\u001b[1;33m)\u001b[0m\u001b[1;33m:\u001b[0m\u001b[1;33m\u001b[0m\u001b[0m\n\u001b[1;32m-> 5445\u001b[1;33m             \u001b[0mc\u001b[0m\u001b[1;33m.\u001b[0m\u001b[0mexactify\u001b[0m\u001b[1;33m(\u001b[0m\u001b[1;33m)\u001b[0m\u001b[1;33m\u001b[0m\u001b[0m\n\u001b[0m\u001b[0;32m   5446\u001b[0m             \u001b[0mgen\u001b[0m \u001b[1;33m=\u001b[0m \u001b[0mgen\u001b[0m\u001b[1;33m.\u001b[0m\u001b[0munion\u001b[0m\u001b[1;33m(\u001b[0m\u001b[0mc\u001b[0m\u001b[1;33m.\u001b[0m\u001b[0m_exact_field\u001b[0m\u001b[1;33m(\u001b[0m\u001b[1;33m)\u001b[0m\u001b[1;33m)\u001b[0m\u001b[1;33m\u001b[0m\u001b[0m\n\u001b[0;32m   5447\u001b[0m \u001b[1;33m\u001b[0m\u001b[0m\n",
      "\u001b[1;32m/usr/lib/sagemath/local/lib/python2.7/site-packages/sage/rings/qqbar.py\u001b[0m in \u001b[0;36mexactify\u001b[1;34m(self)\u001b[0m\n\u001b[0;32m   3269\u001b[0m         \u001b[0mod\u001b[0m \u001b[1;33m=\u001b[0m \u001b[0mself\u001b[0m\u001b[1;33m.\u001b[0m\u001b[0m_descr\u001b[0m\u001b[1;33m\u001b[0m\u001b[0m\n\u001b[0;32m   3270\u001b[0m         \u001b[1;32mif\u001b[0m \u001b[0misinstance\u001b[0m\u001b[1;33m(\u001b[0m\u001b[0mod\u001b[0m\u001b[1;33m,\u001b[0m \u001b[1;33m(\u001b[0m\u001b[0mANRational\u001b[0m\u001b[1;33m,\u001b[0m \u001b[0mANExtensionElement\u001b[0m\u001b[1;33m)\u001b[0m\u001b[1;33m)\u001b[0m\u001b[1;33m:\u001b[0m \u001b[1;32mreturn\u001b[0m\u001b[1;33m\u001b[0m\u001b[0m\n\u001b[1;32m-> 3271\u001b[1;33m         \u001b[0mself\u001b[0m\u001b[1;33m.\u001b[0m\u001b[0m_set_descr\u001b[0m\u001b[1;33m(\u001b[0m\u001b[0mself\u001b[0m\u001b[1;33m.\u001b[0m\u001b[0m_descr\u001b[0m\u001b[1;33m.\u001b[0m\u001b[0mexactify\u001b[0m\u001b[1;33m(\u001b[0m\u001b[1;33m)\u001b[0m\u001b[1;33m)\u001b[0m\u001b[1;33m\u001b[0m\u001b[0m\n\u001b[0m\u001b[0;32m   3272\u001b[0m \u001b[1;33m\u001b[0m\u001b[0m\n\u001b[0;32m   3273\u001b[0m     \u001b[1;32mdef\u001b[0m \u001b[0m_set_descr\u001b[0m\u001b[1;33m(\u001b[0m\u001b[0mself\u001b[0m\u001b[1;33m,\u001b[0m \u001b[0mnew_descr\u001b[0m\u001b[1;33m)\u001b[0m\u001b[1;33m:\u001b[0m\u001b[1;33m\u001b[0m\u001b[0m\n",
      "\u001b[1;32m/usr/lib/sagemath/local/lib/python2.7/site-packages/sage/rings/qqbar.py\u001b[0m in \u001b[0;36mexactify\u001b[1;34m(self)\u001b[0m\n\u001b[0;32m   7064\u001b[0m             \u001b[0mright\u001b[0m \u001b[1;33m=\u001b[0m \u001b[0mself\u001b[0m\u001b[1;33m.\u001b[0m\u001b[0m_right\u001b[0m\u001b[1;33m\u001b[0m\u001b[0m\n\u001b[0;32m   7065\u001b[0m             \u001b[0mleft\u001b[0m\u001b[1;33m.\u001b[0m\u001b[0mexactify\u001b[0m\u001b[1;33m(\u001b[0m\u001b[1;33m)\u001b[0m\u001b[1;33m\u001b[0m\u001b[0m\n\u001b[1;32m-> 7066\u001b[1;33m             \u001b[0mright\u001b[0m\u001b[1;33m.\u001b[0m\u001b[0mexactify\u001b[0m\u001b[1;33m(\u001b[0m\u001b[1;33m)\u001b[0m\u001b[1;33m\u001b[0m\u001b[0m\n\u001b[0m\u001b[0;32m   7067\u001b[0m             \u001b[0mgen\u001b[0m \u001b[1;33m=\u001b[0m \u001b[0mleft\u001b[0m\u001b[1;33m.\u001b[0m\u001b[0m_exact_field\u001b[0m\u001b[1;33m(\u001b[0m\u001b[1;33m)\u001b[0m\u001b[1;33m.\u001b[0m\u001b[0munion\u001b[0m\u001b[1;33m(\u001b[0m\u001b[0mright\u001b[0m\u001b[1;33m.\u001b[0m\u001b[0m_exact_field\u001b[0m\u001b[1;33m(\u001b[0m\u001b[1;33m)\u001b[0m\u001b[1;33m)\u001b[0m\u001b[1;33m\u001b[0m\u001b[0m\n\u001b[0;32m   7068\u001b[0m             \u001b[0mleft_value\u001b[0m \u001b[1;33m=\u001b[0m \u001b[0mgen\u001b[0m\u001b[1;33m(\u001b[0m\u001b[0mleft\u001b[0m\u001b[1;33m.\u001b[0m\u001b[0m_exact_value\u001b[0m\u001b[1;33m(\u001b[0m\u001b[1;33m)\u001b[0m\u001b[1;33m)\u001b[0m\u001b[1;33m\u001b[0m\u001b[0m\n",
      "\u001b[1;32m/usr/lib/sagemath/local/lib/python2.7/site-packages/sage/rings/qqbar.py\u001b[0m in \u001b[0;36mexactify\u001b[1;34m(self)\u001b[0m\n\u001b[0;32m   3269\u001b[0m         \u001b[0mod\u001b[0m \u001b[1;33m=\u001b[0m \u001b[0mself\u001b[0m\u001b[1;33m.\u001b[0m\u001b[0m_descr\u001b[0m\u001b[1;33m\u001b[0m\u001b[0m\n\u001b[0;32m   3270\u001b[0m         \u001b[1;32mif\u001b[0m \u001b[0misinstance\u001b[0m\u001b[1;33m(\u001b[0m\u001b[0mod\u001b[0m\u001b[1;33m,\u001b[0m \u001b[1;33m(\u001b[0m\u001b[0mANRational\u001b[0m\u001b[1;33m,\u001b[0m \u001b[0mANExtensionElement\u001b[0m\u001b[1;33m)\u001b[0m\u001b[1;33m)\u001b[0m\u001b[1;33m:\u001b[0m \u001b[1;32mreturn\u001b[0m\u001b[1;33m\u001b[0m\u001b[0m\n\u001b[1;32m-> 3271\u001b[1;33m         \u001b[0mself\u001b[0m\u001b[1;33m.\u001b[0m\u001b[0m_set_descr\u001b[0m\u001b[1;33m(\u001b[0m\u001b[0mself\u001b[0m\u001b[1;33m.\u001b[0m\u001b[0m_descr\u001b[0m\u001b[1;33m.\u001b[0m\u001b[0mexactify\u001b[0m\u001b[1;33m(\u001b[0m\u001b[1;33m)\u001b[0m\u001b[1;33m)\u001b[0m\u001b[1;33m\u001b[0m\u001b[0m\n\u001b[0m\u001b[0;32m   3272\u001b[0m \u001b[1;33m\u001b[0m\u001b[0m\n\u001b[0;32m   3273\u001b[0m     \u001b[1;32mdef\u001b[0m \u001b[0m_set_descr\u001b[0m\u001b[1;33m(\u001b[0m\u001b[0mself\u001b[0m\u001b[1;33m,\u001b[0m \u001b[0mnew_descr\u001b[0m\u001b[1;33m)\u001b[0m\u001b[1;33m:\u001b[0m\u001b[1;33m\u001b[0m\u001b[0m\n",
      "\u001b[1;32m/usr/lib/sagemath/local/lib/python2.7/site-packages/sage/rings/qqbar.py\u001b[0m in \u001b[0;36mexactify\u001b[1;34m(self)\u001b[0m\n\u001b[0;32m   7065\u001b[0m             \u001b[0mleft\u001b[0m\u001b[1;33m.\u001b[0m\u001b[0mexactify\u001b[0m\u001b[1;33m(\u001b[0m\u001b[1;33m)\u001b[0m\u001b[1;33m\u001b[0m\u001b[0m\n\u001b[0;32m   7066\u001b[0m             \u001b[0mright\u001b[0m\u001b[1;33m.\u001b[0m\u001b[0mexactify\u001b[0m\u001b[1;33m(\u001b[0m\u001b[1;33m)\u001b[0m\u001b[1;33m\u001b[0m\u001b[0m\n\u001b[1;32m-> 7067\u001b[1;33m             \u001b[0mgen\u001b[0m \u001b[1;33m=\u001b[0m \u001b[0mleft\u001b[0m\u001b[1;33m.\u001b[0m\u001b[0m_exact_field\u001b[0m\u001b[1;33m(\u001b[0m\u001b[1;33m)\u001b[0m\u001b[1;33m.\u001b[0m\u001b[0munion\u001b[0m\u001b[1;33m(\u001b[0m\u001b[0mright\u001b[0m\u001b[1;33m.\u001b[0m\u001b[0m_exact_field\u001b[0m\u001b[1;33m(\u001b[0m\u001b[1;33m)\u001b[0m\u001b[1;33m)\u001b[0m\u001b[1;33m\u001b[0m\u001b[0m\n\u001b[0m\u001b[0;32m   7068\u001b[0m             \u001b[0mleft_value\u001b[0m \u001b[1;33m=\u001b[0m \u001b[0mgen\u001b[0m\u001b[1;33m(\u001b[0m\u001b[0mleft\u001b[0m\u001b[1;33m.\u001b[0m\u001b[0m_exact_value\u001b[0m\u001b[1;33m(\u001b[0m\u001b[1;33m)\u001b[0m\u001b[1;33m)\u001b[0m\u001b[1;33m\u001b[0m\u001b[0m\n\u001b[0;32m   7069\u001b[0m             \u001b[0mright_value\u001b[0m \u001b[1;33m=\u001b[0m \u001b[0mgen\u001b[0m\u001b[1;33m(\u001b[0m\u001b[0mright\u001b[0m\u001b[1;33m.\u001b[0m\u001b[0m_exact_value\u001b[0m\u001b[1;33m(\u001b[0m\u001b[1;33m)\u001b[0m\u001b[1;33m)\u001b[0m\u001b[1;33m\u001b[0m\u001b[0m\n",
      "\u001b[1;32m/usr/lib/sagemath/local/lib/python2.7/site-packages/sage/rings/qqbar.py\u001b[0m in \u001b[0;36munion\u001b[1;34m(self, other)\u001b[0m\n\u001b[0;32m   2380\u001b[0m         \u001b[0mop\u001b[0m \u001b[1;33m=\u001b[0m \u001b[0mQQx\u001b[0m\u001b[1;33m(\u001b[0m\u001b[0mop\u001b[0m\u001b[1;33m)\u001b[0m\u001b[1;33m\u001b[0m\u001b[0m\n\u001b[0;32m   2381\u001b[0m         \u001b[1;31m# pari_nf = self._field.pari_nf()\u001b[0m\u001b[1;33m\u001b[0m\u001b[1;33m\u001b[0m\u001b[0m\n\u001b[1;32m-> 2382\u001b[1;33m         \u001b[0mpari_nf\u001b[0m \u001b[1;33m=\u001b[0m \u001b[0mself\u001b[0m\u001b[1;33m.\u001b[0m\u001b[0mpari_field\u001b[0m\u001b[1;33m(\u001b[0m\u001b[1;33m)\u001b[0m\u001b[1;33m\u001b[0m\u001b[0m\n\u001b[0m\u001b[0;32m   2383\u001b[0m         \u001b[0mfactors\u001b[0m \u001b[1;33m=\u001b[0m \u001b[0mlist\u001b[0m\u001b[1;33m(\u001b[0m\u001b[0mpari_nf\u001b[0m\u001b[1;33m.\u001b[0m\u001b[0mnffactor\u001b[0m\u001b[1;33m(\u001b[0m\u001b[0mop\u001b[0m\u001b[1;33m)\u001b[0m\u001b[1;33m.\u001b[0m\u001b[0mlift\u001b[0m\u001b[1;33m(\u001b[0m\u001b[1;33m)\u001b[0m\u001b[1;33m)\u001b[0m\u001b[1;33m[\u001b[0m\u001b[1;36m0\u001b[0m\u001b[1;33m]\u001b[0m\u001b[1;33m\u001b[0m\u001b[0m\n\u001b[0;32m   2384\u001b[0m         \u001b[0mx\u001b[0m\u001b[1;33m,\u001b[0m \u001b[0my\u001b[0m \u001b[1;33m=\u001b[0m \u001b[0mQQxy\u001b[0m\u001b[1;33m.\u001b[0m\u001b[0mgens\u001b[0m\u001b[1;33m(\u001b[0m\u001b[1;33m)\u001b[0m\u001b[1;33m\u001b[0m\u001b[0m\n",
      "\u001b[1;32m/usr/lib/sagemath/local/lib/python2.7/site-packages/sage/rings/qqbar.py\u001b[0m in \u001b[0;36mpari_field\u001b[1;34m(self)\u001b[0m\n\u001b[0;32m   2283\u001b[0m         \u001b[1;32mif\u001b[0m \u001b[0mself\u001b[0m\u001b[1;33m.\u001b[0m\u001b[0m_pari_field\u001b[0m \u001b[1;32mis\u001b[0m \u001b[0mNone\u001b[0m\u001b[1;33m:\u001b[0m\u001b[1;33m\u001b[0m\u001b[0m\n\u001b[0;32m   2284\u001b[0m             \u001b[0mpari_pol\u001b[0m \u001b[1;33m=\u001b[0m \u001b[0mself\u001b[0m\u001b[1;33m.\u001b[0m\u001b[0m_field\u001b[0m\u001b[1;33m.\u001b[0m\u001b[0mpari_polynomial\u001b[0m\u001b[1;33m(\u001b[0m\u001b[1;34m\"y\"\u001b[0m\u001b[1;33m)\u001b[0m\u001b[1;33m\u001b[0m\u001b[0m\n\u001b[1;32m-> 2285\u001b[1;33m             \u001b[0mself\u001b[0m\u001b[1;33m.\u001b[0m\u001b[0m_pari_field\u001b[0m \u001b[1;33m=\u001b[0m \u001b[0mpari_pol\u001b[0m\u001b[1;33m.\u001b[0m\u001b[0mnfinit\u001b[0m\u001b[1;33m(\u001b[0m\u001b[1;36m1\u001b[0m\u001b[1;33m)\u001b[0m\u001b[1;33m\u001b[0m\u001b[0m\n\u001b[0m\u001b[0;32m   2286\u001b[0m         \u001b[1;32mreturn\u001b[0m \u001b[0mself\u001b[0m\u001b[1;33m.\u001b[0m\u001b[0m_pari_field\u001b[0m\u001b[1;33m\u001b[0m\u001b[0m\n\u001b[0;32m   2287\u001b[0m \u001b[1;33m\u001b[0m\u001b[0m\n",
      "\u001b[1;32m/usr/lib/sagemath/local/lib/python2.7/site-packages/sage/libs/cypari2/auto_gen.pxi\u001b[0m in \u001b[0;36msage.libs.cypari2.gen.gen_auto.nfinit (/usr/lib/sagemath//src/build/cythonized/sage/libs/cypari2/gen.c:74786)\u001b[1;34m()\u001b[0m\n\u001b[0;32m  14634\u001b[0m         \u001b[0mcdef\u001b[0m \u001b[0mGEN\u001b[0m \u001b[0m_pol\u001b[0m \u001b[1;33m=\u001b[0m \u001b[0mpol\u001b[0m\u001b[1;33m.\u001b[0m\u001b[0mg\u001b[0m\u001b[1;33m\u001b[0m\u001b[0m\n\u001b[0;32m  14635\u001b[0m         \u001b[0mprecision\u001b[0m \u001b[1;33m=\u001b[0m \u001b[0mprec_bits_to_words\u001b[0m\u001b[1;33m(\u001b[0m\u001b[0mprecision\u001b[0m\u001b[1;33m)\u001b[0m\u001b[1;33m\u001b[0m\u001b[0m\n\u001b[1;32m> 14636\u001b[1;33m         \u001b[0msig_on\u001b[0m\u001b[1;33m(\u001b[0m\u001b[1;33m)\u001b[0m\u001b[1;33m\u001b[0m\u001b[0m\n\u001b[0m\u001b[0;32m  14637\u001b[0m         \u001b[0mcdef\u001b[0m \u001b[0mGEN\u001b[0m \u001b[0m_ret\u001b[0m \u001b[1;33m=\u001b[0m \u001b[0mnfinit0\u001b[0m\u001b[1;33m(\u001b[0m\u001b[0m_pol\u001b[0m\u001b[1;33m,\u001b[0m \u001b[0mflag\u001b[0m\u001b[1;33m,\u001b[0m \u001b[0mprecision\u001b[0m\u001b[1;33m)\u001b[0m\u001b[1;33m\u001b[0m\u001b[0m\n\u001b[0;32m  14638\u001b[0m         \u001b[1;32mreturn\u001b[0m \u001b[0mnew_gen\u001b[0m\u001b[1;33m(\u001b[0m\u001b[0m_ret\u001b[0m\u001b[1;33m)\u001b[0m\u001b[1;33m\u001b[0m\u001b[0m\n",
      "\u001b[1;32msrc/cysignals/signals.pyx\u001b[0m in \u001b[0;36mcysignals.signals.sig_raise_exception (build/src/cysignals/signals.c:1303)\u001b[1;34m()\u001b[0m\n",
      "\u001b[1;31mKeyboardInterrupt\u001b[0m: "
     ]
    }
   ],
   "source": [
    "exceptions = []\n",
    "survival = make_random_survival()\n",
    "rbetahat = get_rbetahat(survival)\n",
    "for _ in range(100):\n",
    "    birth_distn = make_random_birth_distn()\n",
    "    rb = get_leading_eigenvalue(survival, birth_distn)\n",
    "    if rb > rbetahat:\n",
    "        print('got one!')\n",
    "        exceptions.append(tuple(survival, birth_distn))\n",
    "        \n"
   ]
  },
  {
   "cell_type": "markdown",
   "metadata": {},
   "source": [
    "#### An important note: I had assumed that the leading eigenvalue of our matrix L_b would be unique, just as it is for L. But that isn't the case, so instead I'm going to look at the maximal absolute value, which I feel will still be < r. "
   ]
  },
  {
   "cell_type": "markdown",
   "metadata": {},
   "source": [
    "#### So now we know what the baseline fitness of our population is, for a specific s_0, s_1, and s_2. The quesiton is: can we obtain a higher fitness by varying b from [0, 0,1]? My instinct is no. Why not? If squirrels are best off by waiting until 2 rather than any other level, then why would they be able to do better by having some parts of their population peel off early and start reproducing? Answer: they wouldn't. But we'll see."
   ]
  },
  {
   "cell_type": "code",
   "execution_count": 104,
   "metadata": {
    "collapsed": false
   },
   "outputs": [],
   "source": [
    "s = [1/2, 1/2, 5/6]\n",
    "b = [0, 0,1]\n",
    "r0 = get_leading_eigenvalue(s, b)\n",
    "exceptions = []"
   ]
  },
  {
   "cell_type": "code",
   "execution_count": 120,
   "metadata": {
    "collapsed": false
   },
   "outputs": [],
   "source": [
    "for k in range(1000):\n",
    "    for i in range(2):\n",
    "        bi = U.get_random_element()\n",
    "        b[i] = bi\n",
    "    r = get_leading_eigenvalue(s, b)\n",
    "    if r > r0:\n",
    "        print(\"Exception found :-O\")\n",
    "        exceptions.append(b)"
   ]
  },
  {
   "cell_type": "markdown",
   "metadata": {},
   "source": [
    "#### In the case where all savings levels give the same eigenvalue of 1, a numerics problem makes it look like we can do better by peeling off early. But we actually can't."
   ]
  },
  {
   "cell_type": "code",
   "execution_count": 232,
   "metadata": {
    "collapsed": true
   },
   "outputs": [],
   "source": [
    "s = [1/2, 2/3, 3/4]\n",
    "b = [0, 0,1]\n",
    "r0 = get_leading_eigenvalue(s, b)"
   ]
  },
  {
   "cell_type": "code",
   "execution_count": 233,
   "metadata": {
    "collapsed": false
   },
   "outputs": [
    {
     "data": {
      "text/plain": [
       "28"
      ]
     },
     "execution_count": 233,
     "metadata": {},
     "output_type": "execute_result"
    }
   ],
   "source": [
    "exceptions = []\n",
    "for k in range(100):\n",
    "    b = [0, 0, 1]\n",
    "    for i in range(2):\n",
    "        bi = U.get_random_element()\n",
    "        b[i] = bi\n",
    "    r = get_leading_eigenvalue(s, b)\n",
    "    if r > r0:\n",
    "#        print(\"Exception found :-O\")\n",
    "        exceptions.append(b)\n",
    "len(exceptions)"
   ]
  },
  {
   "cell_type": "code",
   "execution_count": 230,
   "metadata": {
    "collapsed": true
   },
   "outputs": [
    {
     "name": "stdout",
     "output_type": "stream",
     "text": [
      "1.000000000000001?\n",
      "1.000000000000001?\n",
      "1.000000000000001?\n",
      "1.000000000000001?\n",
      "1.000000000000001?\n",
      "1.000000000000001?\n",
      "1.000000000000001?\n",
      "1.000000000000001?\n",
      "1.000000000000001?\n",
      "1.000000000000001?\n",
      "1.000000000000001?\n",
      "1.000000000000001?\n",
      "1.000000000000001?\n",
      "1.000000000000001?\n",
      "1.000000000000001?\n",
      "1.000000000000001?\n",
      "1.000000000000001?\n",
      "1.000000000000001?\n",
      "1.000000000000001?\n",
      "1.000000000000001?\n",
      "1.000000000000001?\n",
      "1.000000000000001?\n",
      "1.000000000000001?\n",
      "1.000000000000001?\n",
      "1.000000000000001?\n",
      "1.000000000000001?\n",
      "1.000000000000001?\n",
      "1.000000000000001?\n",
      "1.000000000000001?\n",
      "1.000000000000001?\n"
     ]
    }
   ],
   "source": [
    "for e in exceptions:\n",
    "    print(get_leading_eigenvalue(s, e))"
   ]
  },
  {
   "cell_type": "markdown",
   "metadata": {},
   "source": [
    "#### In principle I ought to try with other initial distributions. But that becomes tough, since I need to know that my si do reasonable things. I'm convinced that my instinct was correct, and r_{L_b} \\le r_L irrespective of the b"
   ]
  },
  {
   "cell_type": "code",
   "execution_count": 7,
   "metadata": {
    "collapsed": false
   },
   "outputs": [],
   "source": [
    "L = L3([1/2, 1/2, 5/6])\n",
    "v = vector([1, 0, 0])"
   ]
  },
  {
   "cell_type": "code",
   "execution_count": 8,
   "metadata": {
    "collapsed": false
   },
   "outputs": [],
   "source": [
    "def growth(n):\n",
    "    return(L^n*v.n())\n",
    "def growth_rate(L):\n",
    "    v = vector([1, 0, 0])\n",
    "    n0 = sum(L^100*v)\n",
    "    n1 = sum(L^101*v)\n",
    "    return(n1/n0.n())"
   ]
  },
  {
   "cell_type": "code",
   "execution_count": 34,
   "metadata": {
    "collapsed": false
   },
   "outputs": [
    {
     "data": {
      "text/plain": [
       "1.02978824866897"
      ]
     },
     "execution_count": 34,
     "metadata": {},
     "output_type": "execute_result"
    }
   ],
   "source": [
    "growth_rate(L)"
   ]
  },
  {
   "cell_type": "code",
   "execution_count": 14,
   "metadata": {
    "collapsed": false
   },
   "outputs": [
    {
     "data": {
      "text/plain": [
       "1.017929961727893?"
      ]
     },
     "execution_count": 14,
     "metadata": {},
     "output_type": "execute_result"
    }
   ],
   "source": [
    "get_leading_eigenvalue([1/2, 1/2, 5/6], [0, 1/4, 1])"
   ]
  },
  {
   "cell_type": "code",
   "execution_count": 19,
   "metadata": {
    "collapsed": false
   },
   "outputs": [
    {
     "data": {
      "text/plain": [
       "1.00089922027258"
      ]
     },
     "execution_count": 19,
     "metadata": {},
     "output_type": "execute_result"
    }
   ],
   "source": [
    "Lb = L3([1/2, 1/2, 5/6], [0, 49/100, 1])\n",
    "growth_rate(Lb)"
   ]
  },
  {
   "cell_type": "code",
   "execution_count": 170,
   "metadata": {
    "collapsed": false
   },
   "outputs": [],
   "source": [
    "s = make_random_survival(10)\n",
    "b = make_random_birth_distn(10)"
   ]
  },
  {
   "cell_type": "code",
   "execution_count": 176,
   "metadata": {
    "collapsed": false
   },
   "outputs": [
    {
     "name": "stdout",
     "output_type": "stream",
     "text": [
      "CPU times: user 73.6 ms, sys: 4.05 ms, total: 77.6 ms\n",
      "Wall time: 75.1 ms\n"
     ]
    },
    {
     "data": {
      "text/plain": [
       "1.01748135389368"
      ]
     },
     "execution_count": 176,
     "metadata": {},
     "output_type": "execute_result"
    }
   ],
   "source": [
    "%time get_leading_eigenvalue(s, b)"
   ]
  },
  {
   "cell_type": "code",
   "execution_count": null,
   "metadata": {
    "collapsed": true
   },
   "outputs": [],
   "source": []
  }
 ],
 "metadata": {
  "kernelspec": {
   "display_name": "SageMath 7.5.1",
   "language": "",
   "name": "sagemath"
  },
  "language_info": {
   "codemirror_mode": {
    "name": "ipython",
    "version": 2
   },
   "file_extension": ".py",
   "mimetype": "text/x-python",
   "name": "python",
   "nbconvert_exporter": "python",
   "pygments_lexer": "ipython2",
   "version": "2.7.13"
  }
 },
 "nbformat": 4,
 "nbformat_minor": 0
}
