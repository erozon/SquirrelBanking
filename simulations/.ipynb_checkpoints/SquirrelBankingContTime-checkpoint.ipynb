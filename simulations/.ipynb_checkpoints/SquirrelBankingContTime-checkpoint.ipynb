{
 "cells": [
  {
   "cell_type": "code",
   "execution_count": 1,
   "metadata": {
    "collapsed": true
   },
   "outputs": [],
   "source": [
    "def K(d, b):\n",
    "    k = zero_matrix(QQ, 2)\n",
    "    k[0, 0] = -(d + b)\n",
    "    k[0, 1] = d + b\n",
    "    k[1, 0] = b\n",
    "    k[1, 1] = -d\n",
    "    return(k)"
   ]
  },
  {
   "cell_type": "code",
   "execution_count": 6,
   "metadata": {
    "collapsed": false
   },
   "outputs": [],
   "source": [
    "k = K(1, 1.5)"
   ]
  },
  {
   "cell_type": "code",
   "execution_count": 7,
   "metadata": {
    "collapsed": false
   },
   "outputs": [
    {
     "data": {
      "text/plain": [
       "[-3.826655965729519?, 0.3266559657295187?]"
      ]
     },
     "execution_count": 7,
     "metadata": {},
     "output_type": "execute_result"
    }
   ],
   "source": [
    "k.eigenvalues()"
   ]
  },
  {
   "cell_type": "code",
   "execution_count": 11,
   "metadata": {
    "collapsed": false
   },
   "outputs": [
    {
     "data": {
      "text/plain": [
       "(1, 1.130662386291808?)"
      ]
     },
     "execution_count": 11,
     "metadata": {},
     "output_type": "execute_result"
    }
   ],
   "source": [
    "k.right_eigenvectors()[1][1][0]"
   ]
  },
  {
   "cell_type": "markdown",
   "metadata": {},
   "source": [
    "#### Can we get a 2*2 matrix K with higher leading eigenvalue than b - d?"
   ]
  },
  {
   "cell_type": "code",
   "execution_count": 25,
   "metadata": {
    "collapsed": true
   },
   "outputs": [],
   "source": [
    "def is_essentially_real(x):\n",
    "    if x.imag() == 0:\n",
    "        return(True)\n",
    "    else:\n",
    "        return(False)\n",
    "    \n",
    "#Use of \"if is_essentiallY_real(e)\" rather than \"if e in RR\" is required since some computational errors\n",
    "#    seem to come up in the eigenvalue computation, giving us things like x + 0.?e-80*I.\n",
    "\n",
    "def get_leading_eigenvalue(L):\n",
    "    evals = L.eigenvalues()\n",
    "    moduli = [e.n() for e in evals if is_essentially_real(e)]\n",
    "    r = max(moduli)\n",
    "    return(r)"
   ]
  },
  {
   "cell_type": "code",
   "execution_count": 19,
   "metadata": {
    "collapsed": true
   },
   "outputs": [],
   "source": [
    "def compare(d, b):\n",
    "    k = K(d, b)\n",
    "    r = get_leading_eigenvalue(k)\n",
    "    if r > b - d:\n",
    "        statement = \"d = {} and b = {} works!\".format(d, b)\n",
    "        print(statement)\n",
    "    return((r - (b - d)))"
   ]
  },
  {
   "cell_type": "code",
   "execution_count": 26,
   "metadata": {
    "collapsed": false
   },
   "outputs": [
    {
     "name": "stdout",
     "output_type": "stream",
     "text": [
      "d = 1 and b = 0.900000000000000 works!\n"
     ]
    },
    {
     "data": {
      "text/plain": [
       "0.0329316685939331"
      ]
     },
     "execution_count": 26,
     "metadata": {},
     "output_type": "execute_result"
    }
   ],
   "source": [
    "compare(1, 0.9)"
   ]
  },
  {
   "cell_type": "markdown",
   "metadata": {},
   "source": [
    "#### d = 1 and b = 0.9 produces higher fitness for patient squirrels. But it is negative, so who cares?"
   ]
  },
  {
   "cell_type": "code",
   "execution_count": null,
   "metadata": {
    "collapsed": true
   },
   "outputs": [],
   "source": []
  }
 ],
 "metadata": {
  "kernelspec": {
   "display_name": "SageMath 8.0",
   "language": "",
   "name": "sagemath"
  },
  "language_info": {
   "codemirror_mode": {
    "name": "ipython",
    "version": 2
   },
   "file_extension": ".py",
   "mimetype": "text/x-python",
   "name": "python",
   "nbconvert_exporter": "python",
   "pygments_lexer": "ipython2",
   "version": "2.7.13"
  }
 },
 "nbformat": 4,
 "nbformat_minor": 2
}
