{
 "cells": [
  {
   "cell_type": "markdown",
   "metadata": {},
   "source": [
    "#### I want to test a hypothesis. It seems to me that $r = \\int g(a) d\\mu(a)$, where $\\mu$ is a measure on $[0, \\infty)$ giving the proportion of population of age $a$ in $\\textit{equilibrium}$, and $g$ is the birth density/mass minus the death density/mass. "
   ]
  },
  {
   "cell_type": "code",
   "execution_count": 8,
   "metadata": {},
   "outputs": [],
   "source": [
    "def Leslie(f, s):\n",
    "    n = len(f)\n",
    "    L = zero_matrix(QQ, n)\n",
    "    for i in range(n):\n",
    "        L[0, i] = f[i]\n",
    "        if i < n-1:\n",
    "            L[i+1, i] = s[i]\n",
    "    return(L)"
   ]
  },
  {
   "cell_type": "code",
   "execution_count": 11,
   "metadata": {},
   "outputs": [],
   "source": [
    "def is_essentially_real(x):\n",
    "    if x.imag() == 0:\n",
    "        return(True)\n",
    "    else:\n",
    "        return(False)\n",
    "    \n",
    "#Use of \"if is_essentiallY_real(e)\" rather than \"if e in RR\" is required since some computational errors\n",
    "#    seem to come up in the eigenvalue computation, giving us things like x + 0.?e-80*I.\n",
    "\n",
    "def get_leading_eigenvalue(L):\n",
    "    evals = L.eigenvalues()\n",
    "    moduli = [e.n() for e in evals if is_essentially_real(e)]\n",
    "    moduli = [e for e in moduli if e >= 0]\n",
    "    r = max(moduli)\n",
    "    return(r)"
   ]
  },
  {
   "cell_type": "code",
   "execution_count": 12,
   "metadata": {},
   "outputs": [],
   "source": [
    "def get_stable_age_distn(vec):\n",
    "    tot = sum(vec)\n",
    "    vec = vec/tot\n",
    "    return(vec)\n",
    "def get_leading_evec(L):\n",
    "    r = get_leading_eigenvalue(L)\n",
    "    evecs = L.eigenvectors_right()\n",
    "    arrs = [e[0].n() for e in evecs]\n",
    "    i = arrs.index(r)\n",
    "    leading_evec = evecs[i][1][0]\n",
    "    leading_evec = get_stable_age_distn(leading_evec).n()\n",
    "    return(leading_evec)"
   ]
  },
  {
   "cell_type": "code",
   "execution_count": 62,
   "metadata": {},
   "outputs": [],
   "source": [
    "f = [0.6, 0.8, 0.4]\n",
    "s = [1/2, 3/4, 0]\n",
    "L = Leslie(f, s)"
   ]
  },
  {
   "cell_type": "code",
   "execution_count": 61,
   "metadata": {},
   "outputs": [
    {
     "data": {
      "text/plain": [
       "[3/5 4/5 2/5]\n",
       "[1/2   0   0]\n",
       "[  0 3/4   0]"
      ]
     },
     "execution_count": 61,
     "metadata": {},
     "output_type": "execute_result"
    }
   ],
   "source": [
    "L"
   ]
  },
  {
   "cell_type": "code",
   "execution_count": 53,
   "metadata": {},
   "outputs": [],
   "source": [
    "u = get_leading_evec(L)\n",
    "r = get_leading_eigenvalue(L)"
   ]
  },
  {
   "cell_type": "code",
   "execution_count": 72,
   "metadata": {},
   "outputs": [],
   "source": []
  },
  {
   "cell_type": "code",
   "execution_count": 57,
   "metadata": {},
   "outputs": [],
   "source": [
    "def g(a):\n",
    "    return(f[a] + s[a] - 1)\n",
    "def verify_fitness(g, u):\n",
    "    n = len(u)\n",
    "    v = [0]*n\n",
    "    for i in range(n):\n",
    "        v[i] = g(i)*u[i]\n",
    "    r = 1 + sum(v)\n",
    "    return(r)\n",
    "    "
   ]
  },
  {
   "cell_type": "code",
   "execution_count": 58,
   "metadata": {},
   "outputs": [
    {
     "data": {
      "text/plain": [
       "1.10485360297509"
      ]
     },
     "execution_count": 58,
     "metadata": {},
     "output_type": "execute_result"
    }
   ],
   "source": [
    "verify_fitness(g, u)"
   ]
  },
  {
   "cell_type": "markdown",
   "metadata": {},
   "source": [
    "#### The above work shows an instance where indeed, my hypothesis holds. Praise be. "
   ]
  },
  {
   "cell_type": "markdown",
   "metadata": {},
   "source": [
    "#### I now want to try and look at the function $\\beta(a) \\cdot s(a)$ where $\\beta$ is instantaneous birth, and $s$ is cumulative survival probability. That is, $s(a) = P(\\text{survive to age }a)$."
   ]
  },
  {
   "cell_type": "markdown",
   "metadata": {},
   "source": [
    "#### First question: what is $\\int_0^\\infty \\beta(a)\\cdot s(a)d a$? Is it fitness? I hope not, but we'll see. I figure it is the expected number of offspring produced over a lifetime, which ideally would NOT be fitness."
   ]
  },
  {
   "cell_type": "code",
   "execution_count": 89,
   "metadata": {},
   "outputs": [],
   "source": [
    "def cumulative_survival(a, s):\n",
    "    esses = s[:a]\n",
    "    cum_sur = prod(esses)\n",
    "    return(cum_sur)\n",
    "\n",
    "def total_offspring(f, s):\n",
    "    n = len(f)\n",
    "    integrand = [f[a]*cumulative_survival(a, s) for a in range(n)]\n",
    "    return(sum(integrand))"
   ]
  },
  {
   "cell_type": "markdown",
   "metadata": {},
   "source": [
    "#### Happily, total offspring is not equal to fitness. Even happier, total offspring is HIGHER than fitness, which implies (at least, to me, and not confidently) that later offspring are to be weighted less heavily than earlier offspring, lest we over-value offspring from later in life."
   ]
  },
  {
   "cell_type": "markdown",
   "metadata": {},
   "source": [
    "#### I have realized something \"obvious\" which might actually be useful. Or not, but it's worth checking out. We know that fitness $=\\int \\left[ \\beta(a) - \\delta(a) \\right]n(a)da =\\int \\beta(a)s(a)\\left[\\frac{\\beta(a) - \\delta(a)}{\\beta(a)s(a)}\\right]n(a)da$, so taking $\\Delta(a) = \\left[\\frac{\\beta(a) - \\delta(a)}{\\beta(a)s(a)}\\right]n(a)$ actually results in $\\int_0^\\infty \\beta(a) s(a) \\cdot \\Delta(a) da$ being fitness. That is, $\\Delta$ is a discounting function which produces exactly what we want."
   ]
  },
  {
   "cell_type": "code",
   "execution_count": 1,
   "metadata": {},
   "outputs": [],
   "source": [
    "def symb_Leslie(f,s):\n",
    "    n = len(f)\n",
    "    L = zero_matrix(SR, n)\n",
    "    for i in range(n):\n",
    "        L[0, i] = f[i]\n",
    "        if i < n-1:\n",
    "            L[i+1, i] = s[i]\n",
    "    return(L)"
   ]
  },
  {
   "cell_type": "code",
   "execution_count": 2,
   "metadata": {},
   "outputs": [],
   "source": [
    "b1, b2, b3 = var('b1, b2, b3')"
   ]
  },
  {
   "cell_type": "code",
   "execution_count": 3,
   "metadata": {},
   "outputs": [],
   "source": [
    "s1, s2 = var('s1, s2')"
   ]
  },
  {
   "cell_type": "code",
   "execution_count": 37,
   "metadata": {},
   "outputs": [],
   "source": [
    "assume(b1, 'real')\n",
    "assume(b2, 'real')\n",
    "assume(b3, 'real')\n",
    "assume(b1>=0, b2>=0, b3>=0)\n"
   ]
  },
  {
   "cell_type": "code",
   "execution_count": 54,
   "metadata": {},
   "outputs": [],
   "source": [
    "L = symb_Leslie([b1, b2], [s1])"
   ]
  },
  {
   "cell_type": "code",
   "execution_count": 55,
   "metadata": {},
   "outputs": [
    {
     "data": {
      "text/plain": [
       "[b1 b2]\n",
       "[s1  0]"
      ]
     },
     "execution_count": 55,
     "metadata": {},
     "output_type": "execute_result"
    }
   ],
   "source": [
    "L"
   ]
  },
  {
   "cell_type": "code",
   "execution_count": 57,
   "metadata": {},
   "outputs": [],
   "source": [
    "g = (L.eigenvectors_right()[1][0])"
   ]
  },
  {
   "cell_type": "code",
   "execution_count": 58,
   "metadata": {},
   "outputs": [
    {
     "data": {
      "text/plain": [
       "1/2*b1 + 1/2*sqrt(b1^2 + 4*b2*s1)"
      ]
     },
     "execution_count": 58,
     "metadata": {},
     "output_type": "execute_result"
    }
   ],
   "source": [
    "g"
   ]
  },
  {
   "cell_type": "code",
   "execution_count": 35,
   "metadata": {},
   "outputs": [
    {
     "data": {
      "text/plain": [
       "[b1 >= 0, b2 >= 0, b3 >= 0, b1 is real]"
      ]
     },
     "execution_count": 35,
     "metadata": {},
     "output_type": "execute_result"
    }
   ],
   "source": [
    "assumptions()"
   ]
  },
  {
   "cell_type": "code",
   "execution_count": 59,
   "metadata": {},
   "outputs": [
    {
     "data": {
      "text/plain": [
       "\\frac{1}{2} \\, b_{1} + \\frac{1}{2} \\, \\sqrt{b_{1}^{2} + 4 \\, b_{2} s_{1}}"
      ]
     },
     "execution_count": 59,
     "metadata": {},
     "output_type": "execute_result"
    }
   ],
   "source": [
    "latex(g)"
   ]
  },
  {
   "cell_type": "code",
   "execution_count": 60,
   "metadata": {},
   "outputs": [
    {
     "data": {
      "text/plain": [
       "\\frac{b_{1}}{2 \\, \\sqrt{b_{1}^{2} + 4 \\, b_{2} s_{1}}} + \\frac{1}{2}"
      ]
     },
     "execution_count": 60,
     "metadata": {},
     "output_type": "execute_result"
    }
   ],
   "source": [
    "latex(derivative(g, b1))"
   ]
  },
  {
   "cell_type": "code",
   "execution_count": 61,
   "metadata": {},
   "outputs": [
    {
     "data": {
      "text/plain": [
       "\\frac{s_{1}}{\\sqrt{b_{1}^{2} + 4 \\, b_{2} s_{1}}}"
      ]
     },
     "execution_count": 61,
     "metadata": {},
     "output_type": "execute_result"
    }
   ],
   "source": [
    "latex(derivative(g, b2))"
   ]
  },
  {
   "cell_type": "code",
   "execution_count": null,
   "metadata": {},
   "outputs": [],
   "source": []
  }
 ],
 "metadata": {
  "kernelspec": {
   "display_name": "SageMath 9.1",
   "language": "sage",
   "name": "sagemath"
  },
  "language_info": {
   "codemirror_mode": {
    "name": "ipython",
    "version": 3
   },
   "file_extension": ".py",
   "mimetype": "text/x-python",
   "name": "python",
   "nbconvert_exporter": "python",
   "pygments_lexer": "ipython3",
   "version": "3.7.3"
  }
 },
 "nbformat": 4,
 "nbformat_minor": 2
}
