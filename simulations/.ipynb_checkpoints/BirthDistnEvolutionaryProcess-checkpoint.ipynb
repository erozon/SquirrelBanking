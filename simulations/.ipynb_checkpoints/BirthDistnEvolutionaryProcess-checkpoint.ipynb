{
 "cells": [
  {
   "cell_type": "markdown",
   "metadata": {},
   "source": [
    "#### P[i] is P(X = i) (sage automatically normalizes). The second cell demonstrates that we do indeed get what we want to. "
   ]
  },
  {
   "cell_type": "code",
   "execution_count": 72,
   "metadata": {
    "collapsed": false
   },
   "outputs": [],
   "source": [
    "U = RealDistribution('uniform', [0, 1])\n",
    "U.get_random_element()\n",
    "survival = [1/2, 1/2, 5/6]\n",
    "#These values for s_i give a fitness of about 1.03 (see birth_distn_experiment)"
   ]
  },
  {
   "cell_type": "code",
   "execution_count": 73,
   "metadata": {
    "collapsed": false
   },
   "outputs": [],
   "source": [
    "#A squirrel is a list that looks like [birth_distn, cached_nuts]. A population of squirrels is a list\n",
    "#    of such lists. \n",
    "\n",
    "def single_squirrel_maker(birth_distn, starting_nuts = 0):\n",
    "    return([birth_distn, starting_nuts])\n",
    "\n",
    "def many_squirrel_maker(n, birth_distn, starting_nuts = 0):\n",
    "    return([[birth_distn, starting_nuts] for s in range(n)])\n",
    "\n",
    "def birth_distn_mutn(birth_distn, increment = 0.05):\n",
    "    n = len(birth_distn)\n",
    "    V = RealDistribution('uniform', [0, n])\n",
    "    pm = V.get_random_element()\n",
    "    #Decide if mutation adds or subtracts from parent birth_distn\n",
    "    if pm < 1/2:\n",
    "        plus_minus = +1\n",
    "    else:\n",
    "        plus_minus = -1\n",
    "    #Decide the savings level probability to alter\n",
    "    k = V.get_random_element()\n",
    "    k = floor(k)\n",
    "    new_birth_distn = birth_distn\n",
    "    new_val = birth_distn[k] + plus_minus*increment\n",
    "    if new_val < 0:\n",
    "        new_birth_distn[k] = 0\n",
    "    elif new_val > 1:\n",
    "        new_birth_distn[k] = 1\n",
    "    else:\n",
    "        new_birth_distn[k] = new_val\n",
    "    return(new_birth_distn)\n",
    "\n",
    "def death_process(squirrels, survival = [1/2, 1/2, 6/7]):\n",
    "    dead_squirrels = []\n",
    "    for s in squirrels:\n",
    "        d = U.get_random_element()\n",
    "        squirrel_dies = d > survival[s[1]]\n",
    "        if squirrel_dies:\n",
    "            dead_squirrels.append(s)\n",
    "    for dead in dead_squirrels:\n",
    "        squirrels.remove(dead)\n",
    "    return(squirrels)\n",
    "\n",
    "def birth_process(squirrels, mutation_probability = 0):\n",
    "    baby_squirrels = []\n",
    "    for i, s in enumerate(squirrels):\n",
    "        b = U.get_random_element()\n",
    "        gives_birth = b < s[0][s[1]]\n",
    "        if gives_birth:\n",
    "            m = U.get_random_element()\n",
    "            mutates = m < mutation_probability\n",
    "            if mutates:\n",
    "                birth_distn = birth_distn_mutn(s[0])\n",
    "            else:  #no mutation, inherits birth_distn of parent\n",
    "                birth_distn = s[0]\n",
    "            baby_squirrels.append(single_squirrel_maker(birth_distn))\n",
    "        else:  #not giving birth\n",
    "            squirrels[i] = single_squirrel_maker(s[0], s[1] + 1)\n",
    "    squirrels = squirrels + baby_squirrels\n",
    "    return(squirrels)"
   ]
  },
  {
   "cell_type": "code",
   "execution_count": 150,
   "metadata": {
    "collapsed": true
   },
   "outputs": [],
   "source": [
    "squirrels = many_squirrel_maker(100, [1/2, 0, 1])\n",
    "baby_squirrels = []"
   ]
  },
  {
   "cell_type": "code",
   "execution_count": 153,
   "metadata": {
    "collapsed": false
   },
   "outputs": [
    {
     "data": {
      "text/plain": [
       "[1/2, 0.0500000000000000, 0.950000000000000]"
      ]
     },
     "execution_count": 153,
     "metadata": {},
     "output_type": "execute_result"
    }
   ],
   "source": [
    "birth_distn = birth_distn_mutn(squirrels[1][0])\n",
    "birth_distn"
   ]
  },
  {
   "cell_type": "code",
   "execution_count": null,
   "metadata": {
    "collapsed": true
   },
   "outputs": [],
   "source": []
  },
  {
   "cell_type": "code",
   "execution_count": 154,
   "metadata": {
    "collapsed": false
   },
   "outputs": [
    {
     "data": {
      "text/plain": [
       "[[[1/2, 0.0500000000000000, 0.950000000000000], 0],\n",
       " [[1/2, 0.0500000000000000, 0.950000000000000], 0]]"
      ]
     },
     "execution_count": 154,
     "metadata": {},
     "output_type": "execute_result"
    }
   ],
   "source": [
    "baby_squirrels.append(single_squirrel_maker(birth_distn))\n",
    "baby_squirrels"
   ]
  },
  {
   "cell_type": "code",
   "execution_count": 74,
   "metadata": {
    "collapsed": false
   },
   "outputs": [
    {
     "data": {
      "text/plain": [
       "49"
      ]
     },
     "execution_count": 74,
     "metadata": {},
     "output_type": "execute_result"
    }
   ],
   "source": [
    "squirrels = many_squirrel_maker(100, [0, 0, 1])\n",
    "len(death_process(squirrels))"
   ]
  },
  {
   "cell_type": "code",
   "execution_count": 137,
   "metadata": {
    "collapsed": false
   },
   "outputs": [
    {
     "data": {
      "text/plain": [
       "[[[0.250000000000000, 0, 0.800000000000000], 0],\n",
       " [[0.250000000000000, 0, 0.800000000000000], 1],\n",
       " [[0.250000000000000, 0, 0.800000000000000], 0],\n",
       " [[0.250000000000000, 0, 0.800000000000000], 1],\n",
       " [[0.250000000000000, 0, 0.800000000000000], 0],\n",
       " [[0.250000000000000, 0, 0.800000000000000], 1],\n",
       " [[0.250000000000000, 0, 0.800000000000000], 1],\n",
       " [[0.250000000000000, 0, 0.800000000000000], 1],\n",
       " [[0.250000000000000, 0, 0.800000000000000], 0],\n",
       " [[0.250000000000000, 0, 0.800000000000000], 0],\n",
       " [[0.250000000000000, 0, 0.800000000000000], 1],\n",
       " [[0.250000000000000, 0, 0.800000000000000], 0],\n",
       " [[0.250000000000000, 0, 0.800000000000000], 1],\n",
       " [[0.250000000000000, 0, 0.800000000000000], 1],\n",
       " [[0.250000000000000, 0, 0.800000000000000], 0],\n",
       " [[0.250000000000000, 0, 0.800000000000000], 0],\n",
       " [[0.250000000000000, 0, 0.800000000000000], 1],\n",
       " [[0.250000000000000, 0, 0.800000000000000], 0],\n",
       " [[0.250000000000000, 0, 0.800000000000000], 0],\n",
       " [[0.250000000000000, 0, 0.800000000000000], 1],\n",
       " [[0.250000000000000, 0, 0.800000000000000], 0],\n",
       " [[0.250000000000000, 0, 0.800000000000000], 1],\n",
       " [[0.250000000000000, 0, 0.800000000000000], 1],\n",
       " [[0.250000000000000, 0, 0.800000000000000], 1],\n",
       " [[0.250000000000000, 0, 0.800000000000000], 0],\n",
       " [[0.250000000000000, 0, 0.800000000000000], 0],\n",
       " [[0.250000000000000, 0, 0.800000000000000], 1],\n",
       " [[0.250000000000000, 0, 0.800000000000000], 1],\n",
       " [[0.250000000000000, 0, 0.800000000000000], 1],\n",
       " [[0.250000000000000, 0, 0.800000000000000], 0],\n",
       " [[0.250000000000000, 0, 0.800000000000000], 1],\n",
       " [[0.250000000000000, 0, 0.800000000000000], 0],\n",
       " [[0.250000000000000, 0, 0.800000000000000], 0],\n",
       " [[0.250000000000000, 0, 0.800000000000000], 1],\n",
       " [[0.250000000000000, 0, 0.800000000000000], 1],\n",
       " [[0.250000000000000, 0, 0.800000000000000], 0],\n",
       " [[0.250000000000000, 0, 0.800000000000000], 1],\n",
       " [[0.250000000000000, 0, 0.800000000000000], 1],\n",
       " [[0.250000000000000, 0, 0.800000000000000], 1],\n",
       " [[0.250000000000000, 0, 0.800000000000000], 1],\n",
       " [[0.250000000000000, 0, 0.800000000000000], 1],\n",
       " [[0.250000000000000, 0, 0.800000000000000], 1],\n",
       " [[0.250000000000000, 0, 0.800000000000000], 1],\n",
       " [[0.250000000000000, 0, 0.800000000000000], 1],\n",
       " [[0.250000000000000, 0, 0.800000000000000], 0],\n",
       " [[0.250000000000000, 0, 0.800000000000000], 1],\n",
       " [[0.250000000000000, 0, 0.800000000000000], 1],\n",
       " [[0.250000000000000, 0, 0.800000000000000], 1],\n",
       " [[0.250000000000000, 0, 0.800000000000000], 1],\n",
       " [[0.250000000000000, 0, 0.800000000000000], 1],\n",
       " [[0.250000000000000, 0, 0.800000000000000], 1],\n",
       " [[0.250000000000000, 0, 0.800000000000000], 1],\n",
       " [[0.250000000000000, 0, 0.800000000000000], 1],\n",
       " [[0.250000000000000, 0, 0.800000000000000], 1],\n",
       " [[0.250000000000000, 0, 0.800000000000000], 1],\n",
       " [[0.250000000000000, 0, 0.800000000000000], 0],\n",
       " [[0.250000000000000, 0, 0.800000000000000], 1],\n",
       " [[0.250000000000000, 0, 0.800000000000000], 1],\n",
       " [[0.250000000000000, 0, 0.800000000000000], 1],\n",
       " [[0.250000000000000, 0, 0.800000000000000], 1],\n",
       " [[0.250000000000000, 0, 0.800000000000000], 1],\n",
       " [[0.250000000000000, 0, 0.800000000000000], 1],\n",
       " [[0.250000000000000, 0, 0.800000000000000], 1],\n",
       " [[0.250000000000000, 0, 0.800000000000000], 1],\n",
       " [[0.250000000000000, 0, 0.800000000000000], 1],\n",
       " [[0.250000000000000, 0, 0.800000000000000], 0],\n",
       " [[0.250000000000000, 0, 0.800000000000000], 1],\n",
       " [[0.250000000000000, 0, 0.800000000000000], 1],\n",
       " [[0.250000000000000, 0, 0.800000000000000], 1],\n",
       " [[0.250000000000000, 0, 0.800000000000000], 1],\n",
       " [[0.250000000000000, 0, 0.800000000000000], 0],\n",
       " [[0.250000000000000, 0, 0.800000000000000], 0],\n",
       " [[0.250000000000000, 0, 0.800000000000000], 0],\n",
       " [[0.250000000000000, 0, 0.800000000000000], 0],\n",
       " [[0.250000000000000, 0, 0.800000000000000], 0],\n",
       " [[0.250000000000000, 0, 0.800000000000000], 1],\n",
       " [[0.250000000000000, 0, 0.800000000000000], 1],\n",
       " [[0.250000000000000, 0, 0.800000000000000], 1],\n",
       " [[0.250000000000000, 0, 0.800000000000000], 1],\n",
       " [[0.250000000000000, 0, 0.800000000000000], 1],\n",
       " [[0.250000000000000, 0, 0.800000000000000], 1],\n",
       " [[0.250000000000000, 0, 0.800000000000000], 0],\n",
       " [[0.250000000000000, 0, 0.800000000000000], 1],\n",
       " [[0.250000000000000, 0, 0.800000000000000], 1],\n",
       " [[0.250000000000000, 0, 0.800000000000000], 1],\n",
       " [[0.250000000000000, 0, 0.800000000000000], 1],\n",
       " [[0.250000000000000, 0, 0.800000000000000], 1],\n",
       " [[0.250000000000000, 0, 0.800000000000000], 1],\n",
       " [[0.250000000000000, 0, 0.800000000000000], 0],\n",
       " [[0.250000000000000, 0, 0.800000000000000], 1],\n",
       " [[0.250000000000000, 0, 0.800000000000000], 1],\n",
       " [[0.250000000000000, 0, 0.800000000000000], 1],\n",
       " [[0.250000000000000, 0, 0.800000000000000], 1],\n",
       " [[0.250000000000000, 0, 0.800000000000000], 0],\n",
       " [[0.250000000000000, 0, 0.800000000000000], 0],\n",
       " [[0.250000000000000, 0, 0.800000000000000], 1],\n",
       " [[0.250000000000000, 0, 0.800000000000000], 1],\n",
       " [[0.250000000000000, 0, 0.800000000000000], 1],\n",
       " [[0.250000000000000, 0, 0.800000000000000], 0],\n",
       " [[0.250000000000000, 0, 0.800000000000000], 1],\n",
       " [[0.250000000000000, 0, 0.800000000000000], 0],\n",
       " [[0.250000000000000, 0, 0.800000000000000], 0],\n",
       " [[0.250000000000000, 0, 0.800000000000000], 0],\n",
       " [[0.250000000000000, 0, 0.800000000000000], 0],\n",
       " [[0.250000000000000, 0, 0.800000000000000], 0],\n",
       " [[0.250000000000000, 0, 0.800000000000000], 0],\n",
       " [[0.250000000000000, 0, 0.800000000000000], 0],\n",
       " [[0.250000000000000, 0, 0.800000000000000], 0],\n",
       " [[0.250000000000000, 0, 0.800000000000000], 0],\n",
       " [[0.250000000000000, 0, 0.800000000000000], 0],\n",
       " [[0.250000000000000, 0, 0.800000000000000], 0],\n",
       " [[0.250000000000000, 0, 0.800000000000000], 0],\n",
       " [[0.250000000000000, 0, 0.800000000000000], 0],\n",
       " [[0.250000000000000, 0, 0.800000000000000], 0],\n",
       " [[0.250000000000000, 0, 0.800000000000000], 0],\n",
       " [[0.250000000000000, 0, 0.800000000000000], 0],\n",
       " [[0.250000000000000, 0, 0.800000000000000], 0],\n",
       " [[0.250000000000000, 0, 0.800000000000000], 0],\n",
       " [[0.250000000000000, 0, 0.800000000000000], 0],\n",
       " [[0.250000000000000, 0, 0.800000000000000], 0],\n",
       " [[0.250000000000000, 0, 0.800000000000000], 0],\n",
       " [[0.250000000000000, 0, 0.800000000000000], 0],\n",
       " [[0.250000000000000, 0, 0.800000000000000], 0],\n",
       " [[0.250000000000000, 0, 0.800000000000000], 0],\n",
       " [[0.250000000000000, 0, 0.800000000000000], 0],\n",
       " [[0.250000000000000, 0, 0.800000000000000], 0],\n",
       " [[0.250000000000000, 0, 0.800000000000000], 0],\n",
       " [[0.250000000000000, 0, 0.800000000000000], 0],\n",
       " [[0.250000000000000, 0, 0.800000000000000], 0],\n",
       " [[0.250000000000000, 0, 0.800000000000000], 0]]"
      ]
     },
     "execution_count": 137,
     "metadata": {},
     "output_type": "execute_result"
    }
   ],
   "source": [
    "squirrels = many_squirrel_maker(100, [1/2, 0, 1])\n",
    "birth_process(squirrels, mutation_probability=1)"
   ]
  },
  {
   "cell_type": "code",
   "execution_count": 620,
   "metadata": {
    "collapsed": true
   },
   "outputs": [],
   "source": [
    "def single_day(squirrels, survival = [1/2, 1/2, 5/6]):\n",
    "    squirrels = death_process(squirrels, survival = survival)\n",
    "    squirrels = birth_process(squirrels)\n",
    "    return(squirrels)"
   ]
  },
  {
   "cell_type": "code",
   "execution_count": 621,
   "metadata": {
    "collapsed": false
   },
   "outputs": [],
   "source": [
    "def many_days(n, squirrels, survival = [1/2, 1/2, 5/6]):\n",
    "    for _ in range(n):\n",
    "        squirrels = death_process(squirrels, survival = survival)\n",
    "        squirrels = birth_process(squirrels)\n",
    "    return(len(squirrels))"
   ]
  },
  {
   "cell_type": "code",
   "execution_count": 639,
   "metadata": {
    "collapsed": false
   },
   "outputs": [
    {
     "data": {
      "text/plain": [
       "0.0429000000000000"
      ]
     },
     "execution_count": 639,
     "metadata": {},
     "output_type": "execute_result"
    }
   ],
   "source": [
    "results = []\n",
    "squirrels = many_squirrel_maker(10, [1/2, 0, 1], 0)\n",
    "for _ in range(10000):\n",
    "    x = many_days(100, squirrels)\n",
    "    results.append(x)\n",
    "mean(results).n()"
   ]
  },
  {
   "cell_type": "code",
   "execution_count": 638,
   "metadata": {
    "collapsed": false
   },
   "outputs": [
    {
     "data": {
      "text/plain": [
       "1.25900000000000"
      ]
     },
     "execution_count": 638,
     "metadata": {},
     "output_type": "execute_result"
    }
   ],
   "source": [
    "results = []\n",
    "squirrels = many_squirrel_maker(10, [0, 0, 1], 0)\n",
    "for _ in range(1000):\n",
    "    x = many_days(100, squirrels)\n",
    "    results.append(x)\n",
    "mean(results).n()"
   ]
  },
  {
   "cell_type": "markdown",
   "metadata": {},
   "source": [
    "#### It looks like we are okay now. These results are an instance of what I was finding in BirthDistnWithMatrices. The next step is to let an evolutionary process guide us toward the optimal birth distribution b. Doing so will be tough. "
   ]
  },
  {
   "cell_type": "code",
   "execution_count": 79,
   "metadata": {
    "collapsed": true
   },
   "outputs": [],
   "source": [
    "def get_random(n):\n",
    "    V = RealDistribution('uniform', [0, n])\n",
    "    k = V.get_random_element()\n",
    "    k = floor(k)\n",
    "    return(k)"
   ]
  },
  {
   "cell_type": "code",
   "execution_count": 138,
   "metadata": {
    "collapsed": false
   },
   "outputs": [
    {
     "name": "stdout",
     "output_type": "stream",
     "text": [
      "4\n",
      "3\n",
      "1\n",
      "3\n",
      "0\n",
      "4\n",
      "0\n",
      "2\n",
      "2\n",
      "1\n"
     ]
    }
   ],
   "source": [
    "for i in range(10):\n",
    "    print(get_random(5))"
   ]
  },
  {
   "cell_type": "code",
   "execution_count": null,
   "metadata": {
    "collapsed": false
   },
   "outputs": [],
   "source": []
  },
  {
   "cell_type": "code",
   "execution_count": null,
   "metadata": {
    "collapsed": true
   },
   "outputs": [],
   "source": []
  }
 ],
 "metadata": {
  "kernelspec": {
   "display_name": "SageMath 7.5.1",
   "language": "",
   "name": "sagemath"
  },
  "language_info": {
   "codemirror_mode": {
    "name": "ipython",
    "version": 2
   },
   "file_extension": ".py",
   "mimetype": "text/x-python",
   "name": "python",
   "nbconvert_exporter": "python",
   "pygments_lexer": "ipython2",
   "version": "2.7.13"
  }
 },
 "nbformat": 4,
 "nbformat_minor": 0
}
