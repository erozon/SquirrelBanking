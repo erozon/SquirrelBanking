{
 "cells": [
  {
   "cell_type": "markdown",
   "metadata": {},
   "source": [
    "#### P[i] is P(X = i) (sage automatically normalizes). The second cell demonstrates that we do indeed get what we want to. "
   ]
  },
  {
   "cell_type": "code",
   "execution_count": 217,
   "metadata": {
    "collapsed": false
   },
   "outputs": [],
   "source": [
    "U = RealDistribution('uniform', [0, 1])\n",
    "#U.get_random_element()\n",
    "survival = [1/2, 1/2, 5/6, 5/6, 0]\n",
    "#These values for s_i give a fitness of about 1.03 (see birth_distn_experiment) when you save up to betahat = 3"
   ]
  },
  {
   "cell_type": "code",
   "execution_count": 315,
   "metadata": {
    "collapsed": false
   },
   "outputs": [],
   "source": [
    "#A squirrel is a list that looks like [birth_distn, cached_nuts]. A population of squirrels is a list\n",
    "#    of such lists. Birth_distn, critically, must be a TUPLE = (b_0, b_1, . . ., b_\\betahat) and not a list.\n",
    "\n",
    "def single_squirrel_maker(birth_distn, starting_nuts = 0):\n",
    "    return([birth_distn, starting_nuts])\n",
    "\n",
    "def many_squirrel_maker(n, birth_distn, starting_nuts = 0):\n",
    "    return([[birth_distn, starting_nuts] for s in range(n)])\n",
    "\n",
    "def birth_distn_mutn(birth_distn, increment = 0.05):\n",
    "    n = len(birth_distn)\n",
    "    V = RealDistribution('uniform', [0, n])\n",
    "    pm = U.get_random_element()\n",
    "    #Decide if mutation adds or subtracts from parent birth_distn\n",
    "    if pm < 1/2:\n",
    "        plus_minus = +1\n",
    "    else:\n",
    "        plus_minus = -1\n",
    "    #Decide the savings level probability to alter\n",
    "    k = V.get_random_element()\n",
    "    k = floor(k)\n",
    "    new_birth_distn = list(birth_distn)\n",
    "    new_val = birth_distn[k] + plus_minus*increment\n",
    "    if new_val < 0:\n",
    "        new_birth_distn[k] = 0\n",
    "    elif new_val > 1:\n",
    "        new_birth_distn[k] = 1\n",
    "    else:\n",
    "        new_birth_distn[k] = new_val\n",
    "    new_birth_distn = tuple(new_birth_distn)\n",
    "    return(new_birth_distn)\n",
    "\n",
    "def death_process(squirrels, survival = [1/2, 1/2, 5/6, 5/6, 0]):\n",
    "    dead_squirrels = []\n",
    "    for s in squirrels:\n",
    "        d = U.get_random_element()\n",
    "        squirrel_dies = d > survival[s[1]]\n",
    "        if squirrel_dies:\n",
    "            dead_squirrels.append(s)\n",
    "    for dead in dead_squirrels:\n",
    "        squirrels.remove(dead)\n",
    "    return(squirrels)\n",
    "\n",
    "def birth_process(squirrels, mutation_probability = 0):\n",
    "    baby_squirrels = []\n",
    "    for i, s in enumerate(squirrels):\n",
    "        b = U.get_random_element()\n",
    "        gives_birth = b < s[0][s[1]]\n",
    "        if gives_birth:\n",
    "            m = U.get_random_element()\n",
    "            mutates = m < mutation_probability\n",
    "            if mutates:\n",
    "                birth_distn = birth_distn_mutn(s[0])\n",
    "            else:  #no mutation, inherits birth_distn of parent\n",
    "                birth_distn = s[0]\n",
    "            baby_squirrels.append(single_squirrel_maker(birth_distn))\n",
    "        else:  #not giving birth\n",
    "            squirrels[i] = single_squirrel_maker(s[0], s[1] + 1)\n",
    "    squirrels = squirrels + baby_squirrels\n",
    "    return(squirrels)"
   ]
  },
  {
   "cell_type": "code",
   "execution_count": 220,
   "metadata": {
    "collapsed": false
   },
   "outputs": [
    {
     "data": {
      "text/plain": [
       "43"
      ]
     },
     "execution_count": 220,
     "metadata": {},
     "output_type": "execute_result"
    }
   ],
   "source": [
    "squirrels = many_squirrel_maker(100, (0, 0, 1))\n",
    "len(death_process(squirrels))"
   ]
  },
  {
   "cell_type": "code",
   "execution_count": 195,
   "metadata": {
    "collapsed": false
   },
   "outputs": [
    {
     "data": {
      "text/plain": [
       "155"
      ]
     },
     "execution_count": 195,
     "metadata": {},
     "output_type": "execute_result"
    }
   ],
   "source": [
    "squirrels = many_squirrel_maker(100, (1/2, 0, 1))\n",
    "len(birth_process(squirrels, mutation_probability=1))"
   ]
  },
  {
   "cell_type": "code",
   "execution_count": 197,
   "metadata": {
    "collapsed": true
   },
   "outputs": [],
   "source": [
    "def single_day(squirrels, survival = [1/2, 1/2, 5/6]):\n",
    "    squirrels = death_process(squirrels, survival = survival)\n",
    "    squirrels = birth_process(squirrels)\n",
    "    return(squirrels)"
   ]
  },
  {
   "cell_type": "code",
   "execution_count": 198,
   "metadata": {
    "collapsed": false
   },
   "outputs": [],
   "source": [
    "def many_days(n, squirrels, survival = [1/2, 1/2, 5/6]):\n",
    "    for _ in range(n):\n",
    "        squirrels = death_process(squirrels, survival = survival)\n",
    "        squirrels = birth_process(squirrels)\n",
    "    return(len(squirrels))"
   ]
  },
  {
   "cell_type": "code",
   "execution_count": 207,
   "metadata": {
    "collapsed": false
   },
   "outputs": [
    {
     "data": {
      "text/plain": [
       "32.2300000000000"
      ]
     },
     "execution_count": 207,
     "metadata": {},
     "output_type": "execute_result"
    }
   ],
   "source": [
    "results = []\n",
    "squirrels = many_squirrel_maker(100, (1/2, 0, 1))\n",
    "for _ in range(100):\n",
    "    x = many_days(100, squirrels)\n",
    "    results.append(x)\n",
    "mean(results).n()"
   ]
  },
  {
   "cell_type": "code",
   "execution_count": 208,
   "metadata": {
    "collapsed": false
   },
   "outputs": [
    {
     "data": {
      "text/plain": [
       "62.5200000000000"
      ]
     },
     "execution_count": 208,
     "metadata": {},
     "output_type": "execute_result"
    }
   ],
   "source": [
    "results = []\n",
    "squirrels = many_squirrel_maker(100, (0, 0, 1))\n",
    "for _ in range(100):\n",
    "    x = many_days(100, squirrels)\n",
    "    results.append(x)\n",
    "mean(results).n()"
   ]
  },
  {
   "cell_type": "markdown",
   "metadata": {},
   "source": [
    "#### Everything up until now provides a reasonable sanity check; things work as they ought to.  Now let's instantiate an evolutionary process which walks us to the optimal birth_distn."
   ]
  },
  {
   "cell_type": "code",
   "execution_count": 282,
   "metadata": {
    "collapsed": true
   },
   "outputs": [],
   "source": [
    "#Problem: Now that we allow squirrels' offspring to have different birth_distn, it is possible that a squirrel\n",
    "#    not know with what probability to give birth; thus at the start of each day we'll have to run a check,\n",
    "#    verifying that the squirrels know what to do. What makes most sense? A straightforward option is to insist\n",
    "#    that the last entry be 1 in the birth_distn; if it isn't, add on another one, and make it 1. \n",
    "def check_squirrels(squirrels):\n",
    "    for i, s in enumerate(squirrels):\n",
    "        if s[0][-1] != 1:\n",
    "            banked = s[1]\n",
    "            birth_distn = list(s[0])\n",
    "            birth_distn = birth_distn + [1]\n",
    "            squirrels[i] = single_squirrel_maker(tuple(birth_distn), banked)\n",
    "    return(squirrels)\n",
    "\n",
    "#Another problem: a large population becomes hard to deal with. For that reason, I'll let the population grow to\n",
    "#    size 1000, and then I'll kill of 90% of it uniformly at random (all we care about is frequency of\n",
    "#    different types of squirrels, so that this is okay).\n",
    "def cull_squirrels(squirrels, death_prob = 0.9):\n",
    "    alive_squirrels = []\n",
    "    for s in squirrels:\n",
    "        v = U.get_random_element()\n",
    "        squirrel_survives = v > death_prob\n",
    "        if squirrel_survives:\n",
    "            alive_squirrels.append(s)\n",
    "    squirrels = alive_squirrels\n",
    "    return(squirrels)\n",
    "\n",
    "def hundred_to_hundred(squirrels, mutation_probability = 0.05, death_prob = 0.9):\n",
    "    while len(squirrels) < 1000 and len(squirrels) > 0:\n",
    "        check_squirrels(squirrels)\n",
    "        squirrels = death_process(squirrels)\n",
    "        squirrels = birth_process(squirrels, mutation_probability)\n",
    "    squirrels = cull_squirrels(squirrels, death_prob)\n",
    "    return(squirrels)\n",
    "\n",
    "#Not a problem, just a tool: I want to understand what my population of squirrels looks like. \n",
    "\n",
    "def make_birth_freq_dict(squirrels):\n",
    "    freq = {} \n",
    "    birth_distns = [tuple(s[0]) for s in squirrels]\n",
    "    for s in birth_distns: \n",
    "        if (s in freq): \n",
    "            freq[s] += 1\n",
    "        else: \n",
    "            freq[s] = 1\n",
    "    return(freq)"
   ]
  },
  {
   "cell_type": "code",
   "execution_count": 336,
   "metadata": {
    "collapsed": false
   },
   "outputs": [],
   "source": [
    "squirrels = many_squirrel_maker(100, (0, 0, 0, 1))"
   ]
  },
  {
   "cell_type": "code",
   "execution_count": 337,
   "metadata": {
    "collapsed": false
   },
   "outputs": [
    {
     "name": "stdout",
     "output_type": "stream",
     "text": [
      "running 0\n",
      "running 10\n",
      "running 20\n",
      "running 30\n",
      "running 40\n",
      "running 50\n",
      "running 60\n",
      "running 70\n",
      "running 80\n",
      "running 90\n"
     ]
    },
    {
     "data": {
      "text/plain": [
       "{}"
      ]
     },
     "execution_count": 337,
     "metadata": {},
     "output_type": "execute_result"
    }
   ],
   "source": [
    "for _ in range(100):\n",
    "    if not _ % 10:\n",
    "        print('running {}'.format(_))\n",
    "    squirrels = hundred_to_hundred(squirrels)\n",
    "make_birth_freq_dict(squirrels)"
   ]
  },
  {
   "cell_type": "code",
   "execution_count": 320,
   "metadata": {
    "collapsed": false
   },
   "outputs": [
    {
     "data": {
      "text/plain": [
       "[[(6.93889390390723e-17, 0, 1, 1, 0.900000000000000, 1), 2],\n",
       " [(6.93889390390723e-17, 0, 0.950000000000000, 1, 0.950000000000000, 1), 3],\n",
       " [(0.100000000000000, 0, 0.950000000000000, 1, 0.900000000000000, 1), 2],\n",
       " [(0.0500000000000001, 0, 1, 0.950000000000000, 0.900000000000000, 1), 2],\n",
       " [(6.93889390390723e-17, 0, 0.950000000000000, 1, 0.950000000000000, 1), 2],\n",
       " [(0.0500000000000001, 0, 1, 1, 0.900000000000000, 1), 2],\n",
       " [(0.0500000000000001, 0.0500000000000000, 1, 1, 0.900000000000000, 1), 2],\n",
       " [(0.0500000000000001, 0, 1, 0.950000000000000, 0.900000000000000, 1), 2],\n",
       " [(0.100000000000000, 0, 1, 0.950000000000000, 0.950000000000000, 1), 2],\n",
       " [(0.0500000000000001, 0, 1, 1, 0.900000000000000, 1), 2],\n",
       " [(0.0500000000000001, 0, 0.950000000000000, 1, 0.900000000000000, 1), 2],\n",
       " [(0.0500000000000001, 0, 0.950000000000000, 1, 0.900000000000000, 1), 2],\n",
       " [(6.93889390390723e-17, 0, 1, 1, 0.900000000000000, 1), 2],\n",
       " [(0.0500000000000001, 0.0500000000000000, 1, 1, 0.900000000000000, 1), 2],\n",
       " [(0.100000000000000, 0, 1, 0.950000000000000, 0.950000000000000, 1), 2],\n",
       " [(0.0500000000000001, 0, 1, 1, 0.900000000000000, 1), 2],\n",
       " [(0.0500000000000001, 0, 1, 1, 0.900000000000000, 1), 2],\n",
       " [(0.0500000000000001, 0.0500000000000000, 1, 1, 0.900000000000000, 1), 2],\n",
       " [(0.100000000000000, 0, 1, 0.950000000000000, 0.950000000000000, 1), 2],\n",
       " [(0.0500000000000001, 0.0500000000000000, 1, 1, 0.900000000000000, 1), 2],\n",
       " [(0.100000000000000,\n",
       "   0,\n",
       "   1,\n",
       "   0.950000000000000,\n",
       "   0.950000000000000,\n",
       "   0.950000000000000,\n",
       "   1),\n",
       "  2],\n",
       " [(6.93889390390723e-17,\n",
       "   0.0500000000000000,\n",
       "   0.950000000000000,\n",
       "   1,\n",
       "   0.950000000000000,\n",
       "   1),\n",
       "  2],\n",
       " [(0.0500000000000001, 0, 1, 1, 0.900000000000000, 0.950000000000000, 1), 2],\n",
       " [(6.93889390390723e-17, 0, 0.950000000000000, 1, 0.950000000000000, 1), 2],\n",
       " [(0.0500000000000001, 0, 1, 1, 0.900000000000000, 1), 2],\n",
       " [(0.0500000000000001, 0.0500000000000000, 1, 1, 0.900000000000000, 1), 2],\n",
       " [(0.0500000000000001, 0, 1, 0.950000000000000, 0.900000000000000, 1), 2],\n",
       " [(0.100000000000000, 0, 1, 1, 0.900000000000000, 1), 2],\n",
       " [(0.100000000000000,\n",
       "   0.0500000000000000,\n",
       "   1,\n",
       "   0.950000000000000,\n",
       "   0.950000000000000,\n",
       "   0.950000000000000,\n",
       "   1),\n",
       "  2],\n",
       " [(0.0500000000000001, 0, 1, 0.950000000000000, 0.900000000000000, 1), 2],\n",
       " [(0.0500000000000001, 0, 1, 1, 0.900000000000000, 1), 2],\n",
       " [(0.0500000000000001, 0, 1, 0.950000000000000, 0.900000000000000, 1), 2],\n",
       " [(0.100000000000000, 0, 1, 1, 0.900000000000000, 1), 2],\n",
       " [(0.0500000000000001, 0, 1, 1, 0.900000000000000, 1), 2],\n",
       " [(0.100000000000000, 0, 1, 0.950000000000000, 0.950000000000000, 1), 2],\n",
       " [(0.100000000000000, 0, 1, 1, 0.900000000000000, 1), 2],\n",
       " [(0.0500000000000001, 0, 1, 1, 0.900000000000000, 0.950000000000000, 1), 2],\n",
       " [(0.100000000000000, 0, 1, 0.950000000000000, 0.950000000000000, 1), 2],\n",
       " [(0.100000000000000, 0, 1, 1, 0.950000000000000, 1), 2],\n",
       " [(0.0500000000000001, 0, 0.950000000000000, 1, 0.900000000000000, 1), 2],\n",
       " [(0.0500000000000001, 0, 1, 1, 0.900000000000000, 1), 2],\n",
       " [(0.0500000000000001, 0, 1, 1, 0.900000000000000, 1), 2],\n",
       " [(0.100000000000000,\n",
       "   0,\n",
       "   1,\n",
       "   0.950000000000000,\n",
       "   0.950000000000000,\n",
       "   0.950000000000000,\n",
       "   1),\n",
       "  1],\n",
       " [(0.0500000000000001, 0, 1, 1, 0.900000000000000, 1), 1],\n",
       " [(0.0500000000000001, 0.0500000000000000, 1, 1, 0.900000000000000, 1), 1],\n",
       " [(0.0500000000000001, 0, 1, 1, 0.900000000000000, 1), 1],\n",
       " [(0.0500000000000001, 0, 1, 1, 0.900000000000000, 1), 1],\n",
       " [(0.0500000000000001, 0, 1, 0.950000000000000, 0.900000000000000, 1), 1],\n",
       " [(6.93889390390723e-17,\n",
       "   0.0500000000000000,\n",
       "   0.950000000000000,\n",
       "   1,\n",
       "   0.950000000000000,\n",
       "   1),\n",
       "  1],\n",
       " [(0.100000000000000, 0, 1, 1, 0.900000000000000, 1), 1],\n",
       " [(0.0500000000000001, 0, 1, 1, 0.900000000000000, 1), 1],\n",
       " [(0.0500000000000001, 0, 1, 1, 0.900000000000000, 1), 1],\n",
       " [(0.0500000000000001, 0, 1, 1, 0.900000000000000, 0.950000000000000, 1), 1],\n",
       " [(0.0500000000000001, 0, 1, 1, 0.900000000000000, 1), 1],\n",
       " [(0.100000000000000, 0, 1, 1, 0.900000000000000, 1), 1],\n",
       " [(0.100000000000000, 0, 1, 0.950000000000000, 0.950000000000000, 1), 1],\n",
       " [(0.100000000000000, 0.0500000000000000, 1, 1, 0.900000000000000, 1), 1],\n",
       " [(0.100000000000000, 0, 1, 0.950000000000000, 0.950000000000000, 1), 1],\n",
       " [(0.0500000000000001, 0.0500000000000000, 1, 1, 0.900000000000000, 1), 0],\n",
       " [(0.0500000000000001, 0, 1, 0.950000000000000, 0.900000000000000, 1), 0],\n",
       " [(0.0500000000000001, 0, 1, 1, 0.900000000000000, 1), 0],\n",
       " [(0.0500000000000001, 0, 1, 0.950000000000000, 0.900000000000000, 1), 0],\n",
       " [(0.150000000000000, 0, 1, 1, 0.900000000000000, 1), 0],\n",
       " [(0.0500000000000001, 0, 1, 1, 0.900000000000000, 0.950000000000000, 1), 0],\n",
       " [(0.0500000000000001, 0, 1, 1, 0.900000000000000, 0.950000000000000, 1), 0],\n",
       " [(0.100000000000000,\n",
       "   0,\n",
       "   1,\n",
       "   0.950000000000000,\n",
       "   0.950000000000000,\n",
       "   0.950000000000000,\n",
       "   1),\n",
       "  0],\n",
       " [(0.0500000000000001, 0.0500000000000000, 1, 1, 0.900000000000000, 1), 0],\n",
       " [(0.150000000000000, 0, 1, 1, 0.900000000000000, 1), 0],\n",
       " [(6.93889390390723e-17,\n",
       "   0.0500000000000000,\n",
       "   0.950000000000000,\n",
       "   1,\n",
       "   0.950000000000000,\n",
       "   1),\n",
       "  0],\n",
       " [(0.0500000000000001, 0, 1, 0.950000000000000, 0.900000000000000, 1), 0],\n",
       " [(0.150000000000000, 0, 1, 1, 0.900000000000000, 1), 0],\n",
       " [(0.100000000000000, 0, 1, 0.950000000000000, 0.950000000000000, 1), 0],\n",
       " [(0.0500000000000001, 0, 1, 1, 0.900000000000000, 0.950000000000000, 1), 0],\n",
       " [(0.0500000000000001, 0.0500000000000000, 1, 1, 0.900000000000000, 1), 0],\n",
       " [(0.0500000000000001, 0.0500000000000000, 1, 1, 0.900000000000000, 1), 0],\n",
       " [(0.0500000000000001, 0, 1, 1, 0.900000000000000, 1), 0],\n",
       " [(0.100000000000000, 0, 1, 0.950000000000000, 0.950000000000000, 1), 0],\n",
       " [(0.100000000000000, 0, 1, 1, 0.900000000000000, 1), 0],\n",
       " [(0.0500000000000001, 0.0500000000000000, 1, 1, 0.950000000000000, 1), 0],\n",
       " [(0.100000000000000, 0, 1, 1, 0.900000000000000, 1), 0],\n",
       " [(0.100000000000000, 0, 1, 0.950000000000000, 0.950000000000000, 1), 0],\n",
       " [(0.100000000000000, 0, 0.950000000000000, 1, 0.900000000000000, 1), 0],\n",
       " [(6.93889390390723e-17, 0, 0.950000000000000, 1, 0.950000000000000, 1), 0],\n",
       " [(0.0500000000000001, 0, 1, 0.950000000000000, 0.900000000000000, 1), 0],\n",
       " [(0.0500000000000001, 0, 1, 1, 0.900000000000000, 1), 0],\n",
       " [(0.0500000000000001, 0, 1, 0.950000000000000, 0.900000000000000, 1), 0],\n",
       " [(0.100000000000000, 0, 1, 1, 0.950000000000000, 1), 0],\n",
       " [(0.0500000000000001, 0, 1, 1, 0.900000000000000, 1), 0],\n",
       " [(0.0500000000000001, 0, 1, 1, 0.900000000000000, 1), 0],\n",
       " [(0.100000000000000, 0, 1, 1, 0.900000000000000, 1), 0],\n",
       " [(0.100000000000000, 0, 1, 1, 0.900000000000000, 1), 0],\n",
       " [(0.150000000000000, 0, 1, 1, 0.900000000000000, 1), 0]]"
      ]
     },
     "execution_count": 320,
     "metadata": {},
     "output_type": "execute_result"
    }
   ],
   "source": [
    "squirrels"
   ]
  },
  {
   "cell_type": "code",
   "execution_count": null,
   "metadata": {
    "collapsed": true
   },
   "outputs": [],
   "source": []
  }
 ],
 "metadata": {
  "kernelspec": {
   "display_name": "SageMath 7.5.1",
   "language": "",
   "name": "sagemath"
  },
  "language_info": {
   "codemirror_mode": {
    "name": "ipython",
    "version": 2
   },
   "file_extension": ".py",
   "mimetype": "text/x-python",
   "name": "python",
   "nbconvert_exporter": "python",
   "pygments_lexer": "ipython2",
   "version": "2.7.13"
  }
 },
 "nbformat": 4,
 "nbformat_minor": 0
}
