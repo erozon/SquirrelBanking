{
 "cells": [
  {
   "cell_type": "markdown",
   "metadata": {},
   "source": [
    "#### From Christoph's email (see writeup), it seems reasonable to propose a measure of fitness $f = \\left(\\int \\text{ LH}(a) da\\right)^{\\frac{1}{\\text{life expectancy}}}.$ It has lots of desireable properties."
   ]
  },
  {
   "cell_type": "markdown",
   "metadata": {},
   "source": [
    "#### Let's see how it holds up in practice!"
   ]
  },
  {
   "cell_type": "markdown",
   "metadata": {},
   "source": [
    "#### Using $P = [107.5, 0, 886]$ gives a distribution of nuts satisfying equal fitness between $\\hat \\beta = 0, 1$"
   ]
  },
  {
   "cell_type": "markdown",
   "metadata": {},
   "source": [
    "#### So does using $P = [230.49,1000,886]$."
   ]
  },
  {
   "cell_type": "code",
   "execution_count": 92,
   "metadata": {},
   "outputs": [
    {
     "name": "stdout",
     "output_type": "stream",
     "text": [
      "[0.108200000000000, 0.000000000000000, 0.891800000000000]\n"
     ]
    }
   ],
   "source": [
    "P = [107.5,0,886]\n",
    "Q = [230.49,1000,886]\n",
    "X = GeneralDiscreteDistribution(P)\n",
    "Y = GeneralDiscreteDistribution(Q)\n",
    "counts = [0]*len(P)\n",
    "for _ in range(10000):\n",
    "    counts[X.get_random_element()] += 1\n",
    "print( [x/10000.n() for x in counts])"
   ]
  },
  {
   "cell_type": "markdown",
   "metadata": {},
   "source": [
    "#### Run the life of a single squirrel, with nut finding distribution $\\nu \\sim Z$"
   ]
  },
  {
   "cell_type": "code",
   "execution_count": 40,
   "metadata": {},
   "outputs": [],
   "source": [
    "def pregnancy_simulation(Z, offspring_threshold, n = 1000, verbose = False, life_history = False, all_details = False):\n",
    "    nut_findings = [Z.get_random_element() for _ in range(n)]\n",
    "    offspring_days = [0]*n\n",
    "    nuts_in_storage = 0\n",
    "    offspring_count = 0\n",
    "    pregnant = False\n",
    "    for k in range(n):\n",
    "        nut_finding = nut_findings[k]\n",
    "        nuts_in_storage += nut_finding - 1\n",
    "        if nuts_in_storage < 0:\n",
    "            break\n",
    "        if pregnant:\n",
    "            offspring_count += 1\n",
    "            offspring_days[k] = 1\n",
    "            pregnant = False\n",
    "        if not pregnant and nuts_in_storage > offspring_threshold:\n",
    "            pregnant = True\n",
    "            nuts_in_storage += -1\n",
    "    to_be_returned = None\n",
    "    msg = 'Lived until {} - produced {} offspring'.format(k+1, offspring_count)\n",
    "    bare_facts = (k+1, offspring_count)\n",
    "    life_hist = offspring_days\n",
    "    if verbose:\n",
    "        return(msg)\n",
    "    if life_history:\n",
    "        return(life_hist)\n",
    "    if all_details:\n",
    "        return([bare_facts, life_hist])\n",
    "    else:\n",
    "        return(bare_facts)"
   ]
  },
  {
   "cell_type": "code",
   "execution_count": 47,
   "metadata": {},
   "outputs": [
    {
     "data": {
      "text/plain": [
       "(81, 64)"
      ]
     },
     "execution_count": 47,
     "metadata": {},
     "output_type": "execute_result"
    }
   ],
   "source": [
    "pregnancy_simulation(X, 1)"
   ]
  },
  {
   "cell_type": "markdown",
   "metadata": {},
   "source": [
    "#### I need to know the life expectancy and the expected number of offspring produced."
   ]
  },
  {
   "cell_type": "code",
   "execution_count": 48,
   "metadata": {},
   "outputs": [],
   "source": [
    "def get_life_histories(Z, offspring_threshold, num_simulations = 1000):\n",
    "    life_histories = []\n",
    "    for i in range(num_simulations):\n",
    "        life_histories.append(pregnancy_simulation(Z, offspring_threshold, life_history=True))\n",
    "    return(life_histories)\n",
    "\n",
    "def truncate_at_zeroes(some_list, num_zeroes = 5):\n",
    "    support = [i for i, e in enumerate(some_list) if e != 0]\n",
    "    truncation_point = max(support) + num_zeroes + 1\n",
    "    truncated_list = deepcopy(some_list[:truncation_point])\n",
    "    return(truncated_list)\n",
    "\n",
    "\n",
    "\n",
    "def get_avg_num_offspring(life_histories):\n",
    "    avg_num_offspring = [mean([lh[k] for lh in life_histories]).n() for k in range(len(life_histories[0]))]\n",
    "    avg_num_offspring = truncate_at_zeroes(avg_num_offspring)\n",
    "#    avg_num_offspring = [ (i, avg_num_offspring[i]) for i in range(len(avg_num_offspring))]\n",
    "    return(avg_num_offspring)\n",
    "\n",
    "def get_avg_life_history(Z, offspring_threshold, num_simulations = 1000):\n",
    "    lh = get_life_histories(Z, offspring_threshold, num_simulations)\n",
    "    aggregate_life_history = get_avg_num_offspring(lh)\n",
    "    return(aggregate_life_history)"
   ]
  },
  {
   "cell_type": "markdown",
   "metadata": {},
   "source": [
    "#### Sanity check: will summing the average life history give the average number of offspring produced? It should!!"
   ]
  },
  {
   "cell_type": "code",
   "execution_count": 64,
   "metadata": {},
   "outputs": [
    {
     "data": {
      "text/plain": [
       "7.32828999999999"
      ]
     },
     "execution_count": 64,
     "metadata": {},
     "output_type": "execute_result"
    }
   ],
   "source": [
    "sum(get_avg_life_history(X, 0, 100000))"
   ]
  },
  {
   "cell_type": "code",
   "execution_count": 65,
   "metadata": {},
   "outputs": [],
   "source": [
    "num_offspring = []\n",
    "for k in range(100000):\n",
    "    n = pregnancy_simulation(X, 0)[1]\n",
    "    num_offspring.append(n)"
   ]
  },
  {
   "cell_type": "code",
   "execution_count": 66,
   "metadata": {},
   "outputs": [
    {
     "data": {
      "text/plain": [
       "7.33685000000000"
      ]
     },
     "execution_count": 66,
     "metadata": {},
     "output_type": "execute_result"
    }
   ],
   "source": [
    "mean(num_offspring).n()"
   ]
  },
  {
   "cell_type": "markdown",
   "metadata": {},
   "source": [
    "#### Good!! They are very close. Close enough that I am content to call this sanity check a success."
   ]
  },
  {
   "cell_type": "markdown",
   "metadata": {},
   "source": [
    "#### Now we are in a place to test whether squirrels with $\\lambda_{\\hat \\beta = 0}\\approx\\lambda_{\\hat \\beta = 1}$ (Lyapunov exponents) have $f_{\\hat \\beta = 0}\\approx f_{\\hat \\beta = 1}$ (our new measure of fitness)."
   ]
  },
  {
   "cell_type": "code",
   "execution_count": 91,
   "metadata": {},
   "outputs": [
    {
     "data": {
      "text/plain": [
       "83.8830000000000"
      ]
     },
     "execution_count": 91,
     "metadata": {},
     "output_type": "execute_result"
    }
   ],
   "source": [
    "get_life_expectancy(X, 1).n()"
   ]
  },
  {
   "cell_type": "code",
   "execution_count": 67,
   "metadata": {},
   "outputs": [],
   "source": [
    "def get_life_expectancy(Z, offspring_threshold, num_simulations = 1000):\n",
    "    death_day = []\n",
    "    for _ in range(num_simulations):\n",
    "        dd = pregnancy_simulation(Z, offspring_threshold)[0]\n",
    "        death_day.append(dd)\n",
    "    life_expectancy = mean(death_day)\n",
    "    return(life_expectancy)"
   ]
  },
  {
   "cell_type": "code",
   "execution_count": 68,
   "metadata": {},
   "outputs": [],
   "source": [
    "def approx_f(Z, offspring_threshold, num_simulations = 1000):\n",
    "    RR = sum(get_avg_life_history(Z, offspring_threshold, num_simulations))\n",
    "    LE = get_life_expectancy(Z, offspring_threshold, num_simulations)\n",
    "    f = RR^(1/LE)\n",
    "    return(f)"
   ]
  },
  {
   "cell_type": "code",
   "execution_count": 96,
   "metadata": {},
   "outputs": [
    {
     "data": {
      "text/plain": [
       "1.23975777019737"
      ]
     },
     "execution_count": 96,
     "metadata": {},
     "output_type": "execute_result"
    }
   ],
   "source": [
    "approx_f(X, 0)"
   ]
  },
  {
   "cell_type": "code",
   "execution_count": 73,
   "metadata": {},
   "outputs": [
    {
     "data": {
      "text/plain": [
       "1.04978344554254"
      ]
     },
     "execution_count": 73,
     "metadata": {},
     "output_type": "execute_result"
    }
   ],
   "source": [
    "approx_f(X, 1)"
   ]
  },
  {
   "cell_type": "code",
   "execution_count": 104,
   "metadata": {},
   "outputs": [
    {
     "data": {
      "text/plain": [
       "1.14402217131038"
      ]
     },
     "execution_count": 104,
     "metadata": {},
     "output_type": "execute_result"
    }
   ],
   "source": [
    "approx_f(Y, 0, num_simulations = 10000)"
   ]
  },
  {
   "cell_type": "code",
   "execution_count": 94,
   "metadata": {},
   "outputs": [
    {
     "data": {
      "text/plain": [
       "1.06325668672365"
      ]
     },
     "execution_count": 94,
     "metadata": {},
     "output_type": "execute_result"
    }
   ],
   "source": [
    "approx_f(Y, 1)"
   ]
  },
  {
   "cell_type": "code",
   "execution_count": null,
   "metadata": {},
   "outputs": [],
   "source": []
  }
 ],
 "metadata": {
  "kernelspec": {
   "display_name": "SageMath 9.1",
   "language": "sage",
   "name": "sagemath"
  },
  "language_info": {
   "codemirror_mode": {
    "name": "ipython",
    "version": 3
   },
   "file_extension": ".py",
   "mimetype": "text/x-python",
   "name": "python",
   "nbconvert_exporter": "python",
   "pygments_lexer": "ipython3",
   "version": "3.7.3"
  }
 },
 "nbformat": 4,
 "nbformat_minor": 2
}
