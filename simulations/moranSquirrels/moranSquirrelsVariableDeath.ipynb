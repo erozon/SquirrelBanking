{
 "cells": [
  {
   "cell_type": "markdown",
   "metadata": {},
   "source": [
    "#### Here is the code for atomized moran squirrels. Essentially, think of it as follows: we have an infinitely large population of size normalized to 1. There are two types of individuals: $A$ and $B_T$, where type A has constant fitness equal to 1, and $B_T$ has fitness $\\beta >1$ if its age is $\\ge T$ and 0 otherwise. Every day, some fraction of the population is chosen to reproduce, with probability proportional to fitness.  Then, we uniformly select those to replace. This process iterates. "
   ]
  },
  {
   "cell_type": "markdown",
   "metadata": {},
   "source": [
    "#### This looks a lot like the atomizedMoranSquirrels, and the main difference is that now, survival probability is not uniform. Instead, $A$ types will have susceptibility parameter $1$, while $B_T$ types have susceptiblility parameter $u < 1$. In principle, $u\\ge 1$ would be fine, but I want to help out the $B$ squirrels a little more. "
   ]
  },
  {
   "cell_type": "code",
   "execution_count": 1,
   "metadata": {},
   "outputs": [],
   "source": [
    "from tqdm.notebook import tqdm\n",
    "import matplotlib.pyplot as plt"
   ]
  },
  {
   "cell_type": "code",
   "execution_count": 291,
   "metadata": {},
   "outputs": [],
   "source": [
    "def prob_A_type_dies(current_pop, u):\n",
    "    n_A = current_pop[0]\n",
    "    n_B = sum(current_pop) - n_A\n",
    "    p = n_A/(n_A + u*n_B)\n",
    "    \n",
    "    return p\n",
    "\n",
    "\n",
    "\n",
    "def survival_matrix(current_pop, u):\n",
    "    surv_mat = zero_matrix(QQ, N)\n",
    "    for i in range(N):\n",
    "        surv_mat[i,i] = s\n",
    "        \n",
    "    return surv_mat\n",
    "\n",
    "\n",
    "def age_up_matrix(N):\n",
    "    age_up_mat = zero_matrix(QQ, N)\n",
    "    \n",
    "    age_up_mat[0, 0] = 1\n",
    "    \n",
    "    for i in range(1, N - 1):\n",
    "        age_up_mat[i+1, i] = 1\n",
    "    \n",
    "    age_up_mat[-1, -1] = 1\n",
    "    \n",
    "    return age_up_mat"
   ]
  },
  {
   "cell_type": "code",
   "execution_count": 306,
   "metadata": {},
   "outputs": [],
   "source": [
    "def num_fertile_A(current_pop):\n",
    "    return current_pop[0]\n",
    "\n",
    "def num_fertile_B(current_pop):\n",
    "    return current_pop[-1]\n",
    "\n",
    "def A_reproduction_probability(current_pop, beta):\n",
    "    return num_fertile_A(current_pop)/(num_fertile_A(current_pop) + beta*num_fertile_B(current_pop))\n",
    "\n",
    "def kill_someone(current_pop, surv_mat):\n",
    "    return surv_mat*current_pop\n",
    "\n",
    "def birth_someone_and_age_up(current_pop, A_rep_prob, surv_mat, age_up_mat, s):\n",
    "    num_to_generate = (1 - s)*sum(current_pop)\n",
    "    \n",
    "    current_pop = kill_someone(current_pop, surv_mat)\n",
    "    \n",
    "    current_pop = age_up_mat*current_pop\n",
    "    current_pop[0] += A_rep_prob*num_to_generate\n",
    "    current_pop[1] += (1 - A_rep_prob)*num_to_generate\n",
    "    \n",
    "    return current_pop\n"
   ]
  },
  {
   "cell_type": "code",
   "execution_count": 307,
   "metadata": {},
   "outputs": [],
   "source": [
    "def expected_day_of_squirrels(current_pop, beta, s, surv_mat = None, age_up_mat = None):\n",
    "    \n",
    "    N = len(current_pop)\n",
    "    if surv_mat == None:\n",
    "        surv_mat = survival_matrix(N, s)\n",
    "    if age_up_mat == None:\n",
    "        age_up_mat = age_up_matrix(N)\n",
    "    \n",
    "    p = A_reproduction_probability(current_pop, beta)\n",
    "#    current_pop = kill_someone(current_pop, surv_mat)\n",
    "    current_pop = birth_someone_and_age_up(current_pop, p, surv_mat, age_up_mat, s)\n",
    "    \n",
    "    return current_pop.n()"
   ]
  },
  {
   "cell_type": "code",
   "execution_count": 553,
   "metadata": {},
   "outputs": [
    {
     "data": {
      "application/vnd.jupyter.widget-view+json": {
       "model_id": "694c052f2788460696edb0874b1cf7a4",
       "version_major": 2,
       "version_minor": 0
      },
      "text/plain": [
       "  0%|          | 0/2000 [00:00<?, ?it/s]"
      ]
     },
     "metadata": {},
     "output_type": "display_data"
    },
    {
     "data": {
      "text/plain": [
       "(1.44558339999403, 0.184805533335321, 0.123203688890214, 0.246407377780427)"
      ]
     },
     "execution_count": 553,
     "metadata": {},
     "output_type": "execute_result"
    }
   ],
   "source": [
    "current_pop = vector((1, 1, 0, 0))\n",
    "for i in tqdm(range(2000)):\n",
    "    current_pop = expected_day_of_squirrels(current_pop, 9/4, 2/3)\n",
    "current_pop"
   ]
  },
  {
   "cell_type": "code",
   "execution_count": 557,
   "metadata": {},
   "outputs": [
    {
     "data": {
      "text/plain": [
       "0.722791699997019"
      ]
     },
     "execution_count": 557,
     "metadata": {},
     "output_type": "execute_result"
    }
   ],
   "source": [
    "A_reproduction_probability(current_pop, 9/4)"
   ]
  },
  {
   "cell_type": "code",
   "execution_count": 559,
   "metadata": {},
   "outputs": [
    {
     "data": {
      "text/plain": [
       "1.99999999999999"
      ]
     },
     "execution_count": 559,
     "metadata": {},
     "output_type": "execute_result"
    }
   ],
   "source": [
    "current_pop[-1]*9/4 + current_pop[0]"
   ]
  },
  {
   "cell_type": "markdown",
   "metadata": {},
   "source": [
    "#### Look at this: the B type contingent of the population has stable age distribution $(b, bs, bs^2, , \\ldots, bs^{T-1}, \\sum\\limits_{t = T}^\\infty bs^t)$, where $b = 1-s$. "
   ]
  },
  {
   "cell_type": "code",
   "execution_count": 555,
   "metadata": {},
   "outputs": [
    {
     "data": {
      "text/plain": [
       "0.333333333333333"
      ]
     },
     "execution_count": 555,
     "metadata": {},
     "output_type": "execute_result"
    }
   ],
   "source": [
    "current_pop[1]/sum(current_pop[1:]) #notice this equals 1 - s. "
   ]
  },
  {
   "cell_type": "code",
   "execution_count": 520,
   "metadata": {},
   "outputs": [
    {
     "data": {
      "text/plain": [
       "0.883510438581125"
      ]
     },
     "execution_count": 520,
     "metadata": {},
     "output_type": "execute_result"
    }
   ],
   "source": [
    "sum([((2/3)^t)*current_pop[1] for t in range(2, 200)])"
   ]
  },
  {
   "cell_type": "code",
   "execution_count": 415,
   "metadata": {},
   "outputs": [
    {
     "data": {
      "text/plain": [
       "(1.60714285714286, 0.142857142857143, 0.250000000000000)"
      ]
     },
     "execution_count": 415,
     "metadata": {},
     "output_type": "execute_result"
    }
   ],
   "source": [
    "current_pop = expected_day_of_squirrels(current_pop, 1, 1/2)\n",
    "current_pop"
   ]
  },
  {
   "cell_type": "code",
   "execution_count": 461,
   "metadata": {},
   "outputs": [],
   "source": [
    "def asymptotic_proportion_of_type_A(T, beta, s):\n",
    "    \n",
    "    #initialize data -- start with equal num of A types and B types. \n",
    "    N = T + 2\n",
    "    current_pop = zero_vector(QQ, N)\n",
    "    current_pop[0] = 1/2\n",
    "    current_pop[1] = 1/2\n",
    "    \n",
    "    #build necessary survival and ageing matrices\n",
    "    surv_mat = survival_matrix(N, s)\n",
    "    age_up_mat = age_up_matrix(N)\n",
    "    \n",
    "    \n",
    "    counter = 0\n",
    "    while (current_pop[0] > 10^(-2) and current_pop[0] < 1 - 10^(-2)):\n",
    "        counter += 1\n",
    "        stability_check = current_pop[0]\n",
    "        current_pop = expected_day_of_squirrels(current_pop, beta, s, surv_mat, age_up_mat)\n",
    "        if stability_check == current_pop[0] and counter > 100:\n",
    "            return current_pop[0]\n",
    "            break\n",
    "    if current_pop[0] < 10^(-2):\n",
    "        return 0\n",
    "    if current_pop[0] > 1 - 10^(-2):\n",
    "        return 1"
   ]
  },
  {
   "cell_type": "code",
   "execution_count": 443,
   "metadata": {},
   "outputs": [],
   "source": [
    "def get_function_for_root_finding(T, s):\n",
    "    def f(beta):\n",
    "        if asymptotic_proportion_of_type_A(T, beta, s) == 0:\n",
    "            return -1\n",
    "        elif asymptotic_proportion_of_type_A(T, beta, s) == 1:\n",
    "            return 1\n",
    "        else:\n",
    "            return 0\n",
    "        \n",
    "    return f"
   ]
  },
  {
   "cell_type": "code",
   "execution_count": 451,
   "metadata": {},
   "outputs": [],
   "source": [
    "def find_beta_with_mixed_eq(T, s):\n",
    "    f = get_function_for_root_finding(T, s)\n",
    "    beta_tilde = bisection(f, 1, 1100)\n",
    "    return beta_tilde.n()"
   ]
  },
  {
   "cell_type": "code",
   "execution_count": 457,
   "metadata": {},
   "outputs": [
    {
     "data": {
      "text/plain": [
       "[<matplotlib.lines.Line2D object at 0x7f03a7f2acd0>]"
      ]
     },
     "execution_count": 457,
     "metadata": {},
     "output_type": "execute_result"
    },
    {
     "data": {
      "image/png": "[encoded data removed]",
      "text/plain": [
       "<Figure size 432x288 with 1 Axes>"
      ]
     },
     "metadata": {
      "needs_background": "light"
     },
     "output_type": "display_data"
    }
   ],
   "source": [
    "plt.plot(appreciation_vec)"
   ]
  },
  {
   "cell_type": "code",
   "execution_count": 470,
   "metadata": {},
   "outputs": [
    {
     "data": {
      "text/plain": [
       "1"
      ]
     },
     "execution_count": 470,
     "metadata": {},
     "output_type": "execute_result"
    }
   ],
   "source": [
    "asymptotic_proportion_of_type_A(3, 1600, 1/4)"
   ]
  },
  {
   "cell_type": "code",
   "execution_count": 460,
   "metadata": {},
   "outputs": [
    {
     "name": "stdout",
     "output_type": "stream",
     "text": [
      "3.68310546875000\n",
      "15.4887695312500\n",
      "Bisection method fails.\n"
     ]
    },
    {
     "ename": "AttributeError",
     "evalue": "'NoneType' object has no attribute 'n'",
     "output_type": "error",
     "traceback": [
      "\u001b[1;31m---------------------------------------------------------------------------\u001b[0m",
      "\u001b[1;31mAttributeError\u001b[0m                            Traceback (most recent call last)",
      "\u001b[1;32m<ipython-input-460-dda4057e0498>\u001b[0m in \u001b[0;36m<module>\u001b[1;34m\u001b[0m\n\u001b[0;32m      1\u001b[0m \u001b[0mappreciation_vec\u001b[0m \u001b[1;33m=\u001b[0m \u001b[1;33m[\u001b[0m\u001b[0mInteger\u001b[0m\u001b[1;33m(\u001b[0m\u001b[1;36m1\u001b[0m\u001b[1;33m)\u001b[0m\u001b[1;33m]\u001b[0m\u001b[1;33m\u001b[0m\u001b[1;33m\u001b[0m\u001b[0m\n\u001b[0;32m      2\u001b[0m \u001b[1;32mfor\u001b[0m \u001b[0mt\u001b[0m \u001b[1;32min\u001b[0m \u001b[0mrange\u001b[0m\u001b[1;33m(\u001b[0m\u001b[0mInteger\u001b[0m\u001b[1;33m(\u001b[0m\u001b[1;36m1\u001b[0m\u001b[1;33m)\u001b[0m\u001b[1;33m,\u001b[0m \u001b[0mInteger\u001b[0m\u001b[1;33m(\u001b[0m\u001b[1;36m10\u001b[0m\u001b[1;33m)\u001b[0m\u001b[1;33m)\u001b[0m\u001b[1;33m:\u001b[0m\u001b[1;33m\u001b[0m\u001b[1;33m\u001b[0m\u001b[0m\n\u001b[1;32m----> 3\u001b[1;33m     \u001b[0mbeta_tilde\u001b[0m \u001b[1;33m=\u001b[0m \u001b[0mfind_beta_with_mixed_eq\u001b[0m\u001b[1;33m(\u001b[0m\u001b[0mt\u001b[0m\u001b[1;33m,\u001b[0m \u001b[0mInteger\u001b[0m\u001b[1;33m(\u001b[0m\u001b[1;36m1\u001b[0m\u001b[1;33m)\u001b[0m\u001b[1;33m/\u001b[0m\u001b[0mInteger\u001b[0m\u001b[1;33m(\u001b[0m\u001b[1;36m4\u001b[0m\u001b[1;33m)\u001b[0m\u001b[1;33m)\u001b[0m\u001b[1;33m\u001b[0m\u001b[1;33m\u001b[0m\u001b[0m\n\u001b[0m\u001b[0;32m      4\u001b[0m     \u001b[0mappreciation_vec\u001b[0m\u001b[1;33m.\u001b[0m\u001b[0mappend\u001b[0m\u001b[1;33m(\u001b[0m\u001b[0mbeta_tilde\u001b[0m\u001b[1;33m)\u001b[0m\u001b[1;33m\u001b[0m\u001b[1;33m\u001b[0m\u001b[0m\n\u001b[0;32m      5\u001b[0m     \u001b[0mprint\u001b[0m\u001b[1;33m(\u001b[0m\u001b[0mbeta_tilde\u001b[0m\u001b[1;33m)\u001b[0m\u001b[1;33m\u001b[0m\u001b[1;33m\u001b[0m\u001b[0m\n",
      "\u001b[1;32m<ipython-input-451-a31767cce8d2>\u001b[0m in \u001b[0;36mfind_beta_with_mixed_eq\u001b[1;34m(T, s)\u001b[0m\n\u001b[0;32m      2\u001b[0m     \u001b[0mf\u001b[0m \u001b[1;33m=\u001b[0m \u001b[0mget_function_for_root_finding\u001b[0m\u001b[1;33m(\u001b[0m\u001b[0mT\u001b[0m\u001b[1;33m,\u001b[0m \u001b[0ms\u001b[0m\u001b[1;33m)\u001b[0m\u001b[1;33m\u001b[0m\u001b[1;33m\u001b[0m\u001b[0m\n\u001b[0;32m      3\u001b[0m     \u001b[0mbeta_tilde\u001b[0m \u001b[1;33m=\u001b[0m \u001b[0mbisection\u001b[0m\u001b[1;33m(\u001b[0m\u001b[0mf\u001b[0m\u001b[1;33m,\u001b[0m \u001b[0mInteger\u001b[0m\u001b[1;33m(\u001b[0m\u001b[1;36m1\u001b[0m\u001b[1;33m)\u001b[0m\u001b[1;33m,\u001b[0m \u001b[0mInteger\u001b[0m\u001b[1;33m(\u001b[0m\u001b[1;36m1100\u001b[0m\u001b[1;33m)\u001b[0m\u001b[1;33m)\u001b[0m\u001b[1;33m\u001b[0m\u001b[1;33m\u001b[0m\u001b[0m\n\u001b[1;32m----> 4\u001b[1;33m     \u001b[1;32mreturn\u001b[0m \u001b[0mbeta_tilde\u001b[0m\u001b[1;33m.\u001b[0m\u001b[0mn\u001b[0m\u001b[1;33m(\u001b[0m\u001b[1;33m)\u001b[0m\u001b[1;33m\u001b[0m\u001b[1;33m\u001b[0m\u001b[0m\n\u001b[0m",
      "\u001b[1;31mAttributeError\u001b[0m: 'NoneType' object has no attribute 'n'"
     ]
    }
   ],
   "source": [
    "appreciation_vec = [1]\n",
    "for t in range(1, 10):\n",
    "    beta_tilde = find_beta_with_mixed_eq(t, 1/4)\n",
    "    appreciation_vec.append(beta_tilde)\n",
    "    print(beta_tilde)\n",
    "    "
   ]
  },
  {
   "cell_type": "code",
   "execution_count": null,
   "metadata": {},
   "outputs": [],
   "source": []
  },
  {
   "cell_type": "code",
   "execution_count": 453,
   "metadata": {},
   "outputs": [],
   "source": [
    "def bisection(f,a,b,N = 10):\n",
    "    '''Approximate solution of f(x)=0 on interval [a,b] by bisection method.\n",
    "\n",
    "    Parameters\n",
    "    ----------\n",
    "    f : function\n",
    "        The function for which we are trying to approximate a solution f(x)=0.\n",
    "    a,b : numbers\n",
    "        The interval in which to search for a solution. The function returns\n",
    "        None if f(a)*f(b) >= 0 since a solution is not guaranteed.\n",
    "    N : (positive) integer\n",
    "        The number of iterations to implement.\n",
    "\n",
    "    Returns\n",
    "    -------\n",
    "    x_N : number\n",
    "        The midpoint of the Nth interval computed by the bisection method. The\n",
    "        initial interval [a_0,b_0] is given by [a,b]. If f(m_n) == 0 for some\n",
    "        midpoint m_n = (a_n + b_n)/2, then the function returns this solution.\n",
    "        If all signs of values f(a_n), f(b_n) and f(m_n) are the same at any\n",
    "        iteration, the bisection method fails and return None.\n",
    "\n",
    "    Examples\n",
    "    --------\n",
    "    >>> f = lambda x: x**2 - x - 1\n",
    "    >>> bisection(f,1,2,25)\n",
    "    1.618033990263939\n",
    "    >>> f = lambda x: (2*x - 1)*(x - 3)\n",
    "    >>> bisection(f,0,1,10)\n",
    "    0.5\n",
    "    '''\n",
    "    if f(a)*f(b) > 0:\n",
    "        print(\"Bisection method fails.\")\n",
    "        return None\n",
    "    if f(a)*f(b) == 0:\n",
    "        if f(a) == 0:\n",
    "            print('Found exact solution')\n",
    "            return a\n",
    "        if f(b) == 0:\n",
    "            print('Found exact solution')\n",
    "            return b\n",
    "    a_n = a\n",
    "    b_n = b\n",
    "    for n in range(1,N+1):\n",
    "#        print('starting round {}'.format(n))\n",
    "        m_n = (a_n + b_n)/2\n",
    "        f_m_n = f(m_n)\n",
    "        if f(a_n)*f_m_n < 0:\n",
    "            a_n = a_n\n",
    "            b_n = m_n\n",
    "        elif f(b_n)*f_m_n < 0:\n",
    "            a_n = m_n\n",
    "            b_n = b_n\n",
    "        elif f_m_n == 0:\n",
    "            print(\"Found exact solution.\")\n",
    "            return m_n\n",
    "        else:\n",
    "            print(\"Bisection method fails.\")\n",
    "            return None\n",
    "    return (a_n + b_n)/2"
   ]
  },
  {
   "cell_type": "code",
   "execution_count": null,
   "metadata": {},
   "outputs": [],
   "source": []
  }
 ],
 "metadata": {
  "kernelspec": {
   "display_name": "SageMath 9.2",
   "language": "sage",
   "name": "sagemath"
  },
  "language_info": {
   "codemirror_mode": {
    "name": "ipython",
    "version": 3
   },
   "file_extension": ".py",
   "mimetype": "text/x-python",
   "name": "python",
   "nbconvert_exporter": "python",
   "pygments_lexer": "ipython3",
   "version": "3.9.1"
  }
 },
 "nbformat": 4,
 "nbformat_minor": 4
}
