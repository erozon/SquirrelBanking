{
 "cells": [
  {
   "cell_type": "markdown",
   "metadata": {},
   "source": [
    "#### The idea is that we are generalizing Moran processes to allow for squirrels which have fitness that varies in time."
   ]
  },
  {
   "cell_type": "markdown",
   "metadata": {},
   "source": [
    "#### We'll compare the fixation probability of SS-squirrels with LL-squirrels. "
   ]
  },
  {
   "cell_type": "markdown",
   "metadata": {},
   "source": [
    "#### SS-squirrels (type A) have a low but constant fitness. I'll likely normalize this to 1, but let's see..."
   ]
  },
  {
   "cell_type": "markdown",
   "metadata": {},
   "source": [
    "#### LL-squirrels (type B) have 0 fitness for a while and then it jumps up above the fitness of type A."
   ]
  },
  {
   "cell_type": "markdown",
   "metadata": {},
   "source": [
    "#### Everything needed to build squirrels and get their properties..."
   ]
  },
  {
   "cell_type": "code",
   "execution_count": 241,
   "metadata": {},
   "outputs": [],
   "source": [
    "from tqdm.notebook import tqdm"
   ]
  },
  {
   "cell_type": "code",
   "execution_count": 324,
   "metadata": {},
   "outputs": [],
   "source": [
    "def squirrel_builder(t, age = 0):\n",
    "    return {'type':str(t), 'age':age}\n",
    "\n",
    "def get_fitness(squirrel, age_cutoff = 0):\n",
    "    t = squirrel['type']\n",
    "    age = squirrel['age']\n",
    "    if age < age_cutoff:\n",
    "        f = pre_cutoff_fitness_dict[t]\n",
    "    else:\n",
    "        f = post_cutoff_fitness_dict[t]\n",
    "    return f"
   ]
  },
  {
   "cell_type": "markdown",
   "metadata": {},
   "source": [
    "#### Everything needed for a single birth-death process to occur..."
   ]
  },
  {
   "cell_type": "code",
   "execution_count": 325,
   "metadata": {},
   "outputs": [],
   "source": [
    "def pick_squirrel_to_give_birth(squirrels, age_cutoff = 0):\n",
    "    fitnesses = [ get_fitness(squirrel, age_cutoff) for squirrel in squirrels ]\n",
    "    if fitnesses == [0]*len(squirrels):\n",
    "        fitnesses = [1]*len(squirrels)\n",
    "    birth_rv = GeneralDiscreteDistribution(fitnesses)\n",
    "    birth_squirrel = birth_rv.get_random_element()\n",
    "    return birth_squirrel\n",
    "\n",
    "def pick_squirrel_to_die(squirrels):\n",
    "    N = len(squirrels)\n",
    "    unif_random = GeneralDiscreteDistribution([1/N for _ in range(N)])\n",
    "    death_squirrel = unif_random.get_random_element()\n",
    "    return death_squirrel\n",
    "\n",
    "def birth_death_process(squirrels, birth_squirrel, death_squirrel):\n",
    "    new_squirrel = deepcopy(squirrels[birth_squirrel])\n",
    "    new_squirrel['age'] = -1\n",
    "    squirrels[death_squirrel] = new_squirrel\n",
    "    \n",
    "def increment_ages(squirrels):\n",
    "    for squirrel in squirrels:\n",
    "        squirrel['age'] += 1\n",
    "    \n",
    "def day_of_squirrels(squirrels, age_cutoff = 0):\n",
    "    birth_squirrel = pick_squirrel_to_give_birth(squirrels, age_cutoff)\n",
    "    death_squirrel = pick_squirrel_to_die(squirrels)\n",
    "    birth_death_process(squirrels, birth_squirrel, death_squirrel)\n",
    "    increment_ages(squirrels)\n",
    "    \n",
    "def many_days_of_squirrels(num_days, squirrels, age_cutoff = 0):\n",
    "    for t in range(num_days):\n",
    "        day_of_squirrels(squirrels, age_cutoff)\n",
    "    return squirrels\n",
    "    "
   ]
  },
  {
   "cell_type": "code",
   "execution_count": 326,
   "metadata": {},
   "outputs": [],
   "source": [
    "def of_homogeneous_type(squirrels):\n",
    "    types = [squirrel['type'] for squirrel in squirrels]\n",
    "    types = list(set(types))\n",
    "    num_types = len(types)\n",
    "    if num_types == 1:\n",
    "        return True\n",
    "    else:\n",
    "        return False\n",
    "    \n",
    "def get_homogeneous_type(squirrels):\n",
    "    if not of_homogeneous_type(squirrels):\n",
    "        return 'you have a problem'\n",
    "    else:\n",
    "        return squirrels[0]['type']"
   ]
  },
  {
   "cell_type": "code",
   "execution_count": 327,
   "metadata": {},
   "outputs": [],
   "source": [
    "def fixation_process(res_type, mut_type, N, age_cutoff = 0):\n",
    "    #allow resident squirrels to run for a while\n",
    "    res_squirrels = [squirrel_builder(res_type)]*N\n",
    "    many_days_of_squirrels(1000, res_squirrels, age_cutoff)\n",
    "    \n",
    "    #introduce a mutant\n",
    "    increment_ages(res_squirrels)\n",
    "    squirrels = deepcopy(res_squirrels)\n",
    "    squirrels[0] = squirrel_builder(mut_type)\n",
    "    \n",
    "    #let it run until either fixation or extinction\n",
    "    while not of_homogeneous_type(squirrels):\n",
    "        day_of_squirrels(squirrels, age_cutoff)\n",
    "        \n",
    "    #get type of winner\n",
    "    t = get_homogeneous_type(squirrels)\n",
    "    return t"
   ]
  },
  {
   "cell_type": "code",
   "execution_count": 328,
   "metadata": {},
   "outputs": [],
   "source": [
    "def fixation_probability(res_type, mut_type, N, age_cutoff = 0, num_runs = 1000):\n",
    "    winner_dict = {res_type:0, mut_type:0}\n",
    "    print('Computing fixation probability of a single {} type in a population of {} types'.format(mut_type, res_type))\n",
    "    for _ in tqdm(range(num_runs)):\n",
    "        winner = fixation_process(res_type, mut_type, N, age_cutoff)\n",
    "        winner_dict[winner] += 1\n",
    "    prob = winner_dict[mut_type]/num_runs.n()\n",
    "    print('rho_{} = {}'.format(mut_type, prob))\n",
    "    return prob"
   ]
  },
  {
   "cell_type": "code",
   "execution_count": 323,
   "metadata": {},
   "outputs": [
    {
     "name": "stdout",
     "output_type": "stream",
     "text": [
      "Computing fixation probability of a single A type in a population of B types\n"
     ]
    },
    {
     "data": {
      "application/vnd.jupyter.widget-view+json": {
       "model_id": "b486bebfad3644f5bdacf93b11392ff4",
       "version_major": 2,
       "version_minor": 0
      },
      "text/plain": [
       "  0%|          | 0/100 [00:00<?, ?it/s]"
      ]
     },
     "metadata": {},
     "output_type": "display_data"
    },
    {
     "name": "stdout",
     "output_type": "stream",
     "text": [
      "rho_A = 0.330000000000000\n",
      "Computing fixation probability of a single B type in a population of A types\n"
     ]
    },
    {
     "data": {
      "application/vnd.jupyter.widget-view+json": {
       "model_id": "48238164cce846a4916d9a2b8c203649",
       "version_major": 2,
       "version_minor": 0
      },
      "text/plain": [
       "  0%|          | 0/100 [00:00<?, ?it/s]"
      ]
     },
     "metadata": {},
     "output_type": "display_data"
    },
    {
     "name": "stdout",
     "output_type": "stream",
     "text": [
      "rho_B = 0.0800000000000000\n"
     ]
    },
    {
     "data": {
      "text/plain": [
       "0.0800000000000000"
      ]
     },
     "execution_count": 323,
     "metadata": {},
     "output_type": "execute_result"
    }
   ],
   "source": [
    "pre_cutoff_fitness_dict = {'A':1, 'B':0}\n",
    "post_cutoff_fitness_dict = {'A':1, 'B':1}\n",
    "fixation_probability('B', 'A', 5, 2, 100)\n",
    "fixation_probability('A', 'B', 5, 2, 100)"
   ]
  },
  {
   "cell_type": "code",
   "execution_count": 330,
   "metadata": {},
   "outputs": [],
   "source": [
    "def fix_prob_diff(beta_fpd, N, age_cutoff = 0, num_runs = 1000):\n",
    "    #initialize squirrel types and fitnesses\n",
    "    pre_cutoff_fitness_dict = {'A':1, 'B':0}\n",
    "    post_cutoff_fitness_dict = {'A':1, 'B':beta_fpd}\n",
    "    \n",
    "    #compute fixation probabilties\n",
    "    rho_A = fixation_probability('B', 'A', N, age_cutoff, num_runs)\n",
    "    rho_B = fixation_probability('A','B', N, age_cutoff, num_runs)\n",
    "    \n",
    "    #subtract probs and return difference\n",
    "    return rho_A - rho_B"
   ]
  },
  {
   "cell_type": "code",
   "execution_count": 306,
   "metadata": {},
   "outputs": [
    {
     "name": "stdout",
     "output_type": "stream",
     "text": [
      "Computing fixation probability of a single A type in a population of B types\n"
     ]
    },
    {
     "data": {
      "application/vnd.jupyter.widget-view+json": {
       "model_id": "1e8e82577a9441dd80431b6d63713371",
       "version_major": 2,
       "version_minor": 0
      },
      "text/plain": [
       "  0%|          | 0/1000 [00:00<?, ?it/s]"
      ]
     },
     "metadata": {},
     "output_type": "display_data"
    },
    {
     "name": "stdout",
     "output_type": "stream",
     "text": [
      "rho_A = 0.168000000000000\n",
      "Computing fixation probability of a single B type in a population of A types\n"
     ]
    },
    {
     "data": {
      "application/vnd.jupyter.widget-view+json": {
       "model_id": "b1d88b0fcc8e457a90b593dc79768cdf",
       "version_major": 2,
       "version_minor": 0
      },
      "text/plain": [
       "  0%|          | 0/1000 [00:00<?, ?it/s]"
      ]
     },
     "metadata": {},
     "output_type": "display_data"
    },
    {
     "name": "stdout",
     "output_type": "stream",
     "text": [
      "rho_B = 0.163000000000000\n"
     ]
    },
    {
     "data": {
      "text/plain": [
       "0.00500000000000000"
      ]
     },
     "execution_count": 306,
     "metadata": {},
     "output_type": "execute_result"
    }
   ],
   "source": [
    "fix_prob_diff(2, 5, 2, 1000)"
   ]
  },
  {
   "cell_type": "code",
   "execution_count": 331,
   "metadata": {},
   "outputs": [],
   "source": [
    "def find_upper_limit(N, age_cutoff = 0, num_runs = 1000, verbose = False):\n",
    "    beta = 2\n",
    "    if verbose:\n",
    "        print('computing prob difference when beta = 2')\n",
    "    prob_diff = fix_prob_diff(beta, N, age_cutoff, num_runs)\n",
    "    if verbose:\n",
    "        print('fixation prob difference when beta = 2 is {}'.format(prob_diff))\n",
    "    while prob_diff > 0:\n",
    "        beta += 1\n",
    "        if verbose:\n",
    "            print('checking prob diff when beta = {}'.format(beta))\n",
    "        prob_diff = fix_prob_diff(beta, N, age_cutoff, num_runs)\n",
    "        if verbose:\n",
    "            print('fixation prob difference when beta = {} is {}'.format(beta, prob_diff))\n",
    "    \n",
    "    return(beta)\n",
    "        "
   ]
  },
  {
   "cell_type": "code",
   "execution_count": 299,
   "metadata": {},
   "outputs": [
    {
     "name": "stdout",
     "output_type": "stream",
     "text": [
      "computing prob difference when beta = 2\n",
      "Computing fixation probability of a single A type in a population of B types\n"
     ]
    },
    {
     "data": {
      "application/vnd.jupyter.widget-view+json": {
       "model_id": "21d4115ddc1b4e5b9c783637f4d8b4a9",
       "version_major": 2,
       "version_minor": 0
      },
      "text/plain": [
       "  0%|          | 0/100 [00:00<?, ?it/s]"
      ]
     },
     "metadata": {},
     "output_type": "display_data"
    },
    {
     "name": "stdout",
     "output_type": "stream",
     "text": [
      "rho_A = 0.140000000000000\n",
      "Computing fixation probability of a single B type in a population of A types\n"
     ]
    },
    {
     "data": {
      "application/vnd.jupyter.widget-view+json": {
       "model_id": "fbe17ff7cb6f4db6878142911354f0c7",
       "version_major": 2,
       "version_minor": 0
      },
      "text/plain": [
       "  0%|          | 0/100 [00:00<?, ?it/s]"
      ]
     },
     "metadata": {},
     "output_type": "display_data"
    },
    {
     "name": "stdout",
     "output_type": "stream",
     "text": [
      "rho_B = 0.170000000000000\n",
      "fixation prob difference when beta = 2 is -0.0300000000000000\n"
     ]
    },
    {
     "data": {
      "text/plain": [
       "2"
      ]
     },
     "execution_count": 299,
     "metadata": {},
     "output_type": "execute_result"
    }
   ],
   "source": [
    "find_upper_limit(5, age_cutoff = 2, num_runs = 100, verbose = True)"
   ]
  },
  {
   "cell_type": "markdown",
   "metadata": {},
   "source": [
    "#### There is a slight issue. With a small N and a large delay to the LL fitness, squirrels v likely die before they get enough of a foothold in society to take over. This can be fixed by picking a large N. "
   ]
  },
  {
   "cell_type": "code",
   "execution_count": 332,
   "metadata": {},
   "outputs": [],
   "source": [
    "def get_fix_diff_zero(N, age_cutoff = 0, num_runs = 1000, verbose = False):\n",
    "    if verbose:\n",
    "        print('Looking for the beta value for which rho_A = rho_B')\n",
    "        print('Parameters N = {}, delay to LL reward = {}'.format(N, age_cutoff))  \n",
    "        \n",
    "    b = find_upper_limit(N, age_cutoff, num_runs, verbose)\n",
    "    if verbose:\n",
    "        print('proceed to find zero on interval [{}, {}]'.format(b - 1, b))\n",
    "        \n",
    "    def f(beta):\n",
    "        return fix_prob_diff(beta, N, age_cutoff, num_runs)\n",
    "    \n",
    "    beta_equal_fitness = QuadraticInterpolate(f, b-1, b)\n",
    "    return beta_equal_fitness"
   ]
  },
  {
   "cell_type": "code",
   "execution_count": 333,
   "metadata": {},
   "outputs": [
    {
     "name": "stdout",
     "output_type": "stream",
     "text": [
      "Looking for the beta value for which rho_A = rho_B\n",
      "Parameters N = 5, delay to LL reward = 2\n",
      "computing prob difference when beta = 2\n",
      "Computing fixation probability of a single A type in a population of B types\n"
     ]
    },
    {
     "data": {
      "application/vnd.jupyter.widget-view+json": {
       "model_id": "ede72f62c8654bc19beb9b818f8b9c14",
       "version_major": 2,
       "version_minor": 0
      },
      "text/plain": [
       "  0%|          | 0/100 [00:00<?, ?it/s]"
      ]
     },
     "metadata": {},
     "output_type": "display_data"
    },
    {
     "name": "stdout",
     "output_type": "stream",
     "text": [
      "rho_A = 0.390000000000000\n",
      "Computing fixation probability of a single B type in a population of A types\n"
     ]
    },
    {
     "data": {
      "application/vnd.jupyter.widget-view+json": {
       "model_id": "d68b5bb449e34b5ca75a206649f00ecd",
       "version_major": 2,
       "version_minor": 0
      },
      "text/plain": [
       "  0%|          | 0/100 [00:00<?, ?it/s]"
      ]
     },
     "metadata": {},
     "output_type": "display_data"
    },
    {
     "name": "stdout",
     "output_type": "stream",
     "text": [
      "rho_B = 0.0800000000000000\n",
      "fixation prob difference when beta = 2 is 0.310000000000000\n",
      "checking prob diff when beta = 3\n",
      "Computing fixation probability of a single A type in a population of B types\n"
     ]
    },
    {
     "data": {
      "application/vnd.jupyter.widget-view+json": {
       "model_id": "094b3315ad2b47d99631bdef9f26a145",
       "version_major": 2,
       "version_minor": 0
      },
      "text/plain": [
       "  0%|          | 0/100 [00:00<?, ?it/s]"
      ]
     },
     "metadata": {},
     "output_type": "display_data"
    },
    {
     "name": "stdout",
     "output_type": "stream",
     "text": [
      "rho_A = 0.360000000000000\n",
      "Computing fixation probability of a single B type in a population of A types\n"
     ]
    },
    {
     "data": {
      "application/vnd.jupyter.widget-view+json": {
       "model_id": "137c544e11ac400c80b20b8641448c56",
       "version_major": 2,
       "version_minor": 0
      },
      "text/plain": [
       "  0%|          | 0/100 [00:00<?, ?it/s]"
      ]
     },
     "metadata": {},
     "output_type": "display_data"
    },
    {
     "name": "stdout",
     "output_type": "stream",
     "text": [
      "rho_B = 0.0700000000000000\n",
      "fixation prob difference when beta = 3 is 0.290000000000000\n",
      "checking prob diff when beta = 4\n",
      "Computing fixation probability of a single A type in a population of B types\n"
     ]
    },
    {
     "data": {
      "application/vnd.jupyter.widget-view+json": {
       "model_id": "dbbe325c53d845f3b53a30434e13d4c5",
       "version_major": 2,
       "version_minor": 0
      },
      "text/plain": [
       "  0%|          | 0/100 [00:00<?, ?it/s]"
      ]
     },
     "metadata": {},
     "output_type": "display_data"
    },
    {
     "name": "stdout",
     "output_type": "stream",
     "text": [
      "rho_A = 0.380000000000000\n",
      "Computing fixation probability of a single B type in a population of A types\n"
     ]
    },
    {
     "data": {
      "application/vnd.jupyter.widget-view+json": {
       "model_id": "a3b9f740430d439f9597e8301f6e02a5",
       "version_major": 2,
       "version_minor": 0
      },
      "text/plain": [
       "  0%|          | 0/100 [00:00<?, ?it/s]"
      ]
     },
     "metadata": {},
     "output_type": "display_data"
    },
    {
     "ename": "KeyboardInterrupt",
     "evalue": "",
     "output_type": "error",
     "traceback": [
      "\u001b[1;31m---------------------------------------------------------------------------\u001b[0m",
      "\u001b[1;31mKeyboardInterrupt\u001b[0m                         Traceback (most recent call last)",
      "\u001b[1;32m<ipython-input-333-edeca744be35>\u001b[0m in \u001b[0;36m<module>\u001b[1;34m\u001b[0m\n\u001b[1;32m----> 1\u001b[1;33m \u001b[0mget_fix_diff_zero\u001b[0m\u001b[1;33m(\u001b[0m\u001b[0mInteger\u001b[0m\u001b[1;33m(\u001b[0m\u001b[1;36m5\u001b[0m\u001b[1;33m)\u001b[0m\u001b[1;33m,\u001b[0m \u001b[0mInteger\u001b[0m\u001b[1;33m(\u001b[0m\u001b[1;36m2\u001b[0m\u001b[1;33m)\u001b[0m\u001b[1;33m,\u001b[0m \u001b[0mInteger\u001b[0m\u001b[1;33m(\u001b[0m\u001b[1;36m100\u001b[0m\u001b[1;33m)\u001b[0m\u001b[1;33m,\u001b[0m \u001b[1;32mTrue\u001b[0m\u001b[1;33m)\u001b[0m\u001b[1;33m\u001b[0m\u001b[1;33m\u001b[0m\u001b[0m\n\u001b[0m",
      "\u001b[1;32m<ipython-input-332-5d923a5c81f0>\u001b[0m in \u001b[0;36mget_fix_diff_zero\u001b[1;34m(N, age_cutoff, num_runs, verbose)\u001b[0m\n\u001b[0;32m      4\u001b[0m         \u001b[0mprint\u001b[0m\u001b[1;33m(\u001b[0m\u001b[1;34m'Parameters N = {}, delay to LL reward = {}'\u001b[0m\u001b[1;33m.\u001b[0m\u001b[0mformat\u001b[0m\u001b[1;33m(\u001b[0m\u001b[0mN\u001b[0m\u001b[1;33m,\u001b[0m \u001b[0mage_cutoff\u001b[0m\u001b[1;33m)\u001b[0m\u001b[1;33m)\u001b[0m\u001b[1;33m\u001b[0m\u001b[1;33m\u001b[0m\u001b[0m\n\u001b[0;32m      5\u001b[0m \u001b[1;33m\u001b[0m\u001b[0m\n\u001b[1;32m----> 6\u001b[1;33m     \u001b[0mb\u001b[0m \u001b[1;33m=\u001b[0m \u001b[0mfind_upper_limit\u001b[0m\u001b[1;33m(\u001b[0m\u001b[0mN\u001b[0m\u001b[1;33m,\u001b[0m \u001b[0mage_cutoff\u001b[0m\u001b[1;33m,\u001b[0m \u001b[0mnum_runs\u001b[0m\u001b[1;33m,\u001b[0m \u001b[0mverbose\u001b[0m\u001b[1;33m)\u001b[0m\u001b[1;33m\u001b[0m\u001b[1;33m\u001b[0m\u001b[0m\n\u001b[0m\u001b[0;32m      7\u001b[0m     \u001b[1;32mif\u001b[0m \u001b[0mverbose\u001b[0m\u001b[1;33m:\u001b[0m\u001b[1;33m\u001b[0m\u001b[1;33m\u001b[0m\u001b[0m\n\u001b[0;32m      8\u001b[0m         \u001b[0mprint\u001b[0m\u001b[1;33m(\u001b[0m\u001b[1;34m'proceed to find zero on interval [{}, {}]'\u001b[0m\u001b[1;33m.\u001b[0m\u001b[0mformat\u001b[0m\u001b[1;33m(\u001b[0m\u001b[0mb\u001b[0m \u001b[1;33m-\u001b[0m \u001b[0mInteger\u001b[0m\u001b[1;33m(\u001b[0m\u001b[1;36m1\u001b[0m\u001b[1;33m)\u001b[0m\u001b[1;33m,\u001b[0m \u001b[0mb\u001b[0m\u001b[1;33m)\u001b[0m\u001b[1;33m)\u001b[0m\u001b[1;33m\u001b[0m\u001b[1;33m\u001b[0m\u001b[0m\n",
      "\u001b[1;32m<ipython-input-331-6cdaf0f99438>\u001b[0m in \u001b[0;36mfind_upper_limit\u001b[1;34m(N, age_cutoff, num_runs, verbose)\u001b[0m\n\u001b[0;32m     10\u001b[0m         \u001b[1;32mif\u001b[0m \u001b[0mverbose\u001b[0m\u001b[1;33m:\u001b[0m\u001b[1;33m\u001b[0m\u001b[1;33m\u001b[0m\u001b[0m\n\u001b[0;32m     11\u001b[0m             \u001b[0mprint\u001b[0m\u001b[1;33m(\u001b[0m\u001b[1;34m'checking prob diff when beta = {}'\u001b[0m\u001b[1;33m.\u001b[0m\u001b[0mformat\u001b[0m\u001b[1;33m(\u001b[0m\u001b[0mbeta\u001b[0m\u001b[1;33m)\u001b[0m\u001b[1;33m)\u001b[0m\u001b[1;33m\u001b[0m\u001b[1;33m\u001b[0m\u001b[0m\n\u001b[1;32m---> 12\u001b[1;33m         \u001b[0mprob_diff\u001b[0m \u001b[1;33m=\u001b[0m \u001b[0mfix_prob_diff\u001b[0m\u001b[1;33m(\u001b[0m\u001b[0mbeta\u001b[0m\u001b[1;33m,\u001b[0m \u001b[0mN\u001b[0m\u001b[1;33m,\u001b[0m \u001b[0mage_cutoff\u001b[0m\u001b[1;33m,\u001b[0m \u001b[0mnum_runs\u001b[0m\u001b[1;33m)\u001b[0m\u001b[1;33m\u001b[0m\u001b[1;33m\u001b[0m\u001b[0m\n\u001b[0m\u001b[0;32m     13\u001b[0m         \u001b[1;32mif\u001b[0m \u001b[0mverbose\u001b[0m\u001b[1;33m:\u001b[0m\u001b[1;33m\u001b[0m\u001b[1;33m\u001b[0m\u001b[0m\n\u001b[0;32m     14\u001b[0m             \u001b[0mprint\u001b[0m\u001b[1;33m(\u001b[0m\u001b[1;34m'fixation prob difference when beta = {} is {}'\u001b[0m\u001b[1;33m.\u001b[0m\u001b[0mformat\u001b[0m\u001b[1;33m(\u001b[0m\u001b[0mbeta\u001b[0m\u001b[1;33m,\u001b[0m \u001b[0mprob_diff\u001b[0m\u001b[1;33m)\u001b[0m\u001b[1;33m)\u001b[0m\u001b[1;33m\u001b[0m\u001b[1;33m\u001b[0m\u001b[0m\n",
      "\u001b[1;32m<ipython-input-330-3d3a341c48ad>\u001b[0m in \u001b[0;36mfix_prob_diff\u001b[1;34m(beta_fpd, N, age_cutoff, num_runs)\u001b[0m\n\u001b[0;32m      6\u001b[0m     \u001b[1;31m#compute fixation probabilties\u001b[0m\u001b[1;33m\u001b[0m\u001b[1;33m\u001b[0m\u001b[1;33m\u001b[0m\u001b[0m\n\u001b[0;32m      7\u001b[0m     \u001b[0mrho_A\u001b[0m \u001b[1;33m=\u001b[0m \u001b[0mfixation_probability\u001b[0m\u001b[1;33m(\u001b[0m\u001b[1;34m'B'\u001b[0m\u001b[1;33m,\u001b[0m \u001b[1;34m'A'\u001b[0m\u001b[1;33m,\u001b[0m \u001b[0mN\u001b[0m\u001b[1;33m,\u001b[0m \u001b[0mage_cutoff\u001b[0m\u001b[1;33m,\u001b[0m \u001b[0mnum_runs\u001b[0m\u001b[1;33m)\u001b[0m\u001b[1;33m\u001b[0m\u001b[1;33m\u001b[0m\u001b[0m\n\u001b[1;32m----> 8\u001b[1;33m     \u001b[0mrho_B\u001b[0m \u001b[1;33m=\u001b[0m \u001b[0mfixation_probability\u001b[0m\u001b[1;33m(\u001b[0m\u001b[1;34m'A'\u001b[0m\u001b[1;33m,\u001b[0m\u001b[1;34m'B'\u001b[0m\u001b[1;33m,\u001b[0m \u001b[0mN\u001b[0m\u001b[1;33m,\u001b[0m \u001b[0mage_cutoff\u001b[0m\u001b[1;33m,\u001b[0m \u001b[0mnum_runs\u001b[0m\u001b[1;33m)\u001b[0m\u001b[1;33m\u001b[0m\u001b[1;33m\u001b[0m\u001b[0m\n\u001b[0m\u001b[0;32m      9\u001b[0m \u001b[1;33m\u001b[0m\u001b[0m\n\u001b[0;32m     10\u001b[0m     \u001b[1;31m#subtract probs and return difference\u001b[0m\u001b[1;33m\u001b[0m\u001b[1;33m\u001b[0m\u001b[1;33m\u001b[0m\u001b[0m\n",
      "\u001b[1;32m<ipython-input-328-192a3b372703>\u001b[0m in \u001b[0;36mfixation_probability\u001b[1;34m(res_type, mut_type, N, age_cutoff, num_runs)\u001b[0m\n\u001b[0;32m      3\u001b[0m     \u001b[0mprint\u001b[0m\u001b[1;33m(\u001b[0m\u001b[1;34m'Computing fixation probability of a single {} type in a population of {} types'\u001b[0m\u001b[1;33m.\u001b[0m\u001b[0mformat\u001b[0m\u001b[1;33m(\u001b[0m\u001b[0mmut_type\u001b[0m\u001b[1;33m,\u001b[0m \u001b[0mres_type\u001b[0m\u001b[1;33m)\u001b[0m\u001b[1;33m)\u001b[0m\u001b[1;33m\u001b[0m\u001b[1;33m\u001b[0m\u001b[0m\n\u001b[0;32m      4\u001b[0m     \u001b[1;32mfor\u001b[0m \u001b[0m_\u001b[0m \u001b[1;32min\u001b[0m \u001b[0mtqdm\u001b[0m\u001b[1;33m(\u001b[0m\u001b[0mrange\u001b[0m\u001b[1;33m(\u001b[0m\u001b[0mnum_runs\u001b[0m\u001b[1;33m)\u001b[0m\u001b[1;33m)\u001b[0m\u001b[1;33m:\u001b[0m\u001b[1;33m\u001b[0m\u001b[1;33m\u001b[0m\u001b[0m\n\u001b[1;32m----> 5\u001b[1;33m         \u001b[0mwinner\u001b[0m \u001b[1;33m=\u001b[0m \u001b[0mfixation_process\u001b[0m\u001b[1;33m(\u001b[0m\u001b[0mres_type\u001b[0m\u001b[1;33m,\u001b[0m \u001b[0mmut_type\u001b[0m\u001b[1;33m,\u001b[0m \u001b[0mN\u001b[0m\u001b[1;33m,\u001b[0m \u001b[0mage_cutoff\u001b[0m\u001b[1;33m)\u001b[0m\u001b[1;33m\u001b[0m\u001b[1;33m\u001b[0m\u001b[0m\n\u001b[0m\u001b[0;32m      6\u001b[0m         \u001b[0mwinner_dict\u001b[0m\u001b[1;33m[\u001b[0m\u001b[0mwinner\u001b[0m\u001b[1;33m]\u001b[0m \u001b[1;33m+=\u001b[0m \u001b[0mInteger\u001b[0m\u001b[1;33m(\u001b[0m\u001b[1;36m1\u001b[0m\u001b[1;33m)\u001b[0m\u001b[1;33m\u001b[0m\u001b[1;33m\u001b[0m\u001b[0m\n\u001b[0;32m      7\u001b[0m     \u001b[0mprob\u001b[0m \u001b[1;33m=\u001b[0m \u001b[0mwinner_dict\u001b[0m\u001b[1;33m[\u001b[0m\u001b[0mmut_type\u001b[0m\u001b[1;33m]\u001b[0m\u001b[1;33m/\u001b[0m\u001b[0mnum_runs\u001b[0m\u001b[1;33m.\u001b[0m\u001b[0mn\u001b[0m\u001b[1;33m(\u001b[0m\u001b[1;33m)\u001b[0m\u001b[1;33m\u001b[0m\u001b[1;33m\u001b[0m\u001b[0m\n",
      "\u001b[1;32m<ipython-input-327-06a8749e02d6>\u001b[0m in \u001b[0;36mfixation_process\u001b[1;34m(res_type, mut_type, N, age_cutoff)\u001b[0m\n\u001b[0;32m      2\u001b[0m     \u001b[1;31m#allow resident squirrels to run for a while\u001b[0m\u001b[1;33m\u001b[0m\u001b[1;33m\u001b[0m\u001b[1;33m\u001b[0m\u001b[0m\n\u001b[0;32m      3\u001b[0m     \u001b[0mres_squirrels\u001b[0m \u001b[1;33m=\u001b[0m \u001b[1;33m[\u001b[0m\u001b[0msquirrel_builder\u001b[0m\u001b[1;33m(\u001b[0m\u001b[0mres_type\u001b[0m\u001b[1;33m)\u001b[0m\u001b[1;33m]\u001b[0m\u001b[1;33m*\u001b[0m\u001b[0mN\u001b[0m\u001b[1;33m\u001b[0m\u001b[1;33m\u001b[0m\u001b[0m\n\u001b[1;32m----> 4\u001b[1;33m     \u001b[0mmany_days_of_squirrels\u001b[0m\u001b[1;33m(\u001b[0m\u001b[0mInteger\u001b[0m\u001b[1;33m(\u001b[0m\u001b[1;36m1000\u001b[0m\u001b[1;33m)\u001b[0m\u001b[1;33m,\u001b[0m \u001b[0mres_squirrels\u001b[0m\u001b[1;33m,\u001b[0m \u001b[0mage_cutoff\u001b[0m\u001b[1;33m)\u001b[0m\u001b[1;33m\u001b[0m\u001b[1;33m\u001b[0m\u001b[0m\n\u001b[0m\u001b[0;32m      5\u001b[0m \u001b[1;33m\u001b[0m\u001b[0m\n\u001b[0;32m      6\u001b[0m     \u001b[1;31m#introduce a mutant\u001b[0m\u001b[1;33m\u001b[0m\u001b[1;33m\u001b[0m\u001b[1;33m\u001b[0m\u001b[0m\n",
      "\u001b[1;32m<ipython-input-325-1f73cdba7c6b>\u001b[0m in \u001b[0;36mmany_days_of_squirrels\u001b[1;34m(num_days, squirrels, age_cutoff)\u001b[0m\n\u001b[0;32m     30\u001b[0m \u001b[1;32mdef\u001b[0m \u001b[0mmany_days_of_squirrels\u001b[0m\u001b[1;33m(\u001b[0m\u001b[0mnum_days\u001b[0m\u001b[1;33m,\u001b[0m \u001b[0msquirrels\u001b[0m\u001b[1;33m,\u001b[0m \u001b[0mage_cutoff\u001b[0m \u001b[1;33m=\u001b[0m \u001b[0mInteger\u001b[0m\u001b[1;33m(\u001b[0m\u001b[1;36m0\u001b[0m\u001b[1;33m)\u001b[0m\u001b[1;33m)\u001b[0m\u001b[1;33m:\u001b[0m\u001b[1;33m\u001b[0m\u001b[1;33m\u001b[0m\u001b[0m\n\u001b[0;32m     31\u001b[0m     \u001b[1;32mfor\u001b[0m \u001b[0mt\u001b[0m \u001b[1;32min\u001b[0m \u001b[0mrange\u001b[0m\u001b[1;33m(\u001b[0m\u001b[0mnum_days\u001b[0m\u001b[1;33m)\u001b[0m\u001b[1;33m:\u001b[0m\u001b[1;33m\u001b[0m\u001b[1;33m\u001b[0m\u001b[0m\n\u001b[1;32m---> 32\u001b[1;33m         \u001b[0mday_of_squirrels\u001b[0m\u001b[1;33m(\u001b[0m\u001b[0msquirrels\u001b[0m\u001b[1;33m,\u001b[0m \u001b[0mage_cutoff\u001b[0m\u001b[1;33m)\u001b[0m\u001b[1;33m\u001b[0m\u001b[1;33m\u001b[0m\u001b[0m\n\u001b[0m\u001b[0;32m     33\u001b[0m     \u001b[1;32mreturn\u001b[0m \u001b[0msquirrels\u001b[0m\u001b[1;33m\u001b[0m\u001b[1;33m\u001b[0m\u001b[0m\n\u001b[0;32m     34\u001b[0m \u001b[1;33m\u001b[0m\u001b[0m\n",
      "\u001b[1;32m<ipython-input-325-1f73cdba7c6b>\u001b[0m in \u001b[0;36mday_of_squirrels\u001b[1;34m(squirrels, age_cutoff)\u001b[0m\n\u001b[0;32m     23\u001b[0m \u001b[1;33m\u001b[0m\u001b[0m\n\u001b[0;32m     24\u001b[0m \u001b[1;32mdef\u001b[0m \u001b[0mday_of_squirrels\u001b[0m\u001b[1;33m(\u001b[0m\u001b[0msquirrels\u001b[0m\u001b[1;33m,\u001b[0m \u001b[0mage_cutoff\u001b[0m \u001b[1;33m=\u001b[0m \u001b[0mInteger\u001b[0m\u001b[1;33m(\u001b[0m\u001b[1;36m0\u001b[0m\u001b[1;33m)\u001b[0m\u001b[1;33m)\u001b[0m\u001b[1;33m:\u001b[0m\u001b[1;33m\u001b[0m\u001b[1;33m\u001b[0m\u001b[0m\n\u001b[1;32m---> 25\u001b[1;33m     \u001b[0mbirth_squirrel\u001b[0m \u001b[1;33m=\u001b[0m \u001b[0mpick_squirrel_to_give_birth\u001b[0m\u001b[1;33m(\u001b[0m\u001b[0msquirrels\u001b[0m\u001b[1;33m,\u001b[0m \u001b[0mage_cutoff\u001b[0m\u001b[1;33m)\u001b[0m\u001b[1;33m\u001b[0m\u001b[1;33m\u001b[0m\u001b[0m\n\u001b[0m\u001b[0;32m     26\u001b[0m     \u001b[0mdeath_squirrel\u001b[0m \u001b[1;33m=\u001b[0m \u001b[0mpick_squirrel_to_die\u001b[0m\u001b[1;33m(\u001b[0m\u001b[0msquirrels\u001b[0m\u001b[1;33m)\u001b[0m\u001b[1;33m\u001b[0m\u001b[1;33m\u001b[0m\u001b[0m\n\u001b[0;32m     27\u001b[0m     \u001b[0mbirth_death_process\u001b[0m\u001b[1;33m(\u001b[0m\u001b[0msquirrels\u001b[0m\u001b[1;33m,\u001b[0m \u001b[0mbirth_squirrel\u001b[0m\u001b[1;33m,\u001b[0m \u001b[0mdeath_squirrel\u001b[0m\u001b[1;33m)\u001b[0m\u001b[1;33m\u001b[0m\u001b[1;33m\u001b[0m\u001b[0m\n",
      "\u001b[1;32m<ipython-input-325-1f73cdba7c6b>\u001b[0m in \u001b[0;36mpick_squirrel_to_give_birth\u001b[1;34m(squirrels, age_cutoff)\u001b[0m\n\u001b[0;32m      3\u001b[0m     \u001b[1;32mif\u001b[0m \u001b[0mfitnesses\u001b[0m \u001b[1;33m==\u001b[0m \u001b[1;33m[\u001b[0m\u001b[0mInteger\u001b[0m\u001b[1;33m(\u001b[0m\u001b[1;36m0\u001b[0m\u001b[1;33m)\u001b[0m\u001b[1;33m]\u001b[0m\u001b[1;33m*\u001b[0m\u001b[0mlen\u001b[0m\u001b[1;33m(\u001b[0m\u001b[0msquirrels\u001b[0m\u001b[1;33m)\u001b[0m\u001b[1;33m:\u001b[0m\u001b[1;33m\u001b[0m\u001b[1;33m\u001b[0m\u001b[0m\n\u001b[0;32m      4\u001b[0m         \u001b[0mfitnesses\u001b[0m \u001b[1;33m=\u001b[0m \u001b[1;33m[\u001b[0m\u001b[0mInteger\u001b[0m\u001b[1;33m(\u001b[0m\u001b[1;36m1\u001b[0m\u001b[1;33m)\u001b[0m\u001b[1;33m]\u001b[0m\u001b[1;33m*\u001b[0m\u001b[0mlen\u001b[0m\u001b[1;33m(\u001b[0m\u001b[0msquirrels\u001b[0m\u001b[1;33m)\u001b[0m\u001b[1;33m\u001b[0m\u001b[1;33m\u001b[0m\u001b[0m\n\u001b[1;32m----> 5\u001b[1;33m     \u001b[0mbirth_rv\u001b[0m \u001b[1;33m=\u001b[0m \u001b[0mGeneralDiscreteDistribution\u001b[0m\u001b[1;33m(\u001b[0m\u001b[0mfitnesses\u001b[0m\u001b[1;33m)\u001b[0m\u001b[1;33m\u001b[0m\u001b[1;33m\u001b[0m\u001b[0m\n\u001b[0m\u001b[0;32m      6\u001b[0m     \u001b[0mbirth_squirrel\u001b[0m \u001b[1;33m=\u001b[0m \u001b[0mbirth_rv\u001b[0m\u001b[1;33m.\u001b[0m\u001b[0mget_random_element\u001b[0m\u001b[1;33m(\u001b[0m\u001b[1;33m)\u001b[0m\u001b[1;33m\u001b[0m\u001b[1;33m\u001b[0m\u001b[0m\n\u001b[0;32m      7\u001b[0m     \u001b[1;32mreturn\u001b[0m \u001b[0mbirth_squirrel\u001b[0m\u001b[1;33m\u001b[0m\u001b[1;33m\u001b[0m\u001b[0m\n",
      "\u001b[1;32m~/miniconda3/envs/sage/lib/python3.9/site-packages/sage/probability/probability_distribution.pyx\u001b[0m in \u001b[0;36msage.probability.probability_distribution.GeneralDiscreteDistribution.__init__ (build/cythonized/sage/probability/probability_distribution.c:9238)\u001b[1;34m()\u001b[0m\n\u001b[0;32m   1083\u001b[0m         \u001b[0mself\u001b[0m\u001b[1;33m.\u001b[0m\u001b[0mr\u001b[0m \u001b[1;33m=\u001b[0m \u001b[0mgsl_rng_alloc\u001b[0m\u001b[1;33m(\u001b[0m\u001b[0mself\u001b[0m\u001b[1;33m.\u001b[0m\u001b[0mT\u001b[0m\u001b[1;33m)\u001b[0m\u001b[1;33m\u001b[0m\u001b[1;33m\u001b[0m\u001b[0m\n\u001b[0;32m   1084\u001b[0m         \u001b[1;32mif\u001b[0m \u001b[0mseed\u001b[0m \u001b[1;32mis\u001b[0m \u001b[1;32mNone\u001b[0m\u001b[1;33m:\u001b[0m\u001b[1;33m\u001b[0m\u001b[1;33m\u001b[0m\u001b[0m\n\u001b[1;32m-> 1085\u001b[1;33m             \u001b[0mseed\u001b[0m \u001b[1;33m=\u001b[0m \u001b[0mrandom\u001b[0m\u001b[1;33m.\u001b[0m\u001b[0mrandint\u001b[0m\u001b[1;33m(\u001b[0m\u001b[1;36m1\u001b[0m\u001b[1;33m,\u001b[0m \u001b[1;36m2\u001b[0m\u001b[1;33m**\u001b[0m\u001b[1;36m31\u001b[0m\u001b[1;33m)\u001b[0m\u001b[1;33m\u001b[0m\u001b[1;33m\u001b[0m\u001b[0m\n\u001b[0m\u001b[0;32m   1086\u001b[0m         \u001b[0mself\u001b[0m\u001b[1;33m.\u001b[0m\u001b[0mset_seed\u001b[0m\u001b[1;33m(\u001b[0m\u001b[0mseed\u001b[0m\u001b[1;33m)\u001b[0m\u001b[1;33m\u001b[0m\u001b[1;33m\u001b[0m\u001b[0m\n\u001b[0;32m   1087\u001b[0m \u001b[1;33m\u001b[0m\u001b[0m\n",
      "\u001b[1;32m~/miniconda3/envs/sage/lib/python3.9/site-packages/sage/misc/prandom.py\u001b[0m in \u001b[0;36mrandint\u001b[1;34m(a, b)\u001b[0m\n\u001b[0;32m    112\u001b[0m     \u001b[1;32mreturn\u001b[0m \u001b[0m_pyrand\u001b[0m\u001b[1;33m(\u001b[0m\u001b[1;33m)\u001b[0m\u001b[1;33m.\u001b[0m\u001b[0mrandrange\u001b[0m\u001b[1;33m(\u001b[0m\u001b[0mstart\u001b[0m\u001b[1;33m,\u001b[0m \u001b[0mstop\u001b[0m\u001b[1;33m,\u001b[0m \u001b[0mstep\u001b[0m\u001b[1;33m)\u001b[0m\u001b[1;33m\u001b[0m\u001b[1;33m\u001b[0m\u001b[0m\n\u001b[0;32m    113\u001b[0m \u001b[1;33m\u001b[0m\u001b[0m\n\u001b[1;32m--> 114\u001b[1;33m \u001b[1;32mdef\u001b[0m \u001b[0mrandint\u001b[0m\u001b[1;33m(\u001b[0m\u001b[0ma\u001b[0m\u001b[1;33m,\u001b[0m \u001b[0mb\u001b[0m\u001b[1;33m)\u001b[0m\u001b[1;33m:\u001b[0m\u001b[1;33m\u001b[0m\u001b[1;33m\u001b[0m\u001b[0m\n\u001b[0m\u001b[0;32m    115\u001b[0m     r\"\"\"\n\u001b[0;32m    116\u001b[0m     \u001b[0mReturn\u001b[0m \u001b[0mrandom\u001b[0m \u001b[0minteger\u001b[0m \u001b[1;32min\u001b[0m \u001b[0mrange\u001b[0m \u001b[1;33m[\u001b[0m\u001b[0ma\u001b[0m\u001b[1;33m,\u001b[0m \u001b[0mb\u001b[0m\u001b[1;33m]\u001b[0m\u001b[1;33m,\u001b[0m \u001b[0mincluding\u001b[0m \u001b[0mboth\u001b[0m \u001b[0mend\u001b[0m \u001b[0mpoints\u001b[0m\u001b[1;33m.\u001b[0m\u001b[1;33m\u001b[0m\u001b[1;33m\u001b[0m\u001b[0m\n",
      "\u001b[1;32msrc/cysignals/signals.pyx\u001b[0m in \u001b[0;36mcysignals.signals.python_check_interrupt\u001b[1;34m()\u001b[0m\n",
      "\u001b[1;31mKeyboardInterrupt\u001b[0m: "
     ]
    }
   ],
   "source": [
    "get_fix_diff_zero(5, 2, 100, True)"
   ]
  },
  {
   "cell_type": "code",
   "execution_count": 315,
   "metadata": {
    "collapsed": true
   },
   "outputs": [
    {
     "data": {
      "application/vnd.jupyter.widget-view+json": {
       "model_id": "8b13a2302e664500a946174c8c5e3c43",
       "version_major": 2,
       "version_minor": 0
      },
      "text/plain": [
       "  0%|          | 0/10 [00:00<?, ?it/s]"
      ]
     },
     "metadata": {},
     "output_type": "display_data"
    },
    {
     "name": "stdout",
     "output_type": "stream",
     "text": [
      "computing required for indifference at delay = 0\n",
      "Computing fixation probability of a single A type in a population of B types\n"
     ]
    },
    {
     "data": {
      "application/vnd.jupyter.widget-view+json": {
       "model_id": "0534c9cf82a648ab917f43e8321088a6",
       "version_major": 2,
       "version_minor": 0
      },
      "text/plain": [
       "  0%|          | 0/1000 [00:00<?, ?it/s]"
      ]
     },
     "metadata": {},
     "output_type": "display_data"
    },
    {
     "ename": "KeyboardInterrupt",
     "evalue": "",
     "output_type": "error",
     "traceback": [
      "\u001b[1;31m---------------------------------------------------------------------------\u001b[0m",
      "\u001b[1;31mKeyboardInterrupt\u001b[0m                         Traceback (most recent call last)",
      "\u001b[1;32m<ipython-input-315-d376c968618f>\u001b[0m in \u001b[0;36m<module>\u001b[1;34m\u001b[0m\n\u001b[0;32m      1\u001b[0m \u001b[1;32mfor\u001b[0m \u001b[0mt\u001b[0m \u001b[1;32min\u001b[0m \u001b[0mtqdm\u001b[0m\u001b[1;33m(\u001b[0m\u001b[0mrange\u001b[0m\u001b[1;33m(\u001b[0m\u001b[0mInteger\u001b[0m\u001b[1;33m(\u001b[0m\u001b[1;36m10\u001b[0m\u001b[1;33m)\u001b[0m\u001b[1;33m)\u001b[0m\u001b[1;33m)\u001b[0m\u001b[1;33m:\u001b[0m\u001b[1;33m\u001b[0m\u001b[1;33m\u001b[0m\u001b[0m\n\u001b[0;32m      2\u001b[0m     \u001b[0mprint\u001b[0m\u001b[1;33m(\u001b[0m\u001b[1;34m'computing required for indifference at delay = {}'\u001b[0m\u001b[1;33m.\u001b[0m\u001b[0mformat\u001b[0m\u001b[1;33m(\u001b[0m\u001b[0mt\u001b[0m\u001b[1;33m)\u001b[0m\u001b[1;33m)\u001b[0m\u001b[1;33m\u001b[0m\u001b[1;33m\u001b[0m\u001b[0m\n\u001b[1;32m----> 3\u001b[1;33m     \u001b[0mr\u001b[0m \u001b[1;33m=\u001b[0m \u001b[0mget_fix_diff_zero\u001b[0m\u001b[1;33m(\u001b[0m\u001b[0mInteger\u001b[0m\u001b[1;33m(\u001b[0m\u001b[1;36m20\u001b[0m\u001b[1;33m)\u001b[0m\u001b[1;33m,\u001b[0m \u001b[0mt\u001b[0m\u001b[1;33m,\u001b[0m \u001b[0mInteger\u001b[0m\u001b[1;33m(\u001b[0m\u001b[1;36m1000\u001b[0m\u001b[1;33m)\u001b[0m\u001b[1;33m,\u001b[0m \u001b[1;32mFalse\u001b[0m\u001b[1;33m)\u001b[0m\u001b[1;33m\u001b[0m\u001b[1;33m\u001b[0m\u001b[0m\n\u001b[0m\u001b[0;32m      4\u001b[0m     \u001b[0mresults\u001b[0m\u001b[1;33m.\u001b[0m\u001b[0mappend\u001b[0m\u001b[1;33m(\u001b[0m\u001b[0mr\u001b[0m\u001b[1;33m)\u001b[0m\u001b[1;33m\u001b[0m\u001b[1;33m\u001b[0m\u001b[0m\n",
      "\u001b[1;32m<ipython-input-311-5d923a5c81f0>\u001b[0m in \u001b[0;36mget_fix_diff_zero\u001b[1;34m(N, age_cutoff, num_runs, verbose)\u001b[0m\n\u001b[0;32m      4\u001b[0m         \u001b[0mprint\u001b[0m\u001b[1;33m(\u001b[0m\u001b[1;34m'Parameters N = {}, delay to LL reward = {}'\u001b[0m\u001b[1;33m.\u001b[0m\u001b[0mformat\u001b[0m\u001b[1;33m(\u001b[0m\u001b[0mN\u001b[0m\u001b[1;33m,\u001b[0m \u001b[0mage_cutoff\u001b[0m\u001b[1;33m)\u001b[0m\u001b[1;33m)\u001b[0m\u001b[1;33m\u001b[0m\u001b[1;33m\u001b[0m\u001b[0m\n\u001b[0;32m      5\u001b[0m \u001b[1;33m\u001b[0m\u001b[0m\n\u001b[1;32m----> 6\u001b[1;33m     \u001b[0mb\u001b[0m \u001b[1;33m=\u001b[0m \u001b[0mfind_upper_limit\u001b[0m\u001b[1;33m(\u001b[0m\u001b[0mN\u001b[0m\u001b[1;33m,\u001b[0m \u001b[0mage_cutoff\u001b[0m\u001b[1;33m,\u001b[0m \u001b[0mnum_runs\u001b[0m\u001b[1;33m,\u001b[0m \u001b[0mverbose\u001b[0m\u001b[1;33m)\u001b[0m\u001b[1;33m\u001b[0m\u001b[1;33m\u001b[0m\u001b[0m\n\u001b[0m\u001b[0;32m      7\u001b[0m     \u001b[1;32mif\u001b[0m \u001b[0mverbose\u001b[0m\u001b[1;33m:\u001b[0m\u001b[1;33m\u001b[0m\u001b[1;33m\u001b[0m\u001b[0m\n\u001b[0;32m      8\u001b[0m         \u001b[0mprint\u001b[0m\u001b[1;33m(\u001b[0m\u001b[1;34m'proceed to find zero on interval [{}, {}]'\u001b[0m\u001b[1;33m.\u001b[0m\u001b[0mformat\u001b[0m\u001b[1;33m(\u001b[0m\u001b[0mb\u001b[0m \u001b[1;33m-\u001b[0m \u001b[0mInteger\u001b[0m\u001b[1;33m(\u001b[0m\u001b[1;36m1\u001b[0m\u001b[1;33m)\u001b[0m\u001b[1;33m,\u001b[0m \u001b[0mb\u001b[0m\u001b[1;33m)\u001b[0m\u001b[1;33m)\u001b[0m\u001b[1;33m\u001b[0m\u001b[1;33m\u001b[0m\u001b[0m\n",
      "\u001b[1;32m<ipython-input-298-6cdaf0f99438>\u001b[0m in \u001b[0;36mfind_upper_limit\u001b[1;34m(N, age_cutoff, num_runs, verbose)\u001b[0m\n\u001b[0;32m      3\u001b[0m     \u001b[1;32mif\u001b[0m \u001b[0mverbose\u001b[0m\u001b[1;33m:\u001b[0m\u001b[1;33m\u001b[0m\u001b[1;33m\u001b[0m\u001b[0m\n\u001b[0;32m      4\u001b[0m         \u001b[0mprint\u001b[0m\u001b[1;33m(\u001b[0m\u001b[1;34m'computing prob difference when beta = 2'\u001b[0m\u001b[1;33m)\u001b[0m\u001b[1;33m\u001b[0m\u001b[1;33m\u001b[0m\u001b[0m\n\u001b[1;32m----> 5\u001b[1;33m     \u001b[0mprob_diff\u001b[0m \u001b[1;33m=\u001b[0m \u001b[0mfix_prob_diff\u001b[0m\u001b[1;33m(\u001b[0m\u001b[0mbeta\u001b[0m\u001b[1;33m,\u001b[0m \u001b[0mN\u001b[0m\u001b[1;33m,\u001b[0m \u001b[0mage_cutoff\u001b[0m\u001b[1;33m,\u001b[0m \u001b[0mnum_runs\u001b[0m\u001b[1;33m)\u001b[0m\u001b[1;33m\u001b[0m\u001b[1;33m\u001b[0m\u001b[0m\n\u001b[0m\u001b[0;32m      6\u001b[0m     \u001b[1;32mif\u001b[0m \u001b[0mverbose\u001b[0m\u001b[1;33m:\u001b[0m\u001b[1;33m\u001b[0m\u001b[1;33m\u001b[0m\u001b[0m\n\u001b[0;32m      7\u001b[0m         \u001b[0mprint\u001b[0m\u001b[1;33m(\u001b[0m\u001b[1;34m'fixation prob difference when beta = 2 is {}'\u001b[0m\u001b[1;33m.\u001b[0m\u001b[0mformat\u001b[0m\u001b[1;33m(\u001b[0m\u001b[0mprob_diff\u001b[0m\u001b[1;33m)\u001b[0m\u001b[1;33m)\u001b[0m\u001b[1;33m\u001b[0m\u001b[1;33m\u001b[0m\u001b[0m\n",
      "\u001b[1;32m<ipython-input-297-3d3a341c48ad>\u001b[0m in \u001b[0;36mfix_prob_diff\u001b[1;34m(beta_fpd, N, age_cutoff, num_runs)\u001b[0m\n\u001b[0;32m      5\u001b[0m \u001b[1;33m\u001b[0m\u001b[0m\n\u001b[0;32m      6\u001b[0m     \u001b[1;31m#compute fixation probabilties\u001b[0m\u001b[1;33m\u001b[0m\u001b[1;33m\u001b[0m\u001b[1;33m\u001b[0m\u001b[0m\n\u001b[1;32m----> 7\u001b[1;33m     \u001b[0mrho_A\u001b[0m \u001b[1;33m=\u001b[0m \u001b[0mfixation_probability\u001b[0m\u001b[1;33m(\u001b[0m\u001b[1;34m'B'\u001b[0m\u001b[1;33m,\u001b[0m \u001b[1;34m'A'\u001b[0m\u001b[1;33m,\u001b[0m \u001b[0mN\u001b[0m\u001b[1;33m,\u001b[0m \u001b[0mage_cutoff\u001b[0m\u001b[1;33m,\u001b[0m \u001b[0mnum_runs\u001b[0m\u001b[1;33m)\u001b[0m\u001b[1;33m\u001b[0m\u001b[1;33m\u001b[0m\u001b[0m\n\u001b[0m\u001b[0;32m      8\u001b[0m     \u001b[0mrho_B\u001b[0m \u001b[1;33m=\u001b[0m \u001b[0mfixation_probability\u001b[0m\u001b[1;33m(\u001b[0m\u001b[1;34m'A'\u001b[0m\u001b[1;33m,\u001b[0m\u001b[1;34m'B'\u001b[0m\u001b[1;33m,\u001b[0m \u001b[0mN\u001b[0m\u001b[1;33m,\u001b[0m \u001b[0mage_cutoff\u001b[0m\u001b[1;33m,\u001b[0m \u001b[0mnum_runs\u001b[0m\u001b[1;33m)\u001b[0m\u001b[1;33m\u001b[0m\u001b[1;33m\u001b[0m\u001b[0m\n\u001b[0;32m      9\u001b[0m \u001b[1;33m\u001b[0m\u001b[0m\n",
      "\u001b[1;32m<ipython-input-296-192a3b372703>\u001b[0m in \u001b[0;36mfixation_probability\u001b[1;34m(res_type, mut_type, N, age_cutoff, num_runs)\u001b[0m\n\u001b[0;32m      3\u001b[0m     \u001b[0mprint\u001b[0m\u001b[1;33m(\u001b[0m\u001b[1;34m'Computing fixation probability of a single {} type in a population of {} types'\u001b[0m\u001b[1;33m.\u001b[0m\u001b[0mformat\u001b[0m\u001b[1;33m(\u001b[0m\u001b[0mmut_type\u001b[0m\u001b[1;33m,\u001b[0m \u001b[0mres_type\u001b[0m\u001b[1;33m)\u001b[0m\u001b[1;33m)\u001b[0m\u001b[1;33m\u001b[0m\u001b[1;33m\u001b[0m\u001b[0m\n\u001b[0;32m      4\u001b[0m     \u001b[1;32mfor\u001b[0m \u001b[0m_\u001b[0m \u001b[1;32min\u001b[0m \u001b[0mtqdm\u001b[0m\u001b[1;33m(\u001b[0m\u001b[0mrange\u001b[0m\u001b[1;33m(\u001b[0m\u001b[0mnum_runs\u001b[0m\u001b[1;33m)\u001b[0m\u001b[1;33m)\u001b[0m\u001b[1;33m:\u001b[0m\u001b[1;33m\u001b[0m\u001b[1;33m\u001b[0m\u001b[0m\n\u001b[1;32m----> 5\u001b[1;33m         \u001b[0mwinner\u001b[0m \u001b[1;33m=\u001b[0m \u001b[0mfixation_process\u001b[0m\u001b[1;33m(\u001b[0m\u001b[0mres_type\u001b[0m\u001b[1;33m,\u001b[0m \u001b[0mmut_type\u001b[0m\u001b[1;33m,\u001b[0m \u001b[0mN\u001b[0m\u001b[1;33m,\u001b[0m \u001b[0mage_cutoff\u001b[0m\u001b[1;33m)\u001b[0m\u001b[1;33m\u001b[0m\u001b[1;33m\u001b[0m\u001b[0m\n\u001b[0m\u001b[0;32m      6\u001b[0m         \u001b[0mwinner_dict\u001b[0m\u001b[1;33m[\u001b[0m\u001b[0mwinner\u001b[0m\u001b[1;33m]\u001b[0m \u001b[1;33m+=\u001b[0m \u001b[0mInteger\u001b[0m\u001b[1;33m(\u001b[0m\u001b[1;36m1\u001b[0m\u001b[1;33m)\u001b[0m\u001b[1;33m\u001b[0m\u001b[1;33m\u001b[0m\u001b[0m\n\u001b[0;32m      7\u001b[0m     \u001b[0mprob\u001b[0m \u001b[1;33m=\u001b[0m \u001b[0mwinner_dict\u001b[0m\u001b[1;33m[\u001b[0m\u001b[0mmut_type\u001b[0m\u001b[1;33m]\u001b[0m\u001b[1;33m/\u001b[0m\u001b[0mnum_runs\u001b[0m\u001b[1;33m.\u001b[0m\u001b[0mn\u001b[0m\u001b[1;33m(\u001b[0m\u001b[1;33m)\u001b[0m\u001b[1;33m\u001b[0m\u001b[1;33m\u001b[0m\u001b[0m\n",
      "\u001b[1;32m<ipython-input-295-06a8749e02d6>\u001b[0m in \u001b[0;36mfixation_process\u001b[1;34m(res_type, mut_type, N, age_cutoff)\u001b[0m\n\u001b[0;32m      2\u001b[0m     \u001b[1;31m#allow resident squirrels to run for a while\u001b[0m\u001b[1;33m\u001b[0m\u001b[1;33m\u001b[0m\u001b[1;33m\u001b[0m\u001b[0m\n\u001b[0;32m      3\u001b[0m     \u001b[0mres_squirrels\u001b[0m \u001b[1;33m=\u001b[0m \u001b[1;33m[\u001b[0m\u001b[0msquirrel_builder\u001b[0m\u001b[1;33m(\u001b[0m\u001b[0mres_type\u001b[0m\u001b[1;33m)\u001b[0m\u001b[1;33m]\u001b[0m\u001b[1;33m*\u001b[0m\u001b[0mN\u001b[0m\u001b[1;33m\u001b[0m\u001b[1;33m\u001b[0m\u001b[0m\n\u001b[1;32m----> 4\u001b[1;33m     \u001b[0mmany_days_of_squirrels\u001b[0m\u001b[1;33m(\u001b[0m\u001b[0mInteger\u001b[0m\u001b[1;33m(\u001b[0m\u001b[1;36m1000\u001b[0m\u001b[1;33m)\u001b[0m\u001b[1;33m,\u001b[0m \u001b[0mres_squirrels\u001b[0m\u001b[1;33m,\u001b[0m \u001b[0mage_cutoff\u001b[0m\u001b[1;33m)\u001b[0m\u001b[1;33m\u001b[0m\u001b[1;33m\u001b[0m\u001b[0m\n\u001b[0m\u001b[0;32m      5\u001b[0m \u001b[1;33m\u001b[0m\u001b[0m\n\u001b[0;32m      6\u001b[0m     \u001b[1;31m#introduce a mutant\u001b[0m\u001b[1;33m\u001b[0m\u001b[1;33m\u001b[0m\u001b[1;33m\u001b[0m\u001b[0m\n",
      "\u001b[1;32m<ipython-input-293-1f73cdba7c6b>\u001b[0m in \u001b[0;36mmany_days_of_squirrels\u001b[1;34m(num_days, squirrels, age_cutoff)\u001b[0m\n\u001b[0;32m     30\u001b[0m \u001b[1;32mdef\u001b[0m \u001b[0mmany_days_of_squirrels\u001b[0m\u001b[1;33m(\u001b[0m\u001b[0mnum_days\u001b[0m\u001b[1;33m,\u001b[0m \u001b[0msquirrels\u001b[0m\u001b[1;33m,\u001b[0m \u001b[0mage_cutoff\u001b[0m \u001b[1;33m=\u001b[0m \u001b[0mInteger\u001b[0m\u001b[1;33m(\u001b[0m\u001b[1;36m0\u001b[0m\u001b[1;33m)\u001b[0m\u001b[1;33m)\u001b[0m\u001b[1;33m:\u001b[0m\u001b[1;33m\u001b[0m\u001b[1;33m\u001b[0m\u001b[0m\n\u001b[0;32m     31\u001b[0m     \u001b[1;32mfor\u001b[0m \u001b[0mt\u001b[0m \u001b[1;32min\u001b[0m \u001b[0mrange\u001b[0m\u001b[1;33m(\u001b[0m\u001b[0mnum_days\u001b[0m\u001b[1;33m)\u001b[0m\u001b[1;33m:\u001b[0m\u001b[1;33m\u001b[0m\u001b[1;33m\u001b[0m\u001b[0m\n\u001b[1;32m---> 32\u001b[1;33m         \u001b[0mday_of_squirrels\u001b[0m\u001b[1;33m(\u001b[0m\u001b[0msquirrels\u001b[0m\u001b[1;33m,\u001b[0m \u001b[0mage_cutoff\u001b[0m\u001b[1;33m)\u001b[0m\u001b[1;33m\u001b[0m\u001b[1;33m\u001b[0m\u001b[0m\n\u001b[0m\u001b[0;32m     33\u001b[0m     \u001b[1;32mreturn\u001b[0m \u001b[0msquirrels\u001b[0m\u001b[1;33m\u001b[0m\u001b[1;33m\u001b[0m\u001b[0m\n\u001b[0;32m     34\u001b[0m \u001b[1;33m\u001b[0m\u001b[0m\n",
      "\u001b[1;32m<ipython-input-293-1f73cdba7c6b>\u001b[0m in \u001b[0;36mday_of_squirrels\u001b[1;34m(squirrels, age_cutoff)\u001b[0m\n\u001b[0;32m     26\u001b[0m     \u001b[0mdeath_squirrel\u001b[0m \u001b[1;33m=\u001b[0m \u001b[0mpick_squirrel_to_die\u001b[0m\u001b[1;33m(\u001b[0m\u001b[0msquirrels\u001b[0m\u001b[1;33m)\u001b[0m\u001b[1;33m\u001b[0m\u001b[1;33m\u001b[0m\u001b[0m\n\u001b[0;32m     27\u001b[0m     \u001b[0mbirth_death_process\u001b[0m\u001b[1;33m(\u001b[0m\u001b[0msquirrels\u001b[0m\u001b[1;33m,\u001b[0m \u001b[0mbirth_squirrel\u001b[0m\u001b[1;33m,\u001b[0m \u001b[0mdeath_squirrel\u001b[0m\u001b[1;33m)\u001b[0m\u001b[1;33m\u001b[0m\u001b[1;33m\u001b[0m\u001b[0m\n\u001b[1;32m---> 28\u001b[1;33m     \u001b[0mincrement_ages\u001b[0m\u001b[1;33m(\u001b[0m\u001b[0msquirrels\u001b[0m\u001b[1;33m)\u001b[0m\u001b[1;33m\u001b[0m\u001b[1;33m\u001b[0m\u001b[0m\n\u001b[0m\u001b[0;32m     29\u001b[0m \u001b[1;33m\u001b[0m\u001b[0m\n\u001b[0;32m     30\u001b[0m \u001b[1;32mdef\u001b[0m \u001b[0mmany_days_of_squirrels\u001b[0m\u001b[1;33m(\u001b[0m\u001b[0mnum_days\u001b[0m\u001b[1;33m,\u001b[0m \u001b[0msquirrels\u001b[0m\u001b[1;33m,\u001b[0m \u001b[0mage_cutoff\u001b[0m \u001b[1;33m=\u001b[0m \u001b[0mInteger\u001b[0m\u001b[1;33m(\u001b[0m\u001b[1;36m0\u001b[0m\u001b[1;33m)\u001b[0m\u001b[1;33m)\u001b[0m\u001b[1;33m:\u001b[0m\u001b[1;33m\u001b[0m\u001b[1;33m\u001b[0m\u001b[0m\n",
      "\u001b[1;32m<ipython-input-293-1f73cdba7c6b>\u001b[0m in \u001b[0;36mincrement_ages\u001b[1;34m(squirrels)\u001b[0m\n\u001b[0;32m     20\u001b[0m \u001b[1;32mdef\u001b[0m \u001b[0mincrement_ages\u001b[0m\u001b[1;33m(\u001b[0m\u001b[0msquirrels\u001b[0m\u001b[1;33m)\u001b[0m\u001b[1;33m:\u001b[0m\u001b[1;33m\u001b[0m\u001b[1;33m\u001b[0m\u001b[0m\n\u001b[0;32m     21\u001b[0m     \u001b[1;32mfor\u001b[0m \u001b[0msquirrel\u001b[0m \u001b[1;32min\u001b[0m \u001b[0msquirrels\u001b[0m\u001b[1;33m:\u001b[0m\u001b[1;33m\u001b[0m\u001b[1;33m\u001b[0m\u001b[0m\n\u001b[1;32m---> 22\u001b[1;33m         \u001b[0msquirrel\u001b[0m\u001b[1;33m[\u001b[0m\u001b[1;34m'age'\u001b[0m\u001b[1;33m]\u001b[0m \u001b[1;33m+=\u001b[0m \u001b[0mInteger\u001b[0m\u001b[1;33m(\u001b[0m\u001b[1;36m1\u001b[0m\u001b[1;33m)\u001b[0m\u001b[1;33m\u001b[0m\u001b[1;33m\u001b[0m\u001b[0m\n\u001b[0m\u001b[0;32m     23\u001b[0m \u001b[1;33m\u001b[0m\u001b[0m\n\u001b[0;32m     24\u001b[0m \u001b[1;32mdef\u001b[0m \u001b[0mday_of_squirrels\u001b[0m\u001b[1;33m(\u001b[0m\u001b[0msquirrels\u001b[0m\u001b[1;33m,\u001b[0m \u001b[0mage_cutoff\u001b[0m \u001b[1;33m=\u001b[0m \u001b[0mInteger\u001b[0m\u001b[1;33m(\u001b[0m\u001b[1;36m0\u001b[0m\u001b[1;33m)\u001b[0m\u001b[1;33m)\u001b[0m\u001b[1;33m:\u001b[0m\u001b[1;33m\u001b[0m\u001b[1;33m\u001b[0m\u001b[0m\n",
      "\u001b[1;32msrc/cysignals/signals.pyx\u001b[0m in \u001b[0;36mcysignals.signals.python_check_interrupt\u001b[1;34m()\u001b[0m\n",
      "\u001b[1;31mKeyboardInterrupt\u001b[0m: "
     ]
    }
   ],
   "source": [
    "results = []\n",
    "\n",
    "for t in tqdm(range(10)):\n",
    "    print('computing required for indifference at delay = {}'.format(t))\n",
    "    r = get_fix_diff_zero(20, t, 1000, False)\n",
    "    print('beta_indifferent = {}'.format(r))\n",
    "    results.append(r)"
   ]
  },
  {
   "cell_type": "code",
   "execution_count": 310,
   "metadata": {},
   "outputs": [],
   "source": [
    "def QuadraticInterpolate(f, t0, t1):\n",
    "    # Find the midpoint between t0 and t1:\n",
    "    t2 = (t0 + t1) / 2\n",
    "\n",
    "    # Evaluate the function at all three points.\n",
    "    print('Computing left endpoint')\n",
    "    f0 = f(t0)\n",
    "    \n",
    "    print('Computing midpoint')\n",
    "    f2 = f(t2)\n",
    "    \n",
    "    print('Computing right endpoint')\n",
    "    f1 = f(t1)\n",
    "\n",
    "    # Compute the coefficients of the parabola p(x) that passes\n",
    "    # through the three points (t0,f0), (t2,f2), (t1,f1).\n",
    "    Q = (f1 + f0)/2 - f2\n",
    "    R = (f1 - f0)/2\n",
    "    S = f2\n",
    "\n",
    "    if Q == 0:\n",
    "        # Special case: the three points are collinear.\n",
    "        if R == 0:\n",
    "            # There is no root because the line is horizontal.\n",
    "            return None\n",
    "        # Solve for the place where the line passes through the x-axis.\n",
    "        x = -S/R\n",
    "        # Is the root within the search interval?\n",
    "        if -1 <= x <= +1:\n",
    "            # Convert x back to the original independent variable t:\n",
    "            t = (t2 - t0)*x + t2\n",
    "            return t\n",
    "        # The x value was outside the search interval.\n",
    "        # Therefore it is not valid.\n",
    "        return None\n",
    "\n",
    "    # The approximation curve is a parabola.\n",
    "    # Calculate the radicand u. Then we can determine\n",
    "    # how many real roots there are.\n",
    "    u = R*R - 4*Q*S\n",
    "\n",
    "    # We require a non-tangent real root.\n",
    "    if u <= 0:\n",
    "        # There are no real roots for the parabolic curve,\n",
    "        # or there is a single tangent root.\n",
    "        return None\n",
    "\n",
    "    ru = sqrt(u)\n",
    "    x1 = (-R + ru) / (2*Q)\n",
    "    x2 = (-R - ru) / (2*Q)\n",
    "\n",
    "    # Form a list of the x values that are within\n",
    "    # the normalized interval [-1, +1].\n",
    "    xlist = [x for x in [x1, x2] if -1 <= x <= +1]\n",
    "\n",
    "    # There must be exactly one real root inside\n",
    "    # the normalized interval in order for the\n",
    "    # solution to be considered valid.\n",
    "    if len(xlist) == 1:\n",
    "        # Translate the normalized parameter x back\n",
    "        # into the independent variable t:\n",
    "        t = (t2 - t0)*xlist[0] + t2\n",
    "        return t\n",
    "\n",
    "    # Either there were no valid roots, or\n",
    "    # there were 2 roots (interval was too large).\n",
    "    return None"
   ]
  },
  {
   "cell_type": "code",
   "execution_count": null,
   "metadata": {},
   "outputs": [],
   "source": []
  },
  {
   "cell_type": "code",
   "execution_count": null,
   "metadata": {},
   "outputs": [],
   "source": []
  }
 ],
 "metadata": {
  "kernelspec": {
   "display_name": "SageMath 9.2",
   "language": "sage",
   "name": "sagemath"
  },
  "language_info": {
   "codemirror_mode": {
    "name": "ipython",
    "version": 3
   },
   "file_extension": ".py",
   "mimetype": "text/x-python",
   "name": "python",
   "nbconvert_exporter": "python",
   "pygments_lexer": "ipython3",
   "version": "3.9.1"
  }
 },
 "nbformat": 4,
 "nbformat_minor": 4
}
