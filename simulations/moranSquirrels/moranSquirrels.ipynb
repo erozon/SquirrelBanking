{
 "cells": [
  {
   "cell_type": "markdown",
   "metadata": {},
   "source": [
    "#### The idea is that we are generalizing Moran processes to allow for squirrels which have fitness that varies in time."
   ]
  },
  {
   "cell_type": "markdown",
   "metadata": {},
   "source": [
    "#### We'll compare the fixation probability of SS-squirrels with LL-squirrels. "
   ]
  },
  {
   "cell_type": "markdown",
   "metadata": {},
   "source": [
    "#### SS-squirrels (type A) have a low but constant fitness. I'll likely normalize this to 1, but let's see..."
   ]
  },
  {
   "cell_type": "markdown",
   "metadata": {},
   "source": [
    "#### LL-squirrels (type B) have 0 fitness for a while and then it jumps up above the fitness of type A."
   ]
  },
  {
   "cell_type": "markdown",
   "metadata": {},
   "source": [
    "#### Everything needed to build squirrels and get their properties..."
   ]
  },
  {
   "cell_type": "code",
   "execution_count": 385,
   "metadata": {},
   "outputs": [
    {
     "name": "stderr",
     "output_type": "stream",
     "text": [
      "Matplotlib is building the font cache; this may take a moment.\n"
     ]
    }
   ],
   "source": [
    "from tqdm.notebook import tqdm\n",
    "import matplotlib.pyplot as plt"
   ]
  },
  {
   "cell_type": "code",
   "execution_count": 346,
   "metadata": {},
   "outputs": [],
   "source": [
    "#def squirrel_builder(t, age = 0):\n",
    "#    return {'type':str(t), 'age':age}\n",
    "\n",
    "#def get_fitness(squirrel, age_cutoff = 0):\n",
    "#    t = squirrel['type']\n",
    "#    age = squirrel['age']\n",
    "#    if age < age_cutoff:\n",
    "#        f = pre_cutoff_fitness_dict[t]\n",
    "#    else:\n",
    "#        f = post_cutoff_fitness_dict[t]\n",
    "#    return f\n",
    "\n",
    "\n",
    "def squirrel_builder(t, beta = 2, age = 0):\n",
    "    if t == 'A':\n",
    "        return {'type':'A', 'age':age}\n",
    "    elif t == 'B':\n",
    "        return {'type':'B', 'age':age, 'beta':beta}\n",
    "    else:\n",
    "        return 'Error!'\n",
    "    \n",
    "def get_fitness(squirrel, age_cutoff = 0):\n",
    "    if squirrel['type'] == 'A':\n",
    "        return 1\n",
    "    elif squirrel['type'] == 'B':\n",
    "        if squirrel['age'] < age_cutoff:\n",
    "            f = 0\n",
    "        else:\n",
    "            f = squirrel['beta']\n",
    "            \n",
    "    return f"
   ]
  },
  {
   "cell_type": "markdown",
   "metadata": {},
   "source": [
    "#### Everything needed for a single birth-death process to occur..."
   ]
  },
  {
   "cell_type": "code",
   "execution_count": 347,
   "metadata": {},
   "outputs": [],
   "source": [
    "def pick_squirrel_to_give_birth(squirrels, age_cutoff = 0):\n",
    "    fitnesses = [ get_fitness(squirrel, age_cutoff) for squirrel in squirrels ]\n",
    "    if fitnesses == [0]*len(squirrels):\n",
    "        fitnesses = [1]*len(squirrels)\n",
    "    birth_rv = GeneralDiscreteDistribution(fitnesses)\n",
    "    birth_squirrel = birth_rv.get_random_element()\n",
    "    return birth_squirrel\n",
    "\n",
    "def pick_squirrel_to_die(squirrels):\n",
    "    N = len(squirrels)\n",
    "    unif_random = GeneralDiscreteDistribution([1/N for _ in range(N)])\n",
    "    death_squirrel = unif_random.get_random_element()\n",
    "    return death_squirrel\n",
    "\n",
    "def birth_death_process(squirrels, birth_squirrel, death_squirrel):\n",
    "    new_squirrel = deepcopy(squirrels[birth_squirrel])\n",
    "    new_squirrel['age'] = -1\n",
    "    squirrels[death_squirrel] = new_squirrel\n",
    "    \n",
    "def increment_ages(squirrels):\n",
    "    for squirrel in squirrels:\n",
    "        squirrel['age'] += 1\n",
    "    \n",
    "def day_of_squirrels(squirrels, age_cutoff = 0):\n",
    "    birth_squirrel = pick_squirrel_to_give_birth(squirrels, age_cutoff)\n",
    "    death_squirrel = pick_squirrel_to_die(squirrels)\n",
    "    birth_death_process(squirrels, birth_squirrel, death_squirrel)\n",
    "    increment_ages(squirrels)\n",
    "    \n",
    "def many_days_of_squirrels(num_days, squirrels, age_cutoff = 0):\n",
    "    for t in range(num_days):\n",
    "        day_of_squirrels(squirrels, age_cutoff)\n",
    "    return squirrels\n",
    "    "
   ]
  },
  {
   "cell_type": "code",
   "execution_count": 348,
   "metadata": {},
   "outputs": [],
   "source": [
    "def of_homogeneous_type(squirrels):\n",
    "    types = [squirrel['type'] for squirrel in squirrels]\n",
    "    types = list(set(types))\n",
    "    num_types = len(types)\n",
    "    if num_types == 1:\n",
    "        return True\n",
    "    else:\n",
    "        return False\n",
    "    \n",
    "def get_homogeneous_type(squirrels):\n",
    "    if not of_homogeneous_type(squirrels):\n",
    "        return 'you have a problem'\n",
    "    else:\n",
    "        return squirrels[0]['type']"
   ]
  },
  {
   "cell_type": "code",
   "execution_count": 349,
   "metadata": {},
   "outputs": [],
   "source": [
    "def fixation_process(beta, res_type, mut_type, N, age_cutoff = 0):\n",
    "    #allow resident squirrels to run for a while\n",
    "    res_squirrels = [squirrel_builder(res_type, beta)]*N\n",
    "    many_days_of_squirrels(1000, res_squirrels, age_cutoff)\n",
    "    \n",
    "    #introduce a mutant\n",
    "    increment_ages(res_squirrels)\n",
    "    squirrels = deepcopy(res_squirrels)\n",
    "    squirrels[0] = squirrel_builder(mut_type)\n",
    "    \n",
    "    #let it run until either fixation or extinction\n",
    "    while not of_homogeneous_type(squirrels):\n",
    "        day_of_squirrels(squirrels, age_cutoff)\n",
    "        \n",
    "    #get type of winner\n",
    "    t = get_homogeneous_type(squirrels)\n",
    "    return t"
   ]
  },
  {
   "cell_type": "code",
   "execution_count": 367,
   "metadata": {},
   "outputs": [],
   "source": [
    "def fixation_probability(beta, res_type, mut_type, N, age_cutoff = 0, num_runs = 1000):\n",
    "    winner_dict = {res_type:0, mut_type:0}\n",
    "    print('Computing fixation probability of a single {} type in a population of {} types'.format(mut_type, res_type))\n",
    "    for _ in tqdm(range(num_runs)):\n",
    "        winner = fixation_process(beta, res_type, mut_type, N, age_cutoff)\n",
    "        winner_dict[winner] += 1\n",
    "    prob = winner_dict[mut_type]/num_runs.n()\n",
    "    print('rho_{} = {}'.format(mut_type, prob))\n",
    "    return prob"
   ]
  },
  {
   "cell_type": "code",
   "execution_count": 372,
   "metadata": {},
   "outputs": [],
   "source": [
    "def fix_prob_diff(beta, N, age_cutoff = 0, num_runs = 1000):\n",
    "    #compute fixation probabilties\n",
    "    rho_A = fixation_probability(beta, 'B', 'A', N, age_cutoff, num_runs)\n",
    "    rho_B = fixation_probability(beta, 'A','B', N, age_cutoff, num_runs)\n",
    "    \n",
    "    #subtract probs and return difference\n",
    "    return rho_A - rho_B"
   ]
  },
  {
   "cell_type": "code",
   "execution_count": 375,
   "metadata": {},
   "outputs": [],
   "source": [
    "def find_upper_limit(N, age_cutoff = 0, num_runs = 1000, verbose = False):\n",
    "    beta = 2\n",
    "    if verbose:\n",
    "        print('computing prob difference when beta = 2')\n",
    "    prob_diff = fix_prob_diff(beta, N, age_cutoff, num_runs)\n",
    "    if verbose:\n",
    "        print('fixation prob difference when beta = 2 is {}'.format(prob_diff))\n",
    "    while prob_diff > 0:\n",
    "        beta += 1\n",
    "        if verbose:\n",
    "            print('checking prob diff when beta = {}'.format(beta))\n",
    "        prob_diff = fix_prob_diff(beta, N, age_cutoff, num_runs)\n",
    "        if verbose:\n",
    "            print('fixation prob difference when beta = {} is {}'.format(beta, prob_diff))\n",
    "    \n",
    "    return(beta)\n",
    "        "
   ]
  },
  {
   "cell_type": "code",
   "execution_count": 376,
   "metadata": {},
   "outputs": [
    {
     "name": "stdout",
     "output_type": "stream",
     "text": [
      "computing prob difference when beta = 2\n",
      "Computing fixation probability of a single A type in a population of B types\n"
     ]
    },
    {
     "data": {
      "application/vnd.jupyter.widget-view+json": {
       "model_id": "f361fb75f1fd4bf5a44c5f8a23777ae6",
       "version_major": 2,
       "version_minor": 0
      },
      "text/plain": [
       "  0%|          | 0/100 [00:00<?, ?it/s]"
      ]
     },
     "metadata": {},
     "output_type": "display_data"
    },
    {
     "name": "stdout",
     "output_type": "stream",
     "text": [
      "rho_A = 0.120000000000000\n",
      "Computing fixation probability of a single B type in a population of A types\n"
     ]
    },
    {
     "data": {
      "application/vnd.jupyter.widget-view+json": {
       "model_id": "102c0b3d1ce84489a8aeba72d190e72e",
       "version_major": 2,
       "version_minor": 0
      },
      "text/plain": [
       "  0%|          | 0/100 [00:00<?, ?it/s]"
      ]
     },
     "metadata": {},
     "output_type": "display_data"
    },
    {
     "name": "stdout",
     "output_type": "stream",
     "text": [
      "rho_B = 0.170000000000000\n",
      "fixation prob difference when beta = 2 is -0.0500000000000000\n"
     ]
    },
    {
     "data": {
      "text/plain": [
       "2"
      ]
     },
     "execution_count": 376,
     "metadata": {},
     "output_type": "execute_result"
    }
   ],
   "source": [
    "find_upper_limit(5, age_cutoff = 2, num_runs = 100, verbose = True)"
   ]
  },
  {
   "cell_type": "markdown",
   "metadata": {},
   "source": [
    "#### There is a slight issue. With a small N and a large delay to the LL fitness, squirrels v likely die before they get enough of a foothold in society to take over. This can be fixed by picking a large N. "
   ]
  },
  {
   "cell_type": "code",
   "execution_count": 377,
   "metadata": {},
   "outputs": [],
   "source": [
    "def get_fix_diff_zero(N, age_cutoff = 0, num_runs = 1000, verbose = False):\n",
    "    if verbose:\n",
    "        print('Looking for the beta value for which rho_A = rho_B')\n",
    "        print('Parameters N = {}, delay to LL reward = {}'.format(N, age_cutoff))  \n",
    "        \n",
    "    b = find_upper_limit(N, age_cutoff, num_runs, verbose)\n",
    "    if verbose:\n",
    "        print('proceed to find zero on interval [{}, {}]'.format(b - 1, b))\n",
    "        \n",
    "    def f(beta):\n",
    "        return fix_prob_diff(beta, N, age_cutoff, num_runs)\n",
    "    \n",
    "    beta_equal_fitness = QuadraticInterpolate(f, b-1, b)\n",
    "    return beta_equal_fitness"
   ]
  },
  {
   "cell_type": "code",
   "execution_count": 380,
   "metadata": {},
   "outputs": [
    {
     "name": "stdout",
     "output_type": "stream",
     "text": [
      "Looking for the beta value for which rho_A = rho_B\n",
      "Parameters N = 5, delay to LL reward = 2\n",
      "computing prob difference when beta = 2\n",
      "Computing fixation probability of a single A type in a population of B types\n"
     ]
    },
    {
     "data": {
      "application/vnd.jupyter.widget-view+json": {
       "model_id": "1d2da55f4dab41b5b70bfa68d91f2ca0",
       "version_major": 2,
       "version_minor": 0
      },
      "text/plain": [
       "  0%|          | 0/1000 [00:00<?, ?it/s]"
      ]
     },
     "metadata": {},
     "output_type": "display_data"
    },
    {
     "name": "stdout",
     "output_type": "stream",
     "text": [
      "rho_A = 0.103000000000000\n",
      "Computing fixation probability of a single B type in a population of A types\n"
     ]
    },
    {
     "data": {
      "application/vnd.jupyter.widget-view+json": {
       "model_id": "480fca396f174e29b3f3f67fd7062405",
       "version_major": 2,
       "version_minor": 0
      },
      "text/plain": [
       "  0%|          | 0/1000 [00:00<?, ?it/s]"
      ]
     },
     "metadata": {},
     "output_type": "display_data"
    },
    {
     "name": "stdout",
     "output_type": "stream",
     "text": [
      "rho_B = 0.182000000000000\n",
      "fixation prob difference when beta = 2 is -0.0790000000000000\n",
      "proceed to find zero on interval [1, 2]\n",
      "Computing left endpoint\n",
      "Computing fixation probability of a single A type in a population of B types\n"
     ]
    },
    {
     "data": {
      "application/vnd.jupyter.widget-view+json": {
       "model_id": "f4ed2de9dea143f38c934d31bf68661b",
       "version_major": 2,
       "version_minor": 0
      },
      "text/plain": [
       "  0%|          | 0/1000 [00:00<?, ?it/s]"
      ]
     },
     "metadata": {},
     "output_type": "display_data"
    },
    {
     "name": "stdout",
     "output_type": "stream",
     "text": [
      "rho_A = 0.364000000000000\n",
      "Computing fixation probability of a single B type in a population of A types\n"
     ]
    },
    {
     "data": {
      "application/vnd.jupyter.widget-view+json": {
       "model_id": "d21a5310544f4da1ad974c3c7d2aaea2",
       "version_major": 2,
       "version_minor": 0
      },
      "text/plain": [
       "  0%|          | 0/1000 [00:00<?, ?it/s]"
      ]
     },
     "metadata": {},
     "output_type": "display_data"
    },
    {
     "name": "stdout",
     "output_type": "stream",
     "text": [
      "rho_B = 0.204000000000000\n",
      "Computing midpoint\n",
      "Computing fixation probability of a single A type in a population of B types\n"
     ]
    },
    {
     "data": {
      "application/vnd.jupyter.widget-view+json": {
       "model_id": "2c81e0e84130467b90631dc1858c92d0",
       "version_major": 2,
       "version_minor": 0
      },
      "text/plain": [
       "  0%|          | 0/1000 [00:00<?, ?it/s]"
      ]
     },
     "metadata": {},
     "output_type": "display_data"
    },
    {
     "name": "stdout",
     "output_type": "stream",
     "text": [
      "rho_A = 0.204000000000000\n",
      "Computing fixation probability of a single B type in a population of A types\n"
     ]
    },
    {
     "data": {
      "application/vnd.jupyter.widget-view+json": {
       "model_id": "0adbf085397a44aaa6c833735b9b4dfd",
       "version_major": 2,
       "version_minor": 0
      },
      "text/plain": [
       "  0%|          | 0/1000 [00:00<?, ?it/s]"
      ]
     },
     "metadata": {},
     "output_type": "display_data"
    },
    {
     "name": "stdout",
     "output_type": "stream",
     "text": [
      "rho_B = 0.218000000000000\n",
      "Computing right endpoint\n",
      "Computing fixation probability of a single A type in a population of B types\n"
     ]
    },
    {
     "data": {
      "application/vnd.jupyter.widget-view+json": {
       "model_id": "9e8ec690097243fe8fbdb7f9485f60e2",
       "version_major": 2,
       "version_minor": 0
      },
      "text/plain": [
       "  0%|          | 0/1000 [00:00<?, ?it/s]"
      ]
     },
     "metadata": {},
     "output_type": "display_data"
    },
    {
     "name": "stdout",
     "output_type": "stream",
     "text": [
      "rho_A = 0.110000000000000\n",
      "Computing fixation probability of a single B type in a population of A types\n"
     ]
    },
    {
     "data": {
      "application/vnd.jupyter.widget-view+json": {
       "model_id": "92298dc51c054d7d933bc0d4985e0ef1",
       "version_major": 2,
       "version_minor": 0
      },
      "text/plain": [
       "  0%|          | 0/1000 [00:00<?, ?it/s]"
      ]
     },
     "metadata": {},
     "output_type": "display_data"
    },
    {
     "name": "stdout",
     "output_type": "stream",
     "text": [
      "rho_B = 0.205000000000000\n"
     ]
    },
    {
     "data": {
      "text/plain": [
       "1.44713642256610"
      ]
     },
     "execution_count": 380,
     "metadata": {},
     "output_type": "execute_result"
    }
   ],
   "source": [
    "get_fix_diff_zero(5, 2, 1000, True)"
   ]
  },
  {
   "cell_type": "code",
   "execution_count": 381,
   "metadata": {},
   "outputs": [
    {
     "name": "stdout",
     "output_type": "stream",
     "text": [
      "doing round 0\n",
      "Looking for the beta value for which rho_A = rho_B\n",
      "Parameters N = 5, delay to LL reward = 2\n",
      "computing prob difference when beta = 2\n",
      "Computing fixation probability of a single A type in a population of B types\n"
     ]
    },
    {
     "data": {
      "application/vnd.jupyter.widget-view+json": {
       "model_id": "f342be19520249d5849f349f219452e2",
       "version_major": 2,
       "version_minor": 0
      },
      "text/plain": [
       "  0%|          | 0/1000 [00:00<?, ?it/s]"
      ]
     },
     "metadata": {},
     "output_type": "display_data"
    },
    {
     "name": "stdout",
     "output_type": "stream",
     "text": [
      "rho_A = 0.118000000000000\n",
      "Computing fixation probability of a single B type in a population of A types\n"
     ]
    },
    {
     "data": {
      "application/vnd.jupyter.widget-view+json": {
       "model_id": "1f6ff8d44ffd42b89609dcdf8a403c1a",
       "version_major": 2,
       "version_minor": 0
      },
      "text/plain": [
       "  0%|          | 0/1000 [00:00<?, ?it/s]"
      ]
     },
     "metadata": {},
     "output_type": "display_data"
    },
    {
     "name": "stdout",
     "output_type": "stream",
     "text": [
      "rho_B = 0.218000000000000\n",
      "fixation prob difference when beta = 2 is -0.100000000000000\n",
      "proceed to find zero on interval [1, 2]\n",
      "Computing left endpoint\n",
      "Computing fixation probability of a single A type in a population of B types\n"
     ]
    },
    {
     "data": {
      "application/vnd.jupyter.widget-view+json": {
       "model_id": "efb301a03057490982d81df37509d044",
       "version_major": 2,
       "version_minor": 0
      },
      "text/plain": [
       "  0%|          | 0/1000 [00:00<?, ?it/s]"
      ]
     },
     "metadata": {},
     "output_type": "display_data"
    },
    {
     "name": "stdout",
     "output_type": "stream",
     "text": [
      "rho_A = 0.341000000000000\n",
      "Computing fixation probability of a single B type in a population of A types\n"
     ]
    },
    {
     "data": {
      "application/vnd.jupyter.widget-view+json": {
       "model_id": "b69d4d7215664b98bec2e4c2fa4c74d0",
       "version_major": 2,
       "version_minor": 0
      },
      "text/plain": [
       "  0%|          | 0/1000 [00:00<?, ?it/s]"
      ]
     },
     "metadata": {},
     "output_type": "display_data"
    },
    {
     "name": "stdout",
     "output_type": "stream",
     "text": [
      "rho_B = 0.192000000000000\n",
      "Computing midpoint\n",
      "Computing fixation probability of a single A type in a population of B types\n"
     ]
    },
    {
     "data": {
      "application/vnd.jupyter.widget-view+json": {
       "model_id": "b793f82d071b40a194dc5e27809f75ac",
       "version_major": 2,
       "version_minor": 0
      },
      "text/plain": [
       "  0%|          | 0/1000 [00:00<?, ?it/s]"
      ]
     },
     "metadata": {},
     "output_type": "display_data"
    },
    {
     "name": "stdout",
     "output_type": "stream",
     "text": [
      "rho_A = 0.204000000000000\n",
      "Computing fixation probability of a single B type in a population of A types\n"
     ]
    },
    {
     "data": {
      "application/vnd.jupyter.widget-view+json": {
       "model_id": "3f2a0cbb105d4e868a405d45ec0b1731",
       "version_major": 2,
       "version_minor": 0
      },
      "text/plain": [
       "  0%|          | 0/1000 [00:00<?, ?it/s]"
      ]
     },
     "metadata": {},
     "output_type": "display_data"
    },
    {
     "name": "stdout",
     "output_type": "stream",
     "text": [
      "rho_B = 0.206000000000000\n",
      "Computing right endpoint\n",
      "Computing fixation probability of a single A type in a population of B types\n"
     ]
    },
    {
     "data": {
      "application/vnd.jupyter.widget-view+json": {
       "model_id": "c475c31c6b3e4f988c3592814204af6c",
       "version_major": 2,
       "version_minor": 0
      },
      "text/plain": [
       "  0%|          | 0/1000 [00:00<?, ?it/s]"
      ]
     },
     "metadata": {},
     "output_type": "display_data"
    },
    {
     "name": "stdout",
     "output_type": "stream",
     "text": [
      "rho_A = 0.0990000000000000\n",
      "Computing fixation probability of a single B type in a population of A types\n"
     ]
    },
    {
     "data": {
      "application/vnd.jupyter.widget-view+json": {
       "model_id": "22ffa26b4ec043f494bbd6e0908411ef",
       "version_major": 2,
       "version_minor": 0
      },
      "text/plain": [
       "  0%|          | 0/1000 [00:00<?, ?it/s]"
      ]
     },
     "metadata": {},
     "output_type": "display_data"
    },
    {
     "name": "stdout",
     "output_type": "stream",
     "text": [
      "rho_B = 0.176000000000000\n",
      "doing round 1\n",
      "Looking for the beta value for which rho_A = rho_B\n",
      "Parameters N = 5, delay to LL reward = 2\n",
      "computing prob difference when beta = 2\n",
      "Computing fixation probability of a single A type in a population of B types\n"
     ]
    },
    {
     "data": {
      "application/vnd.jupyter.widget-view+json": {
       "model_id": "15ae3134fb324aa99d12890289466a65",
       "version_major": 2,
       "version_minor": 0
      },
      "text/plain": [
       "  0%|          | 0/1000 [00:00<?, ?it/s]"
      ]
     },
     "metadata": {},
     "output_type": "display_data"
    },
    {
     "name": "stdout",
     "output_type": "stream",
     "text": [
      "rho_A = 0.124000000000000\n",
      "Computing fixation probability of a single B type in a population of A types\n"
     ]
    },
    {
     "data": {
      "application/vnd.jupyter.widget-view+json": {
       "model_id": "431e6f2736984ebeb241eececccea57d",
       "version_major": 2,
       "version_minor": 0
      },
      "text/plain": [
       "  0%|          | 0/1000 [00:00<?, ?it/s]"
      ]
     },
     "metadata": {},
     "output_type": "display_data"
    },
    {
     "name": "stdout",
     "output_type": "stream",
     "text": [
      "rho_B = 0.207000000000000\n",
      "fixation prob difference when beta = 2 is -0.0830000000000000\n",
      "proceed to find zero on interval [1, 2]\n",
      "Computing left endpoint\n",
      "Computing fixation probability of a single A type in a population of B types\n"
     ]
    },
    {
     "data": {
      "application/vnd.jupyter.widget-view+json": {
       "model_id": "6ba34ba9e4044c7cb16c0bd76d8cf75d",
       "version_major": 2,
       "version_minor": 0
      },
      "text/plain": [
       "  0%|          | 0/1000 [00:00<?, ?it/s]"
      ]
     },
     "metadata": {},
     "output_type": "display_data"
    },
    {
     "name": "stdout",
     "output_type": "stream",
     "text": [
      "rho_A = 0.382000000000000\n",
      "Computing fixation probability of a single B type in a population of A types\n"
     ]
    },
    {
     "data": {
      "application/vnd.jupyter.widget-view+json": {
       "model_id": "063bdf3358b24b09a5604d395488d9fd",
       "version_major": 2,
       "version_minor": 0
      },
      "text/plain": [
       "  0%|          | 0/1000 [00:00<?, ?it/s]"
      ]
     },
     "metadata": {},
     "output_type": "display_data"
    },
    {
     "name": "stdout",
     "output_type": "stream",
     "text": [
      "rho_B = 0.217000000000000\n",
      "Computing midpoint\n",
      "Computing fixation probability of a single A type in a population of B types\n"
     ]
    },
    {
     "data": {
      "application/vnd.jupyter.widget-view+json": {
       "model_id": "4a83141f574047e68c87c4842f075754",
       "version_major": 2,
       "version_minor": 0
      },
      "text/plain": [
       "  0%|          | 0/1000 [00:00<?, ?it/s]"
      ]
     },
     "metadata": {},
     "output_type": "display_data"
    },
    {
     "name": "stdout",
     "output_type": "stream",
     "text": [
      "rho_A = 0.186000000000000\n",
      "Computing fixation probability of a single B type in a population of A types\n"
     ]
    },
    {
     "data": {
      "application/vnd.jupyter.widget-view+json": {
       "model_id": "a8088793fd0f468fac5021825456143c",
       "version_major": 2,
       "version_minor": 0
      },
      "text/plain": [
       "  0%|          | 0/1000 [00:00<?, ?it/s]"
      ]
     },
     "metadata": {},
     "output_type": "display_data"
    },
    {
     "name": "stdout",
     "output_type": "stream",
     "text": [
      "rho_B = 0.198000000000000\n",
      "Computing right endpoint\n",
      "Computing fixation probability of a single A type in a population of B types\n"
     ]
    },
    {
     "data": {
      "application/vnd.jupyter.widget-view+json": {
       "model_id": "8540faa864964305b4229bd39703aeaf",
       "version_major": 2,
       "version_minor": 0
      },
      "text/plain": [
       "  0%|          | 0/1000 [00:00<?, ?it/s]"
      ]
     },
     "metadata": {},
     "output_type": "display_data"
    },
    {
     "name": "stdout",
     "output_type": "stream",
     "text": [
      "rho_A = 0.115000000000000\n",
      "Computing fixation probability of a single B type in a population of A types\n"
     ]
    },
    {
     "data": {
      "application/vnd.jupyter.widget-view+json": {
       "model_id": "ff21e319717f477a8d59c7a256179053",
       "version_major": 2,
       "version_minor": 0
      },
      "text/plain": [
       "  0%|          | 0/1000 [00:00<?, ?it/s]"
      ]
     },
     "metadata": {},
     "output_type": "display_data"
    },
    {
     "name": "stdout",
     "output_type": "stream",
     "text": [
      "rho_B = 0.207000000000000\n",
      "doing round 2\n",
      "Looking for the beta value for which rho_A = rho_B\n",
      "Parameters N = 5, delay to LL reward = 2\n",
      "computing prob difference when beta = 2\n",
      "Computing fixation probability of a single A type in a population of B types\n"
     ]
    },
    {
     "data": {
      "application/vnd.jupyter.widget-view+json": {
       "model_id": "4012ed63314c4e9f9767e4c41e6aa0cd",
       "version_major": 2,
       "version_minor": 0
      },
      "text/plain": [
       "  0%|          | 0/1000 [00:00<?, ?it/s]"
      ]
     },
     "metadata": {},
     "output_type": "display_data"
    },
    {
     "name": "stdout",
     "output_type": "stream",
     "text": [
      "rho_A = 0.101000000000000\n",
      "Computing fixation probability of a single B type in a population of A types\n"
     ]
    },
    {
     "data": {
      "application/vnd.jupyter.widget-view+json": {
       "model_id": "fc07a1b5a33d4e94ab2a12a685ed199e",
       "version_major": 2,
       "version_minor": 0
      },
      "text/plain": [
       "  0%|          | 0/1000 [00:00<?, ?it/s]"
      ]
     },
     "metadata": {},
     "output_type": "display_data"
    },
    {
     "name": "stdout",
     "output_type": "stream",
     "text": [
      "rho_B = 0.203000000000000\n",
      "fixation prob difference when beta = 2 is -0.102000000000000\n",
      "proceed to find zero on interval [1, 2]\n",
      "Computing left endpoint\n",
      "Computing fixation probability of a single A type in a population of B types\n"
     ]
    },
    {
     "data": {
      "application/vnd.jupyter.widget-view+json": {
       "model_id": "28791bc5e72644b8a74ea42a921863f8",
       "version_major": 2,
       "version_minor": 0
      },
      "text/plain": [
       "  0%|          | 0/1000 [00:00<?, ?it/s]"
      ]
     },
     "metadata": {},
     "output_type": "display_data"
    },
    {
     "name": "stdout",
     "output_type": "stream",
     "text": [
      "rho_A = 0.379000000000000\n",
      "Computing fixation probability of a single B type in a population of A types\n"
     ]
    },
    {
     "data": {
      "application/vnd.jupyter.widget-view+json": {
       "model_id": "6a667cd002954b5fb0e11229b13ce89f",
       "version_major": 2,
       "version_minor": 0
      },
      "text/plain": [
       "  0%|          | 0/1000 [00:00<?, ?it/s]"
      ]
     },
     "metadata": {},
     "output_type": "display_data"
    },
    {
     "name": "stdout",
     "output_type": "stream",
     "text": [
      "rho_B = 0.210000000000000\n",
      "Computing midpoint\n",
      "Computing fixation probability of a single A type in a population of B types\n"
     ]
    },
    {
     "data": {
      "application/vnd.jupyter.widget-view+json": {
       "model_id": "bcb742f822084e30be89b06c19260486",
       "version_major": 2,
       "version_minor": 0
      },
      "text/plain": [
       "  0%|          | 0/1000 [00:00<?, ?it/s]"
      ]
     },
     "metadata": {},
     "output_type": "display_data"
    },
    {
     "name": "stdout",
     "output_type": "stream",
     "text": [
      "rho_A = 0.206000000000000\n",
      "Computing fixation probability of a single B type in a population of A types\n"
     ]
    },
    {
     "data": {
      "application/vnd.jupyter.widget-view+json": {
       "model_id": "df52602035ee40f5b7bf602d464cfd84",
       "version_major": 2,
       "version_minor": 0
      },
      "text/plain": [
       "  0%|          | 0/1000 [00:00<?, ?it/s]"
      ]
     },
     "metadata": {},
     "output_type": "display_data"
    },
    {
     "name": "stdout",
     "output_type": "stream",
     "text": [
      "rho_B = 0.205000000000000\n",
      "Computing right endpoint\n",
      "Computing fixation probability of a single A type in a population of B types\n"
     ]
    },
    {
     "data": {
      "application/vnd.jupyter.widget-view+json": {
       "model_id": "da6e11b963774edba57532639f4130a0",
       "version_major": 2,
       "version_minor": 0
      },
      "text/plain": [
       "  0%|          | 0/1000 [00:00<?, ?it/s]"
      ]
     },
     "metadata": {},
     "output_type": "display_data"
    },
    {
     "name": "stdout",
     "output_type": "stream",
     "text": [
      "rho_A = 0.100000000000000\n",
      "Computing fixation probability of a single B type in a population of A types\n"
     ]
    },
    {
     "data": {
      "application/vnd.jupyter.widget-view+json": {
       "model_id": "4052cf1c3f0e44f4a7413e8be1504a10",
       "version_major": 2,
       "version_minor": 0
      },
      "text/plain": [
       "  0%|          | 0/1000 [00:00<?, ?it/s]"
      ]
     },
     "metadata": {},
     "output_type": "display_data"
    },
    {
     "name": "stdout",
     "output_type": "stream",
     "text": [
      "rho_B = 0.205000000000000\n",
      "doing round 3\n",
      "Looking for the beta value for which rho_A = rho_B\n",
      "Parameters N = 5, delay to LL reward = 2\n",
      "computing prob difference when beta = 2\n",
      "Computing fixation probability of a single A type in a population of B types\n"
     ]
    },
    {
     "data": {
      "application/vnd.jupyter.widget-view+json": {
       "model_id": "8b372bbaa9194133819eb06add90f890",
       "version_major": 2,
       "version_minor": 0
      },
      "text/plain": [
       "  0%|          | 0/1000 [00:00<?, ?it/s]"
      ]
     },
     "metadata": {},
     "output_type": "display_data"
    },
    {
     "name": "stdout",
     "output_type": "stream",
     "text": [
      "rho_A = 0.120000000000000\n",
      "Computing fixation probability of a single B type in a population of A types\n"
     ]
    },
    {
     "data": {
      "application/vnd.jupyter.widget-view+json": {
       "model_id": "4c028dac518746ee90ffced56c143294",
       "version_major": 2,
       "version_minor": 0
      },
      "text/plain": [
       "  0%|          | 0/1000 [00:00<?, ?it/s]"
      ]
     },
     "metadata": {},
     "output_type": "display_data"
    },
    {
     "name": "stdout",
     "output_type": "stream",
     "text": [
      "rho_B = 0.182000000000000\n",
      "fixation prob difference when beta = 2 is -0.0620000000000000\n",
      "proceed to find zero on interval [1, 2]\n",
      "Computing left endpoint\n",
      "Computing fixation probability of a single A type in a population of B types\n"
     ]
    },
    {
     "data": {
      "application/vnd.jupyter.widget-view+json": {
       "model_id": "170e6db0712c4ce391ce093b30381125",
       "version_major": 2,
       "version_minor": 0
      },
      "text/plain": [
       "  0%|          | 0/1000 [00:00<?, ?it/s]"
      ]
     },
     "metadata": {},
     "output_type": "display_data"
    },
    {
     "name": "stdout",
     "output_type": "stream",
     "text": [
      "rho_A = 0.373000000000000\n",
      "Computing fixation probability of a single B type in a population of A types\n"
     ]
    },
    {
     "data": {
      "application/vnd.jupyter.widget-view+json": {
       "model_id": "8bca2ec7275c4db3af10c204e0dfdc2a",
       "version_major": 2,
       "version_minor": 0
      },
      "text/plain": [
       "  0%|          | 0/1000 [00:00<?, ?it/s]"
      ]
     },
     "metadata": {},
     "output_type": "display_data"
    },
    {
     "name": "stdout",
     "output_type": "stream",
     "text": [
      "rho_B = 0.187000000000000\n",
      "Computing midpoint\n",
      "Computing fixation probability of a single A type in a population of B types\n"
     ]
    },
    {
     "data": {
      "application/vnd.jupyter.widget-view+json": {
       "model_id": "c42553ca94494307a126de4d6db2b1f4",
       "version_major": 2,
       "version_minor": 0
      },
      "text/plain": [
       "  0%|          | 0/1000 [00:00<?, ?it/s]"
      ]
     },
     "metadata": {},
     "output_type": "display_data"
    },
    {
     "name": "stdout",
     "output_type": "stream",
     "text": [
      "rho_A = 0.199000000000000\n",
      "Computing fixation probability of a single B type in a population of A types\n"
     ]
    },
    {
     "data": {
      "application/vnd.jupyter.widget-view+json": {
       "model_id": "92e46c85fab6406abd1a0dff72f03b91",
       "version_major": 2,
       "version_minor": 0
      },
      "text/plain": [
       "  0%|          | 0/1000 [00:00<?, ?it/s]"
      ]
     },
     "metadata": {},
     "output_type": "display_data"
    },
    {
     "name": "stdout",
     "output_type": "stream",
     "text": [
      "rho_B = 0.217000000000000\n",
      "Computing right endpoint\n",
      "Computing fixation probability of a single A type in a population of B types\n"
     ]
    },
    {
     "data": {
      "application/vnd.jupyter.widget-view+json": {
       "model_id": "48fda29a0f3b4c7386b7bb15c4058434",
       "version_major": 2,
       "version_minor": 0
      },
      "text/plain": [
       "  0%|          | 0/1000 [00:00<?, ?it/s]"
      ]
     },
     "metadata": {},
     "output_type": "display_data"
    },
    {
     "name": "stdout",
     "output_type": "stream",
     "text": [
      "rho_A = 0.119000000000000\n",
      "Computing fixation probability of a single B type in a population of A types\n"
     ]
    },
    {
     "data": {
      "application/vnd.jupyter.widget-view+json": {
       "model_id": "baa7878537bd45518a24b9f6982e6436",
       "version_major": 2,
       "version_minor": 0
      },
      "text/plain": [
       "  0%|          | 0/1000 [00:00<?, ?it/s]"
      ]
     },
     "metadata": {},
     "output_type": "display_data"
    },
    {
     "name": "stdout",
     "output_type": "stream",
     "text": [
      "rho_B = 0.216000000000000\n",
      "doing round 4\n",
      "Looking for the beta value for which rho_A = rho_B\n",
      "Parameters N = 5, delay to LL reward = 2\n",
      "computing prob difference when beta = 2\n",
      "Computing fixation probability of a single A type in a population of B types\n"
     ]
    },
    {
     "data": {
      "application/vnd.jupyter.widget-view+json": {
       "model_id": "90f3464f415842b68b42f04dd7eec386",
       "version_major": 2,
       "version_minor": 0
      },
      "text/plain": [
       "  0%|          | 0/1000 [00:00<?, ?it/s]"
      ]
     },
     "metadata": {},
     "output_type": "display_data"
    },
    {
     "name": "stdout",
     "output_type": "stream",
     "text": [
      "rho_A = 0.119000000000000\n",
      "Computing fixation probability of a single B type in a population of A types\n"
     ]
    },
    {
     "data": {
      "application/vnd.jupyter.widget-view+json": {
       "model_id": "61bbdaa1645742bc8d2822719fb598a3",
       "version_major": 2,
       "version_minor": 0
      },
      "text/plain": [
       "  0%|          | 0/1000 [00:00<?, ?it/s]"
      ]
     },
     "metadata": {},
     "output_type": "display_data"
    },
    {
     "name": "stdout",
     "output_type": "stream",
     "text": [
      "rho_B = 0.210000000000000\n",
      "fixation prob difference when beta = 2 is -0.0910000000000000\n",
      "proceed to find zero on interval [1, 2]\n",
      "Computing left endpoint\n",
      "Computing fixation probability of a single A type in a population of B types\n"
     ]
    },
    {
     "data": {
      "application/vnd.jupyter.widget-view+json": {
       "model_id": "a17e59aeaa2c4017adc9ee14683f9d76",
       "version_major": 2,
       "version_minor": 0
      },
      "text/plain": [
       "  0%|          | 0/1000 [00:00<?, ?it/s]"
      ]
     },
     "metadata": {},
     "output_type": "display_data"
    },
    {
     "name": "stdout",
     "output_type": "stream",
     "text": [
      "rho_A = 0.391000000000000\n",
      "Computing fixation probability of a single B type in a population of A types\n"
     ]
    },
    {
     "data": {
      "application/vnd.jupyter.widget-view+json": {
       "model_id": "274ee5bf8bf64c6e89abadb1151c7a85",
       "version_major": 2,
       "version_minor": 0
      },
      "text/plain": [
       "  0%|          | 0/1000 [00:00<?, ?it/s]"
      ]
     },
     "metadata": {},
     "output_type": "display_data"
    },
    {
     "name": "stdout",
     "output_type": "stream",
     "text": [
      "rho_B = 0.183000000000000\n",
      "Computing midpoint\n",
      "Computing fixation probability of a single A type in a population of B types\n"
     ]
    },
    {
     "data": {
      "application/vnd.jupyter.widget-view+json": {
       "model_id": "4769bdc367684a91b58b2f628c0b0112",
       "version_major": 2,
       "version_minor": 0
      },
      "text/plain": [
       "  0%|          | 0/1000 [00:00<?, ?it/s]"
      ]
     },
     "metadata": {},
     "output_type": "display_data"
    },
    {
     "name": "stdout",
     "output_type": "stream",
     "text": [
      "rho_A = 0.245000000000000\n",
      "Computing fixation probability of a single B type in a population of A types\n"
     ]
    },
    {
     "data": {
      "application/vnd.jupyter.widget-view+json": {
       "model_id": "59dbaf99607c4097b1f592559a75758f",
       "version_major": 2,
       "version_minor": 0
      },
      "text/plain": [
       "  0%|          | 0/1000 [00:00<?, ?it/s]"
      ]
     },
     "metadata": {},
     "output_type": "display_data"
    },
    {
     "name": "stdout",
     "output_type": "stream",
     "text": [
      "rho_B = 0.220000000000000\n",
      "Computing right endpoint\n",
      "Computing fixation probability of a single A type in a population of B types\n"
     ]
    },
    {
     "data": {
      "application/vnd.jupyter.widget-view+json": {
       "model_id": "3dd04d4a30904b368a3aab9681c78213",
       "version_major": 2,
       "version_minor": 0
      },
      "text/plain": [
       "  0%|          | 0/1000 [00:00<?, ?it/s]"
      ]
     },
     "metadata": {},
     "output_type": "display_data"
    },
    {
     "name": "stdout",
     "output_type": "stream",
     "text": [
      "rho_A = 0.117000000000000\n",
      "Computing fixation probability of a single B type in a population of A types\n"
     ]
    },
    {
     "data": {
      "application/vnd.jupyter.widget-view+json": {
       "model_id": "0934e74d888c4920af049de072309807",
       "version_major": 2,
       "version_minor": 0
      },
      "text/plain": [
       "  0%|          | 0/1000 [00:00<?, ?it/s]"
      ]
     },
     "metadata": {},
     "output_type": "display_data"
    },
    {
     "name": "stdout",
     "output_type": "stream",
     "text": [
      "rho_B = 0.194000000000000\n"
     ]
    }
   ],
   "source": [
    "results = []\n",
    "\n",
    "for i in range(5):\n",
    "    print('doing round {}'.format(i))\n",
    "    r = get_fix_diff_zero(5, 2, 1000, True)\n",
    "    results.append(r)"
   ]
  },
  {
   "cell_type": "code",
   "execution_count": 382,
   "metadata": {},
   "outputs": [
    {
     "data": {
      "text/plain": [
       "[1.49120249647075,\n",
       " 1.45484644237597,\n",
       " 1.50365568298629,\n",
       " 1.43961673074706,\n",
       " 1.59259259259259]"
      ]
     },
     "execution_count": 382,
     "metadata": {},
     "output_type": "execute_result"
    }
   ],
   "source": [
    "results"
   ]
  },
  {
   "cell_type": "code",
   "execution_count": 383,
   "metadata": {},
   "outputs": [
    {
     "data": {
      "application/vnd.jupyter.widget-view+json": {
       "model_id": "6cc39013817f479994a827ca745b46bf",
       "version_major": 2,
       "version_minor": 0
      },
      "text/plain": [
       "  0%|          | 0/10 [00:00<?, ?it/s]"
      ]
     },
     "metadata": {},
     "output_type": "display_data"
    },
    {
     "name": "stdout",
     "output_type": "stream",
     "text": [
      "computing required for indifference at delay = 0\n",
      "Computing fixation probability of a single A type in a population of B types\n"
     ]
    },
    {
     "data": {
      "application/vnd.jupyter.widget-view+json": {
       "model_id": "74166e4cd8f2445eb8534d9601a4966b",
       "version_major": 2,
       "version_minor": 0
      },
      "text/plain": [
       "  0%|          | 0/1000 [00:00<?, ?it/s]"
      ]
     },
     "metadata": {},
     "output_type": "display_data"
    },
    {
     "name": "stdout",
     "output_type": "stream",
     "text": [
      "rho_A = 0.000000000000000\n",
      "Computing fixation probability of a single B type in a population of A types\n"
     ]
    },
    {
     "data": {
      "application/vnd.jupyter.widget-view+json": {
       "model_id": "6ee4733d3a3e4e028a9de71eff926586",
       "version_major": 2,
       "version_minor": 0
      },
      "text/plain": [
       "  0%|          | 0/1000 [00:00<?, ?it/s]"
      ]
     },
     "metadata": {},
     "output_type": "display_data"
    },
    {
     "name": "stdout",
     "output_type": "stream",
     "text": [
      "rho_B = 0.480000000000000\n",
      "Computing left endpoint\n",
      "Computing fixation probability of a single A type in a population of B types\n"
     ]
    },
    {
     "data": {
      "application/vnd.jupyter.widget-view+json": {
       "model_id": "922d90d7e26c4184af29330c0df8a7f2",
       "version_major": 2,
       "version_minor": 0
      },
      "text/plain": [
       "  0%|          | 0/1000 [00:00<?, ?it/s]"
      ]
     },
     "metadata": {},
     "output_type": "display_data"
    },
    {
     "name": "stdout",
     "output_type": "stream",
     "text": [
      "rho_A = 0.0490000000000000\n",
      "Computing fixation probability of a single B type in a population of A types\n"
     ]
    },
    {
     "data": {
      "application/vnd.jupyter.widget-view+json": {
       "model_id": "c8e2aa00bcde4f48b665a39e0908c22a",
       "version_major": 2,
       "version_minor": 0
      },
      "text/plain": [
       "  0%|          | 0/1000 [00:00<?, ?it/s]"
      ]
     },
     "metadata": {},
     "output_type": "display_data"
    },
    {
     "name": "stdout",
     "output_type": "stream",
     "text": [
      "rho_B = 0.480000000000000\n",
      "Computing midpoint\n",
      "Computing fixation probability of a single A type in a population of B types\n"
     ]
    },
    {
     "data": {
      "application/vnd.jupyter.widget-view+json": {
       "model_id": "d5c6dcac630e4c8ead25c4302329c46e",
       "version_major": 2,
       "version_minor": 0
      },
      "text/plain": [
       "  0%|          | 0/1000 [00:00<?, ?it/s]"
      ]
     },
     "metadata": {},
     "output_type": "display_data"
    },
    {
     "name": "stdout",
     "output_type": "stream",
     "text": [
      "rho_A = 0.000000000000000\n",
      "Computing fixation probability of a single B type in a population of A types\n"
     ]
    },
    {
     "data": {
      "application/vnd.jupyter.widget-view+json": {
       "model_id": "aa819f8605c24ad6852d0955aecccd4a",
       "version_major": 2,
       "version_minor": 0
      },
      "text/plain": [
       "  0%|          | 0/1000 [00:00<?, ?it/s]"
      ]
     },
     "metadata": {},
     "output_type": "display_data"
    },
    {
     "name": "stdout",
     "output_type": "stream",
     "text": [
      "rho_B = 0.494000000000000\n",
      "Computing right endpoint\n",
      "Computing fixation probability of a single A type in a population of B types\n"
     ]
    },
    {
     "data": {
      "application/vnd.jupyter.widget-view+json": {
       "model_id": "a9001bebfa0642c18e29ec0879036875",
       "version_major": 2,
       "version_minor": 0
      },
      "text/plain": [
       "  0%|          | 0/1000 [00:00<?, ?it/s]"
      ]
     },
     "metadata": {},
     "output_type": "display_data"
    },
    {
     "name": "stdout",
     "output_type": "stream",
     "text": [
      "rho_A = 0.000000000000000\n",
      "Computing fixation probability of a single B type in a population of A types\n"
     ]
    },
    {
     "data": {
      "application/vnd.jupyter.widget-view+json": {
       "model_id": "4fa32797395640d9a2b3c4bef282f3c6",
       "version_major": 2,
       "version_minor": 0
      },
      "text/plain": [
       "  0%|          | 0/1000 [00:00<?, ?it/s]"
      ]
     },
     "metadata": {},
     "output_type": "display_data"
    },
    {
     "name": "stdout",
     "output_type": "stream",
     "text": [
      "rho_B = 0.482000000000000\n",
      "beta_indifferent = None\n",
      "computing required for indifference at delay = 1\n",
      "Computing fixation probability of a single A type in a population of B types\n"
     ]
    },
    {
     "data": {
      "application/vnd.jupyter.widget-view+json": {
       "model_id": "07dd583215a44dbaa0f5a5b791670a53",
       "version_major": 2,
       "version_minor": 0
      },
      "text/plain": [
       "  0%|          | 0/1000 [00:00<?, ?it/s]"
      ]
     },
     "metadata": {},
     "output_type": "display_data"
    },
    {
     "name": "stdout",
     "output_type": "stream",
     "text": [
      "rho_A = 0.000000000000000\n",
      "Computing fixation probability of a single B type in a population of A types\n"
     ]
    },
    {
     "data": {
      "application/vnd.jupyter.widget-view+json": {
       "model_id": "800fb00d759b490682c8f023efebfd08",
       "version_major": 2,
       "version_minor": 0
      },
      "text/plain": [
       "  0%|          | 0/1000 [00:00<?, ?it/s]"
      ]
     },
     "metadata": {},
     "output_type": "display_data"
    },
    {
     "name": "stdout",
     "output_type": "stream",
     "text": [
      "rho_B = 0.433000000000000\n",
      "Computing left endpoint\n",
      "Computing fixation probability of a single A type in a population of B types\n"
     ]
    },
    {
     "data": {
      "application/vnd.jupyter.widget-view+json": {
       "model_id": "eccb4b77a30649b187234e0f36435ceb",
       "version_major": 2,
       "version_minor": 0
      },
      "text/plain": [
       "  0%|          | 0/1000 [00:00<?, ?it/s]"
      ]
     },
     "metadata": {},
     "output_type": "display_data"
    },
    {
     "name": "stdout",
     "output_type": "stream",
     "text": [
      "rho_A = 0.0690000000000000\n",
      "Computing fixation probability of a single B type in a population of A types\n"
     ]
    },
    {
     "data": {
      "application/vnd.jupyter.widget-view+json": {
       "model_id": "b122604f920d4fa8bd7d90d2149b24a3",
       "version_major": 2,
       "version_minor": 0
      },
      "text/plain": [
       "  0%|          | 0/1000 [00:00<?, ?it/s]"
      ]
     },
     "metadata": {},
     "output_type": "display_data"
    },
    {
     "name": "stdout",
     "output_type": "stream",
     "text": [
      "rho_B = 0.468000000000000\n",
      "Computing midpoint\n",
      "Computing fixation probability of a single A type in a population of B types\n"
     ]
    },
    {
     "data": {
      "application/vnd.jupyter.widget-view+json": {
       "model_id": "44d411b8d5124c058dd309e967466871",
       "version_major": 2,
       "version_minor": 0
      },
      "text/plain": [
       "  0%|          | 0/1000 [00:00<?, ?it/s]"
      ]
     },
     "metadata": {},
     "output_type": "display_data"
    },
    {
     "name": "stdout",
     "output_type": "stream",
     "text": [
      "rho_A = 0.000000000000000\n",
      "Computing fixation probability of a single B type in a population of A types\n"
     ]
    },
    {
     "data": {
      "application/vnd.jupyter.widget-view+json": {
       "model_id": "16057878764f4f97b299e7fc07af0871",
       "version_major": 2,
       "version_minor": 0
      },
      "text/plain": [
       "  0%|          | 0/1000 [00:00<?, ?it/s]"
      ]
     },
     "metadata": {},
     "output_type": "display_data"
    },
    {
     "name": "stdout",
     "output_type": "stream",
     "text": [
      "rho_B = 0.459000000000000\n",
      "Computing right endpoint\n",
      "Computing fixation probability of a single A type in a population of B types\n"
     ]
    },
    {
     "data": {
      "application/vnd.jupyter.widget-view+json": {
       "model_id": "0a43d947e4d74469b498ce6c3d5a78c0",
       "version_major": 2,
       "version_minor": 0
      },
      "text/plain": [
       "  0%|          | 0/1000 [00:00<?, ?it/s]"
      ]
     },
     "metadata": {},
     "output_type": "display_data"
    },
    {
     "name": "stdout",
     "output_type": "stream",
     "text": [
      "rho_A = 0.000000000000000\n",
      "Computing fixation probability of a single B type in a population of A types\n"
     ]
    },
    {
     "data": {
      "application/vnd.jupyter.widget-view+json": {
       "model_id": "49ccf612ba6b46aa8c16e68512dca516",
       "version_major": 2,
       "version_minor": 0
      },
      "text/plain": [
       "  0%|          | 0/1000 [00:00<?, ?it/s]"
      ]
     },
     "metadata": {},
     "output_type": "display_data"
    },
    {
     "name": "stdout",
     "output_type": "stream",
     "text": [
      "rho_B = 0.461000000000000\n",
      "beta_indifferent = None\n",
      "computing required for indifference at delay = 2\n",
      "Computing fixation probability of a single A type in a population of B types\n"
     ]
    },
    {
     "data": {
      "application/vnd.jupyter.widget-view+json": {
       "model_id": "cd3e2b5d50d2421bb6befe16f6a1bf0a",
       "version_major": 2,
       "version_minor": 0
      },
      "text/plain": [
       "  0%|          | 0/1000 [00:00<?, ?it/s]"
      ]
     },
     "metadata": {},
     "output_type": "display_data"
    },
    {
     "name": "stdout",
     "output_type": "stream",
     "text": [
      "rho_A = 0.000000000000000\n",
      "Computing fixation probability of a single B type in a population of A types\n"
     ]
    },
    {
     "data": {
      "application/vnd.jupyter.widget-view+json": {
       "model_id": "44fb8cddc6964dc29c61152a712d5676",
       "version_major": 2,
       "version_minor": 0
      },
      "text/plain": [
       "  0%|          | 0/1000 [00:00<?, ?it/s]"
      ]
     },
     "metadata": {},
     "output_type": "display_data"
    },
    {
     "name": "stdout",
     "output_type": "stream",
     "text": [
      "rho_B = 0.359000000000000\n",
      "Computing left endpoint\n",
      "Computing fixation probability of a single A type in a population of B types\n"
     ]
    },
    {
     "data": {
      "application/vnd.jupyter.widget-view+json": {
       "model_id": "834f3ce492f8444c80e951216a41b455",
       "version_major": 2,
       "version_minor": 0
      },
      "text/plain": [
       "  0%|          | 0/1000 [00:00<?, ?it/s]"
      ]
     },
     "metadata": {},
     "output_type": "display_data"
    },
    {
     "name": "stdout",
     "output_type": "stream",
     "text": [
      "rho_A = 0.107000000000000\n",
      "Computing fixation probability of a single B type in a population of A types\n"
     ]
    },
    {
     "data": {
      "application/vnd.jupyter.widget-view+json": {
       "model_id": "e7dde67caaa5451c96154108091c9ef9",
       "version_major": 2,
       "version_minor": 0
      },
      "text/plain": [
       "  0%|          | 0/1000 [00:00<?, ?it/s]"
      ]
     },
     "metadata": {},
     "output_type": "display_data"
    },
    {
     "name": "stdout",
     "output_type": "stream",
     "text": [
      "rho_B = 0.456000000000000\n",
      "Computing midpoint\n",
      "Computing fixation probability of a single A type in a population of B types\n"
     ]
    },
    {
     "data": {
      "application/vnd.jupyter.widget-view+json": {
       "model_id": "0152b8b68d3445439ab4bd27faa32081",
       "version_major": 2,
       "version_minor": 0
      },
      "text/plain": [
       "  0%|          | 0/1000 [00:00<?, ?it/s]"
      ]
     },
     "metadata": {},
     "output_type": "display_data"
    },
    {
     "name": "stdout",
     "output_type": "stream",
     "text": [
      "rho_A = 0.00200000000000000\n",
      "Computing fixation probability of a single B type in a population of A types\n"
     ]
    },
    {
     "data": {
      "application/vnd.jupyter.widget-view+json": {
       "model_id": "9e54833873f843a7af2fe878b0f07504",
       "version_major": 2,
       "version_minor": 0
      },
      "text/plain": [
       "  0%|          | 0/1000 [00:00<?, ?it/s]"
      ]
     },
     "metadata": {},
     "output_type": "display_data"
    },
    {
     "name": "stdout",
     "output_type": "stream",
     "text": [
      "rho_B = 0.389000000000000\n",
      "Computing right endpoint\n",
      "Computing fixation probability of a single A type in a population of B types\n"
     ]
    },
    {
     "data": {
      "application/vnd.jupyter.widget-view+json": {
       "model_id": "70572c851be243f5b0b80d01540c0398",
       "version_major": 2,
       "version_minor": 0
      },
      "text/plain": [
       "  0%|          | 0/1000 [00:00<?, ?it/s]"
      ]
     },
     "metadata": {},
     "output_type": "display_data"
    },
    {
     "name": "stdout",
     "output_type": "stream",
     "text": [
      "rho_A = 0.000000000000000\n",
      "Computing fixation probability of a single B type in a population of A types\n"
     ]
    },
    {
     "data": {
      "application/vnd.jupyter.widget-view+json": {
       "model_id": "14a05661e7644365a6c8b67b89ef4d73",
       "version_major": 2,
       "version_minor": 0
      },
      "text/plain": [
       "  0%|          | 0/1000 [00:00<?, ?it/s]"
      ]
     },
     "metadata": {},
     "output_type": "display_data"
    },
    {
     "name": "stdout",
     "output_type": "stream",
     "text": [
      "rho_B = 0.410000000000000\n",
      "beta_indifferent = None\n",
      "computing required for indifference at delay = 3\n",
      "Computing fixation probability of a single A type in a population of B types\n"
     ]
    },
    {
     "data": {
      "application/vnd.jupyter.widget-view+json": {
       "model_id": "541d286edca7472483cfba630d59dcc6",
       "version_major": 2,
       "version_minor": 0
      },
      "text/plain": [
       "  0%|          | 0/1000 [00:00<?, ?it/s]"
      ]
     },
     "metadata": {},
     "output_type": "display_data"
    },
    {
     "name": "stdout",
     "output_type": "stream",
     "text": [
      "rho_A = 0.000000000000000\n",
      "Computing fixation probability of a single B type in a population of A types\n"
     ]
    },
    {
     "data": {
      "application/vnd.jupyter.widget-view+json": {
       "model_id": "e8121eb50edb468eb31d30450a5c54e4",
       "version_major": 2,
       "version_minor": 0
      },
      "text/plain": [
       "  0%|          | 0/1000 [00:00<?, ?it/s]"
      ]
     },
     "metadata": {},
     "output_type": "display_data"
    },
    {
     "name": "stdout",
     "output_type": "stream",
     "text": [
      "rho_B = 0.350000000000000\n",
      "Computing left endpoint\n",
      "Computing fixation probability of a single A type in a population of B types\n"
     ]
    },
    {
     "data": {
      "application/vnd.jupyter.widget-view+json": {
       "model_id": "6bd6c233e30442639fde0ef9422ddb41",
       "version_major": 2,
       "version_minor": 0
      },
      "text/plain": [
       "  0%|          | 0/1000 [00:00<?, ?it/s]"
      ]
     },
     "metadata": {},
     "output_type": "display_data"
    },
    {
     "name": "stdout",
     "output_type": "stream",
     "text": [
      "rho_A = 0.147000000000000\n",
      "Computing fixation probability of a single B type in a population of A types\n"
     ]
    },
    {
     "data": {
      "application/vnd.jupyter.widget-view+json": {
       "model_id": "652301995c2d4be09498e249f7bcef53",
       "version_major": 2,
       "version_minor": 0
      },
      "text/plain": [
       "  0%|          | 0/1000 [00:00<?, ?it/s]"
      ]
     },
     "metadata": {},
     "output_type": "display_data"
    },
    {
     "name": "stdout",
     "output_type": "stream",
     "text": [
      "rho_B = 0.346000000000000\n",
      "Computing midpoint\n",
      "Computing fixation probability of a single A type in a population of B types\n"
     ]
    },
    {
     "data": {
      "application/vnd.jupyter.widget-view+json": {
       "model_id": "f06b9781e0b54e3298c746fdb9c8fc62",
       "version_major": 2,
       "version_minor": 0
      },
      "text/plain": [
       "  0%|          | 0/1000 [00:00<?, ?it/s]"
      ]
     },
     "metadata": {},
     "output_type": "display_data"
    },
    {
     "name": "stdout",
     "output_type": "stream",
     "text": [
      "rho_A = 0.00100000000000000\n",
      "Computing fixation probability of a single B type in a population of A types\n"
     ]
    },
    {
     "data": {
      "application/vnd.jupyter.widget-view+json": {
       "model_id": "f0750ddda68d44e0a1e60514aeb28382",
       "version_major": 2,
       "version_minor": 0
      },
      "text/plain": [
       "  0%|          | 0/1000 [00:00<?, ?it/s]"
      ]
     },
     "metadata": {},
     "output_type": "display_data"
    },
    {
     "name": "stdout",
     "output_type": "stream",
     "text": [
      "rho_B = 0.328000000000000\n",
      "Computing right endpoint\n",
      "Computing fixation probability of a single A type in a population of B types\n"
     ]
    },
    {
     "data": {
      "application/vnd.jupyter.widget-view+json": {
       "model_id": "75670ce95031444bab3f4fa682f4ab49",
       "version_major": 2,
       "version_minor": 0
      },
      "text/plain": [
       "  0%|          | 0/1000 [00:00<?, ?it/s]"
      ]
     },
     "metadata": {},
     "output_type": "display_data"
    },
    {
     "name": "stdout",
     "output_type": "stream",
     "text": [
      "rho_A = 0.000000000000000\n",
      "Computing fixation probability of a single B type in a population of A types\n"
     ]
    },
    {
     "data": {
      "application/vnd.jupyter.widget-view+json": {
       "model_id": "a4706d5f54a44b2eaa14343a64236efe",
       "version_major": 2,
       "version_minor": 0
      },
      "text/plain": [
       "  0%|          | 0/1000 [00:00<?, ?it/s]"
      ]
     },
     "metadata": {},
     "output_type": "display_data"
    },
    {
     "name": "stdout",
     "output_type": "stream",
     "text": [
      "rho_B = 0.367000000000000\n",
      "beta_indifferent = None\n",
      "computing required for indifference at delay = 4\n",
      "Computing fixation probability of a single A type in a population of B types\n"
     ]
    },
    {
     "data": {
      "application/vnd.jupyter.widget-view+json": {
       "model_id": "cb776317a9304ebcb4fb4c70de8e4f80",
       "version_major": 2,
       "version_minor": 0
      },
      "text/plain": [
       "  0%|          | 0/1000 [00:00<?, ?it/s]"
      ]
     },
     "metadata": {},
     "output_type": "display_data"
    },
    {
     "name": "stdout",
     "output_type": "stream",
     "text": [
      "rho_A = 0.000000000000000\n",
      "Computing fixation probability of a single B type in a population of A types\n"
     ]
    },
    {
     "data": {
      "application/vnd.jupyter.widget-view+json": {
       "model_id": "b855e53f7ad444febd6adc86661c7eb2",
       "version_major": 2,
       "version_minor": 0
      },
      "text/plain": [
       "  0%|          | 0/1000 [00:00<?, ?it/s]"
      ]
     },
     "metadata": {},
     "output_type": "display_data"
    },
    {
     "name": "stdout",
     "output_type": "stream",
     "text": [
      "rho_B = 0.324000000000000\n",
      "Computing left endpoint\n",
      "Computing fixation probability of a single A type in a population of B types\n"
     ]
    },
    {
     "data": {
      "application/vnd.jupyter.widget-view+json": {
       "model_id": "665ad391d0fc4daeba74cc54361cf710",
       "version_major": 2,
       "version_minor": 0
      },
      "text/plain": [
       "  0%|          | 0/1000 [00:00<?, ?it/s]"
      ]
     },
     "metadata": {},
     "output_type": "display_data"
    },
    {
     "name": "stdout",
     "output_type": "stream",
     "text": [
      "rho_A = 0.176000000000000\n",
      "Computing fixation probability of a single B type in a population of A types\n"
     ]
    },
    {
     "data": {
      "application/vnd.jupyter.widget-view+json": {
       "model_id": "31fe91e727fc47ad823485635392c957",
       "version_major": 2,
       "version_minor": 0
      },
      "text/plain": [
       "  0%|          | 0/1000 [00:00<?, ?it/s]"
      ]
     },
     "metadata": {},
     "output_type": "display_data"
    },
    {
     "name": "stdout",
     "output_type": "stream",
     "text": [
      "rho_B = 0.300000000000000\n",
      "Computing midpoint\n",
      "Computing fixation probability of a single A type in a population of B types\n"
     ]
    },
    {
     "data": {
      "application/vnd.jupyter.widget-view+json": {
       "model_id": "5f0270c5f2854fa79280bf1bf36667f8",
       "version_major": 2,
       "version_minor": 0
      },
      "text/plain": [
       "  0%|          | 0/1000 [00:00<?, ?it/s]"
      ]
     },
     "metadata": {},
     "output_type": "display_data"
    },
    {
     "name": "stdout",
     "output_type": "stream",
     "text": [
      "rho_A = 0.00800000000000000\n",
      "Computing fixation probability of a single B type in a population of A types\n"
     ]
    },
    {
     "data": {
      "application/vnd.jupyter.widget-view+json": {
       "model_id": "248470b094a14fc49fd43d028b968d66",
       "version_major": 2,
       "version_minor": 0
      },
      "text/plain": [
       "  0%|          | 0/1000 [00:00<?, ?it/s]"
      ]
     },
     "metadata": {},
     "output_type": "display_data"
    },
    {
     "name": "stdout",
     "output_type": "stream",
     "text": [
      "rho_B = 0.314000000000000\n",
      "Computing right endpoint\n",
      "Computing fixation probability of a single A type in a population of B types\n"
     ]
    },
    {
     "data": {
      "application/vnd.jupyter.widget-view+json": {
       "model_id": "30d5d5e1c6804ec980e633c2f9a6818c",
       "version_major": 2,
       "version_minor": 0
      },
      "text/plain": [
       "  0%|          | 0/1000 [00:00<?, ?it/s]"
      ]
     },
     "metadata": {},
     "output_type": "display_data"
    },
    {
     "name": "stdout",
     "output_type": "stream",
     "text": [
      "rho_A = 0.00100000000000000\n",
      "Computing fixation probability of a single B type in a population of A types\n"
     ]
    },
    {
     "data": {
      "application/vnd.jupyter.widget-view+json": {
       "model_id": "01d4139a154648808f5b20a81cddc079",
       "version_major": 2,
       "version_minor": 0
      },
      "text/plain": [
       "  0%|          | 0/1000 [00:00<?, ?it/s]"
      ]
     },
     "metadata": {},
     "output_type": "display_data"
    },
    {
     "name": "stdout",
     "output_type": "stream",
     "text": [
      "rho_B = 0.321000000000000\n",
      "beta_indifferent = None\n",
      "computing required for indifference at delay = 5\n",
      "Computing fixation probability of a single A type in a population of B types\n"
     ]
    },
    {
     "data": {
      "application/vnd.jupyter.widget-view+json": {
       "model_id": "591ed72df03342a4a1da39195a62c552",
       "version_major": 2,
       "version_minor": 0
      },
      "text/plain": [
       "  0%|          | 0/1000 [00:00<?, ?it/s]"
      ]
     },
     "metadata": {},
     "output_type": "display_data"
    },
    {
     "name": "stdout",
     "output_type": "stream",
     "text": [
      "rho_A = 0.000000000000000\n",
      "Computing fixation probability of a single B type in a population of A types\n"
     ]
    },
    {
     "data": {
      "application/vnd.jupyter.widget-view+json": {
       "model_id": "3ff078d28fd64e84b1396f0895df2a08",
       "version_major": 2,
       "version_minor": 0
      },
      "text/plain": [
       "  0%|          | 0/1000 [00:00<?, ?it/s]"
      ]
     },
     "metadata": {},
     "output_type": "display_data"
    },
    {
     "name": "stdout",
     "output_type": "stream",
     "text": [
      "rho_B = 0.289000000000000\n",
      "Computing left endpoint\n",
      "Computing fixation probability of a single A type in a population of B types\n"
     ]
    },
    {
     "data": {
      "application/vnd.jupyter.widget-view+json": {
       "model_id": "ef2df99bdeda478faf1ea8fd17612982",
       "version_major": 2,
       "version_minor": 0
      },
      "text/plain": [
       "  0%|          | 0/1000 [00:00<?, ?it/s]"
      ]
     },
     "metadata": {},
     "output_type": "display_data"
    },
    {
     "name": "stdout",
     "output_type": "stream",
     "text": [
      "rho_A = 0.208000000000000\n",
      "Computing fixation probability of a single B type in a population of A types\n"
     ]
    },
    {
     "data": {
      "application/vnd.jupyter.widget-view+json": {
       "model_id": "bca18d4d16544adf890e7c1ab351440c",
       "version_major": 2,
       "version_minor": 0
      },
      "text/plain": [
       "  0%|          | 0/1000 [00:00<?, ?it/s]"
      ]
     },
     "metadata": {},
     "output_type": "display_data"
    },
    {
     "name": "stdout",
     "output_type": "stream",
     "text": [
      "rho_B = 0.295000000000000\n",
      "Computing midpoint\n",
      "Computing fixation probability of a single A type in a population of B types\n"
     ]
    },
    {
     "data": {
      "application/vnd.jupyter.widget-view+json": {
       "model_id": "8ac35ac241be45968d8c0d69423ed934",
       "version_major": 2,
       "version_minor": 0
      },
      "text/plain": [
       "  0%|          | 0/1000 [00:00<?, ?it/s]"
      ]
     },
     "metadata": {},
     "output_type": "display_data"
    },
    {
     "name": "stdout",
     "output_type": "stream",
     "text": [
      "rho_A = 0.00900000000000000\n",
      "Computing fixation probability of a single B type in a population of A types\n"
     ]
    },
    {
     "data": {
      "application/vnd.jupyter.widget-view+json": {
       "model_id": "a0221b15ba5b4f7cabf47c5c82670be2",
       "version_major": 2,
       "version_minor": 0
      },
      "text/plain": [
       "  0%|          | 0/1000 [00:00<?, ?it/s]"
      ]
     },
     "metadata": {},
     "output_type": "display_data"
    },
    {
     "name": "stdout",
     "output_type": "stream",
     "text": [
      "rho_B = 0.267000000000000\n",
      "Computing right endpoint\n",
      "Computing fixation probability of a single A type in a population of B types\n"
     ]
    },
    {
     "data": {
      "application/vnd.jupyter.widget-view+json": {
       "model_id": "8e67b57e50ae4bebbbf004a8e1077622",
       "version_major": 2,
       "version_minor": 0
      },
      "text/plain": [
       "  0%|          | 0/1000 [00:00<?, ?it/s]"
      ]
     },
     "metadata": {},
     "output_type": "display_data"
    },
    {
     "name": "stdout",
     "output_type": "stream",
     "text": [
      "rho_A = 0.000000000000000\n",
      "Computing fixation probability of a single B type in a population of A types\n"
     ]
    },
    {
     "data": {
      "application/vnd.jupyter.widget-view+json": {
       "model_id": "e5c46c57afac49dbbbb25447325f1754",
       "version_major": 2,
       "version_minor": 0
      },
      "text/plain": [
       "  0%|          | 0/1000 [00:00<?, ?it/s]"
      ]
     },
     "metadata": {},
     "output_type": "display_data"
    },
    {
     "name": "stdout",
     "output_type": "stream",
     "text": [
      "rho_B = 0.256000000000000\n",
      "beta_indifferent = None\n",
      "computing required for indifference at delay = 6\n",
      "Computing fixation probability of a single A type in a population of B types\n"
     ]
    },
    {
     "data": {
      "application/vnd.jupyter.widget-view+json": {
       "model_id": "5bacc32defea473db79cbd3b3e31da2c",
       "version_major": 2,
       "version_minor": 0
      },
      "text/plain": [
       "  0%|          | 0/1000 [00:00<?, ?it/s]"
      ]
     },
     "metadata": {},
     "output_type": "display_data"
    },
    {
     "name": "stdout",
     "output_type": "stream",
     "text": [
      "rho_A = 0.000000000000000\n",
      "Computing fixation probability of a single B type in a population of A types\n"
     ]
    },
    {
     "data": {
      "application/vnd.jupyter.widget-view+json": {
       "model_id": "c44596ed69044f128b60713276d18ca4",
       "version_major": 2,
       "version_minor": 0
      },
      "text/plain": [
       "  0%|          | 0/1000 [00:00<?, ?it/s]"
      ]
     },
     "metadata": {},
     "output_type": "display_data"
    },
    {
     "name": "stdout",
     "output_type": "stream",
     "text": [
      "rho_B = 0.229000000000000\n",
      "Computing left endpoint\n",
      "Computing fixation probability of a single A type in a population of B types\n"
     ]
    },
    {
     "data": {
      "application/vnd.jupyter.widget-view+json": {
       "model_id": "b23252671c094ed2a5178baaa1bd38fd",
       "version_major": 2,
       "version_minor": 0
      },
      "text/plain": [
       "  0%|          | 0/1000 [00:00<?, ?it/s]"
      ]
     },
     "metadata": {},
     "output_type": "display_data"
    },
    {
     "name": "stdout",
     "output_type": "stream",
     "text": [
      "rho_A = 0.279000000000000\n",
      "Computing fixation probability of a single B type in a population of A types\n"
     ]
    },
    {
     "data": {
      "application/vnd.jupyter.widget-view+json": {
       "model_id": "9a6df0fbf752473282afa66357035bd5",
       "version_major": 2,
       "version_minor": 0
      },
      "text/plain": [
       "  0%|          | 0/1000 [00:00<?, ?it/s]"
      ]
     },
     "metadata": {},
     "output_type": "display_data"
    },
    {
     "name": "stdout",
     "output_type": "stream",
     "text": [
      "rho_B = 0.235000000000000\n",
      "Computing midpoint\n",
      "Computing fixation probability of a single A type in a population of B types\n"
     ]
    },
    {
     "data": {
      "application/vnd.jupyter.widget-view+json": {
       "model_id": "56eb04fb58504e9eae056add58a23cfc",
       "version_major": 2,
       "version_minor": 0
      },
      "text/plain": [
       "  0%|          | 0/1000 [00:00<?, ?it/s]"
      ]
     },
     "metadata": {},
     "output_type": "display_data"
    },
    {
     "name": "stdout",
     "output_type": "stream",
     "text": [
      "rho_A = 0.0120000000000000\n",
      "Computing fixation probability of a single B type in a population of A types\n"
     ]
    },
    {
     "data": {
      "application/vnd.jupyter.widget-view+json": {
       "model_id": "0bbcc5d425934b9ea9081851b7b125db",
       "version_major": 2,
       "version_minor": 0
      },
      "text/plain": [
       "  0%|          | 0/1000 [00:00<?, ?it/s]"
      ]
     },
     "metadata": {},
     "output_type": "display_data"
    },
    {
     "name": "stdout",
     "output_type": "stream",
     "text": [
      "rho_B = 0.237000000000000\n",
      "Computing right endpoint\n",
      "Computing fixation probability of a single A type in a population of B types\n"
     ]
    },
    {
     "data": {
      "application/vnd.jupyter.widget-view+json": {
       "model_id": "0902f77e51c3429caf14320939783b2c",
       "version_major": 2,
       "version_minor": 0
      },
      "text/plain": [
       "  0%|          | 0/1000 [00:00<?, ?it/s]"
      ]
     },
     "metadata": {},
     "output_type": "display_data"
    },
    {
     "name": "stdout",
     "output_type": "stream",
     "text": [
      "rho_A = 0.000000000000000\n",
      "Computing fixation probability of a single B type in a population of A types\n"
     ]
    },
    {
     "data": {
      "application/vnd.jupyter.widget-view+json": {
       "model_id": "df0819964b5043f0b4b9e6ecb4fba1ec",
       "version_major": 2,
       "version_minor": 0
      },
      "text/plain": [
       "  0%|          | 0/1000 [00:00<?, ?it/s]"
      ]
     },
     "metadata": {},
     "output_type": "display_data"
    },
    {
     "name": "stdout",
     "output_type": "stream",
     "text": [
      "rho_B = 0.218000000000000\n",
      "beta_indifferent = 1.05619555677107\n",
      "computing required for indifference at delay = 7\n",
      "Computing fixation probability of a single A type in a population of B types\n"
     ]
    },
    {
     "data": {
      "application/vnd.jupyter.widget-view+json": {
       "model_id": "4b8b885d2a2c426698e966b0956f724f",
       "version_major": 2,
       "version_minor": 0
      },
      "text/plain": [
       "  0%|          | 0/1000 [00:00<?, ?it/s]"
      ]
     },
     "metadata": {},
     "output_type": "display_data"
    },
    {
     "name": "stdout",
     "output_type": "stream",
     "text": [
      "rho_A = 0.00200000000000000\n",
      "Computing fixation probability of a single B type in a population of A types\n"
     ]
    },
    {
     "data": {
      "application/vnd.jupyter.widget-view+json": {
       "model_id": "33798aa920e04e87a32bb148a7372c38",
       "version_major": 2,
       "version_minor": 0
      },
      "text/plain": [
       "  0%|          | 0/1000 [00:00<?, ?it/s]"
      ]
     },
     "metadata": {},
     "output_type": "display_data"
    },
    {
     "name": "stdout",
     "output_type": "stream",
     "text": [
      "rho_B = 0.198000000000000\n",
      "Computing left endpoint\n",
      "Computing fixation probability of a single A type in a population of B types\n"
     ]
    },
    {
     "data": {
      "application/vnd.jupyter.widget-view+json": {
       "model_id": "75f4b265220a4f81b6de18346468e818",
       "version_major": 2,
       "version_minor": 0
      },
      "text/plain": [
       "  0%|          | 0/1000 [00:00<?, ?it/s]"
      ]
     },
     "metadata": {},
     "output_type": "display_data"
    },
    {
     "name": "stdout",
     "output_type": "stream",
     "text": [
      "rho_A = 0.317000000000000\n",
      "Computing fixation probability of a single B type in a population of A types\n"
     ]
    },
    {
     "data": {
      "application/vnd.jupyter.widget-view+json": {
       "model_id": "49397c4132bc453f9b20b9cebc16cb33",
       "version_major": 2,
       "version_minor": 0
      },
      "text/plain": [
       "  0%|          | 0/1000 [00:00<?, ?it/s]"
      ]
     },
     "metadata": {},
     "output_type": "display_data"
    },
    {
     "name": "stdout",
     "output_type": "stream",
     "text": [
      "rho_B = 0.204000000000000\n",
      "Computing midpoint\n",
      "Computing fixation probability of a single A type in a population of B types\n"
     ]
    },
    {
     "data": {
      "application/vnd.jupyter.widget-view+json": {
       "model_id": "61ebee171bfc48eea733abca0579f659",
       "version_major": 2,
       "version_minor": 0
      },
      "text/plain": [
       "  0%|          | 0/1000 [00:00<?, ?it/s]"
      ]
     },
     "metadata": {},
     "output_type": "display_data"
    },
    {
     "name": "stdout",
     "output_type": "stream",
     "text": [
      "rho_A = 0.0300000000000000\n",
      "Computing fixation probability of a single B type in a population of A types\n"
     ]
    },
    {
     "data": {
      "application/vnd.jupyter.widget-view+json": {
       "model_id": "f5048b668e8c43db954ecbd8f7455ed8",
       "version_major": 2,
       "version_minor": 0
      },
      "text/plain": [
       "  0%|          | 0/1000 [00:00<?, ?it/s]"
      ]
     },
     "metadata": {},
     "output_type": "display_data"
    },
    {
     "name": "stdout",
     "output_type": "stream",
     "text": [
      "rho_B = 0.190000000000000\n",
      "Computing right endpoint\n",
      "Computing fixation probability of a single A type in a population of B types\n"
     ]
    },
    {
     "data": {
      "application/vnd.jupyter.widget-view+json": {
       "model_id": "fa6d0ce19dee4454a41aa70c531b2b80",
       "version_major": 2,
       "version_minor": 0
      },
      "text/plain": [
       "  0%|          | 0/1000 [00:00<?, ?it/s]"
      ]
     },
     "metadata": {},
     "output_type": "display_data"
    },
    {
     "name": "stdout",
     "output_type": "stream",
     "text": [
      "rho_A = 0.00100000000000000\n",
      "Computing fixation probability of a single B type in a population of A types\n"
     ]
    },
    {
     "data": {
      "application/vnd.jupyter.widget-view+json": {
       "model_id": "7248269026f44eee87beed5f95b5c837",
       "version_major": 2,
       "version_minor": 0
      },
      "text/plain": [
       "  0%|          | 0/1000 [00:00<?, ?it/s]"
      ]
     },
     "metadata": {},
     "output_type": "display_data"
    },
    {
     "name": "stdout",
     "output_type": "stream",
     "text": [
      "rho_B = 0.201000000000000\n",
      "beta_indifferent = 1.16045992661164\n",
      "computing required for indifference at delay = 8\n",
      "Computing fixation probability of a single A type in a population of B types\n"
     ]
    },
    {
     "data": {
      "application/vnd.jupyter.widget-view+json": {
       "model_id": "1766fcadae5b492d845c998116225b3f",
       "version_major": 2,
       "version_minor": 0
      },
      "text/plain": [
       "  0%|          | 0/1000 [00:00<?, ?it/s]"
      ]
     },
     "metadata": {},
     "output_type": "display_data"
    },
    {
     "name": "stdout",
     "output_type": "stream",
     "text": [
      "rho_A = 0.00100000000000000\n",
      "Computing fixation probability of a single B type in a population of A types\n"
     ]
    },
    {
     "data": {
      "application/vnd.jupyter.widget-view+json": {
       "model_id": "1f9c17a390a14da589079bce49bcf4fb",
       "version_major": 2,
       "version_minor": 0
      },
      "text/plain": [
       "  0%|          | 0/1000 [00:00<?, ?it/s]"
      ]
     },
     "metadata": {},
     "output_type": "display_data"
    },
    {
     "name": "stdout",
     "output_type": "stream",
     "text": [
      "rho_B = 0.147000000000000\n",
      "Computing left endpoint\n",
      "Computing fixation probability of a single A type in a population of B types\n"
     ]
    },
    {
     "data": {
      "application/vnd.jupyter.widget-view+json": {
       "model_id": "0b8d6f29ea9f4536acf674d1d2351adf",
       "version_major": 2,
       "version_minor": 0
      },
      "text/plain": [
       "  0%|          | 0/1000 [00:00<?, ?it/s]"
      ]
     },
     "metadata": {},
     "output_type": "display_data"
    },
    {
     "name": "stdout",
     "output_type": "stream",
     "text": [
      "rho_A = 0.320000000000000\n",
      "Computing fixation probability of a single B type in a population of A types\n"
     ]
    },
    {
     "data": {
      "application/vnd.jupyter.widget-view+json": {
       "model_id": "6c09e44d21614293a16dae111501ebb7",
       "version_major": 2,
       "version_minor": 0
      },
      "text/plain": [
       "  0%|          | 0/1000 [00:00<?, ?it/s]"
      ]
     },
     "metadata": {},
     "output_type": "display_data"
    },
    {
     "name": "stdout",
     "output_type": "stream",
     "text": [
      "rho_B = 0.156000000000000\n",
      "Computing midpoint\n",
      "Computing fixation probability of a single A type in a population of B types\n"
     ]
    },
    {
     "data": {
      "application/vnd.jupyter.widget-view+json": {
       "model_id": "e924d69984e744b0892d9d7438ce18b6",
       "version_major": 2,
       "version_minor": 0
      },
      "text/plain": [
       "  0%|          | 0/1000 [00:00<?, ?it/s]"
      ]
     },
     "metadata": {},
     "output_type": "display_data"
    },
    {
     "name": "stdout",
     "output_type": "stream",
     "text": [
      "rho_A = 0.0550000000000000\n",
      "Computing fixation probability of a single B type in a population of A types\n"
     ]
    },
    {
     "data": {
      "application/vnd.jupyter.widget-view+json": {
       "model_id": "9850b2e1be354defb64b1fd8dff3a279",
       "version_major": 2,
       "version_minor": 0
      },
      "text/plain": [
       "  0%|          | 0/1000 [00:00<?, ?it/s]"
      ]
     },
     "metadata": {},
     "output_type": "display_data"
    },
    {
     "name": "stdout",
     "output_type": "stream",
     "text": [
      "rho_B = 0.173000000000000\n",
      "Computing right endpoint\n",
      "Computing fixation probability of a single A type in a population of B types\n"
     ]
    },
    {
     "data": {
      "application/vnd.jupyter.widget-view+json": {
       "model_id": "d2dbd506d2d34b44b4c5b368e756ebc0",
       "version_major": 2,
       "version_minor": 0
      },
      "text/plain": [
       "  0%|          | 0/1000 [00:00<?, ?it/s]"
      ]
     },
     "metadata": {},
     "output_type": "display_data"
    },
    {
     "name": "stdout",
     "output_type": "stream",
     "text": [
      "rho_A = 0.00200000000000000\n",
      "Computing fixation probability of a single B type in a population of A types\n"
     ]
    },
    {
     "data": {
      "application/vnd.jupyter.widget-view+json": {
       "model_id": "3eaecbc466304d4b9bc3cffd8251a523",
       "version_major": 2,
       "version_minor": 0
      },
      "text/plain": [
       "  0%|          | 0/1000 [00:00<?, ?it/s]"
      ]
     },
     "metadata": {},
     "output_type": "display_data"
    },
    {
     "name": "stdout",
     "output_type": "stream",
     "text": [
      "rho_B = 0.162000000000000\n",
      "beta_indifferent = 1.23771705314895\n",
      "computing required for indifference at delay = 9\n",
      "Computing fixation probability of a single A type in a population of B types\n"
     ]
    },
    {
     "data": {
      "application/vnd.jupyter.widget-view+json": {
       "model_id": "a7ff8e827fff4e1ca8c043a1efa651a3",
       "version_major": 2,
       "version_minor": 0
      },
      "text/plain": [
       "  0%|          | 0/1000 [00:00<?, ?it/s]"
      ]
     },
     "metadata": {},
     "output_type": "display_data"
    },
    {
     "name": "stdout",
     "output_type": "stream",
     "text": [
      "rho_A = 0.00500000000000000\n",
      "Computing fixation probability of a single B type in a population of A types\n"
     ]
    },
    {
     "data": {
      "application/vnd.jupyter.widget-view+json": {
       "model_id": "f19e5ae433d54053813f6afc25b97852",
       "version_major": 2,
       "version_minor": 0
      },
      "text/plain": [
       "  0%|          | 0/1000 [00:00<?, ?it/s]"
      ]
     },
     "metadata": {},
     "output_type": "display_data"
    },
    {
     "name": "stdout",
     "output_type": "stream",
     "text": [
      "rho_B = 0.120000000000000\n",
      "Computing left endpoint\n",
      "Computing fixation probability of a single A type in a population of B types\n"
     ]
    },
    {
     "data": {
      "application/vnd.jupyter.widget-view+json": {
       "model_id": "e9150a1d41c2488383c8a9aa2aebaf8c",
       "version_major": 2,
       "version_minor": 0
      },
      "text/plain": [
       "  0%|          | 0/1000 [00:00<?, ?it/s]"
      ]
     },
     "metadata": {},
     "output_type": "display_data"
    },
    {
     "name": "stdout",
     "output_type": "stream",
     "text": [
      "rho_A = 0.364000000000000\n",
      "Computing fixation probability of a single B type in a population of A types\n"
     ]
    },
    {
     "data": {
      "application/vnd.jupyter.widget-view+json": {
       "model_id": "5496db3daff048829299177776f08134",
       "version_major": 2,
       "version_minor": 0
      },
      "text/plain": [
       "  0%|          | 0/1000 [00:00<?, ?it/s]"
      ]
     },
     "metadata": {},
     "output_type": "display_data"
    },
    {
     "name": "stdout",
     "output_type": "stream",
     "text": [
      "rho_B = 0.135000000000000\n",
      "Computing midpoint\n",
      "Computing fixation probability of a single A type in a population of B types\n"
     ]
    },
    {
     "data": {
      "application/vnd.jupyter.widget-view+json": {
       "model_id": "e1ca9108f50d4ca58fd7dbd59145cb1d",
       "version_major": 2,
       "version_minor": 0
      },
      "text/plain": [
       "  0%|          | 0/1000 [00:00<?, ?it/s]"
      ]
     },
     "metadata": {},
     "output_type": "display_data"
    },
    {
     "name": "stdout",
     "output_type": "stream",
     "text": [
      "rho_A = 0.0740000000000000\n",
      "Computing fixation probability of a single B type in a population of A types\n"
     ]
    },
    {
     "data": {
      "application/vnd.jupyter.widget-view+json": {
       "model_id": "81f005cddd6342449625cdbf597039e4",
       "version_major": 2,
       "version_minor": 0
      },
      "text/plain": [
       "  0%|          | 0/1000 [00:00<?, ?it/s]"
      ]
     },
     "metadata": {},
     "output_type": "display_data"
    },
    {
     "name": "stdout",
     "output_type": "stream",
     "text": [
      "rho_B = 0.137000000000000\n",
      "Computing right endpoint\n",
      "Computing fixation probability of a single A type in a population of B types\n"
     ]
    },
    {
     "data": {
      "application/vnd.jupyter.widget-view+json": {
       "model_id": "71947e19050e43ad8f4dfbc835ac5977",
       "version_major": 2,
       "version_minor": 0
      },
      "text/plain": [
       "  0%|          | 0/1000 [00:00<?, ?it/s]"
      ]
     },
     "metadata": {},
     "output_type": "display_data"
    },
    {
     "name": "stdout",
     "output_type": "stream",
     "text": [
      "rho_A = 0.00200000000000000\n",
      "Computing fixation probability of a single B type in a population of A types\n"
     ]
    },
    {
     "data": {
      "application/vnd.jupyter.widget-view+json": {
       "model_id": "6c5335c4039746d6af405fc7e743e88e",
       "version_major": 2,
       "version_minor": 0
      },
      "text/plain": [
       "  0%|          | 0/1000 [00:00<?, ?it/s]"
      ]
     },
     "metadata": {},
     "output_type": "display_data"
    },
    {
     "name": "stdout",
     "output_type": "stream",
     "text": [
      "rho_B = 0.117000000000000\n",
      "beta_indifferent = 1.34877197512632\n"
     ]
    }
   ],
   "source": [
    "results = []\n",
    "\n",
    "for t in tqdm(range(10)):\n",
    "    print('computing required for indifference at delay = {}'.format(t))\n",
    "    r = get_fix_diff_zero(20, t, 1000, False)\n",
    "    print('beta_indifferent = {}'.format(r))\n",
    "    results.append(r)"
   ]
  },
  {
   "cell_type": "code",
   "execution_count": 388,
   "metadata": {},
   "outputs": [
    {
     "data": {
      "application/vnd.jupyter.widget-view+json": {
       "model_id": "7d77c31ea4004382a93d08404068f158",
       "version_major": 2,
       "version_minor": 0
      },
      "text/plain": [
       "  0%|          | 0/10 [00:00<?, ?it/s]"
      ]
     },
     "metadata": {},
     "output_type": "display_data"
    },
    {
     "name": "stdout",
     "output_type": "stream",
     "text": [
      "computing required for indifference at delay = 10\n",
      "Computing fixation probability of a single A type in a population of B types\n"
     ]
    },
    {
     "data": {
      "application/vnd.jupyter.widget-view+json": {
       "model_id": "6c39c3dc9bd840338037eba9c561a386",
       "version_major": 2,
       "version_minor": 0
      },
      "text/plain": [
       "  0%|          | 0/1000 [00:00<?, ?it/s]"
      ]
     },
     "metadata": {},
     "output_type": "display_data"
    },
    {
     "name": "stdout",
     "output_type": "stream",
     "text": [
      "rho_A = 0.00900000000000000\n",
      "Computing fixation probability of a single B type in a population of A types\n"
     ]
    },
    {
     "data": {
      "application/vnd.jupyter.widget-view+json": {
       "model_id": "6b703ee50ae6491d83c31ea60bb71baf",
       "version_major": 2,
       "version_minor": 0
      },
      "text/plain": [
       "  0%|          | 0/1000 [00:00<?, ?it/s]"
      ]
     },
     "metadata": {},
     "output_type": "display_data"
    },
    {
     "name": "stdout",
     "output_type": "stream",
     "text": [
      "rho_B = 0.109000000000000\n",
      "Computing left endpoint\n",
      "Computing fixation probability of a single A type in a population of B types\n"
     ]
    },
    {
     "data": {
      "application/vnd.jupyter.widget-view+json": {
       "model_id": "59103f5df0a74468a4517f7e217c2945",
       "version_major": 2,
       "version_minor": 0
      },
      "text/plain": [
       "  0%|          | 0/1000 [00:00<?, ?it/s]"
      ]
     },
     "metadata": {},
     "output_type": "display_data"
    },
    {
     "name": "stdout",
     "output_type": "stream",
     "text": [
      "rho_A = 0.377000000000000\n",
      "Computing fixation probability of a single B type in a population of A types\n"
     ]
    },
    {
     "data": {
      "application/vnd.jupyter.widget-view+json": {
       "model_id": "af00601eb32340e8b46123c5d1f084d6",
       "version_major": 2,
       "version_minor": 0
      },
      "text/plain": [
       "  0%|          | 0/1000 [00:00<?, ?it/s]"
      ]
     },
     "metadata": {},
     "output_type": "display_data"
    },
    {
     "name": "stdout",
     "output_type": "stream",
     "text": [
      "rho_B = 0.0980000000000000\n",
      "Computing midpoint\n",
      "Computing fixation probability of a single A type in a population of B types\n"
     ]
    },
    {
     "data": {
      "application/vnd.jupyter.widget-view+json": {
       "model_id": "e0b35c9acdfe47de922c9d83c8dadd83",
       "version_major": 2,
       "version_minor": 0
      },
      "text/plain": [
       "  0%|          | 0/1000 [00:00<?, ?it/s]"
      ]
     },
     "metadata": {},
     "output_type": "display_data"
    },
    {
     "name": "stdout",
     "output_type": "stream",
     "text": [
      "rho_A = 0.117000000000000\n",
      "Computing fixation probability of a single B type in a population of A types\n"
     ]
    },
    {
     "data": {
      "application/vnd.jupyter.widget-view+json": {
       "model_id": "5ffbf8bc2ddb40939cd7e488fa2b9783",
       "version_major": 2,
       "version_minor": 0
      },
      "text/plain": [
       "  0%|          | 0/1000 [00:00<?, ?it/s]"
      ]
     },
     "metadata": {},
     "output_type": "display_data"
    },
    {
     "name": "stdout",
     "output_type": "stream",
     "text": [
      "rho_B = 0.103000000000000\n",
      "Computing right endpoint\n",
      "Computing fixation probability of a single A type in a population of B types\n"
     ]
    },
    {
     "data": {
      "application/vnd.jupyter.widget-view+json": {
       "model_id": "11e3ddbf41ff412a80c3484544a3a182",
       "version_major": 2,
       "version_minor": 0
      },
      "text/plain": [
       "  0%|          | 0/1000 [00:00<?, ?it/s]"
      ]
     },
     "metadata": {},
     "output_type": "display_data"
    },
    {
     "name": "stdout",
     "output_type": "stream",
     "text": [
      "rho_A = 0.00600000000000000\n",
      "Computing fixation probability of a single B type in a population of A types\n"
     ]
    },
    {
     "data": {
      "application/vnd.jupyter.widget-view+json": {
       "model_id": "3301bdfe82444b89a83bf32b3894e3b5",
       "version_major": 2,
       "version_minor": 0
      },
      "text/plain": [
       "  0%|          | 0/1000 [00:00<?, ?it/s]"
      ]
     },
     "metadata": {},
     "output_type": "display_data"
    },
    {
     "name": "stdout",
     "output_type": "stream",
     "text": [
      "rho_B = 0.110000000000000\n",
      "beta_indifferent = 1.53764113687870\n",
      "computing required for indifference at delay = 11\n",
      "Computing fixation probability of a single A type in a population of B types\n"
     ]
    },
    {
     "data": {
      "application/vnd.jupyter.widget-view+json": {
       "model_id": "f550cfa6f9134791a0b9f8b29c2b57b2",
       "version_major": 2,
       "version_minor": 0
      },
      "text/plain": [
       "  0%|          | 0/1000 [00:00<?, ?it/s]"
      ]
     },
     "metadata": {},
     "output_type": "display_data"
    },
    {
     "name": "stdout",
     "output_type": "stream",
     "text": [
      "rho_A = 0.0160000000000000\n",
      "Computing fixation probability of a single B type in a population of A types\n"
     ]
    },
    {
     "data": {
      "application/vnd.jupyter.widget-view+json": {
       "model_id": "d5309f2c898e46a289e46d91664c7a9b",
       "version_major": 2,
       "version_minor": 0
      },
      "text/plain": [
       "  0%|          | 0/1000 [00:00<?, ?it/s]"
      ]
     },
     "metadata": {},
     "output_type": "display_data"
    },
    {
     "name": "stdout",
     "output_type": "stream",
     "text": [
      "rho_B = 0.0750000000000000\n",
      "Computing left endpoint\n",
      "Computing fixation probability of a single A type in a population of B types\n"
     ]
    },
    {
     "data": {
      "application/vnd.jupyter.widget-view+json": {
       "model_id": "718788db7e024e13ab022bed06b663cc",
       "version_major": 2,
       "version_minor": 0
      },
      "text/plain": [
       "  0%|          | 0/1000 [00:00<?, ?it/s]"
      ]
     },
     "metadata": {},
     "output_type": "display_data"
    },
    {
     "name": "stdout",
     "output_type": "stream",
     "text": [
      "rho_A = 0.399000000000000\n",
      "Computing fixation probability of a single B type in a population of A types\n"
     ]
    },
    {
     "data": {
      "application/vnd.jupyter.widget-view+json": {
       "model_id": "fdcdc01596d54fcbae94a109453e0c97",
       "version_major": 2,
       "version_minor": 0
      },
      "text/plain": [
       "  0%|          | 0/1000 [00:00<?, ?it/s]"
      ]
     },
     "metadata": {},
     "output_type": "display_data"
    },
    {
     "name": "stdout",
     "output_type": "stream",
     "text": [
      "rho_B = 0.0730000000000000\n",
      "Computing midpoint\n",
      "Computing fixation probability of a single A type in a population of B types\n"
     ]
    },
    {
     "data": {
      "application/vnd.jupyter.widget-view+json": {
       "model_id": "1760f2dda72a4a7d87d1171e338b6f8c",
       "version_major": 2,
       "version_minor": 0
      },
      "text/plain": [
       "  0%|          | 0/1000 [00:00<?, ?it/s]"
      ]
     },
     "metadata": {},
     "output_type": "display_data"
    },
    {
     "name": "stdout",
     "output_type": "stream",
     "text": [
      "rho_A = 0.135000000000000\n",
      "Computing fixation probability of a single B type in a population of A types\n"
     ]
    },
    {
     "data": {
      "application/vnd.jupyter.widget-view+json": {
       "model_id": "0940afefb5a147ab87d09530a493ee01",
       "version_major": 2,
       "version_minor": 0
      },
      "text/plain": [
       "  0%|          | 0/1000 [00:00<?, ?it/s]"
      ]
     },
     "metadata": {},
     "output_type": "display_data"
    },
    {
     "name": "stdout",
     "output_type": "stream",
     "text": [
      "rho_B = 0.0760000000000000\n",
      "Computing right endpoint\n",
      "Computing fixation probability of a single A type in a population of B types\n"
     ]
    },
    {
     "data": {
      "application/vnd.jupyter.widget-view+json": {
       "model_id": "fc4b08184a1943a2868312499e8b42db",
       "version_major": 2,
       "version_minor": 0
      },
      "text/plain": [
       "  0%|          | 0/1000 [00:00<?, ?it/s]"
      ]
     },
     "metadata": {},
     "output_type": "display_data"
    },
    {
     "name": "stdout",
     "output_type": "stream",
     "text": [
      "rho_A = 0.0130000000000000\n",
      "Computing fixation probability of a single B type in a population of A types\n"
     ]
    },
    {
     "data": {
      "application/vnd.jupyter.widget-view+json": {
       "model_id": "944e2c9ecb764aa2b76099e67e7cdf9f",
       "version_major": 2,
       "version_minor": 0
      },
      "text/plain": [
       "  0%|          | 0/1000 [00:00<?, ?it/s]"
      ]
     },
     "metadata": {},
     "output_type": "display_data"
    },
    {
     "name": "stdout",
     "output_type": "stream",
     "text": [
      "rho_B = 0.0660000000000000\n",
      "beta_indifferent = 1.68309261376428\n",
      "computing required for indifference at delay = 12\n",
      "Computing fixation probability of a single A type in a population of B types\n"
     ]
    },
    {
     "data": {
      "application/vnd.jupyter.widget-view+json": {
       "model_id": "ead6835f55804272970f1ddf02af0c4e",
       "version_major": 2,
       "version_minor": 0
      },
      "text/plain": [
       "  0%|          | 0/1000 [00:00<?, ?it/s]"
      ]
     },
     "metadata": {},
     "output_type": "display_data"
    },
    {
     "name": "stdout",
     "output_type": "stream",
     "text": [
      "rho_A = 0.0240000000000000\n",
      "Computing fixation probability of a single B type in a population of A types\n"
     ]
    },
    {
     "data": {
      "application/vnd.jupyter.widget-view+json": {
       "model_id": "648d373af42446afa2dd32d3fba95d10",
       "version_major": 2,
       "version_minor": 0
      },
      "text/plain": [
       "  0%|          | 0/1000 [00:00<?, ?it/s]"
      ]
     },
     "metadata": {},
     "output_type": "display_data"
    },
    {
     "name": "stdout",
     "output_type": "stream",
     "text": [
      "rho_B = 0.0480000000000000\n",
      "Computing left endpoint\n",
      "Computing fixation probability of a single A type in a population of B types\n"
     ]
    },
    {
     "data": {
      "application/vnd.jupyter.widget-view+json": {
       "model_id": "05834e8067014b609949caa5096e5260",
       "version_major": 2,
       "version_minor": 0
      },
      "text/plain": [
       "  0%|          | 0/1000 [00:00<?, ?it/s]"
      ]
     },
     "metadata": {},
     "output_type": "display_data"
    },
    {
     "name": "stdout",
     "output_type": "stream",
     "text": [
      "rho_A = 0.451000000000000\n",
      "Computing fixation probability of a single B type in a population of A types\n"
     ]
    },
    {
     "data": {
      "application/vnd.jupyter.widget-view+json": {
       "model_id": "32f71c9671ef4dcb863725e8b4aad68e",
       "version_major": 2,
       "version_minor": 0
      },
      "text/plain": [
       "  0%|          | 0/1000 [00:00<?, ?it/s]"
      ]
     },
     "metadata": {},
     "output_type": "display_data"
    },
    {
     "name": "stdout",
     "output_type": "stream",
     "text": [
      "rho_B = 0.0460000000000000\n",
      "Computing midpoint\n",
      "Computing fixation probability of a single A type in a population of B types\n"
     ]
    },
    {
     "data": {
      "application/vnd.jupyter.widget-view+json": {
       "model_id": "9dae898c8318443bbcefd92c2f6263aa",
       "version_major": 2,
       "version_minor": 0
      },
      "text/plain": [
       "  0%|          | 0/1000 [00:00<?, ?it/s]"
      ]
     },
     "metadata": {},
     "output_type": "display_data"
    },
    {
     "name": "stdout",
     "output_type": "stream",
     "text": [
      "rho_A = 0.167000000000000\n",
      "Computing fixation probability of a single B type in a population of A types\n"
     ]
    },
    {
     "data": {
      "application/vnd.jupyter.widget-view+json": {
       "model_id": "13dd5bcf13df4b11898791a6c4b2fa11",
       "version_major": 2,
       "version_minor": 0
      },
      "text/plain": [
       "  0%|          | 0/1000 [00:00<?, ?it/s]"
      ]
     },
     "metadata": {},
     "output_type": "display_data"
    },
    {
     "name": "stdout",
     "output_type": "stream",
     "text": [
      "rho_B = 0.0540000000000000\n",
      "Computing right endpoint\n",
      "Computing fixation probability of a single A type in a population of B types\n"
     ]
    },
    {
     "data": {
      "application/vnd.jupyter.widget-view+json": {
       "model_id": "69c623a6f936441f980bc834cf92a5a6",
       "version_major": 2,
       "version_minor": 0
      },
      "text/plain": [
       "  0%|          | 0/1000 [00:00<?, ?it/s]"
      ]
     },
     "metadata": {},
     "output_type": "display_data"
    },
    {
     "name": "stdout",
     "output_type": "stream",
     "text": [
      "rho_A = 0.0250000000000000\n",
      "Computing fixation probability of a single B type in a population of A types\n"
     ]
    },
    {
     "data": {
      "application/vnd.jupyter.widget-view+json": {
       "model_id": "7d85ce8bb6ea42759cd3f72a3b551e31",
       "version_major": 2,
       "version_minor": 0
      },
      "text/plain": [
       "  0%|          | 0/1000 [00:00<?, ?it/s]"
      ]
     },
     "metadata": {},
     "output_type": "display_data"
    },
    {
     "name": "stdout",
     "output_type": "stream",
     "text": [
      "rho_B = 0.0500000000000000\n",
      "beta_indifferent = 1.85107441953461\n",
      "computing required for indifference at delay = 13\n",
      "Computing fixation probability of a single A type in a population of B types\n"
     ]
    },
    {
     "data": {
      "application/vnd.jupyter.widget-view+json": {
       "model_id": "82417adfdc504fc081841d170a7a2c1c",
       "version_major": 2,
       "version_minor": 0
      },
      "text/plain": [
       "  0%|          | 0/1000 [00:00<?, ?it/s]"
      ]
     },
     "metadata": {},
     "output_type": "display_data"
    },
    {
     "name": "stdout",
     "output_type": "stream",
     "text": [
      "rho_A = 0.0290000000000000\n",
      "Computing fixation probability of a single B type in a population of A types\n"
     ]
    },
    {
     "data": {
      "application/vnd.jupyter.widget-view+json": {
       "model_id": "3ef8c5ed4cb54bdcaae022fcb829ae00",
       "version_major": 2,
       "version_minor": 0
      },
      "text/plain": [
       "  0%|          | 0/1000 [00:00<?, ?it/s]"
      ]
     },
     "metadata": {},
     "output_type": "display_data"
    },
    {
     "name": "stdout",
     "output_type": "stream",
     "text": [
      "rho_B = 0.0200000000000000\n",
      "Computing fixation probability of a single A type in a population of B types\n"
     ]
    },
    {
     "data": {
      "application/vnd.jupyter.widget-view+json": {
       "model_id": "e501883cd5b44488b3e1afab8fc57688",
       "version_major": 2,
       "version_minor": 0
      },
      "text/plain": [
       "  0%|          | 0/1000 [00:00<?, ?it/s]"
      ]
     },
     "metadata": {},
     "output_type": "display_data"
    },
    {
     "name": "stdout",
     "output_type": "stream",
     "text": [
      "rho_A = 0.000000000000000\n",
      "Computing fixation probability of a single B type in a population of A types\n"
     ]
    },
    {
     "data": {
      "application/vnd.jupyter.widget-view+json": {
       "model_id": "1afff791593744e1b1a3f7767b53ab19",
       "version_major": 2,
       "version_minor": 0
      },
      "text/plain": [
       "  0%|          | 0/1000 [00:00<?, ?it/s]"
      ]
     },
     "metadata": {},
     "output_type": "display_data"
    },
    {
     "name": "stdout",
     "output_type": "stream",
     "text": [
      "rho_B = 0.0330000000000000\n",
      "Computing left endpoint\n",
      "Computing fixation probability of a single A type in a population of B types\n"
     ]
    },
    {
     "data": {
      "application/vnd.jupyter.widget-view+json": {
       "model_id": "ec9a5f3d684e43d68715e6aa6b0bbb33",
       "version_major": 2,
       "version_minor": 0
      },
      "text/plain": [
       "  0%|          | 0/1000 [00:00<?, ?it/s]"
      ]
     },
     "metadata": {},
     "output_type": "display_data"
    },
    {
     "name": "stdout",
     "output_type": "stream",
     "text": [
      "rho_A = 0.0470000000000000\n",
      "Computing fixation probability of a single B type in a population of A types\n"
     ]
    },
    {
     "data": {
      "application/vnd.jupyter.widget-view+json": {
       "model_id": "353efb8464744d2ba6a6606c87acfa89",
       "version_major": 2,
       "version_minor": 0
      },
      "text/plain": [
       "  0%|          | 0/1000 [00:00<?, ?it/s]"
      ]
     },
     "metadata": {},
     "output_type": "display_data"
    },
    {
     "name": "stdout",
     "output_type": "stream",
     "text": [
      "rho_B = 0.0420000000000000\n",
      "Computing midpoint\n",
      "Computing fixation probability of a single A type in a population of B types\n"
     ]
    },
    {
     "data": {
      "application/vnd.jupyter.widget-view+json": {
       "model_id": "1b90ef364d6b4e7697fd7f04f4f90410",
       "version_major": 2,
       "version_minor": 0
      },
      "text/plain": [
       "  0%|          | 0/1000 [00:00<?, ?it/s]"
      ]
     },
     "metadata": {},
     "output_type": "display_data"
    },
    {
     "name": "stdout",
     "output_type": "stream",
     "text": [
      "rho_A = 0.000000000000000\n",
      "Computing fixation probability of a single B type in a population of A types\n"
     ]
    },
    {
     "data": {
      "application/vnd.jupyter.widget-view+json": {
       "model_id": "09fb46871bf04b139768b729aef5b7a6",
       "version_major": 2,
       "version_minor": 0
      },
      "text/plain": [
       "  0%|          | 0/1000 [00:00<?, ?it/s]"
      ]
     },
     "metadata": {},
     "output_type": "display_data"
    },
    {
     "name": "stdout",
     "output_type": "stream",
     "text": [
      "rho_B = 0.0300000000000000\n",
      "Computing right endpoint\n",
      "Computing fixation probability of a single A type in a population of B types\n"
     ]
    },
    {
     "data": {
      "application/vnd.jupyter.widget-view+json": {
       "model_id": "94500863acd841cabd32a23959247ea6",
       "version_major": 2,
       "version_minor": 0
      },
      "text/plain": [
       "  0%|          | 0/1000 [00:00<?, ?it/s]"
      ]
     },
     "metadata": {},
     "output_type": "display_data"
    },
    {
     "name": "stdout",
     "output_type": "stream",
     "text": [
      "rho_A = 0.000000000000000\n",
      "Computing fixation probability of a single B type in a population of A types\n"
     ]
    },
    {
     "data": {
      "application/vnd.jupyter.widget-view+json": {
       "model_id": "dff35af376d2423c9153ef53de9b4447",
       "version_major": 2,
       "version_minor": 0
      },
      "text/plain": [
       "  0%|          | 0/1000 [00:00<?, ?it/s]"
      ]
     },
     "metadata": {},
     "output_type": "display_data"
    },
    {
     "name": "stdout",
     "output_type": "stream",
     "text": [
      "rho_B = 0.0300000000000000\n",
      "beta_indifferent = 2.04923511177326\n",
      "computing required for indifference at delay = 14\n",
      "Computing fixation probability of a single A type in a population of B types\n"
     ]
    },
    {
     "data": {
      "application/vnd.jupyter.widget-view+json": {
       "model_id": "8c8f466f636f4e2f8079e709ae3a155d",
       "version_major": 2,
       "version_minor": 0
      },
      "text/plain": [
       "  0%|          | 0/1000 [00:00<?, ?it/s]"
      ]
     },
     "metadata": {},
     "output_type": "display_data"
    },
    {
     "name": "stdout",
     "output_type": "stream",
     "text": [
      "rho_A = 0.0580000000000000\n",
      "Computing fixation probability of a single B type in a population of A types\n"
     ]
    },
    {
     "data": {
      "application/vnd.jupyter.widget-view+json": {
       "model_id": "e5cab19be71c4bf7afa517a942453f2e",
       "version_major": 2,
       "version_minor": 0
      },
      "text/plain": [
       "  0%|          | 0/1000 [00:00<?, ?it/s]"
      ]
     },
     "metadata": {},
     "output_type": "display_data"
    },
    {
     "name": "stdout",
     "output_type": "stream",
     "text": [
      "rho_B = 0.0160000000000000\n",
      "Computing fixation probability of a single A type in a population of B types\n"
     ]
    },
    {
     "data": {
      "application/vnd.jupyter.widget-view+json": {
       "model_id": "43524bffb5fc4478b3a1fcb6e0ffc869",
       "version_major": 2,
       "version_minor": 0
      },
      "text/plain": [
       "  0%|          | 0/1000 [00:00<?, ?it/s]"
      ]
     },
     "metadata": {},
     "output_type": "display_data"
    },
    {
     "name": "stdout",
     "output_type": "stream",
     "text": [
      "rho_A = 0.00100000000000000\n",
      "Computing fixation probability of a single B type in a population of A types\n"
     ]
    },
    {
     "data": {
      "application/vnd.jupyter.widget-view+json": {
       "model_id": "ebc3178a48cd42fd90b4f28f3fbd3085",
       "version_major": 2,
       "version_minor": 0
      },
      "text/plain": [
       "  0%|          | 0/1000 [00:00<?, ?it/s]"
      ]
     },
     "metadata": {},
     "output_type": "display_data"
    },
    {
     "name": "stdout",
     "output_type": "stream",
     "text": [
      "rho_B = 0.0220000000000000\n",
      "Computing left endpoint\n",
      "Computing fixation probability of a single A type in a population of B types\n"
     ]
    },
    {
     "data": {
      "application/vnd.jupyter.widget-view+json": {
       "model_id": "b6223240974e41018c103518692f5654",
       "version_major": 2,
       "version_minor": 0
      },
      "text/plain": [
       "  0%|          | 0/1000 [00:00<?, ?it/s]"
      ]
     },
     "metadata": {},
     "output_type": "display_data"
    },
    {
     "name": "stdout",
     "output_type": "stream",
     "text": [
      "rho_A = 0.0520000000000000\n",
      "Computing fixation probability of a single B type in a population of A types\n"
     ]
    },
    {
     "data": {
      "application/vnd.jupyter.widget-view+json": {
       "model_id": "5b25c856e0ef47b89cbc9a22339de461",
       "version_major": 2,
       "version_minor": 0
      },
      "text/plain": [
       "  0%|          | 0/1000 [00:00<?, ?it/s]"
      ]
     },
     "metadata": {},
     "output_type": "display_data"
    },
    {
     "name": "stdout",
     "output_type": "stream",
     "text": [
      "rho_B = 0.0230000000000000\n",
      "Computing midpoint\n",
      "Computing fixation probability of a single A type in a population of B types\n"
     ]
    },
    {
     "data": {
      "application/vnd.jupyter.widget-view+json": {
       "model_id": "9475865a8b6643b6b6fb1186d75edea6",
       "version_major": 2,
       "version_minor": 0
      },
      "text/plain": [
       "  0%|          | 0/1000 [00:00<?, ?it/s]"
      ]
     },
     "metadata": {},
     "output_type": "display_data"
    },
    {
     "name": "stdout",
     "output_type": "stream",
     "text": [
      "rho_A = 0.00600000000000000\n",
      "Computing fixation probability of a single B type in a population of A types\n"
     ]
    },
    {
     "data": {
      "application/vnd.jupyter.widget-view+json": {
       "model_id": "07304b9ec0c54b72be04b017e1045d4d",
       "version_major": 2,
       "version_minor": 0
      },
      "text/plain": [
       "  0%|          | 0/1000 [00:00<?, ?it/s]"
      ]
     },
     "metadata": {},
     "output_type": "display_data"
    },
    {
     "name": "stdout",
     "output_type": "stream",
     "text": [
      "rho_B = 0.0200000000000000\n",
      "Computing right endpoint\n",
      "Computing fixation probability of a single A type in a population of B types\n"
     ]
    },
    {
     "data": {
      "application/vnd.jupyter.widget-view+json": {
       "model_id": "51ea752533c543c4b43efa11427d0f9a",
       "version_major": 2,
       "version_minor": 0
      },
      "text/plain": [
       "  0%|          | 0/1000 [00:00<?, ?it/s]"
      ]
     },
     "metadata": {},
     "output_type": "display_data"
    },
    {
     "name": "stdout",
     "output_type": "stream",
     "text": [
      "rho_A = 0.000000000000000\n",
      "Computing fixation probability of a single B type in a population of A types\n"
     ]
    },
    {
     "data": {
      "application/vnd.jupyter.widget-view+json": {
       "model_id": "90852fbb42be422f8badca91a746be09",
       "version_major": 2,
       "version_minor": 0
      },
      "text/plain": [
       "  0%|          | 0/1000 [00:00<?, ?it/s]"
      ]
     },
     "metadata": {},
     "output_type": "display_data"
    },
    {
     "name": "stdout",
     "output_type": "stream",
     "text": [
      "rho_B = 0.0230000000000000\n",
      "beta_indifferent = 2.28899291171082\n",
      "computing required for indifference at delay = 15\n",
      "Computing fixation probability of a single A type in a population of B types\n"
     ]
    },
    {
     "data": {
      "application/vnd.jupyter.widget-view+json": {
       "model_id": "789170967792400a98842afa46fea574",
       "version_major": 2,
       "version_minor": 0
      },
      "text/plain": [
       "  0%|          | 0/1000 [00:00<?, ?it/s]"
      ]
     },
     "metadata": {},
     "output_type": "display_data"
    },
    {
     "name": "stdout",
     "output_type": "stream",
     "text": [
      "rho_A = 0.109000000000000\n",
      "Computing fixation probability of a single B type in a population of A types\n"
     ]
    },
    {
     "data": {
      "application/vnd.jupyter.widget-view+json": {
       "model_id": "b179e1fc098949328342a5ab70fd886b",
       "version_major": 2,
       "version_minor": 0
      },
      "text/plain": [
       "  0%|          | 0/1000 [00:00<?, ?it/s]"
      ]
     },
     "metadata": {},
     "output_type": "display_data"
    },
    {
     "name": "stdout",
     "output_type": "stream",
     "text": [
      "rho_B = 0.0150000000000000\n",
      "Computing fixation probability of a single A type in a population of B types\n"
     ]
    },
    {
     "data": {
      "application/vnd.jupyter.widget-view+json": {
       "model_id": "245fd098ea164ea6b8ab3f16fd5430b0",
       "version_major": 2,
       "version_minor": 0
      },
      "text/plain": [
       "  0%|          | 0/1000 [00:00<?, ?it/s]"
      ]
     },
     "metadata": {},
     "output_type": "display_data"
    },
    {
     "name": "stdout",
     "output_type": "stream",
     "text": [
      "rho_A = 0.00200000000000000\n",
      "Computing fixation probability of a single B type in a population of A types\n"
     ]
    },
    {
     "data": {
      "application/vnd.jupyter.widget-view+json": {
       "model_id": "c8eb643c0c9b42108202a20886a9a03e",
       "version_major": 2,
       "version_minor": 0
      },
      "text/plain": [
       "  0%|          | 0/1000 [00:00<?, ?it/s]"
      ]
     },
     "metadata": {},
     "output_type": "display_data"
    },
    {
     "name": "stdout",
     "output_type": "stream",
     "text": [
      "rho_B = 0.0200000000000000\n",
      "Computing left endpoint\n",
      "Computing fixation probability of a single A type in a population of B types\n"
     ]
    },
    {
     "data": {
      "application/vnd.jupyter.widget-view+json": {
       "model_id": "5e55eb23df234f23b9d494a401cb60b4",
       "version_major": 2,
       "version_minor": 0
      },
      "text/plain": [
       "  0%|          | 0/1000 [00:00<?, ?it/s]"
      ]
     },
     "metadata": {},
     "output_type": "display_data"
    },
    {
     "name": "stdout",
     "output_type": "stream",
     "text": [
      "rho_A = 0.0750000000000000\n",
      "Computing fixation probability of a single B type in a population of A types\n"
     ]
    },
    {
     "data": {
      "application/vnd.jupyter.widget-view+json": {
       "model_id": "8a95e1c91bde4698968762ebc89ffff9",
       "version_major": 2,
       "version_minor": 0
      },
      "text/plain": [
       "  0%|          | 0/1000 [00:00<?, ?it/s]"
      ]
     },
     "metadata": {},
     "output_type": "display_data"
    },
    {
     "name": "stdout",
     "output_type": "stream",
     "text": [
      "rho_B = 0.00900000000000000\n",
      "Computing midpoint\n",
      "Computing fixation probability of a single A type in a population of B types\n"
     ]
    },
    {
     "data": {
      "application/vnd.jupyter.widget-view+json": {
       "model_id": "e6fa4327283740ea93bce97c163fc5d4",
       "version_major": 2,
       "version_minor": 0
      },
      "text/plain": [
       "  0%|          | 0/1000 [00:00<?, ?it/s]"
      ]
     },
     "metadata": {},
     "output_type": "display_data"
    },
    {
     "name": "stdout",
     "output_type": "stream",
     "text": [
      "rho_A = 0.0100000000000000\n",
      "Computing fixation probability of a single B type in a population of A types\n"
     ]
    },
    {
     "data": {
      "application/vnd.jupyter.widget-view+json": {
       "model_id": "3cd743632d36450f9cfeaffe2aaaf664",
       "version_major": 2,
       "version_minor": 0
      },
      "text/plain": [
       "  0%|          | 0/1000 [00:00<?, ?it/s]"
      ]
     },
     "metadata": {},
     "output_type": "display_data"
    },
    {
     "name": "stdout",
     "output_type": "stream",
     "text": [
      "rho_B = 0.00600000000000000\n",
      "Computing right endpoint\n",
      "Computing fixation probability of a single A type in a population of B types\n"
     ]
    },
    {
     "data": {
      "application/vnd.jupyter.widget-view+json": {
       "model_id": "5c0c67efd18a4e118048921a70e648f1",
       "version_major": 2,
       "version_minor": 0
      },
      "text/plain": [
       "  0%|          | 0/1000 [00:00<?, ?it/s]"
      ]
     },
     "metadata": {},
     "output_type": "display_data"
    },
    {
     "name": "stdout",
     "output_type": "stream",
     "text": [
      "rho_A = 0.00100000000000000\n",
      "Computing fixation probability of a single B type in a population of A types\n"
     ]
    },
    {
     "data": {
      "application/vnd.jupyter.widget-view+json": {
       "model_id": "43a90d4ef527411db31130ace5407997",
       "version_major": 2,
       "version_minor": 0
      },
      "text/plain": [
       "  0%|          | 0/1000 [00:00<?, ?it/s]"
      ]
     },
     "metadata": {},
     "output_type": "display_data"
    },
    {
     "name": "stdout",
     "output_type": "stream",
     "text": [
      "rho_B = 0.0120000000000000\n",
      "beta_indifferent = 2.55574109851994\n",
      "computing required for indifference at delay = 16\n",
      "Computing fixation probability of a single A type in a population of B types\n"
     ]
    },
    {
     "data": {
      "application/vnd.jupyter.widget-view+json": {
       "model_id": "8eaef2562b0743a5acabb441005e57a7",
       "version_major": 2,
       "version_minor": 0
      },
      "text/plain": [
       "  0%|          | 0/1000 [00:00<?, ?it/s]"
      ]
     },
     "metadata": {},
     "output_type": "display_data"
    },
    {
     "name": "stdout",
     "output_type": "stream",
     "text": [
      "rho_A = 0.144000000000000\n",
      "Computing fixation probability of a single B type in a population of A types\n"
     ]
    },
    {
     "data": {
      "application/vnd.jupyter.widget-view+json": {
       "model_id": "de6e08ce102f4fe18f7e0ec2f2a6b5b0",
       "version_major": 2,
       "version_minor": 0
      },
      "text/plain": [
       "  0%|          | 0/1000 [00:00<?, ?it/s]"
      ]
     },
     "metadata": {},
     "output_type": "display_data"
    },
    {
     "name": "stdout",
     "output_type": "stream",
     "text": [
      "rho_B = 0.00600000000000000\n",
      "Computing fixation probability of a single A type in a population of B types\n"
     ]
    },
    {
     "data": {
      "application/vnd.jupyter.widget-view+json": {
       "model_id": "3a8237b356e2404bbecb862c376e5193",
       "version_major": 2,
       "version_minor": 0
      },
      "text/plain": [
       "  0%|          | 0/1000 [00:00<?, ?it/s]"
      ]
     },
     "metadata": {},
     "output_type": "display_data"
    },
    {
     "name": "stdout",
     "output_type": "stream",
     "text": [
      "rho_A = 0.000000000000000\n",
      "Computing fixation probability of a single B type in a population of A types\n"
     ]
    },
    {
     "data": {
      "application/vnd.jupyter.widget-view+json": {
       "model_id": "8be2d2d6e1b047ac9d9269c580442ee8",
       "version_major": 2,
       "version_minor": 0
      },
      "text/plain": [
       "  0%|          | 0/1000 [00:00<?, ?it/s]"
      ]
     },
     "metadata": {},
     "output_type": "display_data"
    },
    {
     "name": "stdout",
     "output_type": "stream",
     "text": [
      "rho_B = 0.00500000000000000\n",
      "Computing left endpoint\n",
      "Computing fixation probability of a single A type in a population of B types\n"
     ]
    },
    {
     "data": {
      "application/vnd.jupyter.widget-view+json": {
       "model_id": "fc3ccde47b4b46fb84f42e6c1aaab0bf",
       "version_major": 2,
       "version_minor": 0
      },
      "text/plain": [
       "  0%|          | 0/1000 [00:00<?, ?it/s]"
      ]
     },
     "metadata": {},
     "output_type": "display_data"
    },
    {
     "name": "stdout",
     "output_type": "stream",
     "text": [
      "rho_A = 0.124000000000000\n",
      "Computing fixation probability of a single B type in a population of A types\n"
     ]
    },
    {
     "data": {
      "application/vnd.jupyter.widget-view+json": {
       "model_id": "eb8d0684b7784989a3492b283f11b225",
       "version_major": 2,
       "version_minor": 0
      },
      "text/plain": [
       "  0%|          | 0/1000 [00:00<?, ?it/s]"
      ]
     },
     "metadata": {},
     "output_type": "display_data"
    },
    {
     "name": "stdout",
     "output_type": "stream",
     "text": [
      "rho_B = 0.0100000000000000\n",
      "Computing midpoint\n",
      "Computing fixation probability of a single A type in a population of B types\n"
     ]
    },
    {
     "data": {
      "application/vnd.jupyter.widget-view+json": {
       "model_id": "59eecb3e79ad469eba3864e9b70ae132",
       "version_major": 2,
       "version_minor": 0
      },
      "text/plain": [
       "  0%|          | 0/1000 [00:00<?, ?it/s]"
      ]
     },
     "metadata": {},
     "output_type": "display_data"
    },
    {
     "name": "stdout",
     "output_type": "stream",
     "text": [
      "rho_A = 0.0190000000000000\n",
      "Computing fixation probability of a single B type in a population of A types\n"
     ]
    },
    {
     "data": {
      "application/vnd.jupyter.widget-view+json": {
       "model_id": "b22bed186be347b69cf3d332db6843bf",
       "version_major": 2,
       "version_minor": 0
      },
      "text/plain": [
       "  0%|          | 0/1000 [00:00<?, ?it/s]"
      ]
     },
     "metadata": {},
     "output_type": "display_data"
    },
    {
     "name": "stdout",
     "output_type": "stream",
     "text": [
      "rho_B = 0.00400000000000000\n",
      "Computing right endpoint\n",
      "Computing fixation probability of a single A type in a population of B types\n"
     ]
    },
    {
     "data": {
      "application/vnd.jupyter.widget-view+json": {
       "model_id": "23df4ea62e4c4b9fb7179285c022352f",
       "version_major": 2,
       "version_minor": 0
      },
      "text/plain": [
       "  0%|          | 0/1000 [00:00<?, ?it/s]"
      ]
     },
     "metadata": {},
     "output_type": "display_data"
    },
    {
     "name": "stdout",
     "output_type": "stream",
     "text": [
      "rho_A = 0.00300000000000000\n",
      "Computing fixation probability of a single B type in a population of A types\n"
     ]
    },
    {
     "data": {
      "application/vnd.jupyter.widget-view+json": {
       "model_id": "b21184885f0e40149bfb5d6b099327a6",
       "version_major": 2,
       "version_minor": 0
      },
      "text/plain": [
       "  0%|          | 0/1000 [00:00<?, ?it/s]"
      ]
     },
     "metadata": {},
     "output_type": "display_data"
    },
    {
     "name": "stdout",
     "output_type": "stream",
     "text": [
      "rho_B = 0.00500000000000000\n",
      "beta_indifferent = 2.67032565392228\n",
      "computing required for indifference at delay = 17\n",
      "Computing fixation probability of a single A type in a population of B types\n"
     ]
    },
    {
     "data": {
      "application/vnd.jupyter.widget-view+json": {
       "model_id": "12d05658f8a648738d301f253b450fbe",
       "version_major": 2,
       "version_minor": 0
      },
      "text/plain": [
       "  0%|          | 0/1000 [00:00<?, ?it/s]"
      ]
     },
     "metadata": {},
     "output_type": "display_data"
    },
    {
     "name": "stdout",
     "output_type": "stream",
     "text": [
      "rho_A = 0.158000000000000\n",
      "Computing fixation probability of a single B type in a population of A types\n"
     ]
    },
    {
     "data": {
      "application/vnd.jupyter.widget-view+json": {
       "model_id": "b057109469654d27b6e3fb92c680bfeb",
       "version_major": 2,
       "version_minor": 0
      },
      "text/plain": [
       "  0%|          | 0/1000 [00:00<?, ?it/s]"
      ]
     },
     "metadata": {},
     "output_type": "display_data"
    },
    {
     "name": "stdout",
     "output_type": "stream",
     "text": [
      "rho_B = 0.00500000000000000\n",
      "Computing fixation probability of a single A type in a population of B types\n"
     ]
    },
    {
     "data": {
      "application/vnd.jupyter.widget-view+json": {
       "model_id": "4fb37348fbb440b39d98d5158bbc78fc",
       "version_major": 2,
       "version_minor": 0
      },
      "text/plain": [
       "  0%|          | 0/1000 [00:00<?, ?it/s]"
      ]
     },
     "metadata": {},
     "output_type": "display_data"
    },
    {
     "name": "stdout",
     "output_type": "stream",
     "text": [
      "rho_A = 0.00100000000000000\n",
      "Computing fixation probability of a single B type in a population of A types\n"
     ]
    },
    {
     "data": {
      "application/vnd.jupyter.widget-view+json": {
       "model_id": "1d84f13f8c0144ad908b94154fe3dd32",
       "version_major": 2,
       "version_minor": 0
      },
      "text/plain": [
       "  0%|          | 0/1000 [00:00<?, ?it/s]"
      ]
     },
     "metadata": {},
     "output_type": "display_data"
    },
    {
     "name": "stdout",
     "output_type": "stream",
     "text": [
      "rho_B = 0.00300000000000000\n",
      "Computing left endpoint\n",
      "Computing fixation probability of a single A type in a population of B types\n"
     ]
    },
    {
     "data": {
      "application/vnd.jupyter.widget-view+json": {
       "model_id": "94be2432566e41c7b88238183e4439a0",
       "version_major": 2,
       "version_minor": 0
      },
      "text/plain": [
       "  0%|          | 0/1000 [00:00<?, ?it/s]"
      ]
     },
     "metadata": {},
     "output_type": "display_data"
    },
    {
     "name": "stdout",
     "output_type": "stream",
     "text": [
      "rho_A = 0.160000000000000\n",
      "Computing fixation probability of a single B type in a population of A types\n"
     ]
    },
    {
     "data": {
      "application/vnd.jupyter.widget-view+json": {
       "model_id": "cd98d904140d454087ad71d0c883da75",
       "version_major": 2,
       "version_minor": 0
      },
      "text/plain": [
       "  0%|          | 0/1000 [00:00<?, ?it/s]"
      ]
     },
     "metadata": {},
     "output_type": "display_data"
    },
    {
     "name": "stdout",
     "output_type": "stream",
     "text": [
      "rho_B = 0.00400000000000000\n",
      "Computing midpoint\n",
      "Computing fixation probability of a single A type in a population of B types\n"
     ]
    },
    {
     "data": {
      "application/vnd.jupyter.widget-view+json": {
       "model_id": "49144824676949d29dae5d2e1fcab405",
       "version_major": 2,
       "version_minor": 0
      },
      "text/plain": [
       "  0%|          | 0/1000 [00:00<?, ?it/s]"
      ]
     },
     "metadata": {},
     "output_type": "display_data"
    },
    {
     "name": "stdout",
     "output_type": "stream",
     "text": [
      "rho_A = 0.0310000000000000\n",
      "Computing fixation probability of a single B type in a population of A types\n"
     ]
    },
    {
     "data": {
      "application/vnd.jupyter.widget-view+json": {
       "model_id": "8f824f973a614843ac2896768e3b145b",
       "version_major": 2,
       "version_minor": 0
      },
      "text/plain": [
       "  0%|          | 0/1000 [00:00<?, ?it/s]"
      ]
     },
     "metadata": {},
     "output_type": "display_data"
    },
    {
     "name": "stdout",
     "output_type": "stream",
     "text": [
      "rho_B = 0.00400000000000000\n",
      "Computing right endpoint\n",
      "Computing fixation probability of a single A type in a population of B types\n"
     ]
    },
    {
     "data": {
      "application/vnd.jupyter.widget-view+json": {
       "model_id": "143556850a38476ab06c2025cfe3465d",
       "version_major": 2,
       "version_minor": 0
      },
      "text/plain": [
       "  0%|          | 0/1000 [00:00<?, ?it/s]"
      ]
     },
     "metadata": {},
     "output_type": "display_data"
    },
    {
     "name": "stdout",
     "output_type": "stream",
     "text": [
      "rho_A = 0.00400000000000000\n",
      "Computing fixation probability of a single B type in a population of A types\n"
     ]
    },
    {
     "data": {
      "application/vnd.jupyter.widget-view+json": {
       "model_id": "1d2a72926db94ba2b2203f92d9ba6680",
       "version_major": 2,
       "version_minor": 0
      },
      "text/plain": [
       "  0%|          | 0/1000 [00:00<?, ?it/s]"
      ]
     },
     "metadata": {},
     "output_type": "display_data"
    },
    {
     "name": "stdout",
     "output_type": "stream",
     "text": [
      "rho_B = 0.00200000000000000\n",
      "beta_indifferent = None\n",
      "computing required for indifference at delay = 18\n",
      "Computing fixation probability of a single A type in a population of B types\n"
     ]
    },
    {
     "data": {
      "application/vnd.jupyter.widget-view+json": {
       "model_id": "f8878755941e4ddabea2d1d5702e145a",
       "version_major": 2,
       "version_minor": 0
      },
      "text/plain": [
       "  0%|          | 0/1000 [00:00<?, ?it/s]"
      ]
     },
     "metadata": {},
     "output_type": "display_data"
    },
    {
     "name": "stdout",
     "output_type": "stream",
     "text": [
      "rho_A = 0.180000000000000\n",
      "Computing fixation probability of a single B type in a population of A types\n"
     ]
    },
    {
     "data": {
      "application/vnd.jupyter.widget-view+json": {
       "model_id": "0d8acba5b3af4975a5d839eac5eebf58",
       "version_major": 2,
       "version_minor": 0
      },
      "text/plain": [
       "  0%|          | 0/1000 [00:00<?, ?it/s]"
      ]
     },
     "metadata": {},
     "output_type": "display_data"
    },
    {
     "name": "stdout",
     "output_type": "stream",
     "text": [
      "rho_B = 0.000000000000000\n",
      "Computing fixation probability of a single A type in a population of B types\n"
     ]
    },
    {
     "data": {
      "application/vnd.jupyter.widget-view+json": {
       "model_id": "01a3df1ca70d4cbf93df9b0d6f04cfc2",
       "version_major": 2,
       "version_minor": 0
      },
      "text/plain": [
       "  0%|          | 0/1000 [00:00<?, ?it/s]"
      ]
     },
     "metadata": {},
     "output_type": "display_data"
    },
    {
     "name": "stdout",
     "output_type": "stream",
     "text": [
      "rho_A = 0.0100000000000000\n",
      "Computing fixation probability of a single B type in a population of A types\n"
     ]
    },
    {
     "data": {
      "application/vnd.jupyter.widget-view+json": {
       "model_id": "9b9d82ebf4424ea68649d88f7001759d",
       "version_major": 2,
       "version_minor": 0
      },
      "text/plain": [
       "  0%|          | 0/1000 [00:00<?, ?it/s]"
      ]
     },
     "metadata": {},
     "output_type": "display_data"
    },
    {
     "name": "stdout",
     "output_type": "stream",
     "text": [
      "rho_B = 0.00100000000000000\n",
      "Computing fixation probability of a single A type in a population of B types\n"
     ]
    },
    {
     "data": {
      "application/vnd.jupyter.widget-view+json": {
       "model_id": "889556ac1ed54b2eb030464c0bc200e6",
       "version_major": 2,
       "version_minor": 0
      },
      "text/plain": [
       "  0%|          | 0/1000 [00:00<?, ?it/s]"
      ]
     },
     "metadata": {},
     "output_type": "display_data"
    },
    {
     "name": "stdout",
     "output_type": "stream",
     "text": [
      "rho_A = 0.000000000000000\n",
      "Computing fixation probability of a single B type in a population of A types\n"
     ]
    },
    {
     "data": {
      "application/vnd.jupyter.widget-view+json": {
       "model_id": "7b572bd167744a2fa0cf8383a3c47e73",
       "version_major": 2,
       "version_minor": 0
      },
      "text/plain": [
       "  0%|          | 0/1000 [00:00<?, ?it/s]"
      ]
     },
     "metadata": {},
     "output_type": "display_data"
    },
    {
     "name": "stdout",
     "output_type": "stream",
     "text": [
      "rho_B = 0.00200000000000000\n",
      "Computing left endpoint\n",
      "Computing fixation probability of a single A type in a population of B types\n"
     ]
    },
    {
     "data": {
      "application/vnd.jupyter.widget-view+json": {
       "model_id": "573cfee3f5384c6a9cb12da4b15503d6",
       "version_major": 2,
       "version_minor": 0
      },
      "text/plain": [
       "  0%|          | 0/1000 [00:00<?, ?it/s]"
      ]
     },
     "metadata": {},
     "output_type": "display_data"
    },
    {
     "name": "stdout",
     "output_type": "stream",
     "text": [
      "rho_A = 0.0110000000000000\n",
      "Computing fixation probability of a single B type in a population of A types\n"
     ]
    },
    {
     "data": {
      "application/vnd.jupyter.widget-view+json": {
       "model_id": "a8a233a938ca4640bb85a17c4f649848",
       "version_major": 2,
       "version_minor": 0
      },
      "text/plain": [
       "  0%|          | 0/1000 [00:00<?, ?it/s]"
      ]
     },
     "metadata": {},
     "output_type": "display_data"
    },
    {
     "name": "stdout",
     "output_type": "stream",
     "text": [
      "rho_B = 0.00100000000000000\n",
      "Computing midpoint\n",
      "Computing fixation probability of a single A type in a population of B types\n"
     ]
    },
    {
     "data": {
      "application/vnd.jupyter.widget-view+json": {
       "model_id": "8be1be9208c1415cb919e2a3a314f095",
       "version_major": 2,
       "version_minor": 0
      },
      "text/plain": [
       "  0%|          | 0/1000 [00:00<?, ?it/s]"
      ]
     },
     "metadata": {},
     "output_type": "display_data"
    },
    {
     "name": "stdout",
     "output_type": "stream",
     "text": [
      "rho_A = 0.00100000000000000\n",
      "Computing fixation probability of a single B type in a population of A types\n"
     ]
    },
    {
     "data": {
      "application/vnd.jupyter.widget-view+json": {
       "model_id": "94a90a87f25549e997c412ab449fe54f",
       "version_major": 2,
       "version_minor": 0
      },
      "text/plain": [
       "  0%|          | 0/1000 [00:00<?, ?it/s]"
      ]
     },
     "metadata": {},
     "output_type": "display_data"
    },
    {
     "name": "stdout",
     "output_type": "stream",
     "text": [
      "rho_B = 0.00300000000000000\n",
      "Computing right endpoint\n",
      "Computing fixation probability of a single A type in a population of B types\n"
     ]
    },
    {
     "data": {
      "application/vnd.jupyter.widget-view+json": {
       "model_id": "b64970ac4b1d4f36be6f44c9726c1646",
       "version_major": 2,
       "version_minor": 0
      },
      "text/plain": [
       "  0%|          | 0/1000 [00:00<?, ?it/s]"
      ]
     },
     "metadata": {},
     "output_type": "display_data"
    },
    {
     "name": "stdout",
     "output_type": "stream",
     "text": [
      "rho_A = 0.000000000000000\n",
      "Computing fixation probability of a single B type in a population of A types\n"
     ]
    },
    {
     "data": {
      "application/vnd.jupyter.widget-view+json": {
       "model_id": "16297b37513b4f6d98d1a6a7de0cf959",
       "version_major": 2,
       "version_minor": 0
      },
      "text/plain": [
       "  0%|          | 0/1000 [00:00<?, ?it/s]"
      ]
     },
     "metadata": {},
     "output_type": "display_data"
    },
    {
     "name": "stdout",
     "output_type": "stream",
     "text": [
      "rho_B = 0.00400000000000000\n",
      "beta_indifferent = 3.37830094339717\n",
      "computing required for indifference at delay = 19\n",
      "Computing fixation probability of a single A type in a population of B types\n"
     ]
    },
    {
     "data": {
      "application/vnd.jupyter.widget-view+json": {
       "model_id": "33b0af0f18e7482fbf32164fc1d0dc91",
       "version_major": 2,
       "version_minor": 0
      },
      "text/plain": [
       "  0%|          | 0/1000 [00:00<?, ?it/s]"
      ]
     },
     "metadata": {},
     "output_type": "display_data"
    },
    {
     "name": "stdout",
     "output_type": "stream",
     "text": [
      "rho_A = 0.224000000000000\n",
      "Computing fixation probability of a single B type in a population of A types\n"
     ]
    },
    {
     "data": {
      "application/vnd.jupyter.widget-view+json": {
       "model_id": "4b606d0e52164785b8b1351b4c8b27dc",
       "version_major": 2,
       "version_minor": 0
      },
      "text/plain": [
       "  0%|          | 0/1000 [00:00<?, ?it/s]"
      ]
     },
     "metadata": {},
     "output_type": "display_data"
    },
    {
     "name": "stdout",
     "output_type": "stream",
     "text": [
      "rho_B = 0.00100000000000000\n",
      "Computing fixation probability of a single A type in a population of B types\n"
     ]
    },
    {
     "data": {
      "application/vnd.jupyter.widget-view+json": {
       "model_id": "a3b5fef52f53443fb9b86a53572aefd1",
       "version_major": 2,
       "version_minor": 0
      },
      "text/plain": [
       "  0%|          | 0/1000 [00:00<?, ?it/s]"
      ]
     },
     "metadata": {},
     "output_type": "display_data"
    },
    {
     "name": "stdout",
     "output_type": "stream",
     "text": [
      "rho_A = 0.0200000000000000\n",
      "Computing fixation probability of a single B type in a population of A types\n"
     ]
    },
    {
     "data": {
      "application/vnd.jupyter.widget-view+json": {
       "model_id": "ca13f18209e34058b0b43e17dc633c2a",
       "version_major": 2,
       "version_minor": 0
      },
      "text/plain": [
       "  0%|          | 0/1000 [00:00<?, ?it/s]"
      ]
     },
     "metadata": {},
     "output_type": "display_data"
    },
    {
     "name": "stdout",
     "output_type": "stream",
     "text": [
      "rho_B = 0.00200000000000000\n",
      "Computing fixation probability of a single A type in a population of B types\n"
     ]
    },
    {
     "data": {
      "application/vnd.jupyter.widget-view+json": {
       "model_id": "9cc7ed76cac54c63b0d3d864c742e00b",
       "version_major": 2,
       "version_minor": 0
      },
      "text/plain": [
       "  0%|          | 0/1000 [00:00<?, ?it/s]"
      ]
     },
     "metadata": {},
     "output_type": "display_data"
    },
    {
     "name": "stdout",
     "output_type": "stream",
     "text": [
      "rho_A = 0.00100000000000000\n",
      "Computing fixation probability of a single B type in a population of A types\n"
     ]
    },
    {
     "data": {
      "application/vnd.jupyter.widget-view+json": {
       "model_id": "a02be0e140624118a4d8fe290c7093e5",
       "version_major": 2,
       "version_minor": 0
      },
      "text/plain": [
       "  0%|          | 0/1000 [00:00<?, ?it/s]"
      ]
     },
     "metadata": {},
     "output_type": "display_data"
    },
    {
     "name": "stdout",
     "output_type": "stream",
     "text": [
      "rho_B = 0.00200000000000000\n",
      "Computing left endpoint\n",
      "Computing fixation probability of a single A type in a population of B types\n"
     ]
    },
    {
     "data": {
      "application/vnd.jupyter.widget-view+json": {
       "model_id": "ff2a0a145e65435e9b92fac5a849e46d",
       "version_major": 2,
       "version_minor": 0
      },
      "text/plain": [
       "  0%|          | 0/1000 [00:00<?, ?it/s]"
      ]
     },
     "metadata": {},
     "output_type": "display_data"
    },
    {
     "name": "stdout",
     "output_type": "stream",
     "text": [
      "rho_A = 0.0190000000000000\n",
      "Computing fixation probability of a single B type in a population of A types\n"
     ]
    },
    {
     "data": {
      "application/vnd.jupyter.widget-view+json": {
       "model_id": "2f93433a9afb43bcb934b3c060994281",
       "version_major": 2,
       "version_minor": 0
      },
      "text/plain": [
       "  0%|          | 0/1000 [00:00<?, ?it/s]"
      ]
     },
     "metadata": {},
     "output_type": "display_data"
    },
    {
     "name": "stdout",
     "output_type": "stream",
     "text": [
      "rho_B = 0.000000000000000\n",
      "Computing midpoint\n",
      "Computing fixation probability of a single A type in a population of B types\n"
     ]
    },
    {
     "data": {
      "application/vnd.jupyter.widget-view+json": {
       "model_id": "5bf66facae324d4798989ca771001c42",
       "version_major": 2,
       "version_minor": 0
      },
      "text/plain": [
       "  0%|          | 0/1000 [00:00<?, ?it/s]"
      ]
     },
     "metadata": {},
     "output_type": "display_data"
    },
    {
     "name": "stdout",
     "output_type": "stream",
     "text": [
      "rho_A = 0.000000000000000\n",
      "Computing fixation probability of a single B type in a population of A types\n"
     ]
    },
    {
     "data": {
      "application/vnd.jupyter.widget-view+json": {
       "model_id": "b6c738d577b44b2486d72a56fe5650fe",
       "version_major": 2,
       "version_minor": 0
      },
      "text/plain": [
       "  0%|          | 0/1000 [00:00<?, ?it/s]"
      ]
     },
     "metadata": {},
     "output_type": "display_data"
    },
    {
     "name": "stdout",
     "output_type": "stream",
     "text": [
      "rho_B = 0.00100000000000000\n",
      "Computing right endpoint\n",
      "Computing fixation probability of a single A type in a population of B types\n"
     ]
    },
    {
     "data": {
      "application/vnd.jupyter.widget-view+json": {
       "model_id": "055fa1cf94a44509a381e6d49722297a",
       "version_major": 2,
       "version_minor": 0
      },
      "text/plain": [
       "  0%|          | 0/1000 [00:00<?, ?it/s]"
      ]
     },
     "metadata": {},
     "output_type": "display_data"
    },
    {
     "name": "stdout",
     "output_type": "stream",
     "text": [
      "rho_A = 0.00100000000000000\n",
      "Computing fixation probability of a single B type in a population of A types\n"
     ]
    },
    {
     "data": {
      "application/vnd.jupyter.widget-view+json": {
       "model_id": "17ea87d3b3054c5ebae554f7b0881c3f",
       "version_major": 2,
       "version_minor": 0
      },
      "text/plain": [
       "  0%|          | 0/1000 [00:00<?, ?it/s]"
      ]
     },
     "metadata": {},
     "output_type": "display_data"
    },
    {
     "name": "stdout",
     "output_type": "stream",
     "text": [
      "rho_B = 0.000000000000000\n",
      "beta_indifferent = None\n"
     ]
    }
   ],
   "source": [
    "for t in tqdm(range(10, 20)):\n",
    "    print('computing required for indifference at delay = {}'.format(t))\n",
    "    r = get_fix_diff_zero(20, t, 1000, False)\n",
    "    print('beta_indifferent = {}'.format(r))\n",
    "    results.append(r)"
   ]
  },
  {
   "cell_type": "code",
   "execution_count": 384,
   "metadata": {},
   "outputs": [
    {
     "data": {
      "text/plain": [
       "[None,\n",
       " None,\n",
       " None,\n",
       " None,\n",
       " None,\n",
       " None,\n",
       " 1.05619555677107,\n",
       " 1.16045992661164,\n",
       " 1.23771705314895,\n",
       " 1.34877197512632]"
      ]
     },
     "execution_count": 384,
     "metadata": {},
     "output_type": "execute_result"
    }
   ],
   "source": [
    "results"
   ]
  },
  {
   "cell_type": "code",
   "execution_count": null,
   "metadata": {},
   "outputs": [],
   "source": []
  },
  {
   "cell_type": "code",
   "execution_count": 389,
   "metadata": {},
   "outputs": [
    {
     "data": {
      "image/png": "[encoded data removed]",
      "text/plain": [
       "<Figure size 432x288 with 1 Axes>"
      ]
     },
     "metadata": {
      "needs_background": "light"
     },
     "output_type": "display_data"
    }
   ],
   "source": [
    "plt.plot(results)\n",
    "plt.show()"
   ]
  },
  {
   "cell_type": "code",
   "execution_count": 310,
   "metadata": {},
   "outputs": [],
   "source": [
    "def QuadraticInterpolate(f, t0, t1):\n",
    "    # Find the midpoint between t0 and t1:\n",
    "    t2 = (t0 + t1) / 2\n",
    "\n",
    "    # Evaluate the function at all three points.\n",
    "    print('Computing left endpoint')\n",
    "    f0 = f(t0)\n",
    "    \n",
    "    print('Computing midpoint')\n",
    "    f2 = f(t2)\n",
    "    \n",
    "    print('Computing right endpoint')\n",
    "    f1 = f(t1)\n",
    "\n",
    "    # Compute the coefficients of the parabola p(x) that passes\n",
    "    # through the three points (t0,f0), (t2,f2), (t1,f1).\n",
    "    Q = (f1 + f0)/2 - f2\n",
    "    R = (f1 - f0)/2\n",
    "    S = f2\n",
    "\n",
    "    if Q == 0:\n",
    "        # Special case: the three points are collinear.\n",
    "        if R == 0:\n",
    "            # There is no root because the line is horizontal.\n",
    "            return None\n",
    "        # Solve for the place where the line passes through the x-axis.\n",
    "        x = -S/R\n",
    "        # Is the root within the search interval?\n",
    "        if -1 <= x <= +1:\n",
    "            # Convert x back to the original independent variable t:\n",
    "            t = (t2 - t0)*x + t2\n",
    "            return t\n",
    "        # The x value was outside the search interval.\n",
    "        # Therefore it is not valid.\n",
    "        return None\n",
    "\n",
    "    # The approximation curve is a parabola.\n",
    "    # Calculate the radicand u. Then we can determine\n",
    "    # how many real roots there are.\n",
    "    u = R*R - 4*Q*S\n",
    "\n",
    "    # We require a non-tangent real root.\n",
    "    if u <= 0:\n",
    "        # There are no real roots for the parabolic curve,\n",
    "        # or there is a single tangent root.\n",
    "        return None\n",
    "\n",
    "    ru = sqrt(u)\n",
    "    x1 = (-R + ru) / (2*Q)\n",
    "    x2 = (-R - ru) / (2*Q)\n",
    "\n",
    "    # Form a list of the x values that are within\n",
    "    # the normalized interval [-1, +1].\n",
    "    xlist = [x for x in [x1, x2] if -1 <= x <= +1]\n",
    "\n",
    "    # There must be exactly one real root inside\n",
    "    # the normalized interval in order for the\n",
    "    # solution to be considered valid.\n",
    "    if len(xlist) == 1:\n",
    "        # Translate the normalized parameter x back\n",
    "        # into the independent variable t:\n",
    "        t = (t2 - t0)*xlist[0] + t2\n",
    "        return t\n",
    "\n",
    "    # Either there were no valid roots, or\n",
    "    # there were 2 roots (interval was too large).\n",
    "    return None"
   ]
  },
  {
   "cell_type": "code",
   "execution_count": null,
   "metadata": {},
   "outputs": [],
   "source": []
  },
  {
   "cell_type": "code",
   "execution_count": null,
   "metadata": {},
   "outputs": [],
   "source": []
  }
 ],
 "metadata": {
  "kernelspec": {
   "display_name": "SageMath 9.2",
   "language": "sage",
   "name": "sagemath"
  },
  "language_info": {
   "codemirror_mode": {
    "name": "ipython",
    "version": 3
   },
   "file_extension": ".py",
   "mimetype": "text/x-python",
   "name": "python",
   "nbconvert_exporter": "python",
   "pygments_lexer": "ipython3",
   "version": "3.9.1"
  }
 },
 "nbformat": 4,
 "nbformat_minor": 4
}
