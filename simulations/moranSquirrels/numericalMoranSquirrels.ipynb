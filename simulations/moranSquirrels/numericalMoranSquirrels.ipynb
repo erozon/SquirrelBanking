{
 "cells": [
  {
   "cell_type": "markdown",
   "metadata": {},
   "source": [
    "#### In notebook moranSquirrels, I had to run simulations to estimate probabilities for fixation. Now, to get a better sense of what is going on (and much more efficiently) I'm going to numerically compute fixation probabilities."
   ]
  },
  {
   "cell_type": "code",
   "execution_count": 1,
   "metadata": {},
   "outputs": [],
   "source": [
    "from tqdm.notebook import tqdm\n",
    "import matplotlib.pyplot as plt"
   ]
  },
  {
   "cell_type": "code",
   "execution_count": 2,
   "metadata": {},
   "outputs": [],
   "source": [
    "def survival_matrix(N):\n",
    "    surv_mat = zero_matrix(QQ, N)\n",
    "    for i in range(N):\n",
    "        surv_mat[i,i] = 1 - 1/N\n",
    "        \n",
    "    return surv_mat\n",
    "\n",
    "def age_up_matrix(N):\n",
    "    age_up_mat = zero_matrix(QQ, N)\n",
    "    \n",
    "    age_up_mat[0, 0] = 1\n",
    "    \n",
    "    for i in range(1, N - 1):\n",
    "        age_up_mat[i+1, i] = 1\n",
    "    \n",
    "    age_up_mat[-1, -1] = 1\n",
    "    \n",
    "    return age_up_mat"
   ]
  },
  {
   "cell_type": "code",
   "execution_count": 3,
   "metadata": {},
   "outputs": [],
   "source": [
    "def num_fertile_A(current_pop):\n",
    "    return current_pop[0]\n",
    "\n",
    "def num_fertile_B(current_pop):\n",
    "    return current_pop[-1]\n",
    "\n",
    "def A_reproduction_probability(current_pop, beta):\n",
    "    return num_fertile_A(current_pop)/(num_fertile_A(current_pop) + beta*num_fertile_B(current_pop))\n",
    "\n",
    "def kill_someone(current_pop, surv_mat):\n",
    "    return surv_mat*current_pop\n",
    "\n",
    "def birth_someone_and_age_up(current_pop, A_rep_prob, age_up_mat):\n",
    "    current_pop = age_up_mat*current_pop\n",
    "    current_pop[0] += A_rep_prob\n",
    "    current_pop[1] += 1 - A_rep_prob\n",
    "    \n",
    "    return current_pop\n"
   ]
  },
  {
   "cell_type": "code",
   "execution_count": 4,
   "metadata": {},
   "outputs": [],
   "source": [
    "def expected_day_of_squirrels(current_pop, beta, surv_mat = None, age_up_mat = None):\n",
    "    \n",
    "    N = len(current_pop)\n",
    "    if surv_mat == None:\n",
    "        surv_mat = survival_matrix(N)\n",
    "    if age_up_mat == None:\n",
    "        age_up_mat = age_up_matrix(N)\n",
    "    \n",
    "    p = A_reproduction_probability(current_pop, beta)\n",
    "    current_pop = kill_someone(current_pop, surv_mat)\n",
    "    current_pop = birth_someone_and_age_up(current_pop, p, age_up_mat)\n",
    "    \n",
    "    return current_pop.n()"
   ]
  },
  {
   "cell_type": "code",
   "execution_count": 19,
   "metadata": {},
   "outputs": [],
   "source": []
  },
  {
   "cell_type": "code",
   "execution_count": 45,
   "metadata": {},
   "outputs": [
    {
     "data": {
      "application/vnd.jupyter.widget-view+json": {
       "model_id": "9a7aa9339e404dbab2a418356141e6e2",
       "version_major": 2,
       "version_minor": 0
      },
      "text/plain": [
       "  0%|          | 0/20000 [00:00<?, ?it/s]"
      ]
     },
     "metadata": {},
     "output_type": "display_data"
    },
    {
     "data": {
      "text/plain": [
       "(1.22819536627093e-17, 1.00000000000000, 0.909090909090909, 0.826446280991735, 0.751314800901578, 0.683013455365071, 0.620921323059155, 0.564473930053777, 0.513158118230707, 0.466507380209733, 4.66507380209732)"
      ]
     },
     "execution_count": 45,
     "metadata": {},
     "output_type": "execute_result"
    }
   ],
   "source": [
    "current_pop = vector((10, 1, 0, 0, 0, 0, 0, 0,0, 0, 0))\n",
    "for i in tqdm(range(20000)):\n",
    "    current_pop = expected_day_of_squirrels(current_pop, 2.42)\n",
    "current_pop"
   ]
  },
  {
   "cell_type": "markdown",
   "metadata": {},
   "source": [
    "#### Naturally, indefinite coexistence of the two types is impossible. It seems there is a breaking point at which B's go from being whiped out to fixating. This seems another natural measure of fitness... A's and B's have equivalent fitness if B is just as likely to be whiped out as it is to whipe out. This is likely asymmetric."
   ]
  },
  {
   "cell_type": "markdown",
   "metadata": {},
   "source": [
    "#### It is also important to note that none of this work answers the question I wanted to ask: \"What is $P(B \\text{ fixate } )$?\" "
   ]
  },
  {
   "cell_type": "code",
   "execution_count": 22,
   "metadata": {},
   "outputs": [],
   "source": [
    "def gen_combinations(n, k):\n",
    "    \"\"\"\n",
    "    Returns all 'combinations' (combinatorial term meaning ways of summing up to a number)\n",
    "    of n by k parts. For instance, gen_combinations(2, 2) = [[2, 0], [1, 1], [0, 2]].\n",
    "    \"\"\"\n",
    "    min_elem = 0\n",
    "    max_elem = n\n",
    "    allowed = range(max_elem, min_elem-1, -1)\n",
    "\n",
    "    def helper(n, k, t):\n",
    "        if k == 0:\n",
    "            if n == 0:\n",
    "                yield t\n",
    "        elif k == 1:\n",
    "            if n in allowed:\n",
    "                yield t + [n,]\n",
    "        elif min_elem * k <= n <= max_elem * k:\n",
    "            for v in allowed:\n",
    "                yield from helper(n - v, k - 1, t + [v,])\n",
    "\n",
    "    return list(helper(n, k, []))"
   ]
  },
  {
   "cell_type": "code",
   "execution_count": 23,
   "metadata": {},
   "outputs": [],
   "source": [
    "def delta(i, j):\n",
    "    if i == j:\n",
    "        return 1\n",
    "    else:\n",
    "        return 0"
   ]
  },
  {
   "cell_type": "code",
   "execution_count": 24,
   "metadata": {},
   "outputs": [],
   "source": [
    "def succ_A_die_A_rep(c1):\n",
    "    list_of_successors = []\n",
    "    if len(c1) == 2:\n",
    "        succ = c1\n",
    "    else:\n",
    "        succ = [c1[0]] + [0] + [c1[i] for i in range(1, len(c1) - 2)] + [c1[-2] + c1[-1]]\n",
    "    list_of_successors.append(succ)\n",
    "    \n",
    "    return list_of_successors\n",
    "\n",
    "def succ_A_die_B_rep(c1):\n",
    "    list_of_successors = []\n",
    "    if len(c1) == 2:\n",
    "        succ = [c1[0] -1, c1[1] + 1]\n",
    "    else:\n",
    "        succ = [c1[0] - 1] + [1] + [c1[i] for i in range(1, len(c1) - 2)] + [c1[-2] + c1[-1]]\n",
    "    list_of_successors.append(succ)\n",
    "    \n",
    "    return list_of_successors\n",
    "    \n",
    "def succ_B_die_A_rep(c1):\n",
    "    list_of_successors = []\n",
    "    if len(c1) == 2:\n",
    "        succ = [c1[0] +1, c1[1] -1]\n",
    "        list_of_successors.append(succ)\n",
    "    else:\n",
    "        for a in range(1, len(c1) - 1):\n",
    "            succ = [c1[0] + 1] + [0] + [max(c1[i] - delta(a, i), 0) for i in range(1, len(c1) - 2)] + [c1[-2] + c1[-1]]\n",
    "            if sum(succ) == sum(c1):\n",
    "                list_of_successors.append(succ)\n",
    "        succ = [c1[0] + 1] + [0] + [c1[i] for i in range(1, len(c1) - 2)] + [max(c1[-2] + c1[-1] - 1, 0)]\n",
    "        if sum(succ) == sum(c1):\n",
    "            list_of_successors.append(succ)\n",
    "        \n",
    "    return list_of_successors\n",
    "\n",
    "def succ_B_die_B_rep(c1):\n",
    "    list_of_successors = []\n",
    "    if len(c1) == 2:\n",
    "        succ = c1\n",
    "        list_of_successors.append(succ)\n",
    "    else:\n",
    "    \n",
    "        for a in range(1, len(c1) - 1):\n",
    "            succ = [c1[0]] + [1] + [max(c1[i] - delta(a, i), 0) for i in range(1, len(c1) - 2)] + [c1[-2] + c1[-1]]\n",
    "            if sum(succ) == sum(c1):\n",
    "                list_of_successors.append(succ)\n",
    "        succ = [c1[0]] + [1] + [c1[i] for i in range(1, len(c1) - 2)] + [max(c1[-2] + c1[-1] - 1, 0)]\n",
    "        if sum(succ) == sum(c1):\n",
    "            list_of_successors.append(succ)\n",
    "    \n",
    "    return list_of_successors\n",
    "\n",
    "def all_successors(c1):\n",
    "    s1 = succ_A_die_A_rep(c1)\n",
    "    s2 = succ_A_die_B_rep(c1)\n",
    "    s3 = succ_B_die_A_rep(c1)\n",
    "    s4 = succ_B_die_B_rep(c1)\n",
    "    \n",
    "    return s1 + s2 + s3 + s4"
   ]
  },
  {
   "cell_type": "code",
   "execution_count": 25,
   "metadata": {},
   "outputs": [],
   "source": [
    "def A_died_A_reproduced(c1, c2):\n",
    "    return c2 in succ_A_die_A_rep(c1)\n",
    "\n",
    "def A_died_B_reproduced(c1, c2):\n",
    "    return c2 in succ_A_die_B_rep(c1)\n",
    "\n",
    "def B_died_A_reproduced(c1, c2):\n",
    "    return c2 in succ_B_die_A_rep(c1)\n",
    "\n",
    "def B_died_B_reproduced(c1, c2):\n",
    "    return c2 in succ_B_die_B_rep(c1)"
   ]
  },
  {
   "cell_type": "code",
   "execution_count": 26,
   "metadata": {},
   "outputs": [],
   "source": [
    "def age_at_which_death_occurred(c1, c2):\n",
    "    if A_died_A_reproduced(c1,c2) or A_died_B_reproduced(c1, c2):\n",
    "        return None\n",
    "    else:\n",
    "        for a in range(1, len(c1) - 2):\n",
    "            if c1[a] != c2[a + 1]:\n",
    "                return a\n",
    "        return len(c2) - 2"
   ]
  },
  {
   "cell_type": "code",
   "execution_count": 27,
   "metadata": {},
   "outputs": [],
   "source": [
    "def prob_A_die(c1):\n",
    "    return c1[0]/sum(c1)\n",
    "\n",
    "def prob_B_die(c1):\n",
    "    return 1 - prob_A_die(c1)\n",
    "\n",
    "def NEWprob_B_die(c1, c2):\n",
    "    overall_prob_B_die = 1 - prob_A_die(c1)\n",
    "    d = age_at_which_death_occurred(c1, c2)\n",
    "    num_B_types = sum(c1[1:])\n",
    "    if d != len(c1) - 2:\n",
    "        return c1[d]*overall_prob_B_die/num_B_types\n",
    "    else:\n",
    "        return (c1[d] + c1[d+1])*overall_prob_B_die/num_B_types\n",
    "\n",
    "def prob_A_rep(c1, beta):\n",
    "    #case no fertile B types and at least 1 A type\n",
    "    if c1[-1] == 0 and c1[0] != 0:\n",
    "        p = 1\n",
    "        \n",
    "    #case no fertile B types and no A types (in which case a young B type reproduces, no worries)\n",
    "    elif c1[-1] == 0 and c1[0] == 0:\n",
    "        p = 0\n",
    "    \n",
    "    #all other cases are covered by the following\n",
    "    else:\n",
    "        p = c1[0]/(c1[0] + beta*c1[-1])\n",
    "    return p\n",
    "\n",
    "def prob_B_rep(c1, beta):\n",
    "    return 1 - prob_A_rep(c1, beta)   "
   ]
  },
  {
   "cell_type": "code",
   "execution_count": 28,
   "metadata": {},
   "outputs": [],
   "source": [
    "def trans_prob(c1, c2, beta):\n",
    "    \"\"\"\n",
    "    Returns probability of transitioning from state c1 (stands for 'combination 1') to state c2.\n",
    "    In the events where B dies, I have to divide by the number of ages at which a B type could die.\n",
    "    \"\"\"\n",
    "    if A_died_A_reproduced(c1, c2):\n",
    "        return prob_A_die(c1)*prob_A_rep(c1, beta)\n",
    "    \n",
    "    elif A_died_B_reproduced(c1, c2):\n",
    "        return prob_A_die(c1)*prob_B_rep(c1, beta)\n",
    "    \n",
    "    elif B_died_A_reproduced(c1, c2):\n",
    "        return NEWprob_B_die(c1, c2)*prob_A_rep(c1, beta)\n",
    "    \n",
    "    elif B_died_B_reproduced(c1, c2):\n",
    "        return NEWprob_B_die(c1, c2)*prob_B_rep(c1, beta)\n",
    "    \n",
    "#    elif B_died_A_reproduced(c1, c2):\n",
    "#        if must_double_prob(c1, c2):\n",
    "#            return 2*prob_B_die(c1)*prob_A_rep(c1, beta)/(len(c1) - 1)\n",
    "#        else:\n",
    "#            return prob_B_die(c1)*prob_A_rep(c1, beta)/(len(c1) - 1)\n",
    "        \n",
    "#    elif B_died_B_reproduced(c1, c2):\n",
    "#        if must_double_prob(c1, c2):\n",
    "#            return 2*prob_B_die(c1)*prob_B_rep(c1, beta)/(len(c1) - 1)\n",
    "#        else:\n",
    "#            return prob_B_die(c1)*prob_B_rep(c1, beta)/(len(c1) - 1)\n",
    "        \n",
    "    else:\n",
    "        return 0"
   ]
  },
  {
   "cell_type": "code",
   "execution_count": 29,
   "metadata": {},
   "outputs": [],
   "source": [
    "def get_state_space(N, T):\n",
    "    return gen_combinations(N, T+2) # a state is a tuple (n_A, n_0, ..., n_{T-1}, n_{\\ge T})"
   ]
  },
  {
   "cell_type": "code",
   "execution_count": 30,
   "metadata": {},
   "outputs": [],
   "source": [
    "def build_transition_matrix(N, T, beta):\n",
    "    state_space = get_state_space(N, T)  # a state is a tuple (n_A, n_0, ..., n_{T-1}, n_{\\ge T})\n",
    "    num_states = len(state_space)\n",
    "    \n",
    "    transition_matrix = zero_matrix(QQ, num_states)\n",
    "    \n",
    "    #the i, c2 and j, c1 looks backward, but it isn't. For prob matrices, a_{ij} = prob i <-- j\n",
    "    for i, c1 in enumerate(state_space):\n",
    "        for j, c2 in enumerate(state_space):\n",
    "            transition_matrix[i, j] = trans_prob(c2, c1, beta)\n",
    "            \n",
    "    return transition_matrix"
   ]
  },
  {
   "cell_type": "code",
   "execution_count": 31,
   "metadata": {},
   "outputs": [],
   "source": [
    "def get_B_fixation_prob(N, T, beta, num_iters = 1000):\n",
    "    M = build_transition_matrix(N, T, beta)\n",
    "    ss = get_state_space(N, T)\n",
    "    v = zero_vector(len(ss))  #build state vector for N-1 A types, 1 B type w. p. 1\n",
    "    v[1] = 1   #idem \n",
    "    \n",
    "    for _ in range(num_iters):\n",
    "        v = M*v\n",
    "    \n",
    "    return 1 - v[0].n()\n",
    "    \n",
    "\n",
    "def get_A_fixation_prob(N, T, beta, num_iters = 1000):\n",
    "    M = build_transition_matrix(N, T, beta)\n",
    "    ss = get_state_space(N, T)\n",
    "    v = zero_vector(len(ss))  #build state vector for N-1 B types, 1 A type w. p. 1\n",
    "    v[-1] = 1   #idem\n",
    "    \n",
    "    for _ in range(num_iters):\n",
    "        v = M*v\n",
    "    \n",
    "    #kill someone uniformly at random and add someone to the category of A types.\n",
    "    v = v*(N-1)/N\n",
    "    v[0] = 1/N\n",
    "    \n",
    "    for _ in range(num_iters):\n",
    "        v = M*v\n",
    "        \n",
    "    return v[0].n()\n",
    "\n",
    "def get_difference_in_fixation_probs(N, T, beta, num_iters = 1000):\n",
    "    return get_B_fixation_prob(N, T, beta, num_iters) - get_A_fixation_prob(N, T, beta, num_iters)"
   ]
  },
  {
   "cell_type": "code",
   "execution_count": 34,
   "metadata": {},
   "outputs": [],
   "source": [
    "def find_beta_equal_fitness(N, T, num_iters = 100):\n",
    "    \n",
    "    def f(beta):\n",
    "        return get_difference_in_fixation_probs(N, T, beta, num_iters)\n",
    "    \n",
    "    beta_equal = find_root(f, 1, 100)\n",
    "    \n",
    "    return beta_equal"
   ]
  },
  {
   "cell_type": "code",
   "execution_count": 35,
   "metadata": {},
   "outputs": [
    {
     "data": {
      "text/plain": [
       "1.3851120406888628"
      ]
     },
     "execution_count": 35,
     "metadata": {},
     "output_type": "execute_result"
    }
   ],
   "source": [
    "find_beta_equal_fitness(5, 1)"
   ]
  },
  {
   "cell_type": "code",
   "execution_count": 36,
   "metadata": {},
   "outputs": [
    {
     "data": {
      "text/plain": [
       "1.9924396988783089"
      ]
     },
     "execution_count": 36,
     "metadata": {},
     "output_type": "execute_result"
    }
   ],
   "source": [
    "find_beta_equal_fitness(5, 2)"
   ]
  },
  {
   "cell_type": "code",
   "execution_count": null,
   "metadata": {},
   "outputs": [],
   "source": []
  }
 ],
 "metadata": {
  "kernelspec": {
   "display_name": "SageMath 9.2",
   "language": "sage",
   "name": "sagemath"
  },
  "language_info": {
   "codemirror_mode": {
    "name": "ipython",
    "version": 3
   },
   "file_extension": ".py",
   "mimetype": "text/x-python",
   "name": "python",
   "nbconvert_exporter": "python",
   "pygments_lexer": "ipython3",
   "version": "3.9.1"
  }
 },
 "nbformat": 4,
 "nbformat_minor": 4
}
