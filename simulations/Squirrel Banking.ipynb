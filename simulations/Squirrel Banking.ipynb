{
 "cells": [
  {
   "cell_type": "markdown",
   "metadata": {},
   "source": [
    "#### P[i] is P(X = i) (sage automatically normalizes). The second cell demonstrates that we do indeed get what we want to. "
   ]
  },
  {
   "cell_type": "code",
   "execution_count": 35,
   "metadata": {},
   "outputs": [],
   "source": [
    "P = [31,31,37]\n",
    "X = GeneralDiscreteDistribution(P)"
   ]
  },
  {
   "cell_type": "code",
   "execution_count": 39,
   "metadata": {},
   "outputs": [
    {
     "name": "stdout",
     "output_type": "stream",
     "text": [
      "[0.310000000000000, 0.316400000000000, 0.373600000000000]\n"
     ]
    }
   ],
   "source": [
    "counts = [0]*len(P)\n",
    "for _ in range(10000):\n",
    "    counts[X.get_random_element()] += 1\n",
    "print( [x/10000.n() for x in counts])"
   ]
  },
  {
   "cell_type": "code",
   "execution_count": 5,
   "metadata": {},
   "outputs": [
    {
     "data": {
      "text/plain": [
       "[0, 1, 2, 3, 4]"
      ]
     },
     "execution_count": 5,
     "metadata": {},
     "output_type": "execute_result"
    }
   ],
   "source": []
  },
  {
   "cell_type": "markdown",
   "metadata": {},
   "source": [
    "#### What happens is we let the squirrel live for a maximum of n (which defaults to 1,000) days. We see both how long it lives and how many offspring it produces in its lifetime (which is necesarily a maximum of n). "
   ]
  },
  {
   "cell_type": "markdown",
   "metadata": {},
   "source": [
    "#### In the simulation, offspring threshold is the point up until which the squirrel is saving nuts. Once it has more nuts than the threshold, it turns those nuts into baby squirrels (which play no part in this model, beyond us counting them). "
   ]
  },
  {
   "cell_type": "code",
   "execution_count": 3,
   "metadata": {
    "collapsed": true
   },
   "outputs": [],
   "source": [
    "def run_simulation(Z, offspring_threshold, n = 1000, verbose = True):\n",
    "    offspring_threshold = offspring_threshold\n",
    "    nuts_in_storage = 0\n",
    "    offspring_count = 0\n",
    "    for k in range(1, n):\n",
    "        nuts_in_storage += Z.get_random_element()\n",
    "        nuts_in_storage += -1\n",
    "        if nuts_in_storage >= offspring_threshold:\n",
    "            offspring_count += nuts_in_storage - offspring_threshold + 1\n",
    "            nuts_in_storage = offspring_threshold -1\n",
    "        if nuts_in_storage < 0:\n",
    "            if verbose:\n",
    "                print \"Oh no! You ran out of nuts at round {}. You had {} offspring\".format(k, offspring_count)\n",
    "            else:\n",
    "                return k, offspring_count\n",
    "            break\n",
    "        if k == n-1:\n",
    "            if verbose:\n",
    "                print \"You did it! You survived all {} days, and in that time had {} offspring\".format(k, offspring_count)\n",
    "            else:\n",
    "                return k, offspring_count"
   ]
  },
  {
   "cell_type": "markdown",
   "metadata": {},
   "source": [
    "#### Let's try running a few simulations and see what we get."
   ]
  },
  {
   "cell_type": "code",
   "execution_count": 4,
   "metadata": {},
   "outputs": [
    {
     "name": "stdout",
     "output_type": "stream",
     "text": [
      "Oh no! You ran out of nuts at round 1. You had 0 offspring\n",
      "Oh no! You ran out of nuts at round 1. You had 0 offspring\n",
      "Oh no! You ran out of nuts at round 1. You had 0 offspring\n",
      "Oh no! You ran out of nuts at round 1. You had 0 offspring\n",
      "Oh no! You ran out of nuts at round 77. You had 2 offspring\n"
     ]
    }
   ],
   "source": [
    "for _ in range(5):\n",
    "    run_simulation(X, offspring_threshold = 5)"
   ]
  },
  {
   "cell_type": "code",
   "execution_count": 277,
   "metadata": {},
   "outputs": [
    {
     "name": "stdout",
     "output_type": "stream",
     "text": [
      "Oh no! You ran out of nuts at round 5. You had 0 offspring\n"
     ]
    }
   ],
   "source": [
    "run_simulation(X, offspring_threshold = 50)"
   ]
  },
  {
   "cell_type": "markdown",
   "metadata": {},
   "source": [
    "#### In this next block, we explore different strategies under the same distribution of resources X. We simuate 500 different squirrels under the assumption they have an offspring threshold of k (for k between 1 and 19). We then take the average of their lifespan, the number of kids they had in their lives, and finally the offspring per life duration. "
   ]
  },
  {
   "cell_type": "code",
   "execution_count": 278,
   "metadata": {},
   "outputs": [
    {
     "name": "stdout",
     "output_type": "stream",
     "text": [
      "1 2.85200000000000 0.952000000000000 0.224498112998113\n",
      "2 6.36000000000000 1.14800000000000 0.0818623980038038\n",
      "3 9.11400000000000 0.968000000000000 0.0387848332700281\n",
      "4 11.5440000000000 0.998000000000000 0.0239438958062185\n",
      "5 14.4100000000000 0.854000000000000 0.0147374718303921\n",
      "6 16.6460000000000 0.916000000000000 0.0102001415649978\n",
      "7 19.7120000000000 0.734000000000000 0.00582597125570006\n",
      "8 19.7080000000000 0.644000000000000 0.00499524359401794\n",
      "9 27.5920000000000 1.14600000000000 0.00662010990391378\n",
      "10 33.4060000000000 1.11000000000000 0.00422163970535537\n",
      "11 29.6320000000000 1.06800000000000 0.00389364461894905\n",
      "12 39.4200000000000 1.27400000000000 0.00324177306375731\n",
      "13 36.7600000000000 0.980000000000000 0.00304821496701534\n",
      "14 40.9140000000000 0.970000000000000 0.00247481019608469\n",
      "15 37.4200000000000 0.806000000000000 0.00130163171682097\n",
      "16 47.2800000000000 1.00800000000000 0.00197555814590530\n",
      "17 44.5340000000000 0.708000000000000 0.00138712996881023\n",
      "18 56.4400000000000 1.30600000000000 0.00187940508095159\n",
      "19 40.4780000000000 0.398000000000000 0.000591922901964562\n"
     ]
    }
   ],
   "source": [
    "for k in range(1, 20):\n",
    "    tenthousand_lifetimes = []\n",
    "    tenthousand_offspring = []\n",
    "    tenthousand_offspring_by_lifetime = []\n",
    "    for _ in range(500):\n",
    "        try:\n",
    "            lifetime, offspring = run_simulation(X, k, n = 1000, verbose=False)\n",
    "            tenthousand_lifetimes.append(lifetime)\n",
    "            tenthousand_offspring.append(offspring)\n",
    "            offspring_by_lifetime = offspring/lifetime\n",
    "            tenthousand_offspring_by_lifetime.append(offspring_by_lifetime)\n",
    "        except:\n",
    "            pass\n",
    "    print k, mean(tenthousand_lifetimes).n(), mean(tenthousand_offspring).n(), mean(tenthousand_offspring_by_lifetime).n()\n",
    "\n",
    "    "
   ]
  },
  {
   "cell_type": "code",
   "execution_count": 266,
   "metadata": {},
   "outputs": [
    {
     "name": "stdout",
     "output_type": "stream",
     "text": [
      "Oh no! You ran out of nuts at round 3. You had 0 offspring\n"
     ]
    }
   ],
   "source": [
    "run_simulation(X, 14)"
   ]
  },
  {
   "cell_type": "markdown",
   "metadata": {
    "collapsed": true
   },
   "source": [
    "### We can do something similar but in the setup where we have a mandatory \"one day pregnancy.\""
   ]
  },
  {
   "cell_type": "code",
   "execution_count": 148,
   "metadata": {
    "collapsed": true
   },
   "outputs": [],
   "source": []
  },
  {
   "cell_type": "code",
   "execution_count": 257,
   "metadata": {},
   "outputs": [],
   "source": [
    "def pregnancy_simulation(Z, offspring_threshold, n = 1000, verbose = False, life_history = False):\n",
    "    nut_findings = [Z.get_random_element() for _ in range(n)]\n",
    "    offspring_days = [0]*n\n",
    "    nuts_in_storage = 0\n",
    "    offspring_count = 0\n",
    "    pregnant = False\n",
    "    for k in range(n):\n",
    "        nut_finding = nut_findings[k]\n",
    "        nuts_in_storage += nut_finding - 1\n",
    "        if nuts_in_storage < 0:\n",
    "            break \n",
    "        if not pregnant and nuts_in_storage > offspring_threshold:\n",
    "            pregnant = True\n",
    "            nuts_in_storage += -1\n",
    "        if pregnant:\n",
    "            offspring_count += 1\n",
    "            offspring_days[k] = 1\n",
    "            pregnant = False\n",
    "    if k == n -1:\n",
    "        msg = 'Lived to end - produced {} offspring'.format(offspring_count)\n",
    "    else:\n",
    "        msg = 'Died day {} - produced {} offspring'.format(k+1, offspring_count)\n",
    "    if verbose:\n",
    "        return(msg)\n",
    "    elif life_history:\n",
    "        return(offspring_days)\n",
    "    else:\n",
    "        return(k+1, offspring_count)\n",
    "    "
   ]
  },
  {
   "cell_type": "code",
   "execution_count": 258,
   "metadata": {},
   "outputs": [],
   "source": [
    "def get_life_histories(Z, offspring_threshold, num_simulations = 1000):\n",
    "    life_histories = []\n",
    "    for i in range(num_simulations):\n",
    "        life_histories.append(pregnancy_simulation(X, offspring_threshold, life_history=True))\n",
    "    return(life_histories)\n",
    "\n",
    "def truncate_at_zeroes(some_list, cutoff = 5):\n",
    "    try: \n",
    "        candidates = [i for i in range(len(some_list) - cutoff) if [some_list[i + k] for k in range(cutoff)] == [0]*cutoff]\n",
    "    except:\n",
    "        pass\n",
    "    try: \n",
    "        snip = min(candidates) + cutoff\n",
    "    except: \n",
    "        snip = len(some_list)\n",
    "    return(  some_list[:snip]  )\n",
    "    \n",
    "\n",
    "def get_avg_num_offspring(life_histories):\n",
    "    avg_num_offspring = [mean([lh[k] for lh in life_histories]).n() for k in range(len(life_histories[0]))]\n",
    "    avg_num_offspring = truncate_at_zeroes(avg_num_offspring)\n",
    "    avg_num_offspring = [ (i, avg_num_offspring[i]) for i in range(len(avg_num_offspring))]\n",
    "    return(avg_num_offspring)"
   ]
  },
  {
   "cell_type": "code",
   "execution_count": 273,
   "metadata": {},
   "outputs": [],
   "source": [
    "def plot_avg_num_offspring(Z, offspring_threshold, n = 10000, num_simulations = 10000):\n",
    "    lh = get_life_histories(Z, offspring_threshold, num_simulations)\n",
    "    ano = get_avg_num_offspring(lh)\n",
    "    return(points(ano))"
   ]
  },
  {
   "cell_type": "code",
   "execution_count": 277,
   "metadata": {},
   "outputs": [],
   "source": [
    "P = [107.5, 0, 886]\n",
    "X = GeneralDiscreteDistribution(P)"
   ]
  },
  {
   "cell_type": "code",
   "execution_count": 278,
   "metadata": {},
   "outputs": [
    {
     "data": {
      "image/png": "[encoded data removed]",
      "text/plain": [
       "Graphics object consisting of 1 graphics primitive"
      ]
     },
     "execution_count": 278,
     "metadata": {},
     "output_type": "execute_result"
    }
   ],
   "source": [
    "plot_avg_num_offspring(X, 0)"
   ]
  },
  {
   "cell_type": "code",
   "execution_count": 280,
   "metadata": {},
   "outputs": [
    {
     "data": {
      "image/png": "[encoded data removed]",
      "text/plain": [
       "Graphics object consisting of 1 graphics primitive"
      ]
     },
     "execution_count": 280,
     "metadata": {},
     "output_type": "execute_result"
    }
   ],
   "source": [
    "plot_avg_num_offspring(X, 2)"
   ]
  },
  {
   "cell_type": "code",
   "execution_count": 281,
   "metadata": {},
   "outputs": [
    {
     "data": {
      "image/png": "[encoded data removed]",
      "text/plain": [
       "Graphics object consisting of 1 graphics primitive"
      ]
     },
     "execution_count": 281,
     "metadata": {},
     "output_type": "execute_result"
    }
   ],
   "source": [
    "plot_avg_num_offspring(X, 5)"
   ]
  },
  {
   "cell_type": "code",
   "execution_count": null,
   "metadata": {},
   "outputs": [],
   "source": []
  }
 ],
 "metadata": {
  "kernelspec": {
   "display_name": "SageMath 9.1",
   "language": "sage",
   "name": "sagemath"
  },
  "language_info": {
   "codemirror_mode": {
    "name": "ipython",
    "version": 3
   },
   "file_extension": ".py",
   "mimetype": "text/x-python",
   "name": "python",
   "nbconvert_exporter": "python",
   "pygments_lexer": "ipython3",
   "version": "3.7.3"
  }
 },
 "nbformat": 4,
 "nbformat_minor": 1
}
