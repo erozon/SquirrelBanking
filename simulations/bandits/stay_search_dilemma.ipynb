{
 "cells": [
  {
   "cell_type": "code",
   "execution_count": 1,
   "metadata": {},
   "outputs": [],
   "source": [
    "import plotly.graph_objects as go\n",
    "import plotly.express as px"
   ]
  },
  {
   "cell_type": "code",
   "execution_count": 7,
   "metadata": {},
   "outputs": [],
   "source": [
    "def bandit_matrix(l, h, birth_l, birth_h,e):\n",
    "    L = zero_matrix(QQ, 3)\n",
    "    L[0, 0] = 1 - l - h\n",
    "    L[1, 0] = l\n",
    "    L[2, 0] = h\n",
    "    L[0, 1] = birth_l + e*(1-l-h)\n",
    "    L[1, 1] = (1 - e) + e*l\n",
    "    L[2, 1] = e*h\n",
    "    L[0, 2] = birth_h\n",
    "    L[1, 2] = 0 \n",
    "    L[2, 2] = 1 \n",
    "    return L\n",
    "\n",
    "def is_essentially_real(x):\n",
    "    if x.imag() == 0:\n",
    "        return(True)\n",
    "    else:\n",
    "        return(False)\n",
    "    \n",
    "#Use of \"if is_essentiallY_real(e)\" rather than \"if e in RR\" is required since some computational errors\n",
    "#    seem to come up in the eigenvalue computation, giving us things like x + 0.?e-80*I.\n",
    "\n",
    "def get_leading_eigenvalue(L):\n",
    "    evals = L.eigenvalues()\n",
    "    moduli = [e.n() for e in evals if is_essentially_real(e)]\n",
    "    moduli = [e for e in moduli if e >= 0]\n",
    "    r = max(moduli)\n",
    "    return(r)\n",
    "\n",
    "def normalize(vec):\n",
    "    tot = sum(vec)\n",
    "    vec = vec/tot\n",
    "    return(vec)\n",
    "\n",
    "def get_leading_evec(L):\n",
    "    r = get_leading_eigenvalue(L)\n",
    "    evecs = L.eigenvectors_right()\n",
    "    arrs = [e[0].n() for e in evecs]\n",
    "    i = arrs.index(r)\n",
    "    leading_evec = evecs[i][1][0]\n",
    "    leading_evec = normalize(leading_evec).n()\n",
    "    return(leading_evec)\n"
   ]
  },
  {
   "cell_type": "code",
   "execution_count": 18,
   "metadata": {},
   "outputs": [],
   "source": [
    "r = get_leading_eigenvalue(L)"
   ]
  },
  {
   "cell_type": "code",
   "execution_count": 8,
   "metadata": {},
   "outputs": [],
   "source": [
    "L = bandit_matrix(0.3, 0.03, 1, 10, 0)"
   ]
  },
  {
   "cell_type": "code",
   "execution_count": 10,
   "metadata": {},
   "outputs": [
    {
     "data": {
      "text/plain": [
       "[52937048251597/79010519778503                             1                            10]\n",
       "[                         3/10                             1                             0]\n",
       "[                        3/100                             0                             1]"
      ]
     },
     "execution_count": 10,
     "metadata": {},
     "output_type": "execute_result"
    }
   ],
   "source": [
    "L"
   ]
  },
  {
   "cell_type": "code",
   "execution_count": 19,
   "metadata": {},
   "outputs": [
    {
     "data": {
      "text/plain": [
       "(0.655163541877161, 0.313487689202581, 0.0313487689202581)"
      ]
     },
     "execution_count": 19,
     "metadata": {},
     "output_type": "execute_result"
    }
   ],
   "source": [
    "v = get_leading_evec(L)\n",
    "v"
   ]
  },
  {
   "cell_type": "code",
   "execution_count": null,
   "metadata": {},
   "outputs": [],
   "source": []
  },
  {
   "cell_type": "code",
   "execution_count": 12,
   "metadata": {},
   "outputs": [],
   "source": [
    "l = 0.3\n",
    "h = 0.03\n",
    "birth_l = 1\n",
    "birth_h = 10"
   ]
  },
  {
   "cell_type": "code",
   "execution_count": 106,
   "metadata": {},
   "outputs": [
    {
     "data": {
      "text/plain": [
       "1.62986274174579"
      ]
     },
     "execution_count": 106,
     "metadata": {},
     "output_type": "execute_result"
    }
   ],
   "source": [
    "L = bandit_matrix(3/10, 0.03, 1, 10, 85/100)\n",
    "get_leading_eigenvalue(L)"
   ]
  },
  {
   "cell_type": "code",
   "execution_count": 7,
   "metadata": {},
   "outputs": [],
   "source": [
    "def get_optimal_epsilon(l, h, birth_l, birth_h):\n",
    "    def fitness_e(e):\n",
    "        L = bandit_matrix(l, h, birth_l, birth_h,e)\n",
    "        r_e = get_leading_eigenvalue(L)\n",
    "        return r_e\n",
    "    e_opt = find_local_maximum(fitness_e, 0, 1)[1]\n",
    "    return e_opt\n",
    "        \n",
    "        \n",
    "    "
   ]
  },
  {
   "cell_type": "code",
   "execution_count": null,
   "metadata": {},
   "outputs": [],
   "source": []
  },
  {
   "cell_type": "code",
   "execution_count": 245,
   "metadata": {},
   "outputs": [
    {
     "data": {
      "text/plain": [
       "6.507816260210173e-09"
      ]
     },
     "execution_count": 245,
     "metadata": {},
     "output_type": "execute_result"
    }
   ],
   "source": [
    "get_optimal_epsilon(3/10, 0.28495/10, 1, 10)"
   ]
  },
  {
   "cell_type": "code",
   "execution_count": 247,
   "metadata": {},
   "outputs": [
    {
     "data": {
      "text/plain": [
       "0.9999999713002414"
      ]
     },
     "execution_count": 247,
     "metadata": {},
     "output_type": "execute_result"
    }
   ],
   "source": [
    "get_optimal_epsilon(3/10, 0.0284989625215530, 1, 10)"
   ]
  },
  {
   "cell_type": "code",
   "execution_count": 8,
   "metadata": {},
   "outputs": [],
   "source": [
    "def is_essentially_zero(x):\n",
    "    if x < 10^(-6):\n",
    "        return True\n",
    "    else:\n",
    "        return False\n",
    "    \n",
    "def is_essentially_one(x):\n",
    "    if x > 1 - 10^(-6) and  1 >= x:\n",
    "        return True\n",
    "    else:\n",
    "        return False\n",
    "\n"
   ]
  },
  {
   "cell_type": "code",
   "execution_count": 9,
   "metadata": {},
   "outputs": [],
   "source": [
    "def find_upper_bound_on_h(l, birth_l, birth_h):\n",
    "    found_bound = False\n",
    "    h_bound = 0\n",
    "    while not found_bound:\n",
    "        h_bound = h_bound + 1\n",
    "        attempt = get_optimal_epsilon(l, h, birth_l, birth_h)\n",
    "        if is_essentially_one(attempt):\n",
    "            found_bound = True\n",
    "    return h_bound\n",
    "    \n",
    "\n"
   ]
  },
  {
   "cell_type": "code",
   "execution_count": 10,
   "metadata": {},
   "outputs": [],
   "source": [
    "def find_disc_in_h(l, birth_l, birth_h):\n",
    "    #If there is a lion in the desert, and you want to catch it, what do you do?\n",
    "    #Build a fence through the middle of the desert. If it is on the right, repeat there, idem for left. \n",
    "    #Eventually, you catch the lion. \n",
    "    h_lower = 0\n",
    "    h_upper = 1 - l\n",
    "    for n in range(12):\n",
    "        h_test = (h_lower + h_upper)/2\n",
    "        opt_epsilon = get_optimal_epsilon(l, h_test, birth_l, birth_h)\n",
    "        if is_essentially_one(opt_epsilon):\n",
    "            #going down\n",
    "            h_lower = h_lower\n",
    "            h_upper = h_test\n",
    "        else:\n",
    "            #going up\n",
    "            h_lower = h_test\n",
    "            h_upper = h_upper\n",
    "    return h_test\n",
    "        "
   ]
  },
  {
   "cell_type": "code",
   "execution_count": 79,
   "metadata": {},
   "outputs": [
    {
     "data": {
      "text/plain": [
       "0.0285400390625000"
      ]
     },
     "execution_count": 79,
     "metadata": {},
     "output_type": "execute_result"
    }
   ],
   "source": [
    "find_disc_in_h(3/10, 1, 10).n()"
   ]
  },
  {
   "cell_type": "code",
   "execution_count": 311,
   "metadata": {},
   "outputs": [
    {
     "data": {
      "text/plain": [
       "0.0244628906250000"
      ]
     },
     "execution_count": 311,
     "metadata": {},
     "output_type": "execute_result"
    }
   ],
   "source": [
    "find_disc_in_h(4/10, 1, 10).n()"
   ]
  },
  {
   "cell_type": "code",
   "execution_count": 239,
   "metadata": {},
   "outputs": [
    {
     "name": "stdout",
     "output_type": "stream",
     "text": [
      "done with 99/5000\n",
      "done with 99/5000\n",
      "done with 99/5000\n",
      "done with 99/5000\n",
      "done with 99/5000\n",
      "done with 99/5000\n",
      "done with 99/5000\n",
      "done with 99/5000\n",
      "done with 99/5000\n",
      "done with 99/5000\n",
      "done with 99/5000\n",
      "done with 99/5000\n",
      "done with 99/5000\n",
      "done with 99/5000\n",
      "done with 99/5000\n",
      "done with 99/5000\n",
      "done with 99/5000\n",
      "done with 99/5000\n",
      "done with 99/5000\n",
      "done with 99/5000\n",
      "done with 99/5000\n",
      "done with 99/5000\n",
      "done with 99/5000\n",
      "done with 99/5000\n",
      "done with 99/5000\n",
      "done with 99/5000\n",
      "done with 99/5000\n",
      "done with 99/5000\n",
      "done with 99/5000\n",
      "done with 99/5000\n",
      "done with 99/5000\n",
      "done with 99/5000\n",
      "done with 99/5000\n",
      "done with 99/5000\n",
      "done with 99/5000\n",
      "done with 99/5000\n",
      "done with 99/5000\n",
      "done with 99/5000\n",
      "done with 99/5000\n",
      "done with 99/5000\n",
      "done with 99/5000\n",
      "done with 99/5000\n",
      "done with 99/5000\n",
      "done with 99/5000\n",
      "done with 99/5000\n",
      "done with 99/5000\n",
      "done with 99/5000\n",
      "done with 99/5000\n",
      "done with 99/5000\n",
      "done with 99/5000\n",
      "done with 99/5000\n",
      "done with 99/5000\n",
      "done with 99/5000\n",
      "done with 99/5000\n",
      "done with 99/5000\n",
      "done with 99/5000\n",
      "done with 99/5000\n",
      "done with 99/5000\n",
      "done with 99/5000\n",
      "done with 99/5000\n",
      "done with 99/5000\n",
      "done with 99/5000\n",
      "done with 99/5000\n",
      "done with 99/5000\n",
      "done with 99/5000\n",
      "done with 99/5000\n",
      "done with 99/5000\n",
      "done with 99/5000\n",
      "done with 99/5000\n",
      "done with 99/5000\n",
      "done with 99/5000\n",
      "done with 99/5000\n",
      "done with 99/5000\n",
      "done with 99/5000\n",
      "done with 99/5000\n",
      "done with 99/5000\n",
      "done with 99/5000\n",
      "done with 99/5000\n",
      "done with 99/5000\n",
      "done with 99/5000\n",
      "done with 99/5000\n",
      "done with 99/5000\n",
      "done with 99/5000\n",
      "done with 99/5000\n",
      "done with 99/5000\n",
      "done with 99/5000\n",
      "done with 99/5000\n",
      "done with 99/5000\n",
      "done with 99/5000\n",
      "done with 99/5000\n",
      "done with 99/5000\n",
      "done with 99/5000\n",
      "done with 99/5000\n",
      "done with 99/5000\n",
      "done with 99/5000\n",
      "done with 99/5000\n",
      "done with 99/5000\n",
      "done with 99/5000\n",
      "done with 99/5000\n",
      "done with 99/5000\n",
      "done with 99/5000\n",
      "done with 99/5000\n",
      "done with 99/5000\n",
      "done with 99/5000\n",
      "done with 99/5000\n",
      "done with 99/5000\n",
      "done with 99/5000\n",
      "done with 99/5000\n",
      "done with 99/5000\n",
      "done with 99/5000\n",
      "done with 99/5000\n",
      "done with 99/5000\n",
      "done with 99/5000\n",
      "done with 99/5000\n",
      "done with 99/5000\n",
      "done with 99/5000\n",
      "done with 99/5000\n",
      "done with 99/5000\n",
      "done with 99/5000\n"
     ]
    },
    {
     "ename": "KeyboardInterrupt",
     "evalue": "",
     "output_type": "error",
     "traceback": [
      "\u001b[1;31m---------------------------------------------------------------------------\u001b[0m",
      "\u001b[1;31mKeyboardInterrupt\u001b[0m                         Traceback (most recent call last)",
      "\u001b[1;32m<ipython-input-239-eca2b740e7ff>\u001b[0m in \u001b[0;36m<module>\u001b[1;34m()\u001b[0m\n\u001b[0;32m      1\u001b[0m \u001b[0mh_vec\u001b[0m \u001b[1;33m=\u001b[0m \u001b[1;33m[\u001b[0m\u001b[1;33m]\u001b[0m\u001b[1;33m\u001b[0m\u001b[1;33m\u001b[0m\u001b[0m\n\u001b[0;32m      2\u001b[0m \u001b[1;32mfor\u001b[0m \u001b[0mbirth_h\u001b[0m \u001b[1;32min\u001b[0m \u001b[0mrange\u001b[0m\u001b[1;33m(\u001b[0m\u001b[0mInteger\u001b[0m\u001b[1;33m(\u001b[0m\u001b[1;36m1\u001b[0m\u001b[1;33m)\u001b[0m\u001b[1;33m,\u001b[0m \u001b[0mInteger\u001b[0m\u001b[1;33m(\u001b[0m\u001b[1;36m200\u001b[0m\u001b[1;33m)\u001b[0m\u001b[1;33m)\u001b[0m\u001b[1;33m:\u001b[0m\u001b[1;33m\u001b[0m\u001b[1;33m\u001b[0m\u001b[0m\n\u001b[1;32m----> 3\u001b[1;33m     \u001b[0mh_disc\u001b[0m \u001b[1;33m=\u001b[0m \u001b[0mfind_disc_in_h\u001b[0m\u001b[1;33m(\u001b[0m\u001b[0mInteger\u001b[0m\u001b[1;33m(\u001b[0m\u001b[1;36m3\u001b[0m\u001b[1;33m)\u001b[0m\u001b[1;33m/\u001b[0m\u001b[0mInteger\u001b[0m\u001b[1;33m(\u001b[0m\u001b[1;36m10\u001b[0m\u001b[1;33m)\u001b[0m\u001b[1;33m,\u001b[0m \u001b[0mInteger\u001b[0m\u001b[1;33m(\u001b[0m\u001b[1;36m1\u001b[0m\u001b[1;33m)\u001b[0m\u001b[1;33m,\u001b[0m \u001b[0mbirth_h\u001b[0m\u001b[1;33m/\u001b[0m\u001b[0mInteger\u001b[0m\u001b[1;33m(\u001b[0m\u001b[1;36m10\u001b[0m\u001b[1;33m)\u001b[0m\u001b[1;33m)\u001b[0m\u001b[1;33m\u001b[0m\u001b[1;33m\u001b[0m\u001b[0m\n\u001b[0m\u001b[0;32m      4\u001b[0m     \u001b[0mh_vec\u001b[0m\u001b[1;33m.\u001b[0m\u001b[0mappend\u001b[0m\u001b[1;33m(\u001b[0m\u001b[0mh_disc\u001b[0m\u001b[1;33m)\u001b[0m\u001b[1;33m\u001b[0m\u001b[1;33m\u001b[0m\u001b[0m\n\u001b[0;32m      5\u001b[0m     \u001b[0mprint\u001b[0m\u001b[1;33m(\u001b[0m \u001b[1;34m'done with {}'\u001b[0m\u001b[1;33m.\u001b[0m\u001b[0mformat\u001b[0m\u001b[1;33m(\u001b[0m\u001b[0mh\u001b[0m\u001b[1;33m)\u001b[0m\u001b[1;33m)\u001b[0m\u001b[1;33m\u001b[0m\u001b[1;33m\u001b[0m\u001b[0m\n",
      "\u001b[1;32m<ipython-input-10-af224c667fc4>\u001b[0m in \u001b[0;36mfind_disc_in_h\u001b[1;34m(l, birth_l, birth_h)\u001b[0m\n\u001b[0;32m      7\u001b[0m     \u001b[1;32mfor\u001b[0m \u001b[0mn\u001b[0m \u001b[1;32min\u001b[0m \u001b[0mrange\u001b[0m\u001b[1;33m(\u001b[0m\u001b[0mInteger\u001b[0m\u001b[1;33m(\u001b[0m\u001b[1;36m12\u001b[0m\u001b[1;33m)\u001b[0m\u001b[1;33m)\u001b[0m\u001b[1;33m:\u001b[0m\u001b[1;33m\u001b[0m\u001b[1;33m\u001b[0m\u001b[0m\n\u001b[0;32m      8\u001b[0m         \u001b[0mh_test\u001b[0m \u001b[1;33m=\u001b[0m \u001b[1;33m(\u001b[0m\u001b[0mh_lower\u001b[0m \u001b[1;33m+\u001b[0m \u001b[0mh_upper\u001b[0m\u001b[1;33m)\u001b[0m\u001b[1;33m/\u001b[0m\u001b[0mInteger\u001b[0m\u001b[1;33m(\u001b[0m\u001b[1;36m2\u001b[0m\u001b[1;33m)\u001b[0m\u001b[1;33m\u001b[0m\u001b[1;33m\u001b[0m\u001b[0m\n\u001b[1;32m----> 9\u001b[1;33m         \u001b[0mopt_epsilon\u001b[0m \u001b[1;33m=\u001b[0m \u001b[0mget_optimal_epsilon\u001b[0m\u001b[1;33m(\u001b[0m\u001b[0ml\u001b[0m\u001b[1;33m,\u001b[0m \u001b[0mh_test\u001b[0m\u001b[1;33m,\u001b[0m \u001b[0mbirth_l\u001b[0m\u001b[1;33m,\u001b[0m \u001b[0mbirth_h\u001b[0m\u001b[1;33m)\u001b[0m\u001b[1;33m\u001b[0m\u001b[1;33m\u001b[0m\u001b[0m\n\u001b[0m\u001b[0;32m     10\u001b[0m         \u001b[1;32mif\u001b[0m \u001b[0mis_essentially_one\u001b[0m\u001b[1;33m(\u001b[0m\u001b[0mopt_epsilon\u001b[0m\u001b[1;33m)\u001b[0m\u001b[1;33m:\u001b[0m\u001b[1;33m\u001b[0m\u001b[1;33m\u001b[0m\u001b[0m\n\u001b[0;32m     11\u001b[0m             \u001b[1;31m#going down\u001b[0m\u001b[1;33m\u001b[0m\u001b[1;33m\u001b[0m\u001b[1;33m\u001b[0m\u001b[0m\n",
      "\u001b[1;32m<ipython-input-7-3926fcb84a1e>\u001b[0m in \u001b[0;36mget_optimal_epsilon\u001b[1;34m(l, h, birth_l, birth_h)\u001b[0m\n\u001b[0;32m      4\u001b[0m         \u001b[0mr_e\u001b[0m \u001b[1;33m=\u001b[0m \u001b[0mget_leading_eigenvalue\u001b[0m\u001b[1;33m(\u001b[0m\u001b[0mL\u001b[0m\u001b[1;33m)\u001b[0m\u001b[1;33m\u001b[0m\u001b[1;33m\u001b[0m\u001b[0m\n\u001b[0;32m      5\u001b[0m         \u001b[1;32mreturn\u001b[0m \u001b[0mr_e\u001b[0m\u001b[1;33m\u001b[0m\u001b[1;33m\u001b[0m\u001b[0m\n\u001b[1;32m----> 6\u001b[1;33m     \u001b[0me_opt\u001b[0m \u001b[1;33m=\u001b[0m \u001b[0mfind_local_maximum\u001b[0m\u001b[1;33m(\u001b[0m\u001b[0mfitness_e\u001b[0m\u001b[1;33m,\u001b[0m \u001b[0mInteger\u001b[0m\u001b[1;33m(\u001b[0m\u001b[1;36m0\u001b[0m\u001b[1;33m)\u001b[0m\u001b[1;33m,\u001b[0m \u001b[0mInteger\u001b[0m\u001b[1;33m(\u001b[0m\u001b[1;36m1\u001b[0m\u001b[1;33m)\u001b[0m\u001b[1;33m)\u001b[0m\u001b[1;33m[\u001b[0m\u001b[0mInteger\u001b[0m\u001b[1;33m(\u001b[0m\u001b[1;36m1\u001b[0m\u001b[1;33m)\u001b[0m\u001b[1;33m]\u001b[0m\u001b[1;33m\u001b[0m\u001b[1;33m\u001b[0m\u001b[0m\n\u001b[0m\u001b[0;32m      7\u001b[0m     \u001b[1;32mreturn\u001b[0m \u001b[0me_opt\u001b[0m\u001b[1;33m\u001b[0m\u001b[1;33m\u001b[0m\u001b[0m\n\u001b[0;32m      8\u001b[0m \u001b[1;33m\u001b[0m\u001b[0m\n",
      "\u001b[1;32m/home/eric/ubc/research/experimental_sage/SageMath/local/lib/python3.7/site-packages/sage/misc/lazy_import.pyx\u001b[0m in \u001b[0;36msage.misc.lazy_import.LazyImport.__call__ (build/cythonized/sage/misc/lazy_import.c:3686)\u001b[1;34m()\u001b[0m\n\u001b[0;32m    351\u001b[0m             \u001b[1;32mTrue\u001b[0m\u001b[1;33m\u001b[0m\u001b[1;33m\u001b[0m\u001b[0m\n\u001b[0;32m    352\u001b[0m         \"\"\"\n\u001b[1;32m--> 353\u001b[1;33m         \u001b[1;32mreturn\u001b[0m \u001b[0mself\u001b[0m\u001b[1;33m.\u001b[0m\u001b[0mget_object\u001b[0m\u001b[1;33m(\u001b[0m\u001b[1;33m)\u001b[0m\u001b[1;33m(\u001b[0m\u001b[1;33m*\u001b[0m\u001b[0margs\u001b[0m\u001b[1;33m,\u001b[0m \u001b[1;33m**\u001b[0m\u001b[0mkwds\u001b[0m\u001b[1;33m)\u001b[0m\u001b[1;33m\u001b[0m\u001b[1;33m\u001b[0m\u001b[0m\n\u001b[0m\u001b[0;32m    354\u001b[0m \u001b[1;33m\u001b[0m\u001b[0m\n\u001b[0;32m    355\u001b[0m     \u001b[1;32mdef\u001b[0m \u001b[0m__repr__\u001b[0m\u001b[1;33m(\u001b[0m\u001b[0mself\u001b[0m\u001b[1;33m)\u001b[0m\u001b[1;33m:\u001b[0m\u001b[1;33m\u001b[0m\u001b[1;33m\u001b[0m\u001b[0m\n",
      "\u001b[1;32m/home/eric/ubc/research/experimental_sage/SageMath/local/lib/python3.7/site-packages/sage/numerical/optimize.py\u001b[0m in \u001b[0;36mfind_local_maximum\u001b[1;34m(f, a, b, tol, maxfun)\u001b[0m\n\u001b[0;32m    197\u001b[0m     \u001b[1;32mexcept\u001b[0m \u001b[0mAttributeError\u001b[0m\u001b[1;33m:\u001b[0m\u001b[1;33m\u001b[0m\u001b[1;33m\u001b[0m\u001b[0m\n\u001b[0;32m    198\u001b[0m         \u001b[1;32mpass\u001b[0m\u001b[1;33m\u001b[0m\u001b[1;33m\u001b[0m\u001b[0m\n\u001b[1;32m--> 199\u001b[1;33m     \u001b[0mminval\u001b[0m\u001b[1;33m,\u001b[0m \u001b[0mx\u001b[0m \u001b[1;33m=\u001b[0m \u001b[0mfind_local_minimum\u001b[0m\u001b[1;33m(\u001b[0m\u001b[1;32mlambda\u001b[0m \u001b[0mz\u001b[0m\u001b[1;33m:\u001b[0m \u001b[1;33m-\u001b[0m\u001b[0mf\u001b[0m\u001b[1;33m(\u001b[0m\u001b[0mz\u001b[0m\u001b[1;33m)\u001b[0m\u001b[1;33m,\u001b[0m \u001b[0ma\u001b[0m\u001b[1;33m=\u001b[0m\u001b[0ma\u001b[0m\u001b[1;33m,\u001b[0m \u001b[0mb\u001b[0m\u001b[1;33m=\u001b[0m\u001b[0mb\u001b[0m\u001b[1;33m,\u001b[0m \u001b[0mtol\u001b[0m\u001b[1;33m=\u001b[0m\u001b[0mtol\u001b[0m\u001b[1;33m,\u001b[0m \u001b[0mmaxfun\u001b[0m\u001b[1;33m=\u001b[0m\u001b[0mmaxfun\u001b[0m\u001b[1;33m)\u001b[0m\u001b[1;33m\u001b[0m\u001b[1;33m\u001b[0m\u001b[0m\n\u001b[0m\u001b[0;32m    200\u001b[0m     \u001b[1;32mreturn\u001b[0m \u001b[1;33m-\u001b[0m\u001b[0mminval\u001b[0m\u001b[1;33m,\u001b[0m \u001b[0mx\u001b[0m\u001b[1;33m\u001b[0m\u001b[1;33m\u001b[0m\u001b[0m\n\u001b[0;32m    201\u001b[0m \u001b[1;33m\u001b[0m\u001b[0m\n",
      "\u001b[1;32m/home/eric/ubc/research/experimental_sage/SageMath/local/lib/python3.7/site-packages/sage/numerical/optimize.py\u001b[0m in \u001b[0;36mfind_local_minimum\u001b[1;34m(f, a, b, tol, maxfun)\u001b[0m\n\u001b[0;32m    284\u001b[0m     \u001b[0mb\u001b[0m \u001b[1;33m=\u001b[0m \u001b[0mfloat\u001b[0m\u001b[1;33m(\u001b[0m\u001b[0mb\u001b[0m\u001b[1;33m)\u001b[0m\u001b[1;33m\u001b[0m\u001b[1;33m\u001b[0m\u001b[0m\n\u001b[0;32m    285\u001b[0m     \u001b[1;32mimport\u001b[0m \u001b[0mscipy\u001b[0m\u001b[1;33m.\u001b[0m\u001b[0moptimize\u001b[0m\u001b[1;33m\u001b[0m\u001b[1;33m\u001b[0m\u001b[0m\n\u001b[1;32m--> 286\u001b[1;33m     \u001b[0mxmin\u001b[0m\u001b[1;33m,\u001b[0m \u001b[0mfval\u001b[0m\u001b[1;33m,\u001b[0m \u001b[0miter\u001b[0m\u001b[1;33m,\u001b[0m \u001b[0mfuncalls\u001b[0m \u001b[1;33m=\u001b[0m \u001b[0mscipy\u001b[0m\u001b[1;33m.\u001b[0m\u001b[0moptimize\u001b[0m\u001b[1;33m.\u001b[0m\u001b[0mfminbound\u001b[0m\u001b[1;33m(\u001b[0m\u001b[0mf\u001b[0m\u001b[1;33m,\u001b[0m \u001b[0ma\u001b[0m\u001b[1;33m,\u001b[0m \u001b[0mb\u001b[0m\u001b[1;33m,\u001b[0m \u001b[0mfull_output\u001b[0m\u001b[1;33m=\u001b[0m\u001b[1;36m1\u001b[0m\u001b[1;33m,\u001b[0m \u001b[0mxtol\u001b[0m\u001b[1;33m=\u001b[0m\u001b[0mtol\u001b[0m\u001b[1;33m,\u001b[0m \u001b[0mmaxfun\u001b[0m\u001b[1;33m=\u001b[0m\u001b[0mmaxfun\u001b[0m\u001b[1;33m)\u001b[0m\u001b[1;33m\u001b[0m\u001b[1;33m\u001b[0m\u001b[0m\n\u001b[0m\u001b[0;32m    287\u001b[0m     \u001b[1;32mreturn\u001b[0m \u001b[0mfval\u001b[0m\u001b[1;33m,\u001b[0m \u001b[0mxmin\u001b[0m\u001b[1;33m\u001b[0m\u001b[1;33m\u001b[0m\u001b[0m\n\u001b[0;32m    288\u001b[0m \u001b[1;33m\u001b[0m\u001b[0m\n",
      "\u001b[1;32m/home/eric/ubc/research/experimental_sage/SageMath/local/lib/python3.7/site-packages/scipy/optimize/optimize.py\u001b[0m in \u001b[0;36mfminbound\u001b[1;34m(func, x1, x2, args, xtol, maxfun, full_output, disp)\u001b[0m\n\u001b[0;32m   1697\u001b[0m                'disp': disp}\n\u001b[0;32m   1698\u001b[0m \u001b[1;33m\u001b[0m\u001b[0m\n\u001b[1;32m-> 1699\u001b[1;33m     \u001b[0mres\u001b[0m \u001b[1;33m=\u001b[0m \u001b[0m_minimize_scalar_bounded\u001b[0m\u001b[1;33m(\u001b[0m\u001b[0mfunc\u001b[0m\u001b[1;33m,\u001b[0m \u001b[1;33m(\u001b[0m\u001b[0mx1\u001b[0m\u001b[1;33m,\u001b[0m \u001b[0mx2\u001b[0m\u001b[1;33m)\u001b[0m\u001b[1;33m,\u001b[0m \u001b[0margs\u001b[0m\u001b[1;33m,\u001b[0m \u001b[1;33m**\u001b[0m\u001b[0moptions\u001b[0m\u001b[1;33m)\u001b[0m\u001b[1;33m\u001b[0m\u001b[1;33m\u001b[0m\u001b[0m\n\u001b[0m\u001b[0;32m   1700\u001b[0m     \u001b[1;32mif\u001b[0m \u001b[0mfull_output\u001b[0m\u001b[1;33m:\u001b[0m\u001b[1;33m\u001b[0m\u001b[1;33m\u001b[0m\u001b[0m\n\u001b[0;32m   1701\u001b[0m         \u001b[1;32mreturn\u001b[0m \u001b[0mres\u001b[0m\u001b[1;33m[\u001b[0m\u001b[1;34m'x'\u001b[0m\u001b[1;33m]\u001b[0m\u001b[1;33m,\u001b[0m \u001b[0mres\u001b[0m\u001b[1;33m[\u001b[0m\u001b[1;34m'fun'\u001b[0m\u001b[1;33m]\u001b[0m\u001b[1;33m,\u001b[0m \u001b[0mres\u001b[0m\u001b[1;33m[\u001b[0m\u001b[1;34m'status'\u001b[0m\u001b[1;33m]\u001b[0m\u001b[1;33m,\u001b[0m \u001b[0mres\u001b[0m\u001b[1;33m[\u001b[0m\u001b[1;34m'nfev'\u001b[0m\u001b[1;33m]\u001b[0m\u001b[1;33m\u001b[0m\u001b[1;33m\u001b[0m\u001b[0m\n",
      "\u001b[1;32m/home/eric/ubc/research/experimental_sage/SageMath/local/lib/python3.7/site-packages/scipy/optimize/optimize.py\u001b[0m in \u001b[0;36m_minimize_scalar_bounded\u001b[1;34m(func, bounds, args, xatol, maxiter, disp, **unknown_options)\u001b[0m\n\u001b[0;32m   1798\u001b[0m         \u001b[0msi\u001b[0m \u001b[1;33m=\u001b[0m \u001b[0mnumpy\u001b[0m\u001b[1;33m.\u001b[0m\u001b[0msign\u001b[0m\u001b[1;33m(\u001b[0m\u001b[0mrat\u001b[0m\u001b[1;33m)\u001b[0m \u001b[1;33m+\u001b[0m \u001b[1;33m(\u001b[0m\u001b[0mrat\u001b[0m \u001b[1;33m==\u001b[0m \u001b[1;36m0\u001b[0m\u001b[1;33m)\u001b[0m\u001b[1;33m\u001b[0m\u001b[1;33m\u001b[0m\u001b[0m\n\u001b[0;32m   1799\u001b[0m         \u001b[0mx\u001b[0m \u001b[1;33m=\u001b[0m \u001b[0mxf\u001b[0m \u001b[1;33m+\u001b[0m \u001b[0msi\u001b[0m \u001b[1;33m*\u001b[0m \u001b[0mnumpy\u001b[0m\u001b[1;33m.\u001b[0m\u001b[0mmax\u001b[0m\u001b[1;33m(\u001b[0m\u001b[1;33m[\u001b[0m\u001b[0mnumpy\u001b[0m\u001b[1;33m.\u001b[0m\u001b[0mabs\u001b[0m\u001b[1;33m(\u001b[0m\u001b[0mrat\u001b[0m\u001b[1;33m)\u001b[0m\u001b[1;33m,\u001b[0m \u001b[0mtol1\u001b[0m\u001b[1;33m]\u001b[0m\u001b[1;33m)\u001b[0m\u001b[1;33m\u001b[0m\u001b[1;33m\u001b[0m\u001b[0m\n\u001b[1;32m-> 1800\u001b[1;33m         \u001b[0mfu\u001b[0m \u001b[1;33m=\u001b[0m \u001b[0mfunc\u001b[0m\u001b[1;33m(\u001b[0m\u001b[0mx\u001b[0m\u001b[1;33m,\u001b[0m \u001b[1;33m*\u001b[0m\u001b[0margs\u001b[0m\u001b[1;33m)\u001b[0m\u001b[1;33m\u001b[0m\u001b[1;33m\u001b[0m\u001b[0m\n\u001b[0m\u001b[0;32m   1801\u001b[0m         \u001b[0mnum\u001b[0m \u001b[1;33m+=\u001b[0m \u001b[1;36m1\u001b[0m\u001b[1;33m\u001b[0m\u001b[1;33m\u001b[0m\u001b[0m\n\u001b[0;32m   1802\u001b[0m         \u001b[0mfmin_data\u001b[0m \u001b[1;33m=\u001b[0m \u001b[1;33m(\u001b[0m\u001b[0mnum\u001b[0m\u001b[1;33m,\u001b[0m \u001b[0mx\u001b[0m\u001b[1;33m,\u001b[0m \u001b[0mfu\u001b[0m\u001b[1;33m)\u001b[0m\u001b[1;33m\u001b[0m\u001b[1;33m\u001b[0m\u001b[0m\n",
      "\u001b[1;32m/home/eric/ubc/research/experimental_sage/SageMath/local/lib/python3.7/site-packages/sage/numerical/optimize.py\u001b[0m in \u001b[0;36m<lambda>\u001b[1;34m(z)\u001b[0m\n\u001b[0;32m    197\u001b[0m     \u001b[1;32mexcept\u001b[0m \u001b[0mAttributeError\u001b[0m\u001b[1;33m:\u001b[0m\u001b[1;33m\u001b[0m\u001b[1;33m\u001b[0m\u001b[0m\n\u001b[0;32m    198\u001b[0m         \u001b[1;32mpass\u001b[0m\u001b[1;33m\u001b[0m\u001b[1;33m\u001b[0m\u001b[0m\n\u001b[1;32m--> 199\u001b[1;33m     \u001b[0mminval\u001b[0m\u001b[1;33m,\u001b[0m \u001b[0mx\u001b[0m \u001b[1;33m=\u001b[0m \u001b[0mfind_local_minimum\u001b[0m\u001b[1;33m(\u001b[0m\u001b[1;32mlambda\u001b[0m \u001b[0mz\u001b[0m\u001b[1;33m:\u001b[0m \u001b[1;33m-\u001b[0m\u001b[0mf\u001b[0m\u001b[1;33m(\u001b[0m\u001b[0mz\u001b[0m\u001b[1;33m)\u001b[0m\u001b[1;33m,\u001b[0m \u001b[0ma\u001b[0m\u001b[1;33m=\u001b[0m\u001b[0ma\u001b[0m\u001b[1;33m,\u001b[0m \u001b[0mb\u001b[0m\u001b[1;33m=\u001b[0m\u001b[0mb\u001b[0m\u001b[1;33m,\u001b[0m \u001b[0mtol\u001b[0m\u001b[1;33m=\u001b[0m\u001b[0mtol\u001b[0m\u001b[1;33m,\u001b[0m \u001b[0mmaxfun\u001b[0m\u001b[1;33m=\u001b[0m\u001b[0mmaxfun\u001b[0m\u001b[1;33m)\u001b[0m\u001b[1;33m\u001b[0m\u001b[1;33m\u001b[0m\u001b[0m\n\u001b[0m\u001b[0;32m    200\u001b[0m     \u001b[1;32mreturn\u001b[0m \u001b[1;33m-\u001b[0m\u001b[0mminval\u001b[0m\u001b[1;33m,\u001b[0m \u001b[0mx\u001b[0m\u001b[1;33m\u001b[0m\u001b[1;33m\u001b[0m\u001b[0m\n\u001b[0;32m    201\u001b[0m \u001b[1;33m\u001b[0m\u001b[0m\n",
      "\u001b[1;32m<ipython-input-7-3926fcb84a1e>\u001b[0m in \u001b[0;36mfitness_e\u001b[1;34m(e)\u001b[0m\n\u001b[0;32m      2\u001b[0m     \u001b[1;32mdef\u001b[0m \u001b[0mfitness_e\u001b[0m\u001b[1;33m(\u001b[0m\u001b[0me\u001b[0m\u001b[1;33m)\u001b[0m\u001b[1;33m:\u001b[0m\u001b[1;33m\u001b[0m\u001b[1;33m\u001b[0m\u001b[0m\n\u001b[0;32m      3\u001b[0m         \u001b[0mL\u001b[0m \u001b[1;33m=\u001b[0m \u001b[0mbandit_matrix\u001b[0m\u001b[1;33m(\u001b[0m\u001b[0ml\u001b[0m\u001b[1;33m,\u001b[0m \u001b[0mh\u001b[0m\u001b[1;33m,\u001b[0m \u001b[0mbirth_l\u001b[0m\u001b[1;33m,\u001b[0m \u001b[0mbirth_h\u001b[0m\u001b[1;33m,\u001b[0m\u001b[0me\u001b[0m\u001b[1;33m)\u001b[0m\u001b[1;33m\u001b[0m\u001b[1;33m\u001b[0m\u001b[0m\n\u001b[1;32m----> 4\u001b[1;33m         \u001b[0mr_e\u001b[0m \u001b[1;33m=\u001b[0m \u001b[0mget_leading_eigenvalue\u001b[0m\u001b[1;33m(\u001b[0m\u001b[0mL\u001b[0m\u001b[1;33m)\u001b[0m\u001b[1;33m\u001b[0m\u001b[1;33m\u001b[0m\u001b[0m\n\u001b[0m\u001b[0;32m      5\u001b[0m         \u001b[1;32mreturn\u001b[0m \u001b[0mr_e\u001b[0m\u001b[1;33m\u001b[0m\u001b[1;33m\u001b[0m\u001b[0m\n\u001b[0;32m      6\u001b[0m     \u001b[0me_opt\u001b[0m \u001b[1;33m=\u001b[0m \u001b[0mfind_local_maximum\u001b[0m\u001b[1;33m(\u001b[0m\u001b[0mfitness_e\u001b[0m\u001b[1;33m,\u001b[0m \u001b[0mInteger\u001b[0m\u001b[1;33m(\u001b[0m\u001b[1;36m0\u001b[0m\u001b[1;33m)\u001b[0m\u001b[1;33m,\u001b[0m \u001b[0mInteger\u001b[0m\u001b[1;33m(\u001b[0m\u001b[1;36m1\u001b[0m\u001b[1;33m)\u001b[0m\u001b[1;33m)\u001b[0m\u001b[1;33m[\u001b[0m\u001b[0mInteger\u001b[0m\u001b[1;33m(\u001b[0m\u001b[1;36m1\u001b[0m\u001b[1;33m)\u001b[0m\u001b[1;33m]\u001b[0m\u001b[1;33m\u001b[0m\u001b[1;33m\u001b[0m\u001b[0m\n",
      "\u001b[1;32m<ipython-input-2-0d68d1bcd192>\u001b[0m in \u001b[0;36mget_leading_eigenvalue\u001b[1;34m(L)\u001b[0m\n\u001b[0;32m     22\u001b[0m \u001b[1;33m\u001b[0m\u001b[0m\n\u001b[0;32m     23\u001b[0m \u001b[1;32mdef\u001b[0m \u001b[0mget_leading_eigenvalue\u001b[0m\u001b[1;33m(\u001b[0m\u001b[0mL\u001b[0m\u001b[1;33m)\u001b[0m\u001b[1;33m:\u001b[0m\u001b[1;33m\u001b[0m\u001b[1;33m\u001b[0m\u001b[0m\n\u001b[1;32m---> 24\u001b[1;33m     \u001b[0mevals\u001b[0m \u001b[1;33m=\u001b[0m \u001b[0mL\u001b[0m\u001b[1;33m.\u001b[0m\u001b[0meigenvalues\u001b[0m\u001b[1;33m(\u001b[0m\u001b[1;33m)\u001b[0m\u001b[1;33m\u001b[0m\u001b[1;33m\u001b[0m\u001b[0m\n\u001b[0m\u001b[0;32m     25\u001b[0m     \u001b[0mmoduli\u001b[0m \u001b[1;33m=\u001b[0m \u001b[1;33m[\u001b[0m\u001b[0me\u001b[0m\u001b[1;33m.\u001b[0m\u001b[0mn\u001b[0m\u001b[1;33m(\u001b[0m\u001b[1;33m)\u001b[0m \u001b[1;32mfor\u001b[0m \u001b[0me\u001b[0m \u001b[1;32min\u001b[0m \u001b[0mevals\u001b[0m \u001b[1;32mif\u001b[0m \u001b[0mis_essentially_real\u001b[0m\u001b[1;33m(\u001b[0m\u001b[0me\u001b[0m\u001b[1;33m)\u001b[0m\u001b[1;33m]\u001b[0m\u001b[1;33m\u001b[0m\u001b[1;33m\u001b[0m\u001b[0m\n\u001b[0;32m     26\u001b[0m     \u001b[0mmoduli\u001b[0m \u001b[1;33m=\u001b[0m \u001b[1;33m[\u001b[0m\u001b[0me\u001b[0m \u001b[1;32mfor\u001b[0m \u001b[0me\u001b[0m \u001b[1;32min\u001b[0m \u001b[0mmoduli\u001b[0m \u001b[1;32mif\u001b[0m \u001b[0me\u001b[0m \u001b[1;33m>=\u001b[0m \u001b[0mInteger\u001b[0m\u001b[1;33m(\u001b[0m\u001b[1;36m0\u001b[0m\u001b[1;33m)\u001b[0m\u001b[1;33m]\u001b[0m\u001b[1;33m\u001b[0m\u001b[1;33m\u001b[0m\u001b[0m\n",
      "\u001b[1;32m/home/eric/ubc/research/experimental_sage/SageMath/local/lib/python3.7/site-packages/sage/matrix/matrix2.pyx\u001b[0m in \u001b[0;36msage.matrix.matrix2.Matrix.eigenvalues (build/cythonized/sage/matrix/matrix2.c:44697)\u001b[1;34m()\u001b[0m\n\u001b[0;32m   6373\u001b[0m                 \u001b[0mres\u001b[0m\u001b[1;33m.\u001b[0m\u001b[0mextend\u001b[0m\u001b[1;33m(\u001b[0m\u001b[1;33m[\u001b[0m\u001b[1;33m-\u001b[0m\u001b[0mf\u001b[0m\u001b[1;33m.\u001b[0m\u001b[0mconstant_coefficient\u001b[0m\u001b[1;33m(\u001b[0m\u001b[1;33m)\u001b[0m\u001b[1;33m]\u001b[0m\u001b[1;33m*\u001b[0m\u001b[0me\u001b[0m\u001b[1;33m)\u001b[0m\u001b[1;33m\u001b[0m\u001b[1;33m\u001b[0m\u001b[0m\n\u001b[0;32m   6374\u001b[0m             \u001b[1;32melse\u001b[0m\u001b[1;33m:\u001b[0m\u001b[1;33m\u001b[0m\u001b[1;33m\u001b[0m\u001b[0m\n\u001b[1;32m-> 6375\u001b[1;33m                 \u001b[1;32mfor\u001b[0m \u001b[0mr\u001b[0m\u001b[1;33m,\u001b[0m\u001b[0mee\u001b[0m \u001b[1;32min\u001b[0m \u001b[0mf\u001b[0m\u001b[1;33m.\u001b[0m\u001b[0mchange_ring\u001b[0m\u001b[1;33m(\u001b[0m\u001b[0mA\u001b[0m\u001b[1;33m)\u001b[0m\u001b[1;33m.\u001b[0m\u001b[0mroots\u001b[0m\u001b[1;33m(\u001b[0m\u001b[1;33m)\u001b[0m\u001b[1;33m:\u001b[0m\u001b[1;33m\u001b[0m\u001b[1;33m\u001b[0m\u001b[0m\n\u001b[0m\u001b[0;32m   6376\u001b[0m                     \u001b[0mres\u001b[0m\u001b[1;33m.\u001b[0m\u001b[0mextend\u001b[0m\u001b[1;33m(\u001b[0m\u001b[1;33m[\u001b[0m\u001b[0mr\u001b[0m\u001b[1;33m]\u001b[0m\u001b[1;33m*\u001b[0m\u001b[1;33m(\u001b[0m\u001b[0me\u001b[0m\u001b[1;33m*\u001b[0m\u001b[0mee\u001b[0m\u001b[1;33m)\u001b[0m\u001b[1;33m)\u001b[0m\u001b[1;33m\u001b[0m\u001b[1;33m\u001b[0m\u001b[0m\n\u001b[0;32m   6377\u001b[0m \u001b[1;33m\u001b[0m\u001b[0m\n",
      "\u001b[1;32m/home/eric/ubc/research/experimental_sage/SageMath/local/lib/python3.7/site-packages/sage/rings/polynomial/polynomial_element.pyx\u001b[0m in \u001b[0;36msage.rings.polynomial.polynomial_element.Polynomial.roots (build/cythonized/sage/rings/polynomial/polynomial_element.c:62507)\u001b[1;34m()\u001b[0m\n\u001b[0;32m   7844\u001b[0m                     \u001b[0mrts\u001b[0m \u001b[1;33m=\u001b[0m \u001b[0mcomplex_roots\u001b[0m\u001b[1;33m(\u001b[0m\u001b[0mself\u001b[0m\u001b[1;33m,\u001b[0m \u001b[0mmin_prec\u001b[0m\u001b[1;33m=\u001b[0m\u001b[0mL\u001b[0m\u001b[1;33m.\u001b[0m\u001b[0mprec\u001b[0m\u001b[1;33m(\u001b[0m\u001b[1;33m)\u001b[0m\u001b[1;33m)\u001b[0m\u001b[1;33m\u001b[0m\u001b[1;33m\u001b[0m\u001b[0m\n\u001b[0;32m   7845\u001b[0m                 \u001b[1;32melif\u001b[0m \u001b[0mis_AlgebraicField\u001b[0m\u001b[1;33m(\u001b[0m\u001b[0mL\u001b[0m\u001b[1;33m)\u001b[0m\u001b[1;33m:\u001b[0m\u001b[1;33m\u001b[0m\u001b[1;33m\u001b[0m\u001b[0m\n\u001b[1;32m-> 7846\u001b[1;33m                     \u001b[0mrts\u001b[0m \u001b[1;33m=\u001b[0m \u001b[0mcomplex_roots\u001b[0m\u001b[1;33m(\u001b[0m\u001b[0mself\u001b[0m\u001b[1;33m,\u001b[0m \u001b[0mretval\u001b[0m\u001b[1;33m=\u001b[0m\u001b[1;34m'algebraic'\u001b[0m\u001b[1;33m)\u001b[0m\u001b[1;33m\u001b[0m\u001b[1;33m\u001b[0m\u001b[0m\n\u001b[0m\u001b[0;32m   7847\u001b[0m                 \u001b[1;32melse\u001b[0m\u001b[1;33m:\u001b[0m\u001b[1;33m\u001b[0m\u001b[1;33m\u001b[0m\u001b[0m\n\u001b[0;32m   7848\u001b[0m                     \u001b[0mrts\u001b[0m \u001b[1;33m=\u001b[0m \u001b[0mcomplex_roots\u001b[0m\u001b[1;33m(\u001b[0m\u001b[0mself\u001b[0m\u001b[1;33m,\u001b[0m \u001b[0mretval\u001b[0m\u001b[1;33m=\u001b[0m\u001b[1;34m'algebraic_real'\u001b[0m\u001b[1;33m)\u001b[0m\u001b[1;33m\u001b[0m\u001b[1;33m\u001b[0m\u001b[0m\n",
      "\u001b[1;32m/home/eric/ubc/research/experimental_sage/SageMath/local/lib/python3.7/site-packages/sage/rings/polynomial/complex_roots.py\u001b[0m in \u001b[0;36mcomplex_roots\u001b[1;34m(p, skip_squarefree, retval, min_prec)\u001b[0m\n\u001b[0;32m    265\u001b[0m                 \u001b[0mok\u001b[0m \u001b[1;33m=\u001b[0m \u001b[1;32mFalse\u001b[0m\u001b[1;33m\u001b[0m\u001b[1;33m\u001b[0m\u001b[0m\n\u001b[0;32m    266\u001b[0m                 \u001b[1;32mbreak\u001b[0m\u001b[1;33m\u001b[0m\u001b[1;33m\u001b[0m\u001b[0m\n\u001b[1;32m--> 267\u001b[1;33m             \u001b[0mirts\u001b[0m \u001b[1;33m=\u001b[0m \u001b[0minterval_roots\u001b[0m\u001b[1;33m(\u001b[0m\u001b[0mfactor\u001b[0m\u001b[1;33m,\u001b[0m \u001b[0mrts\u001b[0m\u001b[1;33m,\u001b[0m \u001b[0mmax\u001b[0m\u001b[1;33m(\u001b[0m\u001b[0mprec\u001b[0m\u001b[1;33m,\u001b[0m \u001b[0mmin_prec\u001b[0m\u001b[1;33m)\u001b[0m\u001b[1;33m)\u001b[0m\u001b[1;33m\u001b[0m\u001b[1;33m\u001b[0m\u001b[0m\n\u001b[0m\u001b[0;32m    268\u001b[0m             \u001b[1;32mif\u001b[0m \u001b[0mirts\u001b[0m \u001b[1;32mis\u001b[0m \u001b[1;32mNone\u001b[0m\u001b[1;33m:\u001b[0m\u001b[1;33m\u001b[0m\u001b[1;33m\u001b[0m\u001b[0m\n\u001b[0;32m    269\u001b[0m                 \u001b[0mok\u001b[0m \u001b[1;33m=\u001b[0m \u001b[1;32mFalse\u001b[0m\u001b[1;33m\u001b[0m\u001b[1;33m\u001b[0m\u001b[0m\n",
      "\u001b[1;32m/home/eric/ubc/research/experimental_sage/SageMath/local/lib/python3.7/site-packages/sage/rings/polynomial/complex_roots.py\u001b[0m in \u001b[0;36minterval_roots\u001b[1;34m(p, rts, prec)\u001b[0m\n\u001b[0;32m     76\u001b[0m \u001b[1;33m\u001b[0m\u001b[0m\n\u001b[0;32m     77\u001b[0m     \u001b[1;32mfor\u001b[0m \u001b[0mrt\u001b[0m \u001b[1;32min\u001b[0m \u001b[0mrts\u001b[0m\u001b[1;33m:\u001b[0m\u001b[1;33m\u001b[0m\u001b[1;33m\u001b[0m\u001b[0m\n\u001b[1;32m---> 78\u001b[1;33m         \u001b[0mirt\u001b[0m \u001b[1;33m=\u001b[0m \u001b[0mrefine_root\u001b[0m\u001b[1;33m(\u001b[0m\u001b[0mip\u001b[0m\u001b[1;33m,\u001b[0m \u001b[0mipd\u001b[0m\u001b[1;33m,\u001b[0m \u001b[0mCIF\u001b[0m\u001b[1;33m(\u001b[0m\u001b[0mrt\u001b[0m\u001b[1;33m)\u001b[0m\u001b[1;33m,\u001b[0m \u001b[0mCIF\u001b[0m\u001b[1;33m)\u001b[0m\u001b[1;33m\u001b[0m\u001b[1;33m\u001b[0m\u001b[0m\n\u001b[0m\u001b[0;32m     79\u001b[0m         \u001b[1;32mif\u001b[0m \u001b[0mirt\u001b[0m \u001b[1;32mis\u001b[0m \u001b[1;32mNone\u001b[0m\u001b[1;33m:\u001b[0m\u001b[1;33m\u001b[0m\u001b[1;33m\u001b[0m\u001b[0m\n\u001b[0;32m     80\u001b[0m             \u001b[1;32mreturn\u001b[0m \u001b[1;32mNone\u001b[0m\u001b[1;33m\u001b[0m\u001b[1;33m\u001b[0m\u001b[0m\n",
      "\u001b[1;32m/home/eric/ubc/research/experimental_sage/SageMath/local/lib/python3.7/site-packages/sage/rings/polynomial/refine_root.pyx\u001b[0m in \u001b[0;36msage.rings.polynomial.refine_root.refine_root (build/cythonized/sage/rings/polynomial/refine_root.c:2335)\u001b[1;34m()\u001b[0m\n\u001b[0;32m    136\u001b[0m             \u001b[0msmashed_real\u001b[0m \u001b[1;33m=\u001b[0m \u001b[1;32mTrue\u001b[0m\u001b[1;33m\u001b[0m\u001b[1;33m\u001b[0m\u001b[0m\n\u001b[0;32m    137\u001b[0m         \u001b[1;32mif\u001b[0m \u001b[1;32mnot\u001b[0m \u001b[0msmashed_imag\u001b[0m \u001b[1;32mand\u001b[0m \u001b[0mirt\u001b[0m\u001b[1;33m.\u001b[0m\u001b[0mimag\u001b[0m\u001b[1;33m(\u001b[0m\u001b[1;33m)\u001b[0m\u001b[1;33m.\u001b[0m\u001b[0mcontains_zero\u001b[0m\u001b[1;33m(\u001b[0m\u001b[1;33m)\u001b[0m\u001b[1;33m:\u001b[0m\u001b[1;33m\u001b[0m\u001b[1;33m\u001b[0m\u001b[0m\n\u001b[1;32m--> 138\u001b[1;33m             \u001b[0mirt\u001b[0m \u001b[1;33m=\u001b[0m \u001b[0mirt\u001b[0m\u001b[1;33m.\u001b[0m\u001b[0mparent\u001b[0m\u001b[1;33m(\u001b[0m\u001b[1;33m)\u001b[0m\u001b[1;33m(\u001b[0m\u001b[0mirt\u001b[0m\u001b[1;33m.\u001b[0m\u001b[0mreal\u001b[0m\u001b[1;33m(\u001b[0m\u001b[1;33m)\u001b[0m\u001b[1;33m,\u001b[0m \u001b[1;36m0\u001b[0m\u001b[1;33m)\u001b[0m\u001b[1;33m\u001b[0m\u001b[1;33m\u001b[0m\u001b[0m\n\u001b[0m\u001b[0;32m    139\u001b[0m             \u001b[0msmashed_imag\u001b[0m \u001b[1;33m=\u001b[0m \u001b[1;32mTrue\u001b[0m\u001b[1;33m\u001b[0m\u001b[1;33m\u001b[0m\u001b[0m\n\u001b[0;32m    140\u001b[0m \u001b[1;33m\u001b[0m\u001b[0m\n",
      "\u001b[1;32m/home/eric/ubc/research/experimental_sage/SageMath/local/lib/python3.7/site-packages/sage/rings/complex_interval_field.py\u001b[0m in \u001b[0;36m__call__\u001b[1;34m(self, x, im, **kwds)\u001b[0m\n\u001b[0;32m    425\u001b[0m         \u001b[1;32mreturn\u001b[0m \u001b[1;32mnot\u001b[0m \u001b[1;33m(\u001b[0m\u001b[0mself\u001b[0m \u001b[1;33m==\u001b[0m \u001b[0mother\u001b[0m\u001b[1;33m)\u001b[0m\u001b[1;33m\u001b[0m\u001b[1;33m\u001b[0m\u001b[0m\n\u001b[0;32m    426\u001b[0m \u001b[1;33m\u001b[0m\u001b[0m\n\u001b[1;32m--> 427\u001b[1;33m     \u001b[1;32mdef\u001b[0m \u001b[0m__call__\u001b[0m\u001b[1;33m(\u001b[0m\u001b[0mself\u001b[0m\u001b[1;33m,\u001b[0m \u001b[0mx\u001b[0m\u001b[1;33m=\u001b[0m\u001b[1;32mNone\u001b[0m\u001b[1;33m,\u001b[0m \u001b[0mim\u001b[0m\u001b[1;33m=\u001b[0m\u001b[1;32mNone\u001b[0m\u001b[1;33m,\u001b[0m \u001b[1;33m**\u001b[0m\u001b[0mkwds\u001b[0m\u001b[1;33m)\u001b[0m\u001b[1;33m:\u001b[0m\u001b[1;33m\u001b[0m\u001b[1;33m\u001b[0m\u001b[0m\n\u001b[0m\u001b[0;32m    428\u001b[0m         \"\"\"\n\u001b[0;32m    429\u001b[0m         \u001b[0mConstruct\u001b[0m \u001b[0man\u001b[0m \u001b[0melement\u001b[0m\u001b[1;33m.\u001b[0m\u001b[1;33m\u001b[0m\u001b[1;33m\u001b[0m\u001b[0m\n",
      "\u001b[1;32msrc/cysignals/signals.pyx\u001b[0m in \u001b[0;36mcysignals.signals.python_check_interrupt\u001b[1;34m()\u001b[0m\n",
      "\u001b[1;31mKeyboardInterrupt\u001b[0m: "
     ]
    }
   ],
   "source": [
    "h_vec = []\n",
    "for birth_h in range(1, 200):\n",
    "    h_disc = find_disc_in_h(3/10, 1, birth_h/10)\n",
    "    h_vec.append(h_disc)\n",
    "    print( 'done with {}'.format(birth_h))\n",
    "    \n"
   ]
  },
  {
   "cell_type": "code",
   "execution_count": 246,
   "metadata": {},
   "outputs": [
    {
     "data": {
      "application/vnd.plotly.v1+json": {
       "config": {
        "plotlyServerURL": "https://plot.ly"
       },
       "data": [
        {
         "marker": {
          "color": "#d62728"
         },
         "mode": "markers",
         "type": "scatter",
         "x": [
          0.1,
          0.2,
          0.3,
          0.4,
          0.5,
          0.6,
          0.7,
          0.8,
          0.9,
          1,
          1.1,
          1.2,
          1.3,
          1.4,
          1.5,
          1.6,
          1.7,
          1.8,
          1.9,
          2,
          2.1,
          2.2,
          2.3,
          2.4,
          2.5,
          2.6,
          2.7,
          2.8,
          2.9,
          3,
          3.1,
          3.2,
          3.3,
          3.4,
          3.5,
          3.6,
          3.7,
          3.8,
          3.9,
          4,
          4.1,
          4.2,
          4.3,
          4.4,
          4.5,
          4.6,
          4.7,
          4.8,
          4.9,
          5,
          5.1,
          5.2,
          5.3,
          5.4,
          5.5,
          5.6,
          5.7,
          5.8,
          5.9,
          6,
          6.1,
          6.2,
          6.3,
          6.4,
          6.5,
          6.6,
          6.7,
          6.8,
          6.9,
          7,
          7.1,
          7.2,
          7.3,
          7.4,
          7.5,
          7.6,
          7.7,
          7.8,
          7.9,
          8,
          8.1,
          8.2,
          8.3,
          8.4,
          8.5,
          8.6,
          8.7,
          8.8,
          8.9,
          9,
          9.1,
          9.2,
          9.3,
          9.4,
          9.5,
          9.6,
          9.7,
          9.8,
          9.9,
          10,
          10.1,
          10.2,
          10.3,
          10.4,
          10.5,
          10.6,
          10.7,
          10.8,
          10.9,
          11,
          11.1,
          11.2,
          11.3,
          11.4,
          11.5,
          11.6,
          11.7,
          11.8,
          11.9,
          12,
          12.1,
          12.2,
          12.3,
          12.4,
          12.5,
          12.6,
          12.7,
          12.8,
          12.9,
          13,
          13.1,
          13.2,
          13.3,
          13.4,
          13.5,
          13.6,
          13.7,
          13.8,
          13.9,
          14,
          14.1,
          14.2,
          14.3,
          14.4,
          14.5,
          14.6,
          14.7,
          14.8,
          14.9,
          15,
          15.1,
          15.2,
          15.3,
          15.4,
          15.5,
          15.6,
          15.7,
          15.8,
          15.9,
          16,
          16.1,
          16.2,
          16.3,
          16.4,
          16.5,
          16.6,
          16.7,
          16.8,
          16.9,
          17,
          17.1,
          17.2,
          17.3,
          17.4,
          17.5,
          17.6,
          17.7,
          17.8,
          17.9,
          18,
          18.1,
          18.2,
          18.3,
          18.4,
          18.5,
          18.6,
          18.7,
          18.8,
          18.9,
          19,
          19.1,
          19.2,
          19.3,
          19.4,
          19.5,
          19.6,
          19.7,
          19.8,
          19.9
         ],
         "y": [
          0.6998291015625,
          0.6998291015625,
          0.6998291015625,
          0.6998291015625,
          0.6998291015625,
          0.6998291015625,
          0.6998291015625,
          0.6998291015625,
          0.6998291015625,
          0.6998291015625,
          0.5549072265625,
          0.4595458984375,
          0.3922119140625,
          0.3419677734375,
          0.3030029296875,
          0.2722412109375,
          0.2472900390625,
          0.2260986328125,
          0.2086669921875,
          0.1936279296875,
          0.1802978515625,
          0.1690185546875,
          0.1591064453125,
          0.1498779296875,
          0.1420166015625,
          0.1348388671875,
          0.1283447265625,
          0.1225341796875,
          0.1170654296875,
          0.1122802734375,
          0.1078369140625,
          0.1033935546875,
          0.0996337890625,
          0.0962158203125,
          0.0927978515625,
          0.0897216796875,
          0.0866455078125,
          0.0839111328125,
          0.0815185546875,
          0.0791259765625,
          0.0767333984375,
          0.0746826171875,
          0.0726318359375,
          0.0705810546875,
          0.0688720703125,
          0.0671630859375,
          0.0654541015625,
          0.0640869140625,
          0.0623779296875,
          0.0610107421875,
          0.0596435546875,
          0.0582763671875,
          0.0572509765625,
          0.0558837890625,
          0.0548583984375,
          0.0538330078125,
          0.0524658203125,
          0.0514404296875,
          0.0507568359375,
          0.0497314453125,
          0.0487060546875,
          0.0480224609375,
          0.0469970703125,
          0.0463134765625,
          0.0452880859375,
          0.0446044921875,
          0.0439208984375,
          0.0432373046875,
          0.0425537109375,
          0.0418701171875,
          0.0411865234375,
          0.0405029296875,
          0.0401611328125,
          0.0394775390625,
          0.0387939453125,
          0.0384521484375,
          0.0377685546875,
          0.0370849609375,
          0.0367431640625,
          0.0360595703125,
          0.0357177734375,
          0.0353759765625,
          0.0346923828125,
          0.0343505859375,
          0.0340087890625,
          0.0336669921875,
          0.0329833984375,
          0.0326416015625,
          0.0322998046875,
          0.0319580078125,
          0.0316162109375,
          0.0312744140625,
          0.0309326171875,
          0.0305908203125,
          0.0302490234375,
          0.0299072265625,
          0.0295654296875,
          0.0292236328125,
          0.0288818359375,
          0.0285400390625,
          0.0281982421875,
          0.0278564453125,
          0.0275146484375,
          0.0271728515625,
          0.0271728515625,
          0.0268310546875,
          0.0264892578125,
          0.0261474609375,
          0.0261474609375,
          0.0258056640625,
          0.0254638671875,
          0.0251220703125,
          0.0251220703125,
          0.0247802734375,
          0.0244384765625,
          0.0244384765625,
          0.0240966796875,
          0.0237548828125,
          0.0237548828125,
          0.0234130859375,
          0.0234130859375,
          0.0230712890625,
          0.0227294921875,
          0.0227294921875,
          0.0223876953125,
          0.0223876953125,
          0.0220458984375,
          0.0220458984375,
          0.0217041015625,
          0.0217041015625,
          0.0213623046875,
          0.0213623046875,
          0.0210205078125,
          0.0210205078125,
          0.0206787109375,
          0.0206787109375,
          0.0203369140625,
          0.0203369140625,
          0.0199951171875,
          0.0199951171875,
          0.0199951171875,
          0.0196533203125,
          0.0196533203125,
          0.0193115234375,
          0.0193115234375,
          0.0189697265625,
          0.0189697265625,
          0.0189697265625,
          0.0186279296875,
          0.0186279296875,
          0.0186279296875,
          0.0182861328125,
          0.0182861328125,
          0.0179443359375,
          0.0179443359375,
          0.0179443359375,
          0.0176025390625,
          0.0176025390625,
          0.0176025390625,
          0.0172607421875,
          0.0172607421875,
          0.0172607421875,
          0.0169189453125,
          0.0169189453125,
          0.0169189453125,
          0.0165771484375,
          0.0165771484375,
          0.0165771484375,
          0.0165771484375,
          0.0162353515625,
          0.0162353515625,
          0.0162353515625,
          0.0158935546875,
          0.0158935546875,
          0.0158935546875,
          0.0158935546875,
          0.0155517578125,
          0.0155517578125,
          0.0155517578125,
          0.0155517578125,
          0.0152099609375,
          0.0152099609375,
          0.0152099609375,
          0.0148681640625,
          0.0148681640625,
          0.0148681640625,
          0.0148681640625,
          0.0148681640625,
          0.0145263671875,
          0.0145263671875,
          0.0145263671875,
          0.0145263671875,
          0.0141845703125,
          0.0141845703125,
          0.0141845703125,
          0.0141845703125,
          0.0138427734375,
          0.0138427734375,
          0.0138427734375
         ]
        }
       ],
       "layout": {
        "template": {
         "data": {
          "bar": [
           {
            "error_x": {
             "color": "#2a3f5f"
            },
            "error_y": {
             "color": "#2a3f5f"
            },
            "marker": {
             "line": {
              "color": "#E5ECF6",
              "width": 0.5
             }
            },
            "type": "bar"
           }
          ],
          "barpolar": [
           {
            "marker": {
             "line": {
              "color": "#E5ECF6",
              "width": 0.5
             }
            },
            "type": "barpolar"
           }
          ],
          "carpet": [
           {
            "aaxis": {
             "endlinecolor": "#2a3f5f",
             "gridcolor": "white",
             "linecolor": "white",
             "minorgridcolor": "white",
             "startlinecolor": "#2a3f5f"
            },
            "baxis": {
             "endlinecolor": "#2a3f5f",
             "gridcolor": "white",
             "linecolor": "white",
             "minorgridcolor": "white",
             "startlinecolor": "#2a3f5f"
            },
            "type": "carpet"
           }
          ],
          "choropleth": [
           {
            "colorbar": {
             "outlinewidth": 0,
             "ticks": ""
            },
            "type": "choropleth"
           }
          ],
          "contour": [
           {
            "colorbar": {
             "outlinewidth": 0,
             "ticks": ""
            },
            "colorscale": [
             [
              0,
              "#0d0887"
             ],
             [
              0.1111111111111111,
              "#46039f"
             ],
             [
              0.2222222222222222,
              "#7201a8"
             ],
             [
              0.3333333333333333,
              "#9c179e"
             ],
             [
              0.4444444444444444,
              "#bd3786"
             ],
             [
              0.5555555555555556,
              "#d8576b"
             ],
             [
              0.6666666666666666,
              "#ed7953"
             ],
             [
              0.7777777777777778,
              "#fb9f3a"
             ],
             [
              0.8888888888888888,
              "#fdca26"
             ],
             [
              1,
              "#f0f921"
             ]
            ],
            "type": "contour"
           }
          ],
          "contourcarpet": [
           {
            "colorbar": {
             "outlinewidth": 0,
             "ticks": ""
            },
            "type": "contourcarpet"
           }
          ],
          "heatmap": [
           {
            "colorbar": {
             "outlinewidth": 0,
             "ticks": ""
            },
            "colorscale": [
             [
              0,
              "#0d0887"
             ],
             [
              0.1111111111111111,
              "#46039f"
             ],
             [
              0.2222222222222222,
              "#7201a8"
             ],
             [
              0.3333333333333333,
              "#9c179e"
             ],
             [
              0.4444444444444444,
              "#bd3786"
             ],
             [
              0.5555555555555556,
              "#d8576b"
             ],
             [
              0.6666666666666666,
              "#ed7953"
             ],
             [
              0.7777777777777778,
              "#fb9f3a"
             ],
             [
              0.8888888888888888,
              "#fdca26"
             ],
             [
              1,
              "#f0f921"
             ]
            ],
            "type": "heatmap"
           }
          ],
          "heatmapgl": [
           {
            "colorbar": {
             "outlinewidth": 0,
             "ticks": ""
            },
            "colorscale": [
             [
              0,
              "#0d0887"
             ],
             [
              0.1111111111111111,
              "#46039f"
             ],
             [
              0.2222222222222222,
              "#7201a8"
             ],
             [
              0.3333333333333333,
              "#9c179e"
             ],
             [
              0.4444444444444444,
              "#bd3786"
             ],
             [
              0.5555555555555556,
              "#d8576b"
             ],
             [
              0.6666666666666666,
              "#ed7953"
             ],
             [
              0.7777777777777778,
              "#fb9f3a"
             ],
             [
              0.8888888888888888,
              "#fdca26"
             ],
             [
              1,
              "#f0f921"
             ]
            ],
            "type": "heatmapgl"
           }
          ],
          "histogram": [
           {
            "marker": {
             "colorbar": {
              "outlinewidth": 0,
              "ticks": ""
             }
            },
            "type": "histogram"
           }
          ],
          "histogram2d": [
           {
            "colorbar": {
             "outlinewidth": 0,
             "ticks": ""
            },
            "colorscale": [
             [
              0,
              "#0d0887"
             ],
             [
              0.1111111111111111,
              "#46039f"
             ],
             [
              0.2222222222222222,
              "#7201a8"
             ],
             [
              0.3333333333333333,
              "#9c179e"
             ],
             [
              0.4444444444444444,
              "#bd3786"
             ],
             [
              0.5555555555555556,
              "#d8576b"
             ],
             [
              0.6666666666666666,
              "#ed7953"
             ],
             [
              0.7777777777777778,
              "#fb9f3a"
             ],
             [
              0.8888888888888888,
              "#fdca26"
             ],
             [
              1,
              "#f0f921"
             ]
            ],
            "type": "histogram2d"
           }
          ],
          "histogram2dcontour": [
           {
            "colorbar": {
             "outlinewidth": 0,
             "ticks": ""
            },
            "colorscale": [
             [
              0,
              "#0d0887"
             ],
             [
              0.1111111111111111,
              "#46039f"
             ],
             [
              0.2222222222222222,
              "#7201a8"
             ],
             [
              0.3333333333333333,
              "#9c179e"
             ],
             [
              0.4444444444444444,
              "#bd3786"
             ],
             [
              0.5555555555555556,
              "#d8576b"
             ],
             [
              0.6666666666666666,
              "#ed7953"
             ],
             [
              0.7777777777777778,
              "#fb9f3a"
             ],
             [
              0.8888888888888888,
              "#fdca26"
             ],
             [
              1,
              "#f0f921"
             ]
            ],
            "type": "histogram2dcontour"
           }
          ],
          "mesh3d": [
           {
            "colorbar": {
             "outlinewidth": 0,
             "ticks": ""
            },
            "type": "mesh3d"
           }
          ],
          "parcoords": [
           {
            "line": {
             "colorbar": {
              "outlinewidth": 0,
              "ticks": ""
             }
            },
            "type": "parcoords"
           }
          ],
          "pie": [
           {
            "automargin": true,
            "type": "pie"
           }
          ],
          "scatter": [
           {
            "marker": {
             "colorbar": {
              "outlinewidth": 0,
              "ticks": ""
             }
            },
            "type": "scatter"
           }
          ],
          "scatter3d": [
           {
            "line": {
             "colorbar": {
              "outlinewidth": 0,
              "ticks": ""
             }
            },
            "marker": {
             "colorbar": {
              "outlinewidth": 0,
              "ticks": ""
             }
            },
            "type": "scatter3d"
           }
          ],
          "scattercarpet": [
           {
            "marker": {
             "colorbar": {
              "outlinewidth": 0,
              "ticks": ""
             }
            },
            "type": "scattercarpet"
           }
          ],
          "scattergeo": [
           {
            "marker": {
             "colorbar": {
              "outlinewidth": 0,
              "ticks": ""
             }
            },
            "type": "scattergeo"
           }
          ],
          "scattergl": [
           {
            "marker": {
             "colorbar": {
              "outlinewidth": 0,
              "ticks": ""
             }
            },
            "type": "scattergl"
           }
          ],
          "scattermapbox": [
           {
            "marker": {
             "colorbar": {
              "outlinewidth": 0,
              "ticks": ""
             }
            },
            "type": "scattermapbox"
           }
          ],
          "scatterpolar": [
           {
            "marker": {
             "colorbar": {
              "outlinewidth": 0,
              "ticks": ""
             }
            },
            "type": "scatterpolar"
           }
          ],
          "scatterpolargl": [
           {
            "marker": {
             "colorbar": {
              "outlinewidth": 0,
              "ticks": ""
             }
            },
            "type": "scatterpolargl"
           }
          ],
          "scatterternary": [
           {
            "marker": {
             "colorbar": {
              "outlinewidth": 0,
              "ticks": ""
             }
            },
            "type": "scatterternary"
           }
          ],
          "surface": [
           {
            "colorbar": {
             "outlinewidth": 0,
             "ticks": ""
            },
            "colorscale": [
             [
              0,
              "#0d0887"
             ],
             [
              0.1111111111111111,
              "#46039f"
             ],
             [
              0.2222222222222222,
              "#7201a8"
             ],
             [
              0.3333333333333333,
              "#9c179e"
             ],
             [
              0.4444444444444444,
              "#bd3786"
             ],
             [
              0.5555555555555556,
              "#d8576b"
             ],
             [
              0.6666666666666666,
              "#ed7953"
             ],
             [
              0.7777777777777778,
              "#fb9f3a"
             ],
             [
              0.8888888888888888,
              "#fdca26"
             ],
             [
              1,
              "#f0f921"
             ]
            ],
            "type": "surface"
           }
          ],
          "table": [
           {
            "cells": {
             "fill": {
              "color": "#EBF0F8"
             },
             "line": {
              "color": "white"
             }
            },
            "header": {
             "fill": {
              "color": "#C8D4E3"
             },
             "line": {
              "color": "white"
             }
            },
            "type": "table"
           }
          ]
         },
         "layout": {
          "annotationdefaults": {
           "arrowcolor": "#2a3f5f",
           "arrowhead": 0,
           "arrowwidth": 1
          },
          "coloraxis": {
           "colorbar": {
            "outlinewidth": 0,
            "ticks": ""
           }
          },
          "colorscale": {
           "diverging": [
            [
             0,
             "#8e0152"
            ],
            [
             0.1,
             "#c51b7d"
            ],
            [
             0.2,
             "#de77ae"
            ],
            [
             0.3,
             "#f1b6da"
            ],
            [
             0.4,
             "#fde0ef"
            ],
            [
             0.5,
             "#f7f7f7"
            ],
            [
             0.6,
             "#e6f5d0"
            ],
            [
             0.7,
             "#b8e186"
            ],
            [
             0.8,
             "#7fbc41"
            ],
            [
             0.9,
             "#4d9221"
            ],
            [
             1,
             "#276419"
            ]
           ],
           "sequential": [
            [
             0,
             "#0d0887"
            ],
            [
             0.1111111111111111,
             "#46039f"
            ],
            [
             0.2222222222222222,
             "#7201a8"
            ],
            [
             0.3333333333333333,
             "#9c179e"
            ],
            [
             0.4444444444444444,
             "#bd3786"
            ],
            [
             0.5555555555555556,
             "#d8576b"
            ],
            [
             0.6666666666666666,
             "#ed7953"
            ],
            [
             0.7777777777777778,
             "#fb9f3a"
            ],
            [
             0.8888888888888888,
             "#fdca26"
            ],
            [
             1,
             "#f0f921"
            ]
           ],
           "sequentialminus": [
            [
             0,
             "#0d0887"
            ],
            [
             0.1111111111111111,
             "#46039f"
            ],
            [
             0.2222222222222222,
             "#7201a8"
            ],
            [
             0.3333333333333333,
             "#9c179e"
            ],
            [
             0.4444444444444444,
             "#bd3786"
            ],
            [
             0.5555555555555556,
             "#d8576b"
            ],
            [
             0.6666666666666666,
             "#ed7953"
            ],
            [
             0.7777777777777778,
             "#fb9f3a"
            ],
            [
             0.8888888888888888,
             "#fdca26"
            ],
            [
             1,
             "#f0f921"
            ]
           ]
          },
          "colorway": [
           "#636efa",
           "#EF553B",
           "#00cc96",
           "#ab63fa",
           "#FFA15A",
           "#19d3f3",
           "#FF6692",
           "#B6E880",
           "#FF97FF",
           "#FECB52"
          ],
          "font": {
           "color": "#2a3f5f"
          },
          "geo": {
           "bgcolor": "white",
           "lakecolor": "white",
           "landcolor": "#E5ECF6",
           "showlakes": true,
           "showland": true,
           "subunitcolor": "white"
          },
          "hoverlabel": {
           "align": "left"
          },
          "hovermode": "closest",
          "mapbox": {
           "style": "light"
          },
          "paper_bgcolor": "white",
          "plot_bgcolor": "#E5ECF6",
          "polar": {
           "angularaxis": {
            "gridcolor": "white",
            "linecolor": "white",
            "ticks": ""
           },
           "bgcolor": "#E5ECF6",
           "radialaxis": {
            "gridcolor": "white",
            "linecolor": "white",
            "ticks": ""
           }
          },
          "scene": {
           "xaxis": {
            "backgroundcolor": "#E5ECF6",
            "gridcolor": "white",
            "gridwidth": 2,
            "linecolor": "white",
            "showbackground": true,
            "ticks": "",
            "zerolinecolor": "white"
           },
           "yaxis": {
            "backgroundcolor": "#E5ECF6",
            "gridcolor": "white",
            "gridwidth": 2,
            "linecolor": "white",
            "showbackground": true,
            "ticks": "",
            "zerolinecolor": "white"
           },
           "zaxis": {
            "backgroundcolor": "#E5ECF6",
            "gridcolor": "white",
            "gridwidth": 2,
            "linecolor": "white",
            "showbackground": true,
            "ticks": "",
            "zerolinecolor": "white"
           }
          },
          "shapedefaults": {
           "line": {
            "color": "#2a3f5f"
           }
          },
          "ternary": {
           "aaxis": {
            "gridcolor": "white",
            "linecolor": "white",
            "ticks": ""
           },
           "baxis": {
            "gridcolor": "white",
            "linecolor": "white",
            "ticks": ""
           },
           "bgcolor": "#E5ECF6",
           "caxis": {
            "gridcolor": "white",
            "linecolor": "white",
            "ticks": ""
           }
          },
          "title": {
           "x": 0.05
          },
          "xaxis": {
           "automargin": true,
           "gridcolor": "white",
           "linecolor": "white",
           "ticks": "",
           "title": {
            "standoff": 15
           },
           "zerolinecolor": "white",
           "zerolinewidth": 2
          },
          "yaxis": {
           "automargin": true,
           "gridcolor": "white",
           "linecolor": "white",
           "ticks": "",
           "title": {
            "standoff": 15
           },
           "zerolinecolor": "white",
           "zerolinewidth": 2
          }
         }
        },
        "xaxis": {
         "title": {
          "text": "beta_h"
         }
        },
        "yaxis": {
         "title": {
          "text": "h_disc (beta_h)"
         }
        }
       }
      },
      "text/html": [
       "<div>                            <div id=\"f5b63287-fba1-496b-b478-ec6373cdc9d2\" class=\"plotly-graph-div\" style=\"height:525px; width:100%;\"></div>            <script type=\"text/javascript\">                require([\"plotly\"], function(Plotly) {                    window.PLOTLYENV=window.PLOTLYENV || {};                                    if (document.getElementById(\"f5b63287-fba1-496b-b478-ec6373cdc9d2\")) {                    Plotly.newPlot(                        \"f5b63287-fba1-496b-b478-ec6373cdc9d2\",                        [{\"marker\": {\"color\": \"#d62728\"}, \"mode\": \"markers\", \"type\": \"scatter\", \"x\": [0.1, 0.2, 0.3, 0.4, 0.5, 0.6, 0.7, 0.8, 0.9, 1, 1.1, 1.2, 1.3, 1.4, 1.5, 1.6, 1.7, 1.8, 1.9, 2, 2.1, 2.2, 2.3, 2.4, 2.5, 2.6, 2.7, 2.8, 2.9, 3, 3.1, 3.2, 3.3, 3.4, 3.5, 3.6, 3.7, 3.8, 3.9, 4, 4.1, 4.2, 4.3, 4.4, 4.5, 4.6, 4.7, 4.8, 4.9, 5, 5.1, 5.2, 5.3, 5.4, 5.5, 5.6, 5.7, 5.8, 5.9, 6, 6.1, 6.2, 6.3, 6.4, 6.5, 6.6, 6.7, 6.8, 6.9, 7, 7.1, 7.2, 7.3, 7.4, 7.5, 7.6, 7.7, 7.8, 7.9, 8, 8.1, 8.2, 8.3, 8.4, 8.5, 8.6, 8.7, 8.8, 8.9, 9, 9.1, 9.2, 9.3, 9.4, 9.5, 9.6, 9.7, 9.8, 9.9, 10, 10.1, 10.2, 10.3, 10.4, 10.5, 10.6, 10.7, 10.8, 10.9, 11, 11.1, 11.2, 11.3, 11.4, 11.5, 11.6, 11.7, 11.8, 11.9, 12, 12.1, 12.2, 12.3, 12.4, 12.5, 12.6, 12.7, 12.8, 12.9, 13, 13.1, 13.2, 13.3, 13.4, 13.5, 13.6, 13.7, 13.8, 13.9, 14, 14.1, 14.2, 14.3, 14.4, 14.5, 14.6, 14.7, 14.8, 14.9, 15, 15.1, 15.2, 15.3, 15.4, 15.5, 15.6, 15.7, 15.8, 15.9, 16, 16.1, 16.2, 16.3, 16.4, 16.5, 16.6, 16.7, 16.8, 16.9, 17, 17.1, 17.2, 17.3, 17.4, 17.5, 17.6, 17.7, 17.8, 17.9, 18, 18.1, 18.2, 18.3, 18.4, 18.5, 18.6, 18.7, 18.8, 18.9, 19, 19.1, 19.2, 19.3, 19.4, 19.5, 19.6, 19.7, 19.8, 19.9], \"y\": [0.6998291015625, 0.6998291015625, 0.6998291015625, 0.6998291015625, 0.6998291015625, 0.6998291015625, 0.6998291015625, 0.6998291015625, 0.6998291015625, 0.6998291015625, 0.5549072265625, 0.4595458984375, 0.3922119140625, 0.3419677734375, 0.3030029296875, 0.2722412109375, 0.2472900390625, 0.2260986328125, 0.2086669921875, 0.1936279296875, 0.1802978515625, 0.1690185546875, 0.1591064453125, 0.1498779296875, 0.1420166015625, 0.1348388671875, 0.1283447265625, 0.1225341796875, 0.1170654296875, 0.1122802734375, 0.1078369140625, 0.1033935546875, 0.0996337890625, 0.0962158203125, 0.0927978515625, 0.0897216796875, 0.0866455078125, 0.0839111328125, 0.0815185546875, 0.0791259765625, 0.0767333984375, 0.0746826171875, 0.0726318359375, 0.0705810546875, 0.0688720703125, 0.0671630859375, 0.0654541015625, 0.0640869140625, 0.0623779296875, 0.0610107421875, 0.0596435546875, 0.0582763671875, 0.0572509765625, 0.0558837890625, 0.0548583984375, 0.0538330078125, 0.0524658203125, 0.0514404296875, 0.0507568359375, 0.0497314453125, 0.0487060546875, 0.0480224609375, 0.0469970703125, 0.0463134765625, 0.0452880859375, 0.0446044921875, 0.0439208984375, 0.0432373046875, 0.0425537109375, 0.0418701171875, 0.0411865234375, 0.0405029296875, 0.0401611328125, 0.0394775390625, 0.0387939453125, 0.0384521484375, 0.0377685546875, 0.0370849609375, 0.0367431640625, 0.0360595703125, 0.0357177734375, 0.0353759765625, 0.0346923828125, 0.0343505859375, 0.0340087890625, 0.0336669921875, 0.0329833984375, 0.0326416015625, 0.0322998046875, 0.0319580078125, 0.0316162109375, 0.0312744140625, 0.0309326171875, 0.0305908203125, 0.0302490234375, 0.0299072265625, 0.0295654296875, 0.0292236328125, 0.0288818359375, 0.0285400390625, 0.0281982421875, 0.0278564453125, 0.0275146484375, 0.0271728515625, 0.0271728515625, 0.0268310546875, 0.0264892578125, 0.0261474609375, 0.0261474609375, 0.0258056640625, 0.0254638671875, 0.0251220703125, 0.0251220703125, 0.0247802734375, 0.0244384765625, 0.0244384765625, 0.0240966796875, 0.0237548828125, 0.0237548828125, 0.0234130859375, 0.0234130859375, 0.0230712890625, 0.0227294921875, 0.0227294921875, 0.0223876953125, 0.0223876953125, 0.0220458984375, 0.0220458984375, 0.0217041015625, 0.0217041015625, 0.0213623046875, 0.0213623046875, 0.0210205078125, 0.0210205078125, 0.0206787109375, 0.0206787109375, 0.0203369140625, 0.0203369140625, 0.0199951171875, 0.0199951171875, 0.0199951171875, 0.0196533203125, 0.0196533203125, 0.0193115234375, 0.0193115234375, 0.0189697265625, 0.0189697265625, 0.0189697265625, 0.0186279296875, 0.0186279296875, 0.0186279296875, 0.0182861328125, 0.0182861328125, 0.0179443359375, 0.0179443359375, 0.0179443359375, 0.0176025390625, 0.0176025390625, 0.0176025390625, 0.0172607421875, 0.0172607421875, 0.0172607421875, 0.0169189453125, 0.0169189453125, 0.0169189453125, 0.0165771484375, 0.0165771484375, 0.0165771484375, 0.0165771484375, 0.0162353515625, 0.0162353515625, 0.0162353515625, 0.0158935546875, 0.0158935546875, 0.0158935546875, 0.0158935546875, 0.0155517578125, 0.0155517578125, 0.0155517578125, 0.0155517578125, 0.0152099609375, 0.0152099609375, 0.0152099609375, 0.0148681640625, 0.0148681640625, 0.0148681640625, 0.0148681640625, 0.0148681640625, 0.0145263671875, 0.0145263671875, 0.0145263671875, 0.0145263671875, 0.0141845703125, 0.0141845703125, 0.0141845703125, 0.0141845703125, 0.0138427734375, 0.0138427734375, 0.0138427734375]}],                        {\"template\": {\"data\": {\"bar\": [{\"error_x\": {\"color\": \"#2a3f5f\"}, \"error_y\": {\"color\": \"#2a3f5f\"}, \"marker\": {\"line\": {\"color\": \"#E5ECF6\", \"width\": 0.5}}, \"type\": \"bar\"}], \"barpolar\": [{\"marker\": {\"line\": {\"color\": \"#E5ECF6\", \"width\": 0.5}}, \"type\": \"barpolar\"}], \"carpet\": [{\"aaxis\": {\"endlinecolor\": \"#2a3f5f\", \"gridcolor\": \"white\", \"linecolor\": \"white\", \"minorgridcolor\": \"white\", \"startlinecolor\": \"#2a3f5f\"}, \"baxis\": {\"endlinecolor\": \"#2a3f5f\", \"gridcolor\": \"white\", \"linecolor\": \"white\", \"minorgridcolor\": \"white\", \"startlinecolor\": \"#2a3f5f\"}, \"type\": \"carpet\"}], \"choropleth\": [{\"colorbar\": {\"outlinewidth\": 0, \"ticks\": \"\"}, \"type\": \"choropleth\"}], \"contour\": [{\"colorbar\": {\"outlinewidth\": 0, \"ticks\": \"\"}, \"colorscale\": [[0.0, \"#0d0887\"], [0.1111111111111111, \"#46039f\"], [0.2222222222222222, \"#7201a8\"], [0.3333333333333333, \"#9c179e\"], [0.4444444444444444, \"#bd3786\"], [0.5555555555555556, \"#d8576b\"], [0.6666666666666666, \"#ed7953\"], [0.7777777777777778, \"#fb9f3a\"], [0.8888888888888888, \"#fdca26\"], [1.0, \"#f0f921\"]], \"type\": \"contour\"}], \"contourcarpet\": [{\"colorbar\": {\"outlinewidth\": 0, \"ticks\": \"\"}, \"type\": \"contourcarpet\"}], \"heatmap\": [{\"colorbar\": {\"outlinewidth\": 0, \"ticks\": \"\"}, \"colorscale\": [[0.0, \"#0d0887\"], [0.1111111111111111, \"#46039f\"], [0.2222222222222222, \"#7201a8\"], [0.3333333333333333, \"#9c179e\"], [0.4444444444444444, \"#bd3786\"], [0.5555555555555556, \"#d8576b\"], [0.6666666666666666, \"#ed7953\"], [0.7777777777777778, \"#fb9f3a\"], [0.8888888888888888, \"#fdca26\"], [1.0, \"#f0f921\"]], \"type\": \"heatmap\"}], \"heatmapgl\": [{\"colorbar\": {\"outlinewidth\": 0, \"ticks\": \"\"}, \"colorscale\": [[0.0, \"#0d0887\"], [0.1111111111111111, \"#46039f\"], [0.2222222222222222, \"#7201a8\"], [0.3333333333333333, \"#9c179e\"], [0.4444444444444444, \"#bd3786\"], [0.5555555555555556, \"#d8576b\"], [0.6666666666666666, \"#ed7953\"], [0.7777777777777778, \"#fb9f3a\"], [0.8888888888888888, \"#fdca26\"], [1.0, \"#f0f921\"]], \"type\": \"heatmapgl\"}], \"histogram\": [{\"marker\": {\"colorbar\": {\"outlinewidth\": 0, \"ticks\": \"\"}}, \"type\": \"histogram\"}], \"histogram2d\": [{\"colorbar\": {\"outlinewidth\": 0, \"ticks\": \"\"}, \"colorscale\": [[0.0, \"#0d0887\"], [0.1111111111111111, \"#46039f\"], [0.2222222222222222, \"#7201a8\"], [0.3333333333333333, \"#9c179e\"], [0.4444444444444444, \"#bd3786\"], [0.5555555555555556, \"#d8576b\"], [0.6666666666666666, \"#ed7953\"], [0.7777777777777778, \"#fb9f3a\"], [0.8888888888888888, \"#fdca26\"], [1.0, \"#f0f921\"]], \"type\": \"histogram2d\"}], \"histogram2dcontour\": [{\"colorbar\": {\"outlinewidth\": 0, \"ticks\": \"\"}, \"colorscale\": [[0.0, \"#0d0887\"], [0.1111111111111111, \"#46039f\"], [0.2222222222222222, \"#7201a8\"], [0.3333333333333333, \"#9c179e\"], [0.4444444444444444, \"#bd3786\"], [0.5555555555555556, \"#d8576b\"], [0.6666666666666666, \"#ed7953\"], [0.7777777777777778, \"#fb9f3a\"], [0.8888888888888888, \"#fdca26\"], [1.0, \"#f0f921\"]], \"type\": \"histogram2dcontour\"}], \"mesh3d\": [{\"colorbar\": {\"outlinewidth\": 0, \"ticks\": \"\"}, \"type\": \"mesh3d\"}], \"parcoords\": [{\"line\": {\"colorbar\": {\"outlinewidth\": 0, \"ticks\": \"\"}}, \"type\": \"parcoords\"}], \"pie\": [{\"automargin\": true, \"type\": \"pie\"}], \"scatter\": [{\"marker\": {\"colorbar\": {\"outlinewidth\": 0, \"ticks\": \"\"}}, \"type\": \"scatter\"}], \"scatter3d\": [{\"line\": {\"colorbar\": {\"outlinewidth\": 0, \"ticks\": \"\"}}, \"marker\": {\"colorbar\": {\"outlinewidth\": 0, \"ticks\": \"\"}}, \"type\": \"scatter3d\"}], \"scattercarpet\": [{\"marker\": {\"colorbar\": {\"outlinewidth\": 0, \"ticks\": \"\"}}, \"type\": \"scattercarpet\"}], \"scattergeo\": [{\"marker\": {\"colorbar\": {\"outlinewidth\": 0, \"ticks\": \"\"}}, \"type\": \"scattergeo\"}], \"scattergl\": [{\"marker\": {\"colorbar\": {\"outlinewidth\": 0, \"ticks\": \"\"}}, \"type\": \"scattergl\"}], \"scattermapbox\": [{\"marker\": {\"colorbar\": {\"outlinewidth\": 0, \"ticks\": \"\"}}, \"type\": \"scattermapbox\"}], \"scatterpolar\": [{\"marker\": {\"colorbar\": {\"outlinewidth\": 0, \"ticks\": \"\"}}, \"type\": \"scatterpolar\"}], \"scatterpolargl\": [{\"marker\": {\"colorbar\": {\"outlinewidth\": 0, \"ticks\": \"\"}}, \"type\": \"scatterpolargl\"}], \"scatterternary\": [{\"marker\": {\"colorbar\": {\"outlinewidth\": 0, \"ticks\": \"\"}}, \"type\": \"scatterternary\"}], \"surface\": [{\"colorbar\": {\"outlinewidth\": 0, \"ticks\": \"\"}, \"colorscale\": [[0.0, \"#0d0887\"], [0.1111111111111111, \"#46039f\"], [0.2222222222222222, \"#7201a8\"], [0.3333333333333333, \"#9c179e\"], [0.4444444444444444, \"#bd3786\"], [0.5555555555555556, \"#d8576b\"], [0.6666666666666666, \"#ed7953\"], [0.7777777777777778, \"#fb9f3a\"], [0.8888888888888888, \"#fdca26\"], [1.0, \"#f0f921\"]], \"type\": \"surface\"}], \"table\": [{\"cells\": {\"fill\": {\"color\": \"#EBF0F8\"}, \"line\": {\"color\": \"white\"}}, \"header\": {\"fill\": {\"color\": \"#C8D4E3\"}, \"line\": {\"color\": \"white\"}}, \"type\": \"table\"}]}, \"layout\": {\"annotationdefaults\": {\"arrowcolor\": \"#2a3f5f\", \"arrowhead\": 0, \"arrowwidth\": 1}, \"coloraxis\": {\"colorbar\": {\"outlinewidth\": 0, \"ticks\": \"\"}}, \"colorscale\": {\"diverging\": [[0, \"#8e0152\"], [0.1, \"#c51b7d\"], [0.2, \"#de77ae\"], [0.3, \"#f1b6da\"], [0.4, \"#fde0ef\"], [0.5, \"#f7f7f7\"], [0.6, \"#e6f5d0\"], [0.7, \"#b8e186\"], [0.8, \"#7fbc41\"], [0.9, \"#4d9221\"], [1, \"#276419\"]], \"sequential\": [[0.0, \"#0d0887\"], [0.1111111111111111, \"#46039f\"], [0.2222222222222222, \"#7201a8\"], [0.3333333333333333, \"#9c179e\"], [0.4444444444444444, \"#bd3786\"], [0.5555555555555556, \"#d8576b\"], [0.6666666666666666, \"#ed7953\"], [0.7777777777777778, \"#fb9f3a\"], [0.8888888888888888, \"#fdca26\"], [1.0, \"#f0f921\"]], \"sequentialminus\": [[0.0, \"#0d0887\"], [0.1111111111111111, \"#46039f\"], [0.2222222222222222, \"#7201a8\"], [0.3333333333333333, \"#9c179e\"], [0.4444444444444444, \"#bd3786\"], [0.5555555555555556, \"#d8576b\"], [0.6666666666666666, \"#ed7953\"], [0.7777777777777778, \"#fb9f3a\"], [0.8888888888888888, \"#fdca26\"], [1.0, \"#f0f921\"]]}, \"colorway\": [\"#636efa\", \"#EF553B\", \"#00cc96\", \"#ab63fa\", \"#FFA15A\", \"#19d3f3\", \"#FF6692\", \"#B6E880\", \"#FF97FF\", \"#FECB52\"], \"font\": {\"color\": \"#2a3f5f\"}, \"geo\": {\"bgcolor\": \"white\", \"lakecolor\": \"white\", \"landcolor\": \"#E5ECF6\", \"showlakes\": true, \"showland\": true, \"subunitcolor\": \"white\"}, \"hoverlabel\": {\"align\": \"left\"}, \"hovermode\": \"closest\", \"mapbox\": {\"style\": \"light\"}, \"paper_bgcolor\": \"white\", \"plot_bgcolor\": \"#E5ECF6\", \"polar\": {\"angularaxis\": {\"gridcolor\": \"white\", \"linecolor\": \"white\", \"ticks\": \"\"}, \"bgcolor\": \"#E5ECF6\", \"radialaxis\": {\"gridcolor\": \"white\", \"linecolor\": \"white\", \"ticks\": \"\"}}, \"scene\": {\"xaxis\": {\"backgroundcolor\": \"#E5ECF6\", \"gridcolor\": \"white\", \"gridwidth\": 2, \"linecolor\": \"white\", \"showbackground\": true, \"ticks\": \"\", \"zerolinecolor\": \"white\"}, \"yaxis\": {\"backgroundcolor\": \"#E5ECF6\", \"gridcolor\": \"white\", \"gridwidth\": 2, \"linecolor\": \"white\", \"showbackground\": true, \"ticks\": \"\", \"zerolinecolor\": \"white\"}, \"zaxis\": {\"backgroundcolor\": \"#E5ECF6\", \"gridcolor\": \"white\", \"gridwidth\": 2, \"linecolor\": \"white\", \"showbackground\": true, \"ticks\": \"\", \"zerolinecolor\": \"white\"}}, \"shapedefaults\": {\"line\": {\"color\": \"#2a3f5f\"}}, \"ternary\": {\"aaxis\": {\"gridcolor\": \"white\", \"linecolor\": \"white\", \"ticks\": \"\"}, \"baxis\": {\"gridcolor\": \"white\", \"linecolor\": \"white\", \"ticks\": \"\"}, \"bgcolor\": \"#E5ECF6\", \"caxis\": {\"gridcolor\": \"white\", \"linecolor\": \"white\", \"ticks\": \"\"}}, \"title\": {\"x\": 0.05}, \"xaxis\": {\"automargin\": true, \"gridcolor\": \"white\", \"linecolor\": \"white\", \"ticks\": \"\", \"title\": {\"standoff\": 15}, \"zerolinecolor\": \"white\", \"zerolinewidth\": 2}, \"yaxis\": {\"automargin\": true, \"gridcolor\": \"white\", \"linecolor\": \"white\", \"ticks\": \"\", \"title\": {\"standoff\": 15}, \"zerolinecolor\": \"white\", \"zerolinewidth\": 2}}}, \"xaxis\": {\"title\": {\"text\": \"beta_h\"}}, \"yaxis\": {\"title\": {\"text\": \"h_disc (beta_h)\"}}},                        {\"responsive\": true}                    ).then(function(){\n",
       "                            \n",
       "var gd = document.getElementById('f5b63287-fba1-496b-b478-ec6373cdc9d2');\n",
       "var x = new MutationObserver(function (mutations, observer) {{\n",
       "        var display = window.getComputedStyle(gd).display;\n",
       "        if (!display || display === 'none') {{\n",
       "            console.log([gd, 'removed!']);\n",
       "            Plotly.purge(gd);\n",
       "            observer.disconnect();\n",
       "        }}\n",
       "}});\n",
       "\n",
       "// Listen for the removal of the full notebook cells\n",
       "var notebookContainer = gd.closest('#notebook-container');\n",
       "if (notebookContainer) {{\n",
       "    x.observe(notebookContainer, {childList: true});\n",
       "}}\n",
       "\n",
       "// Listen for the clearing of the current output cell\n",
       "var outputEl = gd.closest('.output');\n",
       "if (outputEl) {{\n",
       "    x.observe(outputEl, {childList: true});\n",
       "}}\n",
       "\n",
       "                        })                };                });            </script>        </div>"
      ]
     },
     "metadata": {},
     "output_type": "display_data"
    }
   ],
   "source": [
    "fig = go.Figure()\n",
    "fig.add_trace(go.Scatter(x=[birth_h/10 for birth_h in range(1, 200)], y=lyapunov_h_vec,\n",
    "                    mode='markers',\n",
    "                        marker = dict(color = '#d62728')))\n",
    "\n",
    "fig.update_layout(xaxis_title = \"beta_h\", yaxis_title = \"h_disc (beta_h)\")\n",
    "\n",
    "fig.show()"
   ]
  },
  {
   "cell_type": "markdown",
   "metadata": {},
   "source": [
    "#### Onto the reinforcement learning side of things."
   ]
  },
  {
   "cell_type": "code",
   "execution_count": 156,
   "metadata": {},
   "outputs": [],
   "source": [
    "def immortal_no_birth_bandit_matrix(l, h, e):\n",
    "    L = zero_matrix(QQ, 3)\n",
    "    L[0, 0] = (1 - l - h)\n",
    "    L[1, 0] = l\n",
    "    L[2, 0] = h\n",
    "    L[0, 1] = e*(1-l-h)\n",
    "    L[1, 1] = (1 - e) + e*l\n",
    "    L[2, 1] = e*h\n",
    "    L[0, 2] = 0\n",
    "    L[1, 2] = 0 \n",
    "    L[2, 2] = 1 \n",
    "    return L\n",
    "\n",
    "def get_expected_findings(l, h, birth_l, birth_h, e, n_days = 1000):\n",
    "    B = immortal_no_birth_bandit_matrix(l, h, e)\n",
    "    dist = vector([1, 0, 0])\n",
    "    exp_find_vec = []\n",
    "    for d in range(n_days):\n",
    "        dist = B*dist.n()        \n",
    "        exp_find = birth_l*dist[1] + birth_h*dist[2]\n",
    "        exp_find_vec.append(exp_find)\n",
    "    return exp_find_vec\n",
    "\n",
    "def rl_obj(l, h, birth_l, birth_h, e, gamma):\n",
    "    efv = get_expected_findings(l, h, birth_l, birth_h, e)\n",
    "    discounted_vec = [(gamma^d)*reward for d, reward in enumerate(efv)]\n",
    "    return sum(discounted_vec)    "
   ]
  },
  {
   "cell_type": "code",
   "execution_count": 212,
   "metadata": {},
   "outputs": [],
   "source": [
    "def rl_obj_is_increasing_in_epsilon(l, h, birth_l, birth_h, gamma = 0.8):\n",
    "    \n",
    "    ofv95 = rl_obj(l, h, birth_l, birth_h, 0.95, gamma)\n",
    "    ofv100 = rl_obj(l, h, birth_l, birth_h, 1, gamma)\n",
    "    \n",
    "    if ofv100 > ofv95:\n",
    "        return True\n",
    "    else:\n",
    "        return False\n",
    "\n",
    "def rl_opt_epsilon(l, h, birth_l, birth_h, gamma = 0.8):\n",
    "    #Relies on the assumption that the objective function \\sum_t gamma^t E[r_t] is either increasing or\n",
    "    #decreasing in epsilon. \n",
    "    \n",
    "    if rl_obj_is_increasing_in_epsilon(l, h, birth_l, birth_h, gamma):\n",
    "        return 1\n",
    "    else:\n",
    "        return 0\n",
    "\n",
    "    \n",
    "    "
   ]
  },
  {
   "cell_type": "code",
   "execution_count": 308,
   "metadata": {},
   "outputs": [
    {
     "name": "stdout",
     "output_type": "stream",
     "text": [
      "starting 0\n",
      "starting 1\n",
      "starting 2\n",
      "starting 3\n",
      "starting 4\n",
      "starting 5\n",
      "starting 6\n",
      "starting 7\n",
      "starting 8\n",
      "starting 9\n",
      "starting 10\n",
      "starting 11\n",
      "starting 12\n",
      "starting 13\n",
      "starting 14\n",
      "starting 15\n",
      "starting 16\n",
      "starting 17\n",
      "starting 18\n",
      "starting 19\n",
      "starting 20\n",
      "starting 21\n",
      "starting 22\n",
      "starting 23\n",
      "starting 24\n",
      "starting 25\n",
      "starting 26\n",
      "starting 27\n",
      "starting 28\n",
      "starting 29\n",
      "starting 30\n",
      "starting 31\n",
      "starting 32\n",
      "starting 33\n",
      "starting 34\n",
      "starting 35\n",
      "starting 36\n",
      "starting 37\n",
      "starting 38\n",
      "starting 39\n",
      "starting 40\n",
      "starting 41\n",
      "starting 42\n",
      "starting 43\n",
      "starting 44\n",
      "starting 45\n",
      "starting 46\n",
      "starting 47\n",
      "starting 48\n",
      "starting 49\n",
      "starting 50\n",
      "starting 51\n",
      "starting 52\n",
      "starting 53\n",
      "starting 54\n",
      "starting 55\n",
      "starting 56\n",
      "starting 57\n",
      "starting 58\n",
      "starting 59\n",
      "starting 60\n",
      "starting 61\n",
      "starting 62\n",
      "starting 63\n",
      "starting 64\n",
      "starting 65\n",
      "starting 66\n",
      "starting 67\n",
      "starting 68\n",
      "starting 69\n",
      "starting 70\n",
      "starting 71\n",
      "starting 72\n",
      "starting 73\n",
      "starting 74\n",
      "starting 75\n",
      "starting 76\n",
      "starting 77\n",
      "starting 78\n",
      "starting 79\n",
      "starting 80\n",
      "starting 81\n",
      "starting 82\n",
      "starting 83\n",
      "starting 84\n",
      "starting 85\n",
      "starting 86\n",
      "starting 87\n",
      "starting 88\n",
      "starting 89\n",
      "starting 90\n",
      "starting 91\n",
      "starting 92\n",
      "starting 93\n",
      "starting 94\n",
      "starting 95\n",
      "starting 96\n",
      "starting 97\n",
      "starting 98\n",
      "starting 99\n"
     ]
    }
   ],
   "source": [
    "h_vec = []\n",
    "opt_e_vec = []\n",
    "\n",
    "for h in range(100):\n",
    "    print('starting {}'.format(h))\n",
    "    h = h/5000\n",
    "    h_vec.append(h)\n",
    "    opt_e = rl_opt_epsilon(0.6, h, 1, 10, 0.99)\n",
    "    opt_e_vec.append(opt_e)\n",
    "    "
   ]
  },
  {
   "cell_type": "code",
   "execution_count": 309,
   "metadata": {},
   "outputs": [
    {
     "data": {
      "application/vnd.plotly.v1+json": {
       "config": {
        "plotlyServerURL": "https://plot.ly"
       },
       "data": [
        {
         "mode": "markers",
         "type": "scatter",
         "x": [
          0,
          0.0002,
          0.0004,
          0.0006,
          0.0008,
          0.001,
          0.0012,
          0.0014,
          0.0016,
          0.0018,
          0.002,
          0.0022,
          0.0024,
          0.0026,
          0.0028,
          0.003,
          0.0032,
          0.0034,
          0.0036,
          0.0038,
          0.004,
          0.0042,
          0.0044,
          0.0046,
          0.0048,
          0.005,
          0.0052,
          0.0054,
          0.0056,
          0.0058,
          0.006,
          0.0062,
          0.0064,
          0.0066,
          0.0068,
          0.007,
          0.0072,
          0.0074,
          0.0076,
          0.0078,
          0.008,
          0.0082,
          0.0084,
          0.0086,
          0.0088,
          0.009,
          0.0092,
          0.0094,
          0.0096,
          0.0098,
          0.01,
          0.0102,
          0.0104,
          0.0106,
          0.0108,
          0.011,
          0.0112,
          0.0114,
          0.0116,
          0.0118,
          0.012,
          0.0122,
          0.0124,
          0.0126,
          0.0128,
          0.013,
          0.0132,
          0.0134,
          0.0136,
          0.0138,
          0.014,
          0.0142,
          0.0144,
          0.0146,
          0.0148,
          0.015,
          0.0152,
          0.0154,
          0.0156,
          0.0158,
          0.016,
          0.0162,
          0.0164,
          0.0166,
          0.0168,
          0.017,
          0.0172,
          0.0174,
          0.0176,
          0.0178,
          0.018,
          0.0182,
          0.0184,
          0.0186,
          0.0188,
          0.019,
          0.0192,
          0.0194,
          0.0196,
          0.0198
         ],
         "y": [
          0,
          0,
          0,
          1,
          1,
          1,
          1,
          1,
          1,
          1,
          1,
          1,
          1,
          1,
          1,
          1,
          1,
          1,
          1,
          1,
          1,
          1,
          1,
          1,
          1,
          1,
          1,
          1,
          1,
          1,
          1,
          1,
          1,
          1,
          1,
          1,
          1,
          1,
          1,
          1,
          1,
          1,
          1,
          1,
          1,
          1,
          1,
          1,
          1,
          1,
          1,
          1,
          1,
          1,
          1,
          1,
          1,
          1,
          1,
          1,
          1,
          1,
          1,
          1,
          1,
          1,
          1,
          1,
          1,
          1,
          1,
          1,
          1,
          1,
          1,
          1,
          1,
          1,
          1,
          1,
          1,
          1,
          1,
          1,
          1,
          1,
          1,
          1,
          1,
          1,
          1,
          1,
          1,
          1,
          1,
          1,
          1,
          1,
          1,
          1
         ]
        }
       ],
       "layout": {
        "template": {
         "data": {
          "bar": [
           {
            "error_x": {
             "color": "#2a3f5f"
            },
            "error_y": {
             "color": "#2a3f5f"
            },
            "marker": {
             "line": {
              "color": "#E5ECF6",
              "width": 0.5
             }
            },
            "type": "bar"
           }
          ],
          "barpolar": [
           {
            "marker": {
             "line": {
              "color": "#E5ECF6",
              "width": 0.5
             }
            },
            "type": "barpolar"
           }
          ],
          "carpet": [
           {
            "aaxis": {
             "endlinecolor": "#2a3f5f",
             "gridcolor": "white",
             "linecolor": "white",
             "minorgridcolor": "white",
             "startlinecolor": "#2a3f5f"
            },
            "baxis": {
             "endlinecolor": "#2a3f5f",
             "gridcolor": "white",
             "linecolor": "white",
             "minorgridcolor": "white",
             "startlinecolor": "#2a3f5f"
            },
            "type": "carpet"
           }
          ],
          "choropleth": [
           {
            "colorbar": {
             "outlinewidth": 0,
             "ticks": ""
            },
            "type": "choropleth"
           }
          ],
          "contour": [
           {
            "colorbar": {
             "outlinewidth": 0,
             "ticks": ""
            },
            "colorscale": [
             [
              0,
              "#0d0887"
             ],
             [
              0.1111111111111111,
              "#46039f"
             ],
             [
              0.2222222222222222,
              "#7201a8"
             ],
             [
              0.3333333333333333,
              "#9c179e"
             ],
             [
              0.4444444444444444,
              "#bd3786"
             ],
             [
              0.5555555555555556,
              "#d8576b"
             ],
             [
              0.6666666666666666,
              "#ed7953"
             ],
             [
              0.7777777777777778,
              "#fb9f3a"
             ],
             [
              0.8888888888888888,
              "#fdca26"
             ],
             [
              1,
              "#f0f921"
             ]
            ],
            "type": "contour"
           }
          ],
          "contourcarpet": [
           {
            "colorbar": {
             "outlinewidth": 0,
             "ticks": ""
            },
            "type": "contourcarpet"
           }
          ],
          "heatmap": [
           {
            "colorbar": {
             "outlinewidth": 0,
             "ticks": ""
            },
            "colorscale": [
             [
              0,
              "#0d0887"
             ],
             [
              0.1111111111111111,
              "#46039f"
             ],
             [
              0.2222222222222222,
              "#7201a8"
             ],
             [
              0.3333333333333333,
              "#9c179e"
             ],
             [
              0.4444444444444444,
              "#bd3786"
             ],
             [
              0.5555555555555556,
              "#d8576b"
             ],
             [
              0.6666666666666666,
              "#ed7953"
             ],
             [
              0.7777777777777778,
              "#fb9f3a"
             ],
             [
              0.8888888888888888,
              "#fdca26"
             ],
             [
              1,
              "#f0f921"
             ]
            ],
            "type": "heatmap"
           }
          ],
          "heatmapgl": [
           {
            "colorbar": {
             "outlinewidth": 0,
             "ticks": ""
            },
            "colorscale": [
             [
              0,
              "#0d0887"
             ],
             [
              0.1111111111111111,
              "#46039f"
             ],
             [
              0.2222222222222222,
              "#7201a8"
             ],
             [
              0.3333333333333333,
              "#9c179e"
             ],
             [
              0.4444444444444444,
              "#bd3786"
             ],
             [
              0.5555555555555556,
              "#d8576b"
             ],
             [
              0.6666666666666666,
              "#ed7953"
             ],
             [
              0.7777777777777778,
              "#fb9f3a"
             ],
             [
              0.8888888888888888,
              "#fdca26"
             ],
             [
              1,
              "#f0f921"
             ]
            ],
            "type": "heatmapgl"
           }
          ],
          "histogram": [
           {
            "marker": {
             "colorbar": {
              "outlinewidth": 0,
              "ticks": ""
             }
            },
            "type": "histogram"
           }
          ],
          "histogram2d": [
           {
            "colorbar": {
             "outlinewidth": 0,
             "ticks": ""
            },
            "colorscale": [
             [
              0,
              "#0d0887"
             ],
             [
              0.1111111111111111,
              "#46039f"
             ],
             [
              0.2222222222222222,
              "#7201a8"
             ],
             [
              0.3333333333333333,
              "#9c179e"
             ],
             [
              0.4444444444444444,
              "#bd3786"
             ],
             [
              0.5555555555555556,
              "#d8576b"
             ],
             [
              0.6666666666666666,
              "#ed7953"
             ],
             [
              0.7777777777777778,
              "#fb9f3a"
             ],
             [
              0.8888888888888888,
              "#fdca26"
             ],
             [
              1,
              "#f0f921"
             ]
            ],
            "type": "histogram2d"
           }
          ],
          "histogram2dcontour": [
           {
            "colorbar": {
             "outlinewidth": 0,
             "ticks": ""
            },
            "colorscale": [
             [
              0,
              "#0d0887"
             ],
             [
              0.1111111111111111,
              "#46039f"
             ],
             [
              0.2222222222222222,
              "#7201a8"
             ],
             [
              0.3333333333333333,
              "#9c179e"
             ],
             [
              0.4444444444444444,
              "#bd3786"
             ],
             [
              0.5555555555555556,
              "#d8576b"
             ],
             [
              0.6666666666666666,
              "#ed7953"
             ],
             [
              0.7777777777777778,
              "#fb9f3a"
             ],
             [
              0.8888888888888888,
              "#fdca26"
             ],
             [
              1,
              "#f0f921"
             ]
            ],
            "type": "histogram2dcontour"
           }
          ],
          "mesh3d": [
           {
            "colorbar": {
             "outlinewidth": 0,
             "ticks": ""
            },
            "type": "mesh3d"
           }
          ],
          "parcoords": [
           {
            "line": {
             "colorbar": {
              "outlinewidth": 0,
              "ticks": ""
             }
            },
            "type": "parcoords"
           }
          ],
          "pie": [
           {
            "automargin": true,
            "type": "pie"
           }
          ],
          "scatter": [
           {
            "marker": {
             "colorbar": {
              "outlinewidth": 0,
              "ticks": ""
             }
            },
            "type": "scatter"
           }
          ],
          "scatter3d": [
           {
            "line": {
             "colorbar": {
              "outlinewidth": 0,
              "ticks": ""
             }
            },
            "marker": {
             "colorbar": {
              "outlinewidth": 0,
              "ticks": ""
             }
            },
            "type": "scatter3d"
           }
          ],
          "scattercarpet": [
           {
            "marker": {
             "colorbar": {
              "outlinewidth": 0,
              "ticks": ""
             }
            },
            "type": "scattercarpet"
           }
          ],
          "scattergeo": [
           {
            "marker": {
             "colorbar": {
              "outlinewidth": 0,
              "ticks": ""
             }
            },
            "type": "scattergeo"
           }
          ],
          "scattergl": [
           {
            "marker": {
             "colorbar": {
              "outlinewidth": 0,
              "ticks": ""
             }
            },
            "type": "scattergl"
           }
          ],
          "scattermapbox": [
           {
            "marker": {
             "colorbar": {
              "outlinewidth": 0,
              "ticks": ""
             }
            },
            "type": "scattermapbox"
           }
          ],
          "scatterpolar": [
           {
            "marker": {
             "colorbar": {
              "outlinewidth": 0,
              "ticks": ""
             }
            },
            "type": "scatterpolar"
           }
          ],
          "scatterpolargl": [
           {
            "marker": {
             "colorbar": {
              "outlinewidth": 0,
              "ticks": ""
             }
            },
            "type": "scatterpolargl"
           }
          ],
          "scatterternary": [
           {
            "marker": {
             "colorbar": {
              "outlinewidth": 0,
              "ticks": ""
             }
            },
            "type": "scatterternary"
           }
          ],
          "surface": [
           {
            "colorbar": {
             "outlinewidth": 0,
             "ticks": ""
            },
            "colorscale": [
             [
              0,
              "#0d0887"
             ],
             [
              0.1111111111111111,
              "#46039f"
             ],
             [
              0.2222222222222222,
              "#7201a8"
             ],
             [
              0.3333333333333333,
              "#9c179e"
             ],
             [
              0.4444444444444444,
              "#bd3786"
             ],
             [
              0.5555555555555556,
              "#d8576b"
             ],
             [
              0.6666666666666666,
              "#ed7953"
             ],
             [
              0.7777777777777778,
              "#fb9f3a"
             ],
             [
              0.8888888888888888,
              "#fdca26"
             ],
             [
              1,
              "#f0f921"
             ]
            ],
            "type": "surface"
           }
          ],
          "table": [
           {
            "cells": {
             "fill": {
              "color": "#EBF0F8"
             },
             "line": {
              "color": "white"
             }
            },
            "header": {
             "fill": {
              "color": "#C8D4E3"
             },
             "line": {
              "color": "white"
             }
            },
            "type": "table"
           }
          ]
         },
         "layout": {
          "annotationdefaults": {
           "arrowcolor": "#2a3f5f",
           "arrowhead": 0,
           "arrowwidth": 1
          },
          "coloraxis": {
           "colorbar": {
            "outlinewidth": 0,
            "ticks": ""
           }
          },
          "colorscale": {
           "diverging": [
            [
             0,
             "#8e0152"
            ],
            [
             0.1,
             "#c51b7d"
            ],
            [
             0.2,
             "#de77ae"
            ],
            [
             0.3,
             "#f1b6da"
            ],
            [
             0.4,
             "#fde0ef"
            ],
            [
             0.5,
             "#f7f7f7"
            ],
            [
             0.6,
             "#e6f5d0"
            ],
            [
             0.7,
             "#b8e186"
            ],
            [
             0.8,
             "#7fbc41"
            ],
            [
             0.9,
             "#4d9221"
            ],
            [
             1,
             "#276419"
            ]
           ],
           "sequential": [
            [
             0,
             "#0d0887"
            ],
            [
             0.1111111111111111,
             "#46039f"
            ],
            [
             0.2222222222222222,
             "#7201a8"
            ],
            [
             0.3333333333333333,
             "#9c179e"
            ],
            [
             0.4444444444444444,
             "#bd3786"
            ],
            [
             0.5555555555555556,
             "#d8576b"
            ],
            [
             0.6666666666666666,
             "#ed7953"
            ],
            [
             0.7777777777777778,
             "#fb9f3a"
            ],
            [
             0.8888888888888888,
             "#fdca26"
            ],
            [
             1,
             "#f0f921"
            ]
           ],
           "sequentialminus": [
            [
             0,
             "#0d0887"
            ],
            [
             0.1111111111111111,
             "#46039f"
            ],
            [
             0.2222222222222222,
             "#7201a8"
            ],
            [
             0.3333333333333333,
             "#9c179e"
            ],
            [
             0.4444444444444444,
             "#bd3786"
            ],
            [
             0.5555555555555556,
             "#d8576b"
            ],
            [
             0.6666666666666666,
             "#ed7953"
            ],
            [
             0.7777777777777778,
             "#fb9f3a"
            ],
            [
             0.8888888888888888,
             "#fdca26"
            ],
            [
             1,
             "#f0f921"
            ]
           ]
          },
          "colorway": [
           "#636efa",
           "#EF553B",
           "#00cc96",
           "#ab63fa",
           "#FFA15A",
           "#19d3f3",
           "#FF6692",
           "#B6E880",
           "#FF97FF",
           "#FECB52"
          ],
          "font": {
           "color": "#2a3f5f"
          },
          "geo": {
           "bgcolor": "white",
           "lakecolor": "white",
           "landcolor": "#E5ECF6",
           "showlakes": true,
           "showland": true,
           "subunitcolor": "white"
          },
          "hoverlabel": {
           "align": "left"
          },
          "hovermode": "closest",
          "mapbox": {
           "style": "light"
          },
          "paper_bgcolor": "white",
          "plot_bgcolor": "#E5ECF6",
          "polar": {
           "angularaxis": {
            "gridcolor": "white",
            "linecolor": "white",
            "ticks": ""
           },
           "bgcolor": "#E5ECF6",
           "radialaxis": {
            "gridcolor": "white",
            "linecolor": "white",
            "ticks": ""
           }
          },
          "scene": {
           "xaxis": {
            "backgroundcolor": "#E5ECF6",
            "gridcolor": "white",
            "gridwidth": 2,
            "linecolor": "white",
            "showbackground": true,
            "ticks": "",
            "zerolinecolor": "white"
           },
           "yaxis": {
            "backgroundcolor": "#E5ECF6",
            "gridcolor": "white",
            "gridwidth": 2,
            "linecolor": "white",
            "showbackground": true,
            "ticks": "",
            "zerolinecolor": "white"
           },
           "zaxis": {
            "backgroundcolor": "#E5ECF6",
            "gridcolor": "white",
            "gridwidth": 2,
            "linecolor": "white",
            "showbackground": true,
            "ticks": "",
            "zerolinecolor": "white"
           }
          },
          "shapedefaults": {
           "line": {
            "color": "#2a3f5f"
           }
          },
          "ternary": {
           "aaxis": {
            "gridcolor": "white",
            "linecolor": "white",
            "ticks": ""
           },
           "baxis": {
            "gridcolor": "white",
            "linecolor": "white",
            "ticks": ""
           },
           "bgcolor": "#E5ECF6",
           "caxis": {
            "gridcolor": "white",
            "linecolor": "white",
            "ticks": ""
           }
          },
          "title": {
           "x": 0.05
          },
          "xaxis": {
           "automargin": true,
           "gridcolor": "white",
           "linecolor": "white",
           "ticks": "",
           "title": {
            "standoff": 15
           },
           "zerolinecolor": "white",
           "zerolinewidth": 2
          },
          "yaxis": {
           "automargin": true,
           "gridcolor": "white",
           "linecolor": "white",
           "ticks": "",
           "title": {
            "standoff": 15
           },
           "zerolinecolor": "white",
           "zerolinewidth": 2
          }
         }
        }
       }
      },
      "text/html": [
       "<div>                            <div id=\"e76a2a54-5b63-4119-974f-45617c4adaf5\" class=\"plotly-graph-div\" style=\"height:525px; width:100%;\"></div>            <script type=\"text/javascript\">                require([\"plotly\"], function(Plotly) {                    window.PLOTLYENV=window.PLOTLYENV || {};                                    if (document.getElementById(\"e76a2a54-5b63-4119-974f-45617c4adaf5\")) {                    Plotly.newPlot(                        \"e76a2a54-5b63-4119-974f-45617c4adaf5\",                        [{\"mode\": \"markers\", \"type\": \"scatter\", \"x\": [0, 0.0002, 0.0004, 0.0006, 0.0008, 0.001, 0.0012, 0.0014, 0.0016, 0.0018, 0.002, 0.0022, 0.0024, 0.0026, 0.0028, 0.003, 0.0032, 0.0034, 0.0036, 0.0038, 0.004, 0.0042, 0.0044, 0.0046, 0.0048, 0.005, 0.0052, 0.0054, 0.0056, 0.0058, 0.006, 0.0062, 0.0064, 0.0066, 0.0068, 0.007, 0.0072, 0.0074, 0.0076, 0.0078, 0.008, 0.0082, 0.0084, 0.0086, 0.0088, 0.009, 0.0092, 0.0094, 0.0096, 0.0098, 0.01, 0.0102, 0.0104, 0.0106, 0.0108, 0.011, 0.0112, 0.0114, 0.0116, 0.0118, 0.012, 0.0122, 0.0124, 0.0126, 0.0128, 0.013, 0.0132, 0.0134, 0.0136, 0.0138, 0.014, 0.0142, 0.0144, 0.0146, 0.0148, 0.015, 0.0152, 0.0154, 0.0156, 0.0158, 0.016, 0.0162, 0.0164, 0.0166, 0.0168, 0.017, 0.0172, 0.0174, 0.0176, 0.0178, 0.018, 0.0182, 0.0184, 0.0186, 0.0188, 0.019, 0.0192, 0.0194, 0.0196, 0.0198], \"y\": [0, 0, 0, 1, 1, 1, 1, 1, 1, 1, 1, 1, 1, 1, 1, 1, 1, 1, 1, 1, 1, 1, 1, 1, 1, 1, 1, 1, 1, 1, 1, 1, 1, 1, 1, 1, 1, 1, 1, 1, 1, 1, 1, 1, 1, 1, 1, 1, 1, 1, 1, 1, 1, 1, 1, 1, 1, 1, 1, 1, 1, 1, 1, 1, 1, 1, 1, 1, 1, 1, 1, 1, 1, 1, 1, 1, 1, 1, 1, 1, 1, 1, 1, 1, 1, 1, 1, 1, 1, 1, 1, 1, 1, 1, 1, 1, 1, 1, 1, 1]}],                        {\"template\": {\"data\": {\"bar\": [{\"error_x\": {\"color\": \"#2a3f5f\"}, \"error_y\": {\"color\": \"#2a3f5f\"}, \"marker\": {\"line\": {\"color\": \"#E5ECF6\", \"width\": 0.5}}, \"type\": \"bar\"}], \"barpolar\": [{\"marker\": {\"line\": {\"color\": \"#E5ECF6\", \"width\": 0.5}}, \"type\": \"barpolar\"}], \"carpet\": [{\"aaxis\": {\"endlinecolor\": \"#2a3f5f\", \"gridcolor\": \"white\", \"linecolor\": \"white\", \"minorgridcolor\": \"white\", \"startlinecolor\": \"#2a3f5f\"}, \"baxis\": {\"endlinecolor\": \"#2a3f5f\", \"gridcolor\": \"white\", \"linecolor\": \"white\", \"minorgridcolor\": \"white\", \"startlinecolor\": \"#2a3f5f\"}, \"type\": \"carpet\"}], \"choropleth\": [{\"colorbar\": {\"outlinewidth\": 0, \"ticks\": \"\"}, \"type\": \"choropleth\"}], \"contour\": [{\"colorbar\": {\"outlinewidth\": 0, \"ticks\": \"\"}, \"colorscale\": [[0.0, \"#0d0887\"], [0.1111111111111111, \"#46039f\"], [0.2222222222222222, \"#7201a8\"], [0.3333333333333333, \"#9c179e\"], [0.4444444444444444, \"#bd3786\"], [0.5555555555555556, \"#d8576b\"], [0.6666666666666666, \"#ed7953\"], [0.7777777777777778, \"#fb9f3a\"], [0.8888888888888888, \"#fdca26\"], [1.0, \"#f0f921\"]], \"type\": \"contour\"}], \"contourcarpet\": [{\"colorbar\": {\"outlinewidth\": 0, \"ticks\": \"\"}, \"type\": \"contourcarpet\"}], \"heatmap\": [{\"colorbar\": {\"outlinewidth\": 0, \"ticks\": \"\"}, \"colorscale\": [[0.0, \"#0d0887\"], [0.1111111111111111, \"#46039f\"], [0.2222222222222222, \"#7201a8\"], [0.3333333333333333, \"#9c179e\"], [0.4444444444444444, \"#bd3786\"], [0.5555555555555556, \"#d8576b\"], [0.6666666666666666, \"#ed7953\"], [0.7777777777777778, \"#fb9f3a\"], [0.8888888888888888, \"#fdca26\"], [1.0, \"#f0f921\"]], \"type\": \"heatmap\"}], \"heatmapgl\": [{\"colorbar\": {\"outlinewidth\": 0, \"ticks\": \"\"}, \"colorscale\": [[0.0, \"#0d0887\"], [0.1111111111111111, \"#46039f\"], [0.2222222222222222, \"#7201a8\"], [0.3333333333333333, \"#9c179e\"], [0.4444444444444444, \"#bd3786\"], [0.5555555555555556, \"#d8576b\"], [0.6666666666666666, \"#ed7953\"], [0.7777777777777778, \"#fb9f3a\"], [0.8888888888888888, \"#fdca26\"], [1.0, \"#f0f921\"]], \"type\": \"heatmapgl\"}], \"histogram\": [{\"marker\": {\"colorbar\": {\"outlinewidth\": 0, \"ticks\": \"\"}}, \"type\": \"histogram\"}], \"histogram2d\": [{\"colorbar\": {\"outlinewidth\": 0, \"ticks\": \"\"}, \"colorscale\": [[0.0, \"#0d0887\"], [0.1111111111111111, \"#46039f\"], [0.2222222222222222, \"#7201a8\"], [0.3333333333333333, \"#9c179e\"], [0.4444444444444444, \"#bd3786\"], [0.5555555555555556, \"#d8576b\"], [0.6666666666666666, \"#ed7953\"], [0.7777777777777778, \"#fb9f3a\"], [0.8888888888888888, \"#fdca26\"], [1.0, \"#f0f921\"]], \"type\": \"histogram2d\"}], \"histogram2dcontour\": [{\"colorbar\": {\"outlinewidth\": 0, \"ticks\": \"\"}, \"colorscale\": [[0.0, \"#0d0887\"], [0.1111111111111111, \"#46039f\"], [0.2222222222222222, \"#7201a8\"], [0.3333333333333333, \"#9c179e\"], [0.4444444444444444, \"#bd3786\"], [0.5555555555555556, \"#d8576b\"], [0.6666666666666666, \"#ed7953\"], [0.7777777777777778, \"#fb9f3a\"], [0.8888888888888888, \"#fdca26\"], [1.0, \"#f0f921\"]], \"type\": \"histogram2dcontour\"}], \"mesh3d\": [{\"colorbar\": {\"outlinewidth\": 0, \"ticks\": \"\"}, \"type\": \"mesh3d\"}], \"parcoords\": [{\"line\": {\"colorbar\": {\"outlinewidth\": 0, \"ticks\": \"\"}}, \"type\": \"parcoords\"}], \"pie\": [{\"automargin\": true, \"type\": \"pie\"}], \"scatter\": [{\"marker\": {\"colorbar\": {\"outlinewidth\": 0, \"ticks\": \"\"}}, \"type\": \"scatter\"}], \"scatter3d\": [{\"line\": {\"colorbar\": {\"outlinewidth\": 0, \"ticks\": \"\"}}, \"marker\": {\"colorbar\": {\"outlinewidth\": 0, \"ticks\": \"\"}}, \"type\": \"scatter3d\"}], \"scattercarpet\": [{\"marker\": {\"colorbar\": {\"outlinewidth\": 0, \"ticks\": \"\"}}, \"type\": \"scattercarpet\"}], \"scattergeo\": [{\"marker\": {\"colorbar\": {\"outlinewidth\": 0, \"ticks\": \"\"}}, \"type\": \"scattergeo\"}], \"scattergl\": [{\"marker\": {\"colorbar\": {\"outlinewidth\": 0, \"ticks\": \"\"}}, \"type\": \"scattergl\"}], \"scattermapbox\": [{\"marker\": {\"colorbar\": {\"outlinewidth\": 0, \"ticks\": \"\"}}, \"type\": \"scattermapbox\"}], \"scatterpolar\": [{\"marker\": {\"colorbar\": {\"outlinewidth\": 0, \"ticks\": \"\"}}, \"type\": \"scatterpolar\"}], \"scatterpolargl\": [{\"marker\": {\"colorbar\": {\"outlinewidth\": 0, \"ticks\": \"\"}}, \"type\": \"scatterpolargl\"}], \"scatterternary\": [{\"marker\": {\"colorbar\": {\"outlinewidth\": 0, \"ticks\": \"\"}}, \"type\": \"scatterternary\"}], \"surface\": [{\"colorbar\": {\"outlinewidth\": 0, \"ticks\": \"\"}, \"colorscale\": [[0.0, \"#0d0887\"], [0.1111111111111111, \"#46039f\"], [0.2222222222222222, \"#7201a8\"], [0.3333333333333333, \"#9c179e\"], [0.4444444444444444, \"#bd3786\"], [0.5555555555555556, \"#d8576b\"], [0.6666666666666666, \"#ed7953\"], [0.7777777777777778, \"#fb9f3a\"], [0.8888888888888888, \"#fdca26\"], [1.0, \"#f0f921\"]], \"type\": \"surface\"}], \"table\": [{\"cells\": {\"fill\": {\"color\": \"#EBF0F8\"}, \"line\": {\"color\": \"white\"}}, \"header\": {\"fill\": {\"color\": \"#C8D4E3\"}, \"line\": {\"color\": \"white\"}}, \"type\": \"table\"}]}, \"layout\": {\"annotationdefaults\": {\"arrowcolor\": \"#2a3f5f\", \"arrowhead\": 0, \"arrowwidth\": 1}, \"coloraxis\": {\"colorbar\": {\"outlinewidth\": 0, \"ticks\": \"\"}}, \"colorscale\": {\"diverging\": [[0, \"#8e0152\"], [0.1, \"#c51b7d\"], [0.2, \"#de77ae\"], [0.3, \"#f1b6da\"], [0.4, \"#fde0ef\"], [0.5, \"#f7f7f7\"], [0.6, \"#e6f5d0\"], [0.7, \"#b8e186\"], [0.8, \"#7fbc41\"], [0.9, \"#4d9221\"], [1, \"#276419\"]], \"sequential\": [[0.0, \"#0d0887\"], [0.1111111111111111, \"#46039f\"], [0.2222222222222222, \"#7201a8\"], [0.3333333333333333, \"#9c179e\"], [0.4444444444444444, \"#bd3786\"], [0.5555555555555556, \"#d8576b\"], [0.6666666666666666, \"#ed7953\"], [0.7777777777777778, \"#fb9f3a\"], [0.8888888888888888, \"#fdca26\"], [1.0, \"#f0f921\"]], \"sequentialminus\": [[0.0, \"#0d0887\"], [0.1111111111111111, \"#46039f\"], [0.2222222222222222, \"#7201a8\"], [0.3333333333333333, \"#9c179e\"], [0.4444444444444444, \"#bd3786\"], [0.5555555555555556, \"#d8576b\"], [0.6666666666666666, \"#ed7953\"], [0.7777777777777778, \"#fb9f3a\"], [0.8888888888888888, \"#fdca26\"], [1.0, \"#f0f921\"]]}, \"colorway\": [\"#636efa\", \"#EF553B\", \"#00cc96\", \"#ab63fa\", \"#FFA15A\", \"#19d3f3\", \"#FF6692\", \"#B6E880\", \"#FF97FF\", \"#FECB52\"], \"font\": {\"color\": \"#2a3f5f\"}, \"geo\": {\"bgcolor\": \"white\", \"lakecolor\": \"white\", \"landcolor\": \"#E5ECF6\", \"showlakes\": true, \"showland\": true, \"subunitcolor\": \"white\"}, \"hoverlabel\": {\"align\": \"left\"}, \"hovermode\": \"closest\", \"mapbox\": {\"style\": \"light\"}, \"paper_bgcolor\": \"white\", \"plot_bgcolor\": \"#E5ECF6\", \"polar\": {\"angularaxis\": {\"gridcolor\": \"white\", \"linecolor\": \"white\", \"ticks\": \"\"}, \"bgcolor\": \"#E5ECF6\", \"radialaxis\": {\"gridcolor\": \"white\", \"linecolor\": \"white\", \"ticks\": \"\"}}, \"scene\": {\"xaxis\": {\"backgroundcolor\": \"#E5ECF6\", \"gridcolor\": \"white\", \"gridwidth\": 2, \"linecolor\": \"white\", \"showbackground\": true, \"ticks\": \"\", \"zerolinecolor\": \"white\"}, \"yaxis\": {\"backgroundcolor\": \"#E5ECF6\", \"gridcolor\": \"white\", \"gridwidth\": 2, \"linecolor\": \"white\", \"showbackground\": true, \"ticks\": \"\", \"zerolinecolor\": \"white\"}, \"zaxis\": {\"backgroundcolor\": \"#E5ECF6\", \"gridcolor\": \"white\", \"gridwidth\": 2, \"linecolor\": \"white\", \"showbackground\": true, \"ticks\": \"\", \"zerolinecolor\": \"white\"}}, \"shapedefaults\": {\"line\": {\"color\": \"#2a3f5f\"}}, \"ternary\": {\"aaxis\": {\"gridcolor\": \"white\", \"linecolor\": \"white\", \"ticks\": \"\"}, \"baxis\": {\"gridcolor\": \"white\", \"linecolor\": \"white\", \"ticks\": \"\"}, \"bgcolor\": \"#E5ECF6\", \"caxis\": {\"gridcolor\": \"white\", \"linecolor\": \"white\", \"ticks\": \"\"}}, \"title\": {\"x\": 0.05}, \"xaxis\": {\"automargin\": true, \"gridcolor\": \"white\", \"linecolor\": \"white\", \"ticks\": \"\", \"title\": {\"standoff\": 15}, \"zerolinecolor\": \"white\", \"zerolinewidth\": 2}, \"yaxis\": {\"automargin\": true, \"gridcolor\": \"white\", \"linecolor\": \"white\", \"ticks\": \"\", \"title\": {\"standoff\": 15}, \"zerolinecolor\": \"white\", \"zerolinewidth\": 2}}}},                        {\"responsive\": true}                    ).then(function(){\n",
       "                            \n",
       "var gd = document.getElementById('e76a2a54-5b63-4119-974f-45617c4adaf5');\n",
       "var x = new MutationObserver(function (mutations, observer) {{\n",
       "        var display = window.getComputedStyle(gd).display;\n",
       "        if (!display || display === 'none') {{\n",
       "            console.log([gd, 'removed!']);\n",
       "            Plotly.purge(gd);\n",
       "            observer.disconnect();\n",
       "        }}\n",
       "}});\n",
       "\n",
       "// Listen for the removal of the full notebook cells\n",
       "var notebookContainer = gd.closest('#notebook-container');\n",
       "if (notebookContainer) {{\n",
       "    x.observe(notebookContainer, {childList: true});\n",
       "}}\n",
       "\n",
       "// Listen for the clearing of the current output cell\n",
       "var outputEl = gd.closest('.output');\n",
       "if (outputEl) {{\n",
       "    x.observe(outputEl, {childList: true});\n",
       "}}\n",
       "\n",
       "                        })                };                });            </script>        </div>"
      ]
     },
     "metadata": {},
     "output_type": "display_data"
    }
   ],
   "source": [
    "fig = go.Figure()\n",
    "fig.add_trace(go.Scatter(x=h_vec, y=opt_e_vec,\n",
    "                    mode='markers'))\n",
    "fig.show()"
   ]
  },
  {
   "cell_type": "code",
   "execution_count": 205,
   "metadata": {},
   "outputs": [],
   "source": [
    "def rl_find_disc_in_h(l, birth_l, birth_h, gamma = 0.8):\n",
    "    h_lower = 0\n",
    "    h_upper = 1 - l\n",
    "    for n in range(20):\n",
    "        h_test = (h_lower + h_upper)/2\n",
    "        opt_epsilon = rl_opt_epsilon(l, h_test, birth_l, birth_h, gamma)\n",
    "        if is_essentially_one(opt_epsilon):\n",
    "            #going down\n",
    "            h_lower = h_lower\n",
    "            h_upper = h_test\n",
    "        else:\n",
    "            #going up\n",
    "            h_lower = h_test\n",
    "            h_upper = h_upper\n",
    "    return h_test"
   ]
  },
  {
   "cell_type": "code",
   "execution_count": 312,
   "metadata": {},
   "outputs": [
    {
     "data": {
      "text/plain": [
       "0.0152173042297363"
      ]
     },
     "execution_count": 312,
     "metadata": {},
     "output_type": "execute_result"
    }
   ],
   "source": [
    "rl_find_disc_in_h(0.3, 1, 10)"
   ]
  },
  {
   "cell_type": "code",
   "execution_count": 316,
   "metadata": {},
   "outputs": [
    {
     "data": {
      "text/plain": [
       "0.0152173042297363"
      ]
     },
     "execution_count": 316,
     "metadata": {},
     "output_type": "execute_result"
    }
   ],
   "source": [
    "rl_find_disc_in_h(0.3, 1, 10)"
   ]
  },
  {
   "cell_type": "code",
   "execution_count": 274,
   "metadata": {},
   "outputs": [
    {
     "name": "stdout",
     "output_type": "stream",
     "text": [
      "done with 1\n",
      "done with 2\n",
      "done with 3\n",
      "done with 4\n",
      "done with 5\n",
      "done with 6\n",
      "done with 7\n",
      "done with 8\n",
      "done with 9\n",
      "done with 10\n",
      "done with 11\n",
      "done with 12\n",
      "done with 13\n",
      "done with 14\n",
      "done with 15\n",
      "done with 16\n",
      "done with 17\n",
      "done with 18\n",
      "done with 19\n",
      "done with 20\n",
      "done with 21\n",
      "done with 22\n",
      "done with 23\n",
      "done with 24\n",
      "done with 25\n",
      "done with 26\n",
      "done with 27\n",
      "done with 28\n",
      "done with 29\n",
      "done with 30\n",
      "done with 31\n",
      "done with 32\n",
      "done with 33\n",
      "done with 34\n",
      "done with 35\n",
      "done with 36\n",
      "done with 37\n",
      "done with 38\n",
      "done with 39\n",
      "done with 40\n",
      "done with 41\n",
      "done with 42\n",
      "done with 43\n",
      "done with 44\n",
      "done with 45\n",
      "done with 46\n",
      "done with 47\n",
      "done with 48\n",
      "done with 49\n",
      "done with 50\n",
      "done with 51\n",
      "done with 52\n",
      "done with 53\n",
      "done with 54\n",
      "done with 55\n",
      "done with 56\n",
      "done with 57\n",
      "done with 58\n",
      "done with 59\n",
      "done with 60\n",
      "done with 61\n",
      "done with 62\n",
      "done with 63\n",
      "done with 64\n",
      "done with 65\n",
      "done with 66\n",
      "done with 67\n",
      "done with 68\n",
      "done with 69\n",
      "done with 70\n",
      "done with 71\n",
      "done with 72\n",
      "done with 73\n",
      "done with 74\n",
      "done with 75\n",
      "done with 76\n",
      "done with 77\n",
      "done with 78\n",
      "done with 79\n",
      "done with 80\n",
      "done with 81\n",
      "done with 82\n",
      "done with 83\n",
      "done with 84\n",
      "done with 85\n",
      "done with 86\n",
      "done with 87\n",
      "done with 88\n",
      "done with 89\n",
      "done with 90\n",
      "done with 91\n",
      "done with 92\n",
      "done with 93\n",
      "done with 94\n",
      "done with 95\n",
      "done with 96\n",
      "done with 97\n",
      "done with 98\n",
      "done with 99\n",
      "done with 100\n",
      "done with 101\n",
      "done with 102\n",
      "done with 103\n",
      "done with 104\n",
      "done with 105\n",
      "done with 106\n",
      "done with 107\n",
      "done with 108\n",
      "done with 109\n",
      "done with 110\n",
      "done with 111\n",
      "done with 112\n",
      "done with 113\n",
      "done with 114\n",
      "done with 115\n",
      "done with 116\n",
      "done with 117\n",
      "done with 118\n",
      "done with 119\n",
      "done with 120\n",
      "done with 121\n",
      "done with 122\n",
      "done with 123\n",
      "done with 124\n",
      "done with 125\n",
      "done with 126\n",
      "done with 127\n",
      "done with 128\n",
      "done with 129\n",
      "done with 130\n",
      "done with 131\n",
      "done with 132\n",
      "done with 133\n",
      "done with 134\n",
      "done with 135\n",
      "done with 136\n",
      "done with 137\n",
      "done with 138\n",
      "done with 139\n",
      "done with 140\n",
      "done with 141\n",
      "done with 142\n",
      "done with 143\n",
      "done with 144\n",
      "done with 145\n",
      "done with 146\n",
      "done with 147\n",
      "done with 148\n",
      "done with 149\n",
      "done with 150\n",
      "done with 151\n",
      "done with 152\n",
      "done with 153\n",
      "done with 154\n",
      "done with 155\n",
      "done with 156\n",
      "done with 157\n",
      "done with 158\n",
      "done with 159\n",
      "done with 160\n",
      "done with 161\n",
      "done with 162\n",
      "done with 163\n",
      "done with 164\n",
      "done with 165\n",
      "done with 166\n",
      "done with 167\n",
      "done with 168\n",
      "done with 169\n",
      "done with 170\n",
      "done with 171\n",
      "done with 172\n",
      "done with 173\n",
      "done with 174\n",
      "done with 175\n",
      "done with 176\n",
      "done with 177\n",
      "done with 178\n",
      "done with 179\n",
      "done with 180\n",
      "done with 181\n",
      "done with 182\n",
      "done with 183\n",
      "done with 184\n",
      "done with 185\n",
      "done with 186\n",
      "done with 187\n",
      "done with 188\n",
      "done with 189\n",
      "done with 190\n",
      "done with 191\n",
      "done with 192\n",
      "done with 193\n",
      "done with 194\n",
      "done with 195\n",
      "done with 196\n",
      "done with 197\n",
      "done with 198\n",
      "done with 199\n"
     ]
    }
   ],
   "source": [
    "rl_h_vec_gamma_star = []\n",
    "for birth_h in range(1, 200):\n",
    "    rl_h_disc_gamma_star = rl_find_disc_in_h(3/10, 1, birth_h/10, gamma_star)\n",
    "    \n",
    "    rl_h_vec_gamma_star.append(rl_h_disc_gamma_star)\n",
    "    \n",
    "    print( 'done with {}'.format(birth_h))"
   ]
  },
  {
   "cell_type": "code",
   "execution_count": 277,
   "metadata": {},
   "outputs": [
    {
     "data": {
      "text/plain": [
       "0.617541503906250"
      ]
     },
     "execution_count": 277,
     "metadata": {},
     "output_type": "execute_result"
    }
   ],
   "source": [
    "gamma_star"
   ]
  },
  {
   "cell_type": "code",
   "execution_count": 227,
   "metadata": {},
   "outputs": [
    {
     "name": "stdout",
     "output_type": "stream",
     "text": [
      "done with 1\n",
      "done with 2\n",
      "done with 3\n",
      "done with 4\n",
      "done with 5\n",
      "done with 6\n",
      "done with 7\n",
      "done with 8\n",
      "done with 9\n",
      "done with 10\n",
      "done with 11\n",
      "done with 12\n",
      "done with 13\n",
      "done with 14\n",
      "done with 15\n",
      "done with 16\n",
      "done with 17\n",
      "done with 18\n",
      "done with 19\n",
      "done with 20\n",
      "done with 21\n",
      "done with 22\n",
      "done with 23\n",
      "done with 24\n",
      "done with 25\n",
      "done with 26\n",
      "done with 27\n",
      "done with 28\n",
      "done with 29\n",
      "done with 30\n",
      "done with 31\n",
      "done with 32\n",
      "done with 33\n",
      "done with 34\n",
      "done with 35\n",
      "done with 36\n",
      "done with 37\n",
      "done with 38\n",
      "done with 39\n",
      "done with 40\n",
      "done with 41\n",
      "done with 42\n",
      "done with 43\n",
      "done with 44\n",
      "done with 45\n",
      "done with 46\n",
      "done with 47\n",
      "done with 48\n",
      "done with 49\n",
      "done with 50\n",
      "done with 51\n",
      "done with 52\n",
      "done with 53\n",
      "done with 54\n",
      "done with 55\n",
      "done with 56\n",
      "done with 57\n",
      "done with 58\n",
      "done with 59\n",
      "done with 60\n",
      "done with 61\n",
      "done with 62\n",
      "done with 63\n",
      "done with 64\n",
      "done with 65\n",
      "done with 66\n",
      "done with 67\n",
      "done with 68\n",
      "done with 69\n",
      "done with 70\n",
      "done with 71\n",
      "done with 72\n",
      "done with 73\n",
      "done with 74\n",
      "done with 75\n",
      "done with 76\n",
      "done with 77\n",
      "done with 78\n",
      "done with 79\n",
      "done with 80\n",
      "done with 81\n",
      "done with 82\n",
      "done with 83\n",
      "done with 84\n",
      "done with 85\n",
      "done with 86\n",
      "done with 87\n",
      "done with 88\n",
      "done with 89\n",
      "done with 90\n",
      "done with 91\n",
      "done with 92\n",
      "done with 93\n",
      "done with 94\n",
      "done with 95\n",
      "done with 96\n",
      "done with 97\n",
      "done with 98\n",
      "done with 99\n",
      "done with 100\n",
      "done with 101\n",
      "done with 102\n",
      "done with 103\n",
      "done with 104\n",
      "done with 105\n",
      "done with 106\n",
      "done with 107\n",
      "done with 108\n",
      "done with 109\n",
      "done with 110\n",
      "done with 111\n",
      "done with 112\n",
      "done with 113\n",
      "done with 114\n",
      "done with 115\n",
      "done with 116\n",
      "done with 117\n",
      "done with 118\n",
      "done with 119\n",
      "done with 120\n",
      "done with 121\n",
      "done with 122\n",
      "done with 123\n",
      "done with 124\n",
      "done with 125\n",
      "done with 126\n",
      "done with 127\n",
      "done with 128\n",
      "done with 129\n",
      "done with 130\n",
      "done with 131\n",
      "done with 132\n",
      "done with 133\n",
      "done with 134\n",
      "done with 135\n",
      "done with 136\n",
      "done with 137\n",
      "done with 138\n",
      "done with 139\n",
      "done with 140\n",
      "done with 141\n",
      "done with 142\n",
      "done with 143\n",
      "done with 144\n",
      "done with 145\n",
      "done with 146\n",
      "done with 147\n",
      "done with 148\n",
      "done with 149\n",
      "done with 150\n",
      "done with 151\n",
      "done with 152\n",
      "done with 153\n",
      "done with 154\n",
      "done with 155\n",
      "done with 156\n",
      "done with 157\n",
      "done with 158\n",
      "done with 159\n",
      "done with 160\n",
      "done with 161\n",
      "done with 162\n",
      "done with 163\n",
      "done with 164\n",
      "done with 165\n",
      "done with 166\n",
      "done with 167\n",
      "done with 168\n",
      "done with 169\n",
      "done with 170\n",
      "done with 171\n",
      "done with 172\n",
      "done with 173\n",
      "done with 174\n",
      "done with 175\n",
      "done with 176\n",
      "done with 177\n",
      "done with 178\n",
      "done with 179\n",
      "done with 180\n",
      "done with 181\n",
      "done with 182\n",
      "done with 183\n",
      "done with 184\n",
      "done with 185\n",
      "done with 186\n",
      "done with 187\n",
      "done with 188\n",
      "done with 189\n",
      "done with 190\n",
      "done with 191\n",
      "done with 192\n",
      "done with 193\n",
      "done with 194\n",
      "done with 195\n",
      "done with 196\n",
      "done with 197\n",
      "done with 198\n",
      "done with 199\n"
     ]
    }
   ],
   "source": [
    "rl_h_vec80 = []\n",
    "rl_h_vec99 = []\n",
    "rl_h_vec40 = []\n",
    "lyapunov_h_vec = []\n",
    "\n",
    "for birth_h in range(1, 200):\n",
    "    rl_h_disc80 = rl_find_disc_in_h(3/10, 1, birth_h/10, 0.8)\n",
    "    rl_h_disc99 = rl_find_disc_in_h(3/10, 1, birth_h/10, 0.99)\n",
    "    rl_h_disc40 = rl_find_disc_in_h(3/10, 1, birth_h/10, 0.4)\n",
    "\n",
    "    lyap_h_disc = find_disc_in_h(3/10, 1, birth_h/10)\n",
    "    \n",
    "    rl_h_vec80.append(rl_h_disc80)\n",
    "    rl_h_vec99.append(rl_h_disc99)\n",
    "    rl_h_vec40.append(rl_h_disc40)\n",
    "\n",
    "    lyapunov_h_vec.append(lyap_h_disc)\n",
    "    \n",
    "    print( 'done with {}'.format(birth_h))\n",
    "    "
   ]
  },
  {
   "cell_type": "code",
   "execution_count": 237,
   "metadata": {},
   "outputs": [
    {
     "data": {
      "application/vnd.plotly.v1+json": {
       "config": {
        "plotlyServerURL": "https://plot.ly"
       },
       "data": [
        {
         "mode": "markers",
         "name": "RL optimality -- gamma = 0.4",
         "type": "scatter",
         "x": [
          0.1,
          0.2,
          0.3,
          0.4,
          0.5,
          0.6,
          0.7,
          0.8,
          0.9,
          1,
          1.1,
          1.2,
          1.3,
          1.4,
          1.5,
          1.6,
          1.7,
          1.8,
          1.9,
          2,
          2.1,
          2.2,
          2.3,
          2.4,
          2.5,
          2.6,
          2.7,
          2.8,
          2.9,
          3,
          3.1,
          3.2,
          3.3,
          3.4,
          3.5,
          3.6,
          3.7,
          3.8,
          3.9,
          4,
          4.1,
          4.2,
          4.3,
          4.4,
          4.5,
          4.6,
          4.7,
          4.8,
          4.9,
          5,
          5.1,
          5.2,
          5.3,
          5.4,
          5.5,
          5.6,
          5.7,
          5.8,
          5.9,
          6,
          6.1,
          6.2,
          6.3,
          6.4,
          6.5,
          6.6,
          6.7,
          6.8,
          6.9,
          7,
          7.1,
          7.2,
          7.3,
          7.4,
          7.5,
          7.6,
          7.7,
          7.8,
          7.9,
          8,
          8.1,
          8.2,
          8.3,
          8.4,
          8.5,
          8.6,
          8.7,
          8.8,
          8.9,
          9,
          9.1,
          9.2,
          9.3,
          9.4,
          9.5,
          9.6,
          9.7,
          9.8,
          9.9,
          10,
          10.1,
          10.2,
          10.3,
          10.4,
          10.5,
          10.6,
          10.7,
          10.8,
          10.9,
          11,
          11.1,
          11.2,
          11.3,
          11.4,
          11.5,
          11.6,
          11.7,
          11.8,
          11.9,
          12,
          12.1,
          12.2,
          12.3,
          12.4,
          12.5,
          12.6,
          12.7,
          12.8,
          12.9,
          13,
          13.1,
          13.2,
          13.3,
          13.4,
          13.5,
          13.6,
          13.7,
          13.8,
          13.9,
          14,
          14.1,
          14.2,
          14.3,
          14.4,
          14.5,
          14.6,
          14.7,
          14.8,
          14.9,
          15,
          15.1,
          15.2,
          15.3,
          15.4,
          15.5,
          15.6,
          15.7,
          15.8,
          15.9,
          16,
          16.1,
          16.2,
          16.3,
          16.4,
          16.5,
          16.6,
          16.7,
          16.8,
          16.9,
          17,
          17.1,
          17.2,
          17.3,
          17.4,
          17.5,
          17.6,
          17.7,
          17.8,
          17.9,
          18,
          18.1,
          18.2,
          18.3,
          18.4,
          18.5,
          18.6,
          18.7,
          18.8,
          18.9,
          19,
          19.1,
          19.2,
          19.3,
          19.4,
          19.5,
          19.6,
          19.7,
          19.8,
          19.9
         ],
         "y": [
          0.6999993324279785,
          0.6999993324279785,
          0.6999993324279785,
          0.6999993324279785,
          0.6999993324279785,
          0.6999993324279785,
          0.6999993324279785,
          0.6999993324279785,
          0.6999993324279785,
          0.6999993324279785,
          0.5999997138977051,
          0.5250006675720215,
          0.46666688919067384,
          0.4199995994567871,
          0.3818184852600098,
          0.34999933242797854,
          0.32307748794555663,
          0.2999995231628418,
          0.2800004005432129,
          0.2625006675720215,
          0.24705839157104492,
          0.23333311080932617,
          0.2210524559020996,
          0.2100001335144043,
          0.19999990463256836,
          0.19090890884399414,
          0.18260831832885743,
          0.17499933242797852,
          0.16800050735473632,
          0.16153841018676757,
          0.1555556297302246,
          0.15000009536743164,
          0.1448277473449707,
          0.1399998664855957,
          0.1354844093322754,
          0.1312493324279785,
          0.1272732734680176,
          0.12352952957153321,
          0.11999940872192383,
          0.11666688919067383,
          0.11351327896118164,
          0.11052656173706055,
          0.1076920509338379,
          0.10500040054321289,
          0.10243959426879883,
          0.10000028610229492,
          0.09767446517944336,
          0.09545412063598632,
          0.09333391189575195,
          0.09130449295043945,
          0.08936185836791992,
          0.08750066757202149,
          0.08571424484252929,
          0.08399991989135742,
          0.08235235214233398,
          0.08076887130737305,
          0.0792454719543457,
          0.07777814865112305,
          0.07636423110961914,
          0.07499971389770507,
          0.07368459701538085,
          0.07241353988647461,
          0.07118654251098633,
          0.0699995994567871,
          0.06885271072387696,
          0.06774187088012695,
          0.06666707992553711,
          0.06562433242797852,
          0.06461496353149414,
          0.06363630294799805,
          0.06268701553344727,
          0.06176443099975586,
          0.060869884490966794,
          0.05999937057495117,
          0.05915555953979492,
          0.05833311080932617,
          0.05753469467163086,
          0.05675630569458008,
          0.05600061416625977,
          0.055263614654541014,
          0.05454530715942383,
          0.053845691680908206,
          0.05316476821899414,
          0.0524998664855957,
          0.05185232162475586,
          0.05121946334838867,
          0.05060262680053711,
          0.050000476837158206,
          0.049411678314208986,
          0.04883756637573242,
          0.04827547073364258,
          0.04772672653198242,
          0.04719133377075195,
          0.046666622161865234,
          0.046153926849365236,
          0.045651912689208984,
          0.04516191482543945,
          0.0446812629699707,
          0.044209957122802734,
          0.043749332427978516,
          0.043299388885498044,
          0.04285745620727539,
          0.04242486953735351,
          0.04200029373168945,
          0.0415837287902832,
          0.04117650985717773,
          0.04077730178833008,
          0.040384769439697266,
          0.04000024795532227,
          0.03962240219116211,
          0.03925256729125977,
          0.038889408111572266,
          0.03853158950805664,
          0.03818178176879883,
          0.03783731460571289,
          0.037499523162841795,
          0.03716840744018555,
          0.036842632293701175,
          0.036522197723388675,
          0.03620710372924805,
          0.035897350311279295,
          0.03559293746948242,
          0.035293865203857425,
          0.0350001335144043,
          0.03471040725708008,
          0.03442602157592774,
          0.03414697647094726,
          0.033870601654052736,
          0.033599567413330075,
          0.033333873748779295,
          0.033070850372314456,
          0.03281183242797851,
          0.03255815505981445,
          0.03230714797973633,
          0.03206148147583008,
          0.031818485260009764,
          0.03157949447631836,
          0.03134317398071289,
          0.031110858917236327,
          0.030882549285888673,
          0.030656909942626952,
          0.03043527603149414,
          0.030216312408447264,
          0.030000019073486327,
          0.029787731170654298,
          0.029578113555908205,
          0.029371166229248048,
          0.02916688919067383,
          0.028965282440185546,
          0.02876768112182617,
          0.028571414947509765,
          0.028377819061279296,
          0.028188228607177734,
          0.02799997329711914,
          0.027814388275146484,
          0.027631473541259766,
          0.027451229095458985,
          0.02727231979370117,
          0.027097415924072266,
          0.02692251205444336,
          0.026751613616943358,
          0.026582050323486327,
          0.026415157318115234,
          0.02624959945678711,
          0.026086711883544923,
          0.025926494598388673,
          0.025766277313232423,
          0.025610065460205077,
          0.025455188751220704,
          0.025301647186279298,
          0.025149440765380858,
          0.02499990463256836,
          0.02485170364379883,
          0.024706172943115234,
          0.024561977386474608,
          0.024419116973876952,
          0.024277591705322267,
          0.024137401580810548,
          0.023999881744384766,
          0.023863697052001955,
          0.02372884750366211,
          0.023595333099365234,
          0.02346315383911133,
          0.023333644866943358,
          0.02320413589477539,
          0.02307729721069336,
          0.022950458526611327,
          0.022826290130615233,
          0.022702121734619142,
          0.022580623626708984,
          0.022460460662841797,
          0.02234029769897461,
          0.02222280502319336,
          0.022105312347412108,
          0.021989154815673827,
          0.021874332427978517,
          0.02176218032836914,
          0.021650028228759766,
          0.02153787612915039
         ]
        },
        {
         "mode": "markers",
         "name": "Evolutionary optimality",
         "type": "scatter",
         "x": [
          0.1,
          0.2,
          0.3,
          0.4,
          0.5,
          0.6,
          0.7,
          0.8,
          0.9,
          1,
          1.1,
          1.2,
          1.3,
          1.4,
          1.5,
          1.6,
          1.7,
          1.8,
          1.9,
          2,
          2.1,
          2.2,
          2.3,
          2.4,
          2.5,
          2.6,
          2.7,
          2.8,
          2.9,
          3,
          3.1,
          3.2,
          3.3,
          3.4,
          3.5,
          3.6,
          3.7,
          3.8,
          3.9,
          4,
          4.1,
          4.2,
          4.3,
          4.4,
          4.5,
          4.6,
          4.7,
          4.8,
          4.9,
          5,
          5.1,
          5.2,
          5.3,
          5.4,
          5.5,
          5.6,
          5.7,
          5.8,
          5.9,
          6,
          6.1,
          6.2,
          6.3,
          6.4,
          6.5,
          6.6,
          6.7,
          6.8,
          6.9,
          7,
          7.1,
          7.2,
          7.3,
          7.4,
          7.5,
          7.6,
          7.7,
          7.8,
          7.9,
          8,
          8.1,
          8.2,
          8.3,
          8.4,
          8.5,
          8.6,
          8.7,
          8.8,
          8.9,
          9,
          9.1,
          9.2,
          9.3,
          9.4,
          9.5,
          9.6,
          9.7,
          9.8,
          9.9,
          10,
          10.1,
          10.2,
          10.3,
          10.4,
          10.5,
          10.6,
          10.7,
          10.8,
          10.9,
          11,
          11.1,
          11.2,
          11.3,
          11.4,
          11.5,
          11.6,
          11.7,
          11.8,
          11.9,
          12,
          12.1,
          12.2,
          12.3,
          12.4,
          12.5,
          12.6,
          12.7,
          12.8,
          12.9,
          13,
          13.1,
          13.2,
          13.3,
          13.4,
          13.5,
          13.6,
          13.7,
          13.8,
          13.9,
          14,
          14.1,
          14.2,
          14.3,
          14.4,
          14.5,
          14.6,
          14.7,
          14.8,
          14.9,
          15,
          15.1,
          15.2,
          15.3,
          15.4,
          15.5,
          15.6,
          15.7,
          15.8,
          15.9,
          16,
          16.1,
          16.2,
          16.3,
          16.4,
          16.5,
          16.6,
          16.7,
          16.8,
          16.9,
          17,
          17.1,
          17.2,
          17.3,
          17.4,
          17.5,
          17.6,
          17.7,
          17.8,
          17.9,
          18,
          18.1,
          18.2,
          18.3,
          18.4,
          18.5,
          18.6,
          18.7,
          18.8,
          18.9,
          19,
          19.1,
          19.2,
          19.3,
          19.4,
          19.5,
          19.6,
          19.7,
          19.8,
          19.9
         ],
         "y": [
          0.6998291015625,
          0.6998291015625,
          0.6998291015625,
          0.6998291015625,
          0.6998291015625,
          0.6998291015625,
          0.6998291015625,
          0.6998291015625,
          0.6998291015625,
          0.6998291015625,
          0.5549072265625,
          0.4595458984375,
          0.3922119140625,
          0.3419677734375,
          0.3030029296875,
          0.2722412109375,
          0.2472900390625,
          0.2260986328125,
          0.2086669921875,
          0.1936279296875,
          0.1802978515625,
          0.1690185546875,
          0.1591064453125,
          0.1498779296875,
          0.1420166015625,
          0.1348388671875,
          0.1283447265625,
          0.1225341796875,
          0.1170654296875,
          0.1122802734375,
          0.1078369140625,
          0.1033935546875,
          0.0996337890625,
          0.0962158203125,
          0.0927978515625,
          0.0897216796875,
          0.0866455078125,
          0.0839111328125,
          0.0815185546875,
          0.0791259765625,
          0.0767333984375,
          0.0746826171875,
          0.0726318359375,
          0.0705810546875,
          0.0688720703125,
          0.0671630859375,
          0.0654541015625,
          0.0640869140625,
          0.0623779296875,
          0.0610107421875,
          0.0596435546875,
          0.0582763671875,
          0.0572509765625,
          0.0558837890625,
          0.0548583984375,
          0.0538330078125,
          0.0524658203125,
          0.0514404296875,
          0.0507568359375,
          0.0497314453125,
          0.0487060546875,
          0.0480224609375,
          0.0469970703125,
          0.0463134765625,
          0.0452880859375,
          0.0446044921875,
          0.0439208984375,
          0.0432373046875,
          0.0425537109375,
          0.0418701171875,
          0.0411865234375,
          0.0405029296875,
          0.0401611328125,
          0.0394775390625,
          0.0387939453125,
          0.0384521484375,
          0.0377685546875,
          0.0370849609375,
          0.0367431640625,
          0.0360595703125,
          0.0357177734375,
          0.0353759765625,
          0.0346923828125,
          0.0343505859375,
          0.0340087890625,
          0.0336669921875,
          0.0329833984375,
          0.0326416015625,
          0.0322998046875,
          0.0319580078125,
          0.0316162109375,
          0.0312744140625,
          0.0309326171875,
          0.0305908203125,
          0.0302490234375,
          0.0299072265625,
          0.0295654296875,
          0.0292236328125,
          0.0288818359375,
          0.0285400390625,
          0.0281982421875,
          0.0278564453125,
          0.0275146484375,
          0.0271728515625,
          0.0271728515625,
          0.0268310546875,
          0.0264892578125,
          0.0261474609375,
          0.0261474609375,
          0.0258056640625,
          0.0254638671875,
          0.0251220703125,
          0.0251220703125,
          0.0247802734375,
          0.0244384765625,
          0.0244384765625,
          0.0240966796875,
          0.0237548828125,
          0.0237548828125,
          0.0234130859375,
          0.0234130859375,
          0.0230712890625,
          0.0227294921875,
          0.0227294921875,
          0.0223876953125,
          0.0223876953125,
          0.0220458984375,
          0.0220458984375,
          0.0217041015625,
          0.0217041015625,
          0.0213623046875,
          0.0213623046875,
          0.0210205078125,
          0.0210205078125,
          0.0206787109375,
          0.0206787109375,
          0.0203369140625,
          0.0203369140625,
          0.0199951171875,
          0.0199951171875,
          0.0199951171875,
          0.0196533203125,
          0.0196533203125,
          0.0193115234375,
          0.0193115234375,
          0.0189697265625,
          0.0189697265625,
          0.0189697265625,
          0.0186279296875,
          0.0186279296875,
          0.0186279296875,
          0.0182861328125,
          0.0182861328125,
          0.0179443359375,
          0.0179443359375,
          0.0179443359375,
          0.0176025390625,
          0.0176025390625,
          0.0176025390625,
          0.0172607421875,
          0.0172607421875,
          0.0172607421875,
          0.0169189453125,
          0.0169189453125,
          0.0169189453125,
          0.0165771484375,
          0.0165771484375,
          0.0165771484375,
          0.0165771484375,
          0.0162353515625,
          0.0162353515625,
          0.0162353515625,
          0.0158935546875,
          0.0158935546875,
          0.0158935546875,
          0.0158935546875,
          0.0155517578125,
          0.0155517578125,
          0.0155517578125,
          0.0155517578125,
          0.0152099609375,
          0.0152099609375,
          0.0152099609375,
          0.0148681640625,
          0.0148681640625,
          0.0148681640625,
          0.0148681640625,
          0.0148681640625,
          0.0145263671875,
          0.0145263671875,
          0.0145263671875,
          0.0145263671875,
          0.0141845703125,
          0.0141845703125,
          0.0141845703125,
          0.0141845703125,
          0.0138427734375,
          0.0138427734375,
          0.0138427734375
         ]
        },
        {
         "mode": "markers",
         "name": "RL optimality -- gamma = 0.8",
         "type": "scatter",
         "x": [
          0.1,
          0.2,
          0.3,
          0.4,
          0.5,
          0.6,
          0.7,
          0.8,
          0.9,
          1,
          1.1,
          1.2,
          1.3,
          1.4,
          1.5,
          1.6,
          1.7,
          1.8,
          1.9,
          2,
          2.1,
          2.2,
          2.3,
          2.4,
          2.5,
          2.6,
          2.7,
          2.8,
          2.9,
          3,
          3.1,
          3.2,
          3.3,
          3.4,
          3.5,
          3.6,
          3.7,
          3.8,
          3.9,
          4,
          4.1,
          4.2,
          4.3,
          4.4,
          4.5,
          4.6,
          4.7,
          4.8,
          4.9,
          5,
          5.1,
          5.2,
          5.3,
          5.4,
          5.5,
          5.6,
          5.7,
          5.8,
          5.9,
          6,
          6.1,
          6.2,
          6.3,
          6.4,
          6.5,
          6.6,
          6.7,
          6.8,
          6.9,
          7,
          7.1,
          7.2,
          7.3,
          7.4,
          7.5,
          7.6,
          7.7,
          7.8,
          7.9,
          8,
          8.1,
          8.2,
          8.3,
          8.4,
          8.5,
          8.6,
          8.7,
          8.8,
          8.9,
          9,
          9.1,
          9.2,
          9.3,
          9.4,
          9.5,
          9.6,
          9.7,
          9.8,
          9.9,
          10,
          10.1,
          10.2,
          10.3,
          10.4,
          10.5,
          10.6,
          10.7,
          10.8,
          10.9,
          11,
          11.1,
          11.2,
          11.3,
          11.4,
          11.5,
          11.6,
          11.7,
          11.8,
          11.9,
          12,
          12.1,
          12.2,
          12.3,
          12.4,
          12.5,
          12.6,
          12.7,
          12.8,
          12.9,
          13,
          13.1,
          13.2,
          13.3,
          13.4,
          13.5,
          13.6,
          13.7,
          13.8,
          13.9,
          14,
          14.1,
          14.2,
          14.3,
          14.4,
          14.5,
          14.6,
          14.7,
          14.8,
          14.9,
          15,
          15.1,
          15.2,
          15.3,
          15.4,
          15.5,
          15.6,
          15.7,
          15.8,
          15.9,
          16,
          16.1,
          16.2,
          16.3,
          16.4,
          16.5,
          16.6,
          16.7,
          16.8,
          16.9,
          17,
          17.1,
          17.2,
          17.3,
          17.4,
          17.5,
          17.6,
          17.7,
          17.8,
          17.9,
          18,
          18.1,
          18.2,
          18.3,
          18.4,
          18.5,
          18.6,
          18.7,
          18.8,
          18.9,
          19,
          19.1,
          19.2,
          19.3,
          19.4,
          19.5,
          19.6,
          19.7,
          19.8,
          19.9
         ],
         "y": [
          0.6999993324279785,
          0.6999993324279785,
          0.6999993324279785,
          0.6999993324279785,
          0.6999993324279785,
          0.6999993324279785,
          0.6999993324279785,
          0.6999993324279785,
          0.6999993324279785,
          0.6999993324279785,
          0.46666688919067384,
          0.34999933242797854,
          0.2800004005432129,
          0.23333311080932617,
          0.19999990463256836,
          0.17500066757202148,
          0.1555556297302246,
          0.1399998664855957,
          0.1272732734680176,
          0.11666688919067383,
          0.1076920509338379,
          0.10000028610229492,
          0.09333391189575195,
          0.08750066757202149,
          0.08235235214233398,
          0.07777814865112305,
          0.07368459701538085,
          0.0699995994567871,
          0.06666707992553711,
          0.06363630294799805,
          0.060869884490966794,
          0.05833311080932617,
          0.05600061416625977,
          0.053845691680908206,
          0.05185232162475586,
          0.050000476837158206,
          0.04827547073364258,
          0.046666622161865234,
          0.04516191482543945,
          0.043749332427978516,
          0.04242486953735351,
          0.04117650985717773,
          0.04000024795532227,
          0.038889408111572266,
          0.03783731460571289,
          0.036842632293701175,
          0.035897350311279295,
          0.0350001335144043,
          0.03414697647094726,
          0.033333873748779295,
          0.03255815505981445,
          0.031818485260009764,
          0.031110858917236327,
          0.03043527603149414,
          0.029787731170654298,
          0.02916688919067383,
          0.028571414947509765,
          0.02799997329711914,
          0.027451229095458985,
          0.02692251205444336,
          0.026415157318115234,
          0.025926494598388673,
          0.025455188751220704,
          0.02499990463256836,
          0.024561977386474608,
          0.024137401580810548,
          0.02372884750366211,
          0.023333644866943358,
          0.022950458526611327,
          0.022580623626708984,
          0.02222280502319336,
          0.021874332427978517,
          0.02153787612915039,
          0.021212100982666016,
          0.020895671844482423,
          0.02058858871459961,
          0.020289516448974608,
          0.01999979019165039,
          0.019718074798583986,
          0.019444370269775392,
          0.01917867660522461,
          0.018918323516845702,
          0.018667316436767577,
          0.018421649932861328,
          0.018181324005126953,
          0.017949008941650392,
          0.017722034454345705,
          0.01750040054321289,
          0.017284107208251954,
          0.01707315444946289,
          0.016867542266845705,
          0.016667270660400392,
          0.016471004486083983,
          0.016278743743896484,
          0.01609182357788086,
          0.01590890884399414,
          0.015729999542236327,
          0.015555095672607423,
          0.015384197235107422,
          0.015217304229736328,
          0.015054416656494141,
          0.014894199371337891,
          0.014736652374267578,
          0.014583110809326172,
          0.014433574676513673,
          0.01428537368774414,
          0.014141178131103516,
          0.013999652862548829,
          0.013860797882080078,
          0.013725948333740235,
          0.01359243392944336,
          0.013461589813232422,
          0.013333415985107422,
          0.01320791244506836,
          0.013083744049072265,
          0.012963581085205077,
          0.01284341812133789,
          0.01272726058959961,
          0.012612438201904297,
          0.012500286102294922,
          0.012389469146728515,
          0.012281322479248047,
          0.012174510955810547,
          0.012069034576416015,
          0.011966228485107422,
          0.011864757537841797,
          0.011764621734619141,
          0.011667156219482422,
          0.011569690704345704,
          0.011474895477294921,
          0.011382770538330079,
          0.011290645599365235,
          0.011199855804443359,
          0.011111736297607422,
          0.011023616790771485,
          0.010936832427978516,
          0.010852718353271484,
          0.010768604278564454,
          0.010687160491943359,
          0.010605716705322265,
          0.010526943206787109,
          0.010448169708251954,
          0.010370731353759766,
          0.010294628143310548,
          0.010218524932861328,
          0.010145092010498047,
          0.010071659088134765,
          0.009999561309814452,
          0.00992879867553711,
          0.009859371185302734,
          0.00978994369506836,
          0.009721851348876953,
          0.009655094146728516,
          0.009589672088623047,
          0.009524250030517578,
          0.009458827972412109,
          0.009396076202392578,
          0.009333324432373048,
          0.009271907806396484,
          0.009210491180419922,
          0.009150409698486328,
          0.009090328216552734,
          0.009032917022705079,
          0.008974170684814453,
          0.008916759490966797,
          0.00886068344116211,
          0.008804607391357421,
          0.008749866485595703,
          0.008695125579833984,
          0.008641719818115234,
          0.008588314056396484,
          0.008536243438720703,
          0.008485507965087891,
          0.00843343734741211,
          0.008382701873779297,
          0.008333301544189453,
          0.008283901214599609,
          0.008235836029052734,
          0.00818777084350586,
          0.008139705657958985,
          0.008092975616455078,
          0.008046245574951172,
          0.007999515533447266,
          0.007954120635986328,
          0.007910060882568359,
          0.007864665985107423,
          0.007820606231689453,
          0.007777881622314453,
          0.007735157012939453,
          0.0076924324035644535,
          0.007649707794189453,
          0.0076083183288574215,
          0.007566928863525391,
          0.007526874542236328,
          0.007486820220947266,
          0.007446765899658203,
          0.007408046722412109,
          0.0073679924011230465,
          0.007329273223876953
         ]
        },
        {
         "mode": "markers",
         "name": "RL optimality -- gamma = 0.99",
         "type": "scatter",
         "x": [
          0.1,
          0.2,
          0.3,
          0.4,
          0.5,
          0.6,
          0.7,
          0.8,
          0.9,
          1,
          1.1,
          1.2,
          1.3,
          1.4,
          1.5,
          1.6,
          1.7,
          1.8,
          1.9,
          2,
          2.1,
          2.2,
          2.3,
          2.4,
          2.5,
          2.6,
          2.7,
          2.8,
          2.9,
          3,
          3.1,
          3.2,
          3.3,
          3.4,
          3.5,
          3.6,
          3.7,
          3.8,
          3.9,
          4,
          4.1,
          4.2,
          4.3,
          4.4,
          4.5,
          4.6,
          4.7,
          4.8,
          4.9,
          5,
          5.1,
          5.2,
          5.3,
          5.4,
          5.5,
          5.6,
          5.7,
          5.8,
          5.9,
          6,
          6.1,
          6.2,
          6.3,
          6.4,
          6.5,
          6.6,
          6.7,
          6.8,
          6.9,
          7,
          7.1,
          7.2,
          7.3,
          7.4,
          7.5,
          7.6,
          7.7,
          7.8,
          7.9,
          8,
          8.1,
          8.2,
          8.3,
          8.4,
          8.5,
          8.6,
          8.7,
          8.8,
          8.9,
          9,
          9.1,
          9.2,
          9.3,
          9.4,
          9.5,
          9.6,
          9.7,
          9.8,
          9.9,
          10,
          10.1,
          10.2,
          10.3,
          10.4,
          10.5,
          10.6,
          10.7,
          10.8,
          10.9,
          11,
          11.1,
          11.2,
          11.3,
          11.4,
          11.5,
          11.6,
          11.7,
          11.8,
          11.9,
          12,
          12.1,
          12.2,
          12.3,
          12.4,
          12.5,
          12.6,
          12.7,
          12.8,
          12.9,
          13,
          13.1,
          13.2,
          13.3,
          13.4,
          13.5,
          13.6,
          13.7,
          13.8,
          13.9,
          14,
          14.1,
          14.2,
          14.3,
          14.4,
          14.5,
          14.6,
          14.7,
          14.8,
          14.9,
          15,
          15.1,
          15.2,
          15.3,
          15.4,
          15.5,
          15.6,
          15.7,
          15.8,
          15.9,
          16,
          16.1,
          16.2,
          16.3,
          16.4,
          16.5,
          16.6,
          16.7,
          16.8,
          16.9,
          17,
          17.1,
          17.2,
          17.3,
          17.4,
          17.5,
          17.6,
          17.7,
          17.8,
          17.9,
          18,
          18.1,
          18.2,
          18.3,
          18.4,
          18.5,
          18.6,
          18.7,
          18.8,
          18.9,
          19,
          19.1,
          19.2,
          19.3,
          19.4,
          19.5,
          19.6,
          19.7,
          19.8,
          19.9
         ],
         "y": [
          0.6999993324279785,
          0.6999993324279785,
          0.6999993324279785,
          0.6999993324279785,
          0.6999993324279785,
          0.6999993324279785,
          0.6999993324279785,
          0.6999993324279785,
          0.6999993324279785,
          0.6999993324279785,
          0.06363630294799805,
          0.033333873748779295,
          0.022580623626708984,
          0.01707315444946289,
          0.013725948333740235,
          0.011474895477294921,
          0.009859371185302734,
          0.008641719818115234,
          0.0076924324035644535,
          0.006930065155029297,
          0.00630655288696289,
          0.005784511566162109,
          0.005343914031982422,
          0.0049647331237792965,
          0.004636287689208984,
          0.004347896575927735,
          0.004094219207763672,
          0.0038672447204589843,
          0.003665637969970703,
          0.0034827232360839845,
          0.0033171653747558595,
          0.0031676292419433594,
          0.0030301094055175783,
          0.0029046058654785155,
          0.0027884483337402345,
          0.0026816368103027345,
          0.002582836151123047,
          0.002490711212158203,
          0.002405261993408203,
          0.002325153350830078,
          0.002250385284423828,
          0.002180957794189453,
          0.0021155357360839845,
          0.002052783966064453,
          0.001994037628173828,
          0.0019392967224121094,
          0.0018872261047363282,
          0.0018378257751464843,
          0.001791095733642578,
          0.0017457008361816406,
          0.0017029762268066407,
          0.0016629219055175782,
          0.0016242027282714843,
          0.001588153839111328,
          0.0015521049499511719,
          0.0015187263488769531,
          0.0014866828918457032,
          0.001455974578857422,
          0.0014252662658691406,
          0.0013972282409667968,
          0.0013705253601074218,
          0.0013438224792480468,
          0.0013184547424316406,
          0.001294422149658203,
          0.0012703895568847655,
          0.0012476921081542968,
          0.001226329803466797,
          0.0012049674987792969,
          0.0011849403381347656,
          0.0011649131774902344,
          0.001146221160888672,
          0.0011275291442871093,
          0.0011101722717285155,
          0.001092815399169922,
          0.0010754585266113282,
          0.0010594367980957032,
          0.001043415069580078,
          0.001028728485107422,
          0.001012706756591797,
          0.0009993553161621095,
          0.0009846687316894531,
          0.0009713172912597656,
          0.0009579658508300781,
          0.0009446144104003906,
          0.0009325981140136719,
          0.0009205818176269531,
          0.0009085655212402344,
          0.0008965492248535156,
          0.0008845329284667969,
          0.0008738517761230468,
          0.0008631706237792969,
          0.0008524894714355469,
          0.0008431434631347656,
          0.0008324623107910156,
          0.0008231163024902344,
          0.0008137702941894531,
          0.0008044242858886719,
          0.0007950782775878907,
          0.0007857322692871094,
          0.0007777214050292969,
          0.0007683753967285157,
          0.0007603645324707031,
          0.0007523536682128906,
          0.0007443428039550781,
          0.0007363319396972656,
          0.0007283210754394532,
          0.0007216453552246094,
          0.0007136344909667968,
          0.0007069587707519531,
          0.0006989479064941406,
          0.0006922721862792969,
          0.0006855964660644531,
          0.0006789207458496094,
          0.0006722450256347656,
          0.0006655693054199219,
          0.0006602287292480468,
          0.0006535530090332031,
          0.0006482124328613282,
          0.0006415367126464844,
          0.0006361961364746094,
          0.0006308555603027344,
          0.0006241798400878906,
          0.0006188392639160156,
          0.0006134986877441406,
          0.0006081581115722657,
          0.0006028175354003906,
          0.0005974769592285156,
          0.0005934715270996093,
          0.0005881309509277344,
          0.0005827903747558594,
          0.0005787849426269531,
          0.0005734443664550781,
          0.0005694389343261719,
          0.0005640983581542969,
          0.0005600929260253906,
          0.0005547523498535157,
          0.0005507469177246094,
          0.0005467414855957031,
          0.0005427360534667969,
          0.0005387306213378906,
          0.0005347251892089844,
          0.0005307197570800781,
          0.0005267143249511718,
          0.0005227088928222656,
          0.0005187034606933594,
          0.0005146980285644532,
          0.0005106925964355469,
          0.0005066871643066406,
          0.0005040168762207031,
          0.0005000114440917968,
          0.0004960060119628906,
          0.0004933357238769531,
          0.0004893302917480469,
          0.0004853248596191406,
          0.00048265457153320315,
          0.00047864913940429685,
          0.0004759788513183594,
          0.0004733085632324219,
          0.00046930313110351565,
          0.00046663284301757814,
          0.0004639625549316406,
          0.0004599571228027344,
          0.0004572868347167969,
          0.00045461654663085936,
          0.00045194625854492185,
          0.0004479408264160156,
          0.0004452705383300781,
          0.00044260025024414065,
          0.00043992996215820314,
          0.0004372596740722656,
          0.0004345893859863281,
          0.0004319190979003906,
          0.00042924880981445315,
          0.00042657852172851564,
          0.0004239082336425781,
          0.0004212379455566406,
          0.0004185676574707031,
          0.00041589736938476565,
          0.00041456222534179686,
          0.00041189193725585935,
          0.0004092216491699219,
          0.0004065513610839844,
          0.0004038810729980469,
          0.00040254592895507815,
          0.00039987564086914064,
          0.0003972053527832031,
          0.0003958702087402344,
          0.0003931999206542969,
          0.0003905296325683594,
          0.00038919448852539065,
          0.00038652420043945314,
          0.00038518905639648435,
          0.0003825187683105469,
          0.0003798484802246094,
          0.0003785133361816406,
          0.00037584304809570315,
          0.00037450790405273436,
          0.00037183761596679685,
          0.0003705024719238281
         ]
        }
       ],
       "layout": {
        "legend": {
         "x": 0.68,
         "xanchor": "left",
         "y": 0.99,
         "yanchor": "top"
        },
        "template": {
         "data": {
          "bar": [
           {
            "error_x": {
             "color": "#2a3f5f"
            },
            "error_y": {
             "color": "#2a3f5f"
            },
            "marker": {
             "line": {
              "color": "#E5ECF6",
              "width": 0.5
             }
            },
            "type": "bar"
           }
          ],
          "barpolar": [
           {
            "marker": {
             "line": {
              "color": "#E5ECF6",
              "width": 0.5
             }
            },
            "type": "barpolar"
           }
          ],
          "carpet": [
           {
            "aaxis": {
             "endlinecolor": "#2a3f5f",
             "gridcolor": "white",
             "linecolor": "white",
             "minorgridcolor": "white",
             "startlinecolor": "#2a3f5f"
            },
            "baxis": {
             "endlinecolor": "#2a3f5f",
             "gridcolor": "white",
             "linecolor": "white",
             "minorgridcolor": "white",
             "startlinecolor": "#2a3f5f"
            },
            "type": "carpet"
           }
          ],
          "choropleth": [
           {
            "colorbar": {
             "outlinewidth": 0,
             "ticks": ""
            },
            "type": "choropleth"
           }
          ],
          "contour": [
           {
            "colorbar": {
             "outlinewidth": 0,
             "ticks": ""
            },
            "colorscale": [
             [
              0,
              "#0d0887"
             ],
             [
              0.1111111111111111,
              "#46039f"
             ],
             [
              0.2222222222222222,
              "#7201a8"
             ],
             [
              0.3333333333333333,
              "#9c179e"
             ],
             [
              0.4444444444444444,
              "#bd3786"
             ],
             [
              0.5555555555555556,
              "#d8576b"
             ],
             [
              0.6666666666666666,
              "#ed7953"
             ],
             [
              0.7777777777777778,
              "#fb9f3a"
             ],
             [
              0.8888888888888888,
              "#fdca26"
             ],
             [
              1,
              "#f0f921"
             ]
            ],
            "type": "contour"
           }
          ],
          "contourcarpet": [
           {
            "colorbar": {
             "outlinewidth": 0,
             "ticks": ""
            },
            "type": "contourcarpet"
           }
          ],
          "heatmap": [
           {
            "colorbar": {
             "outlinewidth": 0,
             "ticks": ""
            },
            "colorscale": [
             [
              0,
              "#0d0887"
             ],
             [
              0.1111111111111111,
              "#46039f"
             ],
             [
              0.2222222222222222,
              "#7201a8"
             ],
             [
              0.3333333333333333,
              "#9c179e"
             ],
             [
              0.4444444444444444,
              "#bd3786"
             ],
             [
              0.5555555555555556,
              "#d8576b"
             ],
             [
              0.6666666666666666,
              "#ed7953"
             ],
             [
              0.7777777777777778,
              "#fb9f3a"
             ],
             [
              0.8888888888888888,
              "#fdca26"
             ],
             [
              1,
              "#f0f921"
             ]
            ],
            "type": "heatmap"
           }
          ],
          "heatmapgl": [
           {
            "colorbar": {
             "outlinewidth": 0,
             "ticks": ""
            },
            "colorscale": [
             [
              0,
              "#0d0887"
             ],
             [
              0.1111111111111111,
              "#46039f"
             ],
             [
              0.2222222222222222,
              "#7201a8"
             ],
             [
              0.3333333333333333,
              "#9c179e"
             ],
             [
              0.4444444444444444,
              "#bd3786"
             ],
             [
              0.5555555555555556,
              "#d8576b"
             ],
             [
              0.6666666666666666,
              "#ed7953"
             ],
             [
              0.7777777777777778,
              "#fb9f3a"
             ],
             [
              0.8888888888888888,
              "#fdca26"
             ],
             [
              1,
              "#f0f921"
             ]
            ],
            "type": "heatmapgl"
           }
          ],
          "histogram": [
           {
            "marker": {
             "colorbar": {
              "outlinewidth": 0,
              "ticks": ""
             }
            },
            "type": "histogram"
           }
          ],
          "histogram2d": [
           {
            "colorbar": {
             "outlinewidth": 0,
             "ticks": ""
            },
            "colorscale": [
             [
              0,
              "#0d0887"
             ],
             [
              0.1111111111111111,
              "#46039f"
             ],
             [
              0.2222222222222222,
              "#7201a8"
             ],
             [
              0.3333333333333333,
              "#9c179e"
             ],
             [
              0.4444444444444444,
              "#bd3786"
             ],
             [
              0.5555555555555556,
              "#d8576b"
             ],
             [
              0.6666666666666666,
              "#ed7953"
             ],
             [
              0.7777777777777778,
              "#fb9f3a"
             ],
             [
              0.8888888888888888,
              "#fdca26"
             ],
             [
              1,
              "#f0f921"
             ]
            ],
            "type": "histogram2d"
           }
          ],
          "histogram2dcontour": [
           {
            "colorbar": {
             "outlinewidth": 0,
             "ticks": ""
            },
            "colorscale": [
             [
              0,
              "#0d0887"
             ],
             [
              0.1111111111111111,
              "#46039f"
             ],
             [
              0.2222222222222222,
              "#7201a8"
             ],
             [
              0.3333333333333333,
              "#9c179e"
             ],
             [
              0.4444444444444444,
              "#bd3786"
             ],
             [
              0.5555555555555556,
              "#d8576b"
             ],
             [
              0.6666666666666666,
              "#ed7953"
             ],
             [
              0.7777777777777778,
              "#fb9f3a"
             ],
             [
              0.8888888888888888,
              "#fdca26"
             ],
             [
              1,
              "#f0f921"
             ]
            ],
            "type": "histogram2dcontour"
           }
          ],
          "mesh3d": [
           {
            "colorbar": {
             "outlinewidth": 0,
             "ticks": ""
            },
            "type": "mesh3d"
           }
          ],
          "parcoords": [
           {
            "line": {
             "colorbar": {
              "outlinewidth": 0,
              "ticks": ""
             }
            },
            "type": "parcoords"
           }
          ],
          "pie": [
           {
            "automargin": true,
            "type": "pie"
           }
          ],
          "scatter": [
           {
            "marker": {
             "colorbar": {
              "outlinewidth": 0,
              "ticks": ""
             }
            },
            "type": "scatter"
           }
          ],
          "scatter3d": [
           {
            "line": {
             "colorbar": {
              "outlinewidth": 0,
              "ticks": ""
             }
            },
            "marker": {
             "colorbar": {
              "outlinewidth": 0,
              "ticks": ""
             }
            },
            "type": "scatter3d"
           }
          ],
          "scattercarpet": [
           {
            "marker": {
             "colorbar": {
              "outlinewidth": 0,
              "ticks": ""
             }
            },
            "type": "scattercarpet"
           }
          ],
          "scattergeo": [
           {
            "marker": {
             "colorbar": {
              "outlinewidth": 0,
              "ticks": ""
             }
            },
            "type": "scattergeo"
           }
          ],
          "scattergl": [
           {
            "marker": {
             "colorbar": {
              "outlinewidth": 0,
              "ticks": ""
             }
            },
            "type": "scattergl"
           }
          ],
          "scattermapbox": [
           {
            "marker": {
             "colorbar": {
              "outlinewidth": 0,
              "ticks": ""
             }
            },
            "type": "scattermapbox"
           }
          ],
          "scatterpolar": [
           {
            "marker": {
             "colorbar": {
              "outlinewidth": 0,
              "ticks": ""
             }
            },
            "type": "scatterpolar"
           }
          ],
          "scatterpolargl": [
           {
            "marker": {
             "colorbar": {
              "outlinewidth": 0,
              "ticks": ""
             }
            },
            "type": "scatterpolargl"
           }
          ],
          "scatterternary": [
           {
            "marker": {
             "colorbar": {
              "outlinewidth": 0,
              "ticks": ""
             }
            },
            "type": "scatterternary"
           }
          ],
          "surface": [
           {
            "colorbar": {
             "outlinewidth": 0,
             "ticks": ""
            },
            "colorscale": [
             [
              0,
              "#0d0887"
             ],
             [
              0.1111111111111111,
              "#46039f"
             ],
             [
              0.2222222222222222,
              "#7201a8"
             ],
             [
              0.3333333333333333,
              "#9c179e"
             ],
             [
              0.4444444444444444,
              "#bd3786"
             ],
             [
              0.5555555555555556,
              "#d8576b"
             ],
             [
              0.6666666666666666,
              "#ed7953"
             ],
             [
              0.7777777777777778,
              "#fb9f3a"
             ],
             [
              0.8888888888888888,
              "#fdca26"
             ],
             [
              1,
              "#f0f921"
             ]
            ],
            "type": "surface"
           }
          ],
          "table": [
           {
            "cells": {
             "fill": {
              "color": "#EBF0F8"
             },
             "line": {
              "color": "white"
             }
            },
            "header": {
             "fill": {
              "color": "#C8D4E3"
             },
             "line": {
              "color": "white"
             }
            },
            "type": "table"
           }
          ]
         },
         "layout": {
          "annotationdefaults": {
           "arrowcolor": "#2a3f5f",
           "arrowhead": 0,
           "arrowwidth": 1
          },
          "coloraxis": {
           "colorbar": {
            "outlinewidth": 0,
            "ticks": ""
           }
          },
          "colorscale": {
           "diverging": [
            [
             0,
             "#8e0152"
            ],
            [
             0.1,
             "#c51b7d"
            ],
            [
             0.2,
             "#de77ae"
            ],
            [
             0.3,
             "#f1b6da"
            ],
            [
             0.4,
             "#fde0ef"
            ],
            [
             0.5,
             "#f7f7f7"
            ],
            [
             0.6,
             "#e6f5d0"
            ],
            [
             0.7,
             "#b8e186"
            ],
            [
             0.8,
             "#7fbc41"
            ],
            [
             0.9,
             "#4d9221"
            ],
            [
             1,
             "#276419"
            ]
           ],
           "sequential": [
            [
             0,
             "#0d0887"
            ],
            [
             0.1111111111111111,
             "#46039f"
            ],
            [
             0.2222222222222222,
             "#7201a8"
            ],
            [
             0.3333333333333333,
             "#9c179e"
            ],
            [
             0.4444444444444444,
             "#bd3786"
            ],
            [
             0.5555555555555556,
             "#d8576b"
            ],
            [
             0.6666666666666666,
             "#ed7953"
            ],
            [
             0.7777777777777778,
             "#fb9f3a"
            ],
            [
             0.8888888888888888,
             "#fdca26"
            ],
            [
             1,
             "#f0f921"
            ]
           ],
           "sequentialminus": [
            [
             0,
             "#0d0887"
            ],
            [
             0.1111111111111111,
             "#46039f"
            ],
            [
             0.2222222222222222,
             "#7201a8"
            ],
            [
             0.3333333333333333,
             "#9c179e"
            ],
            [
             0.4444444444444444,
             "#bd3786"
            ],
            [
             0.5555555555555556,
             "#d8576b"
            ],
            [
             0.6666666666666666,
             "#ed7953"
            ],
            [
             0.7777777777777778,
             "#fb9f3a"
            ],
            [
             0.8888888888888888,
             "#fdca26"
            ],
            [
             1,
             "#f0f921"
            ]
           ]
          },
          "colorway": [
           "#636efa",
           "#EF553B",
           "#00cc96",
           "#ab63fa",
           "#FFA15A",
           "#19d3f3",
           "#FF6692",
           "#B6E880",
           "#FF97FF",
           "#FECB52"
          ],
          "font": {
           "color": "#2a3f5f"
          },
          "geo": {
           "bgcolor": "white",
           "lakecolor": "white",
           "landcolor": "#E5ECF6",
           "showlakes": true,
           "showland": true,
           "subunitcolor": "white"
          },
          "hoverlabel": {
           "align": "left"
          },
          "hovermode": "closest",
          "mapbox": {
           "style": "light"
          },
          "paper_bgcolor": "white",
          "plot_bgcolor": "#E5ECF6",
          "polar": {
           "angularaxis": {
            "gridcolor": "white",
            "linecolor": "white",
            "ticks": ""
           },
           "bgcolor": "#E5ECF6",
           "radialaxis": {
            "gridcolor": "white",
            "linecolor": "white",
            "ticks": ""
           }
          },
          "scene": {
           "xaxis": {
            "backgroundcolor": "#E5ECF6",
            "gridcolor": "white",
            "gridwidth": 2,
            "linecolor": "white",
            "showbackground": true,
            "ticks": "",
            "zerolinecolor": "white"
           },
           "yaxis": {
            "backgroundcolor": "#E5ECF6",
            "gridcolor": "white",
            "gridwidth": 2,
            "linecolor": "white",
            "showbackground": true,
            "ticks": "",
            "zerolinecolor": "white"
           },
           "zaxis": {
            "backgroundcolor": "#E5ECF6",
            "gridcolor": "white",
            "gridwidth": 2,
            "linecolor": "white",
            "showbackground": true,
            "ticks": "",
            "zerolinecolor": "white"
           }
          },
          "shapedefaults": {
           "line": {
            "color": "#2a3f5f"
           }
          },
          "ternary": {
           "aaxis": {
            "gridcolor": "white",
            "linecolor": "white",
            "ticks": ""
           },
           "baxis": {
            "gridcolor": "white",
            "linecolor": "white",
            "ticks": ""
           },
           "bgcolor": "#E5ECF6",
           "caxis": {
            "gridcolor": "white",
            "linecolor": "white",
            "ticks": ""
           }
          },
          "title": {
           "x": 0.05
          },
          "xaxis": {
           "automargin": true,
           "gridcolor": "white",
           "linecolor": "white",
           "ticks": "",
           "title": {
            "standoff": 15
           },
           "zerolinecolor": "white",
           "zerolinewidth": 2
          },
          "yaxis": {
           "automargin": true,
           "gridcolor": "white",
           "linecolor": "white",
           "ticks": "",
           "title": {
            "standoff": 15
           },
           "zerolinecolor": "white",
           "zerolinewidth": 2
          }
         }
        },
        "xaxis": {
         "title": {
          "text": "beta_h"
         }
        },
        "yaxis": {
         "title": {
          "text": "h_disc (beta_h)"
         }
        }
       }
      },
      "text/html": [
       "<div>                            <div id=\"11208bb2-eba7-473f-ba3a-d803dac744ea\" class=\"plotly-graph-div\" style=\"height:525px; width:100%;\"></div>            <script type=\"text/javascript\">                require([\"plotly\"], function(Plotly) {                    window.PLOTLYENV=window.PLOTLYENV || {};                                    if (document.getElementById(\"11208bb2-eba7-473f-ba3a-d803dac744ea\")) {                    Plotly.newPlot(                        \"11208bb2-eba7-473f-ba3a-d803dac744ea\",                        [{\"mode\": \"markers\", \"name\": \"RL optimality -- gamma = 0.4\", \"type\": \"scatter\", \"x\": [0.1, 0.2, 0.3, 0.4, 0.5, 0.6, 0.7, 0.8, 0.9, 1, 1.1, 1.2, 1.3, 1.4, 1.5, 1.6, 1.7, 1.8, 1.9, 2, 2.1, 2.2, 2.3, 2.4, 2.5, 2.6, 2.7, 2.8, 2.9, 3, 3.1, 3.2, 3.3, 3.4, 3.5, 3.6, 3.7, 3.8, 3.9, 4, 4.1, 4.2, 4.3, 4.4, 4.5, 4.6, 4.7, 4.8, 4.9, 5, 5.1, 5.2, 5.3, 5.4, 5.5, 5.6, 5.7, 5.8, 5.9, 6, 6.1, 6.2, 6.3, 6.4, 6.5, 6.6, 6.7, 6.8, 6.9, 7, 7.1, 7.2, 7.3, 7.4, 7.5, 7.6, 7.7, 7.8, 7.9, 8, 8.1, 8.2, 8.3, 8.4, 8.5, 8.6, 8.7, 8.8, 8.9, 9, 9.1, 9.2, 9.3, 9.4, 9.5, 9.6, 9.7, 9.8, 9.9, 10, 10.1, 10.2, 10.3, 10.4, 10.5, 10.6, 10.7, 10.8, 10.9, 11, 11.1, 11.2, 11.3, 11.4, 11.5, 11.6, 11.7, 11.8, 11.9, 12, 12.1, 12.2, 12.3, 12.4, 12.5, 12.6, 12.7, 12.8, 12.9, 13, 13.1, 13.2, 13.3, 13.4, 13.5, 13.6, 13.7, 13.8, 13.9, 14, 14.1, 14.2, 14.3, 14.4, 14.5, 14.6, 14.7, 14.8, 14.9, 15, 15.1, 15.2, 15.3, 15.4, 15.5, 15.6, 15.7, 15.8, 15.9, 16, 16.1, 16.2, 16.3, 16.4, 16.5, 16.6, 16.7, 16.8, 16.9, 17, 17.1, 17.2, 17.3, 17.4, 17.5, 17.6, 17.7, 17.8, 17.9, 18, 18.1, 18.2, 18.3, 18.4, 18.5, 18.6, 18.7, 18.8, 18.9, 19, 19.1, 19.2, 19.3, 19.4, 19.5, 19.6, 19.7, 19.8, 19.9], \"y\": [0.6999993324279785, 0.6999993324279785, 0.6999993324279785, 0.6999993324279785, 0.6999993324279785, 0.6999993324279785, 0.6999993324279785, 0.6999993324279785, 0.6999993324279785, 0.6999993324279785, 0.5999997138977051, 0.5250006675720215, 0.46666688919067384, 0.4199995994567871, 0.3818184852600098, 0.34999933242797854, 0.32307748794555663, 0.2999995231628418, 0.2800004005432129, 0.2625006675720215, 0.24705839157104492, 0.23333311080932617, 0.2210524559020996, 0.2100001335144043, 0.19999990463256836, 0.19090890884399414, 0.18260831832885743, 0.17499933242797852, 0.16800050735473632, 0.16153841018676757, 0.1555556297302246, 0.15000009536743164, 0.1448277473449707, 0.1399998664855957, 0.1354844093322754, 0.1312493324279785, 0.1272732734680176, 0.12352952957153321, 0.11999940872192383, 0.11666688919067383, 0.11351327896118164, 0.11052656173706055, 0.1076920509338379, 0.10500040054321289, 0.10243959426879883, 0.10000028610229492, 0.09767446517944336, 0.09545412063598632, 0.09333391189575195, 0.09130449295043945, 0.08936185836791992, 0.08750066757202149, 0.08571424484252929, 0.08399991989135742, 0.08235235214233398, 0.08076887130737305, 0.0792454719543457, 0.07777814865112305, 0.07636423110961914, 0.07499971389770507, 0.07368459701538085, 0.07241353988647461, 0.07118654251098633, 0.0699995994567871, 0.06885271072387696, 0.06774187088012695, 0.06666707992553711, 0.06562433242797852, 0.06461496353149414, 0.06363630294799805, 0.06268701553344727, 0.06176443099975586, 0.060869884490966794, 0.05999937057495117, 0.05915555953979492, 0.05833311080932617, 0.05753469467163086, 0.05675630569458008, 0.05600061416625977, 0.055263614654541014, 0.05454530715942383, 0.053845691680908206, 0.05316476821899414, 0.0524998664855957, 0.05185232162475586, 0.05121946334838867, 0.05060262680053711, 0.050000476837158206, 0.049411678314208986, 0.04883756637573242, 0.04827547073364258, 0.04772672653198242, 0.04719133377075195, 0.046666622161865234, 0.046153926849365236, 0.045651912689208984, 0.04516191482543945, 0.0446812629699707, 0.044209957122802734, 0.043749332427978516, 0.043299388885498044, 0.04285745620727539, 0.04242486953735351, 0.04200029373168945, 0.0415837287902832, 0.04117650985717773, 0.04077730178833008, 0.040384769439697266, 0.04000024795532227, 0.03962240219116211, 0.03925256729125977, 0.038889408111572266, 0.03853158950805664, 0.03818178176879883, 0.03783731460571289, 0.037499523162841795, 0.03716840744018555, 0.036842632293701175, 0.036522197723388675, 0.03620710372924805, 0.035897350311279295, 0.03559293746948242, 0.035293865203857425, 0.0350001335144043, 0.03471040725708008, 0.03442602157592774, 0.03414697647094726, 0.033870601654052736, 0.033599567413330075, 0.033333873748779295, 0.033070850372314456, 0.03281183242797851, 0.03255815505981445, 0.03230714797973633, 0.03206148147583008, 0.031818485260009764, 0.03157949447631836, 0.03134317398071289, 0.031110858917236327, 0.030882549285888673, 0.030656909942626952, 0.03043527603149414, 0.030216312408447264, 0.030000019073486327, 0.029787731170654298, 0.029578113555908205, 0.029371166229248048, 0.02916688919067383, 0.028965282440185546, 0.02876768112182617, 0.028571414947509765, 0.028377819061279296, 0.028188228607177734, 0.02799997329711914, 0.027814388275146484, 0.027631473541259766, 0.027451229095458985, 0.02727231979370117, 0.027097415924072266, 0.02692251205444336, 0.026751613616943358, 0.026582050323486327, 0.026415157318115234, 0.02624959945678711, 0.026086711883544923, 0.025926494598388673, 0.025766277313232423, 0.025610065460205077, 0.025455188751220704, 0.025301647186279298, 0.025149440765380858, 0.02499990463256836, 0.02485170364379883, 0.024706172943115234, 0.024561977386474608, 0.024419116973876952, 0.024277591705322267, 0.024137401580810548, 0.023999881744384766, 0.023863697052001955, 0.02372884750366211, 0.023595333099365234, 0.02346315383911133, 0.023333644866943358, 0.02320413589477539, 0.02307729721069336, 0.022950458526611327, 0.022826290130615233, 0.022702121734619142, 0.022580623626708984, 0.022460460662841797, 0.02234029769897461, 0.02222280502319336, 0.022105312347412108, 0.021989154815673827, 0.021874332427978517, 0.02176218032836914, 0.021650028228759766, 0.02153787612915039]}, {\"mode\": \"markers\", \"name\": \"Evolutionary optimality\", \"type\": \"scatter\", \"x\": [0.1, 0.2, 0.3, 0.4, 0.5, 0.6, 0.7, 0.8, 0.9, 1, 1.1, 1.2, 1.3, 1.4, 1.5, 1.6, 1.7, 1.8, 1.9, 2, 2.1, 2.2, 2.3, 2.4, 2.5, 2.6, 2.7, 2.8, 2.9, 3, 3.1, 3.2, 3.3, 3.4, 3.5, 3.6, 3.7, 3.8, 3.9, 4, 4.1, 4.2, 4.3, 4.4, 4.5, 4.6, 4.7, 4.8, 4.9, 5, 5.1, 5.2, 5.3, 5.4, 5.5, 5.6, 5.7, 5.8, 5.9, 6, 6.1, 6.2, 6.3, 6.4, 6.5, 6.6, 6.7, 6.8, 6.9, 7, 7.1, 7.2, 7.3, 7.4, 7.5, 7.6, 7.7, 7.8, 7.9, 8, 8.1, 8.2, 8.3, 8.4, 8.5, 8.6, 8.7, 8.8, 8.9, 9, 9.1, 9.2, 9.3, 9.4, 9.5, 9.6, 9.7, 9.8, 9.9, 10, 10.1, 10.2, 10.3, 10.4, 10.5, 10.6, 10.7, 10.8, 10.9, 11, 11.1, 11.2, 11.3, 11.4, 11.5, 11.6, 11.7, 11.8, 11.9, 12, 12.1, 12.2, 12.3, 12.4, 12.5, 12.6, 12.7, 12.8, 12.9, 13, 13.1, 13.2, 13.3, 13.4, 13.5, 13.6, 13.7, 13.8, 13.9, 14, 14.1, 14.2, 14.3, 14.4, 14.5, 14.6, 14.7, 14.8, 14.9, 15, 15.1, 15.2, 15.3, 15.4, 15.5, 15.6, 15.7, 15.8, 15.9, 16, 16.1, 16.2, 16.3, 16.4, 16.5, 16.6, 16.7, 16.8, 16.9, 17, 17.1, 17.2, 17.3, 17.4, 17.5, 17.6, 17.7, 17.8, 17.9, 18, 18.1, 18.2, 18.3, 18.4, 18.5, 18.6, 18.7, 18.8, 18.9, 19, 19.1, 19.2, 19.3, 19.4, 19.5, 19.6, 19.7, 19.8, 19.9], \"y\": [0.6998291015625, 0.6998291015625, 0.6998291015625, 0.6998291015625, 0.6998291015625, 0.6998291015625, 0.6998291015625, 0.6998291015625, 0.6998291015625, 0.6998291015625, 0.5549072265625, 0.4595458984375, 0.3922119140625, 0.3419677734375, 0.3030029296875, 0.2722412109375, 0.2472900390625, 0.2260986328125, 0.2086669921875, 0.1936279296875, 0.1802978515625, 0.1690185546875, 0.1591064453125, 0.1498779296875, 0.1420166015625, 0.1348388671875, 0.1283447265625, 0.1225341796875, 0.1170654296875, 0.1122802734375, 0.1078369140625, 0.1033935546875, 0.0996337890625, 0.0962158203125, 0.0927978515625, 0.0897216796875, 0.0866455078125, 0.0839111328125, 0.0815185546875, 0.0791259765625, 0.0767333984375, 0.0746826171875, 0.0726318359375, 0.0705810546875, 0.0688720703125, 0.0671630859375, 0.0654541015625, 0.0640869140625, 0.0623779296875, 0.0610107421875, 0.0596435546875, 0.0582763671875, 0.0572509765625, 0.0558837890625, 0.0548583984375, 0.0538330078125, 0.0524658203125, 0.0514404296875, 0.0507568359375, 0.0497314453125, 0.0487060546875, 0.0480224609375, 0.0469970703125, 0.0463134765625, 0.0452880859375, 0.0446044921875, 0.0439208984375, 0.0432373046875, 0.0425537109375, 0.0418701171875, 0.0411865234375, 0.0405029296875, 0.0401611328125, 0.0394775390625, 0.0387939453125, 0.0384521484375, 0.0377685546875, 0.0370849609375, 0.0367431640625, 0.0360595703125, 0.0357177734375, 0.0353759765625, 0.0346923828125, 0.0343505859375, 0.0340087890625, 0.0336669921875, 0.0329833984375, 0.0326416015625, 0.0322998046875, 0.0319580078125, 0.0316162109375, 0.0312744140625, 0.0309326171875, 0.0305908203125, 0.0302490234375, 0.0299072265625, 0.0295654296875, 0.0292236328125, 0.0288818359375, 0.0285400390625, 0.0281982421875, 0.0278564453125, 0.0275146484375, 0.0271728515625, 0.0271728515625, 0.0268310546875, 0.0264892578125, 0.0261474609375, 0.0261474609375, 0.0258056640625, 0.0254638671875, 0.0251220703125, 0.0251220703125, 0.0247802734375, 0.0244384765625, 0.0244384765625, 0.0240966796875, 0.0237548828125, 0.0237548828125, 0.0234130859375, 0.0234130859375, 0.0230712890625, 0.0227294921875, 0.0227294921875, 0.0223876953125, 0.0223876953125, 0.0220458984375, 0.0220458984375, 0.0217041015625, 0.0217041015625, 0.0213623046875, 0.0213623046875, 0.0210205078125, 0.0210205078125, 0.0206787109375, 0.0206787109375, 0.0203369140625, 0.0203369140625, 0.0199951171875, 0.0199951171875, 0.0199951171875, 0.0196533203125, 0.0196533203125, 0.0193115234375, 0.0193115234375, 0.0189697265625, 0.0189697265625, 0.0189697265625, 0.0186279296875, 0.0186279296875, 0.0186279296875, 0.0182861328125, 0.0182861328125, 0.0179443359375, 0.0179443359375, 0.0179443359375, 0.0176025390625, 0.0176025390625, 0.0176025390625, 0.0172607421875, 0.0172607421875, 0.0172607421875, 0.0169189453125, 0.0169189453125, 0.0169189453125, 0.0165771484375, 0.0165771484375, 0.0165771484375, 0.0165771484375, 0.0162353515625, 0.0162353515625, 0.0162353515625, 0.0158935546875, 0.0158935546875, 0.0158935546875, 0.0158935546875, 0.0155517578125, 0.0155517578125, 0.0155517578125, 0.0155517578125, 0.0152099609375, 0.0152099609375, 0.0152099609375, 0.0148681640625, 0.0148681640625, 0.0148681640625, 0.0148681640625, 0.0148681640625, 0.0145263671875, 0.0145263671875, 0.0145263671875, 0.0145263671875, 0.0141845703125, 0.0141845703125, 0.0141845703125, 0.0141845703125, 0.0138427734375, 0.0138427734375, 0.0138427734375]}, {\"mode\": \"markers\", \"name\": \"RL optimality -- gamma = 0.8\", \"type\": \"scatter\", \"x\": [0.1, 0.2, 0.3, 0.4, 0.5, 0.6, 0.7, 0.8, 0.9, 1, 1.1, 1.2, 1.3, 1.4, 1.5, 1.6, 1.7, 1.8, 1.9, 2, 2.1, 2.2, 2.3, 2.4, 2.5, 2.6, 2.7, 2.8, 2.9, 3, 3.1, 3.2, 3.3, 3.4, 3.5, 3.6, 3.7, 3.8, 3.9, 4, 4.1, 4.2, 4.3, 4.4, 4.5, 4.6, 4.7, 4.8, 4.9, 5, 5.1, 5.2, 5.3, 5.4, 5.5, 5.6, 5.7, 5.8, 5.9, 6, 6.1, 6.2, 6.3, 6.4, 6.5, 6.6, 6.7, 6.8, 6.9, 7, 7.1, 7.2, 7.3, 7.4, 7.5, 7.6, 7.7, 7.8, 7.9, 8, 8.1, 8.2, 8.3, 8.4, 8.5, 8.6, 8.7, 8.8, 8.9, 9, 9.1, 9.2, 9.3, 9.4, 9.5, 9.6, 9.7, 9.8, 9.9, 10, 10.1, 10.2, 10.3, 10.4, 10.5, 10.6, 10.7, 10.8, 10.9, 11, 11.1, 11.2, 11.3, 11.4, 11.5, 11.6, 11.7, 11.8, 11.9, 12, 12.1, 12.2, 12.3, 12.4, 12.5, 12.6, 12.7, 12.8, 12.9, 13, 13.1, 13.2, 13.3, 13.4, 13.5, 13.6, 13.7, 13.8, 13.9, 14, 14.1, 14.2, 14.3, 14.4, 14.5, 14.6, 14.7, 14.8, 14.9, 15, 15.1, 15.2, 15.3, 15.4, 15.5, 15.6, 15.7, 15.8, 15.9, 16, 16.1, 16.2, 16.3, 16.4, 16.5, 16.6, 16.7, 16.8, 16.9, 17, 17.1, 17.2, 17.3, 17.4, 17.5, 17.6, 17.7, 17.8, 17.9, 18, 18.1, 18.2, 18.3, 18.4, 18.5, 18.6, 18.7, 18.8, 18.9, 19, 19.1, 19.2, 19.3, 19.4, 19.5, 19.6, 19.7, 19.8, 19.9], \"y\": [0.6999993324279785, 0.6999993324279785, 0.6999993324279785, 0.6999993324279785, 0.6999993324279785, 0.6999993324279785, 0.6999993324279785, 0.6999993324279785, 0.6999993324279785, 0.6999993324279785, 0.46666688919067384, 0.34999933242797854, 0.2800004005432129, 0.23333311080932617, 0.19999990463256836, 0.17500066757202148, 0.1555556297302246, 0.1399998664855957, 0.1272732734680176, 0.11666688919067383, 0.1076920509338379, 0.10000028610229492, 0.09333391189575195, 0.08750066757202149, 0.08235235214233398, 0.07777814865112305, 0.07368459701538085, 0.0699995994567871, 0.06666707992553711, 0.06363630294799805, 0.060869884490966794, 0.05833311080932617, 0.05600061416625977, 0.053845691680908206, 0.05185232162475586, 0.050000476837158206, 0.04827547073364258, 0.046666622161865234, 0.04516191482543945, 0.043749332427978516, 0.04242486953735351, 0.04117650985717773, 0.04000024795532227, 0.038889408111572266, 0.03783731460571289, 0.036842632293701175, 0.035897350311279295, 0.0350001335144043, 0.03414697647094726, 0.033333873748779295, 0.03255815505981445, 0.031818485260009764, 0.031110858917236327, 0.03043527603149414, 0.029787731170654298, 0.02916688919067383, 0.028571414947509765, 0.02799997329711914, 0.027451229095458985, 0.02692251205444336, 0.026415157318115234, 0.025926494598388673, 0.025455188751220704, 0.02499990463256836, 0.024561977386474608, 0.024137401580810548, 0.02372884750366211, 0.023333644866943358, 0.022950458526611327, 0.022580623626708984, 0.02222280502319336, 0.021874332427978517, 0.02153787612915039, 0.021212100982666016, 0.020895671844482423, 0.02058858871459961, 0.020289516448974608, 0.01999979019165039, 0.019718074798583986, 0.019444370269775392, 0.01917867660522461, 0.018918323516845702, 0.018667316436767577, 0.018421649932861328, 0.018181324005126953, 0.017949008941650392, 0.017722034454345705, 0.01750040054321289, 0.017284107208251954, 0.01707315444946289, 0.016867542266845705, 0.016667270660400392, 0.016471004486083983, 0.016278743743896484, 0.01609182357788086, 0.01590890884399414, 0.015729999542236327, 0.015555095672607423, 0.015384197235107422, 0.015217304229736328, 0.015054416656494141, 0.014894199371337891, 0.014736652374267578, 0.014583110809326172, 0.014433574676513673, 0.01428537368774414, 0.014141178131103516, 0.013999652862548829, 0.013860797882080078, 0.013725948333740235, 0.01359243392944336, 0.013461589813232422, 0.013333415985107422, 0.01320791244506836, 0.013083744049072265, 0.012963581085205077, 0.01284341812133789, 0.01272726058959961, 0.012612438201904297, 0.012500286102294922, 0.012389469146728515, 0.012281322479248047, 0.012174510955810547, 0.012069034576416015, 0.011966228485107422, 0.011864757537841797, 0.011764621734619141, 0.011667156219482422, 0.011569690704345704, 0.011474895477294921, 0.011382770538330079, 0.011290645599365235, 0.011199855804443359, 0.011111736297607422, 0.011023616790771485, 0.010936832427978516, 0.010852718353271484, 0.010768604278564454, 0.010687160491943359, 0.010605716705322265, 0.010526943206787109, 0.010448169708251954, 0.010370731353759766, 0.010294628143310548, 0.010218524932861328, 0.010145092010498047, 0.010071659088134765, 0.009999561309814452, 0.00992879867553711, 0.009859371185302734, 0.00978994369506836, 0.009721851348876953, 0.009655094146728516, 0.009589672088623047, 0.009524250030517578, 0.009458827972412109, 0.009396076202392578, 0.009333324432373048, 0.009271907806396484, 0.009210491180419922, 0.009150409698486328, 0.009090328216552734, 0.009032917022705079, 0.008974170684814453, 0.008916759490966797, 0.00886068344116211, 0.008804607391357421, 0.008749866485595703, 0.008695125579833984, 0.008641719818115234, 0.008588314056396484, 0.008536243438720703, 0.008485507965087891, 0.00843343734741211, 0.008382701873779297, 0.008333301544189453, 0.008283901214599609, 0.008235836029052734, 0.00818777084350586, 0.008139705657958985, 0.008092975616455078, 0.008046245574951172, 0.007999515533447266, 0.007954120635986328, 0.007910060882568359, 0.007864665985107423, 0.007820606231689453, 0.007777881622314453, 0.007735157012939453, 0.0076924324035644535, 0.007649707794189453, 0.0076083183288574215, 0.007566928863525391, 0.007526874542236328, 0.007486820220947266, 0.007446765899658203, 0.007408046722412109, 0.0073679924011230465, 0.007329273223876953]}, {\"mode\": \"markers\", \"name\": \"RL optimality -- gamma = 0.99\", \"type\": \"scatter\", \"x\": [0.1, 0.2, 0.3, 0.4, 0.5, 0.6, 0.7, 0.8, 0.9, 1, 1.1, 1.2, 1.3, 1.4, 1.5, 1.6, 1.7, 1.8, 1.9, 2, 2.1, 2.2, 2.3, 2.4, 2.5, 2.6, 2.7, 2.8, 2.9, 3, 3.1, 3.2, 3.3, 3.4, 3.5, 3.6, 3.7, 3.8, 3.9, 4, 4.1, 4.2, 4.3, 4.4, 4.5, 4.6, 4.7, 4.8, 4.9, 5, 5.1, 5.2, 5.3, 5.4, 5.5, 5.6, 5.7, 5.8, 5.9, 6, 6.1, 6.2, 6.3, 6.4, 6.5, 6.6, 6.7, 6.8, 6.9, 7, 7.1, 7.2, 7.3, 7.4, 7.5, 7.6, 7.7, 7.8, 7.9, 8, 8.1, 8.2, 8.3, 8.4, 8.5, 8.6, 8.7, 8.8, 8.9, 9, 9.1, 9.2, 9.3, 9.4, 9.5, 9.6, 9.7, 9.8, 9.9, 10, 10.1, 10.2, 10.3, 10.4, 10.5, 10.6, 10.7, 10.8, 10.9, 11, 11.1, 11.2, 11.3, 11.4, 11.5, 11.6, 11.7, 11.8, 11.9, 12, 12.1, 12.2, 12.3, 12.4, 12.5, 12.6, 12.7, 12.8, 12.9, 13, 13.1, 13.2, 13.3, 13.4, 13.5, 13.6, 13.7, 13.8, 13.9, 14, 14.1, 14.2, 14.3, 14.4, 14.5, 14.6, 14.7, 14.8, 14.9, 15, 15.1, 15.2, 15.3, 15.4, 15.5, 15.6, 15.7, 15.8, 15.9, 16, 16.1, 16.2, 16.3, 16.4, 16.5, 16.6, 16.7, 16.8, 16.9, 17, 17.1, 17.2, 17.3, 17.4, 17.5, 17.6, 17.7, 17.8, 17.9, 18, 18.1, 18.2, 18.3, 18.4, 18.5, 18.6, 18.7, 18.8, 18.9, 19, 19.1, 19.2, 19.3, 19.4, 19.5, 19.6, 19.7, 19.8, 19.9], \"y\": [0.6999993324279785, 0.6999993324279785, 0.6999993324279785, 0.6999993324279785, 0.6999993324279785, 0.6999993324279785, 0.6999993324279785, 0.6999993324279785, 0.6999993324279785, 0.6999993324279785, 0.06363630294799805, 0.033333873748779295, 0.022580623626708984, 0.01707315444946289, 0.013725948333740235, 0.011474895477294921, 0.009859371185302734, 0.008641719818115234, 0.0076924324035644535, 0.006930065155029297, 0.00630655288696289, 0.005784511566162109, 0.005343914031982422, 0.0049647331237792965, 0.004636287689208984, 0.004347896575927735, 0.004094219207763672, 0.0038672447204589843, 0.003665637969970703, 0.0034827232360839845, 0.0033171653747558595, 0.0031676292419433594, 0.0030301094055175783, 0.0029046058654785155, 0.0027884483337402345, 0.0026816368103027345, 0.002582836151123047, 0.002490711212158203, 0.002405261993408203, 0.002325153350830078, 0.002250385284423828, 0.002180957794189453, 0.0021155357360839845, 0.002052783966064453, 0.001994037628173828, 0.0019392967224121094, 0.0018872261047363282, 0.0018378257751464843, 0.001791095733642578, 0.0017457008361816406, 0.0017029762268066407, 0.0016629219055175782, 0.0016242027282714843, 0.001588153839111328, 0.0015521049499511719, 0.0015187263488769531, 0.0014866828918457032, 0.001455974578857422, 0.0014252662658691406, 0.0013972282409667968, 0.0013705253601074218, 0.0013438224792480468, 0.0013184547424316406, 0.001294422149658203, 0.0012703895568847655, 0.0012476921081542968, 0.001226329803466797, 0.0012049674987792969, 0.0011849403381347656, 0.0011649131774902344, 0.001146221160888672, 0.0011275291442871093, 0.0011101722717285155, 0.001092815399169922, 0.0010754585266113282, 0.0010594367980957032, 0.001043415069580078, 0.001028728485107422, 0.001012706756591797, 0.0009993553161621095, 0.0009846687316894531, 0.0009713172912597656, 0.0009579658508300781, 0.0009446144104003906, 0.0009325981140136719, 0.0009205818176269531, 0.0009085655212402344, 0.0008965492248535156, 0.0008845329284667969, 0.0008738517761230468, 0.0008631706237792969, 0.0008524894714355469, 0.0008431434631347656, 0.0008324623107910156, 0.0008231163024902344, 0.0008137702941894531, 0.0008044242858886719, 0.0007950782775878907, 0.0007857322692871094, 0.0007777214050292969, 0.0007683753967285157, 0.0007603645324707031, 0.0007523536682128906, 0.0007443428039550781, 0.0007363319396972656, 0.0007283210754394532, 0.0007216453552246094, 0.0007136344909667968, 0.0007069587707519531, 0.0006989479064941406, 0.0006922721862792969, 0.0006855964660644531, 0.0006789207458496094, 0.0006722450256347656, 0.0006655693054199219, 0.0006602287292480468, 0.0006535530090332031, 0.0006482124328613282, 0.0006415367126464844, 0.0006361961364746094, 0.0006308555603027344, 0.0006241798400878906, 0.0006188392639160156, 0.0006134986877441406, 0.0006081581115722657, 0.0006028175354003906, 0.0005974769592285156, 0.0005934715270996093, 0.0005881309509277344, 0.0005827903747558594, 0.0005787849426269531, 0.0005734443664550781, 0.0005694389343261719, 0.0005640983581542969, 0.0005600929260253906, 0.0005547523498535157, 0.0005507469177246094, 0.0005467414855957031, 0.0005427360534667969, 0.0005387306213378906, 0.0005347251892089844, 0.0005307197570800781, 0.0005267143249511718, 0.0005227088928222656, 0.0005187034606933594, 0.0005146980285644532, 0.0005106925964355469, 0.0005066871643066406, 0.0005040168762207031, 0.0005000114440917968, 0.0004960060119628906, 0.0004933357238769531, 0.0004893302917480469, 0.0004853248596191406, 0.00048265457153320315, 0.00047864913940429685, 0.0004759788513183594, 0.0004733085632324219, 0.00046930313110351565, 0.00046663284301757814, 0.0004639625549316406, 0.0004599571228027344, 0.0004572868347167969, 0.00045461654663085936, 0.00045194625854492185, 0.0004479408264160156, 0.0004452705383300781, 0.00044260025024414065, 0.00043992996215820314, 0.0004372596740722656, 0.0004345893859863281, 0.0004319190979003906, 0.00042924880981445315, 0.00042657852172851564, 0.0004239082336425781, 0.0004212379455566406, 0.0004185676574707031, 0.00041589736938476565, 0.00041456222534179686, 0.00041189193725585935, 0.0004092216491699219, 0.0004065513610839844, 0.0004038810729980469, 0.00040254592895507815, 0.00039987564086914064, 0.0003972053527832031, 0.0003958702087402344, 0.0003931999206542969, 0.0003905296325683594, 0.00038919448852539065, 0.00038652420043945314, 0.00038518905639648435, 0.0003825187683105469, 0.0003798484802246094, 0.0003785133361816406, 0.00037584304809570315, 0.00037450790405273436, 0.00037183761596679685, 0.0003705024719238281]}],                        {\"legend\": {\"x\": 0.68, \"xanchor\": \"left\", \"y\": 0.99, \"yanchor\": \"top\"}, \"template\": {\"data\": {\"bar\": [{\"error_x\": {\"color\": \"#2a3f5f\"}, \"error_y\": {\"color\": \"#2a3f5f\"}, \"marker\": {\"line\": {\"color\": \"#E5ECF6\", \"width\": 0.5}}, \"type\": \"bar\"}], \"barpolar\": [{\"marker\": {\"line\": {\"color\": \"#E5ECF6\", \"width\": 0.5}}, \"type\": \"barpolar\"}], \"carpet\": [{\"aaxis\": {\"endlinecolor\": \"#2a3f5f\", \"gridcolor\": \"white\", \"linecolor\": \"white\", \"minorgridcolor\": \"white\", \"startlinecolor\": \"#2a3f5f\"}, \"baxis\": {\"endlinecolor\": \"#2a3f5f\", \"gridcolor\": \"white\", \"linecolor\": \"white\", \"minorgridcolor\": \"white\", \"startlinecolor\": \"#2a3f5f\"}, \"type\": \"carpet\"}], \"choropleth\": [{\"colorbar\": {\"outlinewidth\": 0, \"ticks\": \"\"}, \"type\": \"choropleth\"}], \"contour\": [{\"colorbar\": {\"outlinewidth\": 0, \"ticks\": \"\"}, \"colorscale\": [[0.0, \"#0d0887\"], [0.1111111111111111, \"#46039f\"], [0.2222222222222222, \"#7201a8\"], [0.3333333333333333, \"#9c179e\"], [0.4444444444444444, \"#bd3786\"], [0.5555555555555556, \"#d8576b\"], [0.6666666666666666, \"#ed7953\"], [0.7777777777777778, \"#fb9f3a\"], [0.8888888888888888, \"#fdca26\"], [1.0, \"#f0f921\"]], \"type\": \"contour\"}], \"contourcarpet\": [{\"colorbar\": {\"outlinewidth\": 0, \"ticks\": \"\"}, \"type\": \"contourcarpet\"}], \"heatmap\": [{\"colorbar\": {\"outlinewidth\": 0, \"ticks\": \"\"}, \"colorscale\": [[0.0, \"#0d0887\"], [0.1111111111111111, \"#46039f\"], [0.2222222222222222, \"#7201a8\"], [0.3333333333333333, \"#9c179e\"], [0.4444444444444444, \"#bd3786\"], [0.5555555555555556, \"#d8576b\"], [0.6666666666666666, \"#ed7953\"], [0.7777777777777778, \"#fb9f3a\"], [0.8888888888888888, \"#fdca26\"], [1.0, \"#f0f921\"]], \"type\": \"heatmap\"}], \"heatmapgl\": [{\"colorbar\": {\"outlinewidth\": 0, \"ticks\": \"\"}, \"colorscale\": [[0.0, \"#0d0887\"], [0.1111111111111111, \"#46039f\"], [0.2222222222222222, \"#7201a8\"], [0.3333333333333333, \"#9c179e\"], [0.4444444444444444, \"#bd3786\"], [0.5555555555555556, \"#d8576b\"], [0.6666666666666666, \"#ed7953\"], [0.7777777777777778, \"#fb9f3a\"], [0.8888888888888888, \"#fdca26\"], [1.0, \"#f0f921\"]], \"type\": \"heatmapgl\"}], \"histogram\": [{\"marker\": {\"colorbar\": {\"outlinewidth\": 0, \"ticks\": \"\"}}, \"type\": \"histogram\"}], \"histogram2d\": [{\"colorbar\": {\"outlinewidth\": 0, \"ticks\": \"\"}, \"colorscale\": [[0.0, \"#0d0887\"], [0.1111111111111111, \"#46039f\"], [0.2222222222222222, \"#7201a8\"], [0.3333333333333333, \"#9c179e\"], [0.4444444444444444, \"#bd3786\"], [0.5555555555555556, \"#d8576b\"], [0.6666666666666666, \"#ed7953\"], [0.7777777777777778, \"#fb9f3a\"], [0.8888888888888888, \"#fdca26\"], [1.0, \"#f0f921\"]], \"type\": \"histogram2d\"}], \"histogram2dcontour\": [{\"colorbar\": {\"outlinewidth\": 0, \"ticks\": \"\"}, \"colorscale\": [[0.0, \"#0d0887\"], [0.1111111111111111, \"#46039f\"], [0.2222222222222222, \"#7201a8\"], [0.3333333333333333, \"#9c179e\"], [0.4444444444444444, \"#bd3786\"], [0.5555555555555556, \"#d8576b\"], [0.6666666666666666, \"#ed7953\"], [0.7777777777777778, \"#fb9f3a\"], [0.8888888888888888, \"#fdca26\"], [1.0, \"#f0f921\"]], \"type\": \"histogram2dcontour\"}], \"mesh3d\": [{\"colorbar\": {\"outlinewidth\": 0, \"ticks\": \"\"}, \"type\": \"mesh3d\"}], \"parcoords\": [{\"line\": {\"colorbar\": {\"outlinewidth\": 0, \"ticks\": \"\"}}, \"type\": \"parcoords\"}], \"pie\": [{\"automargin\": true, \"type\": \"pie\"}], \"scatter\": [{\"marker\": {\"colorbar\": {\"outlinewidth\": 0, \"ticks\": \"\"}}, \"type\": \"scatter\"}], \"scatter3d\": [{\"line\": {\"colorbar\": {\"outlinewidth\": 0, \"ticks\": \"\"}}, \"marker\": {\"colorbar\": {\"outlinewidth\": 0, \"ticks\": \"\"}}, \"type\": \"scatter3d\"}], \"scattercarpet\": [{\"marker\": {\"colorbar\": {\"outlinewidth\": 0, \"ticks\": \"\"}}, \"type\": \"scattercarpet\"}], \"scattergeo\": [{\"marker\": {\"colorbar\": {\"outlinewidth\": 0, \"ticks\": \"\"}}, \"type\": \"scattergeo\"}], \"scattergl\": [{\"marker\": {\"colorbar\": {\"outlinewidth\": 0, \"ticks\": \"\"}}, \"type\": \"scattergl\"}], \"scattermapbox\": [{\"marker\": {\"colorbar\": {\"outlinewidth\": 0, \"ticks\": \"\"}}, \"type\": \"scattermapbox\"}], \"scatterpolar\": [{\"marker\": {\"colorbar\": {\"outlinewidth\": 0, \"ticks\": \"\"}}, \"type\": \"scatterpolar\"}], \"scatterpolargl\": [{\"marker\": {\"colorbar\": {\"outlinewidth\": 0, \"ticks\": \"\"}}, \"type\": \"scatterpolargl\"}], \"scatterternary\": [{\"marker\": {\"colorbar\": {\"outlinewidth\": 0, \"ticks\": \"\"}}, \"type\": \"scatterternary\"}], \"surface\": [{\"colorbar\": {\"outlinewidth\": 0, \"ticks\": \"\"}, \"colorscale\": [[0.0, \"#0d0887\"], [0.1111111111111111, \"#46039f\"], [0.2222222222222222, \"#7201a8\"], [0.3333333333333333, \"#9c179e\"], [0.4444444444444444, \"#bd3786\"], [0.5555555555555556, \"#d8576b\"], [0.6666666666666666, \"#ed7953\"], [0.7777777777777778, \"#fb9f3a\"], [0.8888888888888888, \"#fdca26\"], [1.0, \"#f0f921\"]], \"type\": \"surface\"}], \"table\": [{\"cells\": {\"fill\": {\"color\": \"#EBF0F8\"}, \"line\": {\"color\": \"white\"}}, \"header\": {\"fill\": {\"color\": \"#C8D4E3\"}, \"line\": {\"color\": \"white\"}}, \"type\": \"table\"}]}, \"layout\": {\"annotationdefaults\": {\"arrowcolor\": \"#2a3f5f\", \"arrowhead\": 0, \"arrowwidth\": 1}, \"coloraxis\": {\"colorbar\": {\"outlinewidth\": 0, \"ticks\": \"\"}}, \"colorscale\": {\"diverging\": [[0, \"#8e0152\"], [0.1, \"#c51b7d\"], [0.2, \"#de77ae\"], [0.3, \"#f1b6da\"], [0.4, \"#fde0ef\"], [0.5, \"#f7f7f7\"], [0.6, \"#e6f5d0\"], [0.7, \"#b8e186\"], [0.8, \"#7fbc41\"], [0.9, \"#4d9221\"], [1, \"#276419\"]], \"sequential\": [[0.0, \"#0d0887\"], [0.1111111111111111, \"#46039f\"], [0.2222222222222222, \"#7201a8\"], [0.3333333333333333, \"#9c179e\"], [0.4444444444444444, \"#bd3786\"], [0.5555555555555556, \"#d8576b\"], [0.6666666666666666, \"#ed7953\"], [0.7777777777777778, \"#fb9f3a\"], [0.8888888888888888, \"#fdca26\"], [1.0, \"#f0f921\"]], \"sequentialminus\": [[0.0, \"#0d0887\"], [0.1111111111111111, \"#46039f\"], [0.2222222222222222, \"#7201a8\"], [0.3333333333333333, \"#9c179e\"], [0.4444444444444444, \"#bd3786\"], [0.5555555555555556, \"#d8576b\"], [0.6666666666666666, \"#ed7953\"], [0.7777777777777778, \"#fb9f3a\"], [0.8888888888888888, \"#fdca26\"], [1.0, \"#f0f921\"]]}, \"colorway\": [\"#636efa\", \"#EF553B\", \"#00cc96\", \"#ab63fa\", \"#FFA15A\", \"#19d3f3\", \"#FF6692\", \"#B6E880\", \"#FF97FF\", \"#FECB52\"], \"font\": {\"color\": \"#2a3f5f\"}, \"geo\": {\"bgcolor\": \"white\", \"lakecolor\": \"white\", \"landcolor\": \"#E5ECF6\", \"showlakes\": true, \"showland\": true, \"subunitcolor\": \"white\"}, \"hoverlabel\": {\"align\": \"left\"}, \"hovermode\": \"closest\", \"mapbox\": {\"style\": \"light\"}, \"paper_bgcolor\": \"white\", \"plot_bgcolor\": \"#E5ECF6\", \"polar\": {\"angularaxis\": {\"gridcolor\": \"white\", \"linecolor\": \"white\", \"ticks\": \"\"}, \"bgcolor\": \"#E5ECF6\", \"radialaxis\": {\"gridcolor\": \"white\", \"linecolor\": \"white\", \"ticks\": \"\"}}, \"scene\": {\"xaxis\": {\"backgroundcolor\": \"#E5ECF6\", \"gridcolor\": \"white\", \"gridwidth\": 2, \"linecolor\": \"white\", \"showbackground\": true, \"ticks\": \"\", \"zerolinecolor\": \"white\"}, \"yaxis\": {\"backgroundcolor\": \"#E5ECF6\", \"gridcolor\": \"white\", \"gridwidth\": 2, \"linecolor\": \"white\", \"showbackground\": true, \"ticks\": \"\", \"zerolinecolor\": \"white\"}, \"zaxis\": {\"backgroundcolor\": \"#E5ECF6\", \"gridcolor\": \"white\", \"gridwidth\": 2, \"linecolor\": \"white\", \"showbackground\": true, \"ticks\": \"\", \"zerolinecolor\": \"white\"}}, \"shapedefaults\": {\"line\": {\"color\": \"#2a3f5f\"}}, \"ternary\": {\"aaxis\": {\"gridcolor\": \"white\", \"linecolor\": \"white\", \"ticks\": \"\"}, \"baxis\": {\"gridcolor\": \"white\", \"linecolor\": \"white\", \"ticks\": \"\"}, \"bgcolor\": \"#E5ECF6\", \"caxis\": {\"gridcolor\": \"white\", \"linecolor\": \"white\", \"ticks\": \"\"}}, \"title\": {\"x\": 0.05}, \"xaxis\": {\"automargin\": true, \"gridcolor\": \"white\", \"linecolor\": \"white\", \"ticks\": \"\", \"title\": {\"standoff\": 15}, \"zerolinecolor\": \"white\", \"zerolinewidth\": 2}, \"yaxis\": {\"automargin\": true, \"gridcolor\": \"white\", \"linecolor\": \"white\", \"ticks\": \"\", \"title\": {\"standoff\": 15}, \"zerolinecolor\": \"white\", \"zerolinewidth\": 2}}}, \"xaxis\": {\"title\": {\"text\": \"beta_h\"}}, \"yaxis\": {\"title\": {\"text\": \"h_disc (beta_h)\"}}},                        {\"responsive\": true}                    ).then(function(){\n",
       "                            \n",
       "var gd = document.getElementById('11208bb2-eba7-473f-ba3a-d803dac744ea');\n",
       "var x = new MutationObserver(function (mutations, observer) {{\n",
       "        var display = window.getComputedStyle(gd).display;\n",
       "        if (!display || display === 'none') {{\n",
       "            console.log([gd, 'removed!']);\n",
       "            Plotly.purge(gd);\n",
       "            observer.disconnect();\n",
       "        }}\n",
       "}});\n",
       "\n",
       "// Listen for the removal of the full notebook cells\n",
       "var notebookContainer = gd.closest('#notebook-container');\n",
       "if (notebookContainer) {{\n",
       "    x.observe(notebookContainer, {childList: true});\n",
       "}}\n",
       "\n",
       "// Listen for the clearing of the current output cell\n",
       "var outputEl = gd.closest('.output');\n",
       "if (outputEl) {{\n",
       "    x.observe(outputEl, {childList: true});\n",
       "}}\n",
       "\n",
       "                        })                };                });            </script>        </div>"
      ]
     },
     "metadata": {},
     "output_type": "display_data"
    }
   ],
   "source": [
    "fig = go.Figure()\n",
    "fig.add_trace(go.Scatter(x=[birth_h/10 for birth_h in range(1, 200)], y=rl_h_vec40,\n",
    "                    mode='markers',\n",
    "                    name = 'RL optimality -- gamma = 0.4'))\n",
    "fig.add_trace(go.Scatter(x=[birth_h/10 for birth_h in range(1, 200)], y=lyapunov_h_vec,\n",
    "                    mode='markers',\n",
    "                    name = 'Evolutionary optimality'))\n",
    "fig.add_trace(go.Scatter(x=[birth_h/10 for birth_h in range(1, 200)], y=rl_h_vec80,\n",
    "                    mode='markers',\n",
    "                    name = 'RL optimality -- gamma = 0.8'))\n",
    "fig.add_trace(go.Scatter(x=[birth_h/10 for birth_h in range(1, 200)], y=rl_h_vec99,\n",
    "                    mode='markers',\n",
    "                    name = 'RL optimality -- gamma = 0.99'))\n",
    "\n",
    "\n",
    "\n",
    "fig.update_layout(legend=dict(\n",
    "    yanchor=\"top\",\n",
    "    y=0.99,\n",
    "    xanchor=\"left\",\n",
    "    x=0.68\n",
    "))\n",
    "\n",
    "fig.update_layout(xaxis_title = \"beta_h\", yaxis_title = \"h_disc (beta_h)\")\n",
    "\n",
    "fig.show()"
   ]
  },
  {
   "cell_type": "markdown",
   "metadata": {},
   "source": [
    "#### It looks like, having fixed $l,\\beta_l$, there is some $\\gamma^*$ satisfying $\\varepsilon_{\\text{RL}} = \\varepsilon^*$ for every $h, \\beta_h$. "
   ]
  },
  {
   "cell_type": "code",
   "execution_count": 247,
   "metadata": {},
   "outputs": [],
   "source": [
    "def diff_in_h_disc(gamma):\n",
    "    evol_h_disc = find_disc_in_h(0.3, 1, 1.1)\n",
    "    rl_h_disc = rl_find_disc_in_h(0.3, 1, 1.1, gamma)\n",
    "    diff = evol_h_disc - rl_h_disc\n",
    "    return diff.n()"
   ]
  },
  {
   "cell_type": "code",
   "execution_count": 272,
   "metadata": {},
   "outputs": [
    {
     "name": "stdout",
     "output_type": "stream",
     "text": [
      "starting round 1\n",
      "starting round 2\n",
      "starting round 3\n",
      "starting round 4\n",
      "starting round 5\n",
      "starting round 6\n",
      "starting round 7\n",
      "starting round 8\n",
      "starting round 9\n",
      "starting round 10\n",
      "starting round 11\n",
      "starting round 12\n"
     ]
    }
   ],
   "source": [
    "gamma_star = bisection(diff_in_h_disc, 0.6, 0.7, 10^(-6))"
   ]
  },
  {
   "cell_type": "code",
   "execution_count": 273,
   "metadata": {},
   "outputs": [
    {
     "data": {
      "text/plain": [
       "0.617541503906250"
      ]
     },
     "execution_count": 273,
     "metadata": {},
     "output_type": "execute_result"
    }
   ],
   "source": [
    "gamma_star"
   ]
  },
  {
   "cell_type": "code",
   "execution_count": 259,
   "metadata": {},
   "outputs": [
    {
     "name": "stdout",
     "output_type": "stream",
     "text": [
      "CPU times: user 9.16 s, sys: 4 ms, total: 9.16 s\n",
      "Wall time: 9.17 s\n"
     ]
    },
    {
     "data": {
      "text/plain": [
       "-0.0450924873352052"
      ]
     },
     "execution_count": 259,
     "metadata": {},
     "output_type": "execute_result"
    }
   ],
   "source": [
    "%time diff_in_h_disc(0.4)"
   ]
  },
  {
   "cell_type": "code",
   "execution_count": 262,
   "metadata": {},
   "outputs": [
    {
     "name": "stdout",
     "output_type": "stream",
     "text": [
      "CPU times: user 9.03 s, sys: 8 ms, total: 9.03 s\n",
      "Wall time: 9.03 s\n"
     ]
    },
    {
     "data": {
      "text/plain": [
       "0.0299065589904786"
      ]
     },
     "execution_count": 262,
     "metadata": {},
     "output_type": "execute_result"
    }
   ],
   "source": [
    "%time diff_in_h_disc(0.7)"
   ]
  },
  {
   "cell_type": "markdown",
   "metadata": {},
   "source": [
    "#### Generalize: for any $l, \\beta_l$, find $\\gamma^*(l, \\beta_l)$ for which $\\varepsilon^* = \\varepsilon_{\\text{RL}}^{\\gamma^*}$"
   ]
  },
  {
   "cell_type": "code",
   "execution_count": 301,
   "metadata": {},
   "outputs": [],
   "source": [
    "def get_gamma_star(l, beta_l, prec = 10^(-6)):\n",
    "    def diff_in_h_disc(gamma):\n",
    "        evol_h_disc = find_disc_in_h(l, beta_l, beta_l + 0.1)\n",
    "        rl_h_disc = rl_find_disc_in_h(l, beta_l, beta_l + 0.1, gamma)\n",
    "        diff = evol_h_disc - rl_h_disc    \n",
    "        return diff\n",
    "    gamma_star = bisection(diff_in_h_disc, 0, 1, prec)\n",
    "    return gamma_star"
   ]
  },
  {
   "cell_type": "code",
   "execution_count": 318,
   "metadata": {},
   "outputs": [
    {
     "name": "stdout",
     "output_type": "stream",
     "text": [
      "starting round 1\n",
      "starting round 2\n",
      "starting round 3\n",
      "starting round 4\n",
      "starting round 5\n",
      "starting round 6\n",
      "starting round 7\n",
      "starting round 8\n",
      "starting round 9\n",
      "starting round 10\n",
      "starting round 11\n",
      "starting round 12\n",
      "starting round 13\n"
     ]
    },
    {
     "data": {
      "text/plain": [
       "10117/16384"
      ]
     },
     "execution_count": 318,
     "metadata": {},
     "output_type": "execute_result"
    }
   ],
   "source": [
    "get_gamma_star(0.5, 1)"
   ]
  },
  {
   "cell_type": "code",
   "execution_count": 317,
   "metadata": {},
   "outputs": [
    {
     "name": "stdout",
     "output_type": "stream",
     "text": [
      "starting round 1\n",
      "starting round 2\n",
      "starting round 3\n",
      "starting round 4\n",
      "starting round 5\n",
      "starting round 6\n",
      "starting round 7\n",
      "starting round 8\n",
      "starting round 9\n",
      "starting round 10\n",
      "starting round 11\n",
      "starting round 12\n",
      "starting round 13\n"
     ]
    },
    {
     "data": {
      "text/plain": [
       "10117/16384"
      ]
     },
     "execution_count": 317,
     "metadata": {},
     "output_type": "execute_result"
    }
   ],
   "source": [
    "get_gamma_star(0.3, 1)"
   ]
  },
  {
   "cell_type": "code",
   "execution_count": 305,
   "metadata": {},
   "outputs": [
    {
     "name": "stdout",
     "output_type": "stream",
     "text": [
      "starting round 1\n",
      "starting round 2\n",
      "starting round 3\n",
      "starting round 4\n",
      "starting round 5\n",
      "starting round 6\n",
      "starting round 7\n",
      "starting round 8\n",
      "starting round 9\n",
      "starting round 10\n",
      "starting round 11\n",
      "starting round 12\n",
      "starting round 13\n",
      "starting round 14\n",
      "starting round 15\n",
      "starting round 16\n",
      "starting round 17\n",
      "1/10\n",
      "starting round 1\n",
      "starting round 2\n",
      "starting round 3\n",
      "starting round 4\n",
      "starting round 5\n",
      "starting round 6\n",
      "starting round 7\n",
      "starting round 8\n",
      "starting round 9\n",
      "starting round 10\n",
      "starting round 11\n",
      "starting round 12\n",
      "starting round 13\n",
      "starting round 14\n",
      "starting round 15\n",
      "starting round 16\n",
      "starting round 17\n",
      "starting round 18\n",
      "starting round 19\n",
      "1/5\n",
      "starting round 1\n",
      "starting round 2\n",
      "starting round 3\n",
      "starting round 4\n",
      "starting round 5\n",
      "starting round 6\n",
      "starting round 7\n",
      "starting round 8\n",
      "starting round 9\n",
      "starting round 10\n",
      "starting round 11\n",
      "starting round 12\n",
      "starting round 13\n",
      "starting round 14\n",
      "starting round 15\n",
      "starting round 16\n",
      "starting round 17\n",
      "3/10\n",
      "starting round 1\n",
      "starting round 2\n",
      "starting round 3\n",
      "starting round 4\n",
      "starting round 5\n",
      "starting round 6\n",
      "starting round 7\n",
      "starting round 8\n",
      "starting round 9\n",
      "starting round 10\n",
      "starting round 11\n",
      "starting round 12\n",
      "2/5\n",
      "starting round 1\n",
      "starting round 2\n",
      "starting round 3\n",
      "starting round 4\n",
      "starting round 5\n",
      "starting round 6\n",
      "starting round 7\n",
      "starting round 8\n",
      "starting round 9\n",
      "starting round 10\n",
      "starting round 11\n",
      "starting round 12\n",
      "starting round 13\n",
      "starting round 14\n",
      "starting round 15\n",
      "starting round 16\n",
      "starting round 17\n",
      "1/2\n",
      "starting round 1\n",
      "starting round 2\n",
      "starting round 3\n",
      "starting round 4\n",
      "starting round 5\n",
      "starting round 6\n",
      "starting round 7\n",
      "starting round 8\n",
      "starting round 9\n",
      "starting round 10\n",
      "starting round 11\n",
      "starting round 12\n",
      "starting round 13\n",
      "starting round 14\n",
      "starting round 15\n",
      "starting round 16\n",
      "starting round 17\n",
      "starting round 18\n",
      "3/5\n",
      "starting round 1\n",
      "starting round 2\n",
      "starting round 3\n",
      "starting round 4\n",
      "starting round 5\n",
      "starting round 6\n",
      "starting round 7\n",
      "starting round 8\n",
      "starting round 9\n",
      "starting round 10\n",
      "starting round 11\n",
      "starting round 12\n",
      "starting round 13\n",
      "starting round 14\n",
      "starting round 15\n",
      "starting round 16\n",
      "starting round 17\n",
      "starting round 18\n",
      "7/10\n",
      "starting round 1\n",
      "starting round 2\n",
      "starting round 3\n",
      "starting round 4\n",
      "starting round 5\n",
      "starting round 6\n",
      "starting round 7\n",
      "starting round 8\n",
      "starting round 9\n",
      "starting round 10\n",
      "starting round 11\n",
      "starting round 12\n",
      "starting round 13\n",
      "starting round 14\n",
      "starting round 15\n",
      "starting round 16\n",
      "starting round 17\n",
      "4/5\n",
      "starting round 1\n",
      "starting round 2\n",
      "starting round 3\n",
      "starting round 4\n",
      "starting round 5\n",
      "starting round 6\n",
      "starting round 7\n",
      "starting round 8\n",
      "starting round 9\n",
      "starting round 10\n",
      "starting round 11\n",
      "starting round 12\n",
      "starting round 13\n",
      "starting round 14\n",
      "starting round 15\n",
      "starting round 16\n",
      "starting round 17\n",
      "9/10\n",
      "starting round 1\n",
      "starting round 2\n",
      "starting round 3\n",
      "starting round 4\n",
      "starting round 5\n",
      "starting round 6\n",
      "starting round 7\n",
      "starting round 8\n",
      "starting round 9\n",
      "starting round 10\n",
      "starting round 11\n",
      "starting round 12\n",
      "starting round 13\n",
      "1\n",
      "starting round 1\n",
      "starting round 2\n",
      "starting round 3\n",
      "starting round 4\n",
      "starting round 5\n",
      "starting round 6\n",
      "starting round 7\n",
      "starting round 8\n",
      "starting round 9\n",
      "starting round 10\n",
      "starting round 11\n",
      "starting round 12\n",
      "starting round 13\n",
      "starting round 14\n",
      "starting round 15\n",
      "starting round 16\n",
      "starting round 17\n",
      "11/10\n",
      "starting round 1\n",
      "starting round 2\n",
      "starting round 3\n",
      "starting round 4\n",
      "starting round 5\n",
      "starting round 6\n",
      "starting round 7\n",
      "starting round 8\n",
      "starting round 9\n",
      "starting round 10\n",
      "starting round 11\n",
      "starting round 12\n",
      "starting round 13\n",
      "starting round 14\n",
      "6/5\n",
      "starting round 1\n",
      "starting round 2\n",
      "starting round 3\n",
      "starting round 4\n",
      "starting round 5\n",
      "starting round 6\n",
      "starting round 7\n",
      "starting round 8\n",
      "starting round 9\n",
      "starting round 10\n",
      "starting round 11\n",
      "starting round 12\n",
      "starting round 13\n",
      "starting round 14\n",
      "starting round 15\n",
      "starting round 16\n",
      "13/10\n",
      "starting round 1\n",
      "starting round 2\n",
      "starting round 3\n",
      "starting round 4\n",
      "starting round 5\n",
      "starting round 6\n",
      "starting round 7\n",
      "starting round 8\n",
      "starting round 9\n",
      "starting round 10\n",
      "starting round 11\n",
      "starting round 12\n",
      "starting round 13\n",
      "starting round 14\n",
      "starting round 15\n",
      "starting round 16\n",
      "7/5\n",
      "starting round 1\n",
      "starting round 2\n",
      "starting round 3\n",
      "starting round 4\n",
      "starting round 5\n",
      "starting round 6\n",
      "starting round 7\n",
      "starting round 8\n",
      "starting round 9\n",
      "starting round 10\n",
      "starting round 11\n",
      "starting round 12\n",
      "starting round 13\n",
      "starting round 14\n",
      "starting round 15\n",
      "starting round 16\n",
      "3/2\n",
      "starting round 1\n",
      "starting round 2\n",
      "starting round 3\n",
      "starting round 4\n",
      "starting round 5\n",
      "starting round 6\n",
      "starting round 7\n",
      "starting round 8\n",
      "starting round 9\n",
      "starting round 10\n",
      "starting round 11\n",
      "starting round 12\n",
      "starting round 13\n",
      "starting round 14\n",
      "starting round 15\n",
      "8/5\n",
      "starting round 1\n",
      "starting round 2\n",
      "starting round 3\n",
      "starting round 4\n",
      "starting round 5\n",
      "starting round 6\n",
      "starting round 7\n",
      "starting round 8\n",
      "starting round 9\n",
      "starting round 10\n",
      "starting round 11\n",
      "starting round 12\n",
      "starting round 13\n",
      "starting round 14\n",
      "starting round 15\n",
      "17/10\n",
      "starting round 1\n",
      "starting round 2\n",
      "starting round 3\n",
      "starting round 4\n",
      "starting round 5\n",
      "starting round 6\n",
      "starting round 7\n",
      "starting round 8\n",
      "starting round 9\n",
      "starting round 10\n",
      "starting round 11\n",
      "starting round 12\n",
      "starting round 13\n",
      "starting round 14\n",
      "starting round 15\n",
      "9/5\n",
      "starting round 1\n",
      "starting round 2\n",
      "starting round 3\n",
      "starting round 4\n",
      "starting round 5\n",
      "starting round 6\n",
      "starting round 7\n",
      "starting round 8\n",
      "starting round 9\n",
      "starting round 10\n",
      "starting round 11\n",
      "starting round 12\n",
      "starting round 13\n",
      "starting round 14\n",
      "starting round 15\n",
      "19/10\n",
      "starting round 1\n",
      "starting round 2\n",
      "starting round 3\n",
      "starting round 4\n",
      "starting round 5\n",
      "starting round 6\n",
      "starting round 7\n",
      "starting round 8\n",
      "starting round 9\n",
      "starting round 10\n",
      "starting round 11\n",
      "starting round 12\n",
      "starting round 13\n",
      "starting round 14\n",
      "starting round 15\n",
      "2\n",
      "starting round 1\n",
      "starting round 2\n",
      "starting round 3\n",
      "starting round 4\n",
      "starting round 5\n",
      "starting round 6\n",
      "starting round 7\n",
      "starting round 8\n",
      "starting round 9\n",
      "starting round 10\n",
      "starting round 11\n",
      "starting round 12\n",
      "starting round 13\n",
      "starting round 14\n",
      "starting round 15\n",
      "starting round 16\n",
      "21/10\n",
      "starting round 1\n",
      "starting round 2\n",
      "starting round 3\n",
      "starting round 4\n",
      "starting round 5\n",
      "starting round 6\n",
      "starting round 7\n",
      "starting round 8\n",
      "starting round 9\n",
      "starting round 10\n",
      "starting round 11\n",
      "starting round 12\n",
      "starting round 13\n",
      "starting round 14\n",
      "11/5\n",
      "starting round 1\n",
      "starting round 2\n",
      "starting round 3\n",
      "starting round 4\n",
      "starting round 5\n",
      "starting round 6\n",
      "starting round 7\n",
      "starting round 8\n",
      "starting round 9\n",
      "starting round 10\n",
      "starting round 11\n",
      "starting round 12\n",
      "starting round 13\n",
      "starting round 14\n",
      "starting round 15\n",
      "23/10\n",
      "starting round 1\n",
      "starting round 2\n",
      "starting round 3\n",
      "starting round 4\n",
      "starting round 5\n",
      "starting round 6\n",
      "starting round 7\n",
      "starting round 8\n",
      "starting round 9\n",
      "starting round 10\n",
      "starting round 11\n",
      "starting round 12\n",
      "starting round 13\n",
      "starting round 14\n",
      "12/5\n",
      "starting round 1\n",
      "starting round 2\n",
      "starting round 3\n",
      "starting round 4\n",
      "starting round 5\n",
      "starting round 6\n",
      "starting round 7\n",
      "starting round 8\n",
      "starting round 9\n",
      "starting round 10\n",
      "starting round 11\n",
      "starting round 12\n",
      "starting round 13\n",
      "starting round 14\n",
      "starting round 15\n",
      "5/2\n",
      "starting round 1\n",
      "starting round 2\n",
      "starting round 3\n",
      "starting round 4\n",
      "starting round 5\n",
      "starting round 6\n",
      "starting round 7\n",
      "starting round 8\n",
      "starting round 9\n",
      "starting round 10\n",
      "starting round 11\n",
      "starting round 12\n",
      "starting round 13\n",
      "13/5\n",
      "starting round 1\n",
      "starting round 2\n",
      "starting round 3\n",
      "starting round 4\n",
      "starting round 5\n",
      "starting round 6\n",
      "starting round 7\n",
      "starting round 8\n",
      "starting round 9\n",
      "starting round 10\n",
      "starting round 11\n",
      "starting round 12\n",
      "starting round 13\n",
      "27/10\n",
      "starting round 1\n",
      "starting round 2\n",
      "starting round 3\n",
      "starting round 4\n",
      "starting round 5\n",
      "starting round 6\n",
      "starting round 7\n",
      "starting round 8\n",
      "starting round 9\n",
      "starting round 10\n",
      "starting round 11\n",
      "starting round 12\n",
      "starting round 13\n",
      "14/5\n",
      "starting round 1\n",
      "starting round 2\n",
      "starting round 3\n",
      "starting round 4\n",
      "starting round 5\n",
      "starting round 6\n",
      "starting round 7\n",
      "starting round 8\n",
      "starting round 9\n",
      "starting round 10\n",
      "starting round 11\n",
      "starting round 12\n",
      "starting round 13\n",
      "starting round 14\n",
      "29/10\n",
      "starting round 1\n",
      "starting round 2\n",
      "starting round 3\n",
      "starting round 4\n",
      "starting round 5\n",
      "starting round 6\n",
      "starting round 7\n",
      "starting round 8\n",
      "starting round 9\n",
      "starting round 10\n",
      "starting round 11\n",
      "starting round 12\n",
      "3\n",
      "starting round 1\n",
      "starting round 2\n",
      "starting round 3\n",
      "starting round 4\n",
      "starting round 5\n"
     ]
    },
    {
     "name": "stdout",
     "output_type": "stream",
     "text": [
      "starting round 6\n",
      "starting round 7\n",
      "starting round 8\n",
      "starting round 9\n",
      "starting round 10\n",
      "starting round 11\n",
      "starting round 12\n",
      "starting round 13\n",
      "starting round 14\n",
      "starting round 15\n",
      "31/10\n",
      "starting round 1\n",
      "starting round 2\n",
      "starting round 3\n",
      "starting round 4\n",
      "starting round 5\n",
      "starting round 6\n",
      "starting round 7\n",
      "starting round 8\n",
      "starting round 9\n",
      "starting round 10\n",
      "starting round 11\n",
      "starting round 12\n",
      "starting round 13\n",
      "starting round 14\n",
      "16/5\n",
      "starting round 1\n",
      "starting round 2\n",
      "starting round 3\n",
      "starting round 4\n",
      "starting round 5\n",
      "starting round 6\n",
      "starting round 7\n",
      "starting round 8\n",
      "starting round 9\n",
      "starting round 10\n",
      "starting round 11\n",
      "starting round 12\n",
      "starting round 13\n",
      "starting round 14\n",
      "33/10\n",
      "starting round 1\n",
      "starting round 2\n",
      "starting round 3\n",
      "starting round 4\n",
      "starting round 5\n",
      "starting round 6\n",
      "starting round 7\n",
      "starting round 8\n",
      "starting round 9\n",
      "starting round 10\n",
      "starting round 11\n",
      "starting round 12\n",
      "starting round 13\n",
      "starting round 14\n",
      "17/5\n",
      "starting round 1\n",
      "starting round 2\n",
      "starting round 3\n",
      "starting round 4\n",
      "starting round 5\n",
      "starting round 6\n",
      "starting round 7\n",
      "starting round 8\n",
      "starting round 9\n",
      "starting round 10\n",
      "starting round 11\n",
      "starting round 12\n",
      "starting round 13\n",
      "starting round 14\n",
      "7/2\n",
      "starting round 1\n",
      "starting round 2\n",
      "starting round 3\n",
      "starting round 4\n",
      "starting round 5\n",
      "starting round 6\n",
      "starting round 7\n",
      "starting round 8\n",
      "starting round 9\n",
      "starting round 10\n",
      "starting round 11\n",
      "starting round 12\n",
      "starting round 13\n",
      "starting round 14\n",
      "18/5\n",
      "starting round 1\n",
      "starting round 2\n",
      "starting round 3\n",
      "starting round 4\n",
      "starting round 5\n",
      "starting round 6\n",
      "starting round 7\n",
      "starting round 8\n",
      "starting round 9\n",
      "starting round 10\n",
      "starting round 11\n",
      "starting round 12\n",
      "37/10\n",
      "starting round 1\n",
      "starting round 2\n",
      "starting round 3\n",
      "starting round 4\n",
      "starting round 5\n",
      "starting round 6\n",
      "starting round 7\n",
      "starting round 8\n",
      "starting round 9\n",
      "starting round 10\n",
      "starting round 11\n",
      "19/5\n",
      "starting round 1\n",
      "starting round 2\n",
      "starting round 3\n",
      "starting round 4\n",
      "starting round 5\n",
      "starting round 6\n",
      "starting round 7\n",
      "starting round 8\n",
      "starting round 9\n",
      "starting round 10\n",
      "starting round 11\n",
      "starting round 12\n",
      "39/10\n",
      "starting round 1\n",
      "starting round 2\n",
      "starting round 3\n",
      "starting round 4\n",
      "starting round 5\n",
      "starting round 6\n",
      "starting round 7\n",
      "starting round 8\n",
      "starting round 9\n",
      "starting round 10\n",
      "starting round 11\n",
      "starting round 12\n",
      "starting round 13\n",
      "starting round 14\n",
      "4\n",
      "starting round 1\n",
      "starting round 2\n",
      "starting round 3\n",
      "starting round 4\n",
      "starting round 5\n",
      "starting round 6\n",
      "starting round 7\n",
      "starting round 8\n",
      "starting round 9\n",
      "starting round 10\n",
      "starting round 11\n",
      "starting round 12\n",
      "starting round 13\n",
      "41/10\n",
      "starting round 1\n",
      "starting round 2\n",
      "starting round 3\n",
      "starting round 4\n",
      "starting round 5\n",
      "starting round 6\n",
      "starting round 7\n",
      "starting round 8\n",
      "starting round 9\n",
      "starting round 10\n",
      "starting round 11\n",
      "starting round 12\n",
      "starting round 13\n",
      "starting round 14\n",
      "21/5\n",
      "starting round 1\n",
      "starting round 2\n",
      "starting round 3\n",
      "starting round 4\n",
      "starting round 5\n",
      "starting round 6\n",
      "starting round 7\n",
      "starting round 8\n",
      "starting round 9\n",
      "starting round 10\n",
      "starting round 11\n",
      "starting round 12\n",
      "starting round 13\n",
      "starting round 14\n",
      "43/10\n",
      "starting round 1\n",
      "starting round 2\n",
      "starting round 3\n",
      "starting round 4\n",
      "starting round 5\n",
      "starting round 6\n",
      "starting round 7\n",
      "starting round 8\n",
      "starting round 9\n",
      "starting round 10\n",
      "starting round 11\n",
      "starting round 12\n",
      "starting round 13\n",
      "22/5\n",
      "starting round 1\n",
      "starting round 2\n",
      "starting round 3\n",
      "starting round 4\n",
      "starting round 5\n",
      "starting round 6\n",
      "starting round 7\n",
      "starting round 8\n",
      "starting round 9\n",
      "starting round 10\n",
      "starting round 11\n",
      "starting round 12\n",
      "9/2\n",
      "starting round 1\n",
      "starting round 2\n",
      "starting round 3\n",
      "starting round 4\n",
      "starting round 5\n",
      "starting round 6\n",
      "starting round 7\n",
      "starting round 8\n",
      "starting round 9\n",
      "starting round 10\n",
      "starting round 11\n",
      "starting round 12\n",
      "starting round 13\n",
      "starting round 14\n",
      "23/5\n",
      "starting round 1\n",
      "starting round 2\n",
      "starting round 3\n",
      "starting round 4\n",
      "starting round 5\n",
      "starting round 6\n",
      "starting round 7\n",
      "starting round 8\n",
      "starting round 9\n",
      "starting round 10\n",
      "starting round 11\n",
      "starting round 12\n",
      "starting round 13\n",
      "starting round 14\n",
      "47/10\n",
      "starting round 1\n",
      "starting round 2\n",
      "starting round 3\n",
      "starting round 4\n",
      "starting round 5\n",
      "starting round 6\n",
      "starting round 7\n",
      "starting round 8\n",
      "starting round 9\n",
      "starting round 10\n",
      "starting round 11\n",
      "starting round 12\n",
      "starting round 13\n",
      "starting round 14\n",
      "24/5\n",
      "starting round 1\n",
      "starting round 2\n",
      "starting round 3\n",
      "starting round 4\n",
      "starting round 5\n",
      "starting round 6\n",
      "starting round 7\n",
      "starting round 8\n",
      "starting round 9\n",
      "starting round 10\n",
      "starting round 11\n",
      "starting round 12\n",
      "starting round 13\n",
      "49/10\n",
      "starting round 1\n",
      "starting round 2\n",
      "starting round 3\n",
      "starting round 4\n",
      "starting round 5\n",
      "starting round 6\n",
      "starting round 7\n",
      "starting round 8\n",
      "starting round 9\n",
      "starting round 10\n",
      "6\n",
      "starting round 1\n",
      "starting round 2\n",
      "starting round 3\n",
      "starting round 4\n",
      "starting round 5\n",
      "starting round 6\n",
      "starting round 7\n",
      "starting round 8\n",
      "starting round 9\n",
      "starting round 10\n",
      "starting round 11\n",
      "starting round 12\n",
      "7\n",
      "starting round 1\n",
      "starting round 2\n",
      "starting round 3\n",
      "starting round 4\n",
      "starting round 5\n",
      "starting round 6\n",
      "starting round 7\n",
      "starting round 8\n",
      "starting round 9\n",
      "starting round 10\n",
      "starting round 11\n",
      "starting round 12\n",
      "starting round 13\n",
      "8\n",
      "starting round 1\n",
      "starting round 2\n",
      "starting round 3\n",
      "starting round 4\n",
      "starting round 5\n",
      "starting round 6\n",
      "starting round 7\n",
      "starting round 8\n",
      "starting round 9\n",
      "starting round 10\n",
      "starting round 11\n",
      "starting round 12\n",
      "starting round 13\n",
      "9\n",
      "starting round 1\n",
      "starting round 2\n",
      "starting round 3\n",
      "starting round 4\n",
      "starting round 5\n",
      "starting round 6\n",
      "starting round 7\n",
      "starting round 8\n",
      "starting round 9\n",
      "starting round 10\n",
      "starting round 11\n",
      "starting round 12\n",
      "starting round 13\n",
      "10\n",
      "starting round 1\n",
      "starting round 2\n",
      "starting round 3\n",
      "starting round 4\n",
      "starting round 5\n",
      "starting round 6\n",
      "starting round 7\n",
      "starting round 8\n",
      "starting round 9\n",
      "starting round 10\n",
      "starting round 11\n",
      "starting round 12\n",
      "11\n",
      "starting round 1\n",
      "starting round 2\n",
      "starting round 3\n",
      "starting round 4\n",
      "starting round 5\n",
      "starting round 6\n",
      "starting round 7\n",
      "starting round 8\n",
      "starting round 9\n",
      "starting round 10\n",
      "starting round 11\n",
      "starting round 12\n",
      "12\n",
      "starting round 1\n",
      "starting round 2\n",
      "starting round 3\n",
      "starting round 4\n",
      "starting round 5\n",
      "starting round 6\n",
      "starting round 7\n",
      "starting round 8\n",
      "starting round 9\n",
      "starting round 10\n",
      "13\n",
      "starting round 1\n",
      "starting round 2\n",
      "starting round 3\n",
      "starting round 4\n",
      "starting round 5\n",
      "starting round 6\n",
      "starting round 7\n",
      "starting round 8\n",
      "starting round 9\n",
      "starting round 10\n",
      "starting round 11\n",
      "14\n",
      "starting round 1\n",
      "starting round 2\n",
      "starting round 3\n",
      "starting round 4\n",
      "starting round 5\n",
      "starting round 6\n",
      "starting round 7\n",
      "starting round 8\n",
      "16\n",
      "starting round 1\n",
      "starting round 2\n",
      "starting round 3\n",
      "starting round 4\n",
      "starting round 5\n",
      "starting round 6\n",
      "starting round 7\n",
      "starting round 8\n",
      "starting round 9\n",
      "18\n",
      "starting round 1\n",
      "starting round 2\n",
      "starting round 3\n",
      "starting round 4\n",
      "starting round 5\n",
      "starting round 6\n",
      "starting round 7\n",
      "starting round 8\n",
      "starting round 9\n",
      "20\n",
      "starting round 1\n",
      "starting round 2\n",
      "starting round 3\n",
      "starting round 4\n",
      "starting round 5\n",
      "starting round 6\n",
      "starting round 7\n",
      "22\n",
      "starting round 1\n",
      "starting round 2\n",
      "starting round 3\n",
      "starting round 4\n",
      "starting round 5\n",
      "starting round 6\n",
      "starting round 7\n",
      "starting round 8\n",
      "24\n",
      "starting round 1\n",
      "starting round 2\n",
      "starting round 3\n",
      "starting round 4\n",
      "starting round 5\n",
      "starting round 6\n",
      "starting round 7\n",
      "starting round 8\n",
      "starting round 9\n",
      "starting round 10\n",
      "26\n",
      "starting round 1\n",
      "starting round 2\n",
      "starting round 3\n",
      "starting round 4\n",
      "starting round 5\n",
      "starting round 6\n",
      "starting round 7\n",
      "starting round 8\n",
      "starting round 9\n",
      "starting round 10\n",
      "starting round 11\n",
      "28\n"
     ]
    }
   ],
   "source": [
    "gamma_star_vec = []\n",
    "beta_l_vec = [x/10 for x in range(1, 50)] + [x for x in range(6, 14)] + [2*x for x in range(7, 15)]\n",
    "\n",
    "for beta_l in beta_l_vec:\n",
    "    gamma_star = get_gamma_star(0.3, beta_l)\n",
    "    gamma_star_vec.append(gamma_star)\n",
    "    print(beta_l)"
   ]
  },
  {
   "cell_type": "code",
   "execution_count": 306,
   "metadata": {},
   "outputs": [
    {
     "data": {
      "application/vnd.plotly.v1+json": {
       "config": {
        "plotlyServerURL": "https://plot.ly"
       },
       "data": [
        {
         "mode": "markers",
         "name": "gamma*",
         "type": "scatter",
         "x": [
          0.1,
          0.2,
          0.3,
          0.4,
          0.5,
          0.6,
          0.7,
          0.8,
          0.9,
          1,
          1.1,
          1.2,
          1.3,
          1.4,
          1.5,
          1.6,
          1.7,
          1.8,
          1.9,
          2,
          2.1,
          2.2,
          2.3,
          2.4,
          2.5,
          2.6,
          2.7,
          2.8,
          2.9,
          3,
          3.1,
          3.2,
          3.3,
          3.4,
          3.5,
          3.6,
          3.7,
          3.8,
          3.9,
          4,
          4.1,
          4.2,
          4.3,
          4.4,
          4.5,
          4.6,
          4.7,
          4.8,
          4.9,
          6,
          7,
          8,
          9,
          10,
          11,
          12,
          13,
          14,
          16,
          18,
          20,
          22,
          24,
          26,
          28
         ],
         "y": [
          0.9161186218261719,
          0.8541460037231445,
          0.8055686950683594,
          0.7655029296875,
          0.7321510314941406,
          0.7032146453857422,
          0.6780910491943359,
          0.6557044982910156,
          0.6355476379394531,
          0.61749267578125,
          0.6016044616699219,
          0.586517333984375,
          0.5728073120117188,
          0.5608291625976562,
          0.5485153198242188,
          0.5368194580078125,
          0.5269317626953125,
          0.5175933837890625,
          0.5095977783203125,
          0.5009307861328125,
          0.49192047119140625,
          0.483001708984375,
          0.4781341552734375,
          0.470855712890625,
          0.4651336669921875,
          0.45709228515625,
          0.45135498046875,
          0.44342041015625,
          0.438507080078125,
          0.4317626953125,
          0.4289398193359375,
          0.424591064453125,
          0.418853759765625,
          0.417877197265625,
          0.409393310546875,
          0.406036376953125,
          0.4014892578125,
          0.395751953125,
          0.3968505859375,
          0.388946533203125,
          0.38812255859375,
          0.386383056640625,
          0.383941650390625,
          0.38067626953125,
          0.3765869140625,
          0.371795654296875,
          0.365997314453125,
          0.359344482421875,
          0.36224365234375,
          0.32666015625,
          0.3092041015625,
          0.29132080078125,
          0.28875732421875,
          0.26531982421875,
          0.2491455078125,
          0.2498779296875,
          0.23876953125,
          0.216552734375,
          0.232421875,
          0.2216796875,
          0.1865234375,
          0.19140625,
          0.193359375,
          0.17431640625,
          0.143310546875
         ]
        }
       ],
       "layout": {
        "template": {
         "data": {
          "bar": [
           {
            "error_x": {
             "color": "#2a3f5f"
            },
            "error_y": {
             "color": "#2a3f5f"
            },
            "marker": {
             "line": {
              "color": "#E5ECF6",
              "width": 0.5
             }
            },
            "type": "bar"
           }
          ],
          "barpolar": [
           {
            "marker": {
             "line": {
              "color": "#E5ECF6",
              "width": 0.5
             }
            },
            "type": "barpolar"
           }
          ],
          "carpet": [
           {
            "aaxis": {
             "endlinecolor": "#2a3f5f",
             "gridcolor": "white",
             "linecolor": "white",
             "minorgridcolor": "white",
             "startlinecolor": "#2a3f5f"
            },
            "baxis": {
             "endlinecolor": "#2a3f5f",
             "gridcolor": "white",
             "linecolor": "white",
             "minorgridcolor": "white",
             "startlinecolor": "#2a3f5f"
            },
            "type": "carpet"
           }
          ],
          "choropleth": [
           {
            "colorbar": {
             "outlinewidth": 0,
             "ticks": ""
            },
            "type": "choropleth"
           }
          ],
          "contour": [
           {
            "colorbar": {
             "outlinewidth": 0,
             "ticks": ""
            },
            "colorscale": [
             [
              0,
              "#0d0887"
             ],
             [
              0.1111111111111111,
              "#46039f"
             ],
             [
              0.2222222222222222,
              "#7201a8"
             ],
             [
              0.3333333333333333,
              "#9c179e"
             ],
             [
              0.4444444444444444,
              "#bd3786"
             ],
             [
              0.5555555555555556,
              "#d8576b"
             ],
             [
              0.6666666666666666,
              "#ed7953"
             ],
             [
              0.7777777777777778,
              "#fb9f3a"
             ],
             [
              0.8888888888888888,
              "#fdca26"
             ],
             [
              1,
              "#f0f921"
             ]
            ],
            "type": "contour"
           }
          ],
          "contourcarpet": [
           {
            "colorbar": {
             "outlinewidth": 0,
             "ticks": ""
            },
            "type": "contourcarpet"
           }
          ],
          "heatmap": [
           {
            "colorbar": {
             "outlinewidth": 0,
             "ticks": ""
            },
            "colorscale": [
             [
              0,
              "#0d0887"
             ],
             [
              0.1111111111111111,
              "#46039f"
             ],
             [
              0.2222222222222222,
              "#7201a8"
             ],
             [
              0.3333333333333333,
              "#9c179e"
             ],
             [
              0.4444444444444444,
              "#bd3786"
             ],
             [
              0.5555555555555556,
              "#d8576b"
             ],
             [
              0.6666666666666666,
              "#ed7953"
             ],
             [
              0.7777777777777778,
              "#fb9f3a"
             ],
             [
              0.8888888888888888,
              "#fdca26"
             ],
             [
              1,
              "#f0f921"
             ]
            ],
            "type": "heatmap"
           }
          ],
          "heatmapgl": [
           {
            "colorbar": {
             "outlinewidth": 0,
             "ticks": ""
            },
            "colorscale": [
             [
              0,
              "#0d0887"
             ],
             [
              0.1111111111111111,
              "#46039f"
             ],
             [
              0.2222222222222222,
              "#7201a8"
             ],
             [
              0.3333333333333333,
              "#9c179e"
             ],
             [
              0.4444444444444444,
              "#bd3786"
             ],
             [
              0.5555555555555556,
              "#d8576b"
             ],
             [
              0.6666666666666666,
              "#ed7953"
             ],
             [
              0.7777777777777778,
              "#fb9f3a"
             ],
             [
              0.8888888888888888,
              "#fdca26"
             ],
             [
              1,
              "#f0f921"
             ]
            ],
            "type": "heatmapgl"
           }
          ],
          "histogram": [
           {
            "marker": {
             "colorbar": {
              "outlinewidth": 0,
              "ticks": ""
             }
            },
            "type": "histogram"
           }
          ],
          "histogram2d": [
           {
            "colorbar": {
             "outlinewidth": 0,
             "ticks": ""
            },
            "colorscale": [
             [
              0,
              "#0d0887"
             ],
             [
              0.1111111111111111,
              "#46039f"
             ],
             [
              0.2222222222222222,
              "#7201a8"
             ],
             [
              0.3333333333333333,
              "#9c179e"
             ],
             [
              0.4444444444444444,
              "#bd3786"
             ],
             [
              0.5555555555555556,
              "#d8576b"
             ],
             [
              0.6666666666666666,
              "#ed7953"
             ],
             [
              0.7777777777777778,
              "#fb9f3a"
             ],
             [
              0.8888888888888888,
              "#fdca26"
             ],
             [
              1,
              "#f0f921"
             ]
            ],
            "type": "histogram2d"
           }
          ],
          "histogram2dcontour": [
           {
            "colorbar": {
             "outlinewidth": 0,
             "ticks": ""
            },
            "colorscale": [
             [
              0,
              "#0d0887"
             ],
             [
              0.1111111111111111,
              "#46039f"
             ],
             [
              0.2222222222222222,
              "#7201a8"
             ],
             [
              0.3333333333333333,
              "#9c179e"
             ],
             [
              0.4444444444444444,
              "#bd3786"
             ],
             [
              0.5555555555555556,
              "#d8576b"
             ],
             [
              0.6666666666666666,
              "#ed7953"
             ],
             [
              0.7777777777777778,
              "#fb9f3a"
             ],
             [
              0.8888888888888888,
              "#fdca26"
             ],
             [
              1,
              "#f0f921"
             ]
            ],
            "type": "histogram2dcontour"
           }
          ],
          "mesh3d": [
           {
            "colorbar": {
             "outlinewidth": 0,
             "ticks": ""
            },
            "type": "mesh3d"
           }
          ],
          "parcoords": [
           {
            "line": {
             "colorbar": {
              "outlinewidth": 0,
              "ticks": ""
             }
            },
            "type": "parcoords"
           }
          ],
          "pie": [
           {
            "automargin": true,
            "type": "pie"
           }
          ],
          "scatter": [
           {
            "marker": {
             "colorbar": {
              "outlinewidth": 0,
              "ticks": ""
             }
            },
            "type": "scatter"
           }
          ],
          "scatter3d": [
           {
            "line": {
             "colorbar": {
              "outlinewidth": 0,
              "ticks": ""
             }
            },
            "marker": {
             "colorbar": {
              "outlinewidth": 0,
              "ticks": ""
             }
            },
            "type": "scatter3d"
           }
          ],
          "scattercarpet": [
           {
            "marker": {
             "colorbar": {
              "outlinewidth": 0,
              "ticks": ""
             }
            },
            "type": "scattercarpet"
           }
          ],
          "scattergeo": [
           {
            "marker": {
             "colorbar": {
              "outlinewidth": 0,
              "ticks": ""
             }
            },
            "type": "scattergeo"
           }
          ],
          "scattergl": [
           {
            "marker": {
             "colorbar": {
              "outlinewidth": 0,
              "ticks": ""
             }
            },
            "type": "scattergl"
           }
          ],
          "scattermapbox": [
           {
            "marker": {
             "colorbar": {
              "outlinewidth": 0,
              "ticks": ""
             }
            },
            "type": "scattermapbox"
           }
          ],
          "scatterpolar": [
           {
            "marker": {
             "colorbar": {
              "outlinewidth": 0,
              "ticks": ""
             }
            },
            "type": "scatterpolar"
           }
          ],
          "scatterpolargl": [
           {
            "marker": {
             "colorbar": {
              "outlinewidth": 0,
              "ticks": ""
             }
            },
            "type": "scatterpolargl"
           }
          ],
          "scatterternary": [
           {
            "marker": {
             "colorbar": {
              "outlinewidth": 0,
              "ticks": ""
             }
            },
            "type": "scatterternary"
           }
          ],
          "surface": [
           {
            "colorbar": {
             "outlinewidth": 0,
             "ticks": ""
            },
            "colorscale": [
             [
              0,
              "#0d0887"
             ],
             [
              0.1111111111111111,
              "#46039f"
             ],
             [
              0.2222222222222222,
              "#7201a8"
             ],
             [
              0.3333333333333333,
              "#9c179e"
             ],
             [
              0.4444444444444444,
              "#bd3786"
             ],
             [
              0.5555555555555556,
              "#d8576b"
             ],
             [
              0.6666666666666666,
              "#ed7953"
             ],
             [
              0.7777777777777778,
              "#fb9f3a"
             ],
             [
              0.8888888888888888,
              "#fdca26"
             ],
             [
              1,
              "#f0f921"
             ]
            ],
            "type": "surface"
           }
          ],
          "table": [
           {
            "cells": {
             "fill": {
              "color": "#EBF0F8"
             },
             "line": {
              "color": "white"
             }
            },
            "header": {
             "fill": {
              "color": "#C8D4E3"
             },
             "line": {
              "color": "white"
             }
            },
            "type": "table"
           }
          ]
         },
         "layout": {
          "annotationdefaults": {
           "arrowcolor": "#2a3f5f",
           "arrowhead": 0,
           "arrowwidth": 1
          },
          "coloraxis": {
           "colorbar": {
            "outlinewidth": 0,
            "ticks": ""
           }
          },
          "colorscale": {
           "diverging": [
            [
             0,
             "#8e0152"
            ],
            [
             0.1,
             "#c51b7d"
            ],
            [
             0.2,
             "#de77ae"
            ],
            [
             0.3,
             "#f1b6da"
            ],
            [
             0.4,
             "#fde0ef"
            ],
            [
             0.5,
             "#f7f7f7"
            ],
            [
             0.6,
             "#e6f5d0"
            ],
            [
             0.7,
             "#b8e186"
            ],
            [
             0.8,
             "#7fbc41"
            ],
            [
             0.9,
             "#4d9221"
            ],
            [
             1,
             "#276419"
            ]
           ],
           "sequential": [
            [
             0,
             "#0d0887"
            ],
            [
             0.1111111111111111,
             "#46039f"
            ],
            [
             0.2222222222222222,
             "#7201a8"
            ],
            [
             0.3333333333333333,
             "#9c179e"
            ],
            [
             0.4444444444444444,
             "#bd3786"
            ],
            [
             0.5555555555555556,
             "#d8576b"
            ],
            [
             0.6666666666666666,
             "#ed7953"
            ],
            [
             0.7777777777777778,
             "#fb9f3a"
            ],
            [
             0.8888888888888888,
             "#fdca26"
            ],
            [
             1,
             "#f0f921"
            ]
           ],
           "sequentialminus": [
            [
             0,
             "#0d0887"
            ],
            [
             0.1111111111111111,
             "#46039f"
            ],
            [
             0.2222222222222222,
             "#7201a8"
            ],
            [
             0.3333333333333333,
             "#9c179e"
            ],
            [
             0.4444444444444444,
             "#bd3786"
            ],
            [
             0.5555555555555556,
             "#d8576b"
            ],
            [
             0.6666666666666666,
             "#ed7953"
            ],
            [
             0.7777777777777778,
             "#fb9f3a"
            ],
            [
             0.8888888888888888,
             "#fdca26"
            ],
            [
             1,
             "#f0f921"
            ]
           ]
          },
          "colorway": [
           "#636efa",
           "#EF553B",
           "#00cc96",
           "#ab63fa",
           "#FFA15A",
           "#19d3f3",
           "#FF6692",
           "#B6E880",
           "#FF97FF",
           "#FECB52"
          ],
          "font": {
           "color": "#2a3f5f"
          },
          "geo": {
           "bgcolor": "white",
           "lakecolor": "white",
           "landcolor": "#E5ECF6",
           "showlakes": true,
           "showland": true,
           "subunitcolor": "white"
          },
          "hoverlabel": {
           "align": "left"
          },
          "hovermode": "closest",
          "mapbox": {
           "style": "light"
          },
          "paper_bgcolor": "white",
          "plot_bgcolor": "#E5ECF6",
          "polar": {
           "angularaxis": {
            "gridcolor": "white",
            "linecolor": "white",
            "ticks": ""
           },
           "bgcolor": "#E5ECF6",
           "radialaxis": {
            "gridcolor": "white",
            "linecolor": "white",
            "ticks": ""
           }
          },
          "scene": {
           "xaxis": {
            "backgroundcolor": "#E5ECF6",
            "gridcolor": "white",
            "gridwidth": 2,
            "linecolor": "white",
            "showbackground": true,
            "ticks": "",
            "zerolinecolor": "white"
           },
           "yaxis": {
            "backgroundcolor": "#E5ECF6",
            "gridcolor": "white",
            "gridwidth": 2,
            "linecolor": "white",
            "showbackground": true,
            "ticks": "",
            "zerolinecolor": "white"
           },
           "zaxis": {
            "backgroundcolor": "#E5ECF6",
            "gridcolor": "white",
            "gridwidth": 2,
            "linecolor": "white",
            "showbackground": true,
            "ticks": "",
            "zerolinecolor": "white"
           }
          },
          "shapedefaults": {
           "line": {
            "color": "#2a3f5f"
           }
          },
          "ternary": {
           "aaxis": {
            "gridcolor": "white",
            "linecolor": "white",
            "ticks": ""
           },
           "baxis": {
            "gridcolor": "white",
            "linecolor": "white",
            "ticks": ""
           },
           "bgcolor": "#E5ECF6",
           "caxis": {
            "gridcolor": "white",
            "linecolor": "white",
            "ticks": ""
           }
          },
          "title": {
           "x": 0.05
          },
          "xaxis": {
           "automargin": true,
           "gridcolor": "white",
           "linecolor": "white",
           "ticks": "",
           "title": {
            "standoff": 15
           },
           "zerolinecolor": "white",
           "zerolinewidth": 2
          },
          "yaxis": {
           "automargin": true,
           "gridcolor": "white",
           "linecolor": "white",
           "ticks": "",
           "title": {
            "standoff": 15
           },
           "zerolinecolor": "white",
           "zerolinewidth": 2
          }
         }
        },
        "xaxis": {
         "title": {
          "text": "beta_l"
         }
        },
        "yaxis": {
         "title": {
          "text": "gamma*"
         }
        }
       }
      },
      "text/html": [
       "<div>                            <div id=\"9e549cf6-7683-43d2-9709-c479b7bb04fb\" class=\"plotly-graph-div\" style=\"height:525px; width:100%;\"></div>            <script type=\"text/javascript\">                require([\"plotly\"], function(Plotly) {                    window.PLOTLYENV=window.PLOTLYENV || {};                                    if (document.getElementById(\"9e549cf6-7683-43d2-9709-c479b7bb04fb\")) {                    Plotly.newPlot(                        \"9e549cf6-7683-43d2-9709-c479b7bb04fb\",                        [{\"mode\": \"markers\", \"name\": \"gamma*\", \"type\": \"scatter\", \"x\": [0.1, 0.2, 0.3, 0.4, 0.5, 0.6, 0.7, 0.8, 0.9, 1, 1.1, 1.2, 1.3, 1.4, 1.5, 1.6, 1.7, 1.8, 1.9, 2, 2.1, 2.2, 2.3, 2.4, 2.5, 2.6, 2.7, 2.8, 2.9, 3, 3.1, 3.2, 3.3, 3.4, 3.5, 3.6, 3.7, 3.8, 3.9, 4, 4.1, 4.2, 4.3, 4.4, 4.5, 4.6, 4.7, 4.8, 4.9, 6, 7, 8, 9, 10, 11, 12, 13, 14, 16, 18, 20, 22, 24, 26, 28], \"y\": [0.9161186218261719, 0.8541460037231445, 0.8055686950683594, 0.7655029296875, 0.7321510314941406, 0.7032146453857422, 0.6780910491943359, 0.6557044982910156, 0.6355476379394531, 0.61749267578125, 0.6016044616699219, 0.586517333984375, 0.5728073120117188, 0.5608291625976562, 0.5485153198242188, 0.5368194580078125, 0.5269317626953125, 0.5175933837890625, 0.5095977783203125, 0.5009307861328125, 0.49192047119140625, 0.483001708984375, 0.4781341552734375, 0.470855712890625, 0.4651336669921875, 0.45709228515625, 0.45135498046875, 0.44342041015625, 0.438507080078125, 0.4317626953125, 0.4289398193359375, 0.424591064453125, 0.418853759765625, 0.417877197265625, 0.409393310546875, 0.406036376953125, 0.4014892578125, 0.395751953125, 0.3968505859375, 0.388946533203125, 0.38812255859375, 0.386383056640625, 0.383941650390625, 0.38067626953125, 0.3765869140625, 0.371795654296875, 0.365997314453125, 0.359344482421875, 0.36224365234375, 0.32666015625, 0.3092041015625, 0.29132080078125, 0.28875732421875, 0.26531982421875, 0.2491455078125, 0.2498779296875, 0.23876953125, 0.216552734375, 0.232421875, 0.2216796875, 0.1865234375, 0.19140625, 0.193359375, 0.17431640625, 0.143310546875]}],                        {\"template\": {\"data\": {\"bar\": [{\"error_x\": {\"color\": \"#2a3f5f\"}, \"error_y\": {\"color\": \"#2a3f5f\"}, \"marker\": {\"line\": {\"color\": \"#E5ECF6\", \"width\": 0.5}}, \"type\": \"bar\"}], \"barpolar\": [{\"marker\": {\"line\": {\"color\": \"#E5ECF6\", \"width\": 0.5}}, \"type\": \"barpolar\"}], \"carpet\": [{\"aaxis\": {\"endlinecolor\": \"#2a3f5f\", \"gridcolor\": \"white\", \"linecolor\": \"white\", \"minorgridcolor\": \"white\", \"startlinecolor\": \"#2a3f5f\"}, \"baxis\": {\"endlinecolor\": \"#2a3f5f\", \"gridcolor\": \"white\", \"linecolor\": \"white\", \"minorgridcolor\": \"white\", \"startlinecolor\": \"#2a3f5f\"}, \"type\": \"carpet\"}], \"choropleth\": [{\"colorbar\": {\"outlinewidth\": 0, \"ticks\": \"\"}, \"type\": \"choropleth\"}], \"contour\": [{\"colorbar\": {\"outlinewidth\": 0, \"ticks\": \"\"}, \"colorscale\": [[0.0, \"#0d0887\"], [0.1111111111111111, \"#46039f\"], [0.2222222222222222, \"#7201a8\"], [0.3333333333333333, \"#9c179e\"], [0.4444444444444444, \"#bd3786\"], [0.5555555555555556, \"#d8576b\"], [0.6666666666666666, \"#ed7953\"], [0.7777777777777778, \"#fb9f3a\"], [0.8888888888888888, \"#fdca26\"], [1.0, \"#f0f921\"]], \"type\": \"contour\"}], \"contourcarpet\": [{\"colorbar\": {\"outlinewidth\": 0, \"ticks\": \"\"}, \"type\": \"contourcarpet\"}], \"heatmap\": [{\"colorbar\": {\"outlinewidth\": 0, \"ticks\": \"\"}, \"colorscale\": [[0.0, \"#0d0887\"], [0.1111111111111111, \"#46039f\"], [0.2222222222222222, \"#7201a8\"], [0.3333333333333333, \"#9c179e\"], [0.4444444444444444, \"#bd3786\"], [0.5555555555555556, \"#d8576b\"], [0.6666666666666666, \"#ed7953\"], [0.7777777777777778, \"#fb9f3a\"], [0.8888888888888888, \"#fdca26\"], [1.0, \"#f0f921\"]], \"type\": \"heatmap\"}], \"heatmapgl\": [{\"colorbar\": {\"outlinewidth\": 0, \"ticks\": \"\"}, \"colorscale\": [[0.0, \"#0d0887\"], [0.1111111111111111, \"#46039f\"], [0.2222222222222222, \"#7201a8\"], [0.3333333333333333, \"#9c179e\"], [0.4444444444444444, \"#bd3786\"], [0.5555555555555556, \"#d8576b\"], [0.6666666666666666, \"#ed7953\"], [0.7777777777777778, \"#fb9f3a\"], [0.8888888888888888, \"#fdca26\"], [1.0, \"#f0f921\"]], \"type\": \"heatmapgl\"}], \"histogram\": [{\"marker\": {\"colorbar\": {\"outlinewidth\": 0, \"ticks\": \"\"}}, \"type\": \"histogram\"}], \"histogram2d\": [{\"colorbar\": {\"outlinewidth\": 0, \"ticks\": \"\"}, \"colorscale\": [[0.0, \"#0d0887\"], [0.1111111111111111, \"#46039f\"], [0.2222222222222222, \"#7201a8\"], [0.3333333333333333, \"#9c179e\"], [0.4444444444444444, \"#bd3786\"], [0.5555555555555556, \"#d8576b\"], [0.6666666666666666, \"#ed7953\"], [0.7777777777777778, \"#fb9f3a\"], [0.8888888888888888, \"#fdca26\"], [1.0, \"#f0f921\"]], \"type\": \"histogram2d\"}], \"histogram2dcontour\": [{\"colorbar\": {\"outlinewidth\": 0, \"ticks\": \"\"}, \"colorscale\": [[0.0, \"#0d0887\"], [0.1111111111111111, \"#46039f\"], [0.2222222222222222, \"#7201a8\"], [0.3333333333333333, \"#9c179e\"], [0.4444444444444444, \"#bd3786\"], [0.5555555555555556, \"#d8576b\"], [0.6666666666666666, \"#ed7953\"], [0.7777777777777778, \"#fb9f3a\"], [0.8888888888888888, \"#fdca26\"], [1.0, \"#f0f921\"]], \"type\": \"histogram2dcontour\"}], \"mesh3d\": [{\"colorbar\": {\"outlinewidth\": 0, \"ticks\": \"\"}, \"type\": \"mesh3d\"}], \"parcoords\": [{\"line\": {\"colorbar\": {\"outlinewidth\": 0, \"ticks\": \"\"}}, \"type\": \"parcoords\"}], \"pie\": [{\"automargin\": true, \"type\": \"pie\"}], \"scatter\": [{\"marker\": {\"colorbar\": {\"outlinewidth\": 0, \"ticks\": \"\"}}, \"type\": \"scatter\"}], \"scatter3d\": [{\"line\": {\"colorbar\": {\"outlinewidth\": 0, \"ticks\": \"\"}}, \"marker\": {\"colorbar\": {\"outlinewidth\": 0, \"ticks\": \"\"}}, \"type\": \"scatter3d\"}], \"scattercarpet\": [{\"marker\": {\"colorbar\": {\"outlinewidth\": 0, \"ticks\": \"\"}}, \"type\": \"scattercarpet\"}], \"scattergeo\": [{\"marker\": {\"colorbar\": {\"outlinewidth\": 0, \"ticks\": \"\"}}, \"type\": \"scattergeo\"}], \"scattergl\": [{\"marker\": {\"colorbar\": {\"outlinewidth\": 0, \"ticks\": \"\"}}, \"type\": \"scattergl\"}], \"scattermapbox\": [{\"marker\": {\"colorbar\": {\"outlinewidth\": 0, \"ticks\": \"\"}}, \"type\": \"scattermapbox\"}], \"scatterpolar\": [{\"marker\": {\"colorbar\": {\"outlinewidth\": 0, \"ticks\": \"\"}}, \"type\": \"scatterpolar\"}], \"scatterpolargl\": [{\"marker\": {\"colorbar\": {\"outlinewidth\": 0, \"ticks\": \"\"}}, \"type\": \"scatterpolargl\"}], \"scatterternary\": [{\"marker\": {\"colorbar\": {\"outlinewidth\": 0, \"ticks\": \"\"}}, \"type\": \"scatterternary\"}], \"surface\": [{\"colorbar\": {\"outlinewidth\": 0, \"ticks\": \"\"}, \"colorscale\": [[0.0, \"#0d0887\"], [0.1111111111111111, \"#46039f\"], [0.2222222222222222, \"#7201a8\"], [0.3333333333333333, \"#9c179e\"], [0.4444444444444444, \"#bd3786\"], [0.5555555555555556, \"#d8576b\"], [0.6666666666666666, \"#ed7953\"], [0.7777777777777778, \"#fb9f3a\"], [0.8888888888888888, \"#fdca26\"], [1.0, \"#f0f921\"]], \"type\": \"surface\"}], \"table\": [{\"cells\": {\"fill\": {\"color\": \"#EBF0F8\"}, \"line\": {\"color\": \"white\"}}, \"header\": {\"fill\": {\"color\": \"#C8D4E3\"}, \"line\": {\"color\": \"white\"}}, \"type\": \"table\"}]}, \"layout\": {\"annotationdefaults\": {\"arrowcolor\": \"#2a3f5f\", \"arrowhead\": 0, \"arrowwidth\": 1}, \"coloraxis\": {\"colorbar\": {\"outlinewidth\": 0, \"ticks\": \"\"}}, \"colorscale\": {\"diverging\": [[0, \"#8e0152\"], [0.1, \"#c51b7d\"], [0.2, \"#de77ae\"], [0.3, \"#f1b6da\"], [0.4, \"#fde0ef\"], [0.5, \"#f7f7f7\"], [0.6, \"#e6f5d0\"], [0.7, \"#b8e186\"], [0.8, \"#7fbc41\"], [0.9, \"#4d9221\"], [1, \"#276419\"]], \"sequential\": [[0.0, \"#0d0887\"], [0.1111111111111111, \"#46039f\"], [0.2222222222222222, \"#7201a8\"], [0.3333333333333333, \"#9c179e\"], [0.4444444444444444, \"#bd3786\"], [0.5555555555555556, \"#d8576b\"], [0.6666666666666666, \"#ed7953\"], [0.7777777777777778, \"#fb9f3a\"], [0.8888888888888888, \"#fdca26\"], [1.0, \"#f0f921\"]], \"sequentialminus\": [[0.0, \"#0d0887\"], [0.1111111111111111, \"#46039f\"], [0.2222222222222222, \"#7201a8\"], [0.3333333333333333, \"#9c179e\"], [0.4444444444444444, \"#bd3786\"], [0.5555555555555556, \"#d8576b\"], [0.6666666666666666, \"#ed7953\"], [0.7777777777777778, \"#fb9f3a\"], [0.8888888888888888, \"#fdca26\"], [1.0, \"#f0f921\"]]}, \"colorway\": [\"#636efa\", \"#EF553B\", \"#00cc96\", \"#ab63fa\", \"#FFA15A\", \"#19d3f3\", \"#FF6692\", \"#B6E880\", \"#FF97FF\", \"#FECB52\"], \"font\": {\"color\": \"#2a3f5f\"}, \"geo\": {\"bgcolor\": \"white\", \"lakecolor\": \"white\", \"landcolor\": \"#E5ECF6\", \"showlakes\": true, \"showland\": true, \"subunitcolor\": \"white\"}, \"hoverlabel\": {\"align\": \"left\"}, \"hovermode\": \"closest\", \"mapbox\": {\"style\": \"light\"}, \"paper_bgcolor\": \"white\", \"plot_bgcolor\": \"#E5ECF6\", \"polar\": {\"angularaxis\": {\"gridcolor\": \"white\", \"linecolor\": \"white\", \"ticks\": \"\"}, \"bgcolor\": \"#E5ECF6\", \"radialaxis\": {\"gridcolor\": \"white\", \"linecolor\": \"white\", \"ticks\": \"\"}}, \"scene\": {\"xaxis\": {\"backgroundcolor\": \"#E5ECF6\", \"gridcolor\": \"white\", \"gridwidth\": 2, \"linecolor\": \"white\", \"showbackground\": true, \"ticks\": \"\", \"zerolinecolor\": \"white\"}, \"yaxis\": {\"backgroundcolor\": \"#E5ECF6\", \"gridcolor\": \"white\", \"gridwidth\": 2, \"linecolor\": \"white\", \"showbackground\": true, \"ticks\": \"\", \"zerolinecolor\": \"white\"}, \"zaxis\": {\"backgroundcolor\": \"#E5ECF6\", \"gridcolor\": \"white\", \"gridwidth\": 2, \"linecolor\": \"white\", \"showbackground\": true, \"ticks\": \"\", \"zerolinecolor\": \"white\"}}, \"shapedefaults\": {\"line\": {\"color\": \"#2a3f5f\"}}, \"ternary\": {\"aaxis\": {\"gridcolor\": \"white\", \"linecolor\": \"white\", \"ticks\": \"\"}, \"baxis\": {\"gridcolor\": \"white\", \"linecolor\": \"white\", \"ticks\": \"\"}, \"bgcolor\": \"#E5ECF6\", \"caxis\": {\"gridcolor\": \"white\", \"linecolor\": \"white\", \"ticks\": \"\"}}, \"title\": {\"x\": 0.05}, \"xaxis\": {\"automargin\": true, \"gridcolor\": \"white\", \"linecolor\": \"white\", \"ticks\": \"\", \"title\": {\"standoff\": 15}, \"zerolinecolor\": \"white\", \"zerolinewidth\": 2}, \"yaxis\": {\"automargin\": true, \"gridcolor\": \"white\", \"linecolor\": \"white\", \"ticks\": \"\", \"title\": {\"standoff\": 15}, \"zerolinecolor\": \"white\", \"zerolinewidth\": 2}}}, \"xaxis\": {\"title\": {\"text\": \"beta_l\"}}, \"yaxis\": {\"title\": {\"text\": \"gamma*\"}}},                        {\"responsive\": true}                    ).then(function(){\n",
       "                            \n",
       "var gd = document.getElementById('9e549cf6-7683-43d2-9709-c479b7bb04fb');\n",
       "var x = new MutationObserver(function (mutations, observer) {{\n",
       "        var display = window.getComputedStyle(gd).display;\n",
       "        if (!display || display === 'none') {{\n",
       "            console.log([gd, 'removed!']);\n",
       "            Plotly.purge(gd);\n",
       "            observer.disconnect();\n",
       "        }}\n",
       "}});\n",
       "\n",
       "// Listen for the removal of the full notebook cells\n",
       "var notebookContainer = gd.closest('#notebook-container');\n",
       "if (notebookContainer) {{\n",
       "    x.observe(notebookContainer, {childList: true});\n",
       "}}\n",
       "\n",
       "// Listen for the clearing of the current output cell\n",
       "var outputEl = gd.closest('.output');\n",
       "if (outputEl) {{\n",
       "    x.observe(outputEl, {childList: true});\n",
       "}}\n",
       "\n",
       "                        })                };                });            </script>        </div>"
      ]
     },
     "metadata": {},
     "output_type": "display_data"
    }
   ],
   "source": [
    "fig = go.Figure()\n",
    "fig.add_trace(go.Scatter(x=beta_l_vec, y=gamma_star_vec,\n",
    "                    mode='markers',\n",
    "                    name = 'gamma*'))\n",
    "\n",
    "fig.update_layout(xaxis_title = \"beta_l\", yaxis_title = \"gamma*\")"
   ]
  },
  {
   "cell_type": "code",
   "execution_count": 282,
   "metadata": {},
   "outputs": [
    {
     "name": "stdout",
     "output_type": "stream",
     "text": [
      "starting round 1\n",
      "starting round 2\n",
      "starting round 3\n",
      "starting round 4\n",
      "starting round 5\n",
      "starting round 6\n",
      "starting round 7\n",
      "starting round 8\n",
      "starting round 9\n",
      "starting round 10\n",
      "starting round 11\n",
      "starting round 12\n",
      "starting round 13\n",
      "CPU times: user 6min 55s, sys: 180 ms, total: 6min 55s\n",
      "Wall time: 6min 55s\n"
     ]
    }
   ],
   "source": [
    "%time gamma_star20 = get_gamma_star(0.2, 1)"
   ]
  },
  {
   "cell_type": "markdown",
   "metadata": {},
   "source": [
    "#### Old: keeping just in case I ever need it again"
   ]
  },
  {
   "cell_type": "code",
   "execution_count": 270,
   "metadata": {},
   "outputs": [],
   "source": [
    "def bisection(f,a,b,prec, verbose = True):\n",
    "    '''Approximate solution of f(x)=0 on interval [a,b] by bisection method.\n",
    "\n",
    "    Parameters\n",
    "    ----------\n",
    "    f : function\n",
    "        The function for which we are trying to approximate a solution f(x)=0.\n",
    "    a,b : numbers\n",
    "        The interval in which to search for a solution. The function returns\n",
    "        None if f(a)*f(b) >= 0 since a solution is not guaranteed.\n",
    "    N : (positive) integer\n",
    "        The number of iterations to implement.\n",
    "\n",
    "    Returns\n",
    "    -------\n",
    "    x_N : number\n",
    "        The midpoint of the Nth interval computed by the bisection method. The\n",
    "        initial interval [a_0,b_0] is given by [a,b]. If f(m_n) == 0 for some\n",
    "        midpoint m_n = (a_n + b_n)/2, then the function returns this solution.\n",
    "        If all signs of values f(a_n), f(b_n) and f(m_n) are the same at any\n",
    "        iteration, the bisection method fails and return None.\n",
    "\n",
    "    Examples\n",
    "    --------\n",
    "    >>> f = lambda x: x**2 - x - 1\n",
    "    >>> bisection(f,1,2,25)\n",
    "    1.618033990263939\n",
    "    >>> f = lambda x: (2*x - 1)*(x - 3)\n",
    "    >>> bisection(f,0,1,10)\n",
    "    0.5\n",
    "    '''\n",
    "#    if f(a)*f(b) >= 0:\n",
    "#        print(\"Bisection method fails.\")\n",
    "#        return None\n",
    "    a_n = a\n",
    "    b_n = b\n",
    "    m_n = (a_n + b_n)/2\n",
    "    n = 0\n",
    "    while abs(f(m_n)) > prec:\n",
    "        n = n+1\n",
    "        if verbose:\n",
    "            print('starting round {}'.format(n))\n",
    "        m_n = (a_n + b_n)/2\n",
    "        f_m_n = f(m_n)\n",
    "        if f(a_n)*f_m_n < 0:\n",
    "            a_n = a_n\n",
    "            b_n = m_n\n",
    "        elif f(b_n)*f_m_n < 0:\n",
    "            a_n = m_n\n",
    "            b_n = b_n\n",
    "        elif f_m_n == 0:\n",
    "            print(\"Found exact solution.\")\n",
    "            return m_n\n",
    "        else:\n",
    "            print(\"Bisection method fails.\")\n",
    "            return None\n",
    "    return (a_n + b_n)/2"
   ]
  },
  {
   "cell_type": "code",
   "execution_count": null,
   "metadata": {},
   "outputs": [],
   "source": [
    "def immortal_squirrel_findings(l, h, birth_l, birth_h, e, num_days = 10 ):\n",
    "    #stochastic elements\n",
    "    arm_probs = [1 - l - h, l, h]\n",
    "    stay_search_probs = [1 - e, e]\n",
    "    arms_dist = GeneralDiscreteDistribution(arm_probs)\n",
    "    stay_search_dist = GeneralDiscreteDistribution(stay_search_probs)\n",
    "    \n",
    "    #environmental\n",
    "    payout_vec = [0, birth_l, birth_h]\n",
    "    findings = [0]*num_days\n",
    "    \n",
    "    #initialize\n",
    "    at_null = False\n",
    "    at_low = False\n",
    "    at_high = False\n",
    "    \n",
    "    #first day\n",
    "    arm = arms_dist.get_random_element()\n",
    "    found = payout_vec[arm]\n",
    "    findings[0] = found\n",
    "    \n",
    "    if arm == 0:\n",
    "        at_null = True\n",
    "    if arm == 1:\n",
    "        at_low = True\n",
    "    if arm == 2:\n",
    "        at_high = True\n",
    "    \n",
    "    #now run through the rest of the days\n",
    "    for d in range(1, num_days):\n",
    "        #decide: will I search today?\n",
    "        if at_high:\n",
    "            will_search = False\n",
    "        if at_null:\n",
    "            will_search = True\n",
    "            at_null = False\n",
    "        if at_low:\n",
    "            will_search = stay_search_dist.get_random_element()\n",
    "            at_low = False\n",
    "            \n",
    "        if will_search:\n",
    "            arm = arms_dist.get_random_element()\n",
    "        \n",
    "        #If I searched, I pick an arm and go. If I didn't my arm is the same as yesterday.\n",
    "        found = payout_vec[arm]\n",
    "        if arm == 0:\n",
    "            at_null = True\n",
    "        if arm == 1:\n",
    "            at_low = True\n",
    "        if arm == 2:\n",
    "            at_high = True\n",
    "            \n",
    "            \n",
    "        findings[d] = found\n",
    "        \n",
    "    return findings\n",
    "            \n",
    "        \n",
    "        "
   ]
  }
 ],
 "metadata": {
  "kernelspec": {
   "display_name": "SageMath 9.2",
   "language": "sage",
   "name": "sagemath"
  },
  "language_info": {
   "codemirror_mode": {
    "name": "ipython",
    "version": 3
   },
   "file_extension": ".py",
   "mimetype": "text/x-python",
   "name": "python",
   "nbconvert_exporter": "python",
   "pygments_lexer": "ipython3",
   "version": "3.9.1"
  }
 },
 "nbformat": 4,
 "nbformat_minor": 2
}
