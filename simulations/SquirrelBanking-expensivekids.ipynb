{
 "cells": [
  {
   "cell_type": "markdown",
   "metadata": {},
   "source": [
    "#### P[i] is P(X = i) (sage automatically normalizes). The second cell demonstrates that we do indeed get what we want to. "
   ]
  },
  {
   "cell_type": "code",
   "execution_count": 70,
   "metadata": {
    "collapsed": false
   },
   "outputs": [],
   "source": [
    "P = [.1, .5, .4]\n",
    "X = GeneralDiscreteDistribution(P)"
   ]
  },
  {
   "cell_type": "code",
   "execution_count": 81,
   "metadata": {
    "collapsed": false
   },
   "outputs": [
    {
     "name": "stdout",
     "output_type": "stream",
     "text": [
      "[0.101500000000000, 0.495600000000000, 0.402900000000000]\n"
     ]
    }
   ],
   "source": [
    "counts = [0]*len(P)\n",
    "for _ in range(10000):\n",
    "    counts[X.get_random_element()] += 1\n",
    "print [x/10000.n() for x in counts]"
   ]
  },
  {
   "cell_type": "markdown",
   "metadata": {},
   "source": [
    "#### What happens is we let the squirrel live for a maximum of n (which defaults to 1,000) days. We see both how long it lives and how many offspring it produces in its lifetime (which is necesarily a maximum of n). "
   ]
  },
  {
   "cell_type": "markdown",
   "metadata": {},
   "source": [
    "#### In the simulation, offspring threshold is the point up until which the squirrel is saving nuts. Once it has more nuts than the threshold, it turns those nuts into baby squirrels (which play no part in this model, beyond us counting them). "
   ]
  },
  {
   "cell_type": "code",
   "execution_count": 38,
   "metadata": {
    "collapsed": false
   },
   "outputs": [],
   "source": [
    "def run_simulation(Z, nuts_for_kid, offspring_threshold, n = 1000, verbose = True):\n",
    "    if offspring_threshold < nuts_for_kid:\n",
    "        return \"variable offspring_threshold must be at least as large as variable nuts_for_kid\"\n",
    "    else:\n",
    "        nuts_in_storage = 0\n",
    "        offspring_count = 0\n",
    "        for t in range(1, n):\n",
    "            nuts_in_storage += Z.get_random_element()\n",
    "            nuts_in_storage += -1\n",
    "            if nuts_in_storage >= offspring_threshold:\n",
    "                number_of_kids = floor((nuts_in_storage-offspring_threshold + 1)/nuts_for_kid)\n",
    "                offspring_count += number_of_kids\n",
    "                nuts_in_storage += -number_of_kids*nuts_for_kid\n",
    "            if nuts_in_storage < 0:\n",
    "                if verbose:\n",
    "                    print \"Oh no! You ran out of nuts at round {}. You had {} offspring\".format(t, offspring_count)\n",
    "                else:\n",
    "                    return t, offspring_count\n",
    "                break\n",
    "            if t == n-1:\n",
    "                if verbose:\n",
    "                    print \"You did it! You survived all {} days, and in that time had {} offspring\".format(t, offspring_count)\n",
    "                else:\n",
    "                    return t, offspring_count"
   ]
  },
  {
   "cell_type": "markdown",
   "metadata": {},
   "source": [
    "#### Let's try running a few simulations and see what we get."
   ]
  },
  {
   "cell_type": "code",
   "execution_count": 78,
   "metadata": {
    "collapsed": false
   },
   "outputs": [
    {
     "name": "stdout",
     "output_type": "stream",
     "text": [
      "Oh no! You ran out of nuts at round 182. You had 22 offspring\n",
      "You did it! You survived all 999 days, and in that time had 153 offspring\n",
      "Oh no! You ran out of nuts at round 7. You had 0 offspring\n",
      "Oh no! You ran out of nuts at round 336. You had 47 offspring\n",
      "Oh no! You ran out of nuts at round 1. You had 0 offspring\n"
     ]
    }
   ],
   "source": [
    "for _ in range(5):\n",
    "    run_simulation(X, 2, offspring_threshold = 3)"
   ]
  },
  {
   "cell_type": "code",
   "execution_count": null,
   "metadata": {
    "collapsed": false
   },
   "outputs": [],
   "source": []
  },
  {
   "cell_type": "markdown",
   "metadata": {},
   "source": [
    "#### In this next block, we explore different strategies under the same distribution of resources X. We simuate 500 different squirrels under the assumption they have an offspring threshold of k (for k between 1 and 19). We then take the average of their lifespan, the number of kids they had in their lives, and finally the offspring per life duration. "
   ]
  },
  {
   "cell_type": "code",
   "execution_count": 80,
   "metadata": {
    "collapsed": false
   },
   "outputs": [
    {
     "name": "stdout",
     "output_type": "stream",
     "text": [
      "2 82.7040000000000 13.1260000000000 0.112873012565971\n",
      "3 297.228000000000 45.3480000000000 0.109320091757503\n",
      "4 577.996000000000 86.8460000000000 0.107532167386121\n",
      "5 704.194000000000 104.272000000000 0.110337697145884\n",
      "6 769.802000000000 113.202000000000 0.114997647003068\n",
      "7 774.760000000000 114.412000000000 0.114802964576739\n",
      "8 738.186000000000 107.862000000000 0.107969969969970\n",
      "9 756.132000000000 110.426000000000 0.110536536536537\n"
     ]
    }
   ],
   "source": [
    "for k in range(2, 10):\n",
    "    tenthousand_lifetimes = []\n",
    "    tenthousand_offspring = []\n",
    "    tenthousand_offspring_by_lifetime = []\n",
    "    for _ in range(500):\n",
    "        lifetime, offspring = run_simulation(X, 2, k, n = 1000, verbose=False)\n",
    "        tenthousand_lifetimes.append(lifetime)\n",
    "        tenthousand_offspring.append(offspring)\n",
    "        offspring_by_lifetime = offspring/lifetime\n",
    "        tenthousand_offspring_by_lifetime.append(offspring_by_lifetime)\n",
    "    print k, mean(tenthousand_lifetimes).n(), mean(tenthousand_offspring).n(), mean(tenthousand_offspring_by_lifetime).n()\n",
    "\n",
    "    "
   ]
  },
  {
   "cell_type": "code",
   "execution_count": 266,
   "metadata": {
    "collapsed": false
   },
   "outputs": [
    {
     "name": "stdout",
     "output_type": "stream",
     "text": [
      "Oh no! You ran out of nuts at round 3. You had 0 offspring\n"
     ]
    }
   ],
   "source": [
    "run_simulation(X, 14)"
   ]
  },
  {
   "cell_type": "code",
   "execution_count": null,
   "metadata": {
    "collapsed": false
   },
   "outputs": [],
   "source": []
  },
  {
   "cell_type": "code",
   "execution_count": null,
   "metadata": {
    "collapsed": true
   },
   "outputs": [],
   "source": []
  }
 ],
 "metadata": {
  "kernelspec": {
   "display_name": "SageMath 7.5.1",
   "language": "",
   "name": "sagemath"
  },
  "language_info": {
   "codemirror_mode": {
    "name": "ipython",
    "version": 2
   },
   "file_extension": ".py",
   "mimetype": "text/x-python",
   "name": "python",
   "nbconvert_exporter": "python",
   "pygments_lexer": "ipython2",
   "version": "2.7.13"
  }
 },
 "nbformat": 4,
 "nbformat_minor": 0
}
