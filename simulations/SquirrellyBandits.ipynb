{
 "cells": [
  {
   "cell_type": "code",
   "execution_count": 4,
   "metadata": {},
   "outputs": [],
   "source": [
    "def L_bandit(surv, e, l, h, bl, bh):\n",
    "    L = zero_matrix(SR, 3)\n",
    "    #first col:\n",
    "    L[0, 0] = 1 - l - h\n",
    "    L[1, 0] = l\n",
    "    L[2, 0] = h\n",
    "    #second col:\n",
    "    L[0, 1] = bl + e*(1 - l - h) \n",
    "    L[1, 1] = (1-e) + e*l\n",
    "    L[2, 1] = e*h\n",
    "    #third col:\n",
    "    L[0, 2] = bh\n",
    "    L[2, 2] = 1\n",
    "    L = L*surv\n",
    "    return(L)\n",
    "    "
   ]
  },
  {
   "cell_type": "code",
   "execution_count": 5,
   "metadata": {},
   "outputs": [],
   "source": [
    "s, e, l, h, bl, bh = var('s, e , l, h, bl, bh')"
   ]
  },
  {
   "cell_type": "code",
   "execution_count": 26,
   "metadata": {},
   "outputs": [],
   "source": [
    "L = L_bandit(0.9, e, 0.25, 0.01, 2, 100)"
   ]
  },
  {
   "cell_type": "code",
   "execution_count": 24,
   "metadata": {},
   "outputs": [],
   "source": [
    "L = L_bandit(s, e, l, h, bl, bh)"
   ]
  },
  {
   "cell_type": "code",
   "execution_count": 33,
   "metadata": {
    "scrolled": false
   },
   "outputs": [],
   "source": [
    "lambdas = [simplify(x) for x in L.eigenvalues()]"
   ]
  },
  {
   "cell_type": "code",
   "execution_count": 34,
   "metadata": {},
   "outputs": [],
   "source": [
    "f = lambdas[2]"
   ]
  },
  {
   "cell_type": "code",
   "execution_count": 37,
   "metadata": {},
   "outputs": [
    {
     "data": {
      "text/plain": [
       "\\frac{9 \\, {\\left({\\left(75 \\, e - 274\\right)}^{2} + 44700 \\, e + \\frac{4 \\, {\\left(168755625 \\, e^{3} + 120237000 \\, e^{2} - 246633412 \\, e + 192394400\\right)}}{\\sqrt{-506266875 \\, e^{4} - 480948000 \\, e^{3} + 1479800472 \\, e^{2} - 2308732800 \\, e - 4095630000}} - 111952\\right)} {\\left({\\left(75 \\, e - 274\\right)}^{2} + 44700 \\, e - 29400\\right)}}{40 \\, {\\left({\\left(75 \\, e - 274\\right)}^{3} + 450 \\, {\\left(149 \\, e - 98\\right)} {\\left(75 \\, e - 274\\right)} - 3510000 \\, e - 150 \\, \\sqrt{-506266875 \\, e^{4} - 480948000 \\, e^{3} + 1479800472 \\, e^{2} - 2308732800 \\, e - 4095630000} + 10260000\\right)}^{\\frac{4}{3}}} + \\frac{81 \\, {\\left(25 \\, e + 8\\right)}}{20000 \\, {\\left(-\\frac{27}{1000000000} \\, {\\left(75 \\, e - 274\\right)}^{3} - \\frac{243}{20000000} \\, {\\left(149 \\, e - 98\\right)} {\\left(75 \\, e - 274\\right)} + \\frac{9477}{100000} \\, e + \\frac{81}{20000000} \\, \\sqrt{-506266875 \\, e^{4} - 480948000 \\, e^{3} + 1479800472 \\, e^{2} - 2308732800 \\, e - 4095630000} - \\frac{13851}{50000}\\right)}^{\\frac{1}{3}}} - \\frac{9 \\, {\\left({\\left(75 \\, e - 274\\right)}^{2} + 44700 \\, e + \\frac{4 \\, {\\left(168755625 \\, e^{3} + 120237000 \\, e^{2} - 246633412 \\, e + 192394400\\right)}}{\\sqrt{-506266875 \\, e^{4} - 480948000 \\, e^{3} + 1479800472 \\, e^{2} - 2308732800 \\, e - 4095630000}} - 111952\\right)}}{40 \\, {\\left({\\left(75 \\, e - 274\\right)}^{3} + 450 \\, {\\left(149 \\, e - 98\\right)} {\\left(75 \\, e - 274\\right)} - 3510000 \\, e - 150 \\, \\sqrt{-506266875 \\, e^{4} - 480948000 \\, e^{3} + 1479800472 \\, e^{2} - 2308732800 \\, e - 4095630000} + 10260000\\right)}^{\\frac{2}{3}}} - \\frac{9}{40}"
      ]
     },
     "execution_count": 37,
     "metadata": {},
     "output_type": "execute_result"
    }
   ],
   "source": [
    "latex(diff(f, e))"
   ]
  },
  {
   "cell_type": "code",
   "execution_count": 38,
   "metadata": {},
   "outputs": [],
   "source": [
    "fprime = diff(f, e)"
   ]
  },
  {
   "cell_type": "code",
   "execution_count": 41,
   "metadata": {},
   "outputs": [
    {
     "data": {
      "text/plain": [
       "9/40*((75*e - 274)^2 + 44700*e + 4*(168755625*e^3 + 120237000*e^2 - 246633412*e + 192394400)/sqrt(-506266875*e^4 - 480948000*e^3 + 1479800472*e^2 - 2308732800*e - 4095630000) - 111952)*((75*e - 274)^2 + 44700*e - 29400)/((75*e - 274)^3 + 450*(149*e - 98)*(75*e - 274) - 3510000*e - 150*sqrt(-506266875*e^4 - 480948000*e^3 + 1479800472*e^2 - 2308732800*e - 4095630000) + 10260000)^(4/3) + 81/20000*(25*e + 8)/(-27/1000000000*(75*e - 274)^3 - 243/20000000*(149*e - 98)*(75*e - 274) + 9477/100000*e + 81/20000000*sqrt(-506266875*e^4 - 480948000*e^3 + 1479800472*e^2 - 2308732800*e - 4095630000) - 13851/50000)^(1/3) - 9/40*((75*e - 274)^2 + 44700*e + 4*(168755625*e^3 + 120237000*e^2 - 246633412*e + 192394400)/sqrt(-506266875*e^4 - 480948000*e^3 + 1479800472*e^2 - 2308732800*e - 4095630000) - 111952)/((75*e - 274)^3 + 450*(149*e - 98)*(75*e - 274) - 3510000*e - 150*sqrt(-506266875*e^4 - 480948000*e^3 + 1479800472*e^2 - 2308732800*e - 4095630000) + 10260000)^(2/3) - 9/40"
      ]
     },
     "execution_count": 41,
     "metadata": {},
     "output_type": "execute_result"
    }
   ],
   "source": [
    "fprime"
   ]
  },
  {
   "cell_type": "code",
   "execution_count": 39,
   "metadata": {},
   "outputs": [
    {
     "data": {
      "text/plain": [
       "[0 == 1898500781250000*(-729/64000*e^3 - 2187/200000*e^2 + 2240217/10000000*e + 81/20000000*sqrt(-506266875*e^4 - 480948000*e^3 + 1479800472*e^2 - 2308732800*e - 4095630000) - 1495611/31250000)^(1/3)*e^5 + 210937500*(-729/64000*e^3 - 2187/200000*e^2 + 2240217/10000000*e + 81/20000000*sqrt(-506266875*e^4 - 480948000*e^3 + 1479800472*e^2 - 2308732800*e - 4095630000) - 1495611/31250000)^(1/3)*e^4*(75*sqrt(-506266875*e^4 - 480948000*e^3 + 1479800472*e^2 - 2308732800*e - 4095630000) + 12172832) + 11250000*(24*(-729/64000*e^3 - 2187/200000*e^2 + 2240217/10000000*e + 81/20000000*sqrt(-506266875*e^4 - 480948000*e^3 + 1479800472*e^2 - 2308732800*e - 4095630000) - 1495611/31250000)^(1/3)*(75*sqrt(-506266875*e^4 - 480948000*e^3 + 1479800472*e^2 - 2308732800*e - 4095630000) + 50026831) - 30001*(421875*e^3 + 405000*e^2 - 8297100*e - 150*sqrt(-506266875*e^4 - 480948000*e^3 + 1479800472*e^2 - 2308732800*e - 4095630000) + 1772576)^(2/3)*(-729/64000*e^3 - 2187/200000*e^2 + 2240217/10000000*e + 81/20000000*sqrt(-506266875*e^4 - 480948000*e^3 + 1479800472*e^2 - 2308732800*e - 4095630000) - 1495611/31250000)^(1/3))*e^3 - 37500*(5*(421875*e^3 + 405000*e^2 - 8297100*e - 150*sqrt(-506266875*e^4 - 480948000*e^3 + 1479800472*e^2 - 2308732800*e - 4095630000) + 1772576)^(2/3)*(-729/64000*e^3 - 2187/200000*e^2 + 2240217/10000000*e + 81/20000000*sqrt(-506266875*e^4 - 480948000*e^3 + 1479800472*e^2 - 2308732800*e - 4095630000) - 1495611/31250000)^(1/3)*(15*sqrt(-506266875*e^4 - 480948000*e^3 + 1479800472*e^2 - 2308732800*e - 4095630000) + 1282528) - 32*(-729/64000*e^3 - 2187/200000*e^2 + 2240217/10000000*e + 81/20000000*sqrt(-506266875*e^4 - 480948000*e^3 + 1479800472*e^2 - 2308732800*e - 4095630000) - 1495611/31250000)^(1/3)*(26025*sqrt(-506266875*e^4 - 480948000*e^3 + 1479800472*e^2 - 2308732800*e - 4095630000) + 9477139048))*e^2 - 4*(421875*e^3 + 405000*e^2 - 8297100*e - 150*sqrt(-506266875*e^4 - 480948000*e^3 + 1479800472*e^2 - 2308732800*e - 4095630000) + 1772576)^(4/3)*(125*sqrt(-506266875*e^4 - 480948000*e^3 + 1479800472*e^2 - 2308732800*e - 4095630000)*(-729/64000*e^3 - 2187/200000*e^2 + 2240217/10000000*e + 81/20000000*sqrt(-506266875*e^4 - 480948000*e^3 + 1479800472*e^2 - 2308732800*e - 4095630000) - 1495611/31250000)^(1/3) - 18*sqrt(-506266875*e^4 - 480948000*e^3 + 1479800472*e^2 - 2308732800*e - 4095630000)) - 25*(320*(421875*e^3 + 405000*e^2 - 8297100*e - 150*sqrt(-506266875*e^4 - 480948000*e^3 + 1479800472*e^2 - 2308732800*e - 4095630000) + 1772576)^(2/3)*(-729/64000*e^3 - 2187/200000*e^2 + 2240217/10000000*e + 81/20000000*sqrt(-506266875*e^4 - 480948000*e^3 + 1479800472*e^2 - 2308732800*e - 4095630000) - 1495611/31250000)^(1/3)*(225*sqrt(-506266875*e^4 - 480948000*e^3 + 1479800472*e^2 - 2308732800*e - 4095630000) - 61658353) - 9*sqrt(-506266875*e^4 - 480948000*e^3 + 1479800472*e^2 - 2308732800*e - 4095630000)*(421875*e^3 + 405000*e^2 - 8297100*e - 150*sqrt(-506266875*e^4 - 480948000*e^3 + 1479800472*e^2 - 2308732800*e - 4095630000) + 1772576)^(4/3) - 1280*(-729/64000*e^3 - 2187/200000*e^2 + 2240217/10000000*e + 81/20000000*sqrt(-506266875*e^4 - 480948000*e^3 + 1479800472*e^2 - 2308732800*e - 4095630000) - 1495611/31250000)^(1/3)*(495000*sqrt(-506266875*e^4 - 480948000*e^3 + 1479800472*e^2 - 2308732800*e - 4095630000) - 660787992907))*e + 2000*(421875*e^3 + 405000*e^2 - 8297100*e - 150*sqrt(-506266875*e^4 - 480948000*e^3 + 1479800472*e^2 - 2308732800*e - 4095630000) + 1772576)^(2/3)*(-729/64000*e^3 - 2187/200000*e^2 + 2240217/10000000*e + 81/20000000*sqrt(-506266875*e^4 - 480948000*e^3 + 1479800472*e^2 - 2308732800*e - 4095630000) - 1495611/31250000)^(1/3)*(9219*sqrt(-506266875*e^4 - 480948000*e^3 + 1479800472*e^2 - 2308732800*e - 4095630000) - 192394400) - 91352000*(-729/64000*e^3 - 2187/200000*e^2 + 2240217/10000000*e + 81/20000000*sqrt(-506266875*e^4 - 480948000*e^3 + 1479800472*e^2 - 2308732800*e - 4095630000) - 1495611/31250000)^(1/3)*(9219*sqrt(-506266875*e^4 - 480948000*e^3 + 1479800472*e^2 - 2308732800*e - 4095630000) - 192394400)]"
      ]
     },
     "execution_count": 39,
     "metadata": {},
     "output_type": "execute_result"
    }
   ],
   "source": [
    "solve(fprime, e)"
   ]
  },
  {
   "cell_type": "code",
   "execution_count": 44,
   "metadata": {},
   "outputs": [
    {
     "ename": "TypeError",
     "evalue": "unable to simplify to float approximation",
     "output_type": "error",
     "traceback": [
      "\u001b[1;31m---------------------------------------------------------------------------\u001b[0m",
      "\u001b[1;31mTypeError\u001b[0m                                 Traceback (most recent call last)",
      "\u001b[1;32m/home/eric/ubc/research/experimental_sage/SageMath/local/lib/python3.7/site-packages/sage/symbolic/expression.pyx\u001b[0m in \u001b[0;36msage.symbolic.expression.Expression.__float__ (build/cythonized/sage/symbolic/expression.cpp:10932)\u001b[1;34m()\u001b[0m\n\u001b[0;32m   1458\u001b[0m         \u001b[1;32mtry\u001b[0m\u001b[1;33m:\u001b[0m\u001b[1;33m\u001b[0m\u001b[1;33m\u001b[0m\u001b[0m\n\u001b[1;32m-> 1459\u001b[1;33m             \u001b[0mret\u001b[0m \u001b[1;33m=\u001b[0m \u001b[0mfloat\u001b[0m\u001b[1;33m(\u001b[0m\u001b[0mself\u001b[0m\u001b[1;33m.\u001b[0m\u001b[0m_eval_self\u001b[0m\u001b[1;33m(\u001b[0m\u001b[0mfloat\u001b[0m\u001b[1;33m)\u001b[0m\u001b[1;33m)\u001b[0m\u001b[1;33m\u001b[0m\u001b[1;33m\u001b[0m\u001b[0m\n\u001b[0m\u001b[0;32m   1460\u001b[0m         \u001b[1;32mexcept\u001b[0m \u001b[0mTypeError\u001b[0m\u001b[1;33m:\u001b[0m\u001b[1;33m\u001b[0m\u001b[1;33m\u001b[0m\u001b[0m\n",
      "\u001b[1;32m/home/eric/ubc/research/experimental_sage/SageMath/local/lib/python3.7/site-packages/sage/symbolic/expression.pyx\u001b[0m in \u001b[0;36msage.symbolic.expression.Expression._eval_self (build/cythonized/sage/symbolic/expression.cpp:10063)\u001b[1;34m()\u001b[0m\n\u001b[0;32m   1266\u001b[0m         \u001b[1;32melse\u001b[0m\u001b[1;33m:\u001b[0m\u001b[1;33m\u001b[0m\u001b[1;33m\u001b[0m\u001b[0m\n\u001b[1;32m-> 1267\u001b[1;33m             \u001b[1;32mraise\u001b[0m \u001b[0mTypeError\u001b[0m\u001b[1;33m(\u001b[0m\u001b[1;34m\"Cannot evaluate symbolic expression to a numeric value.\"\u001b[0m\u001b[1;33m)\u001b[0m\u001b[1;33m\u001b[0m\u001b[1;33m\u001b[0m\u001b[0m\n\u001b[0m\u001b[0;32m   1268\u001b[0m \u001b[1;33m\u001b[0m\u001b[0m\n",
      "\u001b[1;31mTypeError\u001b[0m: Cannot evaluate symbolic expression to a numeric value.",
      "\nDuring handling of the above exception, another exception occurred:\n",
      "\u001b[1;31mTypeError\u001b[0m                                 Traceback (most recent call last)",
      "\u001b[1;32m/home/eric/ubc/research/experimental_sage/SageMath/local/lib/python3.7/site-packages/sage/symbolic/expression.pyx\u001b[0m in \u001b[0;36msage.symbolic.expression.Expression.__float__ (build/cythonized/sage/symbolic/expression.cpp:10994)\u001b[1;34m()\u001b[0m\n\u001b[0;32m   1461\u001b[0m             \u001b[1;32mtry\u001b[0m\u001b[1;33m:\u001b[0m\u001b[1;33m\u001b[0m\u001b[1;33m\u001b[0m\u001b[0m\n\u001b[1;32m-> 1462\u001b[1;33m                 \u001b[0mc\u001b[0m \u001b[1;33m=\u001b[0m \u001b[1;33m(\u001b[0m\u001b[0mself\u001b[0m\u001b[1;33m.\u001b[0m\u001b[0m_eval_self\u001b[0m\u001b[1;33m(\u001b[0m\u001b[0mcomplex\u001b[0m\u001b[1;33m)\u001b[0m\u001b[1;33m)\u001b[0m\u001b[1;33m\u001b[0m\u001b[1;33m\u001b[0m\u001b[0m\n\u001b[0m\u001b[0;32m   1463\u001b[0m                 \u001b[1;32mif\u001b[0m \u001b[0mimag\u001b[0m\u001b[1;33m(\u001b[0m\u001b[0mc\u001b[0m\u001b[1;33m)\u001b[0m \u001b[1;33m==\u001b[0m \u001b[1;36m0\u001b[0m\u001b[1;33m:\u001b[0m\u001b[1;33m\u001b[0m\u001b[1;33m\u001b[0m\u001b[0m\n",
      "\u001b[1;32m/home/eric/ubc/research/experimental_sage/SageMath/local/lib/python3.7/site-packages/sage/symbolic/expression.pyx\u001b[0m in \u001b[0;36msage.symbolic.expression.Expression._eval_self (build/cythonized/sage/symbolic/expression.cpp:10063)\u001b[1;34m()\u001b[0m\n\u001b[0;32m   1266\u001b[0m         \u001b[1;32melse\u001b[0m\u001b[1;33m:\u001b[0m\u001b[1;33m\u001b[0m\u001b[1;33m\u001b[0m\u001b[0m\n\u001b[1;32m-> 1267\u001b[1;33m             \u001b[1;32mraise\u001b[0m \u001b[0mTypeError\u001b[0m\u001b[1;33m(\u001b[0m\u001b[1;34m\"Cannot evaluate symbolic expression to a numeric value.\"\u001b[0m\u001b[1;33m)\u001b[0m\u001b[1;33m\u001b[0m\u001b[1;33m\u001b[0m\u001b[0m\n\u001b[0m\u001b[0;32m   1268\u001b[0m \u001b[1;33m\u001b[0m\u001b[0m\n",
      "\u001b[1;31mTypeError\u001b[0m: Cannot evaluate symbolic expression to a numeric value.",
      "\nDuring handling of the above exception, another exception occurred:\n",
      "\u001b[1;31mTypeError\u001b[0m                                 Traceback (most recent call last)",
      "\u001b[1;32m<ipython-input-44-a0e11d4a86ed>\u001b[0m in \u001b[0;36m<module>\u001b[1;34m()\u001b[0m\n\u001b[1;32m----> 1\u001b[1;33m \u001b[0mfind_root\u001b[0m\u001b[1;33m(\u001b[0m\u001b[0mfprime\u001b[0m\u001b[1;33m,\u001b[0m \u001b[0me\u001b[0m\u001b[1;33m,\u001b[0m \u001b[0mInteger\u001b[0m\u001b[1;33m(\u001b[0m\u001b[1;36m1\u001b[0m\u001b[1;33m)\u001b[0m\u001b[1;33m)\u001b[0m\u001b[1;33m\u001b[0m\u001b[1;33m\u001b[0m\u001b[0m\n\u001b[0m",
      "\u001b[1;32m/home/eric/ubc/research/experimental_sage/SageMath/local/lib/python3.7/site-packages/sage/misc/lazy_import.pyx\u001b[0m in \u001b[0;36msage.misc.lazy_import.LazyImport.__call__ (build/cythonized/sage/misc/lazy_import.c:3686)\u001b[1;34m()\u001b[0m\n\u001b[0;32m    351\u001b[0m             \u001b[1;32mTrue\u001b[0m\u001b[1;33m\u001b[0m\u001b[1;33m\u001b[0m\u001b[0m\n\u001b[0;32m    352\u001b[0m         \"\"\"\n\u001b[1;32m--> 353\u001b[1;33m         \u001b[1;32mreturn\u001b[0m \u001b[0mself\u001b[0m\u001b[1;33m.\u001b[0m\u001b[0mget_object\u001b[0m\u001b[1;33m(\u001b[0m\u001b[1;33m)\u001b[0m\u001b[1;33m(\u001b[0m\u001b[1;33m*\u001b[0m\u001b[0margs\u001b[0m\u001b[1;33m,\u001b[0m \u001b[1;33m**\u001b[0m\u001b[0mkwds\u001b[0m\u001b[1;33m)\u001b[0m\u001b[1;33m\u001b[0m\u001b[1;33m\u001b[0m\u001b[0m\n\u001b[0m\u001b[0;32m    354\u001b[0m \u001b[1;33m\u001b[0m\u001b[0m\n\u001b[0;32m    355\u001b[0m     \u001b[1;32mdef\u001b[0m \u001b[0m__repr__\u001b[0m\u001b[1;33m(\u001b[0m\u001b[0mself\u001b[0m\u001b[1;33m)\u001b[0m\u001b[1;33m:\u001b[0m\u001b[1;33m\u001b[0m\u001b[1;33m\u001b[0m\u001b[0m\n",
      "\u001b[1;32m/home/eric/ubc/research/experimental_sage/SageMath/local/lib/python3.7/site-packages/sage/numerical/optimize.py\u001b[0m in \u001b[0;36mfind_root\u001b[1;34m(f, a, b, xtol, rtol, maxiter, full_output)\u001b[0m\n\u001b[0;32m    104\u001b[0m     \"\"\"\n\u001b[0;32m    105\u001b[0m     \u001b[1;32mtry\u001b[0m\u001b[1;33m:\u001b[0m\u001b[1;33m\u001b[0m\u001b[1;33m\u001b[0m\u001b[0m\n\u001b[1;32m--> 106\u001b[1;33m         \u001b[1;32mreturn\u001b[0m \u001b[0mf\u001b[0m\u001b[1;33m.\u001b[0m\u001b[0mfind_root\u001b[0m\u001b[1;33m(\u001b[0m\u001b[0ma\u001b[0m\u001b[1;33m=\u001b[0m\u001b[0ma\u001b[0m\u001b[1;33m,\u001b[0m\u001b[0mb\u001b[0m\u001b[1;33m=\u001b[0m\u001b[0mb\u001b[0m\u001b[1;33m,\u001b[0m\u001b[0mxtol\u001b[0m\u001b[1;33m=\u001b[0m\u001b[0mxtol\u001b[0m\u001b[1;33m,\u001b[0m\u001b[0mrtol\u001b[0m\u001b[1;33m=\u001b[0m\u001b[0mrtol\u001b[0m\u001b[1;33m,\u001b[0m\u001b[0mmaxiter\u001b[0m\u001b[1;33m=\u001b[0m\u001b[0mmaxiter\u001b[0m\u001b[1;33m,\u001b[0m\u001b[0mfull_output\u001b[0m\u001b[1;33m=\u001b[0m\u001b[0mfull_output\u001b[0m\u001b[1;33m)\u001b[0m\u001b[1;33m\u001b[0m\u001b[1;33m\u001b[0m\u001b[0m\n\u001b[0m\u001b[0;32m    107\u001b[0m     \u001b[1;32mexcept\u001b[0m \u001b[0mAttributeError\u001b[0m\u001b[1;33m:\u001b[0m\u001b[1;33m\u001b[0m\u001b[1;33m\u001b[0m\u001b[0m\n\u001b[0;32m    108\u001b[0m         \u001b[1;32mpass\u001b[0m\u001b[1;33m\u001b[0m\u001b[1;33m\u001b[0m\u001b[0m\n",
      "\u001b[1;32m/home/eric/ubc/research/experimental_sage/SageMath/local/lib/python3.7/site-packages/sage/symbolic/expression.pyx\u001b[0m in \u001b[0;36msage.symbolic.expression.Expression.find_root (build/cythonized/sage/symbolic/expression.cpp:61766)\u001b[1;34m()\u001b[0m\n\u001b[0;32m  11853\u001b[0m         \u001b[1;32melif\u001b[0m \u001b[0mself\u001b[0m\u001b[1;33m.\u001b[0m\u001b[0mnumber_of_arguments\u001b[0m\u001b[1;33m(\u001b[0m\u001b[1;33m)\u001b[0m \u001b[1;33m==\u001b[0m \u001b[1;36m1\u001b[0m\u001b[1;33m:\u001b[0m\u001b[1;33m\u001b[0m\u001b[1;33m\u001b[0m\u001b[0m\n\u001b[0;32m  11854\u001b[0m             \u001b[0mf\u001b[0m \u001b[1;33m=\u001b[0m \u001b[0mself\u001b[0m\u001b[1;33m.\u001b[0m\u001b[0m_fast_float_\u001b[0m\u001b[1;33m(\u001b[0m\u001b[0mself\u001b[0m\u001b[1;33m.\u001b[0m\u001b[0mdefault_variable\u001b[0m\u001b[1;33m(\u001b[0m\u001b[1;33m)\u001b[0m\u001b[1;33m)\u001b[0m\u001b[1;33m\u001b[0m\u001b[1;33m\u001b[0m\u001b[0m\n\u001b[1;32m> 11855\u001b[1;33m             return find_root(f, a=a, b=b, xtol=xtol,\n\u001b[0m\u001b[0;32m  11856\u001b[0m                              \u001b[0mrtol\u001b[0m\u001b[1;33m=\u001b[0m\u001b[0mrtol\u001b[0m\u001b[1;33m,\u001b[0m\u001b[0mmaxiter\u001b[0m\u001b[1;33m=\u001b[0m\u001b[0mmaxiter\u001b[0m\u001b[1;33m,\u001b[0m\u001b[1;33m\u001b[0m\u001b[1;33m\u001b[0m\u001b[0m\n\u001b[0;32m  11857\u001b[0m                              full_output=full_output)\n",
      "\u001b[1;32m/home/eric/ubc/research/experimental_sage/SageMath/local/lib/python3.7/site-packages/sage/numerical/optimize.py\u001b[0m in \u001b[0;36mfind_root\u001b[1;34m(f, a, b, xtol, rtol, maxiter, full_output)\u001b[0m\n\u001b[0;32m    107\u001b[0m     \u001b[1;32mexcept\u001b[0m \u001b[0mAttributeError\u001b[0m\u001b[1;33m:\u001b[0m\u001b[1;33m\u001b[0m\u001b[1;33m\u001b[0m\u001b[0m\n\u001b[0;32m    108\u001b[0m         \u001b[1;32mpass\u001b[0m\u001b[1;33m\u001b[0m\u001b[1;33m\u001b[0m\u001b[0m\n\u001b[1;32m--> 109\u001b[1;33m     \u001b[0ma\u001b[0m \u001b[1;33m=\u001b[0m \u001b[0mfloat\u001b[0m\u001b[1;33m(\u001b[0m\u001b[0ma\u001b[0m\u001b[1;33m)\u001b[0m\u001b[1;33m;\u001b[0m \u001b[0mb\u001b[0m \u001b[1;33m=\u001b[0m \u001b[0mfloat\u001b[0m\u001b[1;33m(\u001b[0m\u001b[0mb\u001b[0m\u001b[1;33m)\u001b[0m\u001b[1;33m\u001b[0m\u001b[1;33m\u001b[0m\u001b[0m\n\u001b[0m\u001b[0;32m    110\u001b[0m     \u001b[1;32mif\u001b[0m \u001b[0ma\u001b[0m \u001b[1;33m>\u001b[0m \u001b[0mb\u001b[0m\u001b[1;33m:\u001b[0m\u001b[1;33m\u001b[0m\u001b[1;33m\u001b[0m\u001b[0m\n\u001b[0;32m    111\u001b[0m         \u001b[0ma\u001b[0m\u001b[1;33m,\u001b[0m \u001b[0mb\u001b[0m \u001b[1;33m=\u001b[0m \u001b[0mb\u001b[0m\u001b[1;33m,\u001b[0m \u001b[0ma\u001b[0m\u001b[1;33m\u001b[0m\u001b[1;33m\u001b[0m\u001b[0m\n",
      "\u001b[1;32m/home/eric/ubc/research/experimental_sage/SageMath/local/lib/python3.7/site-packages/sage/symbolic/expression.pyx\u001b[0m in \u001b[0;36msage.symbolic.expression.Expression.__float__ (build/cythonized/sage/symbolic/expression.cpp:11125)\u001b[1;34m()\u001b[0m\n\u001b[0;32m   1466\u001b[0m                     \u001b[1;32mraise\u001b[0m\u001b[1;33m\u001b[0m\u001b[1;33m\u001b[0m\u001b[0m\n\u001b[0;32m   1467\u001b[0m             \u001b[1;32mexcept\u001b[0m \u001b[0mTypeError\u001b[0m\u001b[1;33m:\u001b[0m\u001b[1;33m\u001b[0m\u001b[1;33m\u001b[0m\u001b[0m\n\u001b[1;32m-> 1468\u001b[1;33m                 \u001b[1;32mraise\u001b[0m \u001b[0mTypeError\u001b[0m\u001b[1;33m(\u001b[0m\u001b[1;34m\"unable to simplify to float approximation\"\u001b[0m\u001b[1;33m)\u001b[0m\u001b[1;33m\u001b[0m\u001b[1;33m\u001b[0m\u001b[0m\n\u001b[0m\u001b[0;32m   1469\u001b[0m         \u001b[1;32mreturn\u001b[0m \u001b[0mret\u001b[0m\u001b[1;33m\u001b[0m\u001b[1;33m\u001b[0m\u001b[0m\n\u001b[0;32m   1470\u001b[0m \u001b[1;33m\u001b[0m\u001b[0m\n",
      "\u001b[1;31mTypeError\u001b[0m: unable to simplify to float approximation"
     ]
    }
   ],
   "source": [
    "find_root(fprime, e, 0, 1)"
   ]
  },
  {
   "cell_type": "code",
   "execution_count": null,
   "metadata": {},
   "outputs": [],
   "source": []
  }
 ],
 "metadata": {
  "kernelspec": {
   "display_name": "SageMath 9.1",
   "language": "sage",
   "name": "sagemath"
  },
  "language_info": {
   "codemirror_mode": {
    "name": "ipython",
    "version": 3
   },
   "file_extension": ".py",
   "mimetype": "text/x-python",
   "name": "python",
   "nbconvert_exporter": "python",
   "pygments_lexer": "ipython3",
   "version": "3.7.3"
  }
 },
 "nbformat": 4,
 "nbformat_minor": 2
}
