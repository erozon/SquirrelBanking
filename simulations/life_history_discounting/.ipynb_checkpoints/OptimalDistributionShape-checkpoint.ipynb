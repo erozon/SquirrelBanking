{
 "cells": [
  {
   "cell_type": "markdown",
   "metadata": {},
   "source": [
    "#### Suppose each individual in a population experiences exponential lifespans. Then if an individual $i$ has rate parameter $\\rho_i$, their survival probability until age $a$ is $s(a) = e^{-\\rho_i a}$.  In discrete time, if an individual has death probability $d$, then their survival probability until age $a$ is $s(a) = (1-d)^a$. "
   ]
  },
  {
   "cell_type": "markdown",
   "metadata": {},
   "source": [
    "#### If everybody gets the same $\\rho$, the population survival function is the same as the individual's. But if $\\rho\\sim\\mathcal{D}$ for some distribution $\\mathcal{D}$ with pdf $g(\\rho)$, the population's survival function is different. For instance, if $\\rho = \\rho_j$ w.p. $p_j$ for $j = 1, \\ldots, n$ then the population's suvival function is $s(a) = \\sum p_j e^{-\\rho_j a}$ (in continuous time - discrete time is analogous). If $\\rho$ is continuously distributed, then the population's survival function is $s(a) = \\int_0^\\infty g(\\rho) e^{-\\rho a} d \\rho$. "
   ]
  },
  {
   "cell_type": "markdown",
   "metadata": {},
   "source": [
    "#### Holding $\\mathbb{E}[\\rho]$ constant, how does distribution of $\\rho$ impact survival probability and fitness? Naturally, different distributions result in different survival functions -- I feel like different fitnesses as well, though that one is a little more difficult to justify. But if we have different fitnesses, it seems like we could try to optimize fitness over the space of all distributions with fixed expected rate parameter.  "
   ]
  },
  {
   "cell_type": "code",
   "execution_count": 1,
   "metadata": {},
   "outputs": [],
   "source": [
    "import matplotlib.pyplot as plt"
   ]
  },
  {
   "cell_type": "code",
   "execution_count": 3,
   "metadata": {},
   "outputs": [],
   "source": [
    "def Leslie(fecundity, survival):\n",
    "    n = len(fecundity)\n",
    "    survival = survival[:n-1]\n",
    "    L = zero_matrix(QQ, n)\n",
    "    for i, b in enumerate(fecundity):\n",
    "        L[0, i] = b\n",
    "    for i, s in enumerate(survival):\n",
    "        L[i + 1, i] = s\n",
    "    return(L)\n",
    "\n",
    "def is_essentially_real(x):\n",
    "    if x.imag() == 0:\n",
    "        return(True)\n",
    "    else:\n",
    "        return(False)\n",
    "    \n",
    "#Use of \"if is_essentiallY_real(e)\" rather than \"if e in RR\" is required since some computational errors\n",
    "#    seem to come up in the eigenvalue computation, giving us things like x + 0.?e-80*I.\n",
    "\n",
    "def get_leading_eigenvalue(L):\n",
    "    evals = L.eigenvalues()\n",
    "    moduli = [e.n() for e in evals if is_essentially_real(e)]\n",
    "    moduli = [e for e in moduli if e >= 0]\n",
    "    r = max(moduli)\n",
    "    return(r)\n",
    "\n",
    "def normalize(vec):\n",
    "    tot = sum(vec)\n",
    "    vec = vec/tot\n",
    "    return(vec)\n",
    "\n",
    "def get_leading_evec(L):\n",
    "    r = get_leading_eigenvalue(L)\n",
    "    evecs = L.eigenvectors_right()\n",
    "    arrs = [e[0].n() for e in evecs]\n",
    "    i = arrs.index(r)\n",
    "    leading_evec = evecs[i][1][0]\n",
    "    leading_evec = normalize(leading_evec).n()\n",
    "    return(leading_evec)"
   ]
  },
  {
   "cell_type": "markdown",
   "metadata": {},
   "source": [
    "#### Let $\\gamma$s be distribution of death probability $d$. Let $\\gamma_1 := \\delta_d(\\cdot)$ and $\\gamma_2:=\\frac{1}{2}\\delta_{d - \\varepsilon} + \\frac{1}{2}\\delta_{d + \\varepsilon}$. In the first case, the entire population gets the same death probability $d$ whereas in the second, an individual at birth is assigned either $d - \\varepsilon$ or $d + \\varepsilon$ with equal probability. One can verify that $\\mathbb{E}[d_i] = d$ in each case. "
   ]
  },
  {
   "cell_type": "code",
   "execution_count": 25,
   "metadata": {},
   "outputs": [],
   "source": [
    "def s1(a, d = 0.05):\n",
    "    \"\"\"\n",
    "    Population and individual level probability of surviving to age a given a.s. death rate d.\n",
    "    \"\"\"\n",
    "    return (1 - d)^(a)\n",
    "\n",
    "def s2(a, d = 0.05, epsilon = 0.02):\n",
    "    if epsilon > d:\n",
    "        print('Make sure epsilon < d')\n",
    "        return None\n",
    "    \"\"\"\n",
    "    Population level probability of surviving to age a. At birth, assigned death \n",
    "    prob d - epsilon w.p. 1/2, d + epsilon otherwise. \n",
    "    \"\"\"\n",
    "    return 1/2*(1 - d + epsilon)^a + 1/2*(1 - d - epsilon)^a\n",
    "\n",
    "def instantaneous(surv_func, num = 100):\n",
    "    return [surv_func(a+1)/surv_func(a) for a in range(num)]"
   ]
  },
  {
   "cell_type": "code",
   "execution_count": 27,
   "metadata": {},
   "outputs": [
    {
     "data": {
      "text/plain": [
       "[0.950000000000000,\n",
       " 0.950000000000000,\n",
       " 0.950000000000000,\n",
       " 0.950000000000000,\n",
       " 0.950000000000000,\n",
       " 0.950000000000000,\n",
       " 0.950000000000000,\n",
       " 0.950000000000000,\n",
       " 0.950000000000000,\n",
       " 0.950000000000000]"
      ]
     },
     "execution_count": 27,
     "metadata": {},
     "output_type": "execute_result"
    }
   ],
   "source": [
    "instantaneous(s1, 10)"
   ]
  },
  {
   "cell_type": "code",
   "execution_count": 22,
   "metadata": {},
   "outputs": [],
   "source": [
    "instantaneous_s2 = [s2(a+1)/s2(a) for a in range(2000)]"
   ]
  },
  {
   "cell_type": "markdown",
   "metadata": {},
   "source": [
    "#### I'm finding that it is universally better to be a $\\gamma_2$ individual. Your instantaneous survival probability starts of the same as the $\\gamma_1$ types, and then it just gets better and better. Can I find a case where it is better to have a.s. $d$?"
   ]
  },
  {
   "cell_type": "code",
   "execution_count": 24,
   "metadata": {},
   "outputs": [],
   "source": [
    "def instantaneous(surv_func, num = 100):\n",
    "    return [surv_func(a+1)/surv_func(a) for a in range(num)]"
   ]
  },
  {
   "cell_type": "code",
   "execution_count": null,
   "metadata": {},
   "outputs": [],
   "source": []
  }
 ],
 "metadata": {
  "kernelspec": {
   "display_name": "SageMath 9.2",
   "language": "sage",
   "name": "sagemath"
  },
  "language_info": {
   "codemirror_mode": {
    "name": "ipython",
    "version": 3
   },
   "file_extension": ".py",
   "mimetype": "text/x-python",
   "name": "python",
   "nbconvert_exporter": "python",
   "pygments_lexer": "ipython3",
   "version": "3.9.1"
  }
 },
 "nbformat": 4,
 "nbformat_minor": 4
}
