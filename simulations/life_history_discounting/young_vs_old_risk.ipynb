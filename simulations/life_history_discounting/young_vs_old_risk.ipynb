{
 "cells": [
  {
   "cell_type": "markdown",
   "metadata": {},
   "source": [
    "#### Suppose we have relatively high infant mortality which decays as we age. Also assume we have high old-age mortality, which grows as we age. What then?"
   ]
  },
  {
   "cell_type": "markdown",
   "metadata": {},
   "source": [
    "#### Let $r$ be infant mortality: assume $r_a = r_0 e^{-\\lambda_1 a}$. "
   ]
  },
  {
   "cell_type": "markdown",
   "metadata": {},
   "source": [
    "#### Let $R$ be old age mortality: assume $R_a = R_\\infty (1 - e^{-\\lambda_2 (a-A)})$"
   ]
  },
  {
   "cell_type": "markdown",
   "metadata": {},
   "source": [
    "#### Then the probability of surviving from age $a$ to $a+1$ is $s_a = [1-r_a][1-R_a] = [1-r_0e^{-\\lambda_1 a}][1-R_\\infty(1-e^{-\\lambda_2 (a-A)})]$"
   ]
  },
  {
   "cell_type": "markdown",
   "metadata": {},
   "source": [
    "#### What does $\\frac{1}{s_0 \\cdots s_{a-1}}$ look like?"
   ]
  },
  {
   "cell_type": "code",
   "execution_count": 35,
   "metadata": {},
   "outputs": [],
   "source": [
    "import matplotlib.pyplot as plt"
   ]
  },
  {
   "cell_type": "code",
   "execution_count": 11,
   "metadata": {},
   "outputs": [],
   "source": [
    "def r(a, r0, l1):\n",
    "    return r0*(e^(-l1*a))\n",
    "    \n",
    "def R(a, Rinfty, l2, A):\n",
    "    if a < A:\n",
    "        return 0\n",
    "    else:\n",
    "        return Rinfty*(1 - e^(-l2*a))\n",
    "    "
   ]
  },
  {
   "cell_type": "code",
   "execution_count": 51,
   "metadata": {},
   "outputs": [],
   "source": [
    "def s(a, r0 = 0.3, Rinfty = 0.3, l1 = 0.2, l2 = 0.2, A = 20):\n",
    "    return ((1 - r(a, r0, l1))*(1 - R(a, Rinfty, l2, A))).n()"
   ]
  },
  {
   "cell_type": "code",
   "execution_count": 27,
   "metadata": {},
   "outputs": [
    {
     "data": {
      "text/plain": [
       "0.754380774076606"
      ]
     },
     "execution_count": 27,
     "metadata": {},
     "output_type": "execute_result"
    }
   ],
   "source": [
    "s(1)"
   ]
  },
  {
   "cell_type": "code",
   "execution_count": 32,
   "metadata": {},
   "outputs": [],
   "source": [
    "def get_surv_vec(s, num_days):\n",
    "    surv = [0]*num_days\n",
    "    for k in range(num_days):\n",
    "        surv[k] = s(k)\n",
    "    return surv"
   ]
  },
  {
   "cell_type": "code",
   "execution_count": 33,
   "metadata": {},
   "outputs": [],
   "source": [
    "def inverse_surv(s, num_days):\n",
    "    surv = get_surv_vec(s, num_days)\n",
    "    inv_surv = [1/prod(surv[:k]) for k in range(num_days)]\n",
    "    return inv_surv"
   ]
  },
  {
   "cell_type": "code",
   "execution_count": 34,
   "metadata": {},
   "outputs": [
    {
     "data": {
      "text/plain": [
       "[1,\n",
       " 1.42857142857143,\n",
       " 1.89370073795964,\n",
       " 2.37037337489377,\n",
       " 2.83755899291891,\n",
       " 3.27965174996155,\n",
       " 3.68650901258896,\n",
       " 4.05270433948200,\n",
       " 4.37647173205209,\n",
       " 4.65864073494407]"
      ]
     },
     "execution_count": 34,
     "metadata": {},
     "output_type": "execute_result"
    }
   ],
   "source": [
    "inverse_surv(s, 10)"
   ]
  },
  {
   "cell_type": "code",
   "execution_count": 58,
   "metadata": {},
   "outputs": [
    {
     "data": {
      "text/plain": [
       "[<matplotlib.lines.Line2D object at 0x7fc8d8b23280>]"
      ]
     },
     "execution_count": 58,
     "metadata": {},
     "output_type": "execute_result"
    },
    {
     "data": {
      "image/png": "[encoded data removed]",
      "text/plain": [
       "<Figure size 432x288 with 1 Axes>"
      ]
     },
     "metadata": {
      "needs_background": "light"
     },
     "output_type": "display_data"
    }
   ],
   "source": [
    "plt.plot(inverse_surv(s, 25))"
   ]
  },
  {
   "cell_type": "markdown",
   "metadata": {},
   "source": [
    "#### Most of the time, there will be some age-independent death event that occurs as well. So let's call $r_{\\text{const}}<1$ that risk. Then the updated survival probability is $s_a = (1-r_{\\text{const}}) s_a$."
   ]
  },
  {
   "cell_type": "code",
   "execution_count": 79,
   "metadata": {},
   "outputs": [],
   "source": [
    "def s(a, rconst = 0.04, r0 = 0.3, Rinfty = 0.3, l1 = 0.2, l2 = 0.2, A = 20):\n",
    "    return ((1 - rconst)*(1 - r(a, r0, l1))*(1 - R(a, Rinfty, l2, A))).n()"
   ]
  },
  {
   "cell_type": "code",
   "execution_count": 81,
   "metadata": {},
   "outputs": [
    {
     "data": {
      "text/plain": [
       "[<matplotlib.lines.Line2D object at 0x7fc8d8611b50>]"
      ]
     },
     "execution_count": 81,
     "metadata": {},
     "output_type": "execute_result"
    },
    {
     "data": {
      "image/png": "[encoded data removed]",
      "text/plain": [
       "<Figure size 432x288 with 1 Axes>"
      ]
     },
     "metadata": {
      "needs_background": "light"
     },
     "output_type": "display_data"
    }
   ],
   "source": [
    "plt.plot(inverse_surv(s ,25))"
   ]
  },
  {
   "cell_type": "code",
   "execution_count": null,
   "metadata": {},
   "outputs": [],
   "source": []
  }
 ],
 "metadata": {
  "kernelspec": {
   "display_name": "SageMath 9.2",
   "language": "sage",
   "name": "sagemath"
  },
  "language_info": {
   "codemirror_mode": {
    "name": "ipython",
    "version": 3
   },
   "file_extension": ".py",
   "mimetype": "text/x-python",
   "name": "python",
   "nbconvert_exporter": "python",
   "pygments_lexer": "ipython3",
   "version": "3.9.1"
  }
 },
 "nbformat": 4,
 "nbformat_minor": 4
}
