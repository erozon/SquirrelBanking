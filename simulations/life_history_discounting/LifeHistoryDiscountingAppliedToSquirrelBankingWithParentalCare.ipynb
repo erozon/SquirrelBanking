{
 "cells": [
  {
   "cell_type": "code",
   "execution_count": 2,
   "metadata": {},
   "outputs": [],
   "source": [
    "import plotly.graph_objects as go\n",
    "import plotly.express as px\n",
    "import matplotlib.pyplot as plt"
   ]
  },
  {
   "cell_type": "code",
   "execution_count": 1,
   "metadata": {},
   "outputs": [],
   "source": [
    "def Leslie(fecundity, survival):\n",
    "    n = len(fecundity)\n",
    "    survival = survival[:n-1]\n",
    "    L = zero_matrix(QQ, n)\n",
    "    for i, b in enumerate(fecundity):\n",
    "        L[0, i] = b\n",
    "    for i, s in enumerate(survival):\n",
    "        L[i + 1, i] = s\n",
    "    return(L)\n",
    "\n",
    "\n",
    "\n",
    "def is_essentially_real(x):\n",
    "    if x.imag() == 0:\n",
    "        return(True)\n",
    "    else:\n",
    "        return(False)\n",
    "    \n",
    "#Use of \"if is_essentiallY_real(e)\" rather than \"if e in RR\" is required since some computational errors\n",
    "#    seem to come up in the eigenvalue computation, giving us things like x + 0.?e-80*I.\n",
    "\n",
    "def get_leading_eigenvalue(L):\n",
    "    evals = L.eigenvalues()\n",
    "    moduli = [e.n() for e in evals if is_essentially_real(e)]\n",
    "    moduli = [e for e in moduli if e >= 0]\n",
    "    r = max(moduli)\n",
    "    return(r)\n",
    "\n",
    "def normalize(vec):\n",
    "    tot = sum(vec)\n",
    "    vec = vec/tot\n",
    "    return(vec)\n",
    "\n",
    "def get_leading_evec(L):\n",
    "    r = get_leading_eigenvalue(L)\n",
    "    evecs = L.eigenvectors_right()\n",
    "    arrs = [e[0].n() for e in evecs]\n",
    "    i = arrs.index(r)\n",
    "    leading_evec = evecs[i][1][0]\n",
    "    leading_evec = normalize(leading_evec).n()\n",
    "    return(leading_evec)"
   ]
  },
  {
   "cell_type": "code",
   "execution_count": 3,
   "metadata": {},
   "outputs": [],
   "source": [
    "def increased_fec(fec, by, at):\n",
    "    new_fec = deepcopy(fec)\n",
    "    new_fec[at] = fec[at] + by\n",
    "    return(new_fec)\n",
    "\n",
    "def increased_fitness(inc_fec, surv):\n",
    "    L_inc = Leslie(inc_fec, surv)\n",
    "    r = get_leading_eigenvalue(L_inc)\n",
    "    return r\n"
   ]
  },
  {
   "cell_type": "code",
   "execution_count": 4,
   "metadata": {},
   "outputs": [],
   "source": [
    "def required_increase(fec, surv, at, r0):\n",
    "    '''\n",
    "    For given fecundity and survival, returns required increase to fecundity at \"at\" to increase fitness to r0\n",
    "    '''\n",
    "    def g(b):\n",
    "        inc_fec = increased_fec(fec, b, at)\n",
    "        r1 = increased_fitness(inc_fec, surv)\n",
    "        return r1 - r0\n",
    "#    F = bisection(g, 0, 20)   #Required before (see sagemath ask.com for my question and how it was fixed)\n",
    "    F = find_root(g, 0, 200000 )\n",
    "    return(F)"
   ]
  },
  {
   "cell_type": "code",
   "execution_count": 5,
   "metadata": {},
   "outputs": [],
   "source": [
    "def growth_of_P(fec, surv, P, verbose = False):\n",
    "    n = len(fec)\n",
    "    appreciation_vector = [0]*n\n",
    "    appreciation_vector[0] = P\n",
    "    inc_fec0 = increased_fec(fec, P, 0)\n",
    "    r0 = increased_fitness(inc_fec0, surv)\n",
    "    for a in range(1, floor(n)):\n",
    "        F_a = required_increase(fec, surv, a, r0)\n",
    "        appreciation_vector[a] = F_a\n",
    "        if verbose:\n",
    "            print('appreciated to {}'.format(a))\n",
    "    return(appreciation_vector)\n",
    "\n",
    "def plot_growth_of_P(fec, surv, P, verbose = False):\n",
    "    app_vec = growth_of_P(fec, surv, P, verbose)\n",
    "    fig = go.Figure()\n",
    "    fig.add_trace(go.Scatter(x=list(range(len(app_vec))), y=app_vec,\n",
    "                    mode='markers'))\n",
    "    fig.show()"
   ]
  },
  {
   "cell_type": "markdown",
   "metadata": {},
   "source": [
    "#### Above gives everything needed to visualize necessary appreciation of fecundity bump $P$ at age 0. "
   ]
  },
  {
   "cell_type": "markdown",
   "metadata": {},
   "source": [
    "#### Proceed to compute survival probabilities $s_a$ in the context of Squirrel Banking with a period of parental care."
   ]
  },
  {
   "cell_type": "code",
   "execution_count": 6,
   "metadata": {},
   "outputs": [],
   "source": [
    "def normalize(P0, P1, P2):\n",
    "    p0 = P0/(P0 + P1 + P2)\n",
    "    p1 = P1/(P0 + P1 + P2)\n",
    "    p2 = 1 - p0 - p1\n",
    "    return([p0, p1, p2])\n",
    "\n",
    "def single_Lnow(p0, p1, p2):\n",
    "    L = zero_matrix(QQ, 2)\n",
    "    L[0,0] = p1\n",
    "    L[1, 0] = p2\n",
    "    L[0, 1] = (p1+p2)\n",
    "    L[1, 1] = 0\n",
    "    return L\n",
    "\n",
    "def single_Lpatient(p0, p1, p2):\n",
    "    L = zero_matrix(QQ, 3)\n",
    "    L[0,0] = p1\n",
    "    L[1,0] = p2\n",
    "    L[2, 0] = 0\n",
    "    L[0, 1] = p0\n",
    "    L[1, 1] = p1\n",
    "    L[2, 1] = p2\n",
    "    L[0, 2] = p0\n",
    "    L[1, 2] = (p1 + p2)\n",
    "    L[2, 2] = 0\n",
    "\n",
    "    return L\n",
    "\n",
    "def single_L_betahat(p0, p1, p2, betahat, double_pregnancy = False, s = 1):\n",
    "    normalized = normalize(p0, p1, p2)\n",
    "    p0 = normalized[0]\n",
    "    p1 = normalized[1]    \n",
    "    p2 = normalized[2]\n",
    "    if betahat == 0:\n",
    "        L = Lnow(p0, p1, p2)\n",
    "    elif betahat == 1:\n",
    "        L = Lpatient(p0, p1, p2)\n",
    "    else:\n",
    "        L = zero_matrix(QQ, betahat + 2)\n",
    "        for i in range(betahat+1):\n",
    "            L[i, i] = p1\n",
    "            if i < betahat+1:\n",
    "                L[i + 1, i] = p2\n",
    "                if i > 0:\n",
    "                    L[i-1, i] = p0\n",
    "        L[0, betahat+1] = 0\n",
    "        L[betahat - 1, betahat+1] = p0\n",
    "        L[betahat, betahat+1] = (p1 + p2)\n",
    "        L[betahat+1, betahat+1] = 0      \n",
    "    return(L)\n",
    "\n",
    "def Lnow(p0, p1, p2, double_pregnancy = False):\n",
    "    L = zero_matrix(QQ, 2)\n",
    "    L[0,0] = p1\n",
    "    L[1, 0] = p2\n",
    "    if double_pregnancy == False:\n",
    "        L[0, 1] = 2*(p1+p2)\n",
    "        L[1, 1] = 0\n",
    "    else:\n",
    "        L[0, 1] = 2*p1 + p2\n",
    "        L[1, 1] = p2\n",
    "    return L\n",
    "\n",
    "def Lpatient(p0, p1, p2, double_pregnancy = False):\n",
    "    L = zero_matrix(QQ, 3)\n",
    "    L[0,0] = p1\n",
    "    L[1,0] = p2\n",
    "    L[2, 0] = 0\n",
    "    L[0, 1] = p0\n",
    "    L[1, 1] = p1\n",
    "    L[2, 1] = p2 \n",
    "    L[0, 2] = 1 + p0\n",
    "    if double_pregnancy == False:\n",
    "        L[1, 2] = p1 + p2\n",
    "        L[2, 2] = 0\n",
    "    else:\n",
    "        L[1, 2] = p1\n",
    "        L[2, 2] = p2\n",
    "    return L\n",
    "\n",
    "def L_betahat(p0, p1, p2, betahat, double_pregnancy = False):\n",
    "    normalized = normalize(p0, p1, p2)\n",
    "    p0 = normalized[0]\n",
    "    p1 = normalized[1]    \n",
    "    p2 = normalized[2]\n",
    "    if betahat == 0:\n",
    "        L = Lnow(p0, p1, p2, double_pregnancy)\n",
    "    elif betahat == 1:\n",
    "        L = Lpatient(p0, p1, p2, double_pregnancy)\n",
    "    else:\n",
    "        L = zero_matrix(QQ, betahat + 2)\n",
    "        for i in range(betahat+1):\n",
    "            L[i, i] = p1\n",
    "            if i < betahat+1:\n",
    "                L[i + 1, i] = p2\n",
    "                if i > 0:\n",
    "                    L[i-1, i] = p0\n",
    "        L[0, betahat+1] = 1\n",
    "        L[betahat - 1, betahat+1] = p0\n",
    "        if double_pregnancy == False:\n",
    "            L[betahat, betahat+1] = p1 + p2\n",
    "            L[betahat+1, betahat+1] = 0\n",
    "        else:\n",
    "            L[betahat, betahat + 1] = p1\n",
    "            L[betahat+1, betahat+1] = p2           \n",
    "    return(L)\n"
   ]
  },
  {
   "cell_type": "code",
   "execution_count": 7,
   "metadata": {},
   "outputs": [],
   "source": [
    "def get_surv(L, len_surv = 10):\n",
    "    betahat = L.dimensions()[0] - 2\n",
    "    v = vector([1] + [0]*(betahat+1))\n",
    "    \n",
    "    surv = []\n",
    "    for _ in range(len_surv):\n",
    "        prob_alive = sum(v)\n",
    "        v = L*v\n",
    "        s = sum(v)/prob_alive\n",
    "        surv.append(s)\n",
    "        \n",
    "    return surv    "
   ]
  },
  {
   "cell_type": "markdown",
   "metadata": {},
   "source": [
    "#### Now we know the survival probability of a squirrel in squirrel banking. We also know its fitness. So construct a Leslie matrix with accurate survival probability and constant fecundity yielding the same fitness. This will give us enough to determine the squirrel's evolutionarily optimal discounting schedule."
   ]
  },
  {
   "cell_type": "markdown",
   "metadata": {},
   "source": [
    "#### I think I overcomplicated things a bit. All that really matters is survival vector, so let's focus on getting that."
   ]
  },
  {
   "cell_type": "code",
   "execution_count": 68,
   "metadata": {},
   "outputs": [],
   "source": [
    "def get_inverse_surv(p0, p1, p2, betahat, num_days = 10):\n",
    "    L = single_L_betahat(p0, p1, p2, betahat)\n",
    "    surv = get_surv(L, len_surv = num_days)\n",
    "    inverse_surv = [1/prod(surv[:k]).n() for k in range(len(surv))]\n",
    "    return inverse_surv"
   ]
  },
  {
   "cell_type": "code",
   "execution_count": 112,
   "metadata": {},
   "outputs": [
    {
     "data": {
      "text/plain": [
       "[<matplotlib.lines.Line2D object at 0x7fa7fde5f0a0>]"
      ]
     },
     "execution_count": 112,
     "metadata": {},
     "output_type": "execute_result"
    },
    {
     "data": {
      "image/png": "[encoded data removed]",
      "text/plain": [
       "<Figure size 432x288 with 1 Axes>"
      ]
     },
     "metadata": {
      "needs_background": "light"
     },
     "output_type": "display_data"
    }
   ],
   "source": [
    "plt.plot(get_inverse_surv(1, 1, 5, 3, 100))"
   ]
  },
  {
   "cell_type": "code",
   "execution_count": 96,
   "metadata": {},
   "outputs": [
    {
     "data": {
      "text/plain": [
       "0.979815546318089"
      ]
     },
     "execution_count": 96,
     "metadata": {},
     "output_type": "execute_result"
    }
   ],
   "source": [
    "get_leading_eigenvalue(L_betahat(1.1, 1, 1, 3))"
   ]
  },
  {
   "cell_type": "code",
   "execution_count": 74,
   "metadata": {},
   "outputs": [],
   "source": [
    "def get_appreciation_vec(p0, p1, p2, betahat, num_days = 10):\n",
    "    fitness = get_leading_eigenvalue(L_betahat(p0, p1, p2, betahat))\n",
    "    inverse_surv = get_inverse_surv(p0, p1, p2, betahat, num_days)\n",
    "    appreciation_vec = [fitness^k*inverse_surv[k].n() for k in range(len(inverse_surv))]\n",
    "    return appreciation_vec"
   ]
  },
  {
   "cell_type": "code",
   "execution_count": 115,
   "metadata": {},
   "outputs": [
    {
     "data": {
      "text/plain": [
       "[<matplotlib.lines.Line2D object at 0x7fa7fdd67f40>]"
      ]
     },
     "execution_count": 115,
     "metadata": {},
     "output_type": "execute_result"
    },
    {
     "data": {
      "image/png": "[encoded data removed]",
      "text/plain": [
       "<Figure size 432x288 with 1 Axes>"
      ]
     },
     "metadata": {
      "needs_background": "light"
     },
     "output_type": "display_data"
    }
   ],
   "source": [
    "plt.plot(get_appreciation_vec(1, 1, 1, 5, 200))"
   ]
  },
  {
   "cell_type": "code",
   "execution_count": 63,
   "metadata": {},
   "outputs": [
    {
     "data": {
      "text/plain": [
       "1.00337760515434"
      ]
     },
     "execution_count": 63,
     "metadata": {},
     "output_type": "execute_result"
    }
   ],
   "source": [
    "get_leading_eigenvalue(L_betahat(1, 1, 1.1, 10))"
   ]
  },
  {
   "cell_type": "code",
   "execution_count": 88,
   "metadata": {},
   "outputs": [
    {
     "data": {
      "text/plain": [
       "[0.322580645161290, 0.322580645161290, 0.354838709677419]"
      ]
     },
     "execution_count": 88,
     "metadata": {},
     "output_type": "execute_result"
    }
   ],
   "source": [
    "normalize(1, 1, 1.1)"
   ]
  },
  {
   "cell_type": "code",
   "execution_count": null,
   "metadata": {},
   "outputs": [],
   "source": []
  }
 ],
 "metadata": {
  "kernelspec": {
   "display_name": "SageMath 9.2",
   "language": "sage",
   "name": "sagemath"
  },
  "language_info": {
   "codemirror_mode": {
    "name": "ipython",
    "version": 3
   },
   "file_extension": ".py",
   "mimetype": "text/x-python",
   "name": "python",
   "nbconvert_exporter": "python",
   "pygments_lexer": "ipython3",
   "version": "3.9.1"
  }
 },
 "nbformat": 4,
 "nbformat_minor": 4
}
