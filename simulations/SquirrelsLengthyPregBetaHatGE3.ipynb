{
 "cells": [
  {
   "cell_type": "markdown",
   "metadata": {
    "deletable": true,
    "editable": true
   },
   "source": [
    "#### The original squirrel banking setup assumes the decision to produce offspring yields an immediate payout: you get pregnant, and immediately have an offspring. We now extend to insist that suirrels are pregnant for a day before giving birth; if your food runs below zero while pregnant, both you and your offspring die."
   ]
  },
  {
   "cell_type": "code",
   "execution_count": 1,
   "metadata": {
    "collapsed": true,
    "deletable": true,
    "editable": true
   },
   "outputs": [],
   "source": [
    "import plotly.express as px\n",
    "import pandas as pd"
   ]
  },
  {
   "cell_type": "code",
   "execution_count": 12,
   "metadata": {
    "collapsed": true,
    "deletable": true,
    "editable": true
   },
   "outputs": [],
   "source": [
    "p0, p1, p2 = var('p0, p1, p2')"
   ]
  },
  {
   "cell_type": "code",
   "execution_count": 18,
   "metadata": {
    "collapsed": true,
    "deletable": true,
    "editable": true
   },
   "outputs": [],
   "source": [
    "def sym_Lnow(p0, p1, p2, double_pregnancy = False):\n",
    "    L = zero_matrix(SR, 2)\n",
    "    L[0,0] = p1\n",
    "    L[1, 0] = p2\n",
    "    if double_pregnancy == False:\n",
    "        L[0, 1] = 2*(p1+p2)\n",
    "        L[1, 1] = 0\n",
    "    else:\n",
    "        L[0, 1] = 2*p1 + p2\n",
    "        L[1, 1] = p2\n",
    "    return L\n",
    "\n",
    "def sym_Lpatient(p0, p1, p2, double_pregnancy = False):\n",
    "    L = zero_matrix(SR, 3)\n",
    "    L[0,0] = p1\n",
    "    L[1,0] = p2\n",
    "    L[2, 0] = 0\n",
    "    L[0, 1] = p0\n",
    "    L[1, 1] = p1\n",
    "    L[2, 1] = p2 \n",
    "    L[0, 2] = 1 + p0\n",
    "    if double_pregnancy == False:\n",
    "        L[1, 2] = p1 + p2\n",
    "        L[2, 2] = 0\n",
    "    else:\n",
    "        L[1, 2] = p1\n",
    "        L[2, 2] = p2\n",
    "    return L\n",
    "\n",
    "def sym_L_betahat(p0, p1, p2, betahat, double_pregnancy = False):\n",
    "    if betahat == 0:\n",
    "        L = sym_Lnow(p0, p1, p2, double_pregnancy)\n",
    "    elif betahat == 1:\n",
    "        L = sym_Lpatient(p0, p1, p2, double_pregnancy)\n",
    "    else:\n",
    "        L = zero_matrix(SR, betahat + 2)\n",
    "        for i in range(betahat+1):\n",
    "            L[i, i] = p1\n",
    "            if i < betahat+1:\n",
    "                L[i + 1, i] = p2\n",
    "                if i > 0:\n",
    "                    L[i-1, i] = p0\n",
    "        L[0, betahat+1] = 1\n",
    "        L[betahat - 1, betahat+1] = p0\n",
    "        if double_pregnancy == False:\n",
    "            L[betahat, betahat+1] = p1 + p2\n",
    "            L[betahat+1, betahat+1] = 0\n",
    "        else:\n",
    "            L[betahat, betahat + 1] = p1\n",
    "            L[betahat+1, betahat+1] = p2           \n",
    "    return(L)"
   ]
  },
  {
   "cell_type": "code",
   "execution_count": 23,
   "metadata": {
    "collapsed": false,
    "deletable": true,
    "editable": true
   },
   "outputs": [
    {
     "data": {
      "text/plain": [
       "[     p1      p0       0       0       1]\n",
       "[     p2      p1      p0       0       0]\n",
       "[      0      p2      p1      p0      p0]\n",
       "[      0       0      p2      p1 p1 + p2]\n",
       "[      0       0       0      p2       0]"
      ]
     },
     "execution_count": 23,
     "metadata": {},
     "output_type": "execute_result"
    }
   ],
   "source": [
    "sym_L_betahat(p0, p1, p2, 3)"
   ]
  },
  {
   "cell_type": "code",
   "execution_count": 101,
   "metadata": {
    "collapsed": false,
    "deletable": true,
    "editable": true
   },
   "outputs": [],
   "source": [
    "def normalize(P0, P1, P2):\n",
    "    p0 = P0/(P0 + P1 + P2)\n",
    "    p1 = P1/(P0 + P1 + P2)\n",
    "    p2 = 1 - p0 - p1\n",
    "    return([p0, p1, p2])\n",
    "\n",
    "def Lnow(p0, p1, p2,s = 1, double_pregnancy = False):\n",
    "    L = zero_matrix(QQ, 2)\n",
    "    L[0,0] = p1*s\n",
    "    L[1, 0] = p2*s\n",
    "    if double_pregnancy == False:\n",
    "        L[0, 1] = 2*(p1+p2)*s\n",
    "        L[1, 1] = 0\n",
    "    else:\n",
    "        L[0, 1] = (2*p1 + p2)*s\n",
    "        L[1, 1] = p2*s\n",
    "    return L\n",
    "\n",
    "def Lpatient(p0, p1, p2,s = 1, double_pregnancy = False):\n",
    "    L = zero_matrix(QQ, 3)\n",
    "    L[0,0] = p1*s\n",
    "    L[1,0] = p2*s\n",
    "    L[2, 0] = 0\n",
    "    L[0, 1] = p0*s\n",
    "    L[1, 1] = p1*s\n",
    "    L[2, 1] = p2 *s\n",
    "    L[0, 2] = (1 + p0)*s\n",
    "    if double_pregnancy == False:\n",
    "        L[1, 2] = (p1 + p2)*s\n",
    "        L[2, 2] = 0\n",
    "    else:\n",
    "        L[1, 2] = p1*s\n",
    "        L[2, 2] = p2*s\n",
    "    return L\n",
    "\n",
    "def L_betahat(p0, p1, p2, betahat, double_pregnancy = False, s = 1):\n",
    "    normalized = normalize(p0, p1, p2)\n",
    "    p0 = normalized[0]\n",
    "    p1 = normalized[1]    \n",
    "    p2 = normalized[2]\n",
    "    if betahat == 0:\n",
    "        L = Lnow(p0, p1, p2,s, double_pregnancy)\n",
    "    elif betahat == 1:\n",
    "        L = Lpatient(p0, p1, p2,s, double_pregnancy)\n",
    "    else:\n",
    "        L = zero_matrix(QQ, betahat + 2)\n",
    "        for i in range(betahat+1):\n",
    "            L[i, i] = p1\n",
    "            if i < betahat+1:\n",
    "                L[i + 1, i] = p2*s\n",
    "                if i > 0:\n",
    "                    L[i-1, i] = p0*s\n",
    "        L[0, betahat+1] = 1*s\n",
    "        L[betahat - 1, betahat+1] = p0*s\n",
    "        if double_pregnancy == False:\n",
    "            L[betahat, betahat+1] = (p1 + p2)*s\n",
    "            L[betahat+1, betahat+1] = 0\n",
    "        else:\n",
    "            L[betahat, betahat + 1] = p1*s\n",
    "            L[betahat+1, betahat+1] = p2*s         \n",
    "    return(L)\n",
    "\n",
    "def get_leading_eigenvalue(L):\n",
    "    evals = L.eigenvalues()\n",
    "    moduli = [float(e) for e in evals if e in RR]\n",
    "    moduli = [e for e in moduli if e >= 0]\n",
    "#    moduli = [abs(e) for e in evals]\n",
    "    r = max(moduli)\n",
    "    return(r)\n",
    "\n",
    "\n",
    "def fitness(p0, p1, p2, betahat, double_pregnancy = False, s = 1):\n",
    "    normalized = normalize(p0, p1, p2)\n",
    "    p0 = normalized[0]\n",
    "    p1 = normalized[1]\n",
    "    p2 = normalized[2]\n",
    "    L = L_betahat(p0, p1, p2, betahat, double_pregnancy, s)\n",
    "    r = get_leading_eigenvalue(L)\n",
    "    return(r)\n",
    "\n",
    "def first_five_fitness(p0, p1, p2, double_pregnancy = False, s = 1):\n",
    "    fitnesses = []\n",
    "    for i in range(20):\n",
    "        fitnesses.append(fitness(p0, p1, p2, i, double_pregnancy, s))\n",
    "    return(fitnesses)\n",
    "        "
   ]
  },
  {
   "cell_type": "code",
   "execution_count": 102,
   "metadata": {
    "collapsed": false
   },
   "outputs": [
    {
     "data": {
      "text/plain": [
       "[0.8424119698899946,\n",
       " 0.9808245740441845,\n",
       " 0.9935478975693632,\n",
       " 0.9982153369812194,\n",
       " 1.0002447479774834,\n",
       " 1.001211502038509,\n",
       " 1.0016900970615854,\n",
       " 1.0019238220592825,\n",
       " 1.0020271452474407,\n",
       " 1.0020582533297175,\n",
       " 1.0020484961721063,\n",
       " 1.0020155283524623,\n",
       " 1.0019696291476943,\n",
       " 1.0019169304071789,\n",
       " 1.001861148549049,\n",
       " 1.001804552802041,\n",
       " 1.0017485254174763,\n",
       " 1.001693895334117,\n",
       " 1.0016411418351567,\n",
       " 1.0015905214405292]"
      ]
     },
     "execution_count": 102,
     "metadata": {},
     "output_type": "execute_result"
    }
   ],
   "source": [
    "first_five_fitness(36, 26, 38.5,False)"
   ]
  },
  {
   "cell_type": "code",
   "execution_count": 103,
   "metadata": {
    "collapsed": false,
    "deletable": true,
    "editable": true,
    "scrolled": true
   },
   "outputs": [
    {
     "data": {
      "text/plain": [
       "[0.871102048154313,\n",
       " 0.9763953680972295,\n",
       " 0.9877454676425148,\n",
       " 0.9925330163760127,\n",
       " 0.9949830556127044,\n",
       " 0.9964003778575083,\n",
       " 0.8314419583831054,\n",
       " 0.9978903560054913,\n",
       " 0.9983100622884657,\n",
       " 0.998615998285155,\n",
       " 0.9988458355122984,\n",
       " 0.999022858555574,\n",
       " 0.9991620856805092,\n",
       " 0.9992735546710363,\n",
       " 0.9993641804177775,\n",
       " 0.9994388519189326,\n",
       " 0.999501104774758,\n",
       " 0.9995535470024477,\n",
       " 0.99959813639554,\n",
       " 0.9996363657527354]"
      ]
     },
     "execution_count": 103,
     "metadata": {},
     "output_type": "execute_result"
    }
   ],
   "source": [
    "first_five_fitness(31, 38, 31, double_pregnancy = False)"
   ]
  },
  {
   "cell_type": "code",
   "execution_count": 88,
   "metadata": {
    "collapsed": false
   },
   "outputs": [
    {
     "name": "stdout",
     "output_type": "stream",
     "text": [
      "41\n"
     ]
    }
   ],
   "source": [
    "for i in range(100):\n",
    "    k = 1 - i/100\n",
    "    f2 = first_five_fitness(34, 18, 48, double_pregnancy=False, s=k)[3]\n",
    "    f3 = first_five_fitness(34, 18, 48, double_pregnancy=False, s= k)[4]\n",
    "    if f3>f2:\n",
    "        print(i)\n",
    "        break"
   ]
  },
  {
   "cell_type": "markdown",
   "metadata": {},
   "source": [
    "#### What we see is that an age independence survival rate s < 1 can alter betahat. Compare first_five_fitness(1, 1, 2, double_pregnancy = False, s) for $s\\in\\{1, 0.9\\}$"
   ]
  },
  {
   "cell_type": "markdown",
   "metadata": {},
   "source": [
    "#### Even more: we can get betaht = 3. Compute first_five_fitness(34, 18, 48, double_pregnancy = False, s = 0.6) and compare. Taking s = 0.59 in the above even get us betahat = 4. At  s = 0.5 we get betahat = 5."
   ]
  },
  {
   "cell_type": "code",
   "execution_count": 193,
   "metadata": {
    "collapsed": false,
    "deletable": true,
    "editable": true
   },
   "outputs": [],
   "source": [
    "n = 70\n",
    "triples = []\n",
    "for i in range(n + 1):\n",
    "    first = n - i\n",
    "    for j in range(n - first + 1):\n",
    "        second = j\n",
    "        third = i - j\n",
    "        trip = [first, second, third]\n",
    "        triples.append(trip)\n",
    "\n",
    "first = []\n",
    "second = []\n",
    "third = []\n",
    "for i in range(n + 1):\n",
    "    for j in range(i + 1):\n",
    "        first.append(n - i)\n",
    "        second.append(j)\n",
    "        third.append(i - j)"
   ]
  },
  {
   "cell_type": "code",
   "execution_count": 194,
   "metadata": {
    "collapsed": false,
    "deletable": true,
    "editable": true
   },
   "outputs": [
    {
     "data": {
      "text/plain": [
       "2556"
      ]
     },
     "execution_count": 194,
     "metadata": {},
     "output_type": "execute_result"
    }
   ],
   "source": [
    "len(first)"
   ]
  },
  {
   "cell_type": "code",
   "execution_count": 195,
   "metadata": {
    "collapsed": false,
    "deletable": true,
    "editable": true
   },
   "outputs": [],
   "source": [
    "dbl_preg = False\n",
    "fitness_2 = []\n",
    "fitness_1 = []\n",
    "fitness_0 = []\n",
    "for k in range(len(first)):\n",
    "    f0 = fitness(first[k], second[k], third[k], 0, dbl_preg)\n",
    "    f2 = fitness(first[k], second[k], third[k], 2, dbl_preg)\n",
    "    f1 = fitness(first[k], second[k], third[k], 1, dbl_preg)\n",
    "    fitness_2.append(f2)\n",
    "    fitness_1.append(f1)\n",
    "    fitness_0.append(f0)\n",
    "#    print(k)\n",
    "\n",
    "optimal_betahat = []\n",
    "for k in range(len(fitness_2)):\n",
    "    f0, f1, f2 = fitness_0[k], fitness_1[k], fitness_2[k]\n",
    "    if f0 <= f1:\n",
    "        if f1<= f2:\n",
    "            optimal_betahat.append(2)\n",
    "        else:\n",
    "            optimal_betahat.append(1)\n",
    "    else:\n",
    "        optimal_betahat.append(0)\n",
    "\n",
    "\n",
    "    \n",
    "\n",
    "        \n",
    "    "
   ]
  },
  {
   "cell_type": "code",
   "execution_count": 196,
   "metadata": {
    "collapsed": true,
    "deletable": true,
    "editable": true
   },
   "outputs": [],
   "source": [
    "unital_fitness = deepcopy(optimal_betahat)\n",
    "precision = 0.01\n",
    "for k in range(len(optimal_betahat)):\n",
    "    if (1 - precision < fitness_0[k] < 1 + precision) or (1 - precision < fitness_1[k] < 1 + precision) or (1 - precision < fitness_2[k] < 1 + precision):\n",
    "        unital_fitness[k] = 'unit fitness'\n",
    "    else:\n",
    "        pass"
   ]
  },
  {
   "cell_type": "code",
   "execution_count": 197,
   "metadata": {
    "collapsed": false,
    "deletable": true,
    "editable": true
   },
   "outputs": [],
   "source": [
    "data_dict = {'no nuts':first, 'one nut':second, 'two nuts':third, 'Optimal betahat':optimal_betahat, 'fitness 1':fitness_1, 'fitness 2':fitness_2, 'fitness 0': fitness_0, 'unit fitness':unital_fitness}\n",
    "my_df = pd.DataFrame.from_dict(data_dict)"
   ]
  },
  {
   "cell_type": "code",
   "execution_count": 198,
   "metadata": {
    "collapsed": true,
    "deletable": true,
    "editable": true
   },
   "outputs": [],
   "source": [
    "def is_unit_fitness(row):\n",
    "    if row['unit fitness 0'] == True:\n",
    "        return(0)\n",
    "    elif row['unit fitness 1'] == True:\n",
    "        return(1)\n",
    "    elif row['unit fitness 2'] == True:\n",
    "        return(2)\n",
    "    else:\n",
    "        return(-1)\n"
   ]
  }
 ],
 "metadata": {
  "kernelspec": {
   "display_name": "SageMath 8.0",
   "language": "",
   "name": "sagemath"
  },
  "language_info": {
   "codemirror_mode": {
    "name": "ipython",
    "version": 2
   },
   "file_extension": ".py",
   "mimetype": "text/x-python",
   "name": "python",
   "nbconvert_exporter": "python",
   "pygments_lexer": "ipython2",
   "version": "2.7.13"
  }
 },
 "nbformat": 4,
 "nbformat_minor": 0
}
