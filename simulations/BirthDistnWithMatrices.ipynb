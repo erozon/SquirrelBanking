{
 "cells": [
  {
   "cell_type": "code",
   "execution_count": null,
   "metadata": {
    "collapsed": true
   },
   "outputs": [],
   "source": [
    "U = RealDistribution('uniform', [0, 1])"
   ]
  },
  {
   "cell_type": "code",
   "execution_count": 183,
   "metadata": {
    "collapsed": false
   },
   "outputs": [],
   "source": [
    "#I think this should work for arbitrary matrices. Just make sure the birth_distn and survival parameters\n",
    "#    have the same length. survival = [s_0, s_1, s_2, . . ., s_\\betahat], while \n",
    "#    birth_distn = [b_0, b_1, . . ., b_\\betahat] (where it ends is actually something I should think about more).\n",
    "\n",
    "def arbitrary_L(survival, birth_distn):\n",
    "    if len(survival) != len(birth_distn):\n",
    "        return('Gimme survival and birth_distn of same length')\n",
    "    else:\n",
    "        n = len(survival)\n",
    "    L = zero_matrix(QQ, n)\n",
    "    L[0, 0] = 2*survival[0]*birth_distn[0]\n",
    "    for i in range(1, n):\n",
    "        L[0, i] = survival[i]*birth_distn[i]\n",
    "        L[i, i] = survival[i]*birth_distn[i]\n",
    "    for i in range(n-1):\n",
    "        L[i+1, i] = survival[i]*(1-birth_distn[i])\n",
    "    return(L)\n",
    "\n",
    "def get_leading_eigenvalue(survival, birth_distn = None):\n",
    "    if birth_distn == None:\n",
    "        birth_distn = [0]*len(survival)\n",
    "        birth_distn[-1] = 1\n",
    "    l = arbitrary_L(survival, birth_distn)\n",
    "    evals = l.eigenvalues()\n",
    "    moduli = [abs(e) for e in evals]\n",
    "    r = max(moduli).n()\n",
    "#    pos_real = [e for e in evals if e in RR and e>0]\n",
    "#    if len(pos_real)>1:\n",
    "#        return \"Error: more than one positive, real eigenvalue\"\n",
    "#    else:\n",
    "#        return pos_real[0]\n",
    "    return r\n",
    "get_leading_eigenvalue([1/2, 1/2, 5/6])\n",
    "\n",
    "#We need a function which returns the optimal \\betahat. \n",
    "def get_optimal_betahat(survival):\n",
    "    growth_rates = [0]*len(survival)\n",
    "    growth_rates[0] = survival[0]*2\n",
    "    for i in range(1, len(survival)):\n",
    "        truncated_survival = survival[:i+1]\n",
    "        ri = get_leading_eigenvalue(truncated_survival)\n",
    "        growth_rates[i] = ri\n",
    "    betahat = growth_rates.index(max(growth_rates))\n",
    "    return(betahat)\n",
    "\n",
    "def get_rbetahat(survival):\n",
    "    betahat = get_optimal_betahat(survival)\n",
    "    rbetahat = get_leading_eigenvalue(survival[:betahat + 1])\n",
    "    return(rbetahat)\n",
    "\n",
    "def make_random_survival(n = 10):\n",
    "    survival = [0]*n\n",
    "    for i in range(n):\n",
    "        si = U.get_random_element()\n",
    "        survival[i] = si\n",
    "    return(survival)\n",
    "\n",
    "def make_random_birth_distn(n = 10):\n",
    "    birth_distn = make_random_survival(n)\n",
    "    birth_distn[-1] = 1\n",
    "    return(birth_distn)\n",
    "\n",
    "def test_single_survival(n = 10, num_tests = 10):\n",
    "    exceptions = []\n",
    "    survival = make_random_survival(n)\n",
    "    rbetahat = get_rbetahat(survival)\n",
    "    for _ in range(num_tests):\n",
    "        birth_distn = make_random_birth_distn(n)\n",
    "        rb = get_leading_eigenvalue(survival, birth_distn)\n",
    "        if rb > rbetahat:\n",
    "            exceptions.append(tuple(survival, birth_distn))\n",
    "    if exceptions == []:\n",
    "        return('All good; no exceptions :-)')\n",
    "    else:\n",
    "        return(exceptions)\n",
    "    \n",
    "\n",
    "\n",
    "\n",
    "    "
   ]
  },
  {
   "cell_type": "code",
   "execution_count": 188,
   "metadata": {
    "collapsed": false
   },
   "outputs": [
    {
     "data": {
      "text/plain": [
       "'All good; no exceptions :-)'"
      ]
     },
     "execution_count": 188,
     "metadata": {},
     "output_type": "execute_result"
    }
   ],
   "source": [
    "test_single_survival(n = 6, num_tests = 1000)"
   ]
  },
  {
   "cell_type": "markdown",
   "metadata": {},
   "source": [
    "#### An important note: I had assumed that the leading eigenvalue of our matrix L_b would be unique, just as it is for L. But that isn't the case, so instead I'm going to look at the maximal absolute value, which I feel will still be < r. "
   ]
  },
  {
   "cell_type": "markdown",
   "metadata": {},
   "source": [
    "#### So now we know what the baseline fitness of our population is, for a specific s_0, s_1, and s_2. The quesiton is: can we obtain a higher fitness by varying b from [0, 0,1]? My instinct is no. Why not? If squirrels are best off by waiting until 2 rather than any other level, then why would they be able to do better by having some parts of their population peel off early and start reproducing? Answer: they wouldn't. But we'll see."
   ]
  },
  {
   "cell_type": "code",
   "execution_count": 104,
   "metadata": {
    "collapsed": false
   },
   "outputs": [],
   "source": [
    "s = [1/2, 1/2, 5/6]\n",
    "b = [0, 0,1]\n",
    "r0 = get_leading_eigenvalue(s, b)\n",
    "exceptions = []"
   ]
  },
  {
   "cell_type": "code",
   "execution_count": 120,
   "metadata": {
    "collapsed": false
   },
   "outputs": [],
   "source": [
    "for k in range(1000):\n",
    "    for i in range(2):\n",
    "        bi = U.get_random_element()\n",
    "        b[i] = bi\n",
    "    r = get_leading_eigenvalue(s, b)\n",
    "    if r > r0:\n",
    "        print(\"Exception found :-O\")\n",
    "        exceptions.append(b)"
   ]
  },
  {
   "cell_type": "markdown",
   "metadata": {},
   "source": [
    "#### In the case where all savings levels give the same eigenvalue of 1, a numerics problem makes it look like we can do better by peeling off early. But we actually can't."
   ]
  },
  {
   "cell_type": "code",
   "execution_count": 232,
   "metadata": {
    "collapsed": true
   },
   "outputs": [],
   "source": [
    "s = [1/2, 2/3, 3/4]\n",
    "b = [0, 0,1]\n",
    "r0 = get_leading_eigenvalue(s, b)"
   ]
  },
  {
   "cell_type": "code",
   "execution_count": 233,
   "metadata": {
    "collapsed": false
   },
   "outputs": [
    {
     "data": {
      "text/plain": [
       "28"
      ]
     },
     "execution_count": 233,
     "metadata": {},
     "output_type": "execute_result"
    }
   ],
   "source": [
    "exceptions = []\n",
    "for k in range(100):\n",
    "    b = [0, 0, 1]\n",
    "    for i in range(2):\n",
    "        bi = U.get_random_element()\n",
    "        b[i] = bi\n",
    "    r = get_leading_eigenvalue(s, b)\n",
    "    if r > r0:\n",
    "#        print(\"Exception found :-O\")\n",
    "        exceptions.append(b)\n",
    "len(exceptions)"
   ]
  },
  {
   "cell_type": "code",
   "execution_count": 230,
   "metadata": {
    "collapsed": true
   },
   "outputs": [
    {
     "name": "stdout",
     "output_type": "stream",
     "text": [
      "1.000000000000001?\n",
      "1.000000000000001?\n",
      "1.000000000000001?\n",
      "1.000000000000001?\n",
      "1.000000000000001?\n",
      "1.000000000000001?\n",
      "1.000000000000001?\n",
      "1.000000000000001?\n",
      "1.000000000000001?\n",
      "1.000000000000001?\n",
      "1.000000000000001?\n",
      "1.000000000000001?\n",
      "1.000000000000001?\n",
      "1.000000000000001?\n",
      "1.000000000000001?\n",
      "1.000000000000001?\n",
      "1.000000000000001?\n",
      "1.000000000000001?\n",
      "1.000000000000001?\n",
      "1.000000000000001?\n",
      "1.000000000000001?\n",
      "1.000000000000001?\n",
      "1.000000000000001?\n",
      "1.000000000000001?\n",
      "1.000000000000001?\n",
      "1.000000000000001?\n",
      "1.000000000000001?\n",
      "1.000000000000001?\n",
      "1.000000000000001?\n",
      "1.000000000000001?\n"
     ]
    }
   ],
   "source": [
    "for e in exceptions:\n",
    "    print(get_leading_eigenvalue(s, e))"
   ]
  },
  {
   "cell_type": "markdown",
   "metadata": {},
   "source": [
    "#### In principle I ought to try with other initial distributions. But that becomes tough, since I need to know that my si do reasonable things. I'm convinced that my instinct was correct, and r_{L_b} \\le r_L irrespective of the b"
   ]
  },
  {
   "cell_type": "code",
   "execution_count": 7,
   "metadata": {
    "collapsed": false
   },
   "outputs": [],
   "source": [
    "L = L3([1/2, 1/2, 5/6])\n",
    "v = vector([1, 0, 0])"
   ]
  },
  {
   "cell_type": "code",
   "execution_count": 8,
   "metadata": {
    "collapsed": false
   },
   "outputs": [],
   "source": [
    "def growth(n):\n",
    "    return(L^n*v.n())\n",
    "def growth_rate(L):\n",
    "    v = vector([1, 0, 0])\n",
    "    n0 = sum(L^100*v)\n",
    "    n1 = sum(L^101*v)\n",
    "    return(n1/n0.n())"
   ]
  },
  {
   "cell_type": "code",
   "execution_count": 34,
   "metadata": {
    "collapsed": false
   },
   "outputs": [
    {
     "data": {
      "text/plain": [
       "1.02978824866897"
      ]
     },
     "execution_count": 34,
     "metadata": {},
     "output_type": "execute_result"
    }
   ],
   "source": [
    "growth_rate(L)"
   ]
  },
  {
   "cell_type": "code",
   "execution_count": 14,
   "metadata": {
    "collapsed": false
   },
   "outputs": [
    {
     "data": {
      "text/plain": [
       "1.017929961727893?"
      ]
     },
     "execution_count": 14,
     "metadata": {},
     "output_type": "execute_result"
    }
   ],
   "source": [
    "get_leading_eigenvalue([1/2, 1/2, 5/6], [0, 1/4, 1])"
   ]
  },
  {
   "cell_type": "code",
   "execution_count": 19,
   "metadata": {
    "collapsed": false
   },
   "outputs": [
    {
     "data": {
      "text/plain": [
       "1.00089922027258"
      ]
     },
     "execution_count": 19,
     "metadata": {},
     "output_type": "execute_result"
    }
   ],
   "source": [
    "Lb = L3([1/2, 1/2, 5/6], [0, 49/100, 1])\n",
    "growth_rate(Lb)"
   ]
  },
  {
   "cell_type": "code",
   "execution_count": 170,
   "metadata": {
    "collapsed": false
   },
   "outputs": [],
   "source": [
    "s = make_random_survival(10)\n",
    "b = make_random_birth_distn(10)"
   ]
  },
  {
   "cell_type": "code",
   "execution_count": 176,
   "metadata": {
    "collapsed": false
   },
   "outputs": [
    {
     "name": "stdout",
     "output_type": "stream",
     "text": [
      "CPU times: user 73.6 ms, sys: 4.05 ms, total: 77.6 ms\n",
      "Wall time: 75.1 ms\n"
     ]
    },
    {
     "data": {
      "text/plain": [
       "1.01748135389368"
      ]
     },
     "execution_count": 176,
     "metadata": {},
     "output_type": "execute_result"
    }
   ],
   "source": [
    "%time get_leading_eigenvalue(s, b)"
   ]
  },
  {
   "cell_type": "code",
   "execution_count": null,
   "metadata": {
    "collapsed": true
   },
   "outputs": [],
   "source": []
  }
 ],
 "metadata": {
  "kernelspec": {
   "display_name": "SageMath 7.5.1",
   "language": "",
   "name": "sagemath"
  },
  "language_info": {
   "codemirror_mode": {
    "name": "ipython",
    "version": 2
   },
   "file_extension": ".py",
   "mimetype": "text/x-python",
   "name": "python",
   "nbconvert_exporter": "python",
   "pygments_lexer": "ipython2",
   "version": "2.7.13"
  }
 },
 "nbformat": 4,
 "nbformat_minor": 0
}
