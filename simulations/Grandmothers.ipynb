{
 "cells": [
  {
   "cell_type": "markdown",
   "metadata": {},
   "source": [
    "#### Grandmothers cannot produce offspring. In the simplest setup, where they neither come at a reproductive cost to adults nor help infants, including them in the model does absolutely nothing.  "
   ]
  },
  {
   "cell_type": "code",
   "execution_count": 171,
   "metadata": {
    "collapsed": false
   },
   "outputs": [],
   "source": [
    "def Lgm(sGM, survival):\n",
    "    beta_hat = len(survival) - 2\n",
    "    L = zero_matrix(QQ, beta_hat + 2)\n",
    "    for i, s in enumerate(survival[:-1]):\n",
    "        L[i+1, i] = s + (beta_hat - i)*(sGM)\n",
    "    L[0, beta_hat] = survival[beta_hat] - sGM\n",
    "    L[beta_hat, beta_hat] = survival[beta_hat] - sGM\n",
    "    L[beta_hat + 1, beta_hat] = sGM\n",
    "    L[beta_hat + 1, beta_hat + 1] = survival[beta_hat+1]\n",
    "    return L\n",
    "\n",
    "def get_leading_eigenvalue(L):\n",
    "    evals = L.eigenvalues()\n",
    "    moduli = [abs(e) for e in evals]\n",
    "    r = max(moduli).n()\n",
    "    return(r)\n",
    "\n",
    "def fitness(sGM, survival = (1/2, 2/3, 3/4, 4/5)):\n",
    "    L = Lgm(sGM, survival)\n",
    "    r = get_leading_eigenvalue(L)\n",
    "    return(r)"
   ]
  },
  {
   "cell_type": "code",
   "execution_count": 182,
   "metadata": {
    "collapsed": false
   },
   "outputs": [],
   "source": [
    "L = Lgm(18/100, (1/2, 2/3, 3/4, 4/5))"
   ]
  },
  {
   "cell_type": "code",
   "execution_count": 173,
   "metadata": {
    "collapsed": false
   },
   "outputs": [
    {
     "data": {
      "image/png": "[encoded data removed]",
      "text/plain": [
       "Graphics object consisting of 1 graphics primitive"
      ]
     },
     "execution_count": 173,
     "metadata": {},
     "output_type": "execute_result"
    }
   ],
   "source": [
    "plot(fitness, (x, 0, 1))"
   ]
  },
  {
   "cell_type": "code",
   "execution_count": 174,
   "metadata": {
    "collapsed": false
   },
   "outputs": [
    {
     "name": "stderr",
     "output_type": "stream",
     "text": [
      "/usr/lib/sagemath/local/lib/python2.7/site-packages/sage/repl/ipython_kernel/__main__.py:13: UserWarning: Using generic algorithm for an inexact ring, which will probably give incorrect results due to numerical precision issues.\n"
     ]
    },
    {
     "ename": "TypeError",
     "evalue": "cannot approximate to a precision of 53 bits, use at most 5 bits",
     "output_type": "error",
     "traceback": [
      "\u001b[1;31m---------------------------------------------------------------------------\u001b[0m",
      "\u001b[1;31mTypeError\u001b[0m                                 Traceback (most recent call last)",
      "\u001b[1;32m<ipython-input-174-56f047d7d668>\u001b[0m in \u001b[0;36m<module>\u001b[1;34m()\u001b[0m\n\u001b[1;32m----> 1\u001b[1;33m \u001b[0mget_leading_eigenvalue\u001b[0m\u001b[1;33m(\u001b[0m\u001b[0mL\u001b[0m\u001b[1;33m)\u001b[0m\u001b[1;33m\u001b[0m\u001b[0m\n\u001b[0m",
      "\u001b[1;32m<ipython-input-171-e8d4fadaa1f9>\u001b[0m in \u001b[0;36mget_leading_eigenvalue\u001b[1;34m(L)\u001b[0m\n\u001b[0;32m     13\u001b[0m     \u001b[0mevals\u001b[0m \u001b[1;33m=\u001b[0m \u001b[0mL\u001b[0m\u001b[1;33m.\u001b[0m\u001b[0meigenvalues\u001b[0m\u001b[1;33m(\u001b[0m\u001b[1;33m)\u001b[0m\u001b[1;33m\u001b[0m\u001b[0m\n\u001b[0;32m     14\u001b[0m     \u001b[0mmoduli\u001b[0m \u001b[1;33m=\u001b[0m \u001b[1;33m[\u001b[0m\u001b[0mabs\u001b[0m\u001b[1;33m(\u001b[0m\u001b[0me\u001b[0m\u001b[1;33m)\u001b[0m \u001b[1;32mfor\u001b[0m \u001b[0me\u001b[0m \u001b[1;32min\u001b[0m \u001b[0mevals\u001b[0m\u001b[1;33m]\u001b[0m\u001b[1;33m\u001b[0m\u001b[0m\n\u001b[1;32m---> 15\u001b[1;33m     \u001b[0mr\u001b[0m \u001b[1;33m=\u001b[0m \u001b[0mmax\u001b[0m\u001b[1;33m(\u001b[0m\u001b[0mmoduli\u001b[0m\u001b[1;33m)\u001b[0m\u001b[1;33m.\u001b[0m\u001b[0mn\u001b[0m\u001b[1;33m(\u001b[0m\u001b[1;33m)\u001b[0m\u001b[1;33m\u001b[0m\u001b[0m\n\u001b[0m\u001b[0;32m     16\u001b[0m     \u001b[1;32mreturn\u001b[0m\u001b[1;33m(\u001b[0m\u001b[0mr\u001b[0m\u001b[1;33m)\u001b[0m\u001b[1;33m\u001b[0m\u001b[0m\n\u001b[0;32m     17\u001b[0m \u001b[1;33m\u001b[0m\u001b[0m\n",
      "\u001b[1;32msage/structure/element.pyx\u001b[0m in \u001b[0;36msage.structure.element.Element.n (/usr/lib/sagemath//src/build/cythonized/sage/structure/element.c:7985)\u001b[1;34m()\u001b[0m\n",
      "\u001b[1;32msage/structure/element.pyx\u001b[0m in \u001b[0;36msage.structure.element.Element.numerical_approx (/usr/lib/sagemath//src/build/cythonized/sage/structure/element.c:7806)\u001b[1;34m()\u001b[0m\n",
      "\u001b[1;32msage/arith/numerical_approx.pyx\u001b[0m in \u001b[0;36msage.arith.numerical_approx.numerical_approx_generic (/usr/lib/sagemath//src/build/cythonized/sage/arith/numerical_approx.c:2662)\u001b[1;34m()\u001b[0m\n",
      "\u001b[1;31mTypeError\u001b[0m: cannot approximate to a precision of 53 bits, use at most 5 bits"
     ]
    }
   ],
   "source": [
    "get_leading_eigenvalue(L)"
   ]
  },
  {
   "cell_type": "markdown",
   "metadata": {},
   "source": [
    "#### Of course, it is unreasonable to assume that menopause comes at no reproductive cost. Furthermore, grandmothers help raise children, so it is reasonable to assume that they produce increased survival probabilities for infants. The question is: what is the most reasonable way to encode these assumptions into the Leslie matrix?"
   ]
  },
  {
   "cell_type": "code",
   "execution_count": 188,
   "metadata": {
    "collapsed": false
   },
   "outputs": [
    {
     "data": {
      "text/plain": [
       "[4/5, 0.991868748767028?, -0.2109343743835139? - 0.6115105213215052?*I, -0.2109343743835139? + 0.6115105213215052?*I]"
      ]
     },
     "execution_count": 188,
     "metadata": {},
     "output_type": "execute_result"
    }
   ],
   "source": [
    "evals = L.eigenvalues()\n",
    "evals"
   ]
  },
  {
   "cell_type": "code",
   "execution_count": 186,
   "metadata": {
    "collapsed": false
   },
   "outputs": [],
   "source": [
    "moduli = [abs(e) for e in evals]"
   ]
  },
  {
   "cell_type": "code",
   "execution_count": 187,
   "metadata": {
    "collapsed": false
   },
   "outputs": [
    {
     "data": {
      "text/plain": [
       "0.991868748767028"
      ]
     },
     "execution_count": 187,
     "metadata": {},
     "output_type": "execute_result"
    }
   ],
   "source": [
    "max(moduli).n()"
   ]
  },
  {
   "cell_type": "code",
   "execution_count": 206,
   "metadata": {
    "collapsed": true
   },
   "outputs": [],
   "source": [
    "def LgmSR(sGM, survival, birth):\n",
    "    beta_hat = len(survival) - 2\n",
    "    L = zero_matrix(SR, beta_hat + 2)\n",
    "    for i, s in enumerate(survival[:-1]):\n",
    "        L[i+1, i] = s\n",
    "    L[0, beta_hat] = birth \n",
    "    L[beta_hat, beta_hat] = survival[beta_hat] \n",
    "    L[beta_hat + 1, beta_hat] = sGM\n",
    "    L[beta_hat + 1, beta_hat + 1] = survival[beta_hat+1]\n",
    "    return L"
   ]
  },
  {
   "cell_type": "code",
   "execution_count": 205,
   "metadata": {
    "collapsed": true
   },
   "outputs": [],
   "source": [
    "s0, s1, s2 = var('s0, s1, s2')\n",
    "b = var('b')"
   ]
  },
  {
   "cell_type": "code",
   "execution_count": 198,
   "metadata": {
    "collapsed": false
   },
   "outputs": [],
   "source": [
    "surv = (s0, s1, s2)"
   ]
  },
  {
   "cell_type": "code",
   "execution_count": 199,
   "metadata": {
    "collapsed": true
   },
   "outputs": [],
   "source": [
    "sGM = var('sGM')"
   ]
  },
  {
   "cell_type": "code",
   "execution_count": 207,
   "metadata": {
    "collapsed": false
   },
   "outputs": [],
   "source": [
    "L = LgmSR(sGM, surv, b)"
   ]
  },
  {
   "cell_type": "code",
   "execution_count": 208,
   "metadata": {
    "collapsed": false
   },
   "outputs": [
    {
     "data": {
      "text/plain": [
       "[1/2*s1 - 1/2*sqrt(4*b*s0 + s1^2), 1/2*s1 + 1/2*sqrt(4*b*s0 + s1^2), s2]"
      ]
     },
     "execution_count": 208,
     "metadata": {},
     "output_type": "execute_result"
    }
   ],
   "source": [
    "L.eigenvalues()"
   ]
  },
  {
   "cell_type": "code",
   "execution_count": null,
   "metadata": {
    "collapsed": true
   },
   "outputs": [],
   "source": []
  }
 ],
 "metadata": {
  "kernelspec": {
   "display_name": "SageMath 7.5.1",
   "language": "",
   "name": "sagemath"
  },
  "language_info": {
   "codemirror_mode": {
    "name": "ipython",
    "version": 2
   },
   "file_extension": ".py",
   "mimetype": "text/x-python",
   "name": "python",
   "nbconvert_exporter": "python",
   "pygments_lexer": "ipython2",
   "version": "2.7.13"
  }
 },
 "nbformat": 4,
 "nbformat_minor": 0
}
