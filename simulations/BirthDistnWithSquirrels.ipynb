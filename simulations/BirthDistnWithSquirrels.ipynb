{
 "cells": [
  {
   "cell_type": "markdown",
   "metadata": {},
   "source": [
    "#### P[i] is P(X = i) (sage automatically normalizes). The second cell demonstrates that we do indeed get what we want to. "
   ]
  },
  {
   "cell_type": "code",
   "execution_count": 614,
   "metadata": {
    "collapsed": false
   },
   "outputs": [],
   "source": [
    "U = RealDistribution('uniform', [0, 1])\n",
    "U.get_random_element()\n",
    "survival = [1/2, 1/2, 5/6]\n",
    "#These values for s_i give a fitness of about 1.03 (see birth_distn_experiment)"
   ]
  },
  {
   "cell_type": "code",
   "execution_count": 615,
   "metadata": {
    "collapsed": true
   },
   "outputs": [],
   "source": [
    "#A squirrel is a list that looks like [birth_distn, cached_nuts]. A population of squirrels is a list\n",
    "#    of such lists. \n",
    "\n",
    "def single_squirrel_maker(birth_distn, starting_nuts = 0):\n",
    "    return([birth_distn, starting_nuts])\n",
    "\n",
    "def many_squirrel_maker(n, birth_distn, starting_nuts = 0):\n",
    "    return([[birth_distn, starting_nuts] for s in range(n)])"
   ]
  },
  {
   "cell_type": "code",
   "execution_count": 616,
   "metadata": {
    "collapsed": false
   },
   "outputs": [],
   "source": [
    "def death_process(squirrels, survival = [1/2, 1/2, 6/7]):\n",
    "    dead_squirrels = []\n",
    "    for s in squirrels:\n",
    "        d = U.get_random_element()\n",
    "        squirrel_dies = d > survival[s[1]]\n",
    "        if squirrel_dies:\n",
    "            dead_squirrels.append(s)\n",
    "    for dead in dead_squirrels:\n",
    "        squirrels.remove(dead)\n",
    "    return(squirrels)"
   ]
  },
  {
   "cell_type": "code",
   "execution_count": 617,
   "metadata": {
    "collapsed": false
   },
   "outputs": [
    {
     "data": {
      "text/plain": [
       "48"
      ]
     },
     "execution_count": 617,
     "metadata": {},
     "output_type": "execute_result"
    }
   ],
   "source": [
    "squirrels = many_squirrel_maker(100, [0, 0, 1])\n",
    "len(death_process(squirrels))"
   ]
  },
  {
   "cell_type": "code",
   "execution_count": 618,
   "metadata": {
    "collapsed": false
   },
   "outputs": [],
   "source": [
    "def birth_process(squirrels):\n",
    "    baby_squirrels = []\n",
    "    for i, s in enumerate(squirrels):\n",
    "        b = U.get_random_element()\n",
    "        gives_birth = b < s[0][s[1]]\n",
    "        if gives_birth:\n",
    "            baby_squirrels.append(single_squirrel_maker(s[0]))\n",
    "        else:\n",
    "            squirrels[i] = single_squirrel_maker(s[0], s[1] + 1)\n",
    "    squirrels = squirrels + baby_squirrels\n",
    "    return(squirrels)"
   ]
  },
  {
   "cell_type": "code",
   "execution_count": 619,
   "metadata": {
    "collapsed": false
   },
   "outputs": [
    {
     "data": {
      "text/plain": [
       "157"
      ]
     },
     "execution_count": 619,
     "metadata": {},
     "output_type": "execute_result"
    }
   ],
   "source": [
    "squirrels = squirrel_maker(100, [1/2, 0, 1])\n",
    "len(birth_process(squirrels))"
   ]
  },
  {
   "cell_type": "code",
   "execution_count": 620,
   "metadata": {
    "collapsed": true
   },
   "outputs": [],
   "source": [
    "def single_day(squirrels, survival = [1/2, 1/2, 5/6]):\n",
    "    squirrels = death_process(squirrels, survival = survival)\n",
    "    squirrels = birth_process(squirrels)\n",
    "    return(squirrels)"
   ]
  },
  {
   "cell_type": "code",
   "execution_count": 621,
   "metadata": {
    "collapsed": false
   },
   "outputs": [],
   "source": [
    "def many_days(n, squirrels, survival = [1/2, 1/2, 5/6]):\n",
    "    for _ in range(n):\n",
    "        squirrels = death_process(squirrels, survival = survival)\n",
    "        squirrels = birth_process(squirrels)\n",
    "    return(len(squirrels))"
   ]
  },
  {
   "cell_type": "code",
   "execution_count": 639,
   "metadata": {
    "collapsed": false
   },
   "outputs": [
    {
     "data": {
      "text/plain": [
       "0.0429000000000000"
      ]
     },
     "execution_count": 639,
     "metadata": {},
     "output_type": "execute_result"
    }
   ],
   "source": [
    "results = []\n",
    "squirrels = many_squirrel_maker(10, [1/2, 0, 1], 0)\n",
    "for _ in range(10000):\n",
    "    x = many_days(100, squirrels)\n",
    "    results.append(x)\n",
    "mean(results).n()"
   ]
  },
  {
   "cell_type": "code",
   "execution_count": 638,
   "metadata": {
    "collapsed": false
   },
   "outputs": [
    {
     "data": {
      "text/plain": [
       "1.25900000000000"
      ]
     },
     "execution_count": 638,
     "metadata": {},
     "output_type": "execute_result"
    }
   ],
   "source": [
    "results = []\n",
    "squirrels = many_squirrel_maker(10, [0, 0, 1], 0)\n",
    "for _ in range(1000):\n",
    "    x = many_days(100, squirrels)\n",
    "    results.append(x)\n",
    "mean(results).n()"
   ]
  },
  {
   "cell_type": "markdown",
   "metadata": {},
   "source": [
    "#### It looks like we are okay now. These results are an instance of what I was finding in BirthDistnWithMatrices. The next step is to let an evolutionary process guide us toward the optimal birth distribution b. Doing so will be tough. "
   ]
  },
  {
   "cell_type": "code",
   "execution_count": null,
   "metadata": {
    "collapsed": true
   },
   "outputs": [],
   "source": []
  }
 ],
 "metadata": {
  "kernelspec": {
   "display_name": "SageMath 7.5.1",
   "language": "",
   "name": "sagemath"
  },
  "language_info": {
   "codemirror_mode": {
    "name": "ipython",
    "version": 2
   },
   "file_extension": ".py",
   "mimetype": "text/x-python",
   "name": "python",
   "nbconvert_exporter": "python",
   "pygments_lexer": "ipython2",
   "version": "2.7.13"
  }
 },
 "nbformat": 4,
 "nbformat_minor": 0
}
